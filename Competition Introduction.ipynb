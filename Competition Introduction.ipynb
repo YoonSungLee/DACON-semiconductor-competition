{
 "cells": [
  {
   "cell_type": "markdown",
   "metadata": {},
   "source": [
    "# 1. 개요"
   ]
  },
  {
   "cell_type": "markdown",
   "metadata": {},
   "source": [
    "**1. 배경**<br><br>\n",
    "최근 고사양 반도체 수요가 많아지면서 반도체를 수직으로 적층하는 3차원 공정이 많이 연구되고 있습니다. 반도체 박막을 수십 ~ 수백 층 쌓아 올리는 공정에서는 박막의 결함으로 인한 두께와 균일도가 저하되는 문제가 있습니다. 이는 소자 구조의 변형을 야기하며 성능 하락의 주요 요인이 됩니다. 이를 사전에 방지하기 위해서는 박막의 두께를 빠르면서도 정확히 측정하는 것이 중요합니다.<br>\n",
    "박막의 두께를 측정하기 위해 광스펙트럼 분석이 널리 사용되고 있습니다. 하지만 광 스펙트럼을 분석하기 위해서는 관련 지식을 많이 가진 전문가가 필요하며 분석과정에 많은 컴퓨팅자원이 필요합니다. 빅데이터 분석을 통해 이를 해결하고자 반도체 소자의 두께 분석 알고리즘 경진대회를 개최합니다."
   ]
  },
  {
   "cell_type": "markdown",
   "metadata": {},
   "source": [
    "**2. 주최/주관**<br><br>\n",
    "주최 : DACON<br>\n",
    "주관 : DACON"
   ]
  },
  {
   "cell_type": "markdown",
   "metadata": {},
   "source": [
    "**3. 참가자 대상**<br><br>\n",
    "대한민국 거주 중이며 빅데|이터를 활용한 알고리즘 개발 혹은 반도체에 관심을 보유한 일반인, 학생, 기업 등 누구나"
   ]
  },
  {
   "cell_type": "markdown",
   "metadata": {},
   "source": [
    "# 2. 규칙"
   ]
  },
  {
   "cell_type": "markdown",
   "metadata": {},
   "source": [
    "최대 팀 인원: 3명<br>\n",
    "최대 제출 횟수: 96회<br>\n",
    "일일 최대 제출: 3회<br>\n",
    "채점 방식: MAE"
   ]
  },
  {
   "cell_type": "markdown",
   "metadata": {},
   "source": [
    "**1. 평가**<br><br>\n",
    "본 대회에서는 mean absolute error (MAE) 로 제출 파일을 평가합니다.<br>\n",
    "a) 가채점 순위 : 대회 중 test 데이터의 50% 로 채점합니다.<br>\n",
    "b) 최종 순위 : 가채점에서 사용하지 않은 나머지 test 데이터로 채점합니다. 대회 종료 후에 공개됩니다.<br>\n",
    "최종순위는 참가자가 선택한 파일로 채점되므로, 참가자는 자신이 채점 받고 싶은 제출 파일을 최종적으로 선택해야 합니다."
   ]
  },
  {
   "cell_type": "markdown",
   "metadata": {},
   "source": [
    "**2. 외부 데이터**<br><br>\n",
    "본 대회에는 어떠한 외부데이터 사용이 불가합니다."
   ]
  },
  {
   "cell_type": "markdown",
   "metadata": {},
   "source": [
    "**3. 참가 방법**<br><br>\n",
    "- 개인 참가 방법 : 팀 신청 없이, 자유롭게 제출 창에서 제출 가능<br>\n",
    "- 팀 참가 방법<br>\n",
    "a) 팀장, 팀원 모두 참여하기 버튼 클릭하기<br>\n",
    "b) 팀장이 각 팀원을 검색 (닉네임 or ID or 가입 이메일), 해당 팀원 합체 요청<br>\n",
    "c) 각 팀원은 팀장으로부터 온 팀 병합 요청 수락<br>\n",
    "d) 팀 참가 완료<br>\n",
    "* 한 번 팀으로 등록되면 어떠한 경우에도 팀 탈퇴 및 개인 참여가 불가능합니다.\n",
    "* 하나의 대회에는 하나의 팀으로만 등록이 가능합니다.\n",
    "* 팀의 수상 요건 충족 시 팀의 대표가 수상하게 됩니다."
   ]
  },
  {
   "cell_type": "markdown",
   "metadata": {},
   "source": [
    "**4. 코드**<br><br>\n",
    "1) 입상자는 코드 제출 필수. 제출 코드는 예측 결과를 리더보드 점수로 복원할 수 있어야 함<br>\n",
    "2) 코드 제출시 확장자가 R user는 R or .rmd. Python user는 .py or .ipynb<br>\n",
    "3) 코드에 ‘/data’ 데이터 입/출력 경로 포함 제출<br>\n",
    "4) 전체 프로세스를 일목요연하게 정리하여 주석을 포함하여 하나의 파일로 제출<br>\n",
    "5) 모든 코드는 오류 없이 실행되어야 함(라이브러리 로딩 코드 포함되어야 함).<br>\n",
    "6) 코드와 주석의 인코딩은 모두 UTF-8을 사용하여야 함"
   ]
  },
  {
   "cell_type": "markdown",
   "metadata": {},
   "source": [
    "**5. 토론(질문)**<br><br>\n",
    "해당 대회에서는 대회 운영 및 데이터 이상에 관련된 질문 외에는 답변 드리지 않을 예정입니다.<br>\n",
    "결측치 처리 방법, 모델 구성 방법 등등 대회 운영 및 데이터 이상 외 질문은 토론 페이지를 통해 자유롭게 토론해 주시기 바랍니다.<br>\n",
    "데이콘 답변을 요청하는 경우 토론 제목에 [DACON 답변 요청] 문구를 넣어 질문을 올려 주시기바랍니다. 예) [DACON 답변 요청] 시상식은 언제 열리나요?"
   ]
  },
  {
   "cell_type": "markdown",
   "metadata": {},
   "source": [
    "# 3. Baseline 코드"
   ]
  },
  {
   "cell_type": "code",
   "execution_count": null,
   "metadata": {},
   "outputs": [],
   "source": [
    "#데이터를 불러옵니다.\n",
    "import pandas as pd\n",
    "import warnings\n",
    "warnings.filterwarnings('ignore')\n",
    "train = pd.read_csv('train.csv')\n",
    "test = pd.read_csv('test.csv')\n",
    "\n",
    "\n",
    "#독립변수와 종속변수를 분리합니다.\n",
    "train_X = train.iloc[:,4:]\n",
    "train_Y = train.iloc[:,0:4]\n",
    "test_X = test.iloc[:,1:]\n",
    "\n",
    "\n",
    "#케라스를 통해 모델 생성을 시작합니다.\n",
    "import keras\n",
    "from keras.models import Sequential\n",
    "from keras.layers import Dense\n",
    "model = Sequential()\n",
    "model.add(Dense(units=160, activation='relu', input_dim=226))\n",
    "model.add(Dense(units=160, activation='relu'))\n",
    "model.add(Dense(units=160, activation='relu'))\n",
    "model.add(Dense(units=4, activation='linear'))\n",
    "\n",
    "\n",
    "#모델을 컴파일합니다.\n",
    "model.compile(loss='mae', optimizer='adam', metrics=['mae'])\n",
    "\n",
    "\n",
    "#모델을 학습합니다.\n",
    "model.fit(train_X, train_Y, epochs=20, batch_size=10000, validation_split = 0.05)\n",
    "\n",
    "\n",
    "#예측값을 생성합니다.\n",
    "pred_test = model.predict(test_X)\n",
    "\n",
    "\n",
    "#submission 파일을 생성합니다.\n",
    "sample_sub = pd.read_csv('sample_submission.csv', index_col=0)\n",
    "submission = sample_sub+pred_test\n",
    "submission.to_csv('submission.csv')"
   ]
  },
  {
   "cell_type": "markdown",
   "metadata": {},
   "source": [
    "# 4. 토론"
   ]
  },
  {
   "cell_type": "markdown",
   "metadata": {},
   "source": [
    "이번 대회에서 분석할 소자는 질화규소(layer_1)/이산화규소(layer_2)/질화규소(layer_3)/이산화규소(layer_4)/규소(기판) 총 5층 구조로 되어 있습니다.<br>\n",
    "즉 layer_1이 가장 바깥층(가장 위층)이다."
   ]
  },
  {
   "cell_type": "markdown",
   "metadata": {},
   "source": [
    "음의 반사율이 존재한다. 따라서 이 데이터의 의미를 찾거나 데이터를 처리할 방법을 찾아야 할 필요가 있다."
   ]
  },
  {
   "cell_type": "markdown",
   "metadata": {},
   "source": [
    "input과 output이 직선의 관계가 아니기 때문에 회귀모형은 적합하지 않을 것 같습니다.<br>\n",
    "의사결정나무 모형 기반의 random forest, gbm, xgboost를 쓰시려면 충분히 복잡한 모형 적합이 필요할 것 같구요,<br>\n",
    "제가 잘 모르지만 deep learning이 output layer 설정이 가능해서 기본적으로 퍼포먼스가 좋을 것처럼 보입니다.<br>\n",
    "layer_1\\~4 각각이 아니라 layer_1\\~4을 최종 레이어로 잡는다면요!<br>\n",
    "사실 엄밀하게 따져서 layer_1\\~4가 input이고 226개 반사율이 output인데,<br>\n",
    "이 문제는 226개 반사율로 layer_1\\~4를 추측하는 것이 목적이네요.<br>\n",
    "그럼 고전적으로 많이 쓰는 확률적인 접근도 괜찮을 것 같습니다."
   ]
  },
  {
   "cell_type": "markdown",
   "metadata": {},
   "source": [
    "먼저 데이터를 살펴보면,<br>\n",
    "데이터의 컬럼수가 많고, 각 컬럼이 의미하는바가 뚜렷하지 않아서 전형적으로 딥러닝을 이용하는 문제입니다.<br>\n",
    "따라서, 데이콘 베이스라인 초급자용 코드 역시 가장 기본적인 딥러닝 (MLP) 모델을 주고 있는데요.<br>\n",
    "이렇게 단순한 MLP 모델로 1점대 후반까지 도달할 수 있습니다.<br>\n",
    "만약 점수가 잘 나오지 않으시면,<br>\n",
    "레이어를 더 쌓아보시거나 드랍아웃을 추가하신다든가,<br>\n",
    "배치사이즈 조정이나 에포크를 충분히 주시면 될 것 같습니다.<br>\n",
    "기본적으로, 데이터 양이 꽤 있고 데이터가 굉장히 복잡해서, <br>\n",
    "레이어도 꽤 쌓고 에포크를 충분히 주셔야 잘 학습할 겁니다.<br>\n",
    "딥러닝이나 케라스에 대한 튜토리얼은 김태영님 블로그(https://tykimos.github.io/lecture/) 에 아주 잘 설명돼있습니다."
   ]
  }
 ],
 "metadata": {
  "kernelspec": {
   "display_name": "Python 3",
   "language": "python",
   "name": "python3"
  },
  "language_info": {
   "codemirror_mode": {
    "name": "ipython",
    "version": 3
   },
   "file_extension": ".py",
   "mimetype": "text/x-python",
   "name": "python",
   "nbconvert_exporter": "python",
   "pygments_lexer": "ipython3",
   "version": "3.7.3"
  }
 },
 "nbformat": 4,
 "nbformat_minor": 2
}
