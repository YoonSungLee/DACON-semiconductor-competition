{
 "cells": [
  {
   "cell_type": "markdown",
   "metadata": {
    "colab_type": "text",
    "id": "view-in-github"
   },
   "source": [
    "<a href=\"https://colab.research.google.com/github/Inha-AI/DACON-semiconductor-competition/blob/feature%2FYoonSungLee/submission_02.ipynb\" target=\"_parent\"><img src=\"https://colab.research.google.com/assets/colab-badge.svg\" alt=\"Open In Colab\"/></a>"
   ]
  },
  {
   "cell_type": "code",
   "execution_count": 0,
   "metadata": {
    "colab": {
     "base_uri": "https://localhost:8080/",
     "height": 101
    },
    "colab_type": "code",
    "id": "C3ZVIQWYNsL1",
    "outputId": "99b315da-11ec-4d45-ca77-218780a9e839"
   },
   "outputs": [
    {
     "name": "stderr",
     "output_type": "stream",
     "text": [
      "Using TensorFlow backend.\n"
     ]
    },
    {
     "data": {
      "text/html": [
       "<p style=\"color: red;\">\n",
       "The default version of TensorFlow in Colab will soon switch to TensorFlow 2.x.<br>\n",
       "We recommend you <a href=\"https://www.tensorflow.org/guide/migrate\" target=\"_blank\">upgrade</a> now \n",
       "or ensure your notebook will continue to use TensorFlow 1.x via the <code>%tensorflow_version 1.x</code> magic:\n",
       "<a href=\"https://colab.research.google.com/notebooks/tensorflow_version.ipynb\" target=\"_blank\">more info</a>.</p>\n"
      ],
      "text/plain": [
       "<IPython.core.display.HTML object>"
      ]
     },
     "metadata": {
      "tags": []
     },
     "output_type": "display_data"
    }
   ],
   "source": [
    "import numpy as np\n",
    "import pandas as pd\n",
    "import matplotlib.pyplot as plt\n",
    "import keras\n",
    "from keras.models import Sequential\n",
    "from keras.layers import Dense, Activation, Dropout\n",
    "from keras.layers import BatchNormalization"
   ]
  },
  {
   "cell_type": "code",
   "execution_count": 0,
   "metadata": {
    "colab": {
     "base_uri": "https://localhost:8080/",
     "height": 131
    },
    "colab_type": "code",
    "id": "BtX4S0fhOhWy",
    "outputId": "95da28b8-b6d3-4ab1-b2fc-fc14cf753aaf"
   },
   "outputs": [
    {
     "name": "stdout",
     "output_type": "stream",
     "text": [
      "Go to this URL in a browser: https://accounts.google.com/o/oauth2/auth?client_id=947318989803-6bn6qk8qdgf4n4g3pfee6491hc0brc4i.apps.googleusercontent.com&redirect_uri=urn%3aietf%3awg%3aoauth%3a2.0%3aoob&response_type=code&scope=email%20https%3a%2f%2fwww.googleapis.com%2fauth%2fdocs.test%20https%3a%2f%2fwww.googleapis.com%2fauth%2fdrive%20https%3a%2f%2fwww.googleapis.com%2fauth%2fdrive.photos.readonly%20https%3a%2f%2fwww.googleapis.com%2fauth%2fpeopleapi.readonly\n",
      "\n",
      "Enter your authorization code:\n",
      "··········\n",
      "Mounted at /gdrive\n"
     ]
    }
   ],
   "source": [
    "from google.colab import drive\n",
    "drive.mount('/gdrive')"
   ]
  },
  {
   "cell_type": "code",
   "execution_count": 0,
   "metadata": {
    "colab": {},
    "colab_type": "code",
    "id": "SmW-tEqAN6Bz"
   },
   "outputs": [],
   "source": [
    "df_train = pd.read_csv('/gdrive/My Drive/DACON-semiconductor-competition/dataset/train.csv')\n",
    "df_test = pd.read_csv('/gdrive/My Drive/DACON-semiconductor-competition/dataset/test.csv')"
   ]
  },
  {
   "cell_type": "code",
   "execution_count": 0,
   "metadata": {
    "colab": {},
    "colab_type": "code",
    "id": "VtsP9b3iO_ng"
   },
   "outputs": [],
   "source": [
    "# 독립변수와 종속변수를 분리합니다.\n",
    "\n",
    "train_X = df_train.iloc[:,4:]\n",
    "train_Y = df_train.iloc[:,0:4]\n",
    "test_X = df_test.iloc[:,1:]"
   ]
  },
  {
   "cell_type": "markdown",
   "metadata": {
    "colab_type": "text",
    "id": "1JadMl17PyND"
   },
   "source": [
    "# Model 2"
   ]
  },
  {
   "cell_type": "markdown",
   "metadata": {},
   "source": [
    "* 5 layers\n",
    "* 160 units, he_normal, relu\n",
    "* BatchNormalization\n",
    "* Adam(0.001)\n",
    "* epochs 100\n",
    "* batch_size 500\n",
    "<br><br>\n",
    "* epochs는 더욱 늘리고 batch_size는 더욱 줄여서 가중치 업데이트량을 증가시킴\n",
    "* Model 1과 비교하여 모델의 성능이 소폭 향상"
   ]
  },
  {
   "cell_type": "code",
   "execution_count": 0,
   "metadata": {
    "colab": {
     "base_uri": "https://localhost:8080/",
     "height": 1000
    },
    "colab_type": "code",
    "id": "t_DubUFyO_2I",
    "outputId": "89db4cf1-01d8-4c11-f957-ca44703c6036"
   },
   "outputs": [
    {
     "name": "stdout",
     "output_type": "stream",
     "text": [
      "Train on 769500 samples, validate on 40500 samples\n",
      "Epoch 1/100\n",
      "769500/769500 [==============================] - 19s 25us/step - loss: 71.3666 - mean_absolute_error: 71.3666 - val_loss: 54.7760 - val_mean_absolute_error: 54.7760\n",
      "Epoch 2/100\n",
      "769500/769500 [==============================] - 19s 24us/step - loss: 29.2950 - mean_absolute_error: 29.2950 - val_loss: 42.8107 - val_mean_absolute_error: 42.8107\n",
      "Epoch 3/100\n",
      "769500/769500 [==============================] - 18s 24us/step - loss: 22.9559 - mean_absolute_error: 22.9559 - val_loss: 38.8424 - val_mean_absolute_error: 38.8424\n",
      "Epoch 4/100\n",
      "769500/769500 [==============================] - 18s 24us/step - loss: 20.4617 - mean_absolute_error: 20.4617 - val_loss: 37.2047 - val_mean_absolute_error: 37.2047\n",
      "Epoch 5/100\n",
      "769500/769500 [==============================] - 19s 24us/step - loss: 18.8972 - mean_absolute_error: 18.8972 - val_loss: 36.3784 - val_mean_absolute_error: 36.3784\n",
      "Epoch 6/100\n",
      "769500/769500 [==============================] - 18s 23us/step - loss: 17.7048 - mean_absolute_error: 17.7048 - val_loss: 34.2786 - val_mean_absolute_error: 34.2786\n",
      "Epoch 7/100\n",
      "769500/769500 [==============================] - 18s 24us/step - loss: 16.7725 - mean_absolute_error: 16.7725 - val_loss: 33.1399 - val_mean_absolute_error: 33.1399\n",
      "Epoch 8/100\n",
      "769500/769500 [==============================] - 18s 24us/step - loss: 16.0058 - mean_absolute_error: 16.0058 - val_loss: 33.0314 - val_mean_absolute_error: 33.0314\n",
      "Epoch 9/100\n",
      "769500/769500 [==============================] - 19s 24us/step - loss: 15.3422 - mean_absolute_error: 15.3422 - val_loss: 32.4379 - val_mean_absolute_error: 32.4379\n",
      "Epoch 10/100\n",
      "769500/769500 [==============================] - 19s 24us/step - loss: 14.7859 - mean_absolute_error: 14.7859 - val_loss: 30.8230 - val_mean_absolute_error: 30.8230\n",
      "Epoch 11/100\n",
      "769500/769500 [==============================] - 18s 24us/step - loss: 14.2922 - mean_absolute_error: 14.2922 - val_loss: 30.4213 - val_mean_absolute_error: 30.4213\n",
      "Epoch 12/100\n",
      "769500/769500 [==============================] - 18s 24us/step - loss: 13.8170 - mean_absolute_error: 13.8170 - val_loss: 28.7938 - val_mean_absolute_error: 28.7938\n",
      "Epoch 13/100\n",
      "769500/769500 [==============================] - 18s 23us/step - loss: 13.4224 - mean_absolute_error: 13.4224 - val_loss: 29.3868 - val_mean_absolute_error: 29.3868\n",
      "Epoch 14/100\n",
      "769500/769500 [==============================] - 18s 23us/step - loss: 13.0508 - mean_absolute_error: 13.0508 - val_loss: 27.1816 - val_mean_absolute_error: 27.1816\n",
      "Epoch 15/100\n",
      "769500/769500 [==============================] - 18s 24us/step - loss: 12.7717 - mean_absolute_error: 12.7717 - val_loss: 29.3289 - val_mean_absolute_error: 29.3289\n",
      "Epoch 16/100\n",
      "769500/769500 [==============================] - 18s 23us/step - loss: 12.4480 - mean_absolute_error: 12.4480 - val_loss: 28.4391 - val_mean_absolute_error: 28.4391\n",
      "Epoch 17/100\n",
      "769500/769500 [==============================] - 18s 24us/step - loss: 12.1847 - mean_absolute_error: 12.1847 - val_loss: 26.6283 - val_mean_absolute_error: 26.6283\n",
      "Epoch 18/100\n",
      "769500/769500 [==============================] - 18s 24us/step - loss: 11.9494 - mean_absolute_error: 11.9494 - val_loss: 27.9537 - val_mean_absolute_error: 27.9537\n",
      "Epoch 19/100\n",
      "769500/769500 [==============================] - 18s 24us/step - loss: 11.7381 - mean_absolute_error: 11.7381 - val_loss: 28.3010 - val_mean_absolute_error: 28.3010\n",
      "Epoch 20/100\n",
      "769500/769500 [==============================] - 18s 24us/step - loss: 11.5309 - mean_absolute_error: 11.5309 - val_loss: 26.6868 - val_mean_absolute_error: 26.6868\n",
      "Epoch 21/100\n",
      "769500/769500 [==============================] - 18s 24us/step - loss: 11.3162 - mean_absolute_error: 11.3162 - val_loss: 28.1189 - val_mean_absolute_error: 28.1189\n",
      "Epoch 22/100\n",
      "769500/769500 [==============================] - 18s 23us/step - loss: 11.1657 - mean_absolute_error: 11.1657 - val_loss: 28.0011 - val_mean_absolute_error: 28.0011\n",
      "Epoch 23/100\n",
      "769500/769500 [==============================] - 18s 23us/step - loss: 11.0347 - mean_absolute_error: 11.0347 - val_loss: 25.8521 - val_mean_absolute_error: 25.8521\n",
      "Epoch 24/100\n",
      "769500/769500 [==============================] - 18s 24us/step - loss: 10.8796 - mean_absolute_error: 10.8796 - val_loss: 25.5388 - val_mean_absolute_error: 25.5388\n",
      "Epoch 25/100\n",
      "769500/769500 [==============================] - 18s 24us/step - loss: 10.7431 - mean_absolute_error: 10.7431 - val_loss: 25.1404 - val_mean_absolute_error: 25.1404\n",
      "Epoch 26/100\n",
      "769500/769500 [==============================] - 18s 23us/step - loss: 10.6482 - mean_absolute_error: 10.6482 - val_loss: 25.2745 - val_mean_absolute_error: 25.2745\n",
      "Epoch 27/100\n",
      "769500/769500 [==============================] - 18s 24us/step - loss: 10.4976 - mean_absolute_error: 10.4976 - val_loss: 26.5114 - val_mean_absolute_error: 26.5114\n",
      "Epoch 28/100\n",
      "769500/769500 [==============================] - 18s 24us/step - loss: 10.3541 - mean_absolute_error: 10.3541 - val_loss: 25.0175 - val_mean_absolute_error: 25.0175\n",
      "Epoch 29/100\n",
      "769500/769500 [==============================] - 18s 23us/step - loss: 10.2788 - mean_absolute_error: 10.2788 - val_loss: 26.0763 - val_mean_absolute_error: 26.0763\n",
      "Epoch 30/100\n",
      "769500/769500 [==============================] - 18s 24us/step - loss: 10.1626 - mean_absolute_error: 10.1626 - val_loss: 25.5177 - val_mean_absolute_error: 25.5177\n",
      "Epoch 31/100\n",
      "769500/769500 [==============================] - 18s 24us/step - loss: 10.0921 - mean_absolute_error: 10.0921 - val_loss: 25.4437 - val_mean_absolute_error: 25.4437\n",
      "Epoch 32/100\n",
      "769500/769500 [==============================] - 18s 23us/step - loss: 9.9979 - mean_absolute_error: 9.9979 - val_loss: 25.3009 - val_mean_absolute_error: 25.3009\n",
      "Epoch 33/100\n",
      "769500/769500 [==============================] - 18s 23us/step - loss: 9.8881 - mean_absolute_error: 9.8881 - val_loss: 25.6232 - val_mean_absolute_error: 25.6232\n",
      "Epoch 34/100\n",
      "769500/769500 [==============================] - 18s 23us/step - loss: 9.8124 - mean_absolute_error: 9.8124 - val_loss: 23.9367 - val_mean_absolute_error: 23.9367\n",
      "Epoch 35/100\n",
      "769500/769500 [==============================] - 18s 24us/step - loss: 9.7331 - mean_absolute_error: 9.7331 - val_loss: 24.6357 - val_mean_absolute_error: 24.6357\n",
      "Epoch 36/100\n",
      "769500/769500 [==============================] - 18s 23us/step - loss: 9.6801 - mean_absolute_error: 9.6801 - val_loss: 25.5336 - val_mean_absolute_error: 25.5336\n",
      "Epoch 37/100\n",
      "769500/769500 [==============================] - 18s 24us/step - loss: 9.5892 - mean_absolute_error: 9.5892 - val_loss: 26.0577 - val_mean_absolute_error: 26.0577\n",
      "Epoch 38/100\n",
      "769500/769500 [==============================] - 18s 24us/step - loss: 9.5028 - mean_absolute_error: 9.5028 - val_loss: 23.9012 - val_mean_absolute_error: 23.9012\n",
      "Epoch 39/100\n",
      "769500/769500 [==============================] - 18s 23us/step - loss: 9.4529 - mean_absolute_error: 9.4529 - val_loss: 24.4571 - val_mean_absolute_error: 24.4571\n",
      "Epoch 40/100\n",
      "769500/769500 [==============================] - 18s 24us/step - loss: 9.3800 - mean_absolute_error: 9.3800 - val_loss: 25.9078 - val_mean_absolute_error: 25.9078\n",
      "Epoch 41/100\n",
      "769500/769500 [==============================] - 18s 23us/step - loss: 9.3272 - mean_absolute_error: 9.3272 - val_loss: 23.7925 - val_mean_absolute_error: 23.7925\n",
      "Epoch 42/100\n",
      "769500/769500 [==============================] - 18s 24us/step - loss: 9.2609 - mean_absolute_error: 9.2609 - val_loss: 24.0032 - val_mean_absolute_error: 24.0032\n",
      "Epoch 43/100\n",
      "769500/769500 [==============================] - 18s 24us/step - loss: 9.2232 - mean_absolute_error: 9.2232 - val_loss: 23.8232 - val_mean_absolute_error: 23.8232\n",
      "Epoch 44/100\n",
      "769500/769500 [==============================] - 18s 24us/step - loss: 9.1614 - mean_absolute_error: 9.1614 - val_loss: 24.4098 - val_mean_absolute_error: 24.4098\n",
      "Epoch 45/100\n",
      "769500/769500 [==============================] - 18s 24us/step - loss: 9.0945 - mean_absolute_error: 9.0945 - val_loss: 24.2948 - val_mean_absolute_error: 24.2948\n",
      "Epoch 46/100\n",
      "769500/769500 [==============================] - 18s 24us/step - loss: 9.0340 - mean_absolute_error: 9.0340 - val_loss: 22.9560 - val_mean_absolute_error: 22.9560\n",
      "Epoch 47/100\n",
      "769500/769500 [==============================] - 18s 24us/step - loss: 8.9766 - mean_absolute_error: 8.9766 - val_loss: 23.1596 - val_mean_absolute_error: 23.1596\n",
      "Epoch 48/100\n",
      "769500/769500 [==============================] - 18s 24us/step - loss: 8.9269 - mean_absolute_error: 8.9269 - val_loss: 23.0423 - val_mean_absolute_error: 23.0423\n",
      "Epoch 49/100\n",
      "769500/769500 [==============================] - 18s 23us/step - loss: 8.9105 - mean_absolute_error: 8.9105 - val_loss: 23.2730 - val_mean_absolute_error: 23.2730\n",
      "Epoch 50/100\n",
      "769500/769500 [==============================] - 18s 24us/step - loss: 8.8474 - mean_absolute_error: 8.8474 - val_loss: 24.3894 - val_mean_absolute_error: 24.3894\n",
      "Epoch 51/100\n",
      "769500/769500 [==============================] - 18s 24us/step - loss: 8.7946 - mean_absolute_error: 8.7946 - val_loss: 22.8290 - val_mean_absolute_error: 22.8290\n",
      "Epoch 52/100\n",
      "769500/769500 [==============================] - 18s 24us/step - loss: 8.7811 - mean_absolute_error: 8.7811 - val_loss: 22.7204 - val_mean_absolute_error: 22.7204\n",
      "Epoch 53/100\n",
      "769500/769500 [==============================] - 18s 24us/step - loss: 8.7510 - mean_absolute_error: 8.7510 - val_loss: 24.3620 - val_mean_absolute_error: 24.3620\n",
      "Epoch 54/100\n",
      "769500/769500 [==============================] - 18s 23us/step - loss: 8.6612 - mean_absolute_error: 8.6612 - val_loss: 22.7009 - val_mean_absolute_error: 22.7009\n",
      "Epoch 55/100\n",
      "769500/769500 [==============================] - 18s 24us/step - loss: 8.6590 - mean_absolute_error: 8.6590 - val_loss: 22.2810 - val_mean_absolute_error: 22.2810\n",
      "Epoch 56/100\n",
      "769500/769500 [==============================] - 18s 23us/step - loss: 8.5950 - mean_absolute_error: 8.5950 - val_loss: 22.8104 - val_mean_absolute_error: 22.8104\n",
      "Epoch 57/100\n",
      "769500/769500 [==============================] - 18s 24us/step - loss: 8.5783 - mean_absolute_error: 8.5783 - val_loss: 22.6793 - val_mean_absolute_error: 22.6793\n",
      "Epoch 58/100\n",
      "769500/769500 [==============================] - 18s 24us/step - loss: 8.5475 - mean_absolute_error: 8.5475 - val_loss: 21.9963 - val_mean_absolute_error: 21.9963\n",
      "Epoch 59/100\n",
      "769500/769500 [==============================] - 18s 23us/step - loss: 8.5305 - mean_absolute_error: 8.5305 - val_loss: 22.7416 - val_mean_absolute_error: 22.7416\n",
      "Epoch 60/100\n",
      "769500/769500 [==============================] - 18s 24us/step - loss: 8.4227 - mean_absolute_error: 8.4227 - val_loss: 23.4555 - val_mean_absolute_error: 23.4555\n",
      "Epoch 61/100\n",
      "769500/769500 [==============================] - 18s 24us/step - loss: 8.4166 - mean_absolute_error: 8.4166 - val_loss: 21.5449 - val_mean_absolute_error: 21.5449\n",
      "Epoch 62/100\n",
      "769500/769500 [==============================] - 18s 23us/step - loss: 8.3831 - mean_absolute_error: 8.3831 - val_loss: 22.7312 - val_mean_absolute_error: 22.7312\n",
      "Epoch 63/100\n",
      "769500/769500 [==============================] - 18s 24us/step - loss: 8.3472 - mean_absolute_error: 8.3472 - val_loss: 23.4207 - val_mean_absolute_error: 23.4207\n",
      "Epoch 64/100\n",
      "769500/769500 [==============================] - 18s 24us/step - loss: 8.3304 - mean_absolute_error: 8.3304 - val_loss: 22.7098 - val_mean_absolute_error: 22.7098\n",
      "Epoch 65/100\n",
      "769500/769500 [==============================] - 18s 24us/step - loss: 8.2794 - mean_absolute_error: 8.2794 - val_loss: 21.2548 - val_mean_absolute_error: 21.2548\n",
      "Epoch 66/100\n",
      "769500/769500 [==============================] - 18s 23us/step - loss: 8.2647 - mean_absolute_error: 8.2647 - val_loss: 22.1015 - val_mean_absolute_error: 22.1015\n",
      "Epoch 67/100\n",
      "769500/769500 [==============================] - 18s 23us/step - loss: 8.2123 - mean_absolute_error: 8.2123 - val_loss: 22.7022 - val_mean_absolute_error: 22.7022\n",
      "Epoch 68/100\n",
      "769500/769500 [==============================] - 18s 24us/step - loss: 8.1875 - mean_absolute_error: 8.1875 - val_loss: 22.0900 - val_mean_absolute_error: 22.0900\n",
      "Epoch 69/100\n",
      "769500/769500 [==============================] - 18s 23us/step - loss: 8.1632 - mean_absolute_error: 8.1632 - val_loss: 22.9131 - val_mean_absolute_error: 22.9131\n",
      "Epoch 70/100\n",
      "769500/769500 [==============================] - 18s 24us/step - loss: 8.1429 - mean_absolute_error: 8.1429 - val_loss: 22.6602 - val_mean_absolute_error: 22.6602\n",
      "Epoch 71/100\n",
      "769500/769500 [==============================] - 18s 24us/step - loss: 8.1133 - mean_absolute_error: 8.1133 - val_loss: 21.7510 - val_mean_absolute_error: 21.7510\n",
      "Epoch 72/100\n",
      "769500/769500 [==============================] - 18s 23us/step - loss: 8.0673 - mean_absolute_error: 8.0673 - val_loss: 22.2038 - val_mean_absolute_error: 22.2038\n",
      "Epoch 73/100\n",
      "769500/769500 [==============================] - 18s 23us/step - loss: 8.0547 - mean_absolute_error: 8.0547 - val_loss: 21.9126 - val_mean_absolute_error: 21.9126\n",
      "Epoch 74/100\n",
      "769500/769500 [==============================] - 18s 23us/step - loss: 8.0369 - mean_absolute_error: 8.0369 - val_loss: 22.1291 - val_mean_absolute_error: 22.1291\n",
      "Epoch 75/100\n",
      "769500/769500 [==============================] - 18s 24us/step - loss: 8.0182 - mean_absolute_error: 8.0182 - val_loss: 20.9973 - val_mean_absolute_error: 20.9973\n",
      "Epoch 76/100\n",
      "769500/769500 [==============================] - 18s 23us/step - loss: 7.9794 - mean_absolute_error: 7.9794 - val_loss: 22.5031 - val_mean_absolute_error: 22.5031\n",
      "Epoch 77/100\n",
      "769500/769500 [==============================] - 18s 23us/step - loss: 7.9577 - mean_absolute_error: 7.9577 - val_loss: 21.5914 - val_mean_absolute_error: 21.5914\n",
      "Epoch 78/100\n",
      "769500/769500 [==============================] - 18s 24us/step - loss: 7.9391 - mean_absolute_error: 7.9391 - val_loss: 21.7822 - val_mean_absolute_error: 21.7822\n",
      "Epoch 79/100\n",
      "769500/769500 [==============================] - 18s 23us/step - loss: 7.9053 - mean_absolute_error: 7.9053 - val_loss: 23.1277 - val_mean_absolute_error: 23.1277\n",
      "Epoch 80/100\n",
      "769500/769500 [==============================] - 18s 23us/step - loss: 7.8954 - mean_absolute_error: 7.8954 - val_loss: 21.3645 - val_mean_absolute_error: 21.3645\n",
      "Epoch 81/100\n",
      "769500/769500 [==============================] - 18s 23us/step - loss: 7.8608 - mean_absolute_error: 7.8608 - val_loss: 21.7757 - val_mean_absolute_error: 21.7757\n",
      "Epoch 82/100\n",
      "769500/769500 [==============================] - 18s 23us/step - loss: 7.8398 - mean_absolute_error: 7.8398 - val_loss: 21.6216 - val_mean_absolute_error: 21.6216\n",
      "Epoch 83/100\n",
      "769500/769500 [==============================] - 18s 23us/step - loss: 7.8113 - mean_absolute_error: 7.8113 - val_loss: 21.6630 - val_mean_absolute_error: 21.6630\n",
      "Epoch 84/100\n",
      "769500/769500 [==============================] - 17s 22us/step - loss: 7.7783 - mean_absolute_error: 7.7783 - val_loss: 20.6550 - val_mean_absolute_error: 20.6550\n",
      "Epoch 85/100\n",
      "769500/769500 [==============================] - 18s 23us/step - loss: 7.7608 - mean_absolute_error: 7.7608 - val_loss: 19.4842 - val_mean_absolute_error: 19.4842\n",
      "Epoch 86/100\n",
      "769500/769500 [==============================] - 17s 22us/step - loss: 7.7480 - mean_absolute_error: 7.7480 - val_loss: 20.6833 - val_mean_absolute_error: 20.6833\n",
      "Epoch 87/100\n",
      "769500/769500 [==============================] - 18s 23us/step - loss: 7.7344 - mean_absolute_error: 7.7344 - val_loss: 20.4378 - val_mean_absolute_error: 20.4378\n",
      "Epoch 88/100\n",
      "769500/769500 [==============================] - 18s 23us/step - loss: 7.7399 - mean_absolute_error: 7.7399 - val_loss: 21.5378 - val_mean_absolute_error: 21.5378\n",
      "Epoch 89/100\n",
      "769500/769500 [==============================] - 17s 23us/step - loss: 7.6720 - mean_absolute_error: 7.6720 - val_loss: 22.5187 - val_mean_absolute_error: 22.5187\n",
      "Epoch 90/100\n",
      "769500/769500 [==============================] - 18s 23us/step - loss: 7.6716 - mean_absolute_error: 7.6716 - val_loss: 21.3591 - val_mean_absolute_error: 21.3591\n",
      "Epoch 91/100\n",
      "769500/769500 [==============================] - 18s 23us/step - loss: 7.6446 - mean_absolute_error: 7.6446 - val_loss: 22.3014 - val_mean_absolute_error: 22.3014\n",
      "Epoch 92/100\n",
      "769500/769500 [==============================] - 18s 23us/step - loss: 7.6354 - mean_absolute_error: 7.6354 - val_loss: 21.1431 - val_mean_absolute_error: 21.1431\n",
      "Epoch 93/100\n",
      "769500/769500 [==============================] - 18s 23us/step - loss: 7.6131 - mean_absolute_error: 7.6131 - val_loss: 22.2031 - val_mean_absolute_error: 22.2031\n",
      "Epoch 94/100\n",
      "769500/769500 [==============================] - 18s 23us/step - loss: 7.6172 - mean_absolute_error: 7.6172 - val_loss: 21.0082 - val_mean_absolute_error: 21.0082\n",
      "Epoch 95/100\n",
      "769500/769500 [==============================] - 18s 23us/step - loss: 7.5646 - mean_absolute_error: 7.5646 - val_loss: 20.4098 - val_mean_absolute_error: 20.4098\n",
      "Epoch 96/100\n",
      "769500/769500 [==============================] - 18s 23us/step - loss: 7.5828 - mean_absolute_error: 7.5828 - val_loss: 21.1303 - val_mean_absolute_error: 21.1303\n",
      "Epoch 97/100\n",
      "769500/769500 [==============================] - 18s 23us/step - loss: 7.5324 - mean_absolute_error: 7.5324 - val_loss: 22.2167 - val_mean_absolute_error: 22.2167\n",
      "Epoch 98/100\n",
      "769500/769500 [==============================] - 18s 23us/step - loss: 7.5155 - mean_absolute_error: 7.5155 - val_loss: 19.7782 - val_mean_absolute_error: 19.7782\n",
      "Epoch 99/100\n",
      "769500/769500 [==============================] - 18s 23us/step - loss: 7.4854 - mean_absolute_error: 7.4854 - val_loss: 20.6797 - val_mean_absolute_error: 20.6797\n",
      "Epoch 100/100\n",
      "769500/769500 [==============================] - 18s 23us/step - loss: 7.4884 - mean_absolute_error: 7.4884 - val_loss: 20.6372 - val_mean_absolute_error: 20.6372\n"
     ]
    },
    {
     "data": {
      "text/plain": [
       "<keras.callbacks.History at 0x7feebb8e0438>"
      ]
     },
     "execution_count": 11,
     "metadata": {
      "tags": []
     },
     "output_type": "execute_result"
    }
   ],
   "source": [
    "# 케라스를 통해 모델 생성을 시작합니다.\n",
    "\n",
    "model_t2 = Sequential()\n",
    "model_t2.add(Dense(units=160, input_dim=226, kernel_initializer='he_normal'))\n",
    "model_t2.add(BatchNormalization())\n",
    "model_t2.add(Activation('relu'))\n",
    "model_t2.add(Dense(units=160, kernel_initializer='he_normal'))\n",
    "model_t2.add(BatchNormalization())\n",
    "model_t2.add(Activation('relu'))\n",
    "model_t2.add(Dense(units=160, kernel_initializer='he_normal'))\n",
    "model_t2.add(BatchNormalization())\n",
    "model_t2.add(Activation('relu'))\n",
    "model_t2.add(Dense(units=160, kernel_initializer='he_normal'))\n",
    "model_t2.add(BatchNormalization())\n",
    "model_t2.add(Activation('relu'))\n",
    "model_t2.add(Dense(units=4, activation='linear'))\n",
    "\n",
    "adam = keras.optimizers.Adam(0.001)\n",
    "model_t2.compile(loss='mae', optimizer=adam, metrics=['mae'])\n",
    "\n",
    "model_t2.fit(train_X, train_Y, epochs=100, batch_size=500, validation_split=0.05)"
   ]
  },
  {
   "cell_type": "code",
   "execution_count": 0,
   "metadata": {
    "colab": {},
    "colab_type": "code",
    "id": "LG1NXUynO_9I"
   },
   "outputs": [],
   "source": [
    "# 예측값을 생성합니다.\n",
    "\n",
    "pred_test_2 = model_t2.predict(test_X)"
   ]
  },
  {
   "cell_type": "code",
   "execution_count": 0,
   "metadata": {
    "colab": {},
    "colab_type": "code",
    "id": "c7I8kUBKPADo"
   },
   "outputs": [],
   "source": [
    "# submission 파일을 생성합니다.\n",
    "sample_sub = pd.read_csv('/gdrive/My Drive/DACON-semiconductor-competition/dataset/sample_submission.csv', index_col=0)\n",
    "submission = sample_sub+pred_test_2\n",
    "submission.to_csv('/gdrive/My Drive/DACON-semiconductor-competition/submission_02.csv')"
   ]
  }
 ],
 "metadata": {
  "accelerator": "GPU",
  "colab": {
   "authorship_tag": "ABX9TyN4gjgWZFjarWqEFpyU7l1a",
   "collapsed_sections": [],
   "include_colab_link": true,
   "name": "submission_02.ipynb",
   "provenance": []
  },
  "kernelspec": {
   "display_name": "Python 3",
   "language": "python",
   "name": "python3"
  },
  "language_info": {
   "codemirror_mode": {
    "name": "ipython",
    "version": 3
   },
   "file_extension": ".py",
   "mimetype": "text/x-python",
   "name": "python",
   "nbconvert_exporter": "python",
   "pygments_lexer": "ipython3",
   "version": "3.7.3"
  }
 },
 "nbformat": 4,
 "nbformat_minor": 1
}
