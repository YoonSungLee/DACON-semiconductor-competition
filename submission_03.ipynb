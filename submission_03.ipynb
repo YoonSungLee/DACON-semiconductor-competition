{
 "cells": [
  {
   "cell_type": "markdown",
   "metadata": {
    "colab_type": "text",
    "id": "view-in-github"
   },
   "source": [
    "<a href=\"https://colab.research.google.com/github/Inha-AI/DACON-semiconductor-competition/blob/feature%2FYoonSungLee/submission_03.ipynb\" target=\"_parent\"><img src=\"https://colab.research.google.com/assets/colab-badge.svg\" alt=\"Open In Colab\"/></a>"
   ]
  },
  {
   "cell_type": "code",
   "execution_count": 0,
   "metadata": {
    "colab": {},
    "colab_type": "code",
    "id": "iKNDnw19SjYK"
   },
   "outputs": [],
   "source": [
    "import numpy as np\n",
    "import pandas as pd\n",
    "import matplotlib.pyplot as plt\n",
    "import keras\n",
    "from keras.models import Sequential\n",
    "from keras.layers import Dense, Activation, Dropout\n",
    "from keras.layers import BatchNormalization"
   ]
  },
  {
   "cell_type": "code",
   "execution_count": 0,
   "metadata": {
    "colab": {
     "base_uri": "https://localhost:8080/",
     "height": 131
    },
    "colab_type": "code",
    "id": "sNF1jRAGSox5",
    "outputId": "6ba277f5-d919-476a-db64-bebf62b70ebb"
   },
   "outputs": [
    {
     "name": "stdout",
     "output_type": "stream",
     "text": [
      "Go to this URL in a browser: https://accounts.google.com/o/oauth2/auth?client_id=947318989803-6bn6qk8qdgf4n4g3pfee6491hc0brc4i.apps.googleusercontent.com&redirect_uri=urn%3aietf%3awg%3aoauth%3a2.0%3aoob&response_type=code&scope=email%20https%3a%2f%2fwww.googleapis.com%2fauth%2fdocs.test%20https%3a%2f%2fwww.googleapis.com%2fauth%2fdrive%20https%3a%2f%2fwww.googleapis.com%2fauth%2fdrive.photos.readonly%20https%3a%2f%2fwww.googleapis.com%2fauth%2fpeopleapi.readonly\n",
      "\n",
      "Enter your authorization code:\n",
      "··········\n",
      "Mounted at /gdrive\n"
     ]
    }
   ],
   "source": [
    "from google.colab import drive\n",
    "drive.mount('/gdrive')"
   ]
  },
  {
   "cell_type": "code",
   "execution_count": 0,
   "metadata": {
    "colab": {},
    "colab_type": "code",
    "id": "CGU6N31VSqP_"
   },
   "outputs": [],
   "source": [
    "df_train = pd.read_csv('/gdrive/My Drive/DACON-semiconductor-competition/dataset/train.csv')\n",
    "df_test = pd.read_csv('/gdrive/My Drive/DACON-semiconductor-competition/dataset/test.csv')"
   ]
  },
  {
   "cell_type": "code",
   "execution_count": 0,
   "metadata": {
    "colab": {},
    "colab_type": "code",
    "id": "o7Jc6UUfSqW3"
   },
   "outputs": [],
   "source": [
    "# 독립변수와 종속변수를 분리합니다.\n",
    "\n",
    "train_X = df_train.iloc[:,4:]\n",
    "train_Y = df_train.iloc[:,0:4]\n",
    "test_X = df_test.iloc[:,1:]"
   ]
  },
  {
   "cell_type": "markdown",
   "metadata": {
    "colab_type": "text",
    "id": "_r9gmf2fSqcP"
   },
   "source": [
    "# Model 3"
   ]
  },
  {
   "cell_type": "markdown",
   "metadata": {},
   "source": [
    "* 5 layers\n",
    "* 160 units, he_normal, relu\n",
    "* BatchNormalization\n",
    "* Dropout\n",
    "* Adam(0.001)\n",
    "* epochs 100\n",
    "* batch_size 500\n",
    "<br><br>\n",
    "* Overfitting을 억제하기 위해 Dropout을 도입했으나 성능이 오히려 하락\n",
    "* Dropout의 하이퍼파라미터를 바꾸거나 다른 방법 도입이 필요"
   ]
  },
  {
   "cell_type": "code",
   "execution_count": 0,
   "metadata": {
    "colab": {
     "base_uri": "https://localhost:8080/",
     "height": 1000
    },
    "colab_type": "code",
    "id": "rqg5EiuSSqhP",
    "outputId": "a7c0fda2-f20e-4039-c3c5-6e28b62a2d6d"
   },
   "outputs": [
    {
     "name": "stdout",
     "output_type": "stream",
     "text": [
      "WARNING:tensorflow:From /usr/local/lib/python3.6/dist-packages/keras/backend/tensorflow_backend.py:1033: The name tf.assign_add is deprecated. Please use tf.compat.v1.assign_add instead.\n",
      "\n",
      "WARNING:tensorflow:From /usr/local/lib/python3.6/dist-packages/keras/backend/tensorflow_backend.py:1020: The name tf.assign is deprecated. Please use tf.compat.v1.assign instead.\n",
      "\n",
      "WARNING:tensorflow:From /usr/local/lib/python3.6/dist-packages/keras/backend/tensorflow_backend.py:3005: The name tf.Session is deprecated. Please use tf.compat.v1.Session instead.\n",
      "\n",
      "Train on 769500 samples, validate on 40500 samples\n",
      "Epoch 1/100\n",
      "WARNING:tensorflow:From /usr/local/lib/python3.6/dist-packages/keras/backend/tensorflow_backend.py:190: The name tf.get_default_session is deprecated. Please use tf.compat.v1.get_default_session instead.\n",
      "\n",
      "WARNING:tensorflow:From /usr/local/lib/python3.6/dist-packages/keras/backend/tensorflow_backend.py:197: The name tf.ConfigProto is deprecated. Please use tf.compat.v1.ConfigProto instead.\n",
      "\n",
      "WARNING:tensorflow:From /usr/local/lib/python3.6/dist-packages/keras/backend/tensorflow_backend.py:207: The name tf.global_variables is deprecated. Please use tf.compat.v1.global_variables instead.\n",
      "\n",
      "WARNING:tensorflow:From /usr/local/lib/python3.6/dist-packages/keras/backend/tensorflow_backend.py:216: The name tf.is_variable_initialized is deprecated. Please use tf.compat.v1.is_variable_initialized instead.\n",
      "\n",
      "WARNING:tensorflow:From /usr/local/lib/python3.6/dist-packages/keras/backend/tensorflow_backend.py:223: The name tf.variables_initializer is deprecated. Please use tf.compat.v1.variables_initializer instead.\n",
      "\n",
      "769500/769500 [==============================] - 50s 65us/step - loss: 79.4261 - mean_absolute_error: 79.4261 - val_loss: 65.7130 - val_mean_absolute_error: 65.7130\n",
      "Epoch 2/100\n",
      "769500/769500 [==============================] - 48s 63us/step - loss: 50.9293 - mean_absolute_error: 50.9293 - val_loss: 52.9117 - val_mean_absolute_error: 52.9117\n",
      "Epoch 3/100\n",
      "769500/769500 [==============================] - 49s 64us/step - loss: 45.2989 - mean_absolute_error: 45.2989 - val_loss: 47.9272 - val_mean_absolute_error: 47.9272\n",
      "Epoch 4/100\n",
      "769500/769500 [==============================] - 48s 63us/step - loss: 42.0936 - mean_absolute_error: 42.0936 - val_loss: 45.7470 - val_mean_absolute_error: 45.7470\n",
      "Epoch 5/100\n",
      "769500/769500 [==============================] - 48s 63us/step - loss: 40.6835 - mean_absolute_error: 40.6835 - val_loss: 43.0676 - val_mean_absolute_error: 43.0676\n",
      "Epoch 6/100\n",
      "769500/769500 [==============================] - 48s 62us/step - loss: 39.8085 - mean_absolute_error: 39.8085 - val_loss: 43.4983 - val_mean_absolute_error: 43.4983\n",
      "Epoch 7/100\n",
      "769500/769500 [==============================] - 48s 63us/step - loss: 39.2729 - mean_absolute_error: 39.2729 - val_loss: 41.7444 - val_mean_absolute_error: 41.7444\n",
      "Epoch 8/100\n",
      "769500/769500 [==============================] - 48s 63us/step - loss: 38.7748 - mean_absolute_error: 38.7748 - val_loss: 42.3013 - val_mean_absolute_error: 42.3013\n",
      "Epoch 9/100\n",
      "769500/769500 [==============================] - 49s 63us/step - loss: 38.4488 - mean_absolute_error: 38.4488 - val_loss: 40.3556 - val_mean_absolute_error: 40.3556\n",
      "Epoch 10/100\n",
      "769500/769500 [==============================] - 48s 63us/step - loss: 38.1453 - mean_absolute_error: 38.1453 - val_loss: 41.2958 - val_mean_absolute_error: 41.2958\n",
      "Epoch 11/100\n",
      "769500/769500 [==============================] - 48s 62us/step - loss: 37.8983 - mean_absolute_error: 37.8983 - val_loss: 39.8702 - val_mean_absolute_error: 39.8702\n",
      "Epoch 12/100\n",
      "769500/769500 [==============================] - 48s 62us/step - loss: 37.7057 - mean_absolute_error: 37.7057 - val_loss: 38.8963 - val_mean_absolute_error: 38.8963\n",
      "Epoch 13/100\n",
      "769500/769500 [==============================] - 48s 62us/step - loss: 37.4826 - mean_absolute_error: 37.4826 - val_loss: 41.1724 - val_mean_absolute_error: 41.1724\n",
      "Epoch 14/100\n",
      "769500/769500 [==============================] - 48s 62us/step - loss: 37.2959 - mean_absolute_error: 37.2959 - val_loss: 40.8556 - val_mean_absolute_error: 40.8556\n",
      "Epoch 15/100\n",
      "769500/769500 [==============================] - 48s 62us/step - loss: 37.1357 - mean_absolute_error: 37.1357 - val_loss: 40.1815 - val_mean_absolute_error: 40.1815\n",
      "Epoch 16/100\n",
      "769500/769500 [==============================] - 48s 63us/step - loss: 37.0616 - mean_absolute_error: 37.0616 - val_loss: 38.1466 - val_mean_absolute_error: 38.1466\n",
      "Epoch 17/100\n",
      "769500/769500 [==============================] - 48s 62us/step - loss: 36.8860 - mean_absolute_error: 36.8860 - val_loss: 39.1302 - val_mean_absolute_error: 39.1302\n",
      "Epoch 18/100\n",
      "769500/769500 [==============================] - 48s 62us/step - loss: 36.7898 - mean_absolute_error: 36.7898 - val_loss: 38.3403 - val_mean_absolute_error: 38.3403\n",
      "Epoch 19/100\n",
      "769500/769500 [==============================] - 48s 62us/step - loss: 36.6981 - mean_absolute_error: 36.6981 - val_loss: 38.8131 - val_mean_absolute_error: 38.8131\n",
      "Epoch 20/100\n",
      "769500/769500 [==============================] - 47s 62us/step - loss: 36.6029 - mean_absolute_error: 36.6029 - val_loss: 38.6690 - val_mean_absolute_error: 38.6690\n",
      "Epoch 21/100\n",
      "769500/769500 [==============================] - 47s 62us/step - loss: 36.4494 - mean_absolute_error: 36.4494 - val_loss: 39.2099 - val_mean_absolute_error: 39.2099\n",
      "Epoch 22/100\n",
      "769500/769500 [==============================] - 48s 62us/step - loss: 36.3971 - mean_absolute_error: 36.3971 - val_loss: 38.4492 - val_mean_absolute_error: 38.4492\n",
      "Epoch 23/100\n",
      "769500/769500 [==============================] - 48s 62us/step - loss: 36.3081 - mean_absolute_error: 36.3081 - val_loss: 37.2108 - val_mean_absolute_error: 37.2108\n",
      "Epoch 24/100\n",
      "769500/769500 [==============================] - 48s 62us/step - loss: 36.2367 - mean_absolute_error: 36.2367 - val_loss: 40.0150 - val_mean_absolute_error: 40.0150\n",
      "Epoch 25/100\n",
      "769500/769500 [==============================] - 47s 61us/step - loss: 36.1688 - mean_absolute_error: 36.1688 - val_loss: 38.6950 - val_mean_absolute_error: 38.6950\n",
      "Epoch 26/100\n",
      "769500/769500 [==============================] - 47s 61us/step - loss: 36.0776 - mean_absolute_error: 36.0776 - val_loss: 38.4506 - val_mean_absolute_error: 38.4506\n",
      "Epoch 27/100\n",
      "769500/769500 [==============================] - 47s 62us/step - loss: 36.0420 - mean_absolute_error: 36.0420 - val_loss: 38.2228 - val_mean_absolute_error: 38.2228\n",
      "Epoch 28/100\n",
      "769500/769500 [==============================] - 47s 62us/step - loss: 35.9818 - mean_absolute_error: 35.9818 - val_loss: 37.7547 - val_mean_absolute_error: 37.7547\n",
      "Epoch 29/100\n",
      "769500/769500 [==============================] - 48s 62us/step - loss: 35.9164 - mean_absolute_error: 35.9164 - val_loss: 37.4524 - val_mean_absolute_error: 37.4524\n",
      "Epoch 30/100\n",
      "769500/769500 [==============================] - 47s 62us/step - loss: 35.8273 - mean_absolute_error: 35.8273 - val_loss: 37.5466 - val_mean_absolute_error: 37.5466\n",
      "Epoch 31/100\n",
      "769500/769500 [==============================] - 47s 61us/step - loss: 35.8141 - mean_absolute_error: 35.8141 - val_loss: 38.7807 - val_mean_absolute_error: 38.7807\n",
      "Epoch 32/100\n",
      "769500/769500 [==============================] - 47s 62us/step - loss: 35.7473 - mean_absolute_error: 35.7473 - val_loss: 37.0166 - val_mean_absolute_error: 37.0166\n",
      "Epoch 33/100\n",
      "769500/769500 [==============================] - 47s 61us/step - loss: 35.6910 - mean_absolute_error: 35.6910 - val_loss: 39.0071 - val_mean_absolute_error: 39.0071\n",
      "Epoch 34/100\n",
      "769500/769500 [==============================] - 47s 62us/step - loss: 35.6380 - mean_absolute_error: 35.6380 - val_loss: 36.5249 - val_mean_absolute_error: 36.5249\n",
      "Epoch 35/100\n",
      "769500/769500 [==============================] - 47s 62us/step - loss: 35.5872 - mean_absolute_error: 35.5872 - val_loss: 38.1911 - val_mean_absolute_error: 38.1911\n",
      "Epoch 36/100\n",
      "769500/769500 [==============================] - 48s 62us/step - loss: 35.5579 - mean_absolute_error: 35.5579 - val_loss: 36.9757 - val_mean_absolute_error: 36.9757\n",
      "Epoch 37/100\n",
      "769500/769500 [==============================] - 48s 62us/step - loss: 35.4972 - mean_absolute_error: 35.4972 - val_loss: 35.8857 - val_mean_absolute_error: 35.8857\n",
      "Epoch 38/100\n",
      "769500/769500 [==============================] - 47s 61us/step - loss: 35.4464 - mean_absolute_error: 35.4464 - val_loss: 37.6513 - val_mean_absolute_error: 37.6513\n",
      "Epoch 39/100\n",
      "769500/769500 [==============================] - 47s 61us/step - loss: 35.4199 - mean_absolute_error: 35.4199 - val_loss: 37.3311 - val_mean_absolute_error: 37.3311\n",
      "Epoch 40/100\n",
      "769500/769500 [==============================] - 47s 61us/step - loss: 35.3735 - mean_absolute_error: 35.3735 - val_loss: 37.4964 - val_mean_absolute_error: 37.4964\n",
      "Epoch 41/100\n",
      "769500/769500 [==============================] - 47s 61us/step - loss: 35.3334 - mean_absolute_error: 35.3334 - val_loss: 37.3251 - val_mean_absolute_error: 37.3251\n",
      "Epoch 42/100\n",
      "769500/769500 [==============================] - 48s 62us/step - loss: 35.3203 - mean_absolute_error: 35.3203 - val_loss: 37.9073 - val_mean_absolute_error: 37.9073\n",
      "Epoch 43/100\n",
      "769500/769500 [==============================] - 48s 62us/step - loss: 35.2944 - mean_absolute_error: 35.2944 - val_loss: 36.8819 - val_mean_absolute_error: 36.8819\n",
      "Epoch 44/100\n",
      "769500/769500 [==============================] - 47s 61us/step - loss: 35.2301 - mean_absolute_error: 35.2301 - val_loss: 36.4210 - val_mean_absolute_error: 36.4210\n",
      "Epoch 45/100\n",
      "769500/769500 [==============================] - 47s 61us/step - loss: 35.1717 - mean_absolute_error: 35.1717 - val_loss: 38.1519 - val_mean_absolute_error: 38.1519\n",
      "Epoch 46/100\n",
      "769500/769500 [==============================] - 47s 62us/step - loss: 35.1743 - mean_absolute_error: 35.1743 - val_loss: 36.2518 - val_mean_absolute_error: 36.2518\n",
      "Epoch 47/100\n",
      "769500/769500 [==============================] - 47s 61us/step - loss: 35.1538 - mean_absolute_error: 35.1538 - val_loss: 36.7565 - val_mean_absolute_error: 36.7565\n",
      "Epoch 48/100\n",
      "769500/769500 [==============================] - 48s 62us/step - loss: 35.0953 - mean_absolute_error: 35.0953 - val_loss: 36.9301 - val_mean_absolute_error: 36.9301\n",
      "Epoch 49/100\n",
      "769500/769500 [==============================] - 48s 63us/step - loss: 35.0968 - mean_absolute_error: 35.0968 - val_loss: 36.5117 - val_mean_absolute_error: 36.5117\n",
      "Epoch 50/100\n",
      "769500/769500 [==============================] - 47s 61us/step - loss: 35.0384 - mean_absolute_error: 35.0384 - val_loss: 36.7195 - val_mean_absolute_error: 36.7195\n",
      "Epoch 51/100\n",
      "769500/769500 [==============================] - 47s 62us/step - loss: 34.9969 - mean_absolute_error: 34.9969 - val_loss: 36.6294 - val_mean_absolute_error: 36.6294\n",
      "Epoch 52/100\n",
      "769500/769500 [==============================] - 47s 61us/step - loss: 34.9906 - mean_absolute_error: 34.9906 - val_loss: 35.8764 - val_mean_absolute_error: 35.8764\n",
      "Epoch 53/100\n",
      "769500/769500 [==============================] - 47s 61us/step - loss: 34.9375 - mean_absolute_error: 34.9375 - val_loss: 37.0342 - val_mean_absolute_error: 37.0342\n",
      "Epoch 54/100\n",
      "769500/769500 [==============================] - 47s 61us/step - loss: 34.9443 - mean_absolute_error: 34.9443 - val_loss: 37.4153 - val_mean_absolute_error: 37.4153\n",
      "Epoch 55/100\n",
      "769500/769500 [==============================] - 48s 62us/step - loss: 34.8998 - mean_absolute_error: 34.8998 - val_loss: 37.6551 - val_mean_absolute_error: 37.6551\n",
      "Epoch 56/100\n",
      "769500/769500 [==============================] - 48s 62us/step - loss: 34.8724 - mean_absolute_error: 34.8724 - val_loss: 36.7718 - val_mean_absolute_error: 36.7718\n",
      "Epoch 57/100\n",
      "769500/769500 [==============================] - 47s 61us/step - loss: 34.9022 - mean_absolute_error: 34.9022 - val_loss: 36.7125 - val_mean_absolute_error: 36.7125\n",
      "Epoch 58/100\n",
      "769500/769500 [==============================] - 47s 61us/step - loss: 34.8742 - mean_absolute_error: 34.8742 - val_loss: 36.6855 - val_mean_absolute_error: 36.6855\n",
      "Epoch 59/100\n",
      "769500/769500 [==============================] - 47s 61us/step - loss: 34.8362 - mean_absolute_error: 34.8362 - val_loss: 37.1291 - val_mean_absolute_error: 37.1291\n",
      "Epoch 60/100\n",
      "769500/769500 [==============================] - 47s 61us/step - loss: 34.7496 - mean_absolute_error: 34.7496 - val_loss: 35.6051 - val_mean_absolute_error: 35.6051\n",
      "Epoch 61/100\n",
      "769500/769500 [==============================] - 47s 61us/step - loss: 34.7630 - mean_absolute_error: 34.7630 - val_loss: 37.2072 - val_mean_absolute_error: 37.2072\n",
      "Epoch 62/100\n",
      "769500/769500 [==============================] - 48s 63us/step - loss: 34.7316 - mean_absolute_error: 34.7316 - val_loss: 38.1531 - val_mean_absolute_error: 38.1531\n",
      "Epoch 63/100\n",
      "769500/769500 [==============================] - 47s 61us/step - loss: 34.7239 - mean_absolute_error: 34.7239 - val_loss: 35.6069 - val_mean_absolute_error: 35.6069\n",
      "Epoch 64/100\n",
      "769500/769500 [==============================] - 47s 61us/step - loss: 34.6956 - mean_absolute_error: 34.6956 - val_loss: 37.5259 - val_mean_absolute_error: 37.5259\n",
      "Epoch 65/100\n",
      "769500/769500 [==============================] - 47s 61us/step - loss: 34.6656 - mean_absolute_error: 34.6656 - val_loss: 35.7123 - val_mean_absolute_error: 35.7123\n",
      "Epoch 66/100\n",
      "769500/769500 [==============================] - 47s 61us/step - loss: 34.6738 - mean_absolute_error: 34.6738 - val_loss: 36.3734 - val_mean_absolute_error: 36.3734\n",
      "Epoch 67/100\n",
      "769500/769500 [==============================] - 47s 61us/step - loss: 34.6438 - mean_absolute_error: 34.6438 - val_loss: 37.1906 - val_mean_absolute_error: 37.1906\n",
      "Epoch 68/100\n",
      "769500/769500 [==============================] - 48s 62us/step - loss: 34.6042 - mean_absolute_error: 34.6042 - val_loss: 36.9404 - val_mean_absolute_error: 36.9404\n",
      "Epoch 69/100\n",
      "769500/769500 [==============================] - 48s 62us/step - loss: 34.5784 - mean_absolute_error: 34.5784 - val_loss: 35.6440 - val_mean_absolute_error: 35.6440\n",
      "Epoch 70/100\n",
      "769500/769500 [==============================] - 47s 61us/step - loss: 34.5478 - mean_absolute_error: 34.5478 - val_loss: 36.9597 - val_mean_absolute_error: 36.9597\n",
      "Epoch 71/100\n",
      "769500/769500 [==============================] - 47s 61us/step - loss: 34.5630 - mean_absolute_error: 34.5630 - val_loss: 37.0166 - val_mean_absolute_error: 37.0166\n",
      "Epoch 72/100\n",
      "769500/769500 [==============================] - 47s 61us/step - loss: 34.5456 - mean_absolute_error: 34.5456 - val_loss: 36.2816 - val_mean_absolute_error: 36.2816\n",
      "Epoch 73/100\n",
      "769500/769500 [==============================] - 47s 62us/step - loss: 34.5376 - mean_absolute_error: 34.5376 - val_loss: 36.1973 - val_mean_absolute_error: 36.1973\n",
      "Epoch 74/100\n",
      "769500/769500 [==============================] - 47s 61us/step - loss: 34.4739 - mean_absolute_error: 34.4739 - val_loss: 36.0149 - val_mean_absolute_error: 36.0149\n",
      "Epoch 75/100\n",
      "769500/769500 [==============================] - 48s 62us/step - loss: 34.5024 - mean_absolute_error: 34.5024 - val_loss: 36.1912 - val_mean_absolute_error: 36.1912\n",
      "Epoch 76/100\n",
      "769500/769500 [==============================] - 47s 61us/step - loss: 34.4761 - mean_absolute_error: 34.4761 - val_loss: 37.0715 - val_mean_absolute_error: 37.0715\n",
      "Epoch 77/100\n",
      "769500/769500 [==============================] - 47s 61us/step - loss: 34.4283 - mean_absolute_error: 34.4283 - val_loss: 35.7452 - val_mean_absolute_error: 35.7452\n",
      "Epoch 78/100\n",
      "769500/769500 [==============================] - 47s 60us/step - loss: 34.4343 - mean_absolute_error: 34.4343 - val_loss: 36.4474 - val_mean_absolute_error: 36.4474\n",
      "Epoch 79/100\n",
      "769500/769500 [==============================] - 47s 61us/step - loss: 34.3731 - mean_absolute_error: 34.3731 - val_loss: 37.2703 - val_mean_absolute_error: 37.2703\n",
      "Epoch 80/100\n",
      "769500/769500 [==============================] - 47s 61us/step - loss: 34.3768 - mean_absolute_error: 34.3768 - val_loss: 35.2335 - val_mean_absolute_error: 35.2335\n",
      "Epoch 81/100\n",
      "769500/769500 [==============================] - 47s 61us/step - loss: 34.3800 - mean_absolute_error: 34.3800 - val_loss: 36.2121 - val_mean_absolute_error: 36.2121\n",
      "Epoch 82/100\n",
      "769500/769500 [==============================] - 48s 62us/step - loss: 34.3310 - mean_absolute_error: 34.3310 - val_loss: 36.2426 - val_mean_absolute_error: 36.2426\n",
      "Epoch 83/100\n",
      "769500/769500 [==============================] - 47s 61us/step - loss: 34.3100 - mean_absolute_error: 34.3100 - val_loss: 35.2726 - val_mean_absolute_error: 35.2726\n",
      "Epoch 84/100\n",
      "769500/769500 [==============================] - 47s 61us/step - loss: 34.3254 - mean_absolute_error: 34.3254 - val_loss: 35.9132 - val_mean_absolute_error: 35.9132\n",
      "Epoch 85/100\n",
      "769500/769500 [==============================] - 46s 60us/step - loss: 34.2986 - mean_absolute_error: 34.2986 - val_loss: 36.3112 - val_mean_absolute_error: 36.3112\n",
      "Epoch 86/100\n",
      "769500/769500 [==============================] - 47s 61us/step - loss: 34.3107 - mean_absolute_error: 34.3107 - val_loss: 35.4523 - val_mean_absolute_error: 35.4523\n",
      "Epoch 87/100\n",
      "769500/769500 [==============================] - 47s 61us/step - loss: 34.2544 - mean_absolute_error: 34.2544 - val_loss: 35.6076 - val_mean_absolute_error: 35.6076\n",
      "Epoch 88/100\n",
      "769500/769500 [==============================] - 48s 62us/step - loss: 34.2356 - mean_absolute_error: 34.2356 - val_loss: 36.3698 - val_mean_absolute_error: 36.3698\n",
      "Epoch 89/100\n",
      "769500/769500 [==============================] - 47s 61us/step - loss: 34.2192 - mean_absolute_error: 34.2192 - val_loss: 36.4600 - val_mean_absolute_error: 36.4600\n",
      "Epoch 90/100\n",
      "769500/769500 [==============================] - 47s 61us/step - loss: 34.2143 - mean_absolute_error: 34.2143 - val_loss: 36.2180 - val_mean_absolute_error: 36.2180\n",
      "Epoch 91/100\n",
      "769500/769500 [==============================] - 47s 61us/step - loss: 34.1646 - mean_absolute_error: 34.1646 - val_loss: 35.7585 - val_mean_absolute_error: 35.7585\n",
      "Epoch 92/100\n",
      "769500/769500 [==============================] - 47s 61us/step - loss: 34.1703 - mean_absolute_error: 34.1703 - val_loss: 36.8885 - val_mean_absolute_error: 36.8885\n",
      "Epoch 93/100\n",
      "769500/769500 [==============================] - 47s 61us/step - loss: 34.1442 - mean_absolute_error: 34.1442 - val_loss: 36.4594 - val_mean_absolute_error: 36.4594\n",
      "Epoch 94/100\n",
      "769500/769500 [==============================] - 47s 61us/step - loss: 34.1594 - mean_absolute_error: 34.1594 - val_loss: 36.2371 - val_mean_absolute_error: 36.2371\n",
      "Epoch 95/100\n",
      "769500/769500 [==============================] - 48s 62us/step - loss: 34.1336 - mean_absolute_error: 34.1336 - val_loss: 36.7560 - val_mean_absolute_error: 36.7560\n",
      "Epoch 96/100\n",
      "769500/769500 [==============================] - 46s 60us/step - loss: 34.1431 - mean_absolute_error: 34.1431 - val_loss: 36.1528 - val_mean_absolute_error: 36.1528\n",
      "Epoch 97/100\n",
      "769500/769500 [==============================] - 46s 60us/step - loss: 34.1176 - mean_absolute_error: 34.1176 - val_loss: 36.0052 - val_mean_absolute_error: 36.0052\n",
      "Epoch 98/100\n",
      "769500/769500 [==============================] - 46s 60us/step - loss: 34.0715 - mean_absolute_error: 34.0715 - val_loss: 35.6638 - val_mean_absolute_error: 35.6638\n",
      "Epoch 99/100\n",
      "769500/769500 [==============================] - 47s 61us/step - loss: 34.0599 - mean_absolute_error: 34.0599 - val_loss: 35.8161 - val_mean_absolute_error: 35.8161\n",
      "Epoch 100/100\n",
      "769500/769500 [==============================] - 47s 61us/step - loss: 34.0712 - mean_absolute_error: 34.0712 - val_loss: 35.9278 - val_mean_absolute_error: 35.9278\n"
     ]
    },
    {
     "data": {
      "text/plain": [
       "<keras.callbacks.History at 0x7f6f52cf5d30>"
      ]
     },
     "execution_count": 8,
     "metadata": {
      "tags": []
     },
     "output_type": "execute_result"
    }
   ],
   "source": [
    "# 케라스를 통해 모델 생성을 시작합니다.\n",
    "\n",
    "model_03 = Sequential()\n",
    "model_03.add(Dense(units=160, input_dim=226, kernel_initializer='he_normal'))\n",
    "model_03.add(BatchNormalization())\n",
    "model_03.add(Activation('relu'))\n",
    "model_03.add(Dropout(0.3))\n",
    "model_03.add(Dense(units=160, kernel_initializer='he_normal'))\n",
    "model_03.add(BatchNormalization())\n",
    "model_03.add(Activation('relu'))\n",
    "model_03.add(Dropout(0.3))\n",
    "model_03.add(Dense(units=160, kernel_initializer='he_normal'))\n",
    "model_03.add(BatchNormalization())\n",
    "model_03.add(Activation('relu'))\n",
    "model_03.add(Dropout(0.3))\n",
    "model_03.add(Dense(units=160, kernel_initializer='he_normal'))\n",
    "model_03.add(BatchNormalization())\n",
    "model_03.add(Activation('relu'))\n",
    "model_03.add(Dropout(0.3))\n",
    "model_03.add(Dense(units=4, activation='linear'))\n",
    "\n",
    "adam = keras.optimizers.Adam(0.001)\n",
    "model_03.compile(loss='mae', optimizer=adam, metrics=['mae'])\n",
    "\n",
    "model_03.fit(train_X, train_Y, epochs=100, batch_size=500, validation_split=0.05)"
   ]
  },
  {
   "cell_type": "code",
   "execution_count": 0,
   "metadata": {
    "colab": {},
    "colab_type": "code",
    "id": "MqX9WN5fSqmn"
   },
   "outputs": [],
   "source": [
    "# 예측값을 생성합니다.\n",
    "\n",
    "pred_test_03 = model_03.predict(test_X)"
   ]
  },
  {
   "cell_type": "code",
   "execution_count": 0,
   "metadata": {
    "colab": {},
    "colab_type": "code",
    "id": "0bN5AXCXS5F3"
   },
   "outputs": [],
   "source": [
    "# submission 파일을 생성합니다.\n",
    "sample_sub = pd.read_csv('/gdrive/My Drive/DACON-semiconductor-competition/dataset/sample_submission.csv', index_col=0)\n",
    "submission = sample_sub+pred_test_03\n",
    "submission.to_csv('/gdrive/My Drive/DACON-semiconductor-competition/submission_03.csv')"
   ]
  }
 ],
 "metadata": {
  "colab": {
   "authorship_tag": "ABX9TyPJPADNCA2Fveny5cmZMIOr",
   "include_colab_link": true,
   "name": "submission_03.ipynb",
   "provenance": []
  },
  "kernelspec": {
   "display_name": "Python 3",
   "language": "python",
   "name": "python3"
  },
  "language_info": {
   "codemirror_mode": {
    "name": "ipython",
    "version": 3
   },
   "file_extension": ".py",
   "mimetype": "text/x-python",
   "name": "python",
   "nbconvert_exporter": "python",
   "pygments_lexer": "ipython3",
   "version": "3.7.3"
  }
 },
 "nbformat": 4,
 "nbformat_minor": 1
}
