{
 "cells": [
  {
   "cell_type": "markdown",
   "metadata": {
    "colab_type": "text",
    "id": "view-in-github"
   },
   "source": [
    "<a href=\"https://colab.research.google.com/github/Inha-AI/DACON-semiconductor-competition/blob/feature%2FYoonSungLee/submission_04.ipynb\" target=\"_parent\"><img src=\"https://colab.research.google.com/assets/colab-badge.svg\" alt=\"Open In Colab\"/></a>"
   ]
  },
  {
   "cell_type": "code",
   "execution_count": 1,
   "metadata": {
    "colab": {
     "base_uri": "https://localhost:8080/",
     "height": 101
    },
    "colab_type": "code",
    "id": "0vVeUdyssBKw",
    "outputId": "a311d2d7-bcae-4e02-acfd-a32c1b64511e"
   },
   "outputs": [
    {
     "name": "stderr",
     "output_type": "stream",
     "text": [
      "Using TensorFlow backend.\n"
     ]
    },
    {
     "data": {
      "text/html": [
       "<p style=\"color: red;\">\n",
       "The default version of TensorFlow in Colab will soon switch to TensorFlow 2.x.<br>\n",
       "We recommend you <a href=\"https://www.tensorflow.org/guide/migrate\" target=\"_blank\">upgrade</a> now \n",
       "or ensure your notebook will continue to use TensorFlow 1.x via the <code>%tensorflow_version 1.x</code> magic:\n",
       "<a href=\"https://colab.research.google.com/notebooks/tensorflow_version.ipynb\" target=\"_blank\">more info</a>.</p>\n"
      ],
      "text/plain": [
       "<IPython.core.display.HTML object>"
      ]
     },
     "metadata": {
      "tags": []
     },
     "output_type": "display_data"
    }
   ],
   "source": [
    "import numpy as np\n",
    "import pandas as pd\n",
    "import matplotlib.pyplot as plt\n",
    "import keras\n",
    "from keras.models import Sequential\n",
    "from keras.layers import Dense, Activation, Dropout\n",
    "from keras.layers import BatchNormalization"
   ]
  },
  {
   "cell_type": "code",
   "execution_count": 2,
   "metadata": {
    "colab": {
     "base_uri": "https://localhost:8080/",
     "height": 131
    },
    "colab_type": "code",
    "id": "EwHXDEigsNB0",
    "outputId": "a314d70e-056d-4d3f-ffe9-c14fcb14a911"
   },
   "outputs": [
    {
     "name": "stdout",
     "output_type": "stream",
     "text": [
      "Go to this URL in a browser: https://accounts.google.com/o/oauth2/auth?client_id=947318989803-6bn6qk8qdgf4n4g3pfee6491hc0brc4i.apps.googleusercontent.com&redirect_uri=urn%3aietf%3awg%3aoauth%3a2.0%3aoob&response_type=code&scope=email%20https%3a%2f%2fwww.googleapis.com%2fauth%2fdocs.test%20https%3a%2f%2fwww.googleapis.com%2fauth%2fdrive%20https%3a%2f%2fwww.googleapis.com%2fauth%2fdrive.photos.readonly%20https%3a%2f%2fwww.googleapis.com%2fauth%2fpeopleapi.readonly\n",
      "\n",
      "Enter your authorization code:\n",
      "··········\n",
      "Mounted at /gdrive\n"
     ]
    }
   ],
   "source": [
    "from google.colab import drive\n",
    "drive.mount('/gdrive')"
   ]
  },
  {
   "cell_type": "code",
   "execution_count": 0,
   "metadata": {
    "colab": {},
    "colab_type": "code",
    "id": "-BNXAU5rsPJS"
   },
   "outputs": [],
   "source": [
    "df_train = pd.read_csv('/gdrive/My Drive/DACON-semiconductor-competition/dataset/train.csv')\n",
    "df_test = pd.read_csv('/gdrive/My Drive/DACON-semiconductor-competition/dataset/test.csv')"
   ]
  },
  {
   "cell_type": "code",
   "execution_count": 0,
   "metadata": {
    "colab": {},
    "colab_type": "code",
    "id": "TdYXclfgsVr6"
   },
   "outputs": [],
   "source": [
    "# 독립변수와 종속변수를 분리합니다.\n",
    "\n",
    "train_X = df_train.iloc[:,4:]\n",
    "train_Y = df_train.iloc[:,0:4]\n",
    "test_X = df_test.iloc[:,1:]"
   ]
  },
  {
   "cell_type": "markdown",
   "metadata": {
    "colab_type": "text",
    "id": "8tT4w6XasaSQ"
   },
   "source": [
    "# Model 4"
   ]
  },
  {
   "cell_type": "markdown",
   "metadata": {},
   "source": [
    "* 6 layers\n",
    "* (239, 252, 265, 178, 91, 4) units, he_normal, relu\n",
    "* BatchNormalization\n",
    "* Adam(0.001)\n",
    "* epochs 100\n",
    "* batch_size 100\n",
    "<br><br>\n",
    "* layer의 층을 더 쌓고, 양쪽 layer units의 평균을 해당 layer units으로 설정\n",
    "* batch_size를 줄여서 가중치의 업데이트량을 증가시킴"
   ]
  },
  {
   "cell_type": "code",
   "execution_count": 6,
   "metadata": {
    "colab": {
     "base_uri": "https://localhost:8080/",
     "height": 1000
    },
    "colab_type": "code",
    "id": "4PSSfoS5sfWK",
    "outputId": "50c4f217-e1de-4b4e-df1f-b479e629341f"
   },
   "outputs": [
    {
     "name": "stdout",
     "output_type": "stream",
     "text": [
      "Train on 769500 samples, validate on 40500 samples\n",
      "Epoch 1/100\n",
      "769500/769500 [==============================] - 93s 121us/step - loss: 39.5718 - mean_absolute_error: 39.5718 - val_loss: 34.8774 - val_mean_absolute_error: 34.8774\n",
      "Epoch 2/100\n",
      "769500/769500 [==============================] - 90s 117us/step - loss: 18.1916 - mean_absolute_error: 18.1916 - val_loss: 27.7068 - val_mean_absolute_error: 27.7068\n",
      "Epoch 3/100\n",
      "769500/769500 [==============================] - 89s 116us/step - loss: 15.0244 - mean_absolute_error: 15.0244 - val_loss: 26.3062 - val_mean_absolute_error: 26.3062\n",
      "Epoch 4/100\n",
      "769500/769500 [==============================] - 89s 116us/step - loss: 13.3686 - mean_absolute_error: 13.3686 - val_loss: 23.1856 - val_mean_absolute_error: 23.1856\n",
      "Epoch 5/100\n",
      "769500/769500 [==============================] - 89s 115us/step - loss: 12.2983 - mean_absolute_error: 12.2983 - val_loss: 22.2986 - val_mean_absolute_error: 22.2986\n",
      "Epoch 6/100\n",
      "769500/769500 [==============================] - 88s 114us/step - loss: 11.5355 - mean_absolute_error: 11.5355 - val_loss: 21.0059 - val_mean_absolute_error: 21.0059\n",
      "Epoch 7/100\n",
      "769500/769500 [==============================] - 88s 114us/step - loss: 10.9873 - mean_absolute_error: 10.9873 - val_loss: 19.8013 - val_mean_absolute_error: 19.8013\n",
      "Epoch 8/100\n",
      "769500/769500 [==============================] - 87s 114us/step - loss: 10.5096 - mean_absolute_error: 10.5096 - val_loss: 18.7483 - val_mean_absolute_error: 18.7483\n",
      "Epoch 9/100\n",
      "769500/769500 [==============================] - 89s 115us/step - loss: 10.0781 - mean_absolute_error: 10.0781 - val_loss: 20.8582 - val_mean_absolute_error: 20.8582\n",
      "Epoch 10/100\n",
      "769500/769500 [==============================] - 88s 115us/step - loss: 9.7823 - mean_absolute_error: 9.7823 - val_loss: 19.6144 - val_mean_absolute_error: 19.6144\n",
      "Epoch 11/100\n",
      "769500/769500 [==============================] - 87s 114us/step - loss: 9.4759 - mean_absolute_error: 9.4759 - val_loss: 16.9518 - val_mean_absolute_error: 16.9518\n",
      "Epoch 12/100\n",
      "769500/769500 [==============================] - 88s 114us/step - loss: 9.2422 - mean_absolute_error: 9.2422 - val_loss: 17.8427 - val_mean_absolute_error: 17.8427\n",
      "Epoch 13/100\n",
      "769500/769500 [==============================] - 87s 114us/step - loss: 9.0064 - mean_absolute_error: 9.0064 - val_loss: 17.9144 - val_mean_absolute_error: 17.9144\n",
      "Epoch 14/100\n",
      "769500/769500 [==============================] - 87s 113us/step - loss: 8.8277 - mean_absolute_error: 8.8277 - val_loss: 17.4617 - val_mean_absolute_error: 17.4617\n",
      "Epoch 15/100\n",
      "769500/769500 [==============================] - 87s 113us/step - loss: 8.6576 - mean_absolute_error: 8.6576 - val_loss: 18.1360 - val_mean_absolute_error: 18.1360\n",
      "Epoch 16/100\n",
      "769500/769500 [==============================] - 87s 113us/step - loss: 8.5077 - mean_absolute_error: 8.5077 - val_loss: 15.7759 - val_mean_absolute_error: 15.7759\n",
      "Epoch 17/100\n",
      "769500/769500 [==============================] - 87s 114us/step - loss: 8.3439 - mean_absolute_error: 8.3439 - val_loss: 16.6252 - val_mean_absolute_error: 16.6252\n",
      "Epoch 18/100\n",
      "769500/769500 [==============================] - 87s 113us/step - loss: 8.1990 - mean_absolute_error: 8.1990 - val_loss: 16.1697 - val_mean_absolute_error: 16.1697\n",
      "Epoch 19/100\n",
      "769500/769500 [==============================] - 85s 111us/step - loss: 8.0877 - mean_absolute_error: 8.0877 - val_loss: 15.9213 - val_mean_absolute_error: 15.9213\n",
      "Epoch 20/100\n",
      "769500/769500 [==============================] - 85s 111us/step - loss: 7.9663 - mean_absolute_error: 7.9663 - val_loss: 15.9125 - val_mean_absolute_error: 15.9125\n",
      "Epoch 21/100\n",
      "769500/769500 [==============================] - 88s 114us/step - loss: 7.8484 - mean_absolute_error: 7.8484 - val_loss: 14.8611 - val_mean_absolute_error: 14.8611\n",
      "Epoch 22/100\n",
      "769500/769500 [==============================] - 86s 112us/step - loss: 7.7482 - mean_absolute_error: 7.7482 - val_loss: 14.9585 - val_mean_absolute_error: 14.9585\n",
      "Epoch 23/100\n",
      "769500/769500 [==============================] - 86s 111us/step - loss: 7.6617 - mean_absolute_error: 7.6617 - val_loss: 16.2791 - val_mean_absolute_error: 16.2791\n",
      "Epoch 24/100\n",
      "769500/769500 [==============================] - 86s 112us/step - loss: 7.5790 - mean_absolute_error: 7.5790 - val_loss: 15.3592 - val_mean_absolute_error: 15.3592\n",
      "Epoch 25/100\n",
      "769500/769500 [==============================] - 85s 110us/step - loss: 7.5230 - mean_absolute_error: 7.5230 - val_loss: 16.2226 - val_mean_absolute_error: 16.2226\n",
      "Epoch 26/100\n",
      "769500/769500 [==============================] - 85s 111us/step - loss: 7.4263 - mean_absolute_error: 7.4263 - val_loss: 14.5236 - val_mean_absolute_error: 14.5236\n",
      "Epoch 27/100\n",
      "769500/769500 [==============================] - 84s 110us/step - loss: 7.3765 - mean_absolute_error: 7.3765 - val_loss: 15.7022 - val_mean_absolute_error: 15.7022\n",
      "Epoch 28/100\n",
      "769500/769500 [==============================] - 83s 108us/step - loss: 7.2676 - mean_absolute_error: 7.2676 - val_loss: 15.2250 - val_mean_absolute_error: 15.2250\n",
      "Epoch 29/100\n",
      "769500/769500 [==============================] - 83s 108us/step - loss: 7.1806 - mean_absolute_error: 7.1806 - val_loss: 15.2730 - val_mean_absolute_error: 15.2730\n",
      "Epoch 30/100\n",
      "769500/769500 [==============================] - 83s 108us/step - loss: 7.1503 - mean_absolute_error: 7.1503 - val_loss: 14.2697 - val_mean_absolute_error: 14.2697\n",
      "Epoch 31/100\n",
      "769500/769500 [==============================] - 83s 108us/step - loss: 7.0907 - mean_absolute_error: 7.0907 - val_loss: 14.3013 - val_mean_absolute_error: 14.3013\n",
      "Epoch 32/100\n",
      "769500/769500 [==============================] - 83s 108us/step - loss: 7.0416 - mean_absolute_error: 7.0416 - val_loss: 15.1674 - val_mean_absolute_error: 15.1674\n",
      "Epoch 33/100\n",
      "769500/769500 [==============================] - 83s 108us/step - loss: 6.9604 - mean_absolute_error: 6.9604 - val_loss: 14.3811 - val_mean_absolute_error: 14.3811\n",
      "Epoch 34/100\n",
      "769500/769500 [==============================] - 83s 108us/step - loss: 6.9244 - mean_absolute_error: 6.9244 - val_loss: 14.8534 - val_mean_absolute_error: 14.8534\n",
      "Epoch 35/100\n",
      "769500/769500 [==============================] - 83s 108us/step - loss: 6.8753 - mean_absolute_error: 6.8753 - val_loss: 13.5575 - val_mean_absolute_error: 13.5575\n",
      "Epoch 36/100\n",
      "769500/769500 [==============================] - 83s 108us/step - loss: 6.8200 - mean_absolute_error: 6.8200 - val_loss: 13.4904 - val_mean_absolute_error: 13.4904\n",
      "Epoch 37/100\n",
      "769500/769500 [==============================] - 82s 107us/step - loss: 6.7826 - mean_absolute_error: 6.7826 - val_loss: 13.8948 - val_mean_absolute_error: 13.8948\n",
      "Epoch 38/100\n",
      "769500/769500 [==============================] - 83s 108us/step - loss: 6.7229 - mean_absolute_error: 6.7229 - val_loss: 13.3636 - val_mean_absolute_error: 13.3636\n",
      "Epoch 39/100\n",
      "769500/769500 [==============================] - 82s 106us/step - loss: 6.6899 - mean_absolute_error: 6.6899 - val_loss: 13.6860 - val_mean_absolute_error: 13.6860\n",
      "Epoch 40/100\n",
      "769500/769500 [==============================] - 81s 106us/step - loss: 6.6392 - mean_absolute_error: 6.6392 - val_loss: 14.3843 - val_mean_absolute_error: 14.3843\n",
      "Epoch 41/100\n",
      "769500/769500 [==============================] - 82s 106us/step - loss: 6.6005 - mean_absolute_error: 6.6005 - val_loss: 13.5981 - val_mean_absolute_error: 13.5981\n",
      "Epoch 42/100\n",
      "769500/769500 [==============================] - 83s 107us/step - loss: 6.5569 - mean_absolute_error: 6.5569 - val_loss: 13.9892 - val_mean_absolute_error: 13.9892\n",
      "Epoch 43/100\n",
      "769500/769500 [==============================] - 82s 106us/step - loss: 6.5211 - mean_absolute_error: 6.5211 - val_loss: 13.9024 - val_mean_absolute_error: 13.9024\n",
      "Epoch 44/100\n",
      "769500/769500 [==============================] - 82s 106us/step - loss: 6.4944 - mean_absolute_error: 6.4944 - val_loss: 13.3511 - val_mean_absolute_error: 13.3511\n",
      "Epoch 45/100\n",
      "769500/769500 [==============================] - 82s 107us/step - loss: 6.4465 - mean_absolute_error: 6.4465 - val_loss: 13.3173 - val_mean_absolute_error: 13.3173\n",
      "Epoch 46/100\n",
      "769500/769500 [==============================] - 81s 106us/step - loss: 6.4145 - mean_absolute_error: 6.4145 - val_loss: 13.1516 - val_mean_absolute_error: 13.1516\n",
      "Epoch 47/100\n",
      "769500/769500 [==============================] - 81s 105us/step - loss: 6.3770 - mean_absolute_error: 6.3770 - val_loss: 13.2853 - val_mean_absolute_error: 13.2853\n",
      "Epoch 48/100\n",
      "769500/769500 [==============================] - 81s 105us/step - loss: 6.3371 - mean_absolute_error: 6.3371 - val_loss: 12.9235 - val_mean_absolute_error: 12.9235\n",
      "Epoch 49/100\n",
      "769500/769500 [==============================] - 82s 107us/step - loss: 6.3072 - mean_absolute_error: 6.3072 - val_loss: 13.6359 - val_mean_absolute_error: 13.6359\n",
      "Epoch 50/100\n",
      "769500/769500 [==============================] - 83s 107us/step - loss: 6.2748 - mean_absolute_error: 6.2748 - val_loss: 12.7568 - val_mean_absolute_error: 12.7568\n",
      "Epoch 51/100\n",
      "769500/769500 [==============================] - 82s 107us/step - loss: 6.2410 - mean_absolute_error: 6.2410 - val_loss: 12.9197 - val_mean_absolute_error: 12.9197\n",
      "Epoch 52/100\n",
      "769500/769500 [==============================] - 82s 106us/step - loss: 6.2160 - mean_absolute_error: 6.2160 - val_loss: 11.7118 - val_mean_absolute_error: 11.7118\n",
      "Epoch 53/100\n",
      "769500/769500 [==============================] - 82s 107us/step - loss: 6.1880 - mean_absolute_error: 6.1880 - val_loss: 12.7717 - val_mean_absolute_error: 12.7717\n",
      "Epoch 54/100\n",
      "769500/769500 [==============================] - 82s 107us/step - loss: 6.1691 - mean_absolute_error: 6.1691 - val_loss: 12.5898 - val_mean_absolute_error: 12.5898\n",
      "Epoch 55/100\n",
      "769500/769500 [==============================] - 82s 106us/step - loss: 6.1454 - mean_absolute_error: 6.1454 - val_loss: 12.2773 - val_mean_absolute_error: 12.2773\n",
      "Epoch 56/100\n",
      "769500/769500 [==============================] - 82s 107us/step - loss: 6.1025 - mean_absolute_error: 6.1025 - val_loss: 12.0955 - val_mean_absolute_error: 12.0955\n",
      "Epoch 57/100\n",
      "769500/769500 [==============================] - 83s 108us/step - loss: 6.0814 - mean_absolute_error: 6.0814 - val_loss: 13.3167 - val_mean_absolute_error: 13.3167\n",
      "Epoch 58/100\n",
      "769500/769500 [==============================] - 82s 107us/step - loss: 6.0487 - mean_absolute_error: 6.0487 - val_loss: 14.3930 - val_mean_absolute_error: 14.3930\n",
      "Epoch 59/100\n",
      "769500/769500 [==============================] - 83s 107us/step - loss: 6.0199 - mean_absolute_error: 6.0199 - val_loss: 12.5302 - val_mean_absolute_error: 12.5302\n",
      "Epoch 60/100\n",
      "769500/769500 [==============================] - 83s 108us/step - loss: 6.0176 - mean_absolute_error: 6.0176 - val_loss: 12.2552 - val_mean_absolute_error: 12.2552\n",
      "Epoch 61/100\n",
      "769500/769500 [==============================] - 82s 107us/step - loss: 5.9688 - mean_absolute_error: 5.9688 - val_loss: 12.1457 - val_mean_absolute_error: 12.1457\n",
      "Epoch 62/100\n",
      "769500/769500 [==============================] - 82s 107us/step - loss: 5.9478 - mean_absolute_error: 5.9478 - val_loss: 13.5967 - val_mean_absolute_error: 13.5967\n",
      "Epoch 63/100\n",
      "769500/769500 [==============================] - 82s 107us/step - loss: 5.9475 - mean_absolute_error: 5.9475 - val_loss: 12.3728 - val_mean_absolute_error: 12.3728\n",
      "Epoch 64/100\n",
      "769500/769500 [==============================] - 83s 108us/step - loss: 5.9088 - mean_absolute_error: 5.9088 - val_loss: 12.0359 - val_mean_absolute_error: 12.0359\n",
      "Epoch 65/100\n",
      "769500/769500 [==============================] - 82s 107us/step - loss: 5.8878 - mean_absolute_error: 5.8878 - val_loss: 11.8886 - val_mean_absolute_error: 11.8886\n",
      "Epoch 66/100\n",
      "769500/769500 [==============================] - 82s 106us/step - loss: 5.8736 - mean_absolute_error: 5.8736 - val_loss: 13.0453 - val_mean_absolute_error: 13.0453\n",
      "Epoch 67/100\n",
      "769500/769500 [==============================] - 82s 106us/step - loss: 5.8491 - mean_absolute_error: 5.8491 - val_loss: 11.5598 - val_mean_absolute_error: 11.5598\n",
      "Epoch 68/100\n",
      "769500/769500 [==============================] - 83s 108us/step - loss: 5.8255 - mean_absolute_error: 5.8255 - val_loss: 11.9149 - val_mean_absolute_error: 11.9149\n",
      "Epoch 69/100\n",
      "769500/769500 [==============================] - 82s 106us/step - loss: 5.7858 - mean_absolute_error: 5.7858 - val_loss: 13.0585 - val_mean_absolute_error: 13.0585\n",
      "Epoch 70/100\n",
      "769500/769500 [==============================] - 82s 107us/step - loss: 5.7938 - mean_absolute_error: 5.7938 - val_loss: 11.8618 - val_mean_absolute_error: 11.8618\n",
      "Epoch 71/100\n",
      "769500/769500 [==============================] - 82s 106us/step - loss: 5.7704 - mean_absolute_error: 5.7704 - val_loss: 12.0694 - val_mean_absolute_error: 12.0694\n",
      "Epoch 72/100\n",
      "769500/769500 [==============================] - 82s 107us/step - loss: 5.7437 - mean_absolute_error: 5.7437 - val_loss: 11.6054 - val_mean_absolute_error: 11.6054\n",
      "Epoch 73/100\n",
      "769500/769500 [==============================] - 81s 106us/step - loss: 5.7470 - mean_absolute_error: 5.7470 - val_loss: 12.2794 - val_mean_absolute_error: 12.2794\n",
      "Epoch 74/100\n",
      "769500/769500 [==============================] - 82s 106us/step - loss: 5.7064 - mean_absolute_error: 5.7064 - val_loss: 11.9283 - val_mean_absolute_error: 11.9283\n",
      "Epoch 75/100\n",
      "769500/769500 [==============================] - 82s 107us/step - loss: 5.6885 - mean_absolute_error: 5.6885 - val_loss: 11.9765 - val_mean_absolute_error: 11.9765\n",
      "Epoch 76/100\n",
      "769500/769500 [==============================] - 83s 108us/step - loss: 5.6752 - mean_absolute_error: 5.6752 - val_loss: 12.9513 - val_mean_absolute_error: 12.9513\n",
      "Epoch 77/100\n",
      "769500/769500 [==============================] - 82s 106us/step - loss: 5.6559 - mean_absolute_error: 5.6559 - val_loss: 10.6529 - val_mean_absolute_error: 10.6529\n",
      "Epoch 78/100\n",
      "769500/769500 [==============================] - 82s 106us/step - loss: 5.6211 - mean_absolute_error: 5.6211 - val_loss: 11.4896 - val_mean_absolute_error: 11.4896\n",
      "Epoch 79/100\n",
      "769500/769500 [==============================] - 81s 106us/step - loss: 5.6201 - mean_absolute_error: 5.6201 - val_loss: 11.7628 - val_mean_absolute_error: 11.7628\n",
      "Epoch 80/100\n",
      "769500/769500 [==============================] - 81s 106us/step - loss: 5.6021 - mean_absolute_error: 5.6021 - val_loss: 12.1687 - val_mean_absolute_error: 12.1687\n",
      "Epoch 81/100\n",
      "769500/769500 [==============================] - 82s 107us/step - loss: 5.5908 - mean_absolute_error: 5.5908 - val_loss: 11.8477 - val_mean_absolute_error: 11.8477\n",
      "Epoch 82/100\n",
      "769500/769500 [==============================] - 82s 106us/step - loss: 5.5784 - mean_absolute_error: 5.5784 - val_loss: 12.8751 - val_mean_absolute_error: 12.8751\n",
      "Epoch 83/100\n",
      "769500/769500 [==============================] - 83s 107us/step - loss: 5.5599 - mean_absolute_error: 5.5599 - val_loss: 11.0265 - val_mean_absolute_error: 11.0265\n",
      "Epoch 84/100\n",
      "769500/769500 [==============================] - 81s 105us/step - loss: 5.5510 - mean_absolute_error: 5.5510 - val_loss: 12.3612 - val_mean_absolute_error: 12.3612\n",
      "Epoch 85/100\n",
      "769500/769500 [==============================] - 81s 105us/step - loss: 5.5214 - mean_absolute_error: 5.5214 - val_loss: 13.1414 - val_mean_absolute_error: 13.1414\n",
      "Epoch 86/100\n",
      "769500/769500 [==============================] - 81s 105us/step - loss: 5.5183 - mean_absolute_error: 5.5183 - val_loss: 12.2351 - val_mean_absolute_error: 12.2351\n",
      "Epoch 87/100\n",
      "769500/769500 [==============================] - 82s 106us/step - loss: 5.4930 - mean_absolute_error: 5.4930 - val_loss: 11.4270 - val_mean_absolute_error: 11.4270\n",
      "Epoch 88/100\n",
      "769500/769500 [==============================] - 81s 105us/step - loss: 5.4548 - mean_absolute_error: 5.4548 - val_loss: 11.5503 - val_mean_absolute_error: 11.5503\n",
      "Epoch 89/100\n",
      "769500/769500 [==============================] - 81s 105us/step - loss: 5.4691 - mean_absolute_error: 5.4691 - val_loss: 11.8590 - val_mean_absolute_error: 11.8590\n",
      "Epoch 90/100\n",
      "769500/769500 [==============================] - 81s 105us/step - loss: 5.4480 - mean_absolute_error: 5.4480 - val_loss: 10.8647 - val_mean_absolute_error: 10.8647\n",
      "Epoch 91/100\n",
      "769500/769500 [==============================] - 82s 106us/step - loss: 5.4381 - mean_absolute_error: 5.4381 - val_loss: 11.7974 - val_mean_absolute_error: 11.7974\n",
      "Epoch 92/100\n",
      "769500/769500 [==============================] - 82s 106us/step - loss: 5.4262 - mean_absolute_error: 5.4262 - val_loss: 11.1943 - val_mean_absolute_error: 11.1943\n",
      "Epoch 93/100\n",
      "769500/769500 [==============================] - 81s 105us/step - loss: 5.4054 - mean_absolute_error: 5.4054 - val_loss: 11.8587 - val_mean_absolute_error: 11.8587\n",
      "Epoch 94/100\n",
      "769500/769500 [==============================] - 82s 106us/step - loss: 5.3872 - mean_absolute_error: 5.3872 - val_loss: 12.1188 - val_mean_absolute_error: 12.1188\n",
      "Epoch 95/100\n",
      "769500/769500 [==============================] - 82s 106us/step - loss: 5.3859 - mean_absolute_error: 5.3859 - val_loss: 10.9769 - val_mean_absolute_error: 10.9769\n",
      "Epoch 96/100\n",
      "769500/769500 [==============================] - 81s 105us/step - loss: 5.3604 - mean_absolute_error: 5.3604 - val_loss: 12.3574 - val_mean_absolute_error: 12.3574\n",
      "Epoch 97/100\n",
      "769500/769500 [==============================] - 81s 105us/step - loss: 5.3493 - mean_absolute_error: 5.3493 - val_loss: 11.8246 - val_mean_absolute_error: 11.8246\n",
      "Epoch 98/100\n",
      "769500/769500 [==============================] - 82s 106us/step - loss: 5.3268 - mean_absolute_error: 5.3268 - val_loss: 11.0648 - val_mean_absolute_error: 11.0648\n",
      "Epoch 99/100\n",
      "769500/769500 [==============================] - 81s 105us/step - loss: 5.3311 - mean_absolute_error: 5.3311 - val_loss: 12.0251 - val_mean_absolute_error: 12.0251\n",
      "Epoch 100/100\n",
      "769500/769500 [==============================] - 81s 105us/step - loss: 5.3182 - mean_absolute_error: 5.3182 - val_loss: 11.8995 - val_mean_absolute_error: 11.8995\n"
     ]
    },
    {
     "data": {
      "text/plain": [
       "<keras.callbacks.History at 0x7f61c2598cf8>"
      ]
     },
     "execution_count": 6,
     "metadata": {
      "tags": []
     },
     "output_type": "execute_result"
    }
   ],
   "source": [
    "# 케라스를 통해 모델 생성을 시작합니다.\n",
    "\n",
    "model_04 = Sequential()\n",
    "model_04.add(Dense(units= 239, input_dim=226, kernel_initializer='he_normal'))\n",
    "model_04.add(BatchNormalization())\n",
    "model_04.add(Activation('relu'))\n",
    "model_04.add(Dense(units=252, kernel_initializer='he_normal'))\n",
    "model_04.add(BatchNormalization())\n",
    "model_04.add(Activation('relu'))\n",
    "model_04.add(Dense(units=265, kernel_initializer='he_normal'))\n",
    "model_04.add(BatchNormalization())\n",
    "model_04.add(Activation('relu'))\n",
    "model_04.add(Dense(units=178, kernel_initializer='he_normal'))\n",
    "model_04.add(BatchNormalization())\n",
    "model_04.add(Activation('relu'))\n",
    "model_04.add(Dense(units=91, kernel_initializer='he_normal'))\n",
    "model_04.add(BatchNormalization())\n",
    "model_04.add(Activation('relu'))\n",
    "model_04.add(Dense(units=4, activation='linear'))\n",
    "\n",
    "adam = keras.optimizers.Adam(0.001)\n",
    "model_04.compile(loss='mae', optimizer=adam, metrics=['mae'])\n",
    "\n",
    "model_04.fit(train_X, train_Y, epochs=100, batch_size=100, validation_split=0.05)"
   ]
  },
  {
   "cell_type": "code",
   "execution_count": 0,
   "metadata": {
    "colab": {},
    "colab_type": "code",
    "id": "LiyWfkg8th-j"
   },
   "outputs": [],
   "source": [
    "# 예측값을 생성합니다.\n",
    "\n",
    "pred_test_04 = model_04.predict(test_X)"
   ]
  },
  {
   "cell_type": "code",
   "execution_count": 0,
   "metadata": {
    "colab": {},
    "colab_type": "code",
    "id": "yf_eJCXNtiGB"
   },
   "outputs": [],
   "source": [
    "# submission 파일을 생성합니다.\n",
    "sample_sub = pd.read_csv('/gdrive/My Drive/DACON-semiconductor-competition/dataset/sample_submission.csv', index_col=0)\n",
    "submission = sample_sub+pred_test_04\n",
    "submission.to_csv('/gdrive/My Drive/DACON-semiconductor-competition/submission_04.csv')"
   ]
  }
 ],
 "metadata": {
  "accelerator": "GPU",
  "colab": {
   "authorship_tag": "ABX9TyN+IL3Fg8PdWf1TzkItAQD3",
   "collapsed_sections": [],
   "include_colab_link": true,
   "name": "submission_04.ipynb",
   "provenance": []
  },
  "kernelspec": {
   "display_name": "Python 3",
   "language": "python",
   "name": "python3"
  },
  "language_info": {
   "codemirror_mode": {
    "name": "ipython",
    "version": 3
   },
   "file_extension": ".py",
   "mimetype": "text/x-python",
   "name": "python",
   "nbconvert_exporter": "python",
   "pygments_lexer": "ipython3",
   "version": "3.7.3"
  }
 },
 "nbformat": 4,
 "nbformat_minor": 1
}
