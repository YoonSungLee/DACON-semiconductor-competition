{
 "cells": [
  {
   "cell_type": "markdown",
   "metadata": {
    "colab_type": "text",
    "id": "view-in-github"
   },
   "source": [
    "<a href=\"https://colab.research.google.com/github/Inha-AI/DACON-semiconductor-competition/blob/feature%2FYoonSungLee/submission_05.ipynb\" target=\"_parent\"><img src=\"https://colab.research.google.com/assets/colab-badge.svg\" alt=\"Open In Colab\"/></a>"
   ]
  },
  {
   "cell_type": "code",
   "execution_count": 1,
   "metadata": {
    "colab": {
     "base_uri": "https://localhost:8080/",
     "height": 101
    },
    "colab_type": "code",
    "id": "0vVeUdyssBKw",
    "outputId": "976057ad-b641-480b-a01c-c8aa0824a641"
   },
   "outputs": [
    {
     "name": "stderr",
     "output_type": "stream",
     "text": [
      "Using TensorFlow backend.\n"
     ]
    },
    {
     "data": {
      "text/html": [
       "<p style=\"color: red;\">\n",
       "The default version of TensorFlow in Colab will soon switch to TensorFlow 2.x.<br>\n",
       "We recommend you <a href=\"https://www.tensorflow.org/guide/migrate\" target=\"_blank\">upgrade</a> now \n",
       "or ensure your notebook will continue to use TensorFlow 1.x via the <code>%tensorflow_version 1.x</code> magic:\n",
       "<a href=\"https://colab.research.google.com/notebooks/tensorflow_version.ipynb\" target=\"_blank\">more info</a>.</p>\n"
      ],
      "text/plain": [
       "<IPython.core.display.HTML object>"
      ]
     },
     "metadata": {
      "tags": []
     },
     "output_type": "display_data"
    }
   ],
   "source": [
    "import numpy as np\n",
    "import pandas as pd\n",
    "import matplotlib.pyplot as plt\n",
    "import keras\n",
    "from keras.models import Sequential\n",
    "from keras.layers import Dense, Activation, Dropout\n",
    "from keras.layers import BatchNormalization"
   ]
  },
  {
   "cell_type": "code",
   "execution_count": 2,
   "metadata": {
    "colab": {
     "base_uri": "https://localhost:8080/",
     "height": 131
    },
    "colab_type": "code",
    "id": "EwHXDEigsNB0",
    "outputId": "fd7fa85d-d214-4968-ce62-cf15a5e89495"
   },
   "outputs": [
    {
     "name": "stdout",
     "output_type": "stream",
     "text": [
      "Go to this URL in a browser: https://accounts.google.com/o/oauth2/auth?client_id=947318989803-6bn6qk8qdgf4n4g3pfee6491hc0brc4i.apps.googleusercontent.com&redirect_uri=urn%3aietf%3awg%3aoauth%3a2.0%3aoob&response_type=code&scope=email%20https%3a%2f%2fwww.googleapis.com%2fauth%2fdocs.test%20https%3a%2f%2fwww.googleapis.com%2fauth%2fdrive%20https%3a%2f%2fwww.googleapis.com%2fauth%2fdrive.photos.readonly%20https%3a%2f%2fwww.googleapis.com%2fauth%2fpeopleapi.readonly\n",
      "\n",
      "Enter your authorization code:\n",
      "··········\n",
      "Mounted at /gdrive\n"
     ]
    }
   ],
   "source": [
    "from google.colab import drive\n",
    "drive.mount('/gdrive')"
   ]
  },
  {
   "cell_type": "code",
   "execution_count": 0,
   "metadata": {
    "colab": {},
    "colab_type": "code",
    "id": "-BNXAU5rsPJS"
   },
   "outputs": [],
   "source": [
    "df_train = pd.read_csv('/gdrive/My Drive/DACON-semiconductor-competition/dataset/train.csv')\n",
    "df_test = pd.read_csv('/gdrive/My Drive/DACON-semiconductor-competition/dataset/test.csv')"
   ]
  },
  {
   "cell_type": "code",
   "execution_count": 0,
   "metadata": {
    "colab": {},
    "colab_type": "code",
    "id": "TdYXclfgsVr6"
   },
   "outputs": [],
   "source": [
    "# 독립변수와 종속변수를 분리합니다.\n",
    "\n",
    "train_X = df_train.iloc[:,4:]\n",
    "train_Y = df_train.iloc[:,0:4]\n",
    "test_X = df_test.iloc[:,1:]"
   ]
  },
  {
   "cell_type": "markdown",
   "metadata": {
    "colab_type": "text",
    "id": "8tT4w6XasaSQ"
   },
   "source": [
    "# Model 5"
   ]
  },
  {
   "cell_type": "markdown",
   "metadata": {},
   "source": [
    "* 6 layers\n",
    "* (239, 252, 265, 178, 91, 4) units, he_normal, relu\n",
    "* BatchNormalization\n",
    "* Adam(0.001)\n",
    "* epochs 100\n",
    "* batch_size 500\n",
    "<br><br>\n",
    "* batch_size를 증가시켰더니 오히려 성능이 향상"
   ]
  },
  {
   "cell_type": "code",
   "execution_count": 5,
   "metadata": {
    "colab": {
     "base_uri": "https://localhost:8080/",
     "height": 1000
    },
    "colab_type": "code",
    "id": "4PSSfoS5sfWK",
    "outputId": "fafef91f-6264-43f3-a003-df85b1b47963"
   },
   "outputs": [
    {
     "name": "stdout",
     "output_type": "stream",
     "text": [
      "WARNING:tensorflow:From /usr/local/lib/python3.6/dist-packages/keras/backend/tensorflow_backend.py:66: The name tf.get_default_graph is deprecated. Please use tf.compat.v1.get_default_graph instead.\n",
      "\n",
      "WARNING:tensorflow:From /usr/local/lib/python3.6/dist-packages/keras/backend/tensorflow_backend.py:541: The name tf.placeholder is deprecated. Please use tf.compat.v1.placeholder instead.\n",
      "\n",
      "WARNING:tensorflow:From /usr/local/lib/python3.6/dist-packages/keras/backend/tensorflow_backend.py:4479: The name tf.truncated_normal is deprecated. Please use tf.random.truncated_normal instead.\n",
      "\n",
      "WARNING:tensorflow:From /usr/local/lib/python3.6/dist-packages/keras/backend/tensorflow_backend.py:148: The name tf.placeholder_with_default is deprecated. Please use tf.compat.v1.placeholder_with_default instead.\n",
      "\n",
      "WARNING:tensorflow:From /usr/local/lib/python3.6/dist-packages/keras/backend/tensorflow_backend.py:4432: The name tf.random_uniform is deprecated. Please use tf.random.uniform instead.\n",
      "\n",
      "WARNING:tensorflow:From /usr/local/lib/python3.6/dist-packages/keras/optimizers.py:793: The name tf.train.Optimizer is deprecated. Please use tf.compat.v1.train.Optimizer instead.\n",
      "\n",
      "WARNING:tensorflow:From /usr/local/lib/python3.6/dist-packages/keras/backend/tensorflow_backend.py:1033: The name tf.assign_add is deprecated. Please use tf.compat.v1.assign_add instead.\n",
      "\n",
      "WARNING:tensorflow:From /usr/local/lib/python3.6/dist-packages/keras/backend/tensorflow_backend.py:1020: The name tf.assign is deprecated. Please use tf.compat.v1.assign instead.\n",
      "\n",
      "WARNING:tensorflow:From /usr/local/lib/python3.6/dist-packages/keras/backend/tensorflow_backend.py:3005: The name tf.Session is deprecated. Please use tf.compat.v1.Session instead.\n",
      "\n",
      "Train on 769500 samples, validate on 40500 samples\n",
      "Epoch 1/100\n",
      "WARNING:tensorflow:From /usr/local/lib/python3.6/dist-packages/keras/backend/tensorflow_backend.py:190: The name tf.get_default_session is deprecated. Please use tf.compat.v1.get_default_session instead.\n",
      "\n",
      "WARNING:tensorflow:From /usr/local/lib/python3.6/dist-packages/keras/backend/tensorflow_backend.py:197: The name tf.ConfigProto is deprecated. Please use tf.compat.v1.ConfigProto instead.\n",
      "\n",
      "WARNING:tensorflow:From /usr/local/lib/python3.6/dist-packages/keras/backend/tensorflow_backend.py:207: The name tf.global_variables is deprecated. Please use tf.compat.v1.global_variables instead.\n",
      "\n",
      "WARNING:tensorflow:From /usr/local/lib/python3.6/dist-packages/keras/backend/tensorflow_backend.py:216: The name tf.is_variable_initialized is deprecated. Please use tf.compat.v1.is_variable_initialized instead.\n",
      "\n",
      "WARNING:tensorflow:From /usr/local/lib/python3.6/dist-packages/keras/backend/tensorflow_backend.py:223: The name tf.variables_initializer is deprecated. Please use tf.compat.v1.variables_initializer instead.\n",
      "\n",
      "769500/769500 [==============================] - 36s 47us/step - loss: 79.1293 - mean_absolute_error: 79.1293 - val_loss: 49.5087 - val_mean_absolute_error: 49.5087\n",
      "Epoch 2/100\n",
      "769500/769500 [==============================] - 24s 31us/step - loss: 22.2881 - mean_absolute_error: 22.2881 - val_loss: 33.5192 - val_mean_absolute_error: 33.5192\n",
      "Epoch 3/100\n",
      "769500/769500 [==============================] - 24s 32us/step - loss: 15.1265 - mean_absolute_error: 15.1265 - val_loss: 27.5035 - val_mean_absolute_error: 27.5035\n",
      "Epoch 4/100\n",
      "769500/769500 [==============================] - 24s 31us/step - loss: 12.7038 - mean_absolute_error: 12.7038 - val_loss: 27.2539 - val_mean_absolute_error: 27.2539\n",
      "Epoch 5/100\n",
      "769500/769500 [==============================] - 24s 31us/step - loss: 11.2721 - mean_absolute_error: 11.2721 - val_loss: 26.2443 - val_mean_absolute_error: 26.2443\n",
      "Epoch 6/100\n",
      "769500/769500 [==============================] - 24s 31us/step - loss: 10.3196 - mean_absolute_error: 10.3196 - val_loss: 23.8377 - val_mean_absolute_error: 23.8377\n",
      "Epoch 7/100\n",
      "769500/769500 [==============================] - 24s 31us/step - loss: 9.6024 - mean_absolute_error: 9.6024 - val_loss: 25.0095 - val_mean_absolute_error: 25.0095\n",
      "Epoch 8/100\n",
      "769500/769500 [==============================] - 24s 31us/step - loss: 9.0222 - mean_absolute_error: 9.0222 - val_loss: 23.5645 - val_mean_absolute_error: 23.5645\n",
      "Epoch 9/100\n",
      "769500/769500 [==============================] - 24s 31us/step - loss: 8.5675 - mean_absolute_error: 8.5675 - val_loss: 23.3446 - val_mean_absolute_error: 23.3446\n",
      "Epoch 10/100\n",
      "769500/769500 [==============================] - 24s 32us/step - loss: 8.2421 - mean_absolute_error: 8.2421 - val_loss: 23.2885 - val_mean_absolute_error: 23.2885\n",
      "Epoch 11/100\n",
      "769500/769500 [==============================] - 24s 31us/step - loss: 7.8547 - mean_absolute_error: 7.8547 - val_loss: 19.5851 - val_mean_absolute_error: 19.5851\n",
      "Epoch 12/100\n",
      "769500/769500 [==============================] - 24s 31us/step - loss: 7.5983 - mean_absolute_error: 7.5983 - val_loss: 19.7561 - val_mean_absolute_error: 19.7561\n",
      "Epoch 13/100\n",
      "769500/769500 [==============================] - 24s 31us/step - loss: 7.3555 - mean_absolute_error: 7.3555 - val_loss: 20.2385 - val_mean_absolute_error: 20.2385\n",
      "Epoch 14/100\n",
      "769500/769500 [==============================] - 24s 31us/step - loss: 7.1535 - mean_absolute_error: 7.1535 - val_loss: 20.6619 - val_mean_absolute_error: 20.6619\n",
      "Epoch 15/100\n",
      "769500/769500 [==============================] - 23s 30us/step - loss: 6.9472 - mean_absolute_error: 6.9472 - val_loss: 19.4843 - val_mean_absolute_error: 19.4843\n",
      "Epoch 16/100\n",
      "769500/769500 [==============================] - 23s 30us/step - loss: 6.7857 - mean_absolute_error: 6.7857 - val_loss: 19.3192 - val_mean_absolute_error: 19.3192\n",
      "Epoch 17/100\n",
      "769500/769500 [==============================] - 23s 30us/step - loss: 6.6200 - mean_absolute_error: 6.6200 - val_loss: 20.3957 - val_mean_absolute_error: 20.3957\n",
      "Epoch 18/100\n",
      "769500/769500 [==============================] - 23s 30us/step - loss: 6.5118 - mean_absolute_error: 6.5118 - val_loss: 20.1227 - val_mean_absolute_error: 20.1227\n",
      "Epoch 19/100\n",
      "769500/769500 [==============================] - 24s 31us/step - loss: 6.3840 - mean_absolute_error: 6.3840 - val_loss: 19.8336 - val_mean_absolute_error: 19.8336\n",
      "Epoch 20/100\n",
      "769500/769500 [==============================] - 23s 30us/step - loss: 6.2289 - mean_absolute_error: 6.2289 - val_loss: 18.5782 - val_mean_absolute_error: 18.5782\n",
      "Epoch 21/100\n",
      "769500/769500 [==============================] - 23s 29us/step - loss: 6.1066 - mean_absolute_error: 6.1066 - val_loss: 17.9113 - val_mean_absolute_error: 17.9113\n",
      "Epoch 22/100\n",
      "769500/769500 [==============================] - 23s 30us/step - loss: 6.0379 - mean_absolute_error: 6.0379 - val_loss: 17.9006 - val_mean_absolute_error: 17.9006\n",
      "Epoch 23/100\n",
      "769500/769500 [==============================] - 23s 30us/step - loss: 5.9138 - mean_absolute_error: 5.9138 - val_loss: 17.4820 - val_mean_absolute_error: 17.4820\n",
      "Epoch 24/100\n",
      "769500/769500 [==============================] - 23s 30us/step - loss: 5.8479 - mean_absolute_error: 5.8479 - val_loss: 17.6055 - val_mean_absolute_error: 17.6055\n",
      "Epoch 25/100\n",
      "769500/769500 [==============================] - 23s 29us/step - loss: 5.7648 - mean_absolute_error: 5.7648 - val_loss: 18.1617 - val_mean_absolute_error: 18.1617\n",
      "Epoch 26/100\n",
      "769500/769500 [==============================] - 22s 29us/step - loss: 5.6999 - mean_absolute_error: 5.6999 - val_loss: 17.3673 - val_mean_absolute_error: 17.3673\n",
      "Epoch 27/100\n",
      "769500/769500 [==============================] - 22s 29us/step - loss: 5.6271 - mean_absolute_error: 5.6271 - val_loss: 17.2321 - val_mean_absolute_error: 17.2321\n",
      "Epoch 28/100\n",
      "769500/769500 [==============================] - 22s 29us/step - loss: 5.5529 - mean_absolute_error: 5.5529 - val_loss: 17.2741 - val_mean_absolute_error: 17.2741\n",
      "Epoch 29/100\n",
      "769500/769500 [==============================] - 23s 30us/step - loss: 5.4763 - mean_absolute_error: 5.4763 - val_loss: 17.9800 - val_mean_absolute_error: 17.9800\n",
      "Epoch 30/100\n",
      "769500/769500 [==============================] - 23s 30us/step - loss: 5.4383 - mean_absolute_error: 5.4383 - val_loss: 17.3036 - val_mean_absolute_error: 17.3036\n",
      "Epoch 31/100\n",
      "769500/769500 [==============================] - 23s 29us/step - loss: 5.3757 - mean_absolute_error: 5.3757 - val_loss: 16.7083 - val_mean_absolute_error: 16.7083\n",
      "Epoch 32/100\n",
      "769500/769500 [==============================] - 23s 30us/step - loss: 5.2986 - mean_absolute_error: 5.2986 - val_loss: 18.2001 - val_mean_absolute_error: 18.2001\n",
      "Epoch 33/100\n",
      "769500/769500 [==============================] - 22s 29us/step - loss: 5.2747 - mean_absolute_error: 5.2747 - val_loss: 17.6559 - val_mean_absolute_error: 17.6559\n",
      "Epoch 34/100\n",
      "769500/769500 [==============================] - 22s 29us/step - loss: 5.2270 - mean_absolute_error: 5.2270 - val_loss: 16.3060 - val_mean_absolute_error: 16.3060\n",
      "Epoch 35/100\n",
      "769500/769500 [==============================] - 23s 29us/step - loss: 5.1921 - mean_absolute_error: 5.1921 - val_loss: 17.6510 - val_mean_absolute_error: 17.6510\n",
      "Epoch 36/100\n",
      "769500/769500 [==============================] - 22s 29us/step - loss: 5.1351 - mean_absolute_error: 5.1351 - val_loss: 17.2457 - val_mean_absolute_error: 17.2457\n",
      "Epoch 37/100\n",
      "769500/769500 [==============================] - 22s 29us/step - loss: 5.0579 - mean_absolute_error: 5.0579 - val_loss: 18.6646 - val_mean_absolute_error: 18.6646\n",
      "Epoch 38/100\n",
      "769500/769500 [==============================] - 23s 30us/step - loss: 5.0635 - mean_absolute_error: 5.0635 - val_loss: 17.2109 - val_mean_absolute_error: 17.2109\n",
      "Epoch 39/100\n",
      "769500/769500 [==============================] - 22s 29us/step - loss: 4.9921 - mean_absolute_error: 4.9921 - val_loss: 16.8847 - val_mean_absolute_error: 16.8847\n",
      "Epoch 40/100\n",
      "769500/769500 [==============================] - 22s 29us/step - loss: 4.9414 - mean_absolute_error: 4.9414 - val_loss: 16.1739 - val_mean_absolute_error: 16.1739\n",
      "Epoch 41/100\n",
      "769500/769500 [==============================] - 22s 29us/step - loss: 4.9389 - mean_absolute_error: 4.9389 - val_loss: 16.7851 - val_mean_absolute_error: 16.7851\n",
      "Epoch 42/100\n",
      "769500/769500 [==============================] - 22s 29us/step - loss: 4.8713 - mean_absolute_error: 4.8713 - val_loss: 16.1042 - val_mean_absolute_error: 16.1042\n",
      "Epoch 43/100\n",
      "769500/769500 [==============================] - 22s 29us/step - loss: 4.8630 - mean_absolute_error: 4.8630 - val_loss: 17.0904 - val_mean_absolute_error: 17.0904\n",
      "Epoch 44/100\n",
      "769500/769500 [==============================] - 22s 28us/step - loss: 4.8028 - mean_absolute_error: 4.8028 - val_loss: 15.3283 - val_mean_absolute_error: 15.3283\n",
      "Epoch 45/100\n",
      "769500/769500 [==============================] - 22s 29us/step - loss: 4.7887 - mean_absolute_error: 4.7887 - val_loss: 16.3879 - val_mean_absolute_error: 16.3879\n",
      "Epoch 46/100\n",
      "769500/769500 [==============================] - 22s 29us/step - loss: 4.7495 - mean_absolute_error: 4.7495 - val_loss: 17.7331 - val_mean_absolute_error: 17.7331\n",
      "Epoch 47/100\n",
      "769500/769500 [==============================] - 22s 29us/step - loss: 4.7326 - mean_absolute_error: 4.7326 - val_loss: 15.5178 - val_mean_absolute_error: 15.5178\n",
      "Epoch 48/100\n",
      "769500/769500 [==============================] - 22s 29us/step - loss: 4.7033 - mean_absolute_error: 4.7033 - val_loss: 16.2018 - val_mean_absolute_error: 16.2018\n",
      "Epoch 49/100\n",
      "769500/769500 [==============================] - 22s 29us/step - loss: 4.6720 - mean_absolute_error: 4.6720 - val_loss: 15.8877 - val_mean_absolute_error: 15.8877\n",
      "Epoch 50/100\n",
      "769500/769500 [==============================] - 22s 28us/step - loss: 4.6405 - mean_absolute_error: 4.6405 - val_loss: 15.8946 - val_mean_absolute_error: 15.8946\n",
      "Epoch 51/100\n",
      "769500/769500 [==============================] - 23s 29us/step - loss: 4.6166 - mean_absolute_error: 4.6166 - val_loss: 16.7046 - val_mean_absolute_error: 16.7046\n",
      "Epoch 52/100\n",
      "769500/769500 [==============================] - 22s 29us/step - loss: 4.6121 - mean_absolute_error: 4.6121 - val_loss: 15.4664 - val_mean_absolute_error: 15.4664\n",
      "Epoch 53/100\n",
      "769500/769500 [==============================] - 22s 29us/step - loss: 4.5612 - mean_absolute_error: 4.5612 - val_loss: 15.1396 - val_mean_absolute_error: 15.1396\n",
      "Epoch 54/100\n",
      "769500/769500 [==============================] - 22s 29us/step - loss: 4.5395 - mean_absolute_error: 4.5395 - val_loss: 14.9929 - val_mean_absolute_error: 14.9929\n",
      "Epoch 55/100\n",
      "769500/769500 [==============================] - 22s 29us/step - loss: 4.5294 - mean_absolute_error: 4.5294 - val_loss: 14.4738 - val_mean_absolute_error: 14.4738\n",
      "Epoch 56/100\n",
      "769500/769500 [==============================] - 22s 29us/step - loss: 4.4979 - mean_absolute_error: 4.4979 - val_loss: 15.0192 - val_mean_absolute_error: 15.0192\n",
      "Epoch 57/100\n",
      "769500/769500 [==============================] - 22s 29us/step - loss: 4.4867 - mean_absolute_error: 4.4867 - val_loss: 15.8651 - val_mean_absolute_error: 15.8651\n",
      "Epoch 58/100\n",
      "769500/769500 [==============================] - 22s 29us/step - loss: 4.4546 - mean_absolute_error: 4.4546 - val_loss: 15.0208 - val_mean_absolute_error: 15.0208\n",
      "Epoch 59/100\n",
      "769500/769500 [==============================] - 22s 29us/step - loss: 4.4335 - mean_absolute_error: 4.4335 - val_loss: 16.1692 - val_mean_absolute_error: 16.1692\n",
      "Epoch 60/100\n",
      "769500/769500 [==============================] - 22s 29us/step - loss: 4.4200 - mean_absolute_error: 4.4200 - val_loss: 15.9577 - val_mean_absolute_error: 15.9577\n",
      "Epoch 61/100\n",
      "769500/769500 [==============================] - 22s 29us/step - loss: 4.3908 - mean_absolute_error: 4.3908 - val_loss: 16.0396 - val_mean_absolute_error: 16.0396\n",
      "Epoch 62/100\n",
      "769500/769500 [==============================] - 22s 29us/step - loss: 4.3988 - mean_absolute_error: 4.3988 - val_loss: 14.0634 - val_mean_absolute_error: 14.0634\n",
      "Epoch 63/100\n",
      "769500/769500 [==============================] - 22s 29us/step - loss: 4.3602 - mean_absolute_error: 4.3602 - val_loss: 15.6521 - val_mean_absolute_error: 15.6521\n",
      "Epoch 64/100\n",
      "769500/769500 [==============================] - 22s 29us/step - loss: 4.3477 - mean_absolute_error: 4.3477 - val_loss: 16.3714 - val_mean_absolute_error: 16.3714\n",
      "Epoch 65/100\n",
      "769500/769500 [==============================] - 22s 29us/step - loss: 4.3347 - mean_absolute_error: 4.3347 - val_loss: 16.5757 - val_mean_absolute_error: 16.5757\n",
      "Epoch 66/100\n",
      "769500/769500 [==============================] - 22s 29us/step - loss: 4.3023 - mean_absolute_error: 4.3023 - val_loss: 14.9129 - val_mean_absolute_error: 14.9129\n",
      "Epoch 67/100\n",
      "769500/769500 [==============================] - 22s 29us/step - loss: 4.2972 - mean_absolute_error: 4.2972 - val_loss: 15.7457 - val_mean_absolute_error: 15.7457\n",
      "Epoch 68/100\n",
      "769500/769500 [==============================] - 21s 28us/step - loss: 4.2586 - mean_absolute_error: 4.2586 - val_loss: 14.9981 - val_mean_absolute_error: 14.9981\n",
      "Epoch 69/100\n",
      "769500/769500 [==============================] - 22s 29us/step - loss: 4.2571 - mean_absolute_error: 4.2571 - val_loss: 15.3411 - val_mean_absolute_error: 15.3411\n",
      "Epoch 70/100\n",
      "769500/769500 [==============================] - 23s 29us/step - loss: 4.2344 - mean_absolute_error: 4.2344 - val_loss: 14.3959 - val_mean_absolute_error: 14.3959\n",
      "Epoch 71/100\n",
      "769500/769500 [==============================] - 23s 29us/step - loss: 4.2095 - mean_absolute_error: 4.2095 - val_loss: 15.1203 - val_mean_absolute_error: 15.1203\n",
      "Epoch 72/100\n",
      "769500/769500 [==============================] - 23s 30us/step - loss: 4.2269 - mean_absolute_error: 4.2269 - val_loss: 15.2670 - val_mean_absolute_error: 15.2670\n",
      "Epoch 73/100\n",
      "769500/769500 [==============================] - 23s 30us/step - loss: 4.1950 - mean_absolute_error: 4.1950 - val_loss: 14.6534 - val_mean_absolute_error: 14.6534\n",
      "Epoch 74/100\n",
      "769500/769500 [==============================] - 23s 30us/step - loss: 4.1855 - mean_absolute_error: 4.1855 - val_loss: 13.7861 - val_mean_absolute_error: 13.7861\n",
      "Epoch 75/100\n",
      "769500/769500 [==============================] - 23s 30us/step - loss: 4.1526 - mean_absolute_error: 4.1526 - val_loss: 14.1530 - val_mean_absolute_error: 14.1530\n",
      "Epoch 76/100\n",
      "769500/769500 [==============================] - 23s 30us/step - loss: 4.1417 - mean_absolute_error: 4.1417 - val_loss: 14.7102 - val_mean_absolute_error: 14.7102\n",
      "Epoch 77/100\n",
      "769500/769500 [==============================] - 23s 30us/step - loss: 4.1444 - mean_absolute_error: 4.1444 - val_loss: 15.1555 - val_mean_absolute_error: 15.1555\n",
      "Epoch 78/100\n",
      "769500/769500 [==============================] - 23s 30us/step - loss: 4.1123 - mean_absolute_error: 4.1123 - val_loss: 14.7420 - val_mean_absolute_error: 14.7420\n",
      "Epoch 79/100\n",
      "769500/769500 [==============================] - 23s 30us/step - loss: 4.1101 - mean_absolute_error: 4.1101 - val_loss: 15.3643 - val_mean_absolute_error: 15.3643\n",
      "Epoch 80/100\n",
      "769500/769500 [==============================] - 24s 31us/step - loss: 4.1007 - mean_absolute_error: 4.1007 - val_loss: 13.8363 - val_mean_absolute_error: 13.8363\n",
      "Epoch 81/100\n",
      "769500/769500 [==============================] - 24s 31us/step - loss: 4.0800 - mean_absolute_error: 4.0800 - val_loss: 14.6500 - val_mean_absolute_error: 14.6500\n",
      "Epoch 82/100\n",
      "769500/769500 [==============================] - 25s 32us/step - loss: 4.0759 - mean_absolute_error: 4.0759 - val_loss: 15.3466 - val_mean_absolute_error: 15.3466\n",
      "Epoch 83/100\n",
      "769500/769500 [==============================] - 24s 32us/step - loss: 4.0560 - mean_absolute_error: 4.0560 - val_loss: 15.5557 - val_mean_absolute_error: 15.5557\n",
      "Epoch 84/100\n",
      "769500/769500 [==============================] - 25s 33us/step - loss: 4.0540 - mean_absolute_error: 4.0540 - val_loss: 15.4268 - val_mean_absolute_error: 15.4268\n",
      "Epoch 85/100\n",
      "769500/769500 [==============================] - 25s 32us/step - loss: 4.0429 - mean_absolute_error: 4.0429 - val_loss: 14.5160 - val_mean_absolute_error: 14.5160\n",
      "Epoch 86/100\n",
      "769500/769500 [==============================] - 24s 32us/step - loss: 4.0050 - mean_absolute_error: 4.0050 - val_loss: 15.2512 - val_mean_absolute_error: 15.2512\n",
      "Epoch 87/100\n",
      "769500/769500 [==============================] - 25s 33us/step - loss: 3.9942 - mean_absolute_error: 3.9942 - val_loss: 14.0118 - val_mean_absolute_error: 14.0118\n",
      "Epoch 88/100\n",
      "769500/769500 [==============================] - 24s 32us/step - loss: 3.9876 - mean_absolute_error: 3.9876 - val_loss: 14.8784 - val_mean_absolute_error: 14.8784\n",
      "Epoch 89/100\n",
      "769500/769500 [==============================] - 25s 33us/step - loss: 3.9854 - mean_absolute_error: 3.9854 - val_loss: 14.1265 - val_mean_absolute_error: 14.1265\n",
      "Epoch 90/100\n",
      "769500/769500 [==============================] - 24s 31us/step - loss: 3.9521 - mean_absolute_error: 3.9521 - val_loss: 14.6350 - val_mean_absolute_error: 14.6350\n",
      "Epoch 91/100\n",
      "769500/769500 [==============================] - 23s 31us/step - loss: 3.9551 - mean_absolute_error: 3.9551 - val_loss: 14.2285 - val_mean_absolute_error: 14.2285\n",
      "Epoch 92/100\n",
      "769500/769500 [==============================] - 25s 32us/step - loss: 3.9538 - mean_absolute_error: 3.9538 - val_loss: 14.4773 - val_mean_absolute_error: 14.4773\n",
      "Epoch 93/100\n",
      "769500/769500 [==============================] - 24s 31us/step - loss: 3.9227 - mean_absolute_error: 3.9227 - val_loss: 15.0800 - val_mean_absolute_error: 15.0800\n",
      "Epoch 94/100\n",
      "769500/769500 [==============================] - 24s 31us/step - loss: 3.9282 - mean_absolute_error: 3.9282 - val_loss: 15.5821 - val_mean_absolute_error: 15.5821\n",
      "Epoch 95/100\n",
      "769500/769500 [==============================] - 24s 31us/step - loss: 3.9058 - mean_absolute_error: 3.9058 - val_loss: 14.7254 - val_mean_absolute_error: 14.7254\n",
      "Epoch 96/100\n",
      "769500/769500 [==============================] - 23s 30us/step - loss: 3.8933 - mean_absolute_error: 3.8933 - val_loss: 13.9372 - val_mean_absolute_error: 13.9372\n",
      "Epoch 97/100\n",
      "769500/769500 [==============================] - 25s 32us/step - loss: 3.8897 - mean_absolute_error: 3.8897 - val_loss: 15.2621 - val_mean_absolute_error: 15.2621\n",
      "Epoch 98/100\n",
      "769500/769500 [==============================] - 24s 32us/step - loss: 3.8797 - mean_absolute_error: 3.8797 - val_loss: 14.5092 - val_mean_absolute_error: 14.5092\n",
      "Epoch 99/100\n",
      "769500/769500 [==============================] - 25s 33us/step - loss: 3.8677 - mean_absolute_error: 3.8677 - val_loss: 14.0886 - val_mean_absolute_error: 14.0886\n",
      "Epoch 100/100\n",
      "769500/769500 [==============================] - 25s 33us/step - loss: 3.8610 - mean_absolute_error: 3.8610 - val_loss: 15.4902 - val_mean_absolute_error: 15.4902\n"
     ]
    }
   ],
   "source": [
    "# 케라스를 통해 모델 생성을 시작합니다.\n",
    "\n",
    "model_05 = Sequential()\n",
    "model_05.add(Dense(units= 239, input_dim=226, kernel_initializer='he_normal'))\n",
    "model_05.add(BatchNormalization())\n",
    "model_05.add(Activation('relu'))\n",
    "model_05.add(Dense(units=252, kernel_initializer='he_normal'))\n",
    "model_05.add(BatchNormalization())\n",
    "model_05.add(Activation('relu'))\n",
    "model_05.add(Dense(units=265, kernel_initializer='he_normal'))\n",
    "model_05.add(BatchNormalization())\n",
    "model_05.add(Activation('relu'))\n",
    "model_05.add(Dense(units=178, kernel_initializer='he_normal'))\n",
    "model_05.add(BatchNormalization())\n",
    "model_05.add(Activation('relu'))\n",
    "model_05.add(Dense(units=91, kernel_initializer='he_normal'))\n",
    "model_05.add(BatchNormalization())\n",
    "model_05.add(Activation('relu'))\n",
    "model_05.add(Dense(units=4, activation='linear'))\n",
    "\n",
    "adam = keras.optimizers.Adam(0.001)\n",
    "model_05.compile(loss='mae', optimizer=adam, metrics=['mae'])\n",
    "\n",
    "hist = model_05.fit(train_X, train_Y, epochs=100, batch_size=500, validation_split=0.05)"
   ]
  },
  {
   "cell_type": "code",
   "execution_count": 11,
   "metadata": {
    "colab": {
     "base_uri": "https://localhost:8080/",
     "height": 279
    },
    "colab_type": "code",
    "id": "3Bt_xpJ7oPa9",
    "outputId": "110b83d8-804c-4ae9-f280-661e1a530946"
   },
   "outputs": [
    {
     "data": {
      "image/png": "[encoded data removed]",
      "text/plain": [
       "<Figure size 432x288 with 2 Axes>"
      ]
     },
     "metadata": {
      "tags": []
     },
     "output_type": "display_data"
    }
   ],
   "source": [
    "%matplotlib inline\n",
    "import matplotlib.pyplot as plt\n",
    "\n",
    "fig, loss_ax = plt.subplots()\n",
    "\n",
    "acc_ax = loss_ax.twinx()\n",
    "\n",
    "loss_ax.plot(hist.history['loss'], 'y', label='train loss')\n",
    "loss_ax.plot(hist.history['val_loss'], 'r', label='val loss')\n",
    "\n",
    "acc_ax.plot(hist.history['mean_absolute_error'], 'b', label='train acc')\n",
    "acc_ax.plot(hist.history['val_mean_absolute_error'], 'g', label='val acc')\n",
    "\n",
    "loss_ax.set_xlabel('epoch')\n",
    "loss_ax.set_ylabel('loss')\n",
    "acc_ax.set_ylabel('mean absolute error')\n",
    "\n",
    "loss_ax.legend(loc='upper left')\n",
    "acc_ax.legend(loc='lower left')\n",
    "\n",
    "plt.show()"
   ]
  },
  {
   "cell_type": "code",
   "execution_count": 0,
   "metadata": {
    "colab": {},
    "colab_type": "code",
    "id": "LiyWfkg8th-j"
   },
   "outputs": [],
   "source": [
    "# 예측값을 생성합니다.\n",
    "\n",
    "pred_test_05 = model_05.predict(test_X)"
   ]
  },
  {
   "cell_type": "code",
   "execution_count": 0,
   "metadata": {
    "colab": {},
    "colab_type": "code",
    "id": "yf_eJCXNtiGB"
   },
   "outputs": [],
   "source": [
    "# submission 파일을 생성합니다.\n",
    "sample_sub = pd.read_csv('/gdrive/My Drive/DACON-semiconductor-competition/dataset/sample_submission.csv', index_col=0)\n",
    "submission = sample_sub+pred_test_05\n",
    "submission.to_csv('/gdrive/My Drive/DACON-semiconductor-competition/submission_05.csv')"
   ]
  }
 ],
 "metadata": {
  "accelerator": "GPU",
  "colab": {
   "authorship_tag": "ABX9TyMCg60wlPXvWsbx+Wp7D/9U",
   "collapsed_sections": [],
   "include_colab_link": true,
   "name": "submission_05.ipynb",
   "provenance": []
  },
  "kernelspec": {
   "display_name": "Python 3",
   "language": "python",
   "name": "python3"
  },
  "language_info": {
   "codemirror_mode": {
    "name": "ipython",
    "version": 3
   },
   "file_extension": ".py",
   "mimetype": "text/x-python",
   "name": "python",
   "nbconvert_exporter": "python",
   "pygments_lexer": "ipython3",
   "version": "3.7.3"
  }
 },
 "nbformat": 4,
 "nbformat_minor": 1
}
