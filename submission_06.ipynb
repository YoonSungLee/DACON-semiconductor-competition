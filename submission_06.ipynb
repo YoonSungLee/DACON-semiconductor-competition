{
 "cells": [
  {
   "cell_type": "markdown",
   "metadata": {
    "colab_type": "text",
    "id": "view-in-github"
   },
   "source": [
    "<a href=\"https://colab.research.google.com/github/Inha-AI/DACON-semiconductor-competition/blob/feature%2FYoonSungLee/submission_06.ipynb\" target=\"_parent\"><img src=\"https://colab.research.google.com/assets/colab-badge.svg\" alt=\"Open In Colab\"/></a>"
   ]
  },
  {
   "cell_type": "code",
   "execution_count": 0,
   "metadata": {
    "colab": {
     "base_uri": "https://localhost:8080/",
     "height": 84
    },
    "colab_type": "code",
    "id": "0vVeUdyssBKw",
    "outputId": "99d7e84d-42f4-43dc-898f-3528ae52c368"
   },
   "outputs": [
    {
     "name": "stderr",
     "output_type": "stream",
     "text": [
      "Using TensorFlow backend.\n"
     ]
    },
    {
     "data": {
      "text/html": [
       "<p style=\"color: red;\">\n",
       "The default version of TensorFlow in Colab will soon switch to TensorFlow 2.x.<br>\n",
       "We recommend you <a href=\"https://www.tensorflow.org/guide/migrate\" target=\"_blank\">upgrade</a> now \n",
       "or ensure your notebook will continue to use TensorFlow 1.x via the <code>%tensorflow_version 1.x</code> magic:\n",
       "<a href=\"https://colab.research.google.com/notebooks/tensorflow_version.ipynb\" target=\"_blank\">more info</a>.</p>\n"
      ],
      "text/plain": [
       "<IPython.core.display.HTML object>"
      ]
     },
     "metadata": {
      "tags": []
     },
     "output_type": "display_data"
    }
   ],
   "source": [
    "import numpy as np\n",
    "import pandas as pd\n",
    "import matplotlib.pyplot as plt\n",
    "import keras\n",
    "from keras.models import Sequential\n",
    "from keras.layers import Dense, Activation, Dropout\n",
    "from keras.layers import BatchNormalization"
   ]
  },
  {
   "cell_type": "code",
   "execution_count": 0,
   "metadata": {
    "colab": {
     "base_uri": "https://localhost:8080/",
     "height": 131
    },
    "colab_type": "code",
    "id": "EwHXDEigsNB0",
    "outputId": "9c40d784-89e6-41df-aade-a8b1dd21a27b"
   },
   "outputs": [
    {
     "name": "stdout",
     "output_type": "stream",
     "text": [
      "Go to this URL in a browser: https://accounts.google.com/o/oauth2/auth?client_id=947318989803-6bn6qk8qdgf4n4g3pfee6491hc0brc4i.apps.googleusercontent.com&redirect_uri=urn%3aietf%3awg%3aoauth%3a2.0%3aoob&response_type=code&scope=email%20https%3a%2f%2fwww.googleapis.com%2fauth%2fdocs.test%20https%3a%2f%2fwww.googleapis.com%2fauth%2fdrive%20https%3a%2f%2fwww.googleapis.com%2fauth%2fdrive.photos.readonly%20https%3a%2f%2fwww.googleapis.com%2fauth%2fpeopleapi.readonly\n",
      "\n",
      "Enter your authorization code:\n",
      "··········\n",
      "Mounted at /gdrive\n"
     ]
    }
   ],
   "source": [
    "from google.colab import drive\n",
    "drive.mount('/gdrive')"
   ]
  },
  {
   "cell_type": "code",
   "execution_count": 0,
   "metadata": {
    "colab": {},
    "colab_type": "code",
    "id": "-BNXAU5rsPJS"
   },
   "outputs": [],
   "source": [
    "df_train = pd.read_csv('/gdrive/My Drive/DACON-semiconductor-competition/dataset/train.csv')\n",
    "df_test = pd.read_csv('/gdrive/My Drive/DACON-semiconductor-competition/dataset/test.csv')"
   ]
  },
  {
   "cell_type": "code",
   "execution_count": 0,
   "metadata": {
    "colab": {},
    "colab_type": "code",
    "id": "TdYXclfgsVr6"
   },
   "outputs": [],
   "source": [
    "# 독립변수와 종속변수를 분리합니다.\n",
    "\n",
    "train_X = df_train.iloc[:,4:]\n",
    "train_Y = df_train.iloc[:,0:4]\n",
    "test_X = df_test.iloc[:,1:]"
   ]
  },
  {
   "cell_type": "markdown",
   "metadata": {
    "colab_type": "text",
    "id": "8tT4w6XasaSQ"
   },
   "source": [
    "# Model 6"
   ]
  },
  {
   "cell_type": "markdown",
   "metadata": {},
   "source": [
    "* 5 layers\n",
    "* 178 units, he_normal, relu\n",
    "* BatchNormalization\n",
    "* Adam(0.001)\n",
    "* epochs 100\n",
    "* batch_size 500\n",
    "<br><br>\n",
    "* layer의 층을 줄이고 units의 수를 일정하게 유지시켜 Model 5보다 단순한 모델로 시험\n",
    "* Model 5보다 성능이 떨어짐"
   ]
  },
  {
   "cell_type": "code",
   "execution_count": 0,
   "metadata": {
    "colab": {
     "base_uri": "https://localhost:8080/",
     "height": 1000
    },
    "colab_type": "code",
    "id": "4PSSfoS5sfWK",
    "outputId": "d6f50871-0f98-4196-f0d9-fd1cbac6590e"
   },
   "outputs": [
    {
     "name": "stdout",
     "output_type": "stream",
     "text": [
      "WARNING:tensorflow:From /usr/local/lib/python3.6/dist-packages/keras/backend/tensorflow_backend.py:66: The name tf.get_default_graph is deprecated. Please use tf.compat.v1.get_default_graph instead.\n",
      "\n",
      "WARNING:tensorflow:From /usr/local/lib/python3.6/dist-packages/keras/backend/tensorflow_backend.py:541: The name tf.placeholder is deprecated. Please use tf.compat.v1.placeholder instead.\n",
      "\n",
      "WARNING:tensorflow:From /usr/local/lib/python3.6/dist-packages/keras/backend/tensorflow_backend.py:4479: The name tf.truncated_normal is deprecated. Please use tf.random.truncated_normal instead.\n",
      "\n",
      "WARNING:tensorflow:From /usr/local/lib/python3.6/dist-packages/keras/backend/tensorflow_backend.py:148: The name tf.placeholder_with_default is deprecated. Please use tf.compat.v1.placeholder_with_default instead.\n",
      "\n",
      "WARNING:tensorflow:From /usr/local/lib/python3.6/dist-packages/keras/backend/tensorflow_backend.py:4432: The name tf.random_uniform is deprecated. Please use tf.random.uniform instead.\n",
      "\n",
      "WARNING:tensorflow:From /usr/local/lib/python3.6/dist-packages/keras/optimizers.py:793: The name tf.train.Optimizer is deprecated. Please use tf.compat.v1.train.Optimizer instead.\n",
      "\n",
      "WARNING:tensorflow:From /usr/local/lib/python3.6/dist-packages/keras/backend/tensorflow_backend.py:1033: The name tf.assign_add is deprecated. Please use tf.compat.v1.assign_add instead.\n",
      "\n",
      "WARNING:tensorflow:From /usr/local/lib/python3.6/dist-packages/keras/backend/tensorflow_backend.py:1020: The name tf.assign is deprecated. Please use tf.compat.v1.assign instead.\n",
      "\n",
      "WARNING:tensorflow:From /usr/local/lib/python3.6/dist-packages/keras/backend/tensorflow_backend.py:3005: The name tf.Session is deprecated. Please use tf.compat.v1.Session instead.\n",
      "\n",
      "Train on 769500 samples, validate on 40500 samples\n",
      "Epoch 1/100\n",
      "WARNING:tensorflow:From /usr/local/lib/python3.6/dist-packages/keras/backend/tensorflow_backend.py:190: The name tf.get_default_session is deprecated. Please use tf.compat.v1.get_default_session instead.\n",
      "\n",
      "WARNING:tensorflow:From /usr/local/lib/python3.6/dist-packages/keras/backend/tensorflow_backend.py:197: The name tf.ConfigProto is deprecated. Please use tf.compat.v1.ConfigProto instead.\n",
      "\n",
      "WARNING:tensorflow:From /usr/local/lib/python3.6/dist-packages/keras/backend/tensorflow_backend.py:207: The name tf.global_variables is deprecated. Please use tf.compat.v1.global_variables instead.\n",
      "\n",
      "WARNING:tensorflow:From /usr/local/lib/python3.6/dist-packages/keras/backend/tensorflow_backend.py:216: The name tf.is_variable_initialized is deprecated. Please use tf.compat.v1.is_variable_initialized instead.\n",
      "\n",
      "WARNING:tensorflow:From /usr/local/lib/python3.6/dist-packages/keras/backend/tensorflow_backend.py:223: The name tf.variables_initializer is deprecated. Please use tf.compat.v1.variables_initializer instead.\n",
      "\n",
      "769500/769500 [==============================] - 42s 54us/step - loss: 68.9270 - mean_absolute_error: 68.9270 - val_loss: 50.2835 - val_mean_absolute_error: 50.2835\n",
      "Epoch 2/100\n",
      "769500/769500 [==============================] - 40s 52us/step - loss: 27.0310 - mean_absolute_error: 27.0310 - val_loss: 38.4321 - val_mean_absolute_error: 38.4321\n",
      "Epoch 3/100\n",
      "769500/769500 [==============================] - 41s 53us/step - loss: 21.4843 - mean_absolute_error: 21.4843 - val_loss: 38.8638 - val_mean_absolute_error: 38.8638\n",
      "Epoch 4/100\n",
      "769500/769500 [==============================] - 40s 52us/step - loss: 19.0252 - mean_absolute_error: 19.0252 - val_loss: 35.2921 - val_mean_absolute_error: 35.2921\n",
      "Epoch 5/100\n",
      "769500/769500 [==============================] - 40s 51us/step - loss: 17.3732 - mean_absolute_error: 17.3732 - val_loss: 34.8820 - val_mean_absolute_error: 34.8820\n",
      "Epoch 6/100\n",
      "769500/769500 [==============================] - 41s 54us/step - loss: 16.2702 - mean_absolute_error: 16.2702 - val_loss: 33.4345 - val_mean_absolute_error: 33.4345\n",
      "Epoch 7/100\n",
      "769500/769500 [==============================] - 40s 52us/step - loss: 15.3236 - mean_absolute_error: 15.3236 - val_loss: 31.7004 - val_mean_absolute_error: 31.7004\n",
      "Epoch 8/100\n",
      "769500/769500 [==============================] - 39s 51us/step - loss: 14.5839 - mean_absolute_error: 14.5839 - val_loss: 30.3526 - val_mean_absolute_error: 30.3526\n",
      "Epoch 9/100\n",
      "769500/769500 [==============================] - 39s 51us/step - loss: 13.9561 - mean_absolute_error: 13.9561 - val_loss: 29.3834 - val_mean_absolute_error: 29.3834\n",
      "Epoch 10/100\n",
      "769500/769500 [==============================] - 39s 51us/step - loss: 13.4338 - mean_absolute_error: 13.4338 - val_loss: 30.2973 - val_mean_absolute_error: 30.2973\n",
      "Epoch 11/100\n",
      "769500/769500 [==============================] - 39s 51us/step - loss: 12.9809 - mean_absolute_error: 12.9809 - val_loss: 30.4544 - val_mean_absolute_error: 30.4544\n",
      "Epoch 12/100\n",
      "769500/769500 [==============================] - 39s 51us/step - loss: 12.5954 - mean_absolute_error: 12.5954 - val_loss: 29.2760 - val_mean_absolute_error: 29.2760\n",
      "Epoch 13/100\n",
      "769500/769500 [==============================] - 39s 51us/step - loss: 12.2823 - mean_absolute_error: 12.2823 - val_loss: 30.3409 - val_mean_absolute_error: 30.3409\n",
      "Epoch 14/100\n",
      "769500/769500 [==============================] - 39s 51us/step - loss: 11.9177 - mean_absolute_error: 11.9177 - val_loss: 26.3612 - val_mean_absolute_error: 26.3612\n",
      "Epoch 15/100\n",
      "769500/769500 [==============================] - 40s 52us/step - loss: 11.6432 - mean_absolute_error: 11.6432 - val_loss: 27.9676 - val_mean_absolute_error: 27.9676\n",
      "Epoch 16/100\n",
      "769500/769500 [==============================] - 40s 52us/step - loss: 11.4176 - mean_absolute_error: 11.4176 - val_loss: 28.4729 - val_mean_absolute_error: 28.4729\n",
      "Epoch 17/100\n",
      "769500/769500 [==============================] - 39s 51us/step - loss: 11.1833 - mean_absolute_error: 11.1833 - val_loss: 26.9985 - val_mean_absolute_error: 26.9985\n",
      "Epoch 18/100\n",
      "769500/769500 [==============================] - 39s 51us/step - loss: 10.9414 - mean_absolute_error: 10.9414 - val_loss: 26.0952 - val_mean_absolute_error: 26.0952\n",
      "Epoch 19/100\n",
      "769500/769500 [==============================] - 39s 51us/step - loss: 10.7716 - mean_absolute_error: 10.7716 - val_loss: 27.0610 - val_mean_absolute_error: 27.0610\n",
      "Epoch 20/100\n",
      "769500/769500 [==============================] - 39s 51us/step - loss: 10.5831 - mean_absolute_error: 10.5831 - val_loss: 27.1626 - val_mean_absolute_error: 27.1626\n",
      "Epoch 21/100\n",
      "769500/769500 [==============================] - 39s 51us/step - loss: 10.4237 - mean_absolute_error: 10.4237 - val_loss: 27.4156 - val_mean_absolute_error: 27.4156\n",
      "Epoch 22/100\n",
      "769500/769500 [==============================] - 39s 51us/step - loss: 10.2825 - mean_absolute_error: 10.2825 - val_loss: 27.5102 - val_mean_absolute_error: 27.5102\n",
      "Epoch 23/100\n",
      "769500/769500 [==============================] - 39s 51us/step - loss: 10.1352 - mean_absolute_error: 10.1352 - val_loss: 27.0528 - val_mean_absolute_error: 27.0528\n",
      "Epoch 24/100\n",
      "769500/769500 [==============================] - 40s 52us/step - loss: 9.9968 - mean_absolute_error: 9.9968 - val_loss: 26.1203 - val_mean_absolute_error: 26.1203\n",
      "Epoch 25/100\n",
      "769500/769500 [==============================] - 39s 51us/step - loss: 9.8967 - mean_absolute_error: 9.8967 - val_loss: 28.1875 - val_mean_absolute_error: 28.1875\n",
      "Epoch 26/100\n",
      "769500/769500 [==============================] - 39s 51us/step - loss: 9.7593 - mean_absolute_error: 9.7593 - val_loss: 25.1955 - val_mean_absolute_error: 25.1955\n",
      "Epoch 27/100\n",
      "769500/769500 [==============================] - 39s 51us/step - loss: 9.6519 - mean_absolute_error: 9.6519 - val_loss: 25.5882 - val_mean_absolute_error: 25.5882\n",
      "Epoch 28/100\n",
      "769500/769500 [==============================] - 39s 51us/step - loss: 9.5580 - mean_absolute_error: 9.5580 - val_loss: 24.8866 - val_mean_absolute_error: 24.8866\n",
      "Epoch 29/100\n",
      "769500/769500 [==============================] - 39s 51us/step - loss: 9.4493 - mean_absolute_error: 9.4493 - val_loss: 25.3454 - val_mean_absolute_error: 25.3454\n",
      "Epoch 30/100\n",
      "769500/769500 [==============================] - 39s 51us/step - loss: 9.3589 - mean_absolute_error: 9.3589 - val_loss: 24.6432 - val_mean_absolute_error: 24.6432\n",
      "Epoch 31/100\n",
      "769500/769500 [==============================] - 39s 50us/step - loss: 9.2471 - mean_absolute_error: 9.2471 - val_loss: 25.3968 - val_mean_absolute_error: 25.3968\n",
      "Epoch 32/100\n",
      "769500/769500 [==============================] - 40s 52us/step - loss: 9.1463 - mean_absolute_error: 9.1463 - val_loss: 23.9486 - val_mean_absolute_error: 23.9486\n",
      "Epoch 33/100\n",
      "769500/769500 [==============================] - 39s 51us/step - loss: 9.0703 - mean_absolute_error: 9.0703 - val_loss: 25.5251 - val_mean_absolute_error: 25.5251\n",
      "Epoch 34/100\n",
      "769500/769500 [==============================] - 39s 51us/step - loss: 8.9812 - mean_absolute_error: 8.9812 - val_loss: 24.5402 - val_mean_absolute_error: 24.5402\n",
      "Epoch 35/100\n",
      "769500/769500 [==============================] - 39s 51us/step - loss: 8.8802 - mean_absolute_error: 8.8802 - val_loss: 23.0692 - val_mean_absolute_error: 23.0692\n",
      "Epoch 36/100\n",
      "769500/769500 [==============================] - 39s 51us/step - loss: 8.8650 - mean_absolute_error: 8.8650 - val_loss: 25.0220 - val_mean_absolute_error: 25.0220\n",
      "Epoch 37/100\n",
      "769500/769500 [==============================] - 39s 51us/step - loss: 8.7708 - mean_absolute_error: 8.7708 - val_loss: 25.0185 - val_mean_absolute_error: 25.0185\n",
      "Epoch 38/100\n",
      "769500/769500 [==============================] - 40s 52us/step - loss: 8.6862 - mean_absolute_error: 8.6862 - val_loss: 23.4315 - val_mean_absolute_error: 23.4315\n",
      "Epoch 39/100\n",
      "769500/769500 [==============================] - 39s 51us/step - loss: 8.6194 - mean_absolute_error: 8.6194 - val_loss: 25.4877 - val_mean_absolute_error: 25.4877\n",
      "Epoch 40/100\n",
      "769500/769500 [==============================] - 40s 52us/step - loss: 8.5594 - mean_absolute_error: 8.5594 - val_loss: 23.9160 - val_mean_absolute_error: 23.9160\n",
      "Epoch 41/100\n",
      "769500/769500 [==============================] - 39s 51us/step - loss: 8.4997 - mean_absolute_error: 8.4997 - val_loss: 23.9944 - val_mean_absolute_error: 23.9944\n",
      "Epoch 42/100\n",
      "769500/769500 [==============================] - 39s 51us/step - loss: 8.4361 - mean_absolute_error: 8.4361 - val_loss: 22.9079 - val_mean_absolute_error: 22.9079\n",
      "Epoch 43/100\n",
      "769500/769500 [==============================] - 39s 51us/step - loss: 8.3636 - mean_absolute_error: 8.3636 - val_loss: 23.1679 - val_mean_absolute_error: 23.1679\n",
      "Epoch 44/100\n",
      "769500/769500 [==============================] - 39s 51us/step - loss: 8.3270 - mean_absolute_error: 8.3270 - val_loss: 22.9493 - val_mean_absolute_error: 22.9493\n",
      "Epoch 45/100\n",
      "769500/769500 [==============================] - 39s 51us/step - loss: 8.2811 - mean_absolute_error: 8.2811 - val_loss: 23.5735 - val_mean_absolute_error: 23.5735\n",
      "Epoch 46/100\n",
      "769500/769500 [==============================] - 40s 52us/step - loss: 8.2279 - mean_absolute_error: 8.2279 - val_loss: 23.1594 - val_mean_absolute_error: 23.1594\n",
      "Epoch 47/100\n",
      "769500/769500 [==============================] - 39s 51us/step - loss: 8.1614 - mean_absolute_error: 8.1614 - val_loss: 24.5321 - val_mean_absolute_error: 24.5321\n",
      "Epoch 48/100\n",
      "769500/769500 [==============================] - 40s 51us/step - loss: 8.0929 - mean_absolute_error: 8.0929 - val_loss: 23.6766 - val_mean_absolute_error: 23.6766\n",
      "Epoch 49/100\n",
      "769500/769500 [==============================] - 39s 51us/step - loss: 8.0480 - mean_absolute_error: 8.0480 - val_loss: 22.6511 - val_mean_absolute_error: 22.6511\n",
      "Epoch 50/100\n",
      "769500/769500 [==============================] - 39s 51us/step - loss: 8.0248 - mean_absolute_error: 8.0248 - val_loss: 22.5965 - val_mean_absolute_error: 22.5965\n",
      "Epoch 51/100\n",
      "769500/769500 [==============================] - 39s 51us/step - loss: 7.9912 - mean_absolute_error: 7.9912 - val_loss: 23.7550 - val_mean_absolute_error: 23.7550\n",
      "Epoch 52/100\n",
      "769500/769500 [==============================] - 39s 51us/step - loss: 7.9304 - mean_absolute_error: 7.9304 - val_loss: 22.8527 - val_mean_absolute_error: 22.8527\n",
      "Epoch 53/100\n",
      "769500/769500 [==============================] - 39s 51us/step - loss: 7.8779 - mean_absolute_error: 7.8779 - val_loss: 24.0882 - val_mean_absolute_error: 24.0882\n",
      "Epoch 54/100\n",
      "769500/769500 [==============================] - 40s 51us/step - loss: 7.8693 - mean_absolute_error: 7.8693 - val_loss: 22.8387 - val_mean_absolute_error: 22.8387\n",
      "Epoch 55/100\n",
      "769500/769500 [==============================] - 39s 51us/step - loss: 7.8207 - mean_absolute_error: 7.8207 - val_loss: 24.0472 - val_mean_absolute_error: 24.0472\n",
      "Epoch 56/100\n",
      "769500/769500 [==============================] - 39s 51us/step - loss: 7.7980 - mean_absolute_error: 7.7980 - val_loss: 23.1612 - val_mean_absolute_error: 23.1612\n",
      "Epoch 57/100\n",
      "769500/769500 [==============================] - 40s 51us/step - loss: 7.7317 - mean_absolute_error: 7.7317 - val_loss: 22.3576 - val_mean_absolute_error: 22.3576\n",
      "Epoch 58/100\n",
      "769500/769500 [==============================] - 39s 50us/step - loss: 7.7358 - mean_absolute_error: 7.7358 - val_loss: 24.6699 - val_mean_absolute_error: 24.6699\n",
      "Epoch 59/100\n",
      "769500/769500 [==============================] - 39s 50us/step - loss: 7.6700 - mean_absolute_error: 7.6700 - val_loss: 23.0228 - val_mean_absolute_error: 23.0228\n",
      "Epoch 60/100\n",
      "769500/769500 [==============================] - 39s 50us/step - loss: 7.6245 - mean_absolute_error: 7.6245 - val_loss: 21.7192 - val_mean_absolute_error: 21.7192\n",
      "Epoch 61/100\n",
      "769500/769500 [==============================] - 39s 51us/step - loss: 7.6183 - mean_absolute_error: 7.6183 - val_loss: 23.7250 - val_mean_absolute_error: 23.7250\n",
      "Epoch 62/100\n",
      "769500/769500 [==============================] - 39s 51us/step - loss: 7.5668 - mean_absolute_error: 7.5668 - val_loss: 23.0276 - val_mean_absolute_error: 23.0276\n",
      "Epoch 63/100\n",
      "769500/769500 [==============================] - 39s 51us/step - loss: 7.5234 - mean_absolute_error: 7.5234 - val_loss: 22.0816 - val_mean_absolute_error: 22.0816\n",
      "Epoch 64/100\n",
      "769500/769500 [==============================] - 39s 50us/step - loss: 7.4849 - mean_absolute_error: 7.4849 - val_loss: 23.0745 - val_mean_absolute_error: 23.0745\n",
      "Epoch 65/100\n",
      "769500/769500 [==============================] - 39s 51us/step - loss: 7.4558 - mean_absolute_error: 7.4558 - val_loss: 23.1103 - val_mean_absolute_error: 23.1103\n",
      "Epoch 66/100\n",
      "769500/769500 [==============================] - 39s 50us/step - loss: 7.4459 - mean_absolute_error: 7.4459 - val_loss: 22.4290 - val_mean_absolute_error: 22.4290\n",
      "Epoch 67/100\n",
      "769500/769500 [==============================] - 39s 50us/step - loss: 7.4068 - mean_absolute_error: 7.4068 - val_loss: 21.5555 - val_mean_absolute_error: 21.5555\n",
      "Epoch 68/100\n",
      "769500/769500 [==============================] - 39s 51us/step - loss: 7.3625 - mean_absolute_error: 7.3625 - val_loss: 21.3434 - val_mean_absolute_error: 21.3434\n",
      "Epoch 69/100\n",
      "769500/769500 [==============================] - 39s 51us/step - loss: 7.3441 - mean_absolute_error: 7.3441 - val_loss: 22.7459 - val_mean_absolute_error: 22.7459\n",
      "Epoch 70/100\n",
      "769500/769500 [==============================] - 39s 51us/step - loss: 7.2924 - mean_absolute_error: 7.2924 - val_loss: 23.2705 - val_mean_absolute_error: 23.2705\n",
      "Epoch 71/100\n",
      "769500/769500 [==============================] - 39s 50us/step - loss: 7.2726 - mean_absolute_error: 7.2726 - val_loss: 23.6935 - val_mean_absolute_error: 23.6935\n",
      "Epoch 72/100\n",
      "769500/769500 [==============================] - 38s 50us/step - loss: 7.2740 - mean_absolute_error: 7.2740 - val_loss: 22.7789 - val_mean_absolute_error: 22.7789\n",
      "Epoch 73/100\n",
      "769500/769500 [==============================] - 39s 51us/step - loss: 7.2534 - mean_absolute_error: 7.2534 - val_loss: 22.6046 - val_mean_absolute_error: 22.6046\n",
      "Epoch 74/100\n",
      "769500/769500 [==============================] - 39s 51us/step - loss: 7.2365 - mean_absolute_error: 7.2365 - val_loss: 25.1350 - val_mean_absolute_error: 25.1350\n",
      "Epoch 75/100\n",
      "769500/769500 [==============================] - 39s 50us/step - loss: 7.1865 - mean_absolute_error: 7.1865 - val_loss: 23.3501 - val_mean_absolute_error: 23.3501\n",
      "Epoch 76/100\n",
      "769500/769500 [==============================] - 38s 50us/step - loss: 7.1815 - mean_absolute_error: 7.1815 - val_loss: 23.2845 - val_mean_absolute_error: 23.2845\n",
      "Epoch 77/100\n",
      "769500/769500 [==============================] - 39s 50us/step - loss: 7.1430 - mean_absolute_error: 7.1430 - val_loss: 21.6289 - val_mean_absolute_error: 21.6289\n",
      "Epoch 78/100\n",
      "769500/769500 [==============================] - 39s 51us/step - loss: 7.0952 - mean_absolute_error: 7.0952 - val_loss: 21.6881 - val_mean_absolute_error: 21.6881\n",
      "Epoch 79/100\n",
      "769500/769500 [==============================] - 39s 51us/step - loss: 7.0797 - mean_absolute_error: 7.0797 - val_loss: 23.1719 - val_mean_absolute_error: 23.1719\n",
      "Epoch 80/100\n",
      "769500/769500 [==============================] - 39s 51us/step - loss: 7.0603 - mean_absolute_error: 7.0603 - val_loss: 23.5533 - val_mean_absolute_error: 23.5533\n",
      "Epoch 81/100\n",
      "769500/769500 [==============================] - 39s 51us/step - loss: 7.0322 - mean_absolute_error: 7.0322 - val_loss: 22.9985 - val_mean_absolute_error: 22.9985\n",
      "Epoch 82/100\n",
      "769500/769500 [==============================] - 39s 50us/step - loss: 7.0346 - mean_absolute_error: 7.0346 - val_loss: 22.2199 - val_mean_absolute_error: 22.2199\n",
      "Epoch 83/100\n",
      "769500/769500 [==============================] - 39s 50us/step - loss: 6.9958 - mean_absolute_error: 6.9958 - val_loss: 22.3593 - val_mean_absolute_error: 22.3593\n",
      "Epoch 84/100\n",
      "769500/769500 [==============================] - 39s 50us/step - loss: 6.9662 - mean_absolute_error: 6.9662 - val_loss: 21.4705 - val_mean_absolute_error: 21.4705\n",
      "Epoch 85/100\n",
      "769500/769500 [==============================] - 39s 50us/step - loss: 6.9731 - mean_absolute_error: 6.9731 - val_loss: 21.3889 - val_mean_absolute_error: 21.3889\n",
      "Epoch 86/100\n",
      "769500/769500 [==============================] - 39s 50us/step - loss: 6.9439 - mean_absolute_error: 6.9439 - val_loss: 23.5469 - val_mean_absolute_error: 23.5469\n",
      "Epoch 87/100\n",
      "769500/769500 [==============================] - 38s 50us/step - loss: 6.9162 - mean_absolute_error: 6.9162 - val_loss: 22.5496 - val_mean_absolute_error: 22.5496\n",
      "Epoch 88/100\n",
      "769500/769500 [==============================] - 39s 50us/step - loss: 6.8881 - mean_absolute_error: 6.8881 - val_loss: 22.8444 - val_mean_absolute_error: 22.8444\n",
      "Epoch 89/100\n",
      "769500/769500 [==============================] - 39s 50us/step - loss: 6.8684 - mean_absolute_error: 6.8684 - val_loss: 21.5302 - val_mean_absolute_error: 21.5302\n",
      "Epoch 90/100\n",
      "769500/769500 [==============================] - 39s 51us/step - loss: 6.8568 - mean_absolute_error: 6.8568 - val_loss: 21.6649 - val_mean_absolute_error: 21.6649\n",
      "Epoch 91/100\n",
      "769500/769500 [==============================] - 39s 50us/step - loss: 6.8476 - mean_absolute_error: 6.8476 - val_loss: 21.7555 - val_mean_absolute_error: 21.7555\n",
      "Epoch 92/100\n",
      "769500/769500 [==============================] - 38s 50us/step - loss: 6.8092 - mean_absolute_error: 6.8092 - val_loss: 22.1790 - val_mean_absolute_error: 22.1790\n",
      "Epoch 93/100\n",
      "769500/769500 [==============================] - 38s 50us/step - loss: 6.7990 - mean_absolute_error: 6.7990 - val_loss: 23.1093 - val_mean_absolute_error: 23.1093\n",
      "Epoch 94/100\n",
      "769500/769500 [==============================] - 38s 50us/step - loss: 6.7590 - mean_absolute_error: 6.7590 - val_loss: 24.1732 - val_mean_absolute_error: 24.1732\n",
      "Epoch 95/100\n",
      "769500/769500 [==============================] - 39s 50us/step - loss: 6.7520 - mean_absolute_error: 6.7520 - val_loss: 23.7316 - val_mean_absolute_error: 23.7316\n",
      "Epoch 96/100\n",
      "769500/769500 [==============================] - 39s 50us/step - loss: 6.7466 - mean_absolute_error: 6.7466 - val_loss: 22.8672 - val_mean_absolute_error: 22.8672\n",
      "Epoch 97/100\n",
      "769500/769500 [==============================] - 39s 50us/step - loss: 6.7479 - mean_absolute_error: 6.7479 - val_loss: 23.5290 - val_mean_absolute_error: 23.5290\n",
      "Epoch 98/100\n",
      "769500/769500 [==============================] - 39s 50us/step - loss: 6.6973 - mean_absolute_error: 6.6973 - val_loss: 23.2362 - val_mean_absolute_error: 23.2362\n",
      "Epoch 99/100\n",
      "769500/769500 [==============================] - 39s 51us/step - loss: 6.6677 - mean_absolute_error: 6.6677 - val_loss: 22.1591 - val_mean_absolute_error: 22.1591\n",
      "Epoch 100/100\n",
      "769500/769500 [==============================] - 39s 50us/step - loss: 6.6767 - mean_absolute_error: 6.6767 - val_loss: 21.6940 - val_mean_absolute_error: 21.6940\n"
     ]
    }
   ],
   "source": [
    "# 케라스를 통해 모델 생성을 시작합니다.\n",
    "\n",
    "model_06 = Sequential()\n",
    "model_06.add(Dense(units= 178, input_dim=226, kernel_initializer='he_normal'))\n",
    "model_06.add(BatchNormalization())\n",
    "model_06.add(Activation('relu'))\n",
    "model_06.add(Dense(units=178, kernel_initializer='he_normal'))\n",
    "model_06.add(BatchNormalization())\n",
    "model_06.add(Activation('relu'))\n",
    "model_06.add(Dense(units=178, kernel_initializer='he_normal'))\n",
    "model_06.add(BatchNormalization())\n",
    "model_06.add(Activation('relu'))\n",
    "model_06.add(Dense(units=178, kernel_initializer='he_normal'))\n",
    "model_06.add(BatchNormalization())\n",
    "model_06.add(Activation('relu'))\n",
    "model_06.add(Dense(units=4, activation='linear'))\n",
    "\n",
    "adam = keras.optimizers.Adam(0.001)\n",
    "model_06.compile(loss='mae', optimizer=adam, metrics=['mae'])\n",
    "\n",
    "hist = model_06.fit(train_X, train_Y, epochs=100, batch_size=500, validation_split=0.05)"
   ]
  },
  {
   "cell_type": "code",
   "execution_count": 0,
   "metadata": {
    "colab": {
     "base_uri": "https://localhost:8080/",
     "height": 279
    },
    "colab_type": "code",
    "id": "oE910F1qN0LH",
    "outputId": "e4216425-6826-4cae-d5dd-c85cb2ebdb31"
   },
   "outputs": [
    {
     "data": {
      "image/png": "[encoded data removed]",
      "text/plain": [
       "<Figure size 432x288 with 2 Axes>"
      ]
     },
     "metadata": {
      "tags": []
     },
     "output_type": "display_data"
    }
   ],
   "source": [
    "%matplotlib inline\n",
    "import matplotlib.pyplot as plt\n",
    "\n",
    "fig, loss_ax = plt.subplots()\n",
    "\n",
    "acc_ax = loss_ax.twinx()\n",
    "\n",
    "loss_ax.plot(hist.history['loss'], 'y', label='train loss')\n",
    "loss_ax.plot(hist.history['val_loss'], 'r', label='val loss')\n",
    "\n",
    "acc_ax.plot(hist.history['mean_absolute_error'], 'b', label='train acc')\n",
    "acc_ax.plot(hist.history['val_mean_absolute_error'], 'g', label='val acc')\n",
    "\n",
    "loss_ax.set_xlabel('epoch')\n",
    "loss_ax.set_ylabel('loss')\n",
    "acc_ax.set_ylabel('mean absolute error')\n",
    "\n",
    "loss_ax.legend(loc='upper left')\n",
    "acc_ax.legend(loc='lower left')\n",
    "\n",
    "plt.show()"
   ]
  },
  {
   "cell_type": "code",
   "execution_count": 0,
   "metadata": {
    "colab": {},
    "colab_type": "code",
    "id": "Nh-kEsgMN0Qk"
   },
   "outputs": [],
   "source": [
    "# 예측값을 생성합니다.\n",
    "\n",
    "pred_test_06 = model_06.predict(test_X)"
   ]
  },
  {
   "cell_type": "code",
   "execution_count": 0,
   "metadata": {
    "colab": {},
    "colab_type": "code",
    "id": "mW6qIExFN0pD"
   },
   "outputs": [],
   "source": [
    "# submission 파일을 생성합니다.\n",
    "sample_sub = pd.read_csv('/gdrive/My Drive/DACON-semiconductor-competition/dataset/sample_submission.csv', index_col=0)\n",
    "submission = sample_sub+pred_test_06\n",
    "submission.to_csv('/gdrive/My Drive/DACON-semiconductor-competition/submission_06.csv')"
   ]
  }
 ],
 "metadata": {
  "colab": {
   "authorship_tag": "ABX9TyNQvM6oVhtEMcMco5LgUrX9",
   "collapsed_sections": [],
   "include_colab_link": true,
   "name": "submission_06.ipynb",
   "provenance": []
  },
  "kernelspec": {
   "display_name": "Python 3",
   "language": "python",
   "name": "python3"
  },
  "language_info": {
   "codemirror_mode": {
    "name": "ipython",
    "version": 3
   },
   "file_extension": ".py",
   "mimetype": "text/x-python",
   "name": "python",
   "nbconvert_exporter": "python",
   "pygments_lexer": "ipython3",
   "version": "3.7.3"
  }
 },
 "nbformat": 4,
 "nbformat_minor": 1
}
