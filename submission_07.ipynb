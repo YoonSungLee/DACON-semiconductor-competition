{
 "cells": [
  {
   "cell_type": "markdown",
   "metadata": {
    "colab_type": "text",
    "id": "view-in-github"
   },
   "source": [
    "<a href=\"https://colab.research.google.com/github/Inha-AI/DACON-semiconductor-competition/blob/feature%2FYoonSungLee/submission_7.ipynb\" target=\"_parent\"><img src=\"https://colab.research.google.com/assets/colab-badge.svg\" alt=\"Open In Colab\"/></a>"
   ]
  },
  {
   "cell_type": "code",
   "execution_count": 0,
   "metadata": {
    "colab": {},
    "colab_type": "code",
    "id": "0vVeUdyssBKw"
   },
   "outputs": [],
   "source": [
    "import numpy as np\n",
    "import pandas as pd\n",
    "import matplotlib.pyplot as plt\n",
    "import keras\n",
    "from keras.models import Sequential\n",
    "from keras.layers import Dense, Activation, Dropout\n",
    "from keras.layers import BatchNormalization"
   ]
  },
  {
   "cell_type": "code",
   "execution_count": 10,
   "metadata": {
    "colab": {
     "base_uri": "https://localhost:8080/",
     "height": 56
    },
    "colab_type": "code",
    "id": "EwHXDEigsNB0",
    "outputId": "5c4f8189-4c9d-437e-bf22-6bc6a1e245d7"
   },
   "outputs": [
    {
     "name": "stdout",
     "output_type": "stream",
     "text": [
      "Drive already mounted at /gdrive; to attempt to forcibly remount, call drive.mount(\"/gdrive\", force_remount=True).\n"
     ]
    }
   ],
   "source": [
    "from google.colab import drive\n",
    "drive.mount('/gdrive')"
   ]
  },
  {
   "cell_type": "code",
   "execution_count": 0,
   "metadata": {
    "colab": {},
    "colab_type": "code",
    "id": "-BNXAU5rsPJS"
   },
   "outputs": [],
   "source": [
    "df_train = pd.read_csv('/gdrive/My Drive/DACON-semiconductor-competition/dataset/train.csv')\n",
    "df_test = pd.read_csv('/gdrive/My Drive/DACON-semiconductor-competition/dataset/test.csv')"
   ]
  },
  {
   "cell_type": "code",
   "execution_count": 0,
   "metadata": {
    "colab": {},
    "colab_type": "code",
    "id": "TdYXclfgsVr6"
   },
   "outputs": [],
   "source": [
    "# 독립변수와 종속변수를 분리합니다.\n",
    "\n",
    "train_X = df_train.iloc[:,4:]\n",
    "train_Y = df_train.iloc[:,0:4]\n",
    "test_X = df_test.iloc[:,1:]"
   ]
  },
  {
   "cell_type": "markdown",
   "metadata": {
    "colab_type": "text",
    "id": "8tT4w6XasaSQ"
   },
   "source": [
    "# Model 7"
   ]
  },
  {
   "cell_type": "markdown",
   "metadata": {},
   "source": [
    "* 8 layers\n",
    "* (108, 82, 56, 30) units, he_normal, relu\n",
    "* BatchNormalization\n",
    "* Adam(0.008)\n",
    "* epochs 100\n",
    "* batch_size 500\n",
    "<br><br>\n",
    "* layer의 층을 두 배로 늘림\n",
    "* layer의 층을 더 쌓고, 양쪽 layer units의 평균을 해당 layer units으로 설정\n",
    "* learning_rate 변경\n",
    "* Model 6보다 성능이 떨어짐"
   ]
  },
  {
   "cell_type": "code",
   "execution_count": 13,
   "metadata": {
    "colab": {
     "base_uri": "https://localhost:8080/",
     "height": 1000
    },
    "colab_type": "code",
    "id": "4PSSfoS5sfWK",
    "outputId": "56ceba21-fee3-48c9-b79a-aed3ab90c4ba"
   },
   "outputs": [
    {
     "name": "stdout",
     "output_type": "stream",
     "text": [
      "Train on 769500 samples, validate on 40500 samples\n",
      "Epoch 1/100\n",
      "769500/769500 [==============================] - 36s 47us/step - loss: 52.1929 - acc: 0.4741 - val_loss: 54.2236 - val_acc: 0.3087\n",
      "Epoch 2/100\n",
      "769500/769500 [==============================] - 34s 44us/step - loss: 27.6598 - acc: 0.7037 - val_loss: 40.5441 - val_acc: 0.5353\n",
      "Epoch 3/100\n",
      "769500/769500 [==============================] - 34s 44us/step - loss: 23.8062 - acc: 0.7426 - val_loss: 45.5877 - val_acc: 0.4272\n",
      "Epoch 4/100\n",
      "769500/769500 [==============================] - 34s 44us/step - loss: 22.0374 - acc: 0.7611 - val_loss: 47.3105 - val_acc: 0.3228\n",
      "Epoch 5/100\n",
      "769500/769500 [==============================] - 34s 44us/step - loss: 20.9099 - acc: 0.7720 - val_loss: 44.6666 - val_acc: 0.4082\n",
      "Epoch 6/100\n",
      "769500/769500 [==============================] - 34s 45us/step - loss: 20.0806 - acc: 0.7800 - val_loss: 37.6037 - val_acc: 0.4886\n",
      "Epoch 7/100\n",
      "769500/769500 [==============================] - 34s 44us/step - loss: 19.3920 - acc: 0.7862 - val_loss: 35.9530 - val_acc: 0.5219\n",
      "Epoch 8/100\n",
      "769500/769500 [==============================] - 33s 43us/step - loss: 18.7982 - acc: 0.7928 - val_loss: 31.0208 - val_acc: 0.6097\n",
      "Epoch 9/100\n",
      "769500/769500 [==============================] - 34s 44us/step - loss: 18.3332 - acc: 0.7972 - val_loss: 33.9059 - val_acc: 0.5403\n",
      "Epoch 10/100\n",
      "769500/769500 [==============================] - 34s 44us/step - loss: 17.9073 - acc: 0.8021 - val_loss: 36.1475 - val_acc: 0.5088\n",
      "Epoch 11/100\n",
      "769500/769500 [==============================] - 33s 43us/step - loss: 17.5958 - acc: 0.8051 - val_loss: 31.1658 - val_acc: 0.6473\n",
      "Epoch 12/100\n",
      "769500/769500 [==============================] - 34s 44us/step - loss: 17.2678 - acc: 0.8089 - val_loss: 31.5733 - val_acc: 0.6143\n",
      "Epoch 13/100\n",
      "769500/769500 [==============================] - 34s 44us/step - loss: 17.0314 - acc: 0.8115 - val_loss: 34.9066 - val_acc: 0.5198\n",
      "Epoch 14/100\n",
      "769500/769500 [==============================] - 33s 43us/step - loss: 16.7540 - acc: 0.8143 - val_loss: 32.4843 - val_acc: 0.6099\n",
      "Epoch 15/100\n",
      "769500/769500 [==============================] - 33s 43us/step - loss: 16.5577 - acc: 0.8162 - val_loss: 37.5212 - val_acc: 0.5075\n",
      "Epoch 16/100\n",
      "769500/769500 [==============================] - 33s 43us/step - loss: 16.3936 - acc: 0.8173 - val_loss: 32.6906 - val_acc: 0.5831\n",
      "Epoch 17/100\n",
      "769500/769500 [==============================] - 33s 42us/step - loss: 16.2289 - acc: 0.8187 - val_loss: 32.9397 - val_acc: 0.6229\n",
      "Epoch 18/100\n",
      "769500/769500 [==============================] - 32s 42us/step - loss: 16.1037 - acc: 0.8207 - val_loss: 33.8974 - val_acc: 0.5197\n",
      "Epoch 19/100\n",
      "769500/769500 [==============================] - 33s 43us/step - loss: 15.9333 - acc: 0.8222 - val_loss: 32.6282 - val_acc: 0.5359\n",
      "Epoch 20/100\n",
      "769500/769500 [==============================] - 32s 42us/step - loss: 15.7569 - acc: 0.8243 - val_loss: 35.3018 - val_acc: 0.5256\n",
      "Epoch 21/100\n",
      "769500/769500 [==============================] - 32s 42us/step - loss: 15.6455 - acc: 0.8250 - val_loss: 30.3785 - val_acc: 0.6200\n",
      "Epoch 22/100\n",
      "769500/769500 [==============================] - 34s 44us/step - loss: 15.5376 - acc: 0.8261 - val_loss: 31.4593 - val_acc: 0.5737\n",
      "Epoch 23/100\n",
      "769500/769500 [==============================] - 34s 44us/step - loss: 15.3965 - acc: 0.8275 - val_loss: 29.2973 - val_acc: 0.6422\n",
      "Epoch 24/100\n",
      "769500/769500 [==============================] - 33s 42us/step - loss: 15.2507 - acc: 0.8291 - val_loss: 32.0992 - val_acc: 0.6018\n",
      "Epoch 25/100\n",
      "769500/769500 [==============================] - 32s 42us/step - loss: 15.1363 - acc: 0.8306 - val_loss: 35.2964 - val_acc: 0.5562\n",
      "Epoch 26/100\n",
      "769500/769500 [==============================] - 32s 42us/step - loss: 15.0135 - acc: 0.8317 - val_loss: 30.7136 - val_acc: 0.6679\n",
      "Epoch 27/100\n",
      "769500/769500 [==============================] - 32s 42us/step - loss: 14.9796 - acc: 0.8318 - val_loss: 30.1700 - val_acc: 0.6186\n",
      "Epoch 28/100\n",
      "769500/769500 [==============================] - 33s 43us/step - loss: 14.8575 - acc: 0.8333 - val_loss: 25.8812 - val_acc: 0.7550\n",
      "Epoch 29/100\n",
      "769500/769500 [==============================] - 32s 42us/step - loss: 14.7850 - acc: 0.8339 - val_loss: 31.5314 - val_acc: 0.5291\n",
      "Epoch 30/100\n",
      "769500/769500 [==============================] - 32s 42us/step - loss: 14.7214 - acc: 0.8351 - val_loss: 31.5925 - val_acc: 0.6017\n",
      "Epoch 31/100\n",
      "769500/769500 [==============================] - 33s 42us/step - loss: 14.6457 - acc: 0.8356 - val_loss: 30.7814 - val_acc: 0.5379\n",
      "Epoch 32/100\n",
      "769500/769500 [==============================] - 33s 43us/step - loss: 14.5664 - acc: 0.8368 - val_loss: 29.5717 - val_acc: 0.5800\n",
      "Epoch 33/100\n",
      "769500/769500 [==============================] - 32s 42us/step - loss: 14.4835 - acc: 0.8375 - val_loss: 29.6581 - val_acc: 0.6031\n",
      "Epoch 34/100\n",
      "769500/769500 [==============================] - 33s 42us/step - loss: 14.4621 - acc: 0.8377 - val_loss: 31.3275 - val_acc: 0.5642\n",
      "Epoch 35/100\n",
      "769500/769500 [==============================] - 33s 43us/step - loss: 14.3164 - acc: 0.8387 - val_loss: 31.9110 - val_acc: 0.5603\n",
      "Epoch 36/100\n",
      "769500/769500 [==============================] - 33s 42us/step - loss: 14.2561 - acc: 0.8402 - val_loss: 28.5270 - val_acc: 0.6128\n",
      "Epoch 37/100\n",
      "769500/769500 [==============================] - 33s 43us/step - loss: 14.2033 - acc: 0.8402 - val_loss: 28.7674 - val_acc: 0.6159\n",
      "Epoch 38/100\n",
      "769500/769500 [==============================] - 33s 43us/step - loss: 14.1616 - acc: 0.8407 - val_loss: 30.7250 - val_acc: 0.6068\n",
      "Epoch 39/100\n",
      "769500/769500 [==============================] - 33s 43us/step - loss: 14.0591 - acc: 0.8422 - val_loss: 31.6443 - val_acc: 0.5569\n",
      "Epoch 40/100\n",
      "769500/769500 [==============================] - 33s 42us/step - loss: 14.0051 - acc: 0.8428 - val_loss: 27.9420 - val_acc: 0.6501\n",
      "Epoch 41/100\n",
      "769500/769500 [==============================] - 33s 43us/step - loss: 13.9521 - acc: 0.8433 - val_loss: 28.7674 - val_acc: 0.6246\n",
      "Epoch 42/100\n",
      "769500/769500 [==============================] - 33s 43us/step - loss: 13.8915 - acc: 0.8442 - val_loss: 29.0572 - val_acc: 0.5960\n",
      "Epoch 43/100\n",
      "769500/769500 [==============================] - 33s 42us/step - loss: 13.8714 - acc: 0.8437 - val_loss: 34.5205 - val_acc: 0.5144\n",
      "Epoch 44/100\n",
      "769500/769500 [==============================] - 32s 42us/step - loss: 13.8329 - acc: 0.8449 - val_loss: 27.9966 - val_acc: 0.6472\n",
      "Epoch 45/100\n",
      "769500/769500 [==============================] - 32s 42us/step - loss: 13.7991 - acc: 0.8453 - val_loss: 29.8286 - val_acc: 0.5830\n",
      "Epoch 46/100\n",
      "769500/769500 [==============================] - 33s 42us/step - loss: 13.7200 - acc: 0.8461 - val_loss: 27.8659 - val_acc: 0.6786\n",
      "Epoch 47/100\n",
      "769500/769500 [==============================] - 33s 42us/step - loss: 13.6898 - acc: 0.8463 - val_loss: 28.9081 - val_acc: 0.6116\n",
      "Epoch 48/100\n",
      "769500/769500 [==============================] - 32s 41us/step - loss: 13.5841 - acc: 0.8474 - val_loss: 28.1381 - val_acc: 0.6418\n",
      "Epoch 49/100\n",
      "769500/769500 [==============================] - 32s 41us/step - loss: 13.5864 - acc: 0.8470 - val_loss: 31.9429 - val_acc: 0.5134\n",
      "Epoch 50/100\n",
      "769500/769500 [==============================] - 32s 41us/step - loss: 13.5242 - acc: 0.8484 - val_loss: 26.6634 - val_acc: 0.6466\n",
      "Epoch 51/100\n",
      "769500/769500 [==============================] - 32s 42us/step - loss: 13.4943 - acc: 0.8486 - val_loss: 32.9116 - val_acc: 0.5039\n",
      "Epoch 52/100\n",
      "769500/769500 [==============================] - 32s 42us/step - loss: 13.4559 - acc: 0.8488 - val_loss: 29.7606 - val_acc: 0.5878\n",
      "Epoch 53/100\n",
      "769500/769500 [==============================] - 33s 42us/step - loss: 13.4647 - acc: 0.8495 - val_loss: 26.4621 - val_acc: 0.6836\n",
      "Epoch 54/100\n",
      "769500/769500 [==============================] - 33s 42us/step - loss: 13.4090 - acc: 0.8490 - val_loss: 28.1315 - val_acc: 0.5592\n",
      "Epoch 55/100\n",
      "769500/769500 [==============================] - 32s 42us/step - loss: 13.3610 - acc: 0.8496 - val_loss: 28.1402 - val_acc: 0.6170\n",
      "Epoch 56/100\n",
      "769500/769500 [==============================] - 32s 42us/step - loss: 13.3168 - acc: 0.8503 - val_loss: 29.3224 - val_acc: 0.5805\n",
      "Epoch 57/100\n",
      "769500/769500 [==============================] - 33s 42us/step - loss: 13.3042 - acc: 0.8510 - val_loss: 31.8475 - val_acc: 0.5367\n",
      "Epoch 58/100\n",
      "769500/769500 [==============================] - 32s 42us/step - loss: 13.2654 - acc: 0.8508 - val_loss: 26.7427 - val_acc: 0.6327\n",
      "Epoch 59/100\n",
      "769500/769500 [==============================] - 32s 42us/step - loss: 13.2629 - acc: 0.8512 - val_loss: 26.6207 - val_acc: 0.6518\n",
      "Epoch 60/100\n",
      "769500/769500 [==============================] - 32s 42us/step - loss: 13.1885 - acc: 0.8519 - val_loss: 27.7556 - val_acc: 0.5905\n",
      "Epoch 61/100\n",
      "769500/769500 [==============================] - 34s 44us/step - loss: 13.1543 - acc: 0.8521 - val_loss: 28.6014 - val_acc: 0.6179\n",
      "Epoch 62/100\n",
      "769500/769500 [==============================] - 33s 43us/step - loss: 13.1327 - acc: 0.8519 - val_loss: 26.4300 - val_acc: 0.6390\n",
      "Epoch 63/100\n",
      "769500/769500 [==============================] - 33s 43us/step - loss: 13.1045 - acc: 0.8530 - val_loss: 26.1445 - val_acc: 0.7031\n",
      "Epoch 64/100\n",
      "769500/769500 [==============================] - 33s 43us/step - loss: 13.0856 - acc: 0.8527 - val_loss: 27.2264 - val_acc: 0.6333\n",
      "Epoch 65/100\n",
      "769500/769500 [==============================] - 33s 43us/step - loss: 13.0301 - acc: 0.8535 - val_loss: 30.4118 - val_acc: 0.5403\n",
      "Epoch 66/100\n",
      "769500/769500 [==============================] - 36s 47us/step - loss: 13.0266 - acc: 0.8537 - val_loss: 24.5183 - val_acc: 0.6781\n",
      "Epoch 67/100\n",
      "769500/769500 [==============================] - 33s 43us/step - loss: 12.9875 - acc: 0.8540 - val_loss: 30.5006 - val_acc: 0.5565\n",
      "Epoch 68/100\n",
      "769500/769500 [==============================] - 34s 44us/step - loss: 12.9742 - acc: 0.8541 - val_loss: 28.7651 - val_acc: 0.6150\n",
      "Epoch 69/100\n",
      "769500/769500 [==============================] - 34s 44us/step - loss: 12.9269 - acc: 0.8541 - val_loss: 29.7537 - val_acc: 0.5931\n",
      "Epoch 70/100\n",
      "769500/769500 [==============================] - 34s 44us/step - loss: 12.8596 - acc: 0.8552 - val_loss: 27.8206 - val_acc: 0.6211\n",
      "Epoch 71/100\n",
      "769500/769500 [==============================] - 33s 43us/step - loss: 12.8707 - acc: 0.8549 - val_loss: 27.3082 - val_acc: 0.6211\n",
      "Epoch 72/100\n",
      "769500/769500 [==============================] - 33s 43us/step - loss: 12.8529 - acc: 0.8548 - val_loss: 27.3828 - val_acc: 0.6257\n",
      "Epoch 73/100\n",
      "769500/769500 [==============================] - 33s 43us/step - loss: 12.8370 - acc: 0.8555 - val_loss: 28.0116 - val_acc: 0.6255\n",
      "Epoch 74/100\n",
      "769500/769500 [==============================] - 33s 43us/step - loss: 12.8329 - acc: 0.8553 - val_loss: 31.5649 - val_acc: 0.5757\n",
      "Epoch 75/100\n",
      "769500/769500 [==============================] - 33s 43us/step - loss: 12.7730 - acc: 0.8558 - val_loss: 28.5156 - val_acc: 0.5845\n",
      "Epoch 76/100\n",
      "769500/769500 [==============================] - 33s 43us/step - loss: 12.7948 - acc: 0.8559 - val_loss: 26.5742 - val_acc: 0.6197\n",
      "Epoch 77/100\n",
      "769500/769500 [==============================] - 33s 43us/step - loss: 12.7480 - acc: 0.8560 - val_loss: 27.9635 - val_acc: 0.6050\n",
      "Epoch 78/100\n",
      "769500/769500 [==============================] - 33s 43us/step - loss: 12.7319 - acc: 0.8560 - val_loss: 29.5183 - val_acc: 0.6058\n",
      "Epoch 79/100\n",
      "769500/769500 [==============================] - 33s 43us/step - loss: 12.7084 - acc: 0.8563 - val_loss: 29.6081 - val_acc: 0.5924\n",
      "Epoch 80/100\n",
      "769500/769500 [==============================] - 34s 44us/step - loss: 12.7117 - acc: 0.8566 - val_loss: 26.8518 - val_acc: 0.6331\n",
      "Epoch 81/100\n",
      "769500/769500 [==============================] - 33s 43us/step - loss: 12.6675 - acc: 0.8571 - val_loss: 29.1827 - val_acc: 0.5961\n",
      "Epoch 82/100\n",
      "769500/769500 [==============================] - 33s 42us/step - loss: 12.6724 - acc: 0.8571 - val_loss: 28.1333 - val_acc: 0.6032\n",
      "Epoch 83/100\n",
      "769500/769500 [==============================] - 33s 43us/step - loss: 12.6504 - acc: 0.8576 - val_loss: 28.8411 - val_acc: 0.5854\n",
      "Epoch 84/100\n",
      "769500/769500 [==============================] - 33s 43us/step - loss: 12.6326 - acc: 0.8576 - val_loss: 24.8463 - val_acc: 0.7112\n",
      "Epoch 85/100\n",
      "769500/769500 [==============================] - 33s 42us/step - loss: 12.6168 - acc: 0.8582 - val_loss: 27.5393 - val_acc: 0.6360\n",
      "Epoch 86/100\n",
      "769500/769500 [==============================] - 33s 42us/step - loss: 12.5878 - acc: 0.8585 - val_loss: 29.1508 - val_acc: 0.5563\n",
      "Epoch 87/100\n",
      "769500/769500 [==============================] - 33s 42us/step - loss: 12.5460 - acc: 0.8580 - val_loss: 27.4521 - val_acc: 0.6598\n",
      "Epoch 88/100\n",
      "769500/769500 [==============================] - 33s 42us/step - loss: 12.5339 - acc: 0.8582 - val_loss: 27.9801 - val_acc: 0.5915\n",
      "Epoch 89/100\n",
      "769500/769500 [==============================] - 33s 43us/step - loss: 12.5375 - acc: 0.8583 - val_loss: 26.0028 - val_acc: 0.6598\n",
      "Epoch 90/100\n",
      "769500/769500 [==============================] - 32s 42us/step - loss: 12.5157 - acc: 0.8593 - val_loss: 28.4178 - val_acc: 0.5794\n",
      "Epoch 91/100\n",
      "769500/769500 [==============================] - 33s 42us/step - loss: 12.4755 - acc: 0.8593 - val_loss: 22.5357 - val_acc: 0.7372\n",
      "Epoch 92/100\n",
      "769500/769500 [==============================] - 33s 43us/step - loss: 12.4842 - acc: 0.8592 - val_loss: 28.9455 - val_acc: 0.5731\n",
      "Epoch 93/100\n",
      "769500/769500 [==============================] - 33s 43us/step - loss: 12.4474 - acc: 0.8599 - val_loss: 31.0032 - val_acc: 0.5340\n",
      "Epoch 94/100\n",
      "769500/769500 [==============================] - 34s 44us/step - loss: 12.4562 - acc: 0.8600 - val_loss: 27.0761 - val_acc: 0.6383\n",
      "Epoch 95/100\n",
      "769500/769500 [==============================] - 33s 43us/step - loss: 12.4409 - acc: 0.8599 - val_loss: 28.0815 - val_acc: 0.6305\n",
      "Epoch 96/100\n",
      "769500/769500 [==============================] - 33s 43us/step - loss: 12.4091 - acc: 0.8603 - val_loss: 30.4974 - val_acc: 0.5908\n",
      "Epoch 97/100\n",
      "769500/769500 [==============================] - 33s 43us/step - loss: 12.4026 - acc: 0.8603 - val_loss: 28.7547 - val_acc: 0.5739\n",
      "Epoch 98/100\n",
      "769500/769500 [==============================] - 33s 43us/step - loss: 12.4074 - acc: 0.8598 - val_loss: 27.2666 - val_acc: 0.6499\n",
      "Epoch 99/100\n",
      "769500/769500 [==============================] - 34s 44us/step - loss: 12.3642 - acc: 0.8606 - val_loss: 29.1609 - val_acc: 0.6060\n",
      "Epoch 100/100\n",
      "769500/769500 [==============================] - 33s 43us/step - loss: 12.3394 - acc: 0.8605 - val_loss: 29.8289 - val_acc: 0.5782\n"
     ]
    }
   ],
   "source": [
    "# 케라스를 통해 모델 생성을 시작합니다.\n",
    "\n",
    "model_07 = Sequential()\n",
    "model_07.add(Dense(units=108, input_dim=226, kernel_initializer='he_normal'))\n",
    "model_07.add(Dense(units=108, kernel_initializer='he_normal'))\n",
    "model_07.add(BatchNormalization())\n",
    "model_07.add(Activation('relu'))\n",
    "model_07.add(Dense(units=82, kernel_initializer='he_normal'))\n",
    "model_07.add(Dense(units=82, kernel_initializer='he_normal'))\n",
    "model_07.add(BatchNormalization())\n",
    "model_07.add(Activation('relu'))\n",
    "model_07.add(Dense(units=56, kernel_initializer='he_normal'))\n",
    "model_07.add(Dense(units=56, kernel_initializer='he_normal'))\n",
    "model_07.add(BatchNormalization())\n",
    "model_07.add(Activation('relu'))\n",
    "model_07.add(Dense(units=30, kernel_initializer='he_normal'))\n",
    "model_07.add(Dense(units=30, kernel_initializer='he_normal'))\n",
    "model_07.add(BatchNormalization())\n",
    "model_07.add(Activation('relu'))\n",
    "\n",
    "model_07.add(Dense(units=4, activation='linear'))\n",
    "\n",
    "adam = keras.optimizers.Adam(0.008)\n",
    "model_07.compile(loss='mae', optimizer=adam, metrics=['accuracy'])\n",
    "\n",
    "hist = model_07.fit(train_X, train_Y, epochs=100, batch_size=500, validation_split=0.05)"
   ]
  },
  {
   "cell_type": "code",
   "execution_count": 14,
   "metadata": {
    "colab": {
     "base_uri": "https://localhost:8080/",
     "height": 279
    },
    "colab_type": "code",
    "id": "QXyf3UBqk7Tf",
    "outputId": "a8637f05-8056-4bd2-d4c9-032a25ec25e1"
   },
   "outputs": [
    {
     "data": {
      "image/png": "[encoded data removed]",
      "text/plain": [
       "<Figure size 432x288 with 2 Axes>"
      ]
     },
     "metadata": {
      "tags": []
     },
     "output_type": "display_data"
    }
   ],
   "source": [
    "%matplotlib inline\n",
    "import matplotlib.pyplot as plt\n",
    "\n",
    "fig, loss_ax = plt.subplots()\n",
    "\n",
    "acc_ax = loss_ax.twinx()\n",
    "\n",
    "loss_ax.plot(hist.history['loss'], 'y', label='train loss')\n",
    "loss_ax.plot(hist.history['val_loss'], 'r', label='val loss')\n",
    "\n",
    "acc_ax.plot(hist.history['acc'], 'b', label='train acc')\n",
    "acc_ax.plot(hist.history['val_acc'], 'g', label='val acc')\n",
    "\n",
    "loss_ax.set_xlabel('epoch')\n",
    "loss_ax.set_ylabel('loss')\n",
    "acc_ax.set_ylabel('mean absolute error')\n",
    "\n",
    "loss_ax.legend(loc='upper left')\n",
    "acc_ax.legend(loc='lower left')\n",
    "\n",
    "plt.show()"
   ]
  },
  {
   "cell_type": "code",
   "execution_count": 0,
   "metadata": {
    "colab": {},
    "colab_type": "code",
    "id": "6cGHPOTqk7aR"
   },
   "outputs": [],
   "source": [
    "# 예측값을 생성합니다.\n",
    "\n",
    "pred_test_07 = model_07.predict(test_X)"
   ]
  },
  {
   "cell_type": "code",
   "execution_count": 0,
   "metadata": {
    "colab": {},
    "colab_type": "code",
    "id": "Bf0sd1kyk7e5"
   },
   "outputs": [],
   "source": [
    "# submission 파일을 생성합니다.\n",
    "sample_sub = pd.read_csv('/gdrive/My Drive/DACON-semiconductor-competition/dataset/sample_submission.csv', index_col=0)\n",
    "submission = sample_sub+pred_test_07\n",
    "submission.to_csv('/gdrive/My Drive/DACON-semiconductor-competition/submission_07.csv')"
   ]
  }
 ],
 "metadata": {
  "colab": {
   "authorship_tag": "ABX9TyMq4YxTq3AJh/1gHAnjexfM",
   "collapsed_sections": [],
   "include_colab_link": true,
   "name": "submission_7.ipynb",
   "provenance": []
  },
  "kernelspec": {
   "display_name": "Python 3",
   "language": "python",
   "name": "python3"
  },
  "language_info": {
   "codemirror_mode": {
    "name": "ipython",
    "version": 3
   },
   "file_extension": ".py",
   "mimetype": "text/x-python",
   "name": "python",
   "nbconvert_exporter": "python",
   "pygments_lexer": "ipython3",
   "version": "3.7.3"
  }
 },
 "nbformat": 4,
 "nbformat_minor": 1
}
