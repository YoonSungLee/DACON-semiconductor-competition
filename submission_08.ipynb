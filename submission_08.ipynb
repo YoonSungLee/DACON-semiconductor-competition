{
  "nbformat": 4,
  "nbformat_minor": 0,
  "metadata": {
    "colab": {
      "name": "submission_08.ipynb",
      "provenance": [],
      "collapsed_sections": [],
      "authorship_tag": "ABX9TyNiO0jjnNTIL2SPHdTQ1Ibs",
      "include_colab_link": true
    },
    "kernelspec": {
      "name": "python3",
      "display_name": "Python 3"
    },
    "accelerator": "GPU"
  },
  "cells": [
    {
      "cell_type": "markdown",
      "metadata": {
        "id": "view-in-github",
        "colab_type": "text"
      },
      "source": [
        "<a href=\"https://colab.research.google.com/github/Inha-AI/DACON-semiconductor-competition/blob/feature%2FYoonSungLee/submission_08.ipynb\" target=\"_parent\"><img src=\"https://colab.research.google.com/assets/colab-badge.svg\" alt=\"Open In Colab\"/></a>"
      ]
    },
    {
      "cell_type": "code",
      "metadata": {
        "id": "0vVeUdyssBKw",
        "colab_type": "code",
        "outputId": "4f6b1a76-8aa2-42de-a66a-44fe5e907965",
        "colab": {
          "base_uri": "https://localhost:8080/",
          "height": 84
        }
      },
      "source": [
        "import numpy as np\n",
        "import pandas as pd\n",
        "import matplotlib.pyplot as plt\n",
        "import keras\n",
        "from keras.models import Sequential\n",
        "from keras.layers import Dense, Activation, Dropout\n",
        "from keras.layers import BatchNormalization"
      ],
      "execution_count": 0,
      "outputs": [
        {
          "output_type": "stream",
          "text": [
            "Using TensorFlow backend.\n"
          ],
          "name": "stderr"
        },
        {
          "output_type": "display_data",
          "data": {
            "text/html": [
              "<p style=\"color: red;\">\n",
              "The default version of TensorFlow in Colab will soon switch to TensorFlow 2.x.<br>\n",
              "We recommend you <a href=\"https://www.tensorflow.org/guide/migrate\" target=\"_blank\">upgrade</a> now \n",
              "or ensure your notebook will continue to use TensorFlow 1.x via the <code>%tensorflow_version 1.x</code> magic:\n",
              "<a href=\"https://colab.research.google.com/notebooks/tensorflow_version.ipynb\" target=\"_blank\">more info</a>.</p>\n"
            ],
            "text/plain": [
              "<IPython.core.display.HTML object>"
            ]
          },
          "metadata": {
            "tags": []
          }
        }
      ]
    },
    {
      "cell_type": "code",
      "metadata": {
        "id": "EwHXDEigsNB0",
        "colab_type": "code",
        "outputId": "0d3b4e9b-77cd-46c6-9cde-df1e0bd7a428",
        "colab": {
          "base_uri": "https://localhost:8080/",
          "height": 131
        }
      },
      "source": [
        "from google.colab import drive\n",
        "drive.mount('/gdrive')"
      ],
      "execution_count": 0,
      "outputs": [
        {
          "output_type": "stream",
          "text": [
            "Go to this URL in a browser: https://accounts.google.com/o/oauth2/auth?client_id=947318989803-6bn6qk8qdgf4n4g3pfee6491hc0brc4i.apps.googleusercontent.com&redirect_uri=urn%3aietf%3awg%3aoauth%3a2.0%3aoob&response_type=code&scope=email%20https%3a%2f%2fwww.googleapis.com%2fauth%2fdocs.test%20https%3a%2f%2fwww.googleapis.com%2fauth%2fdrive%20https%3a%2f%2fwww.googleapis.com%2fauth%2fdrive.photos.readonly%20https%3a%2f%2fwww.googleapis.com%2fauth%2fpeopleapi.readonly\n",
            "\n",
            "Enter your authorization code:\n",
            "··········\n",
            "Mounted at /gdrive\n"
          ],
          "name": "stdout"
        }
      ]
    },
    {
      "cell_type": "code",
      "metadata": {
        "id": "-BNXAU5rsPJS",
        "colab_type": "code",
        "colab": {}
      },
      "source": [
        "df_train = pd.read_csv('/gdrive/My Drive/DACON-semiconductor-competition/dataset/train.csv')\n",
        "df_test = pd.read_csv('/gdrive/My Drive/DACON-semiconductor-competition/dataset/test.csv')"
      ],
      "execution_count": 0,
      "outputs": []
    },
    {
      "cell_type": "code",
      "metadata": {
        "id": "TdYXclfgsVr6",
        "colab_type": "code",
        "colab": {}
      },
      "source": [
        "# 독립변수와 종속변수를 분리합니다.\n",
        "\n",
        "train_X = df_train.iloc[:,4:]\n",
        "train_Y = df_train.iloc[:,0:4]\n",
        "test_X = df_test.iloc[:,1:]"
      ],
      "execution_count": 0,
      "outputs": []
    },
    {
      "cell_type": "markdown",
      "metadata": {
        "id": "8tT4w6XasaSQ",
        "colab_type": "text"
      },
      "source": [
        "# Model 8"
      ]
    },
    {
      "cell_type": "markdown",
      "metadata": {
        "id": "Y25a2iOC4-2x",
        "colab_type": "text"
      },
      "source": [
        "* 11 layers\n",
        "* (108, 82, 56, 30) units, he_normal, relu\n",
        "* BatchNormalization\n",
        "* Adam(0.008)\n",
        "* epochs 100\n",
        "* batch_size 1000\n",
        "<br><br>\n",
        "* layer의 층을 두 배로 늘림\n",
        "* 깊은 layer에 비해 큰 성능을 내지 못함"
      ]
    },
    {
      "cell_type": "code",
      "metadata": {
        "id": "4PSSfoS5sfWK",
        "colab_type": "code",
        "outputId": "ce1348c7-960c-4116-d951-282a5a9882e0",
        "colab": {
          "base_uri": "https://localhost:8080/",
          "height": 1000
        }
      },
      "source": [
        "# 케라스를 통해 모델 생성을 시작합니다.\n",
        "\n",
        "model_08 = Sequential()\n",
        "model_08.add(Dense(units= 239, input_dim=226, kernel_initializer='he_normal'))\n",
        "model_08.add(Dense(units= 239, input_dim=226, kernel_initializer='he_normal'))\n",
        "model_08.add(BatchNormalization())\n",
        "model_08.add(Activation('relu'))\n",
        "model_08.add(Dense(units=252, kernel_initializer='he_normal'))\n",
        "model_08.add(Dense(units=252, kernel_initializer='he_normal'))\n",
        "model_08.add(BatchNormalization())\n",
        "model_08.add(Activation('relu'))\n",
        "model_08.add(Dense(units=265, kernel_initializer='he_normal'))\n",
        "model_08.add(Dense(units=265, kernel_initializer='he_normal'))\n",
        "model_08.add(BatchNormalization())\n",
        "model_08.add(Activation('relu'))\n",
        "model_08.add(Dense(units=178, kernel_initializer='he_normal'))\n",
        "model_08.add(Dense(units=178, kernel_initializer='he_normal'))\n",
        "model_08.add(BatchNormalization())\n",
        "model_08.add(Activation('relu'))\n",
        "model_08.add(Dense(units=91, kernel_initializer='he_normal'))\n",
        "model_08.add(Dense(units=91, kernel_initializer='he_normal'))\n",
        "model_08.add(BatchNormalization())\n",
        "model_08.add(Activation('relu'))\n",
        "model_08.add(Dense(units=4, activation='linear'))\n",
        "\n",
        "adam = keras.optimizers.Adam(0.008)\n",
        "model_08.compile(loss='mae', optimizer=adam, metrics=['accuracy'])\n",
        "\n",
        "hist = model_08.fit(train_X, train_Y, epochs=100, batch_size=1000, validation_split=0.05)"
      ],
      "execution_count": 0,
      "outputs": [
        {
          "output_type": "stream",
          "text": [
            "WARNING:tensorflow:From /usr/local/lib/python3.6/dist-packages/keras/backend/tensorflow_backend.py:66: The name tf.get_default_graph is deprecated. Please use tf.compat.v1.get_default_graph instead.\n",
            "\n",
            "WARNING:tensorflow:From /usr/local/lib/python3.6/dist-packages/keras/backend/tensorflow_backend.py:541: The name tf.placeholder is deprecated. Please use tf.compat.v1.placeholder instead.\n",
            "\n",
            "WARNING:tensorflow:From /usr/local/lib/python3.6/dist-packages/keras/backend/tensorflow_backend.py:4479: The name tf.truncated_normal is deprecated. Please use tf.random.truncated_normal instead.\n",
            "\n",
            "WARNING:tensorflow:From /usr/local/lib/python3.6/dist-packages/keras/backend/tensorflow_backend.py:148: The name tf.placeholder_with_default is deprecated. Please use tf.compat.v1.placeholder_with_default instead.\n",
            "\n",
            "WARNING:tensorflow:From /usr/local/lib/python3.6/dist-packages/keras/backend/tensorflow_backend.py:4432: The name tf.random_uniform is deprecated. Please use tf.random.uniform instead.\n",
            "\n",
            "WARNING:tensorflow:From /usr/local/lib/python3.6/dist-packages/keras/optimizers.py:793: The name tf.train.Optimizer is deprecated. Please use tf.compat.v1.train.Optimizer instead.\n",
            "\n",
            "WARNING:tensorflow:From /usr/local/lib/python3.6/dist-packages/keras/backend/tensorflow_backend.py:1033: The name tf.assign_add is deprecated. Please use tf.compat.v1.assign_add instead.\n",
            "\n",
            "WARNING:tensorflow:From /usr/local/lib/python3.6/dist-packages/keras/backend/tensorflow_backend.py:1020: The name tf.assign is deprecated. Please use tf.compat.v1.assign instead.\n",
            "\n",
            "WARNING:tensorflow:From /usr/local/lib/python3.6/dist-packages/keras/backend/tensorflow_backend.py:3005: The name tf.Session is deprecated. Please use tf.compat.v1.Session instead.\n",
            "\n",
            "Train on 769500 samples, validate on 40500 samples\n",
            "Epoch 1/100\n",
            "WARNING:tensorflow:From /usr/local/lib/python3.6/dist-packages/keras/backend/tensorflow_backend.py:190: The name tf.get_default_session is deprecated. Please use tf.compat.v1.get_default_session instead.\n",
            "\n",
            "WARNING:tensorflow:From /usr/local/lib/python3.6/dist-packages/keras/backend/tensorflow_backend.py:197: The name tf.ConfigProto is deprecated. Please use tf.compat.v1.ConfigProto instead.\n",
            "\n",
            "WARNING:tensorflow:From /usr/local/lib/python3.6/dist-packages/keras/backend/tensorflow_backend.py:207: The name tf.global_variables is deprecated. Please use tf.compat.v1.global_variables instead.\n",
            "\n",
            "WARNING:tensorflow:From /usr/local/lib/python3.6/dist-packages/keras/backend/tensorflow_backend.py:216: The name tf.is_variable_initialized is deprecated. Please use tf.compat.v1.is_variable_initialized instead.\n",
            "\n",
            "WARNING:tensorflow:From /usr/local/lib/python3.6/dist-packages/keras/backend/tensorflow_backend.py:223: The name tf.variables_initializer is deprecated. Please use tf.compat.v1.variables_initializer instead.\n",
            "\n",
            "769500/769500 [==============================] - 26s 34us/step - loss: 61.9239 - acc: 0.3500 - val_loss: 68.0679 - val_acc: 0.0229\n",
            "Epoch 2/100\n",
            "769500/769500 [==============================] - 16s 20us/step - loss: 32.7979 - acc: 0.6370 - val_loss: 45.7112 - val_acc: 0.4442\n",
            "Epoch 3/100\n",
            "769500/769500 [==============================] - 15s 20us/step - loss: 17.7903 - acc: 0.8068 - val_loss: 35.2034 - val_acc: 0.5379\n",
            "Epoch 4/100\n",
            "769500/769500 [==============================] - 16s 20us/step - loss: 13.1243 - acc: 0.8541 - val_loss: 30.7152 - val_acc: 0.5595\n",
            "Epoch 5/100\n",
            "769500/769500 [==============================] - 15s 20us/step - loss: 10.9148 - acc: 0.8779 - val_loss: 28.8778 - val_acc: 0.5120\n",
            "Epoch 6/100\n",
            "769500/769500 [==============================] - 15s 20us/step - loss: 9.6149 - acc: 0.8916 - val_loss: 28.0594 - val_acc: 0.5636\n",
            "Epoch 7/100\n",
            "769500/769500 [==============================] - 16s 21us/step - loss: 8.7792 - acc: 0.9004 - val_loss: 26.7482 - val_acc: 0.5641\n",
            "Epoch 8/100\n",
            "769500/769500 [==============================] - 16s 20us/step - loss: 8.1687 - acc: 0.9071 - val_loss: 26.2406 - val_acc: 0.5621\n",
            "Epoch 9/100\n",
            "769500/769500 [==============================] - 16s 21us/step - loss: 7.7379 - acc: 0.9113 - val_loss: 20.6393 - val_acc: 0.7053\n",
            "Epoch 10/100\n",
            "769500/769500 [==============================] - 16s 21us/step - loss: 7.3655 - acc: 0.9148 - val_loss: 20.8502 - val_acc: 0.7283\n",
            "Epoch 11/100\n",
            "769500/769500 [==============================] - 15s 20us/step - loss: 7.0644 - acc: 0.9185 - val_loss: 20.8159 - val_acc: 0.6819\n",
            "Epoch 12/100\n",
            "769500/769500 [==============================] - 15s 20us/step - loss: 6.7447 - acc: 0.9214 - val_loss: 22.1179 - val_acc: 0.6433\n",
            "Epoch 13/100\n",
            "769500/769500 [==============================] - 15s 20us/step - loss: 6.5483 - acc: 0.9234 - val_loss: 23.6376 - val_acc: 0.6342\n",
            "Epoch 14/100\n",
            "769500/769500 [==============================] - 15s 20us/step - loss: 6.3419 - acc: 0.9257 - val_loss: 19.6731 - val_acc: 0.7259\n",
            "Epoch 15/100\n",
            "769500/769500 [==============================] - 15s 20us/step - loss: 6.1787 - acc: 0.9271 - val_loss: 19.5260 - val_acc: 0.7077\n",
            "Epoch 16/100\n",
            "769500/769500 [==============================] - 15s 20us/step - loss: 6.0135 - acc: 0.9288 - val_loss: 17.9748 - val_acc: 0.7409\n",
            "Epoch 17/100\n",
            "769500/769500 [==============================] - 15s 20us/step - loss: 5.8861 - acc: 0.9302 - val_loss: 19.0227 - val_acc: 0.6640\n",
            "Epoch 18/100\n",
            "769500/769500 [==============================] - 15s 19us/step - loss: 5.7528 - acc: 0.9312 - val_loss: 22.3323 - val_acc: 0.6686\n",
            "Epoch 19/100\n",
            "769500/769500 [==============================] - 15s 19us/step - loss: 5.6078 - acc: 0.9330 - val_loss: 19.2018 - val_acc: 0.6613\n",
            "Epoch 20/100\n",
            "769500/769500 [==============================] - 15s 19us/step - loss: 5.5939 - acc: 0.9332 - val_loss: 20.2487 - val_acc: 0.7057\n",
            "Epoch 21/100\n",
            "769500/769500 [==============================] - 15s 20us/step - loss: 5.4522 - acc: 0.9345 - val_loss: 20.2929 - val_acc: 0.6759\n",
            "Epoch 22/100\n",
            "769500/769500 [==============================] - 15s 19us/step - loss: 5.3206 - acc: 0.9361 - val_loss: 17.6057 - val_acc: 0.7190\n",
            "Epoch 23/100\n",
            "769500/769500 [==============================] - 15s 19us/step - loss: 5.2689 - acc: 0.9364 - val_loss: 19.8654 - val_acc: 0.6668\n",
            "Epoch 24/100\n",
            "769500/769500 [==============================] - 15s 19us/step - loss: 5.1808 - acc: 0.9371 - val_loss: 20.0200 - val_acc: 0.6865\n",
            "Epoch 25/100\n",
            "769500/769500 [==============================] - 15s 19us/step - loss: 5.1484 - acc: 0.9381 - val_loss: 19.9768 - val_acc: 0.6586\n",
            "Epoch 26/100\n",
            "769500/769500 [==============================] - 15s 19us/step - loss: 4.9974 - acc: 0.9391 - val_loss: 18.7377 - val_acc: 0.6860\n",
            "Epoch 27/100\n",
            "769500/769500 [==============================] - 14s 19us/step - loss: 4.9509 - acc: 0.9396 - val_loss: 18.5729 - val_acc: 0.6664\n",
            "Epoch 28/100\n",
            "769500/769500 [==============================] - 15s 19us/step - loss: 4.8921 - acc: 0.9403 - val_loss: 19.2155 - val_acc: 0.6796\n",
            "Epoch 29/100\n",
            "769500/769500 [==============================] - 15s 19us/step - loss: 4.8414 - acc: 0.9407 - val_loss: 15.3036 - val_acc: 0.7614\n",
            "Epoch 30/100\n",
            "769500/769500 [==============================] - 15s 20us/step - loss: 4.7802 - acc: 0.9407 - val_loss: 21.0748 - val_acc: 0.6542\n",
            "Epoch 31/100\n",
            "769500/769500 [==============================] - 14s 19us/step - loss: 4.7175 - acc: 0.9424 - val_loss: 16.9086 - val_acc: 0.7170\n",
            "Epoch 32/100\n",
            "769500/769500 [==============================] - 14s 19us/step - loss: 4.6868 - acc: 0.9422 - val_loss: 17.4637 - val_acc: 0.7363\n",
            "Epoch 33/100\n",
            "769500/769500 [==============================] - 15s 19us/step - loss: 4.6407 - acc: 0.9429 - val_loss: 19.3903 - val_acc: 0.6779\n",
            "Epoch 34/100\n",
            "769500/769500 [==============================] - 15s 19us/step - loss: 4.5788 - acc: 0.9437 - val_loss: 15.9408 - val_acc: 0.7516\n",
            "Epoch 35/100\n",
            "769500/769500 [==============================] - 14s 19us/step - loss: 4.5334 - acc: 0.9438 - val_loss: 16.5276 - val_acc: 0.7059\n",
            "Epoch 36/100\n",
            "769500/769500 [==============================] - 14s 19us/step - loss: 4.5151 - acc: 0.9440 - val_loss: 14.7555 - val_acc: 0.8031\n",
            "Epoch 37/100\n",
            "769500/769500 [==============================] - 15s 19us/step - loss: 4.4615 - acc: 0.9444 - val_loss: 16.2322 - val_acc: 0.7568\n",
            "Epoch 38/100\n",
            "769500/769500 [==============================] - 15s 19us/step - loss: 4.3918 - acc: 0.9450 - val_loss: 18.0538 - val_acc: 0.6940\n",
            "Epoch 39/100\n",
            "769500/769500 [==============================] - 14s 19us/step - loss: 4.3729 - acc: 0.9453 - val_loss: 16.5799 - val_acc: 0.7261\n",
            "Epoch 40/100\n",
            "769500/769500 [==============================] - 14s 19us/step - loss: 4.3342 - acc: 0.9455 - val_loss: 18.3682 - val_acc: 0.6938\n",
            "Epoch 41/100\n",
            "769500/769500 [==============================] - 14s 19us/step - loss: 4.3046 - acc: 0.9460 - val_loss: 13.0890 - val_acc: 0.8258\n",
            "Epoch 42/100\n",
            "769500/769500 [==============================] - 15s 19us/step - loss: 4.2526 - acc: 0.9467 - val_loss: 15.2452 - val_acc: 0.7230\n",
            "Epoch 43/100\n",
            "769500/769500 [==============================] - 14s 18us/step - loss: 4.2396 - acc: 0.9465 - val_loss: 17.8846 - val_acc: 0.7008\n",
            "Epoch 44/100\n",
            "769500/769500 [==============================] - 14s 19us/step - loss: 4.2216 - acc: 0.9472 - val_loss: 17.0796 - val_acc: 0.7169\n",
            "Epoch 45/100\n",
            "769500/769500 [==============================] - 15s 19us/step - loss: 4.1658 - acc: 0.9476 - val_loss: 16.4785 - val_acc: 0.7433\n",
            "Epoch 46/100\n",
            "769500/769500 [==============================] - 15s 19us/step - loss: 4.1277 - acc: 0.9473 - val_loss: 13.7955 - val_acc: 0.7690\n",
            "Epoch 47/100\n",
            "769500/769500 [==============================] - 14s 19us/step - loss: 4.1075 - acc: 0.9482 - val_loss: 14.3145 - val_acc: 0.7794\n",
            "Epoch 48/100\n",
            "769500/769500 [==============================] - 14s 19us/step - loss: 4.0877 - acc: 0.9483 - val_loss: 14.8697 - val_acc: 0.7350\n",
            "Epoch 49/100\n",
            "769500/769500 [==============================] - 14s 19us/step - loss: 4.0474 - acc: 0.9486 - val_loss: 17.8463 - val_acc: 0.6958\n",
            "Epoch 50/100\n",
            "769500/769500 [==============================] - 14s 19us/step - loss: 4.0522 - acc: 0.9486 - val_loss: 16.7064 - val_acc: 0.6988\n",
            "Epoch 51/100\n",
            "769500/769500 [==============================] - 14s 19us/step - loss: 4.0253 - acc: 0.9490 - val_loss: 16.2317 - val_acc: 0.7371\n",
            "Epoch 52/100\n",
            "769500/769500 [==============================] - 15s 19us/step - loss: 3.9794 - acc: 0.9487 - val_loss: 17.3276 - val_acc: 0.6789\n",
            "Epoch 53/100\n",
            "769500/769500 [==============================] - 14s 18us/step - loss: 3.9785 - acc: 0.9492 - val_loss: 15.8118 - val_acc: 0.7224\n",
            "Epoch 54/100\n",
            "769500/769500 [==============================] - 14s 19us/step - loss: 3.9285 - acc: 0.9497 - val_loss: 14.5547 - val_acc: 0.7663\n",
            "Epoch 55/100\n",
            "769500/769500 [==============================] - 14s 18us/step - loss: 3.9328 - acc: 0.9497 - val_loss: 13.8431 - val_acc: 0.7781\n",
            "Epoch 56/100\n",
            "769500/769500 [==============================] - 14s 19us/step - loss: 3.8852 - acc: 0.9498 - val_loss: 15.4020 - val_acc: 0.7094\n",
            "Epoch 57/100\n",
            "769500/769500 [==============================] - 14s 19us/step - loss: 3.8307 - acc: 0.9506 - val_loss: 14.8437 - val_acc: 0.7693\n",
            "Epoch 58/100\n",
            "769500/769500 [==============================] - 15s 19us/step - loss: 3.8634 - acc: 0.9507 - val_loss: 16.5958 - val_acc: 0.6952\n",
            "Epoch 59/100\n",
            "769500/769500 [==============================] - 14s 19us/step - loss: 3.8356 - acc: 0.9506 - val_loss: 16.0296 - val_acc: 0.7327\n",
            "Epoch 60/100\n",
            "769500/769500 [==============================] - 14s 19us/step - loss: 3.7863 - acc: 0.9505 - val_loss: 15.0829 - val_acc: 0.7305\n",
            "Epoch 61/100\n",
            "769500/769500 [==============================] - 14s 19us/step - loss: 3.8152 - acc: 0.9510 - val_loss: 14.9189 - val_acc: 0.7585\n",
            "Epoch 62/100\n",
            "769500/769500 [==============================] - 14s 19us/step - loss: 3.7462 - acc: 0.9514 - val_loss: 15.2733 - val_acc: 0.7073\n",
            "Epoch 63/100\n",
            "769500/769500 [==============================] - 14s 19us/step - loss: 3.7832 - acc: 0.9507 - val_loss: 15.2858 - val_acc: 0.7520\n",
            "Epoch 64/100\n",
            "769500/769500 [==============================] - 14s 19us/step - loss: 3.7204 - acc: 0.9517 - val_loss: 15.8290 - val_acc: 0.7279\n",
            "Epoch 65/100\n",
            "769500/769500 [==============================] - 14s 19us/step - loss: 3.6966 - acc: 0.9515 - val_loss: 16.0538 - val_acc: 0.7542\n",
            "Epoch 66/100\n",
            "769500/769500 [==============================] - 14s 19us/step - loss: 3.6946 - acc: 0.9516 - val_loss: 19.0329 - val_acc: 0.6577\n",
            "Epoch 67/100\n",
            "769500/769500 [==============================] - 15s 19us/step - loss: 3.6693 - acc: 0.9519 - val_loss: 17.6762 - val_acc: 0.6849\n",
            "Epoch 68/100\n",
            "769500/769500 [==============================] - 14s 18us/step - loss: 3.6684 - acc: 0.9519 - val_loss: 15.2774 - val_acc: 0.7268\n",
            "Epoch 69/100\n",
            "769500/769500 [==============================] - 14s 19us/step - loss: 3.6334 - acc: 0.9524 - val_loss: 14.2797 - val_acc: 0.8073\n",
            "Epoch 70/100\n",
            "769500/769500 [==============================] - 14s 19us/step - loss: 3.5922 - acc: 0.9530 - val_loss: 15.0185 - val_acc: 0.7441\n",
            "Epoch 71/100\n",
            "769500/769500 [==============================] - 14s 19us/step - loss: 3.5866 - acc: 0.9526 - val_loss: 13.7697 - val_acc: 0.7575\n",
            "Epoch 72/100\n",
            "769500/769500 [==============================] - 14s 18us/step - loss: 3.5703 - acc: 0.9531 - val_loss: 15.0653 - val_acc: 0.7261\n",
            "Epoch 73/100\n",
            "769500/769500 [==============================] - 15s 19us/step - loss: 3.5707 - acc: 0.9528 - val_loss: 15.7930 - val_acc: 0.7367\n",
            "Epoch 74/100\n",
            "769500/769500 [==============================] - 14s 18us/step - loss: 3.5081 - acc: 0.9536 - val_loss: 16.9958 - val_acc: 0.7252\n",
            "Epoch 75/100\n",
            "769500/769500 [==============================] - 15s 19us/step - loss: 3.5462 - acc: 0.9533 - val_loss: 14.2278 - val_acc: 0.7740\n",
            "Epoch 76/100\n",
            "769500/769500 [==============================] - 14s 18us/step - loss: 3.5215 - acc: 0.9533 - val_loss: 13.7014 - val_acc: 0.7831\n",
            "Epoch 77/100\n",
            "769500/769500 [==============================] - 14s 18us/step - loss: 3.5057 - acc: 0.9537 - val_loss: 15.1583 - val_acc: 0.7321\n",
            "Epoch 78/100\n",
            "769500/769500 [==============================] - 14s 18us/step - loss: 3.5099 - acc: 0.9538 - val_loss: 14.3837 - val_acc: 0.7389\n",
            "Epoch 79/100\n",
            "769500/769500 [==============================] - 14s 19us/step - loss: 3.4792 - acc: 0.9539 - val_loss: 15.7704 - val_acc: 0.7427\n",
            "Epoch 80/100\n",
            "769500/769500 [==============================] - 14s 19us/step - loss: 3.4624 - acc: 0.9538 - val_loss: 16.5980 - val_acc: 0.6959\n",
            "Epoch 81/100\n",
            "769500/769500 [==============================] - 14s 18us/step - loss: 3.4584 - acc: 0.9538 - val_loss: 14.7124 - val_acc: 0.7527\n",
            "Epoch 82/100\n",
            "769500/769500 [==============================] - 14s 18us/step - loss: 3.4178 - acc: 0.9544 - val_loss: 15.4817 - val_acc: 0.6990\n",
            "Epoch 83/100\n",
            "769500/769500 [==============================] - 14s 19us/step - loss: 3.4130 - acc: 0.9541 - val_loss: 14.1222 - val_acc: 0.7700\n",
            "Epoch 84/100\n",
            "769500/769500 [==============================] - 14s 19us/step - loss: 3.4377 - acc: 0.9538 - val_loss: 14.2191 - val_acc: 0.7427\n",
            "Epoch 85/100\n",
            "769500/769500 [==============================] - 14s 18us/step - loss: 3.3992 - acc: 0.9545 - val_loss: 15.0623 - val_acc: 0.7259\n",
            "Epoch 86/100\n",
            "769500/769500 [==============================] - 14s 18us/step - loss: 3.4007 - acc: 0.9540 - val_loss: 13.6385 - val_acc: 0.7671\n",
            "Epoch 87/100\n",
            "769500/769500 [==============================] - 14s 18us/step - loss: 3.3438 - acc: 0.9548 - val_loss: 15.1625 - val_acc: 0.7186\n",
            "Epoch 88/100\n",
            "769500/769500 [==============================] - 14s 19us/step - loss: 3.3539 - acc: 0.9546 - val_loss: 12.7615 - val_acc: 0.7619\n",
            "Epoch 89/100\n",
            "769500/769500 [==============================] - 14s 18us/step - loss: 3.3196 - acc: 0.9554 - val_loss: 15.6438 - val_acc: 0.7257\n",
            "Epoch 90/100\n",
            "769500/769500 [==============================] - 14s 18us/step - loss: 3.3391 - acc: 0.9552 - val_loss: 16.8276 - val_acc: 0.7185\n",
            "Epoch 91/100\n",
            "769500/769500 [==============================] - 14s 19us/step - loss: 3.3445 - acc: 0.9546 - val_loss: 14.3427 - val_acc: 0.7418\n",
            "Epoch 92/100\n",
            "769500/769500 [==============================] - 14s 19us/step - loss: 3.3338 - acc: 0.9547 - val_loss: 13.4025 - val_acc: 0.7837\n",
            "Epoch 93/100\n",
            "769500/769500 [==============================] - 14s 18us/step - loss: 3.2752 - acc: 0.9553 - val_loss: 15.0125 - val_acc: 0.7300\n",
            "Epoch 94/100\n",
            "769500/769500 [==============================] - 14s 18us/step - loss: 3.3063 - acc: 0.9552 - val_loss: 16.5148 - val_acc: 0.6983\n",
            "Epoch 95/100\n",
            "769500/769500 [==============================] - 15s 19us/step - loss: 3.2952 - acc: 0.9552 - val_loss: 17.5400 - val_acc: 0.6876\n",
            "Epoch 96/100\n",
            "769500/769500 [==============================] - 14s 19us/step - loss: 3.2662 - acc: 0.9555 - val_loss: 14.1012 - val_acc: 0.7272\n",
            "Epoch 97/100\n",
            "769500/769500 [==============================] - 14s 18us/step - loss: 3.2734 - acc: 0.9556 - val_loss: 14.1316 - val_acc: 0.7430\n",
            "Epoch 98/100\n",
            "769500/769500 [==============================] - 14s 18us/step - loss: 3.2626 - acc: 0.9557 - val_loss: 14.6847 - val_acc: 0.7607\n",
            "Epoch 99/100\n",
            "769500/769500 [==============================] - 14s 18us/step - loss: 3.2503 - acc: 0.9557 - val_loss: 15.4403 - val_acc: 0.7351\n",
            "Epoch 100/100\n",
            "769500/769500 [==============================] - 14s 19us/step - loss: 3.2422 - acc: 0.9558 - val_loss: 14.8472 - val_acc: 0.7511\n"
          ],
          "name": "stdout"
        }
      ]
    },
    {
      "cell_type": "code",
      "metadata": {
        "id": "EzHV2L2swuGQ",
        "colab_type": "code",
        "outputId": "a6a65815-eaa7-44d5-e9bf-a4302acf66a3",
        "colab": {
          "base_uri": "https://localhost:8080/",
          "height": 1000
        }
      },
      "source": [
        "# 모델 아키텍처\n",
        "\n",
        "from IPython.display import SVG\n",
        "from keras.utils.vis_utils import model_to_dot\n",
        "\n",
        "%matplotlib inline\n",
        "\n",
        "SVG(model_to_dot(model_08, show_shapes=True).create(prog='dot', format='svg'))"
      ],
      "execution_count": 0,
      "outputs": [
        {
          "output_type": "execute_result",
          "data": {
            "text/plain": [
              "<IPython.core.display.SVG object>"
            ],
            "image/svg+xml": "<svg height=\"2397pt\" viewBox=\"0.00 0.00 424.00 1798.00\" width=\"565pt\" xmlns=\"http://www.w3.org/2000/svg\" xmlns:xlink=\"http://www.w3.org/1999/xlink\">\n<g class=\"graph\" id=\"graph0\" transform=\"scale(1.3333 1.3333) rotate(0) translate(4 1794)\">\n<title>G</title>\n<polygon fill=\"#ffffff\" points=\"-4,4 -4,-1794 420,-1794 420,4 -4,4\" stroke=\"transparent\"/>\n<!-- 140517537406032 -->\n<g class=\"node\" id=\"node1\">\n<title>140517537406032</title>\n<polygon fill=\"none\" points=\"49,-1743.5 49,-1789.5 367,-1789.5 367,-1743.5 49,-1743.5\" stroke=\"#000000\"/>\n<text fill=\"#000000\" font-family=\"Times,serif\" font-size=\"14.00\" text-anchor=\"middle\" x=\"135.5\" y=\"-1762.8\">dense_1_input: InputLayer</text>\n<polyline fill=\"none\" points=\"222,-1743.5 222,-1789.5 \" stroke=\"#000000\"/>\n<text fill=\"#000000\" font-family=\"Times,serif\" font-size=\"14.00\" text-anchor=\"middle\" x=\"251\" y=\"-1774.3\">input:</text>\n<polyline fill=\"none\" points=\"222,-1766.5 280,-1766.5 \" stroke=\"#000000\"/>\n<text fill=\"#000000\" font-family=\"Times,serif\" font-size=\"14.00\" text-anchor=\"middle\" x=\"251\" y=\"-1751.3\">output:</text>\n<polyline fill=\"none\" points=\"280,-1743.5 280,-1789.5 \" stroke=\"#000000\"/>\n<text fill=\"#000000\" font-family=\"Times,serif\" font-size=\"14.00\" text-anchor=\"middle\" x=\"323.5\" y=\"-1774.3\">(None, 226)</text>\n<polyline fill=\"none\" points=\"280,-1766.5 367,-1766.5 \" stroke=\"#000000\"/>\n<text fill=\"#000000\" font-family=\"Times,serif\" font-size=\"14.00\" text-anchor=\"middle\" x=\"323.5\" y=\"-1751.3\">(None, 226)</text>\n</g>\n<!-- 140517537405192 -->\n<g class=\"node\" id=\"node2\">\n<title>140517537405192</title>\n<polygon fill=\"none\" points=\"82,-1660.5 82,-1706.5 334,-1706.5 334,-1660.5 82,-1660.5\" stroke=\"#000000\"/>\n<text fill=\"#000000\" font-family=\"Times,serif\" font-size=\"14.00\" text-anchor=\"middle\" x=\"135.5\" y=\"-1679.8\">dense_1: Dense</text>\n<polyline fill=\"none\" points=\"189,-1660.5 189,-1706.5 \" stroke=\"#000000\"/>\n<text fill=\"#000000\" font-family=\"Times,serif\" font-size=\"14.00\" text-anchor=\"middle\" x=\"218\" y=\"-1691.3\">input:</text>\n<polyline fill=\"none\" points=\"189,-1683.5 247,-1683.5 \" stroke=\"#000000\"/>\n<text fill=\"#000000\" font-family=\"Times,serif\" font-size=\"14.00\" text-anchor=\"middle\" x=\"218\" y=\"-1668.3\">output:</text>\n<polyline fill=\"none\" points=\"247,-1660.5 247,-1706.5 \" stroke=\"#000000\"/>\n<text fill=\"#000000\" font-family=\"Times,serif\" font-size=\"14.00\" text-anchor=\"middle\" x=\"290.5\" y=\"-1691.3\">(None, 226)</text>\n<polyline fill=\"none\" points=\"247,-1683.5 334,-1683.5 \" stroke=\"#000000\"/>\n<text fill=\"#000000\" font-family=\"Times,serif\" font-size=\"14.00\" text-anchor=\"middle\" x=\"290.5\" y=\"-1668.3\">(None, 239)</text>\n</g>\n<!-- 140517537406032&#45;&gt;140517537405192 -->\n<g class=\"edge\" id=\"edge1\">\n<title>140517537406032-&gt;140517537405192</title>\n<path d=\"M208,-1743.3799C208,-1735.1745 208,-1725.7679 208,-1716.8786\" fill=\"none\" stroke=\"#000000\"/>\n<polygon fill=\"#000000\" points=\"211.5001,-1716.784 208,-1706.784 204.5001,-1716.784 211.5001,-1716.784\" stroke=\"#000000\"/>\n</g>\n<!-- 140517537405472 -->\n<g class=\"node\" id=\"node3\">\n<title>140517537405472</title>\n<polygon fill=\"none\" points=\"82,-1577.5 82,-1623.5 334,-1623.5 334,-1577.5 82,-1577.5\" stroke=\"#000000\"/>\n<text fill=\"#000000\" font-family=\"Times,serif\" font-size=\"14.00\" text-anchor=\"middle\" x=\"135.5\" y=\"-1596.8\">dense_2: Dense</text>\n<polyline fill=\"none\" points=\"189,-1577.5 189,-1623.5 \" stroke=\"#000000\"/>\n<text fill=\"#000000\" font-family=\"Times,serif\" font-size=\"14.00\" text-anchor=\"middle\" x=\"218\" y=\"-1608.3\">input:</text>\n<polyline fill=\"none\" points=\"189,-1600.5 247,-1600.5 \" stroke=\"#000000\"/>\n<text fill=\"#000000\" font-family=\"Times,serif\" font-size=\"14.00\" text-anchor=\"middle\" x=\"218\" y=\"-1585.3\">output:</text>\n<polyline fill=\"none\" points=\"247,-1577.5 247,-1623.5 \" stroke=\"#000000\"/>\n<text fill=\"#000000\" font-family=\"Times,serif\" font-size=\"14.00\" text-anchor=\"middle\" x=\"290.5\" y=\"-1608.3\">(None, 239)</text>\n<polyline fill=\"none\" points=\"247,-1600.5 334,-1600.5 \" stroke=\"#000000\"/>\n<text fill=\"#000000\" font-family=\"Times,serif\" font-size=\"14.00\" text-anchor=\"middle\" x=\"290.5\" y=\"-1585.3\">(None, 239)</text>\n</g>\n<!-- 140517537405192&#45;&gt;140517537405472 -->\n<g class=\"edge\" id=\"edge2\">\n<title>140517537405192-&gt;140517537405472</title>\n<path d=\"M208,-1660.3799C208,-1652.1745 208,-1642.7679 208,-1633.8786\" fill=\"none\" stroke=\"#000000\"/>\n<polygon fill=\"#000000\" points=\"211.5001,-1633.784 208,-1623.784 204.5001,-1633.784 211.5001,-1633.784\" stroke=\"#000000\"/>\n</g>\n<!-- 140517537406760 -->\n<g class=\"node\" id=\"node4\">\n<title>140517537406760</title>\n<polygon fill=\"none\" points=\"0,-1494.5 0,-1540.5 416,-1540.5 416,-1494.5 0,-1494.5\" stroke=\"#000000\"/>\n<text fill=\"#000000\" font-family=\"Times,serif\" font-size=\"14.00\" text-anchor=\"middle\" x=\"135.5\" y=\"-1513.8\">batch_normalization_1: BatchNormalization</text>\n<polyline fill=\"none\" points=\"271,-1494.5 271,-1540.5 \" stroke=\"#000000\"/>\n<text fill=\"#000000\" font-family=\"Times,serif\" font-size=\"14.00\" text-anchor=\"middle\" x=\"300\" y=\"-1525.3\">input:</text>\n<polyline fill=\"none\" points=\"271,-1517.5 329,-1517.5 \" stroke=\"#000000\"/>\n<text fill=\"#000000\" font-family=\"Times,serif\" font-size=\"14.00\" text-anchor=\"middle\" x=\"300\" y=\"-1502.3\">output:</text>\n<polyline fill=\"none\" points=\"329,-1494.5 329,-1540.5 \" stroke=\"#000000\"/>\n<text fill=\"#000000\" font-family=\"Times,serif\" font-size=\"14.00\" text-anchor=\"middle\" x=\"372.5\" y=\"-1525.3\">(None, 239)</text>\n<polyline fill=\"none\" points=\"329,-1517.5 416,-1517.5 \" stroke=\"#000000\"/>\n<text fill=\"#000000\" font-family=\"Times,serif\" font-size=\"14.00\" text-anchor=\"middle\" x=\"372.5\" y=\"-1502.3\">(None, 239)</text>\n</g>\n<!-- 140517537405472&#45;&gt;140517537406760 -->\n<g class=\"edge\" id=\"edge3\">\n<title>140517537405472-&gt;140517537406760</title>\n<path d=\"M208,-1577.3799C208,-1569.1745 208,-1559.7679 208,-1550.8786\" fill=\"none\" stroke=\"#000000\"/>\n<polygon fill=\"#000000\" points=\"211.5001,-1550.784 208,-1540.784 204.5001,-1550.784 211.5001,-1550.784\" stroke=\"#000000\"/>\n</g>\n<!-- 140517536887304 -->\n<g class=\"node\" id=\"node5\">\n<title>140517536887304</title>\n<polygon fill=\"none\" points=\"58.5,-1411.5 58.5,-1457.5 357.5,-1457.5 357.5,-1411.5 58.5,-1411.5\" stroke=\"#000000\"/>\n<text fill=\"#000000\" font-family=\"Times,serif\" font-size=\"14.00\" text-anchor=\"middle\" x=\"135.5\" y=\"-1430.8\">activation_1: Activation</text>\n<polyline fill=\"none\" points=\"212.5,-1411.5 212.5,-1457.5 \" stroke=\"#000000\"/>\n<text fill=\"#000000\" font-family=\"Times,serif\" font-size=\"14.00\" text-anchor=\"middle\" x=\"241.5\" y=\"-1442.3\">input:</text>\n<polyline fill=\"none\" points=\"212.5,-1434.5 270.5,-1434.5 \" stroke=\"#000000\"/>\n<text fill=\"#000000\" font-family=\"Times,serif\" font-size=\"14.00\" text-anchor=\"middle\" x=\"241.5\" y=\"-1419.3\">output:</text>\n<polyline fill=\"none\" points=\"270.5,-1411.5 270.5,-1457.5 \" stroke=\"#000000\"/>\n<text fill=\"#000000\" font-family=\"Times,serif\" font-size=\"14.00\" text-anchor=\"middle\" x=\"314\" y=\"-1442.3\">(None, 239)</text>\n<polyline fill=\"none\" points=\"270.5,-1434.5 357.5,-1434.5 \" stroke=\"#000000\"/>\n<text fill=\"#000000\" font-family=\"Times,serif\" font-size=\"14.00\" text-anchor=\"middle\" x=\"314\" y=\"-1419.3\">(None, 239)</text>\n</g>\n<!-- 140517537406760&#45;&gt;140517536887304 -->\n<g class=\"edge\" id=\"edge4\">\n<title>140517537406760-&gt;140517536887304</title>\n<path d=\"M208,-1494.3799C208,-1486.1745 208,-1476.7679 208,-1467.8786\" fill=\"none\" stroke=\"#000000\"/>\n<polygon fill=\"#000000\" points=\"211.5001,-1467.784 208,-1457.784 204.5001,-1467.784 211.5001,-1467.784\" stroke=\"#000000\"/>\n</g>\n<!-- 140517536945264 -->\n<g class=\"node\" id=\"node6\">\n<title>140517536945264</title>\n<polygon fill=\"none\" points=\"82,-1328.5 82,-1374.5 334,-1374.5 334,-1328.5 82,-1328.5\" stroke=\"#000000\"/>\n<text fill=\"#000000\" font-family=\"Times,serif\" font-size=\"14.00\" text-anchor=\"middle\" x=\"135.5\" y=\"-1347.8\">dense_3: Dense</text>\n<polyline fill=\"none\" points=\"189,-1328.5 189,-1374.5 \" stroke=\"#000000\"/>\n<text fill=\"#000000\" font-family=\"Times,serif\" font-size=\"14.00\" text-anchor=\"middle\" x=\"218\" y=\"-1359.3\">input:</text>\n<polyline fill=\"none\" points=\"189,-1351.5 247,-1351.5 \" stroke=\"#000000\"/>\n<text fill=\"#000000\" font-family=\"Times,serif\" font-size=\"14.00\" text-anchor=\"middle\" x=\"218\" y=\"-1336.3\">output:</text>\n<polyline fill=\"none\" points=\"247,-1328.5 247,-1374.5 \" stroke=\"#000000\"/>\n<text fill=\"#000000\" font-family=\"Times,serif\" font-size=\"14.00\" text-anchor=\"middle\" x=\"290.5\" y=\"-1359.3\">(None, 239)</text>\n<polyline fill=\"none\" points=\"247,-1351.5 334,-1351.5 \" stroke=\"#000000\"/>\n<text fill=\"#000000\" font-family=\"Times,serif\" font-size=\"14.00\" text-anchor=\"middle\" x=\"290.5\" y=\"-1336.3\">(None, 252)</text>\n</g>\n<!-- 140517536887304&#45;&gt;140517536945264 -->\n<g class=\"edge\" id=\"edge5\">\n<title>140517536887304-&gt;140517536945264</title>\n<path d=\"M208,-1411.3799C208,-1403.1745 208,-1393.7679 208,-1384.8786\" fill=\"none\" stroke=\"#000000\"/>\n<polygon fill=\"#000000\" points=\"211.5001,-1384.784 208,-1374.784 204.5001,-1384.784 211.5001,-1384.784\" stroke=\"#000000\"/>\n</g>\n<!-- 140517537013432 -->\n<g class=\"node\" id=\"node7\">\n<title>140517537013432</title>\n<polygon fill=\"none\" points=\"82,-1245.5 82,-1291.5 334,-1291.5 334,-1245.5 82,-1245.5\" stroke=\"#000000\"/>\n<text fill=\"#000000\" font-family=\"Times,serif\" font-size=\"14.00\" text-anchor=\"middle\" x=\"135.5\" y=\"-1264.8\">dense_4: Dense</text>\n<polyline fill=\"none\" points=\"189,-1245.5 189,-1291.5 \" stroke=\"#000000\"/>\n<text fill=\"#000000\" font-family=\"Times,serif\" font-size=\"14.00\" text-anchor=\"middle\" x=\"218\" y=\"-1276.3\">input:</text>\n<polyline fill=\"none\" points=\"189,-1268.5 247,-1268.5 \" stroke=\"#000000\"/>\n<text fill=\"#000000\" font-family=\"Times,serif\" font-size=\"14.00\" text-anchor=\"middle\" x=\"218\" y=\"-1253.3\">output:</text>\n<polyline fill=\"none\" points=\"247,-1245.5 247,-1291.5 \" stroke=\"#000000\"/>\n<text fill=\"#000000\" font-family=\"Times,serif\" font-size=\"14.00\" text-anchor=\"middle\" x=\"290.5\" y=\"-1276.3\">(None, 252)</text>\n<polyline fill=\"none\" points=\"247,-1268.5 334,-1268.5 \" stroke=\"#000000\"/>\n<text fill=\"#000000\" font-family=\"Times,serif\" font-size=\"14.00\" text-anchor=\"middle\" x=\"290.5\" y=\"-1253.3\">(None, 252)</text>\n</g>\n<!-- 140517536945264&#45;&gt;140517537013432 -->\n<g class=\"edge\" id=\"edge6\">\n<title>140517536945264-&gt;140517537013432</title>\n<path d=\"M208,-1328.3799C208,-1320.1745 208,-1310.7679 208,-1301.8786\" fill=\"none\" stroke=\"#000000\"/>\n<polygon fill=\"#000000\" points=\"211.5001,-1301.784 208,-1291.784 204.5001,-1301.784 211.5001,-1301.784\" stroke=\"#000000\"/>\n</g>\n<!-- 140517536304992 -->\n<g class=\"node\" id=\"node8\">\n<title>140517536304992</title>\n<polygon fill=\"none\" points=\"0,-1162.5 0,-1208.5 416,-1208.5 416,-1162.5 0,-1162.5\" stroke=\"#000000\"/>\n<text fill=\"#000000\" font-family=\"Times,serif\" font-size=\"14.00\" text-anchor=\"middle\" x=\"135.5\" y=\"-1181.8\">batch_normalization_2: BatchNormalization</text>\n<polyline fill=\"none\" points=\"271,-1162.5 271,-1208.5 \" stroke=\"#000000\"/>\n<text fill=\"#000000\" font-family=\"Times,serif\" font-size=\"14.00\" text-anchor=\"middle\" x=\"300\" y=\"-1193.3\">input:</text>\n<polyline fill=\"none\" points=\"271,-1185.5 329,-1185.5 \" stroke=\"#000000\"/>\n<text fill=\"#000000\" font-family=\"Times,serif\" font-size=\"14.00\" text-anchor=\"middle\" x=\"300\" y=\"-1170.3\">output:</text>\n<polyline fill=\"none\" points=\"329,-1162.5 329,-1208.5 \" stroke=\"#000000\"/>\n<text fill=\"#000000\" font-family=\"Times,serif\" font-size=\"14.00\" text-anchor=\"middle\" x=\"372.5\" y=\"-1193.3\">(None, 252)</text>\n<polyline fill=\"none\" points=\"329,-1185.5 416,-1185.5 \" stroke=\"#000000\"/>\n<text fill=\"#000000\" font-family=\"Times,serif\" font-size=\"14.00\" text-anchor=\"middle\" x=\"372.5\" y=\"-1170.3\">(None, 252)</text>\n</g>\n<!-- 140517537013432&#45;&gt;140517536304992 -->\n<g class=\"edge\" id=\"edge7\">\n<title>140517537013432-&gt;140517536304992</title>\n<path d=\"M208,-1245.3799C208,-1237.1745 208,-1227.7679 208,-1218.8786\" fill=\"none\" stroke=\"#000000\"/>\n<polygon fill=\"#000000\" points=\"211.5001,-1218.784 208,-1208.784 204.5001,-1218.784 211.5001,-1218.784\" stroke=\"#000000\"/>\n</g>\n<!-- 140517536379344 -->\n<g class=\"node\" id=\"node9\">\n<title>140517536379344</title>\n<polygon fill=\"none\" points=\"58.5,-1079.5 58.5,-1125.5 357.5,-1125.5 357.5,-1079.5 58.5,-1079.5\" stroke=\"#000000\"/>\n<text fill=\"#000000\" font-family=\"Times,serif\" font-size=\"14.00\" text-anchor=\"middle\" x=\"135.5\" y=\"-1098.8\">activation_2: Activation</text>\n<polyline fill=\"none\" points=\"212.5,-1079.5 212.5,-1125.5 \" stroke=\"#000000\"/>\n<text fill=\"#000000\" font-family=\"Times,serif\" font-size=\"14.00\" text-anchor=\"middle\" x=\"241.5\" y=\"-1110.3\">input:</text>\n<polyline fill=\"none\" points=\"212.5,-1102.5 270.5,-1102.5 \" stroke=\"#000000\"/>\n<text fill=\"#000000\" font-family=\"Times,serif\" font-size=\"14.00\" text-anchor=\"middle\" x=\"241.5\" y=\"-1087.3\">output:</text>\n<polyline fill=\"none\" points=\"270.5,-1079.5 270.5,-1125.5 \" stroke=\"#000000\"/>\n<text fill=\"#000000\" font-family=\"Times,serif\" font-size=\"14.00\" text-anchor=\"middle\" x=\"314\" y=\"-1110.3\">(None, 252)</text>\n<polyline fill=\"none\" points=\"270.5,-1102.5 357.5,-1102.5 \" stroke=\"#000000\"/>\n<text fill=\"#000000\" font-family=\"Times,serif\" font-size=\"14.00\" text-anchor=\"middle\" x=\"314\" y=\"-1087.3\">(None, 252)</text>\n</g>\n<!-- 140517536304992&#45;&gt;140517536379344 -->\n<g class=\"edge\" id=\"edge8\">\n<title>140517536304992-&gt;140517536379344</title>\n<path d=\"M208,-1162.3799C208,-1154.1745 208,-1144.7679 208,-1135.8786\" fill=\"none\" stroke=\"#000000\"/>\n<polygon fill=\"#000000\" points=\"211.5001,-1135.784 208,-1125.784 204.5001,-1135.784 211.5001,-1135.784\" stroke=\"#000000\"/>\n</g>\n<!-- 140517536300224 -->\n<g class=\"node\" id=\"node10\">\n<title>140517536300224</title>\n<polygon fill=\"none\" points=\"82,-996.5 82,-1042.5 334,-1042.5 334,-996.5 82,-996.5\" stroke=\"#000000\"/>\n<text fill=\"#000000\" font-family=\"Times,serif\" font-size=\"14.00\" text-anchor=\"middle\" x=\"135.5\" y=\"-1015.8\">dense_5: Dense</text>\n<polyline fill=\"none\" points=\"189,-996.5 189,-1042.5 \" stroke=\"#000000\"/>\n<text fill=\"#000000\" font-family=\"Times,serif\" font-size=\"14.00\" text-anchor=\"middle\" x=\"218\" y=\"-1027.3\">input:</text>\n<polyline fill=\"none\" points=\"189,-1019.5 247,-1019.5 \" stroke=\"#000000\"/>\n<text fill=\"#000000\" font-family=\"Times,serif\" font-size=\"14.00\" text-anchor=\"middle\" x=\"218\" y=\"-1004.3\">output:</text>\n<polyline fill=\"none\" points=\"247,-996.5 247,-1042.5 \" stroke=\"#000000\"/>\n<text fill=\"#000000\" font-family=\"Times,serif\" font-size=\"14.00\" text-anchor=\"middle\" x=\"290.5\" y=\"-1027.3\">(None, 252)</text>\n<polyline fill=\"none\" points=\"247,-1019.5 334,-1019.5 \" stroke=\"#000000\"/>\n<text fill=\"#000000\" font-family=\"Times,serif\" font-size=\"14.00\" text-anchor=\"middle\" x=\"290.5\" y=\"-1004.3\">(None, 265)</text>\n</g>\n<!-- 140517536379344&#45;&gt;140517536300224 -->\n<g class=\"edge\" id=\"edge9\">\n<title>140517536379344-&gt;140517536300224</title>\n<path d=\"M208,-1079.3799C208,-1071.1745 208,-1061.7679 208,-1052.8786\" fill=\"none\" stroke=\"#000000\"/>\n<polygon fill=\"#000000\" points=\"211.5001,-1052.784 208,-1042.784 204.5001,-1052.784 211.5001,-1052.784\" stroke=\"#000000\"/>\n</g>\n<!-- 140517535789968 -->\n<g class=\"node\" id=\"node11\">\n<title>140517535789968</title>\n<polygon fill=\"none\" points=\"82,-913.5 82,-959.5 334,-959.5 334,-913.5 82,-913.5\" stroke=\"#000000\"/>\n<text fill=\"#000000\" font-family=\"Times,serif\" font-size=\"14.00\" text-anchor=\"middle\" x=\"135.5\" y=\"-932.8\">dense_6: Dense</text>\n<polyline fill=\"none\" points=\"189,-913.5 189,-959.5 \" stroke=\"#000000\"/>\n<text fill=\"#000000\" font-family=\"Times,serif\" font-size=\"14.00\" text-anchor=\"middle\" x=\"218\" y=\"-944.3\">input:</text>\n<polyline fill=\"none\" points=\"189,-936.5 247,-936.5 \" stroke=\"#000000\"/>\n<text fill=\"#000000\" font-family=\"Times,serif\" font-size=\"14.00\" text-anchor=\"middle\" x=\"218\" y=\"-921.3\">output:</text>\n<polyline fill=\"none\" points=\"247,-913.5 247,-959.5 \" stroke=\"#000000\"/>\n<text fill=\"#000000\" font-family=\"Times,serif\" font-size=\"14.00\" text-anchor=\"middle\" x=\"290.5\" y=\"-944.3\">(None, 265)</text>\n<polyline fill=\"none\" points=\"247,-936.5 334,-936.5 \" stroke=\"#000000\"/>\n<text fill=\"#000000\" font-family=\"Times,serif\" font-size=\"14.00\" text-anchor=\"middle\" x=\"290.5\" y=\"-921.3\">(None, 265)</text>\n</g>\n<!-- 140517536300224&#45;&gt;140517535789968 -->\n<g class=\"edge\" id=\"edge10\">\n<title>140517536300224-&gt;140517535789968</title>\n<path d=\"M208,-996.3799C208,-988.1745 208,-978.7679 208,-969.8786\" fill=\"none\" stroke=\"#000000\"/>\n<polygon fill=\"#000000\" points=\"211.5001,-969.784 208,-959.784 204.5001,-969.784 211.5001,-969.784\" stroke=\"#000000\"/>\n</g>\n<!-- 140517535800904 -->\n<g class=\"node\" id=\"node12\">\n<title>140517535800904</title>\n<polygon fill=\"none\" points=\"0,-830.5 0,-876.5 416,-876.5 416,-830.5 0,-830.5\" stroke=\"#000000\"/>\n<text fill=\"#000000\" font-family=\"Times,serif\" font-size=\"14.00\" text-anchor=\"middle\" x=\"135.5\" y=\"-849.8\">batch_normalization_3: BatchNormalization</text>\n<polyline fill=\"none\" points=\"271,-830.5 271,-876.5 \" stroke=\"#000000\"/>\n<text fill=\"#000000\" font-family=\"Times,serif\" font-size=\"14.00\" text-anchor=\"middle\" x=\"300\" y=\"-861.3\">input:</text>\n<polyline fill=\"none\" points=\"271,-853.5 329,-853.5 \" stroke=\"#000000\"/>\n<text fill=\"#000000\" font-family=\"Times,serif\" font-size=\"14.00\" text-anchor=\"middle\" x=\"300\" y=\"-838.3\">output:</text>\n<polyline fill=\"none\" points=\"329,-830.5 329,-876.5 \" stroke=\"#000000\"/>\n<text fill=\"#000000\" font-family=\"Times,serif\" font-size=\"14.00\" text-anchor=\"middle\" x=\"372.5\" y=\"-861.3\">(None, 265)</text>\n<polyline fill=\"none\" points=\"329,-853.5 416,-853.5 \" stroke=\"#000000\"/>\n<text fill=\"#000000\" font-family=\"Times,serif\" font-size=\"14.00\" text-anchor=\"middle\" x=\"372.5\" y=\"-838.3\">(None, 265)</text>\n</g>\n<!-- 140517535789968&#45;&gt;140517535800904 -->\n<g class=\"edge\" id=\"edge11\">\n<title>140517535789968-&gt;140517535800904</title>\n<path d=\"M208,-913.3799C208,-905.1745 208,-895.7679 208,-886.8786\" fill=\"none\" stroke=\"#000000\"/>\n<polygon fill=\"#000000\" points=\"211.5001,-886.784 208,-876.784 204.5001,-886.784 211.5001,-886.784\" stroke=\"#000000\"/>\n</g>\n<!-- 140517535298000 -->\n<g class=\"node\" id=\"node13\">\n<title>140517535298000</title>\n<polygon fill=\"none\" points=\"58.5,-747.5 58.5,-793.5 357.5,-793.5 357.5,-747.5 58.5,-747.5\" stroke=\"#000000\"/>\n<text fill=\"#000000\" font-family=\"Times,serif\" font-size=\"14.00\" text-anchor=\"middle\" x=\"135.5\" y=\"-766.8\">activation_3: Activation</text>\n<polyline fill=\"none\" points=\"212.5,-747.5 212.5,-793.5 \" stroke=\"#000000\"/>\n<text fill=\"#000000\" font-family=\"Times,serif\" font-size=\"14.00\" text-anchor=\"middle\" x=\"241.5\" y=\"-778.3\">input:</text>\n<polyline fill=\"none\" points=\"212.5,-770.5 270.5,-770.5 \" stroke=\"#000000\"/>\n<text fill=\"#000000\" font-family=\"Times,serif\" font-size=\"14.00\" text-anchor=\"middle\" x=\"241.5\" y=\"-755.3\">output:</text>\n<polyline fill=\"none\" points=\"270.5,-747.5 270.5,-793.5 \" stroke=\"#000000\"/>\n<text fill=\"#000000\" font-family=\"Times,serif\" font-size=\"14.00\" text-anchor=\"middle\" x=\"314\" y=\"-778.3\">(None, 265)</text>\n<polyline fill=\"none\" points=\"270.5,-770.5 357.5,-770.5 \" stroke=\"#000000\"/>\n<text fill=\"#000000\" font-family=\"Times,serif\" font-size=\"14.00\" text-anchor=\"middle\" x=\"314\" y=\"-755.3\">(None, 265)</text>\n</g>\n<!-- 140517535800904&#45;&gt;140517535298000 -->\n<g class=\"edge\" id=\"edge12\">\n<title>140517535800904-&gt;140517535298000</title>\n<path d=\"M208,-830.3799C208,-822.1745 208,-812.7679 208,-803.8786\" fill=\"none\" stroke=\"#000000\"/>\n<polygon fill=\"#000000\" points=\"211.5001,-803.784 208,-793.784 204.5001,-803.784 211.5001,-803.784\" stroke=\"#000000\"/>\n</g>\n<!-- 140517537029144 -->\n<g class=\"node\" id=\"node14\">\n<title>140517537029144</title>\n<polygon fill=\"none\" points=\"82,-664.5 82,-710.5 334,-710.5 334,-664.5 82,-664.5\" stroke=\"#000000\"/>\n<text fill=\"#000000\" font-family=\"Times,serif\" font-size=\"14.00\" text-anchor=\"middle\" x=\"135.5\" y=\"-683.8\">dense_7: Dense</text>\n<polyline fill=\"none\" points=\"189,-664.5 189,-710.5 \" stroke=\"#000000\"/>\n<text fill=\"#000000\" font-family=\"Times,serif\" font-size=\"14.00\" text-anchor=\"middle\" x=\"218\" y=\"-695.3\">input:</text>\n<polyline fill=\"none\" points=\"189,-687.5 247,-687.5 \" stroke=\"#000000\"/>\n<text fill=\"#000000\" font-family=\"Times,serif\" font-size=\"14.00\" text-anchor=\"middle\" x=\"218\" y=\"-672.3\">output:</text>\n<polyline fill=\"none\" points=\"247,-664.5 247,-710.5 \" stroke=\"#000000\"/>\n<text fill=\"#000000\" font-family=\"Times,serif\" font-size=\"14.00\" text-anchor=\"middle\" x=\"290.5\" y=\"-695.3\">(None, 265)</text>\n<polyline fill=\"none\" points=\"247,-687.5 334,-687.5 \" stroke=\"#000000\"/>\n<text fill=\"#000000\" font-family=\"Times,serif\" font-size=\"14.00\" text-anchor=\"middle\" x=\"290.5\" y=\"-672.3\">(None, 178)</text>\n</g>\n<!-- 140517535298000&#45;&gt;140517537029144 -->\n<g class=\"edge\" id=\"edge13\">\n<title>140517535298000-&gt;140517537029144</title>\n<path d=\"M208,-747.3799C208,-739.1745 208,-729.7679 208,-720.8786\" fill=\"none\" stroke=\"#000000\"/>\n<polygon fill=\"#000000\" points=\"211.5001,-720.784 208,-710.784 204.5001,-720.784 211.5001,-720.784\" stroke=\"#000000\"/>\n</g>\n<!-- 140517535407800 -->\n<g class=\"node\" id=\"node15\">\n<title>140517535407800</title>\n<polygon fill=\"none\" points=\"82,-581.5 82,-627.5 334,-627.5 334,-581.5 82,-581.5\" stroke=\"#000000\"/>\n<text fill=\"#000000\" font-family=\"Times,serif\" font-size=\"14.00\" text-anchor=\"middle\" x=\"135.5\" y=\"-600.8\">dense_8: Dense</text>\n<polyline fill=\"none\" points=\"189,-581.5 189,-627.5 \" stroke=\"#000000\"/>\n<text fill=\"#000000\" font-family=\"Times,serif\" font-size=\"14.00\" text-anchor=\"middle\" x=\"218\" y=\"-612.3\">input:</text>\n<polyline fill=\"none\" points=\"189,-604.5 247,-604.5 \" stroke=\"#000000\"/>\n<text fill=\"#000000\" font-family=\"Times,serif\" font-size=\"14.00\" text-anchor=\"middle\" x=\"218\" y=\"-589.3\">output:</text>\n<polyline fill=\"none\" points=\"247,-581.5 247,-627.5 \" stroke=\"#000000\"/>\n<text fill=\"#000000\" font-family=\"Times,serif\" font-size=\"14.00\" text-anchor=\"middle\" x=\"290.5\" y=\"-612.3\">(None, 178)</text>\n<polyline fill=\"none\" points=\"247,-604.5 334,-604.5 \" stroke=\"#000000\"/>\n<text fill=\"#000000\" font-family=\"Times,serif\" font-size=\"14.00\" text-anchor=\"middle\" x=\"290.5\" y=\"-589.3\">(None, 178)</text>\n</g>\n<!-- 140517537029144&#45;&gt;140517535407800 -->\n<g class=\"edge\" id=\"edge14\">\n<title>140517537029144-&gt;140517535407800</title>\n<path d=\"M208,-664.3799C208,-656.1745 208,-646.7679 208,-637.8786\" fill=\"none\" stroke=\"#000000\"/>\n<polygon fill=\"#000000\" points=\"211.5001,-637.784 208,-627.784 204.5001,-637.784 211.5001,-637.784\" stroke=\"#000000\"/>\n</g>\n<!-- 140517538684376 -->\n<g class=\"node\" id=\"node16\">\n<title>140517538684376</title>\n<polygon fill=\"none\" points=\"0,-498.5 0,-544.5 416,-544.5 416,-498.5 0,-498.5\" stroke=\"#000000\"/>\n<text fill=\"#000000\" font-family=\"Times,serif\" font-size=\"14.00\" text-anchor=\"middle\" x=\"135.5\" y=\"-517.8\">batch_normalization_4: BatchNormalization</text>\n<polyline fill=\"none\" points=\"271,-498.5 271,-544.5 \" stroke=\"#000000\"/>\n<text fill=\"#000000\" font-family=\"Times,serif\" font-size=\"14.00\" text-anchor=\"middle\" x=\"300\" y=\"-529.3\">input:</text>\n<polyline fill=\"none\" points=\"271,-521.5 329,-521.5 \" stroke=\"#000000\"/>\n<text fill=\"#000000\" font-family=\"Times,serif\" font-size=\"14.00\" text-anchor=\"middle\" x=\"300\" y=\"-506.3\">output:</text>\n<polyline fill=\"none\" points=\"329,-498.5 329,-544.5 \" stroke=\"#000000\"/>\n<text fill=\"#000000\" font-family=\"Times,serif\" font-size=\"14.00\" text-anchor=\"middle\" x=\"372.5\" y=\"-529.3\">(None, 178)</text>\n<polyline fill=\"none\" points=\"329,-521.5 416,-521.5 \" stroke=\"#000000\"/>\n<text fill=\"#000000\" font-family=\"Times,serif\" font-size=\"14.00\" text-anchor=\"middle\" x=\"372.5\" y=\"-506.3\">(None, 178)</text>\n</g>\n<!-- 140517535407800&#45;&gt;140517538684376 -->\n<g class=\"edge\" id=\"edge15\">\n<title>140517535407800-&gt;140517538684376</title>\n<path d=\"M208,-581.3799C208,-573.1745 208,-563.7679 208,-554.8786\" fill=\"none\" stroke=\"#000000\"/>\n<polygon fill=\"#000000\" points=\"211.5001,-554.784 208,-544.784 204.5001,-554.784 211.5001,-554.784\" stroke=\"#000000\"/>\n</g>\n<!-- 140517538717992 -->\n<g class=\"node\" id=\"node17\">\n<title>140517538717992</title>\n<polygon fill=\"none\" points=\"58.5,-415.5 58.5,-461.5 357.5,-461.5 357.5,-415.5 58.5,-415.5\" stroke=\"#000000\"/>\n<text fill=\"#000000\" font-family=\"Times,serif\" font-size=\"14.00\" text-anchor=\"middle\" x=\"135.5\" y=\"-434.8\">activation_4: Activation</text>\n<polyline fill=\"none\" points=\"212.5,-415.5 212.5,-461.5 \" stroke=\"#000000\"/>\n<text fill=\"#000000\" font-family=\"Times,serif\" font-size=\"14.00\" text-anchor=\"middle\" x=\"241.5\" y=\"-446.3\">input:</text>\n<polyline fill=\"none\" points=\"212.5,-438.5 270.5,-438.5 \" stroke=\"#000000\"/>\n<text fill=\"#000000\" font-family=\"Times,serif\" font-size=\"14.00\" text-anchor=\"middle\" x=\"241.5\" y=\"-423.3\">output:</text>\n<polyline fill=\"none\" points=\"270.5,-415.5 270.5,-461.5 \" stroke=\"#000000\"/>\n<text fill=\"#000000\" font-family=\"Times,serif\" font-size=\"14.00\" text-anchor=\"middle\" x=\"314\" y=\"-446.3\">(None, 178)</text>\n<polyline fill=\"none\" points=\"270.5,-438.5 357.5,-438.5 \" stroke=\"#000000\"/>\n<text fill=\"#000000\" font-family=\"Times,serif\" font-size=\"14.00\" text-anchor=\"middle\" x=\"314\" y=\"-423.3\">(None, 178)</text>\n</g>\n<!-- 140517538684376&#45;&gt;140517538717992 -->\n<g class=\"edge\" id=\"edge16\">\n<title>140517538684376-&gt;140517538717992</title>\n<path d=\"M208,-498.3799C208,-490.1745 208,-480.7679 208,-471.8786\" fill=\"none\" stroke=\"#000000\"/>\n<polygon fill=\"#000000\" points=\"211.5001,-471.784 208,-461.784 204.5001,-471.784 211.5001,-471.784\" stroke=\"#000000\"/>\n</g>\n<!-- 140517538737008 -->\n<g class=\"node\" id=\"node18\">\n<title>140517538737008</title>\n<polygon fill=\"none\" points=\"82,-332.5 82,-378.5 334,-378.5 334,-332.5 82,-332.5\" stroke=\"#000000\"/>\n<text fill=\"#000000\" font-family=\"Times,serif\" font-size=\"14.00\" text-anchor=\"middle\" x=\"135.5\" y=\"-351.8\">dense_9: Dense</text>\n<polyline fill=\"none\" points=\"189,-332.5 189,-378.5 \" stroke=\"#000000\"/>\n<text fill=\"#000000\" font-family=\"Times,serif\" font-size=\"14.00\" text-anchor=\"middle\" x=\"218\" y=\"-363.3\">input:</text>\n<polyline fill=\"none\" points=\"189,-355.5 247,-355.5 \" stroke=\"#000000\"/>\n<text fill=\"#000000\" font-family=\"Times,serif\" font-size=\"14.00\" text-anchor=\"middle\" x=\"218\" y=\"-340.3\">output:</text>\n<polyline fill=\"none\" points=\"247,-332.5 247,-378.5 \" stroke=\"#000000\"/>\n<text fill=\"#000000\" font-family=\"Times,serif\" font-size=\"14.00\" text-anchor=\"middle\" x=\"290.5\" y=\"-363.3\">(None, 178)</text>\n<polyline fill=\"none\" points=\"247,-355.5 334,-355.5 \" stroke=\"#000000\"/>\n<text fill=\"#000000\" font-family=\"Times,serif\" font-size=\"14.00\" text-anchor=\"middle\" x=\"290.5\" y=\"-340.3\">(None, 91)</text>\n</g>\n<!-- 140517538717992&#45;&gt;140517538737008 -->\n<g class=\"edge\" id=\"edge17\">\n<title>140517538717992-&gt;140517538737008</title>\n<path d=\"M208,-415.3799C208,-407.1745 208,-397.7679 208,-388.8786\" fill=\"none\" stroke=\"#000000\"/>\n<polygon fill=\"#000000\" points=\"211.5001,-388.784 208,-378.784 204.5001,-388.784 211.5001,-388.784\" stroke=\"#000000\"/>\n</g>\n<!-- 140517538844008 -->\n<g class=\"node\" id=\"node19\">\n<title>140517538844008</title>\n<polygon fill=\"none\" points=\"82,-249.5 82,-295.5 334,-295.5 334,-249.5 82,-249.5\" stroke=\"#000000\"/>\n<text fill=\"#000000\" font-family=\"Times,serif\" font-size=\"14.00\" text-anchor=\"middle\" x=\"139\" y=\"-268.8\">dense_10: Dense</text>\n<polyline fill=\"none\" points=\"196,-249.5 196,-295.5 \" stroke=\"#000000\"/>\n<text fill=\"#000000\" font-family=\"Times,serif\" font-size=\"14.00\" text-anchor=\"middle\" x=\"225\" y=\"-280.3\">input:</text>\n<polyline fill=\"none\" points=\"196,-272.5 254,-272.5 \" stroke=\"#000000\"/>\n<text fill=\"#000000\" font-family=\"Times,serif\" font-size=\"14.00\" text-anchor=\"middle\" x=\"225\" y=\"-257.3\">output:</text>\n<polyline fill=\"none\" points=\"254,-249.5 254,-295.5 \" stroke=\"#000000\"/>\n<text fill=\"#000000\" font-family=\"Times,serif\" font-size=\"14.00\" text-anchor=\"middle\" x=\"294\" y=\"-280.3\">(None, 91)</text>\n<polyline fill=\"none\" points=\"254,-272.5 334,-272.5 \" stroke=\"#000000\"/>\n<text fill=\"#000000\" font-family=\"Times,serif\" font-size=\"14.00\" text-anchor=\"middle\" x=\"294\" y=\"-257.3\">(None, 91)</text>\n</g>\n<!-- 140517538737008&#45;&gt;140517538844008 -->\n<g class=\"edge\" id=\"edge18\">\n<title>140517538737008-&gt;140517538844008</title>\n<path d=\"M208,-332.3799C208,-324.1745 208,-314.7679 208,-305.8786\" fill=\"none\" stroke=\"#000000\"/>\n<polygon fill=\"#000000\" points=\"211.5001,-305.784 208,-295.784 204.5001,-305.784 211.5001,-305.784\" stroke=\"#000000\"/>\n</g>\n<!-- 140517538496128 -->\n<g class=\"node\" id=\"node20\">\n<title>140517538496128</title>\n<polygon fill=\"none\" points=\"3.5,-166.5 3.5,-212.5 412.5,-212.5 412.5,-166.5 3.5,-166.5\" stroke=\"#000000\"/>\n<text fill=\"#000000\" font-family=\"Times,serif\" font-size=\"14.00\" text-anchor=\"middle\" x=\"139\" y=\"-185.8\">batch_normalization_5: BatchNormalization</text>\n<polyline fill=\"none\" points=\"274.5,-166.5 274.5,-212.5 \" stroke=\"#000000\"/>\n<text fill=\"#000000\" font-family=\"Times,serif\" font-size=\"14.00\" text-anchor=\"middle\" x=\"303.5\" y=\"-197.3\">input:</text>\n<polyline fill=\"none\" points=\"274.5,-189.5 332.5,-189.5 \" stroke=\"#000000\"/>\n<text fill=\"#000000\" font-family=\"Times,serif\" font-size=\"14.00\" text-anchor=\"middle\" x=\"303.5\" y=\"-174.3\">output:</text>\n<polyline fill=\"none\" points=\"332.5,-166.5 332.5,-212.5 \" stroke=\"#000000\"/>\n<text fill=\"#000000\" font-family=\"Times,serif\" font-size=\"14.00\" text-anchor=\"middle\" x=\"372.5\" y=\"-197.3\">(None, 91)</text>\n<polyline fill=\"none\" points=\"332.5,-189.5 412.5,-189.5 \" stroke=\"#000000\"/>\n<text fill=\"#000000\" font-family=\"Times,serif\" font-size=\"14.00\" text-anchor=\"middle\" x=\"372.5\" y=\"-174.3\">(None, 91)</text>\n</g>\n<!-- 140517538844008&#45;&gt;140517538496128 -->\n<g class=\"edge\" id=\"edge19\">\n<title>140517538844008-&gt;140517538496128</title>\n<path d=\"M208,-249.3799C208,-241.1745 208,-231.7679 208,-222.8786\" fill=\"none\" stroke=\"#000000\"/>\n<polygon fill=\"#000000\" points=\"211.5001,-222.784 208,-212.784 204.5001,-222.784 211.5001,-222.784\" stroke=\"#000000\"/>\n</g>\n<!-- 140517538526432 -->\n<g class=\"node\" id=\"node21\">\n<title>140517538526432</title>\n<polygon fill=\"none\" points=\"62,-83.5 62,-129.5 354,-129.5 354,-83.5 62,-83.5\" stroke=\"#000000\"/>\n<text fill=\"#000000\" font-family=\"Times,serif\" font-size=\"14.00\" text-anchor=\"middle\" x=\"139\" y=\"-102.8\">activation_5: Activation</text>\n<polyline fill=\"none\" points=\"216,-83.5 216,-129.5 \" stroke=\"#000000\"/>\n<text fill=\"#000000\" font-family=\"Times,serif\" font-size=\"14.00\" text-anchor=\"middle\" x=\"245\" y=\"-114.3\">input:</text>\n<polyline fill=\"none\" points=\"216,-106.5 274,-106.5 \" stroke=\"#000000\"/>\n<text fill=\"#000000\" font-family=\"Times,serif\" font-size=\"14.00\" text-anchor=\"middle\" x=\"245\" y=\"-91.3\">output:</text>\n<polyline fill=\"none\" points=\"274,-83.5 274,-129.5 \" stroke=\"#000000\"/>\n<text fill=\"#000000\" font-family=\"Times,serif\" font-size=\"14.00\" text-anchor=\"middle\" x=\"314\" y=\"-114.3\">(None, 91)</text>\n<polyline fill=\"none\" points=\"274,-106.5 354,-106.5 \" stroke=\"#000000\"/>\n<text fill=\"#000000\" font-family=\"Times,serif\" font-size=\"14.00\" text-anchor=\"middle\" x=\"314\" y=\"-91.3\">(None, 91)</text>\n</g>\n<!-- 140517538496128&#45;&gt;140517538526432 -->\n<g class=\"edge\" id=\"edge20\">\n<title>140517538496128-&gt;140517538526432</title>\n<path d=\"M208,-166.3799C208,-158.1745 208,-148.7679 208,-139.8786\" fill=\"none\" stroke=\"#000000\"/>\n<polygon fill=\"#000000\" points=\"211.5001,-139.784 208,-129.784 204.5001,-139.784 211.5001,-139.784\" stroke=\"#000000\"/>\n</g>\n<!-- 140517538551792 -->\n<g class=\"node\" id=\"node22\">\n<title>140517538551792</title>\n<polygon fill=\"none\" points=\"82.5,-.5 82.5,-46.5 333.5,-46.5 333.5,-.5 82.5,-.5\" stroke=\"#000000\"/>\n<text fill=\"#000000\" font-family=\"Times,serif\" font-size=\"14.00\" text-anchor=\"middle\" x=\"139\" y=\"-19.8\">dense_11: Dense</text>\n<polyline fill=\"none\" points=\"195.5,-.5 195.5,-46.5 \" stroke=\"#000000\"/>\n<text fill=\"#000000\" font-family=\"Times,serif\" font-size=\"14.00\" text-anchor=\"middle\" x=\"224.5\" y=\"-31.3\">input:</text>\n<polyline fill=\"none\" points=\"195.5,-23.5 253.5,-23.5 \" stroke=\"#000000\"/>\n<text fill=\"#000000\" font-family=\"Times,serif\" font-size=\"14.00\" text-anchor=\"middle\" x=\"224.5\" y=\"-8.3\">output:</text>\n<polyline fill=\"none\" points=\"253.5,-.5 253.5,-46.5 \" stroke=\"#000000\"/>\n<text fill=\"#000000\" font-family=\"Times,serif\" font-size=\"14.00\" text-anchor=\"middle\" x=\"293.5\" y=\"-31.3\">(None, 91)</text>\n<polyline fill=\"none\" points=\"253.5,-23.5 333.5,-23.5 \" stroke=\"#000000\"/>\n<text fill=\"#000000\" font-family=\"Times,serif\" font-size=\"14.00\" text-anchor=\"middle\" x=\"293.5\" y=\"-8.3\">(None, 4)</text>\n</g>\n<!-- 140517538526432&#45;&gt;140517538551792 -->\n<g class=\"edge\" id=\"edge21\">\n<title>140517538526432-&gt;140517538551792</title>\n<path d=\"M208,-83.3799C208,-75.1745 208,-65.7679 208,-56.8786\" fill=\"none\" stroke=\"#000000\"/>\n<polygon fill=\"#000000\" points=\"211.5001,-56.784 208,-46.784 204.5001,-56.784 211.5001,-56.784\" stroke=\"#000000\"/>\n</g>\n</g>\n</svg>"
          },
          "metadata": {
            "tags": []
          },
          "execution_count": 8
        }
      ]
    },
    {
      "cell_type": "code",
      "metadata": {
        "id": "U_mWcOE6vyUH",
        "colab_type": "code",
        "outputId": "c75547b9-e0a0-4b31-f4ec-b5439bca7821",
        "colab": {
          "base_uri": "https://localhost:8080/",
          "height": 283
        }
      },
      "source": [
        "# 학습 과정\n",
        "\n",
        "%matplotlib inline\n",
        "import matplotlib.pyplot as plt\n",
        "\n",
        "fig, loss_ax = plt.subplots()\n",
        "\n",
        "acc_ax = loss_ax.twinx()\n",
        "\n",
        "loss_ax.plot(hist.history['loss'], 'y', label='train loss')\n",
        "loss_ax.plot(hist.history['val_loss'], 'r', label='val loss')\n",
        "\n",
        "acc_ax.plot(hist.history['acc'], 'b', label='train acc')\n",
        "acc_ax.plot(hist.history['val_acc'], 'g', label='val acc')\n",
        "\n",
        "loss_ax.set_xlabel('epoch')\n",
        "loss_ax.set_ylabel('loss')\n",
        "acc_ax.set_ylabel('mean absolute error')\n",
        "\n",
        "loss_ax.legend(loc='upper left')\n",
        "acc_ax.legend(loc='lower left')\n",
        "\n",
        "plt.show()"
      ],
      "execution_count": 0,
      "outputs": [
        {
          "output_type": "display_data",
          "data": {
            "image/png": "[encoded data removed]",
            "text/plain": [
              "<Figure size 432x288 with 2 Axes>"
            ]
          },
          "metadata": {
            "tags": []
          }
        }
      ]
    },
    {
      "cell_type": "code",
      "metadata": {
        "id": "wBwHpc7VvyZv",
        "colab_type": "code",
        "colab": {}
      },
      "source": [
        "# 예측값을 생성합니다.\n",
        "\n",
        "pred_test_08 = model_08.predict(test_X)"
      ],
      "execution_count": 0,
      "outputs": []
    },
    {
      "cell_type": "code",
      "metadata": {
        "id": "jDk6Qnu3vyfX",
        "colab_type": "code",
        "colab": {}
      },
      "source": [
        "# submission 파일을 생성합니다.\n",
        "sample_sub = pd.read_csv('/gdrive/My Drive/DACON-semiconductor-competition/dataset/sample_submission.csv', index_col=0)\n",
        "submission = sample_sub+pred_test_08\n",
        "submission.to_csv('/gdrive/My Drive/DACON-semiconductor-competition/submission_08.csv')"
      ],
      "execution_count": 0,
      "outputs": []
    }
  ]
}