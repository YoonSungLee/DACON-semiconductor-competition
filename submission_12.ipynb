{
  "nbformat": 4,
  "nbformat_minor": 0,
  "metadata": {
    "colab": {
      "name": "submission_12.ipynb",
      "provenance": [],
      "collapsed_sections": [],
      "authorship_tag": "ABX9TyPFFHom18qMfHeWW76UOnze",
      "include_colab_link": true
    },
    "kernelspec": {
      "name": "python3",
      "display_name": "Python 3"
    },
    "accelerator": "GPU"
  },
  "cells": [
    {
      "cell_type": "markdown",
      "metadata": {
        "id": "view-in-github",
        "colab_type": "text"
      },
      "source": [
        "<a href=\"https://colab.research.google.com/github/Inha-AI/DACON-semiconductor-competition/blob/feature%2FYoonSungLee/submission_12.ipynb\" target=\"_parent\"><img src=\"https://colab.research.google.com/assets/colab-badge.svg\" alt=\"Open In Colab\"/></a>"
      ]
    },
    {
      "cell_type": "code",
      "metadata": {
        "id": "NBPfb1Jhq4TA",
        "colab_type": "code",
        "outputId": "9ba467fd-d87e-45ef-c854-febf78bfc47f",
        "colab": {
          "base_uri": "https://localhost:8080/",
          "height": 280
        }
      },
      "source": [
        "pip install bayesian-optimization"
      ],
      "execution_count": 1,
      "outputs": [
        {
          "output_type": "stream",
          "text": [
            "Collecting bayesian-optimization\n",
            "  Downloading https://files.pythonhosted.org/packages/72/0c/173ac467d0a53e33e41b521e4ceba74a8ac7c7873d7b857a8fbdca88302d/bayesian-optimization-1.0.1.tar.gz\n",
            "Requirement already satisfied: numpy>=1.9.0 in /usr/local/lib/python3.6/dist-packages (from bayesian-optimization) (1.17.5)\n",
            "Requirement already satisfied: scipy>=0.14.0 in /usr/local/lib/python3.6/dist-packages (from bayesian-optimization) (1.4.1)\n",
            "Requirement already satisfied: scikit-learn>=0.18.0 in /usr/local/lib/python3.6/dist-packages (from bayesian-optimization) (0.22.1)\n",
            "Requirement already satisfied: joblib>=0.11 in /usr/local/lib/python3.6/dist-packages (from scikit-learn>=0.18.0->bayesian-optimization) (0.14.1)\n",
            "Building wheels for collected packages: bayesian-optimization\n",
            "  Building wheel for bayesian-optimization (setup.py) ... \u001b[?25l\u001b[?25hdone\n",
            "  Created wheel for bayesian-optimization: filename=bayesian_optimization-1.0.1-cp36-none-any.whl size=10032 sha256=1e3f4940050b0d2a8a9cb167a91fba4ef0238f6fd2d99f4fc2b59fd8697f3669\n",
            "  Stored in directory: /root/.cache/pip/wheels/1d/0d/3b/6b9d4477a34b3905f246ff4e7acf6aafd4cc9b77d473629b77\n",
            "Successfully built bayesian-optimization\n",
            "Installing collected packages: bayesian-optimization\n",
            "Successfully installed bayesian-optimization-1.0.1\n"
          ],
          "name": "stdout"
        }
      ]
    },
    {
      "cell_type": "code",
      "metadata": {
        "id": "0vVeUdyssBKw",
        "colab_type": "code",
        "outputId": "f3485286-4ba7-4288-fcca-bf3128c990d8",
        "colab": {
          "base_uri": "https://localhost:8080/",
          "height": 101
        }
      },
      "source": [
        "import numpy as np\n",
        "import pandas as pd\n",
        "import matplotlib.pyplot as plt\n",
        "import keras\n",
        "from keras.models import Sequential, load_model\n",
        "from keras.layers import Dense, Activation, Dropout\n",
        "from keras.layers import BatchNormalization\n",
        "from sklearn.model_selection import train_test_split\n",
        "from bayes_opt import BayesianOptimization"
      ],
      "execution_count": 2,
      "outputs": [
        {
          "output_type": "stream",
          "text": [
            "Using TensorFlow backend.\n"
          ],
          "name": "stderr"
        },
        {
          "output_type": "display_data",
          "data": {
            "text/html": [
              "<p style=\"color: red;\">\n",
              "The default version of TensorFlow in Colab will soon switch to TensorFlow 2.x.<br>\n",
              "We recommend you <a href=\"https://www.tensorflow.org/guide/migrate\" target=\"_blank\">upgrade</a> now \n",
              "or ensure your notebook will continue to use TensorFlow 1.x via the <code>%tensorflow_version 1.x</code> magic:\n",
              "<a href=\"https://colab.research.google.com/notebooks/tensorflow_version.ipynb\" target=\"_blank\">more info</a>.</p>\n"
            ],
            "text/plain": [
              "<IPython.core.display.HTML object>"
            ]
          },
          "metadata": {
            "tags": []
          }
        }
      ]
    },
    {
      "cell_type": "code",
      "metadata": {
        "id": "EwHXDEigsNB0",
        "colab_type": "code",
        "outputId": "b2dbc946-3d02-422b-e26b-d3a68b6cccd0",
        "colab": {
          "base_uri": "https://localhost:8080/",
          "height": 131
        }
      },
      "source": [
        "from google.colab import drive\n",
        "drive.mount('/gdrive')"
      ],
      "execution_count": 3,
      "outputs": [
        {
          "output_type": "stream",
          "text": [
            "Go to this URL in a browser: https://accounts.google.com/o/oauth2/auth?client_id=947318989803-6bn6qk8qdgf4n4g3pfee6491hc0brc4i.apps.googleusercontent.com&redirect_uri=urn%3aietf%3awg%3aoauth%3a2.0%3aoob&response_type=code&scope=email%20https%3a%2f%2fwww.googleapis.com%2fauth%2fdocs.test%20https%3a%2f%2fwww.googleapis.com%2fauth%2fdrive%20https%3a%2f%2fwww.googleapis.com%2fauth%2fdrive.photos.readonly%20https%3a%2f%2fwww.googleapis.com%2fauth%2fpeopleapi.readonly\n",
            "\n",
            "Enter your authorization code:\n",
            "··········\n",
            "Mounted at /gdrive\n"
          ],
          "name": "stdout"
        }
      ]
    },
    {
      "cell_type": "code",
      "metadata": {
        "id": "hQF6BGGF1DqH",
        "colab_type": "code",
        "colab": {}
      },
      "source": [
        "# 데이터 자료형을 적절히 변형시켜 데이터의 크기를 줄이는 방법\n",
        "\n",
        "# for col in df_train.columns:\n",
        "#     col_type = df_train[col].dtypes\n",
        "#     min1 = df_train[col].min()\n",
        "#     max1 = df_train[col].max()\n",
        "#     if str(col_type)[:3] == 'int':\n",
        "#         df_train[col] = df_train[col].astype(np.int16)\n",
        "#     else:\n",
        "#         if min1 > np.finfo(np.float16).min and max1 < np.finfo(np.float16).max:\n",
        "#             df_train[col] = trdf_trainain[col].astype(np.float16)\n",
        "#         elif min1 > np.finfo(np.float32).min and max1 < np.finfo(np.float32).max:\n",
        "#             df_train[col] = df_train[col].astype(np.float32)\n",
        "#         else:\n",
        "#             df_train[col] = df_train[col].astype(np.float64)"
      ],
      "execution_count": 0,
      "outputs": []
    },
    {
      "cell_type": "code",
      "metadata": {
        "id": "-BNXAU5rsPJS",
        "colab_type": "code",
        "colab": {}
      },
      "source": [
        "df_train = pd.read_csv('/gdrive/My Drive/DACON-semiconductor-competition/dataset/train.csv')\n",
        "df_test = pd.read_csv('/gdrive/My Drive/DACON-semiconductor-competition/dataset/test.csv')"
      ],
      "execution_count": 0,
      "outputs": []
    },
    {
      "cell_type": "code",
      "metadata": {
        "id": "TdYXclfgsVr6",
        "colab_type": "code",
        "colab": {}
      },
      "source": [
        "# 독립변수와 종속변수를 분리합니다.\n",
        "\n",
        "train_X = df_train.iloc[:,4:]\n",
        "train_Y = df_train.iloc[:,0:4]\n",
        "test_X = df_test.iloc[:,1:]"
      ],
      "execution_count": 0,
      "outputs": []
    },
    {
      "cell_type": "code",
      "metadata": {
        "id": "Ogdcz8YctuVW",
        "colab_type": "code",
        "colab": {}
      },
      "source": [
        "# train set을 shuffle하여 다시 train set과 validation set으로 분리합니다.\n",
        "\n",
        "train_X, val_X, train_Y, val_Y = train_test_split(train_X, train_Y, test_size=0.25)"
      ],
      "execution_count": 0,
      "outputs": []
    },
    {
      "cell_type": "markdown",
      "metadata": {
        "id": "8tT4w6XasaSQ",
        "colab_type": "text"
      },
      "source": [
        "# Model 12"
      ]
    },
    {
      "cell_type": "markdown",
      "metadata": {
        "id": "4PSSfoS5sfWK",
        "colab_type": "text"
      },
      "source": [
        "* 11 layers\n",
        "* 800 units, he_normal, swish\n",
        "* BatchNormalization\n",
        "* Adam(0.001)\n",
        "* epochs 200\n",
        "* batch_size 630\n",
        "<br><br>\n",
        "* BayesianOptimization을 통해 최적의 units를 도출해 내어 적용"
      ]
    },
    {
      "cell_type": "code",
      "metadata": {
        "id": "SGEkxH551LkF",
        "colab_type": "code",
        "colab": {}
      },
      "source": [
        "# 케라스를 통해 모델 생성을 시작합니다.\n",
        "\n",
        "def create_model():\n",
        "    model = Sequential()\n",
        "    model.add(Dense(units=800, input_dim=226, kernel_initializer='he_normal'))\n",
        "    model.add(Dense(units=800, kernel_initializer='he_normal'))\n",
        "    model.add(BatchNormalization())\n",
        "    model.add(Activation(swish))\n",
        "    model.add(Dense(units=800, kernel_initializer='he_normal'))\n",
        "    model.add(Dense(units=800, kernel_initializer='he_normal'))\n",
        "    model.add(BatchNormalization())\n",
        "    model.add(Activation(swish))\n",
        "    model.add(Dense(units=800, kernel_initializer='he_normal'))\n",
        "    model.add(Dense(units=800, kernel_initializer='he_normal'))\n",
        "    model.add(BatchNormalization())\n",
        "    model.add(Activation(swish))\n",
        "    model.add(Dense(units=800, kernel_initializer='he_normal'))\n",
        "    model.add(Dense(units=800, kernel_initializer='he_normal'))\n",
        "    model.add(BatchNormalization())\n",
        "    model.add(Activation(swish))\n",
        "    model.add(Dense(units=800, kernel_initializer='he_normal'))\n",
        "    model.add(Dense(units=800, kernel_initializer='he_normal'))\n",
        "    model.add(BatchNormalization())\n",
        "    model.add(Activation(swish))\n",
        "    model.add(Dense(units=4, activation='linear'))\n",
        "\n",
        "    return model\n",
        "\n",
        "\n",
        "# Activation Function 정의\n",
        "\n",
        "def swish(x) :\n",
        "    return x * keras.activations.sigmoid(x)"
      ],
      "execution_count": 0,
      "outputs": []
    },
    {
      "cell_type": "code",
      "metadata": {
        "id": "35DQBYFkofR6",
        "colab_type": "code",
        "colab": {
          "base_uri": "https://localhost:8080/",
          "height": 224
        },
        "outputId": "ec12c2e5-5028-402e-bdaf-709ff0d3ce4f"
      },
      "source": [
        "model = create_model()"
      ],
      "execution_count": 8,
      "outputs": [
        {
          "output_type": "stream",
          "text": [
            "WARNING:tensorflow:From /usr/local/lib/python3.6/dist-packages/keras/backend/tensorflow_backend.py:66: The name tf.get_default_graph is deprecated. Please use tf.compat.v1.get_default_graph instead.\n",
            "\n",
            "WARNING:tensorflow:From /usr/local/lib/python3.6/dist-packages/keras/backend/tensorflow_backend.py:541: The name tf.placeholder is deprecated. Please use tf.compat.v1.placeholder instead.\n",
            "\n",
            "WARNING:tensorflow:From /usr/local/lib/python3.6/dist-packages/keras/backend/tensorflow_backend.py:4479: The name tf.truncated_normal is deprecated. Please use tf.random.truncated_normal instead.\n",
            "\n",
            "WARNING:tensorflow:From /usr/local/lib/python3.6/dist-packages/keras/backend/tensorflow_backend.py:148: The name tf.placeholder_with_default is deprecated. Please use tf.compat.v1.placeholder_with_default instead.\n",
            "\n",
            "WARNING:tensorflow:From /usr/local/lib/python3.6/dist-packages/keras/backend/tensorflow_backend.py:4432: The name tf.random_uniform is deprecated. Please use tf.random.uniform instead.\n",
            "\n"
          ],
          "name": "stdout"
        }
      ]
    },
    {
      "cell_type": "code",
      "metadata": {
        "id": "cpTWpi6eXFec",
        "colab_type": "code",
        "colab": {
          "base_uri": "https://localhost:8080/",
          "height": 75
        },
        "outputId": "e6b07e79-a3d3-40b2-8461-ede5ef3269df"
      },
      "source": [
        "adam = keras.optimizers.Adam(0.001)\n",
        "model.compile(loss='mae', optimizer=adam, metrics=['accuracy'])"
      ],
      "execution_count": 9,
      "outputs": [
        {
          "output_type": "stream",
          "text": [
            "WARNING:tensorflow:From /usr/local/lib/python3.6/dist-packages/keras/optimizers.py:793: The name tf.train.Optimizer is deprecated. Please use tf.compat.v1.train.Optimizer instead.\n",
            "\n"
          ],
          "name": "stdout"
        }
      ]
    },
    {
      "cell_type": "code",
      "metadata": {
        "id": "byKqdJKjXFjb",
        "colab_type": "code",
        "colab": {
          "base_uri": "https://localhost:8080/",
          "height": 1000
        },
        "outputId": "0a0e376e-de3a-42d7-a7f6-414cea12929f"
      },
      "source": [
        "hist = model.fit(train_X, train_Y, epochs=200, batch_size=630,\n",
        "                    validation_data=(val_X, val_Y))"
      ],
      "execution_count": 10,
      "outputs": [
        {
          "output_type": "stream",
          "text": [
            "WARNING:tensorflow:From /usr/local/lib/python3.6/dist-packages/keras/backend/tensorflow_backend.py:1033: The name tf.assign_add is deprecated. Please use tf.compat.v1.assign_add instead.\n",
            "\n",
            "WARNING:tensorflow:From /usr/local/lib/python3.6/dist-packages/keras/backend/tensorflow_backend.py:1020: The name tf.assign is deprecated. Please use tf.compat.v1.assign instead.\n",
            "\n",
            "WARNING:tensorflow:From /usr/local/lib/python3.6/dist-packages/keras/backend/tensorflow_backend.py:3005: The name tf.Session is deprecated. Please use tf.compat.v1.Session instead.\n",
            "\n",
            "Train on 607500 samples, validate on 202500 samples\n",
            "Epoch 1/200\n",
            "WARNING:tensorflow:From /usr/local/lib/python3.6/dist-packages/keras/backend/tensorflow_backend.py:190: The name tf.get_default_session is deprecated. Please use tf.compat.v1.get_default_session instead.\n",
            "\n",
            "WARNING:tensorflow:From /usr/local/lib/python3.6/dist-packages/keras/backend/tensorflow_backend.py:197: The name tf.ConfigProto is deprecated. Please use tf.compat.v1.ConfigProto instead.\n",
            "\n",
            "WARNING:tensorflow:From /usr/local/lib/python3.6/dist-packages/keras/backend/tensorflow_backend.py:207: The name tf.global_variables is deprecated. Please use tf.compat.v1.global_variables instead.\n",
            "\n",
            "WARNING:tensorflow:From /usr/local/lib/python3.6/dist-packages/keras/backend/tensorflow_backend.py:216: The name tf.is_variable_initialized is deprecated. Please use tf.compat.v1.is_variable_initialized instead.\n",
            "\n",
            "WARNING:tensorflow:From /usr/local/lib/python3.6/dist-packages/keras/backend/tensorflow_backend.py:223: The name tf.variables_initializer is deprecated. Please use tf.compat.v1.variables_initializer instead.\n",
            "\n",
            "607500/607500 [==============================] - 30s 49us/step - loss: 68.5536 - acc: 0.3582 - val_loss: 55.7735 - val_acc: 0.4257\n",
            "Epoch 2/200\n",
            "607500/607500 [==============================] - 19s 31us/step - loss: 31.8944 - acc: 0.6670 - val_loss: 29.1752 - val_acc: 0.7008\n",
            "Epoch 3/200\n",
            "607500/607500 [==============================] - 20s 33us/step - loss: 20.2049 - acc: 0.7926 - val_loss: 19.1672 - val_acc: 0.8053\n",
            "Epoch 4/200\n",
            "607500/607500 [==============================] - 19s 31us/step - loss: 15.0082 - acc: 0.8438 - val_loss: 14.1090 - val_acc: 0.8472\n",
            "Epoch 5/200\n",
            "607500/607500 [==============================] - 19s 31us/step - loss: 12.1089 - acc: 0.8724 - val_loss: 11.7625 - val_acc: 0.8709\n",
            "Epoch 6/200\n",
            "607500/607500 [==============================] - 19s 32us/step - loss: 10.3613 - acc: 0.8904 - val_loss: 11.4449 - val_acc: 0.8844\n",
            "Epoch 7/200\n",
            "607500/607500 [==============================] - 19s 31us/step - loss: 9.1373 - acc: 0.9028 - val_loss: 9.8528 - val_acc: 0.8883\n",
            "Epoch 8/200\n",
            "607500/607500 [==============================] - 19s 31us/step - loss: 8.2605 - acc: 0.9108 - val_loss: 8.7566 - val_acc: 0.9073\n",
            "Epoch 9/200\n",
            "607500/607500 [==============================] - 19s 32us/step - loss: 7.5637 - acc: 0.9181 - val_loss: 7.2044 - val_acc: 0.9239\n",
            "Epoch 10/200\n",
            "607500/607500 [==============================] - 19s 31us/step - loss: 7.0281 - acc: 0.9237 - val_loss: 6.6323 - val_acc: 0.9341\n",
            "Epoch 11/200\n",
            "607500/607500 [==============================] - 19s 31us/step - loss: 6.6355 - acc: 0.9274 - val_loss: 7.1273 - val_acc: 0.9244\n",
            "Epoch 12/200\n",
            "607500/607500 [==============================] - 19s 31us/step - loss: 6.2502 - acc: 0.9308 - val_loss: 6.2537 - val_acc: 0.9310\n",
            "Epoch 13/200\n",
            "607500/607500 [==============================] - 19s 31us/step - loss: 5.9304 - acc: 0.9339 - val_loss: 6.0971 - val_acc: 0.9405\n",
            "Epoch 14/200\n",
            "607500/607500 [==============================] - 19s 31us/step - loss: 5.6898 - acc: 0.9362 - val_loss: 5.6210 - val_acc: 0.9306\n",
            "Epoch 15/200\n",
            "607500/607500 [==============================] - 19s 31us/step - loss: 5.4088 - acc: 0.9385 - val_loss: 5.0372 - val_acc: 0.9483\n",
            "Epoch 16/200\n",
            "607500/607500 [==============================] - 19s 32us/step - loss: 5.2249 - acc: 0.9409 - val_loss: 5.7370 - val_acc: 0.9288\n",
            "Epoch 17/200\n",
            "607500/607500 [==============================] - 19s 31us/step - loss: 5.0295 - acc: 0.9420 - val_loss: 5.1636 - val_acc: 0.9378\n",
            "Epoch 18/200\n",
            "607500/607500 [==============================] - 19s 31us/step - loss: 4.8415 - acc: 0.9438 - val_loss: 5.3995 - val_acc: 0.9350\n",
            "Epoch 19/200\n",
            "607500/607500 [==============================] - 19s 32us/step - loss: 4.6926 - acc: 0.9453 - val_loss: 4.6477 - val_acc: 0.9503\n",
            "Epoch 20/200\n",
            "607500/607500 [==============================] - 19s 31us/step - loss: 4.5486 - acc: 0.9469 - val_loss: 4.2033 - val_acc: 0.9499\n",
            "Epoch 21/200\n",
            "607500/607500 [==============================] - 19s 30us/step - loss: 4.4037 - acc: 0.9475 - val_loss: 4.7230 - val_acc: 0.9451\n",
            "Epoch 22/200\n",
            "607500/607500 [==============================] - 19s 31us/step - loss: 4.2756 - acc: 0.9490 - val_loss: 4.6010 - val_acc: 0.9464\n",
            "Epoch 23/200\n",
            "607500/607500 [==============================] - 18s 30us/step - loss: 4.1893 - acc: 0.9492 - val_loss: 3.9972 - val_acc: 0.9503\n",
            "Epoch 24/200\n",
            "607500/607500 [==============================] - 19s 31us/step - loss: 4.0885 - acc: 0.9506 - val_loss: 3.8721 - val_acc: 0.9505\n",
            "Epoch 25/200\n",
            "607500/607500 [==============================] - 19s 31us/step - loss: 3.9701 - acc: 0.9518 - val_loss: 3.5886 - val_acc: 0.9505\n",
            "Epoch 26/200\n",
            "607500/607500 [==============================] - 18s 30us/step - loss: 3.8657 - acc: 0.9521 - val_loss: 3.7259 - val_acc: 0.9535\n",
            "Epoch 27/200\n",
            "607500/607500 [==============================] - 19s 31us/step - loss: 3.7838 - acc: 0.9527 - val_loss: 3.2162 - val_acc: 0.9540\n",
            "Epoch 28/200\n",
            "607500/607500 [==============================] - 19s 31us/step - loss: 3.6720 - acc: 0.9539 - val_loss: 3.5860 - val_acc: 0.9526\n",
            "Epoch 29/200\n",
            "607500/607500 [==============================] - 19s 31us/step - loss: 3.6036 - acc: 0.9546 - val_loss: 3.6657 - val_acc: 0.9554\n",
            "Epoch 30/200\n",
            "607500/607500 [==============================] - 19s 30us/step - loss: 3.5430 - acc: 0.9549 - val_loss: 3.3451 - val_acc: 0.9589\n",
            "Epoch 31/200\n",
            "607500/607500 [==============================] - 19s 31us/step - loss: 3.4565 - acc: 0.9554 - val_loss: 3.0028 - val_acc: 0.9634\n",
            "Epoch 32/200\n",
            "607500/607500 [==============================] - 19s 32us/step - loss: 3.3809 - acc: 0.9558 - val_loss: 3.4282 - val_acc: 0.9556\n",
            "Epoch 33/200\n",
            "607500/607500 [==============================] - 19s 32us/step - loss: 3.3493 - acc: 0.9561 - val_loss: 2.9808 - val_acc: 0.9557\n",
            "Epoch 34/200\n",
            "607500/607500 [==============================] - 19s 32us/step - loss: 3.2386 - acc: 0.9568 - val_loss: 3.0465 - val_acc: 0.9591\n",
            "Epoch 35/200\n",
            "607500/607500 [==============================] - 19s 32us/step - loss: 3.1874 - acc: 0.9576 - val_loss: 2.8566 - val_acc: 0.9590\n",
            "Epoch 36/200\n",
            "607500/607500 [==============================] - 20s 32us/step - loss: 3.1327 - acc: 0.9578 - val_loss: 2.9553 - val_acc: 0.9658\n",
            "Epoch 37/200\n",
            "607500/607500 [==============================] - 19s 32us/step - loss: 3.1013 - acc: 0.9580 - val_loss: 2.7115 - val_acc: 0.9587\n",
            "Epoch 38/200\n",
            "607500/607500 [==============================] - 19s 32us/step - loss: 3.0553 - acc: 0.9581 - val_loss: 3.0638 - val_acc: 0.9541\n",
            "Epoch 39/200\n",
            "607500/607500 [==============================] - 19s 31us/step - loss: 2.9795 - acc: 0.9586 - val_loss: 3.1337 - val_acc: 0.9532\n",
            "Epoch 40/200\n",
            "607500/607500 [==============================] - 19s 31us/step - loss: 2.9406 - acc: 0.9593 - val_loss: 2.9700 - val_acc: 0.9528\n",
            "Epoch 41/200\n",
            "607500/607500 [==============================] - 19s 32us/step - loss: 2.8815 - acc: 0.9594 - val_loss: 3.2365 - val_acc: 0.9540\n",
            "Epoch 42/200\n",
            "607500/607500 [==============================] - 19s 31us/step - loss: 2.8559 - acc: 0.9598 - val_loss: 2.8142 - val_acc: 0.9616\n",
            "Epoch 43/200\n",
            "607500/607500 [==============================] - 19s 32us/step - loss: 2.7883 - acc: 0.9598 - val_loss: 3.0646 - val_acc: 0.9622\n",
            "Epoch 44/200\n",
            "607500/607500 [==============================] - 19s 32us/step - loss: 2.7665 - acc: 0.9605 - val_loss: 2.5389 - val_acc: 0.9647\n",
            "Epoch 45/200\n",
            "607500/607500 [==============================] - 19s 32us/step - loss: 2.7251 - acc: 0.9609 - val_loss: 2.6274 - val_acc: 0.9579\n",
            "Epoch 46/200\n",
            "607500/607500 [==============================] - 19s 32us/step - loss: 2.7138 - acc: 0.9605 - val_loss: 2.7647 - val_acc: 0.9626\n",
            "Epoch 47/200\n",
            "607500/607500 [==============================] - 20s 32us/step - loss: 2.6630 - acc: 0.9609 - val_loss: 2.5353 - val_acc: 0.9644\n",
            "Epoch 48/200\n",
            "607500/607500 [==============================] - 19s 31us/step - loss: 2.6263 - acc: 0.9612 - val_loss: 2.6135 - val_acc: 0.9638\n",
            "Epoch 49/200\n",
            "607500/607500 [==============================] - 19s 32us/step - loss: 2.5947 - acc: 0.9613 - val_loss: 2.3401 - val_acc: 0.9626\n",
            "Epoch 50/200\n",
            "607500/607500 [==============================] - 19s 32us/step - loss: 2.5550 - acc: 0.9614 - val_loss: 2.5028 - val_acc: 0.9657\n",
            "Epoch 51/200\n",
            "607500/607500 [==============================] - 19s 31us/step - loss: 2.5210 - acc: 0.9616 - val_loss: 2.3797 - val_acc: 0.9573\n",
            "Epoch 52/200\n",
            "607500/607500 [==============================] - 20s 32us/step - loss: 2.4704 - acc: 0.9616 - val_loss: 2.1279 - val_acc: 0.9596\n",
            "Epoch 53/200\n",
            "607500/607500 [==============================] - 19s 32us/step - loss: 2.4589 - acc: 0.9620 - val_loss: 2.2678 - val_acc: 0.9636\n",
            "Epoch 54/200\n",
            "607500/607500 [==============================] - 19s 32us/step - loss: 2.4467 - acc: 0.9618 - val_loss: 2.4066 - val_acc: 0.9553\n",
            "Epoch 55/200\n",
            "607500/607500 [==============================] - 19s 31us/step - loss: 2.4375 - acc: 0.9619 - val_loss: 2.2287 - val_acc: 0.9652\n",
            "Epoch 56/200\n",
            "607500/607500 [==============================] - 19s 31us/step - loss: 2.3804 - acc: 0.9624 - val_loss: 2.2679 - val_acc: 0.9577\n",
            "Epoch 57/200\n",
            "607500/607500 [==============================] - 19s 32us/step - loss: 2.3531 - acc: 0.9624 - val_loss: 2.1555 - val_acc: 0.9622\n",
            "Epoch 58/200\n",
            "607500/607500 [==============================] - 19s 32us/step - loss: 2.3509 - acc: 0.9621 - val_loss: 2.1870 - val_acc: 0.9773\n",
            "Epoch 59/200\n",
            "607500/607500 [==============================] - 19s 32us/step - loss: 2.3118 - acc: 0.9624 - val_loss: 2.1706 - val_acc: 0.9686\n",
            "Epoch 60/200\n",
            "607500/607500 [==============================] - 19s 32us/step - loss: 2.2865 - acc: 0.9625 - val_loss: 2.2417 - val_acc: 0.9605\n",
            "Epoch 61/200\n",
            "607500/607500 [==============================] - 19s 32us/step - loss: 2.2547 - acc: 0.9630 - val_loss: 2.4879 - val_acc: 0.9591\n",
            "Epoch 62/200\n",
            "607500/607500 [==============================] - 19s 32us/step - loss: 2.2534 - acc: 0.9627 - val_loss: 2.0367 - val_acc: 0.9706\n",
            "Epoch 63/200\n",
            "607500/607500 [==============================] - 19s 32us/step - loss: 2.2176 - acc: 0.9631 - val_loss: 2.1265 - val_acc: 0.9637\n",
            "Epoch 64/200\n",
            "607500/607500 [==============================] - 19s 32us/step - loss: 2.2212 - acc: 0.9629 - val_loss: 2.1680 - val_acc: 0.9595\n",
            "Epoch 65/200\n",
            "607500/607500 [==============================] - 19s 31us/step - loss: 2.1704 - acc: 0.9635 - val_loss: 2.2562 - val_acc: 0.9591\n",
            "Epoch 66/200\n",
            "607500/607500 [==============================] - 19s 32us/step - loss: 2.1606 - acc: 0.9629 - val_loss: 2.1437 - val_acc: 0.9615\n",
            "Epoch 67/200\n",
            "607500/607500 [==============================] - 19s 31us/step - loss: 2.1497 - acc: 0.9632 - val_loss: 2.0609 - val_acc: 0.9688\n",
            "Epoch 68/200\n",
            "607500/607500 [==============================] - 19s 32us/step - loss: 2.1194 - acc: 0.9635 - val_loss: 2.0566 - val_acc: 0.9640\n",
            "Epoch 69/200\n",
            "607500/607500 [==============================] - 19s 32us/step - loss: 2.1256 - acc: 0.9631 - val_loss: 1.8746 - val_acc: 0.9563\n",
            "Epoch 70/200\n",
            "607500/607500 [==============================] - 19s 31us/step - loss: 2.0960 - acc: 0.9637 - val_loss: 2.0884 - val_acc: 0.9627\n",
            "Epoch 71/200\n",
            "607500/607500 [==============================] - 19s 31us/step - loss: 2.0888 - acc: 0.9634 - val_loss: 1.8543 - val_acc: 0.9674\n",
            "Epoch 72/200\n",
            "607500/607500 [==============================] - 19s 32us/step - loss: 2.0440 - acc: 0.9638 - val_loss: 1.9760 - val_acc: 0.9681\n",
            "Epoch 73/200\n",
            "607500/607500 [==============================] - 19s 31us/step - loss: 2.0487 - acc: 0.9636 - val_loss: 1.9555 - val_acc: 0.9736\n",
            "Epoch 74/200\n",
            "607500/607500 [==============================] - 19s 32us/step - loss: 2.0436 - acc: 0.9634 - val_loss: 2.0341 - val_acc: 0.9655\n",
            "Epoch 75/200\n",
            "607500/607500 [==============================] - 20s 32us/step - loss: 2.0357 - acc: 0.9637 - val_loss: 2.1355 - val_acc: 0.9673\n",
            "Epoch 76/200\n",
            "607500/607500 [==============================] - 19s 31us/step - loss: 1.9998 - acc: 0.9637 - val_loss: 2.0403 - val_acc: 0.9600\n",
            "Epoch 77/200\n",
            "607500/607500 [==============================] - 19s 31us/step - loss: 1.9920 - acc: 0.9641 - val_loss: 1.9934 - val_acc: 0.9660\n",
            "Epoch 78/200\n",
            "607500/607500 [==============================] - 19s 31us/step - loss: 1.9871 - acc: 0.9638 - val_loss: 2.1115 - val_acc: 0.9570\n",
            "Epoch 79/200\n",
            "607500/607500 [==============================] - 18s 30us/step - loss: 1.9560 - acc: 0.9640 - val_loss: 1.7324 - val_acc: 0.9629\n",
            "Epoch 80/200\n",
            "607500/607500 [==============================] - 18s 30us/step - loss: 1.9494 - acc: 0.9642 - val_loss: 1.7937 - val_acc: 0.9640\n",
            "Epoch 81/200\n",
            "607500/607500 [==============================] - 18s 30us/step - loss: 1.9499 - acc: 0.9639 - val_loss: 1.6731 - val_acc: 0.9679\n",
            "Epoch 82/200\n",
            "607500/607500 [==============================] - 18s 30us/step - loss: 1.9352 - acc: 0.9639 - val_loss: 1.7422 - val_acc: 0.9613\n",
            "Epoch 83/200\n",
            "607500/607500 [==============================] - 18s 30us/step - loss: 1.9254 - acc: 0.9640 - val_loss: 1.9620 - val_acc: 0.9637\n",
            "Epoch 84/200\n",
            "607500/607500 [==============================] - 18s 30us/step - loss: 1.9120 - acc: 0.9643 - val_loss: 1.8008 - val_acc: 0.9628\n",
            "Epoch 85/200\n",
            "607500/607500 [==============================] - 19s 32us/step - loss: 1.8805 - acc: 0.9643 - val_loss: 1.8675 - val_acc: 0.9614\n",
            "Epoch 86/200\n",
            "607500/607500 [==============================] - 18s 30us/step - loss: 1.8834 - acc: 0.9644 - val_loss: 1.6976 - val_acc: 0.9721\n",
            "Epoch 87/200\n",
            "607500/607500 [==============================] - 19s 31us/step - loss: 1.8672 - acc: 0.9646 - val_loss: 1.6256 - val_acc: 0.9531\n",
            "Epoch 88/200\n",
            "607500/607500 [==============================] - 19s 31us/step - loss: 1.8649 - acc: 0.9646 - val_loss: 1.6514 - val_acc: 0.9496\n",
            "Epoch 89/200\n",
            "607500/607500 [==============================] - 18s 30us/step - loss: 1.8447 - acc: 0.9644 - val_loss: 1.6333 - val_acc: 0.9670\n",
            "Epoch 90/200\n",
            "607500/607500 [==============================] - 19s 31us/step - loss: 1.8364 - acc: 0.9643 - val_loss: 1.8980 - val_acc: 0.9534\n",
            "Epoch 91/200\n",
            "607500/607500 [==============================] - 19s 31us/step - loss: 1.8213 - acc: 0.9643 - val_loss: 1.6768 - val_acc: 0.9693\n",
            "Epoch 92/200\n",
            "607500/607500 [==============================] - 18s 30us/step - loss: 1.8339 - acc: 0.9644 - val_loss: 1.8694 - val_acc: 0.9608\n",
            "Epoch 93/200\n",
            "607500/607500 [==============================] - 19s 31us/step - loss: 1.8087 - acc: 0.9644 - val_loss: 1.8289 - val_acc: 0.9656\n",
            "Epoch 94/200\n",
            "607500/607500 [==============================] - 19s 30us/step - loss: 1.8131 - acc: 0.9645 - val_loss: 1.8577 - val_acc: 0.9538\n",
            "Epoch 95/200\n",
            "607500/607500 [==============================] - 19s 31us/step - loss: 1.7826 - acc: 0.9644 - val_loss: 1.6939 - val_acc: 0.9594\n",
            "Epoch 96/200\n",
            "607500/607500 [==============================] - 19s 31us/step - loss: 1.7753 - acc: 0.9648 - val_loss: 1.7222 - val_acc: 0.9646\n",
            "Epoch 97/200\n",
            "607500/607500 [==============================] - 18s 30us/step - loss: 1.7849 - acc: 0.9643 - val_loss: 1.6312 - val_acc: 0.9698\n",
            "Epoch 98/200\n",
            "607500/607500 [==============================] - 19s 31us/step - loss: 1.7674 - acc: 0.9646 - val_loss: 1.7926 - val_acc: 0.9686\n",
            "Epoch 99/200\n",
            "607500/607500 [==============================] - 19s 30us/step - loss: 1.7614 - acc: 0.9645 - val_loss: 1.7238 - val_acc: 0.9633\n",
            "Epoch 100/200\n",
            "607500/607500 [==============================] - 19s 30us/step - loss: 1.7480 - acc: 0.9646 - val_loss: 1.7401 - val_acc: 0.9581\n",
            "Epoch 101/200\n",
            "607500/607500 [==============================] - 19s 31us/step - loss: 1.7468 - acc: 0.9647 - val_loss: 1.6117 - val_acc: 0.9676\n",
            "Epoch 102/200\n",
            "607500/607500 [==============================] - 18s 30us/step - loss: 1.7217 - acc: 0.9648 - val_loss: 1.5215 - val_acc: 0.9648\n",
            "Epoch 103/200\n",
            "607500/607500 [==============================] - 18s 30us/step - loss: 1.7362 - acc: 0.9647 - val_loss: 1.6323 - val_acc: 0.9640\n",
            "Epoch 104/200\n",
            "607500/607500 [==============================] - 19s 31us/step - loss: 1.7247 - acc: 0.9649 - val_loss: 1.6606 - val_acc: 0.9567\n",
            "Epoch 105/200\n",
            "607500/607500 [==============================] - 18s 30us/step - loss: 1.7083 - acc: 0.9647 - val_loss: 1.7224 - val_acc: 0.9608\n",
            "Epoch 106/200\n",
            "607500/607500 [==============================] - 18s 30us/step - loss: 1.7104 - acc: 0.9647 - val_loss: 1.6993 - val_acc: 0.9574\n",
            "Epoch 107/200\n",
            "607500/607500 [==============================] - 18s 30us/step - loss: 1.6930 - acc: 0.9649 - val_loss: 1.6121 - val_acc: 0.9694\n",
            "Epoch 108/200\n",
            "607500/607500 [==============================] - 18s 30us/step - loss: 1.6935 - acc: 0.9653 - val_loss: 1.5185 - val_acc: 0.9572\n",
            "Epoch 109/200\n",
            "607500/607500 [==============================] - 19s 30us/step - loss: 1.6826 - acc: 0.9651 - val_loss: 1.6548 - val_acc: 0.9672\n",
            "Epoch 110/200\n",
            "607500/607500 [==============================] - 18s 30us/step - loss: 1.6751 - acc: 0.9647 - val_loss: 1.7315 - val_acc: 0.9594\n",
            "Epoch 111/200\n",
            "607500/607500 [==============================] - 19s 31us/step - loss: 1.6599 - acc: 0.9651 - val_loss: 1.6511 - val_acc: 0.9584\n",
            "Epoch 112/200\n",
            "607500/607500 [==============================] - 18s 30us/step - loss: 1.6743 - acc: 0.9647 - val_loss: 1.3792 - val_acc: 0.9654\n",
            "Epoch 113/200\n",
            "607500/607500 [==============================] - 18s 30us/step - loss: 1.6555 - acc: 0.9651 - val_loss: 1.4570 - val_acc: 0.9638\n",
            "Epoch 114/200\n",
            "607500/607500 [==============================] - 19s 31us/step - loss: 1.6550 - acc: 0.9648 - val_loss: 1.6876 - val_acc: 0.9637\n",
            "Epoch 115/200\n",
            "607500/607500 [==============================] - 18s 30us/step - loss: 1.6359 - acc: 0.9646 - val_loss: 1.5029 - val_acc: 0.9684\n",
            "Epoch 116/200\n",
            "607500/607500 [==============================] - 18s 30us/step - loss: 1.6412 - acc: 0.9652 - val_loss: 1.4162 - val_acc: 0.9664\n",
            "Epoch 117/200\n",
            "607500/607500 [==============================] - 19s 31us/step - loss: 1.6430 - acc: 0.9651 - val_loss: 1.5657 - val_acc: 0.9715\n",
            "Epoch 118/200\n",
            "607500/607500 [==============================] - 19s 31us/step - loss: 1.6259 - acc: 0.9649 - val_loss: 1.6498 - val_acc: 0.9643\n",
            "Epoch 119/200\n",
            "607500/607500 [==============================] - 18s 30us/step - loss: 1.6289 - acc: 0.9651 - val_loss: 1.5753 - val_acc: 0.9623\n",
            "Epoch 120/200\n",
            "607500/607500 [==============================] - 18s 30us/step - loss: 1.6045 - acc: 0.9651 - val_loss: 1.4762 - val_acc: 0.9610\n",
            "Epoch 121/200\n",
            "607500/607500 [==============================] - 18s 30us/step - loss: 1.6083 - acc: 0.9656 - val_loss: 1.4549 - val_acc: 0.9589\n",
            "Epoch 122/200\n",
            "607500/607500 [==============================] - 18s 30us/step - loss: 1.6174 - acc: 0.9652 - val_loss: 1.3709 - val_acc: 0.9680\n",
            "Epoch 123/200\n",
            "607500/607500 [==============================] - 18s 30us/step - loss: 1.5989 - acc: 0.9650 - val_loss: 1.6402 - val_acc: 0.9655\n",
            "Epoch 124/200\n",
            "607500/607500 [==============================] - 19s 31us/step - loss: 1.5899 - acc: 0.9648 - val_loss: 1.3243 - val_acc: 0.9639\n",
            "Epoch 125/200\n",
            "607500/607500 [==============================] - 18s 30us/step - loss: 1.5766 - acc: 0.9651 - val_loss: 1.4766 - val_acc: 0.9605\n",
            "Epoch 126/200\n",
            "607500/607500 [==============================] - 18s 30us/step - loss: 1.5861 - acc: 0.9648 - val_loss: 1.5250 - val_acc: 0.9604\n",
            "Epoch 127/200\n",
            "607500/607500 [==============================] - 18s 30us/step - loss: 1.5741 - acc: 0.9650 - val_loss: 1.4502 - val_acc: 0.9760\n",
            "Epoch 128/200\n",
            "607500/607500 [==============================] - 19s 31us/step - loss: 1.5813 - acc: 0.9654 - val_loss: 1.4719 - val_acc: 0.9696\n",
            "Epoch 129/200\n",
            "607500/607500 [==============================] - 18s 30us/step - loss: 1.5576 - acc: 0.9652 - val_loss: 1.3889 - val_acc: 0.9637\n",
            "Epoch 130/200\n",
            "607500/607500 [==============================] - 19s 31us/step - loss: 1.5590 - acc: 0.9649 - val_loss: 1.7320 - val_acc: 0.9628\n",
            "Epoch 131/200\n",
            "607500/607500 [==============================] - 19s 31us/step - loss: 1.5600 - acc: 0.9649 - val_loss: 1.5669 - val_acc: 0.9714\n",
            "Epoch 132/200\n",
            "607500/607500 [==============================] - 18s 30us/step - loss: 1.5532 - acc: 0.9653 - val_loss: 1.6412 - val_acc: 0.9606\n",
            "Epoch 133/200\n",
            "607500/607500 [==============================] - 19s 30us/step - loss: 1.5414 - acc: 0.9655 - val_loss: 1.6378 - val_acc: 0.9570\n",
            "Epoch 134/200\n",
            "607500/607500 [==============================] - 18s 30us/step - loss: 1.5347 - acc: 0.9650 - val_loss: 1.3861 - val_acc: 0.9655\n",
            "Epoch 135/200\n",
            "607500/607500 [==============================] - 19s 31us/step - loss: 1.5419 - acc: 0.9648 - val_loss: 1.4497 - val_acc: 0.9658\n",
            "Epoch 136/200\n",
            "607500/607500 [==============================] - 18s 30us/step - loss: 1.5337 - acc: 0.9648 - val_loss: 1.3732 - val_acc: 0.9530\n",
            "Epoch 137/200\n",
            "607500/607500 [==============================] - 19s 30us/step - loss: 1.5150 - acc: 0.9653 - val_loss: 1.3383 - val_acc: 0.9596\n",
            "Epoch 138/200\n",
            "607500/607500 [==============================] - 18s 30us/step - loss: 1.5211 - acc: 0.9652 - val_loss: 1.4484 - val_acc: 0.9653\n",
            "Epoch 139/200\n",
            "607500/607500 [==============================] - 18s 30us/step - loss: 1.5165 - acc: 0.9651 - val_loss: 1.4594 - val_acc: 0.9670\n",
            "Epoch 140/200\n",
            "607500/607500 [==============================] - 19s 31us/step - loss: 1.5005 - acc: 0.9654 - val_loss: 1.3939 - val_acc: 0.9577\n",
            "Epoch 141/200\n",
            "607500/607500 [==============================] - 18s 30us/step - loss: 1.5017 - acc: 0.9652 - val_loss: 1.3850 - val_acc: 0.9647\n",
            "Epoch 142/200\n",
            "607500/607500 [==============================] - 18s 30us/step - loss: 1.4975 - acc: 0.9656 - val_loss: 1.3583 - val_acc: 0.9718\n",
            "Epoch 143/200\n",
            "607500/607500 [==============================] - 18s 30us/step - loss: 1.4913 - acc: 0.9654 - val_loss: 1.4861 - val_acc: 0.9776\n",
            "Epoch 144/200\n",
            "607500/607500 [==============================] - 18s 30us/step - loss: 1.4975 - acc: 0.9651 - val_loss: 1.3687 - val_acc: 0.9683\n",
            "Epoch 145/200\n",
            "607500/607500 [==============================] - 18s 30us/step - loss: 1.4805 - acc: 0.9654 - val_loss: 1.5657 - val_acc: 0.9792\n",
            "Epoch 146/200\n",
            "607500/607500 [==============================] - 18s 30us/step - loss: 1.4875 - acc: 0.9653 - val_loss: 1.3987 - val_acc: 0.9563\n",
            "Epoch 147/200\n",
            "607500/607500 [==============================] - 18s 30us/step - loss: 1.4777 - acc: 0.9655 - val_loss: 1.3677 - val_acc: 0.9686\n",
            "Epoch 148/200\n",
            "607500/607500 [==============================] - 18s 30us/step - loss: 1.4771 - acc: 0.9652 - val_loss: 1.2805 - val_acc: 0.9623\n",
            "Epoch 149/200\n",
            "607500/607500 [==============================] - 18s 30us/step - loss: 1.4780 - acc: 0.9654 - val_loss: 1.1520 - val_acc: 0.9678\n",
            "Epoch 150/200\n",
            "607500/607500 [==============================] - 19s 31us/step - loss: 1.4628 - acc: 0.9655 - val_loss: 1.4436 - val_acc: 0.9662\n",
            "Epoch 151/200\n",
            "607500/607500 [==============================] - 18s 30us/step - loss: 1.4720 - acc: 0.9653 - val_loss: 1.3301 - val_acc: 0.9648\n",
            "Epoch 152/200\n",
            "607500/607500 [==============================] - 19s 31us/step - loss: 1.4633 - acc: 0.9653 - val_loss: 1.3019 - val_acc: 0.9631\n",
            "Epoch 153/200\n",
            "607500/607500 [==============================] - 18s 30us/step - loss: 1.4467 - acc: 0.9652 - val_loss: 1.3214 - val_acc: 0.9680\n",
            "Epoch 154/200\n",
            "607500/607500 [==============================] - 18s 30us/step - loss: 1.4661 - acc: 0.9656 - val_loss: 1.3445 - val_acc: 0.9741\n",
            "Epoch 155/200\n",
            "607500/607500 [==============================] - 18s 30us/step - loss: 1.4387 - acc: 0.9656 - val_loss: 1.3807 - val_acc: 0.9628\n",
            "Epoch 156/200\n",
            "607500/607500 [==============================] - 18s 30us/step - loss: 1.4491 - acc: 0.9655 - val_loss: 1.3502 - val_acc: 0.9632\n",
            "Epoch 157/200\n",
            "607500/607500 [==============================] - 18s 30us/step - loss: 1.4447 - acc: 0.9656 - val_loss: 1.2903 - val_acc: 0.9605\n",
            "Epoch 158/200\n",
            "607500/607500 [==============================] - 19s 30us/step - loss: 1.4367 - acc: 0.9654 - val_loss: 1.3245 - val_acc: 0.9721\n",
            "Epoch 159/200\n",
            "607500/607500 [==============================] - 18s 30us/step - loss: 1.4269 - acc: 0.9656 - val_loss: 1.3399 - val_acc: 0.9649\n",
            "Epoch 160/200\n",
            "607500/607500 [==============================] - 19s 30us/step - loss: 1.4389 - acc: 0.9655 - val_loss: 1.2176 - val_acc: 0.9655\n",
            "Epoch 161/200\n",
            "607500/607500 [==============================] - 19s 31us/step - loss: 1.4239 - acc: 0.9656 - val_loss: 1.2364 - val_acc: 0.9661\n",
            "Epoch 162/200\n",
            "607500/607500 [==============================] - 18s 30us/step - loss: 1.4208 - acc: 0.9655 - val_loss: 1.2363 - val_acc: 0.9632\n",
            "Epoch 163/200\n",
            "607500/607500 [==============================] - 19s 31us/step - loss: 1.4166 - acc: 0.9657 - val_loss: 1.3183 - val_acc: 0.9638\n",
            "Epoch 164/200\n",
            "607500/607500 [==============================] - 18s 30us/step - loss: 1.4284 - acc: 0.9657 - val_loss: 1.3078 - val_acc: 0.9680\n",
            "Epoch 165/200\n",
            "607500/607500 [==============================] - 18s 30us/step - loss: 1.4090 - acc: 0.9655 - val_loss: 1.2607 - val_acc: 0.9679\n",
            "Epoch 166/200\n",
            "607500/607500 [==============================] - 19s 31us/step - loss: 1.4156 - acc: 0.9653 - val_loss: 1.2919 - val_acc: 0.9696\n",
            "Epoch 167/200\n",
            "607500/607500 [==============================] - 18s 30us/step - loss: 1.3958 - acc: 0.9656 - val_loss: 1.3026 - val_acc: 0.9650\n",
            "Epoch 168/200\n",
            "607500/607500 [==============================] - 18s 30us/step - loss: 1.4017 - acc: 0.9658 - val_loss: 1.1552 - val_acc: 0.9646\n",
            "Epoch 169/200\n",
            "607500/607500 [==============================] - 19s 31us/step - loss: 1.3944 - acc: 0.9653 - val_loss: 1.3180 - val_acc: 0.9673\n",
            "Epoch 170/200\n",
            "607500/607500 [==============================] - 19s 31us/step - loss: 1.3922 - acc: 0.9654 - val_loss: 1.3194 - val_acc: 0.9689\n",
            "Epoch 171/200\n",
            "607500/607500 [==============================] - 18s 30us/step - loss: 1.3957 - acc: 0.9656 - val_loss: 1.3013 - val_acc: 0.9620\n",
            "Epoch 172/200\n",
            "607500/607500 [==============================] - 18s 30us/step - loss: 1.3815 - acc: 0.9655 - val_loss: 1.3950 - val_acc: 0.9603\n",
            "Epoch 173/200\n",
            "607500/607500 [==============================] - 19s 31us/step - loss: 1.3941 - acc: 0.9661 - val_loss: 1.2892 - val_acc: 0.9601\n",
            "Epoch 174/200\n",
            "607500/607500 [==============================] - 19s 31us/step - loss: 1.3818 - acc: 0.9656 - val_loss: 1.2478 - val_acc: 0.9679\n",
            "Epoch 175/200\n",
            "607500/607500 [==============================] - 19s 31us/step - loss: 1.3866 - acc: 0.9655 - val_loss: 1.2293 - val_acc: 0.9633\n",
            "Epoch 176/200\n",
            "607500/607500 [==============================] - 19s 31us/step - loss: 1.3811 - acc: 0.9655 - val_loss: 1.2320 - val_acc: 0.9715\n",
            "Epoch 177/200\n",
            "607500/607500 [==============================] - 18s 30us/step - loss: 1.3791 - acc: 0.9655 - val_loss: 1.3885 - val_acc: 0.9605\n",
            "Epoch 178/200\n",
            "607500/607500 [==============================] - 19s 31us/step - loss: 1.3856 - acc: 0.9654 - val_loss: 1.2141 - val_acc: 0.9669\n",
            "Epoch 179/200\n",
            "607500/607500 [==============================] - 19s 31us/step - loss: 1.3696 - acc: 0.9657 - val_loss: 1.2834 - val_acc: 0.9638\n",
            "Epoch 180/200\n",
            "607500/607500 [==============================] - 18s 30us/step - loss: 1.3583 - acc: 0.9658 - val_loss: 1.2471 - val_acc: 0.9590\n",
            "Epoch 181/200\n",
            "607500/607500 [==============================] - 18s 30us/step - loss: 1.3598 - acc: 0.9654 - val_loss: 1.3920 - val_acc: 0.9678\n",
            "Epoch 182/200\n",
            "607500/607500 [==============================] - 18s 30us/step - loss: 1.3688 - acc: 0.9653 - val_loss: 1.1902 - val_acc: 0.9616\n",
            "Epoch 183/200\n",
            "607500/607500 [==============================] - 19s 31us/step - loss: 1.3565 - acc: 0.9656 - val_loss: 1.1938 - val_acc: 0.9629\n",
            "Epoch 184/200\n",
            "607500/607500 [==============================] - 18s 30us/step - loss: 1.3594 - acc: 0.9658 - val_loss: 1.3281 - val_acc: 0.9551\n",
            "Epoch 185/200\n",
            "607500/607500 [==============================] - 19s 31us/step - loss: 1.3539 - acc: 0.9657 - val_loss: 1.3241 - val_acc: 0.9727\n",
            "Epoch 186/200\n",
            "607500/607500 [==============================] - 19s 31us/step - loss: 1.3410 - acc: 0.9657 - val_loss: 1.2973 - val_acc: 0.9713\n",
            "Epoch 187/200\n",
            "607500/607500 [==============================] - 18s 30us/step - loss: 1.3498 - acc: 0.9656 - val_loss: 1.2391 - val_acc: 0.9614\n",
            "Epoch 188/200\n",
            "607500/607500 [==============================] - 18s 30us/step - loss: 1.3389 - acc: 0.9655 - val_loss: 1.2574 - val_acc: 0.9630\n",
            "Epoch 189/200\n",
            "607500/607500 [==============================] - 19s 31us/step - loss: 1.3549 - acc: 0.9657 - val_loss: 1.3096 - val_acc: 0.9653\n",
            "Epoch 190/200\n",
            "607500/607500 [==============================] - 18s 30us/step - loss: 1.3536 - acc: 0.9656 - val_loss: 1.2371 - val_acc: 0.9737\n",
            "Epoch 191/200\n",
            "607500/607500 [==============================] - 18s 30us/step - loss: 1.3348 - acc: 0.9656 - val_loss: 1.2425 - val_acc: 0.9597\n",
            "Epoch 192/200\n",
            "607500/607500 [==============================] - 19s 31us/step - loss: 1.3337 - acc: 0.9657 - val_loss: 1.3879 - val_acc: 0.9575\n",
            "Epoch 193/200\n",
            "607500/607500 [==============================] - 18s 30us/step - loss: 1.3362 - acc: 0.9656 - val_loss: 1.3467 - val_acc: 0.9680\n",
            "Epoch 194/200\n",
            "607500/607500 [==============================] - 18s 30us/step - loss: 1.3236 - acc: 0.9658 - val_loss: 1.5820 - val_acc: 0.9679\n",
            "Epoch 195/200\n",
            "607500/607500 [==============================] - 18s 30us/step - loss: 1.3294 - acc: 0.9657 - val_loss: 1.1269 - val_acc: 0.9654\n",
            "Epoch 196/200\n",
            "607500/607500 [==============================] - 19s 31us/step - loss: 1.3310 - acc: 0.9661 - val_loss: 1.2266 - val_acc: 0.9690\n",
            "Epoch 197/200\n",
            "607500/607500 [==============================] - 18s 30us/step - loss: 1.3275 - acc: 0.9656 - val_loss: 1.2357 - val_acc: 0.9564\n",
            "Epoch 198/200\n",
            "607500/607500 [==============================] - 18s 30us/step - loss: 1.3290 - acc: 0.9657 - val_loss: 1.1214 - val_acc: 0.9747\n",
            "Epoch 199/200\n",
            "607500/607500 [==============================] - 19s 31us/step - loss: 1.3148 - acc: 0.9658 - val_loss: 1.1876 - val_acc: 0.9697\n",
            "Epoch 200/200\n",
            "607500/607500 [==============================] - 18s 30us/step - loss: 1.3078 - acc: 0.9656 - val_loss: 1.2859 - val_acc: 0.9672\n"
          ],
          "name": "stdout"
        }
      ]
    },
    {
      "cell_type": "code",
      "metadata": {
        "id": "hsfen6zmofgX",
        "colab_type": "code",
        "colab": {
          "base_uri": "https://localhost:8080/",
          "height": 1000
        },
        "outputId": "d32c7fbf-2c38-4a25-fcb1-397581857ce2"
      },
      "source": [
        "# 모델 아키텍처\n",
        "\n",
        "from IPython.display import SVG\n",
        "from keras.utils.vis_utils import model_to_dot\n",
        "\n",
        "%matplotlib inline\n",
        "\n",
        "SVG(model_to_dot(model, show_shapes=True).create(prog='dot', format='svg'))"
      ],
      "execution_count": 12,
      "outputs": [
        {
          "output_type": "execute_result",
          "data": {
            "text/plain": [
              "<IPython.core.display.SVG object>"
            ],
            "image/svg+xml": "<svg height=\"2397pt\" viewBox=\"0.00 0.00 424.00 1798.00\" width=\"565pt\" xmlns=\"http://www.w3.org/2000/svg\" xmlns:xlink=\"http://www.w3.org/1999/xlink\">\n<g class=\"graph\" id=\"graph0\" transform=\"scale(1.3333 1.3333) rotate(0) translate(4 1794)\">\n<title>G</title>\n<polygon fill=\"#ffffff\" points=\"-4,4 -4,-1794 420,-1794 420,4 -4,4\" stroke=\"transparent\"/>\n<!-- 140246506833904 -->\n<g class=\"node\" id=\"node1\">\n<title>140246506833904</title>\n<polygon fill=\"none\" points=\"49,-1743.5 49,-1789.5 367,-1789.5 367,-1743.5 49,-1743.5\" stroke=\"#000000\"/>\n<text fill=\"#000000\" font-family=\"Times,serif\" font-size=\"14.00\" text-anchor=\"middle\" x=\"135.5\" y=\"-1762.8\">dense_1_input: InputLayer</text>\n<polyline fill=\"none\" points=\"222,-1743.5 222,-1789.5 \" stroke=\"#000000\"/>\n<text fill=\"#000000\" font-family=\"Times,serif\" font-size=\"14.00\" text-anchor=\"middle\" x=\"251\" y=\"-1774.3\">input:</text>\n<polyline fill=\"none\" points=\"222,-1766.5 280,-1766.5 \" stroke=\"#000000\"/>\n<text fill=\"#000000\" font-family=\"Times,serif\" font-size=\"14.00\" text-anchor=\"middle\" x=\"251\" y=\"-1751.3\">output:</text>\n<polyline fill=\"none\" points=\"280,-1743.5 280,-1789.5 \" stroke=\"#000000\"/>\n<text fill=\"#000000\" font-family=\"Times,serif\" font-size=\"14.00\" text-anchor=\"middle\" x=\"323.5\" y=\"-1774.3\">(None, 226)</text>\n<polyline fill=\"none\" points=\"280,-1766.5 367,-1766.5 \" stroke=\"#000000\"/>\n<text fill=\"#000000\" font-family=\"Times,serif\" font-size=\"14.00\" text-anchor=\"middle\" x=\"323.5\" y=\"-1751.3\">(None, 226)</text>\n</g>\n<!-- 140246510591840 -->\n<g class=\"node\" id=\"node2\">\n<title>140246510591840</title>\n<polygon fill=\"none\" points=\"82,-1660.5 82,-1706.5 334,-1706.5 334,-1660.5 82,-1660.5\" stroke=\"#000000\"/>\n<text fill=\"#000000\" font-family=\"Times,serif\" font-size=\"14.00\" text-anchor=\"middle\" x=\"135.5\" y=\"-1679.8\">dense_1: Dense</text>\n<polyline fill=\"none\" points=\"189,-1660.5 189,-1706.5 \" stroke=\"#000000\"/>\n<text fill=\"#000000\" font-family=\"Times,serif\" font-size=\"14.00\" text-anchor=\"middle\" x=\"218\" y=\"-1691.3\">input:</text>\n<polyline fill=\"none\" points=\"189,-1683.5 247,-1683.5 \" stroke=\"#000000\"/>\n<text fill=\"#000000\" font-family=\"Times,serif\" font-size=\"14.00\" text-anchor=\"middle\" x=\"218\" y=\"-1668.3\">output:</text>\n<polyline fill=\"none\" points=\"247,-1660.5 247,-1706.5 \" stroke=\"#000000\"/>\n<text fill=\"#000000\" font-family=\"Times,serif\" font-size=\"14.00\" text-anchor=\"middle\" x=\"290.5\" y=\"-1691.3\">(None, 226)</text>\n<polyline fill=\"none\" points=\"247,-1683.5 334,-1683.5 \" stroke=\"#000000\"/>\n<text fill=\"#000000\" font-family=\"Times,serif\" font-size=\"14.00\" text-anchor=\"middle\" x=\"290.5\" y=\"-1668.3\">(None, 800)</text>\n</g>\n<!-- 140246506833904&#45;&gt;140246510591840 -->\n<g class=\"edge\" id=\"edge1\">\n<title>140246506833904-&gt;140246510591840</title>\n<path d=\"M208,-1743.3799C208,-1735.1745 208,-1725.7679 208,-1716.8786\" fill=\"none\" stroke=\"#000000\"/>\n<polygon fill=\"#000000\" points=\"211.5001,-1716.784 208,-1706.784 204.5001,-1716.784 211.5001,-1716.784\" stroke=\"#000000\"/>\n</g>\n<!-- 140246506832336 -->\n<g class=\"node\" id=\"node3\">\n<title>140246506832336</title>\n<polygon fill=\"none\" points=\"82,-1577.5 82,-1623.5 334,-1623.5 334,-1577.5 82,-1577.5\" stroke=\"#000000\"/>\n<text fill=\"#000000\" font-family=\"Times,serif\" font-size=\"14.00\" text-anchor=\"middle\" x=\"135.5\" y=\"-1596.8\">dense_2: Dense</text>\n<polyline fill=\"none\" points=\"189,-1577.5 189,-1623.5 \" stroke=\"#000000\"/>\n<text fill=\"#000000\" font-family=\"Times,serif\" font-size=\"14.00\" text-anchor=\"middle\" x=\"218\" y=\"-1608.3\">input:</text>\n<polyline fill=\"none\" points=\"189,-1600.5 247,-1600.5 \" stroke=\"#000000\"/>\n<text fill=\"#000000\" font-family=\"Times,serif\" font-size=\"14.00\" text-anchor=\"middle\" x=\"218\" y=\"-1585.3\">output:</text>\n<polyline fill=\"none\" points=\"247,-1577.5 247,-1623.5 \" stroke=\"#000000\"/>\n<text fill=\"#000000\" font-family=\"Times,serif\" font-size=\"14.00\" text-anchor=\"middle\" x=\"290.5\" y=\"-1608.3\">(None, 800)</text>\n<polyline fill=\"none\" points=\"247,-1600.5 334,-1600.5 \" stroke=\"#000000\"/>\n<text fill=\"#000000\" font-family=\"Times,serif\" font-size=\"14.00\" text-anchor=\"middle\" x=\"290.5\" y=\"-1585.3\">(None, 800)</text>\n</g>\n<!-- 140246510591840&#45;&gt;140246506832336 -->\n<g class=\"edge\" id=\"edge2\">\n<title>140246510591840-&gt;140246506832336</title>\n<path d=\"M208,-1660.3799C208,-1652.1745 208,-1642.7679 208,-1633.8786\" fill=\"none\" stroke=\"#000000\"/>\n<polygon fill=\"#000000\" points=\"211.5001,-1633.784 208,-1623.784 204.5001,-1633.784 211.5001,-1633.784\" stroke=\"#000000\"/>\n</g>\n<!-- 140246509085360 -->\n<g class=\"node\" id=\"node4\">\n<title>140246509085360</title>\n<polygon fill=\"none\" points=\"0,-1494.5 0,-1540.5 416,-1540.5 416,-1494.5 0,-1494.5\" stroke=\"#000000\"/>\n<text fill=\"#000000\" font-family=\"Times,serif\" font-size=\"14.00\" text-anchor=\"middle\" x=\"135.5\" y=\"-1513.8\">batch_normalization_1: BatchNormalization</text>\n<polyline fill=\"none\" points=\"271,-1494.5 271,-1540.5 \" stroke=\"#000000\"/>\n<text fill=\"#000000\" font-family=\"Times,serif\" font-size=\"14.00\" text-anchor=\"middle\" x=\"300\" y=\"-1525.3\">input:</text>\n<polyline fill=\"none\" points=\"271,-1517.5 329,-1517.5 \" stroke=\"#000000\"/>\n<text fill=\"#000000\" font-family=\"Times,serif\" font-size=\"14.00\" text-anchor=\"middle\" x=\"300\" y=\"-1502.3\">output:</text>\n<polyline fill=\"none\" points=\"329,-1494.5 329,-1540.5 \" stroke=\"#000000\"/>\n<text fill=\"#000000\" font-family=\"Times,serif\" font-size=\"14.00\" text-anchor=\"middle\" x=\"372.5\" y=\"-1525.3\">(None, 800)</text>\n<polyline fill=\"none\" points=\"329,-1517.5 416,-1517.5 \" stroke=\"#000000\"/>\n<text fill=\"#000000\" font-family=\"Times,serif\" font-size=\"14.00\" text-anchor=\"middle\" x=\"372.5\" y=\"-1502.3\">(None, 800)</text>\n</g>\n<!-- 140246506832336&#45;&gt;140246509085360 -->\n<g class=\"edge\" id=\"edge3\">\n<title>140246506832336-&gt;140246509085360</title>\n<path d=\"M208,-1577.3799C208,-1569.1745 208,-1559.7679 208,-1550.8786\" fill=\"none\" stroke=\"#000000\"/>\n<polygon fill=\"#000000\" points=\"211.5001,-1550.784 208,-1540.784 204.5001,-1550.784 211.5001,-1550.784\" stroke=\"#000000\"/>\n</g>\n<!-- 140246506832056 -->\n<g class=\"node\" id=\"node5\">\n<title>140246506832056</title>\n<polygon fill=\"none\" points=\"58.5,-1411.5 58.5,-1457.5 357.5,-1457.5 357.5,-1411.5 58.5,-1411.5\" stroke=\"#000000\"/>\n<text fill=\"#000000\" font-family=\"Times,serif\" font-size=\"14.00\" text-anchor=\"middle\" x=\"135.5\" y=\"-1430.8\">activation_1: Activation</text>\n<polyline fill=\"none\" points=\"212.5,-1411.5 212.5,-1457.5 \" stroke=\"#000000\"/>\n<text fill=\"#000000\" font-family=\"Times,serif\" font-size=\"14.00\" text-anchor=\"middle\" x=\"241.5\" y=\"-1442.3\">input:</text>\n<polyline fill=\"none\" points=\"212.5,-1434.5 270.5,-1434.5 \" stroke=\"#000000\"/>\n<text fill=\"#000000\" font-family=\"Times,serif\" font-size=\"14.00\" text-anchor=\"middle\" x=\"241.5\" y=\"-1419.3\">output:</text>\n<polyline fill=\"none\" points=\"270.5,-1411.5 270.5,-1457.5 \" stroke=\"#000000\"/>\n<text fill=\"#000000\" font-family=\"Times,serif\" font-size=\"14.00\" text-anchor=\"middle\" x=\"314\" y=\"-1442.3\">(None, 800)</text>\n<polyline fill=\"none\" points=\"270.5,-1434.5 357.5,-1434.5 \" stroke=\"#000000\"/>\n<text fill=\"#000000\" font-family=\"Times,serif\" font-size=\"14.00\" text-anchor=\"middle\" x=\"314\" y=\"-1419.3\">(None, 800)</text>\n</g>\n<!-- 140246509085360&#45;&gt;140246506832056 -->\n<g class=\"edge\" id=\"edge4\">\n<title>140246509085360-&gt;140246506832056</title>\n<path d=\"M208,-1494.3799C208,-1486.1745 208,-1476.7679 208,-1467.8786\" fill=\"none\" stroke=\"#000000\"/>\n<polygon fill=\"#000000\" points=\"211.5001,-1467.784 208,-1457.784 204.5001,-1467.784 211.5001,-1467.784\" stroke=\"#000000\"/>\n</g>\n<!-- 140246508032352 -->\n<g class=\"node\" id=\"node6\">\n<title>140246508032352</title>\n<polygon fill=\"none\" points=\"82,-1328.5 82,-1374.5 334,-1374.5 334,-1328.5 82,-1328.5\" stroke=\"#000000\"/>\n<text fill=\"#000000\" font-family=\"Times,serif\" font-size=\"14.00\" text-anchor=\"middle\" x=\"135.5\" y=\"-1347.8\">dense_3: Dense</text>\n<polyline fill=\"none\" points=\"189,-1328.5 189,-1374.5 \" stroke=\"#000000\"/>\n<text fill=\"#000000\" font-family=\"Times,serif\" font-size=\"14.00\" text-anchor=\"middle\" x=\"218\" y=\"-1359.3\">input:</text>\n<polyline fill=\"none\" points=\"189,-1351.5 247,-1351.5 \" stroke=\"#000000\"/>\n<text fill=\"#000000\" font-family=\"Times,serif\" font-size=\"14.00\" text-anchor=\"middle\" x=\"218\" y=\"-1336.3\">output:</text>\n<polyline fill=\"none\" points=\"247,-1328.5 247,-1374.5 \" stroke=\"#000000\"/>\n<text fill=\"#000000\" font-family=\"Times,serif\" font-size=\"14.00\" text-anchor=\"middle\" x=\"290.5\" y=\"-1359.3\">(None, 800)</text>\n<polyline fill=\"none\" points=\"247,-1351.5 334,-1351.5 \" stroke=\"#000000\"/>\n<text fill=\"#000000\" font-family=\"Times,serif\" font-size=\"14.00\" text-anchor=\"middle\" x=\"290.5\" y=\"-1336.3\">(None, 800)</text>\n</g>\n<!-- 140246506832056&#45;&gt;140246508032352 -->\n<g class=\"edge\" id=\"edge5\">\n<title>140246506832056-&gt;140246508032352</title>\n<path d=\"M208,-1411.3799C208,-1403.1745 208,-1393.7679 208,-1384.8786\" fill=\"none\" stroke=\"#000000\"/>\n<polygon fill=\"#000000\" points=\"211.5001,-1384.784 208,-1374.784 204.5001,-1384.784 211.5001,-1384.784\" stroke=\"#000000\"/>\n</g>\n<!-- 140246508085824 -->\n<g class=\"node\" id=\"node7\">\n<title>140246508085824</title>\n<polygon fill=\"none\" points=\"82,-1245.5 82,-1291.5 334,-1291.5 334,-1245.5 82,-1245.5\" stroke=\"#000000\"/>\n<text fill=\"#000000\" font-family=\"Times,serif\" font-size=\"14.00\" text-anchor=\"middle\" x=\"135.5\" y=\"-1264.8\">dense_4: Dense</text>\n<polyline fill=\"none\" points=\"189,-1245.5 189,-1291.5 \" stroke=\"#000000\"/>\n<text fill=\"#000000\" font-family=\"Times,serif\" font-size=\"14.00\" text-anchor=\"middle\" x=\"218\" y=\"-1276.3\">input:</text>\n<polyline fill=\"none\" points=\"189,-1268.5 247,-1268.5 \" stroke=\"#000000\"/>\n<text fill=\"#000000\" font-family=\"Times,serif\" font-size=\"14.00\" text-anchor=\"middle\" x=\"218\" y=\"-1253.3\">output:</text>\n<polyline fill=\"none\" points=\"247,-1245.5 247,-1291.5 \" stroke=\"#000000\"/>\n<text fill=\"#000000\" font-family=\"Times,serif\" font-size=\"14.00\" text-anchor=\"middle\" x=\"290.5\" y=\"-1276.3\">(None, 800)</text>\n<polyline fill=\"none\" points=\"247,-1268.5 334,-1268.5 \" stroke=\"#000000\"/>\n<text fill=\"#000000\" font-family=\"Times,serif\" font-size=\"14.00\" text-anchor=\"middle\" x=\"290.5\" y=\"-1253.3\">(None, 800)</text>\n</g>\n<!-- 140246508032352&#45;&gt;140246508085824 -->\n<g class=\"edge\" id=\"edge6\">\n<title>140246508032352-&gt;140246508085824</title>\n<path d=\"M208,-1328.3799C208,-1320.1745 208,-1310.7679 208,-1301.8786\" fill=\"none\" stroke=\"#000000\"/>\n<polygon fill=\"#000000\" points=\"211.5001,-1301.784 208,-1291.784 204.5001,-1301.784 211.5001,-1301.784\" stroke=\"#000000\"/>\n</g>\n<!-- 140246507906720 -->\n<g class=\"node\" id=\"node8\">\n<title>140246507906720</title>\n<polygon fill=\"none\" points=\"0,-1162.5 0,-1208.5 416,-1208.5 416,-1162.5 0,-1162.5\" stroke=\"#000000\"/>\n<text fill=\"#000000\" font-family=\"Times,serif\" font-size=\"14.00\" text-anchor=\"middle\" x=\"135.5\" y=\"-1181.8\">batch_normalization_2: BatchNormalization</text>\n<polyline fill=\"none\" points=\"271,-1162.5 271,-1208.5 \" stroke=\"#000000\"/>\n<text fill=\"#000000\" font-family=\"Times,serif\" font-size=\"14.00\" text-anchor=\"middle\" x=\"300\" y=\"-1193.3\">input:</text>\n<polyline fill=\"none\" points=\"271,-1185.5 329,-1185.5 \" stroke=\"#000000\"/>\n<text fill=\"#000000\" font-family=\"Times,serif\" font-size=\"14.00\" text-anchor=\"middle\" x=\"300\" y=\"-1170.3\">output:</text>\n<polyline fill=\"none\" points=\"329,-1162.5 329,-1208.5 \" stroke=\"#000000\"/>\n<text fill=\"#000000\" font-family=\"Times,serif\" font-size=\"14.00\" text-anchor=\"middle\" x=\"372.5\" y=\"-1193.3\">(None, 800)</text>\n<polyline fill=\"none\" points=\"329,-1185.5 416,-1185.5 \" stroke=\"#000000\"/>\n<text fill=\"#000000\" font-family=\"Times,serif\" font-size=\"14.00\" text-anchor=\"middle\" x=\"372.5\" y=\"-1170.3\">(None, 800)</text>\n</g>\n<!-- 140246508085824&#45;&gt;140246507906720 -->\n<g class=\"edge\" id=\"edge7\">\n<title>140246508085824-&gt;140246507906720</title>\n<path d=\"M208,-1245.3799C208,-1237.1745 208,-1227.7679 208,-1218.8786\" fill=\"none\" stroke=\"#000000\"/>\n<polygon fill=\"#000000\" points=\"211.5001,-1218.784 208,-1208.784 204.5001,-1218.784 211.5001,-1218.784\" stroke=\"#000000\"/>\n</g>\n<!-- 140246507986392 -->\n<g class=\"node\" id=\"node9\">\n<title>140246507986392</title>\n<polygon fill=\"none\" points=\"58.5,-1079.5 58.5,-1125.5 357.5,-1125.5 357.5,-1079.5 58.5,-1079.5\" stroke=\"#000000\"/>\n<text fill=\"#000000\" font-family=\"Times,serif\" font-size=\"14.00\" text-anchor=\"middle\" x=\"135.5\" y=\"-1098.8\">activation_2: Activation</text>\n<polyline fill=\"none\" points=\"212.5,-1079.5 212.5,-1125.5 \" stroke=\"#000000\"/>\n<text fill=\"#000000\" font-family=\"Times,serif\" font-size=\"14.00\" text-anchor=\"middle\" x=\"241.5\" y=\"-1110.3\">input:</text>\n<polyline fill=\"none\" points=\"212.5,-1102.5 270.5,-1102.5 \" stroke=\"#000000\"/>\n<text fill=\"#000000\" font-family=\"Times,serif\" font-size=\"14.00\" text-anchor=\"middle\" x=\"241.5\" y=\"-1087.3\">output:</text>\n<polyline fill=\"none\" points=\"270.5,-1079.5 270.5,-1125.5 \" stroke=\"#000000\"/>\n<text fill=\"#000000\" font-family=\"Times,serif\" font-size=\"14.00\" text-anchor=\"middle\" x=\"314\" y=\"-1110.3\">(None, 800)</text>\n<polyline fill=\"none\" points=\"270.5,-1102.5 357.5,-1102.5 \" stroke=\"#000000\"/>\n<text fill=\"#000000\" font-family=\"Times,serif\" font-size=\"14.00\" text-anchor=\"middle\" x=\"314\" y=\"-1087.3\">(None, 800)</text>\n</g>\n<!-- 140246507906720&#45;&gt;140246507986392 -->\n<g class=\"edge\" id=\"edge8\">\n<title>140246507906720-&gt;140246507986392</title>\n<path d=\"M208,-1162.3799C208,-1154.1745 208,-1144.7679 208,-1135.8786\" fill=\"none\" stroke=\"#000000\"/>\n<polygon fill=\"#000000\" points=\"211.5001,-1135.784 208,-1125.784 204.5001,-1135.784 211.5001,-1135.784\" stroke=\"#000000\"/>\n</g>\n<!-- 140246508963096 -->\n<g class=\"node\" id=\"node10\">\n<title>140246508963096</title>\n<polygon fill=\"none\" points=\"82,-996.5 82,-1042.5 334,-1042.5 334,-996.5 82,-996.5\" stroke=\"#000000\"/>\n<text fill=\"#000000\" font-family=\"Times,serif\" font-size=\"14.00\" text-anchor=\"middle\" x=\"135.5\" y=\"-1015.8\">dense_5: Dense</text>\n<polyline fill=\"none\" points=\"189,-996.5 189,-1042.5 \" stroke=\"#000000\"/>\n<text fill=\"#000000\" font-family=\"Times,serif\" font-size=\"14.00\" text-anchor=\"middle\" x=\"218\" y=\"-1027.3\">input:</text>\n<polyline fill=\"none\" points=\"189,-1019.5 247,-1019.5 \" stroke=\"#000000\"/>\n<text fill=\"#000000\" font-family=\"Times,serif\" font-size=\"14.00\" text-anchor=\"middle\" x=\"218\" y=\"-1004.3\">output:</text>\n<polyline fill=\"none\" points=\"247,-996.5 247,-1042.5 \" stroke=\"#000000\"/>\n<text fill=\"#000000\" font-family=\"Times,serif\" font-size=\"14.00\" text-anchor=\"middle\" x=\"290.5\" y=\"-1027.3\">(None, 800)</text>\n<polyline fill=\"none\" points=\"247,-1019.5 334,-1019.5 \" stroke=\"#000000\"/>\n<text fill=\"#000000\" font-family=\"Times,serif\" font-size=\"14.00\" text-anchor=\"middle\" x=\"290.5\" y=\"-1004.3\">(None, 800)</text>\n</g>\n<!-- 140246507986392&#45;&gt;140246508963096 -->\n<g class=\"edge\" id=\"edge9\">\n<title>140246507986392-&gt;140246508963096</title>\n<path d=\"M208,-1079.3799C208,-1071.1745 208,-1061.7679 208,-1052.8786\" fill=\"none\" stroke=\"#000000\"/>\n<polygon fill=\"#000000\" points=\"211.5001,-1052.784 208,-1042.784 204.5001,-1052.784 211.5001,-1052.784\" stroke=\"#000000\"/>\n</g>\n<!-- 140246507470184 -->\n<g class=\"node\" id=\"node11\">\n<title>140246507470184</title>\n<polygon fill=\"none\" points=\"82,-913.5 82,-959.5 334,-959.5 334,-913.5 82,-913.5\" stroke=\"#000000\"/>\n<text fill=\"#000000\" font-family=\"Times,serif\" font-size=\"14.00\" text-anchor=\"middle\" x=\"135.5\" y=\"-932.8\">dense_6: Dense</text>\n<polyline fill=\"none\" points=\"189,-913.5 189,-959.5 \" stroke=\"#000000\"/>\n<text fill=\"#000000\" font-family=\"Times,serif\" font-size=\"14.00\" text-anchor=\"middle\" x=\"218\" y=\"-944.3\">input:</text>\n<polyline fill=\"none\" points=\"189,-936.5 247,-936.5 \" stroke=\"#000000\"/>\n<text fill=\"#000000\" font-family=\"Times,serif\" font-size=\"14.00\" text-anchor=\"middle\" x=\"218\" y=\"-921.3\">output:</text>\n<polyline fill=\"none\" points=\"247,-913.5 247,-959.5 \" stroke=\"#000000\"/>\n<text fill=\"#000000\" font-family=\"Times,serif\" font-size=\"14.00\" text-anchor=\"middle\" x=\"290.5\" y=\"-944.3\">(None, 800)</text>\n<polyline fill=\"none\" points=\"247,-936.5 334,-936.5 \" stroke=\"#000000\"/>\n<text fill=\"#000000\" font-family=\"Times,serif\" font-size=\"14.00\" text-anchor=\"middle\" x=\"290.5\" y=\"-921.3\">(None, 800)</text>\n</g>\n<!-- 140246508963096&#45;&gt;140246507470184 -->\n<g class=\"edge\" id=\"edge10\">\n<title>140246508963096-&gt;140246507470184</title>\n<path d=\"M208,-996.3799C208,-988.1745 208,-978.7679 208,-969.8786\" fill=\"none\" stroke=\"#000000\"/>\n<polygon fill=\"#000000\" points=\"211.5001,-969.784 208,-959.784 204.5001,-969.784 211.5001,-969.784\" stroke=\"#000000\"/>\n</g>\n<!-- 140246510221072 -->\n<g class=\"node\" id=\"node12\">\n<title>140246510221072</title>\n<polygon fill=\"none\" points=\"0,-830.5 0,-876.5 416,-876.5 416,-830.5 0,-830.5\" stroke=\"#000000\"/>\n<text fill=\"#000000\" font-family=\"Times,serif\" font-size=\"14.00\" text-anchor=\"middle\" x=\"135.5\" y=\"-849.8\">batch_normalization_3: BatchNormalization</text>\n<polyline fill=\"none\" points=\"271,-830.5 271,-876.5 \" stroke=\"#000000\"/>\n<text fill=\"#000000\" font-family=\"Times,serif\" font-size=\"14.00\" text-anchor=\"middle\" x=\"300\" y=\"-861.3\">input:</text>\n<polyline fill=\"none\" points=\"271,-853.5 329,-853.5 \" stroke=\"#000000\"/>\n<text fill=\"#000000\" font-family=\"Times,serif\" font-size=\"14.00\" text-anchor=\"middle\" x=\"300\" y=\"-838.3\">output:</text>\n<polyline fill=\"none\" points=\"329,-830.5 329,-876.5 \" stroke=\"#000000\"/>\n<text fill=\"#000000\" font-family=\"Times,serif\" font-size=\"14.00\" text-anchor=\"middle\" x=\"372.5\" y=\"-861.3\">(None, 800)</text>\n<polyline fill=\"none\" points=\"329,-853.5 416,-853.5 \" stroke=\"#000000\"/>\n<text fill=\"#000000\" font-family=\"Times,serif\" font-size=\"14.00\" text-anchor=\"middle\" x=\"372.5\" y=\"-838.3\">(None, 800)</text>\n</g>\n<!-- 140246507470184&#45;&gt;140246510221072 -->\n<g class=\"edge\" id=\"edge11\">\n<title>140246507470184-&gt;140246510221072</title>\n<path d=\"M208,-913.3799C208,-905.1745 208,-895.7679 208,-886.8786\" fill=\"none\" stroke=\"#000000\"/>\n<polygon fill=\"#000000\" points=\"211.5001,-886.784 208,-876.784 204.5001,-886.784 211.5001,-886.784\" stroke=\"#000000\"/>\n</g>\n<!-- 140246510259784 -->\n<g class=\"node\" id=\"node13\">\n<title>140246510259784</title>\n<polygon fill=\"none\" points=\"58.5,-747.5 58.5,-793.5 357.5,-793.5 357.5,-747.5 58.5,-747.5\" stroke=\"#000000\"/>\n<text fill=\"#000000\" font-family=\"Times,serif\" font-size=\"14.00\" text-anchor=\"middle\" x=\"135.5\" y=\"-766.8\">activation_3: Activation</text>\n<polyline fill=\"none\" points=\"212.5,-747.5 212.5,-793.5 \" stroke=\"#000000\"/>\n<text fill=\"#000000\" font-family=\"Times,serif\" font-size=\"14.00\" text-anchor=\"middle\" x=\"241.5\" y=\"-778.3\">input:</text>\n<polyline fill=\"none\" points=\"212.5,-770.5 270.5,-770.5 \" stroke=\"#000000\"/>\n<text fill=\"#000000\" font-family=\"Times,serif\" font-size=\"14.00\" text-anchor=\"middle\" x=\"241.5\" y=\"-755.3\">output:</text>\n<polyline fill=\"none\" points=\"270.5,-747.5 270.5,-793.5 \" stroke=\"#000000\"/>\n<text fill=\"#000000\" font-family=\"Times,serif\" font-size=\"14.00\" text-anchor=\"middle\" x=\"314\" y=\"-778.3\">(None, 800)</text>\n<polyline fill=\"none\" points=\"270.5,-770.5 357.5,-770.5 \" stroke=\"#000000\"/>\n<text fill=\"#000000\" font-family=\"Times,serif\" font-size=\"14.00\" text-anchor=\"middle\" x=\"314\" y=\"-755.3\">(None, 800)</text>\n</g>\n<!-- 140246510221072&#45;&gt;140246510259784 -->\n<g class=\"edge\" id=\"edge12\">\n<title>140246510221072-&gt;140246510259784</title>\n<path d=\"M208,-830.3799C208,-822.1745 208,-812.7679 208,-803.8786\" fill=\"none\" stroke=\"#000000\"/>\n<polygon fill=\"#000000\" points=\"211.5001,-803.784 208,-793.784 204.5001,-803.784 211.5001,-803.784\" stroke=\"#000000\"/>\n</g>\n<!-- 140246510282120 -->\n<g class=\"node\" id=\"node14\">\n<title>140246510282120</title>\n<polygon fill=\"none\" points=\"82,-664.5 82,-710.5 334,-710.5 334,-664.5 82,-664.5\" stroke=\"#000000\"/>\n<text fill=\"#000000\" font-family=\"Times,serif\" font-size=\"14.00\" text-anchor=\"middle\" x=\"135.5\" y=\"-683.8\">dense_7: Dense</text>\n<polyline fill=\"none\" points=\"189,-664.5 189,-710.5 \" stroke=\"#000000\"/>\n<text fill=\"#000000\" font-family=\"Times,serif\" font-size=\"14.00\" text-anchor=\"middle\" x=\"218\" y=\"-695.3\">input:</text>\n<polyline fill=\"none\" points=\"189,-687.5 247,-687.5 \" stroke=\"#000000\"/>\n<text fill=\"#000000\" font-family=\"Times,serif\" font-size=\"14.00\" text-anchor=\"middle\" x=\"218\" y=\"-672.3\">output:</text>\n<polyline fill=\"none\" points=\"247,-664.5 247,-710.5 \" stroke=\"#000000\"/>\n<text fill=\"#000000\" font-family=\"Times,serif\" font-size=\"14.00\" text-anchor=\"middle\" x=\"290.5\" y=\"-695.3\">(None, 800)</text>\n<polyline fill=\"none\" points=\"247,-687.5 334,-687.5 \" stroke=\"#000000\"/>\n<text fill=\"#000000\" font-family=\"Times,serif\" font-size=\"14.00\" text-anchor=\"middle\" x=\"290.5\" y=\"-672.3\">(None, 800)</text>\n</g>\n<!-- 140246510259784&#45;&gt;140246510282120 -->\n<g class=\"edge\" id=\"edge13\">\n<title>140246510259784-&gt;140246510282120</title>\n<path d=\"M208,-747.3799C208,-739.1745 208,-729.7679 208,-720.8786\" fill=\"none\" stroke=\"#000000\"/>\n<polygon fill=\"#000000\" points=\"211.5001,-720.784 208,-710.784 204.5001,-720.784 211.5001,-720.784\" stroke=\"#000000\"/>\n</g>\n<!-- 140246509980808 -->\n<g class=\"node\" id=\"node15\">\n<title>140246509980808</title>\n<polygon fill=\"none\" points=\"82,-581.5 82,-627.5 334,-627.5 334,-581.5 82,-581.5\" stroke=\"#000000\"/>\n<text fill=\"#000000\" font-family=\"Times,serif\" font-size=\"14.00\" text-anchor=\"middle\" x=\"135.5\" y=\"-600.8\">dense_8: Dense</text>\n<polyline fill=\"none\" points=\"189,-581.5 189,-627.5 \" stroke=\"#000000\"/>\n<text fill=\"#000000\" font-family=\"Times,serif\" font-size=\"14.00\" text-anchor=\"middle\" x=\"218\" y=\"-612.3\">input:</text>\n<polyline fill=\"none\" points=\"189,-604.5 247,-604.5 \" stroke=\"#000000\"/>\n<text fill=\"#000000\" font-family=\"Times,serif\" font-size=\"14.00\" text-anchor=\"middle\" x=\"218\" y=\"-589.3\">output:</text>\n<polyline fill=\"none\" points=\"247,-581.5 247,-627.5 \" stroke=\"#000000\"/>\n<text fill=\"#000000\" font-family=\"Times,serif\" font-size=\"14.00\" text-anchor=\"middle\" x=\"290.5\" y=\"-612.3\">(None, 800)</text>\n<polyline fill=\"none\" points=\"247,-604.5 334,-604.5 \" stroke=\"#000000\"/>\n<text fill=\"#000000\" font-family=\"Times,serif\" font-size=\"14.00\" text-anchor=\"middle\" x=\"290.5\" y=\"-589.3\">(None, 800)</text>\n</g>\n<!-- 140246510282120&#45;&gt;140246509980808 -->\n<g class=\"edge\" id=\"edge14\">\n<title>140246510282120-&gt;140246509980808</title>\n<path d=\"M208,-664.3799C208,-656.1745 208,-646.7679 208,-637.8786\" fill=\"none\" stroke=\"#000000\"/>\n<polygon fill=\"#000000\" points=\"211.5001,-637.784 208,-627.784 204.5001,-637.784 211.5001,-637.784\" stroke=\"#000000\"/>\n</g>\n<!-- 140246510041296 -->\n<g class=\"node\" id=\"node16\">\n<title>140246510041296</title>\n<polygon fill=\"none\" points=\"0,-498.5 0,-544.5 416,-544.5 416,-498.5 0,-498.5\" stroke=\"#000000\"/>\n<text fill=\"#000000\" font-family=\"Times,serif\" font-size=\"14.00\" text-anchor=\"middle\" x=\"135.5\" y=\"-517.8\">batch_normalization_4: BatchNormalization</text>\n<polyline fill=\"none\" points=\"271,-498.5 271,-544.5 \" stroke=\"#000000\"/>\n<text fill=\"#000000\" font-family=\"Times,serif\" font-size=\"14.00\" text-anchor=\"middle\" x=\"300\" y=\"-529.3\">input:</text>\n<polyline fill=\"none\" points=\"271,-521.5 329,-521.5 \" stroke=\"#000000\"/>\n<text fill=\"#000000\" font-family=\"Times,serif\" font-size=\"14.00\" text-anchor=\"middle\" x=\"300\" y=\"-506.3\">output:</text>\n<polyline fill=\"none\" points=\"329,-498.5 329,-544.5 \" stroke=\"#000000\"/>\n<text fill=\"#000000\" font-family=\"Times,serif\" font-size=\"14.00\" text-anchor=\"middle\" x=\"372.5\" y=\"-529.3\">(None, 800)</text>\n<polyline fill=\"none\" points=\"329,-521.5 416,-521.5 \" stroke=\"#000000\"/>\n<text fill=\"#000000\" font-family=\"Times,serif\" font-size=\"14.00\" text-anchor=\"middle\" x=\"372.5\" y=\"-506.3\">(None, 800)</text>\n</g>\n<!-- 140246509980808&#45;&gt;140246510041296 -->\n<g class=\"edge\" id=\"edge15\">\n<title>140246509980808-&gt;140246510041296</title>\n<path d=\"M208,-581.3799C208,-573.1745 208,-563.7679 208,-554.8786\" fill=\"none\" stroke=\"#000000\"/>\n<polygon fill=\"#000000\" points=\"211.5001,-554.784 208,-544.784 204.5001,-554.784 211.5001,-554.784\" stroke=\"#000000\"/>\n</g>\n<!-- 140246510067328 -->\n<g class=\"node\" id=\"node17\">\n<title>140246510067328</title>\n<polygon fill=\"none\" points=\"58.5,-415.5 58.5,-461.5 357.5,-461.5 357.5,-415.5 58.5,-415.5\" stroke=\"#000000\"/>\n<text fill=\"#000000\" font-family=\"Times,serif\" font-size=\"14.00\" text-anchor=\"middle\" x=\"135.5\" y=\"-434.8\">activation_4: Activation</text>\n<polyline fill=\"none\" points=\"212.5,-415.5 212.5,-461.5 \" stroke=\"#000000\"/>\n<text fill=\"#000000\" font-family=\"Times,serif\" font-size=\"14.00\" text-anchor=\"middle\" x=\"241.5\" y=\"-446.3\">input:</text>\n<polyline fill=\"none\" points=\"212.5,-438.5 270.5,-438.5 \" stroke=\"#000000\"/>\n<text fill=\"#000000\" font-family=\"Times,serif\" font-size=\"14.00\" text-anchor=\"middle\" x=\"241.5\" y=\"-423.3\">output:</text>\n<polyline fill=\"none\" points=\"270.5,-415.5 270.5,-461.5 \" stroke=\"#000000\"/>\n<text fill=\"#000000\" font-family=\"Times,serif\" font-size=\"14.00\" text-anchor=\"middle\" x=\"314\" y=\"-446.3\">(None, 800)</text>\n<polyline fill=\"none\" points=\"270.5,-438.5 357.5,-438.5 \" stroke=\"#000000\"/>\n<text fill=\"#000000\" font-family=\"Times,serif\" font-size=\"14.00\" text-anchor=\"middle\" x=\"314\" y=\"-423.3\">(None, 800)</text>\n</g>\n<!-- 140246510041296&#45;&gt;140246510067328 -->\n<g class=\"edge\" id=\"edge16\">\n<title>140246510041296-&gt;140246510067328</title>\n<path d=\"M208,-498.3799C208,-490.1745 208,-480.7679 208,-471.8786\" fill=\"none\" stroke=\"#000000\"/>\n<polygon fill=\"#000000\" points=\"211.5001,-471.784 208,-461.784 204.5001,-471.784 211.5001,-471.784\" stroke=\"#000000\"/>\n</g>\n<!-- 140246510093648 -->\n<g class=\"node\" id=\"node18\">\n<title>140246510093648</title>\n<polygon fill=\"none\" points=\"82,-332.5 82,-378.5 334,-378.5 334,-332.5 82,-332.5\" stroke=\"#000000\"/>\n<text fill=\"#000000\" font-family=\"Times,serif\" font-size=\"14.00\" text-anchor=\"middle\" x=\"135.5\" y=\"-351.8\">dense_9: Dense</text>\n<polyline fill=\"none\" points=\"189,-332.5 189,-378.5 \" stroke=\"#000000\"/>\n<text fill=\"#000000\" font-family=\"Times,serif\" font-size=\"14.00\" text-anchor=\"middle\" x=\"218\" y=\"-363.3\">input:</text>\n<polyline fill=\"none\" points=\"189,-355.5 247,-355.5 \" stroke=\"#000000\"/>\n<text fill=\"#000000\" font-family=\"Times,serif\" font-size=\"14.00\" text-anchor=\"middle\" x=\"218\" y=\"-340.3\">output:</text>\n<polyline fill=\"none\" points=\"247,-332.5 247,-378.5 \" stroke=\"#000000\"/>\n<text fill=\"#000000\" font-family=\"Times,serif\" font-size=\"14.00\" text-anchor=\"middle\" x=\"290.5\" y=\"-363.3\">(None, 800)</text>\n<polyline fill=\"none\" points=\"247,-355.5 334,-355.5 \" stroke=\"#000000\"/>\n<text fill=\"#000000\" font-family=\"Times,serif\" font-size=\"14.00\" text-anchor=\"middle\" x=\"290.5\" y=\"-340.3\">(None, 800)</text>\n</g>\n<!-- 140246510067328&#45;&gt;140246510093648 -->\n<g class=\"edge\" id=\"edge17\">\n<title>140246510067328-&gt;140246510093648</title>\n<path d=\"M208,-415.3799C208,-407.1745 208,-397.7679 208,-388.8786\" fill=\"none\" stroke=\"#000000\"/>\n<polygon fill=\"#000000\" points=\"211.5001,-388.784 208,-378.784 204.5001,-388.784 211.5001,-388.784\" stroke=\"#000000\"/>\n</g>\n<!-- 140246509801312 -->\n<g class=\"node\" id=\"node19\">\n<title>140246509801312</title>\n<polygon fill=\"none\" points=\"78.5,-249.5 78.5,-295.5 337.5,-295.5 337.5,-249.5 78.5,-249.5\" stroke=\"#000000\"/>\n<text fill=\"#000000\" font-family=\"Times,serif\" font-size=\"14.00\" text-anchor=\"middle\" x=\"135.5\" y=\"-268.8\">dense_10: Dense</text>\n<polyline fill=\"none\" points=\"192.5,-249.5 192.5,-295.5 \" stroke=\"#000000\"/>\n<text fill=\"#000000\" font-family=\"Times,serif\" font-size=\"14.00\" text-anchor=\"middle\" x=\"221.5\" y=\"-280.3\">input:</text>\n<polyline fill=\"none\" points=\"192.5,-272.5 250.5,-272.5 \" stroke=\"#000000\"/>\n<text fill=\"#000000\" font-family=\"Times,serif\" font-size=\"14.00\" text-anchor=\"middle\" x=\"221.5\" y=\"-257.3\">output:</text>\n<polyline fill=\"none\" points=\"250.5,-249.5 250.5,-295.5 \" stroke=\"#000000\"/>\n<text fill=\"#000000\" font-family=\"Times,serif\" font-size=\"14.00\" text-anchor=\"middle\" x=\"294\" y=\"-280.3\">(None, 800)</text>\n<polyline fill=\"none\" points=\"250.5,-272.5 337.5,-272.5 \" stroke=\"#000000\"/>\n<text fill=\"#000000\" font-family=\"Times,serif\" font-size=\"14.00\" text-anchor=\"middle\" x=\"294\" y=\"-257.3\">(None, 800)</text>\n</g>\n<!-- 140246510093648&#45;&gt;140246509801312 -->\n<g class=\"edge\" id=\"edge18\">\n<title>140246510093648-&gt;140246509801312</title>\n<path d=\"M208,-332.3799C208,-324.1745 208,-314.7679 208,-305.8786\" fill=\"none\" stroke=\"#000000\"/>\n<polygon fill=\"#000000\" points=\"211.5001,-305.784 208,-295.784 204.5001,-305.784 211.5001,-305.784\" stroke=\"#000000\"/>\n</g>\n<!-- 140246509862808 -->\n<g class=\"node\" id=\"node20\">\n<title>140246509862808</title>\n<polygon fill=\"none\" points=\"0,-166.5 0,-212.5 416,-212.5 416,-166.5 0,-166.5\" stroke=\"#000000\"/>\n<text fill=\"#000000\" font-family=\"Times,serif\" font-size=\"14.00\" text-anchor=\"middle\" x=\"135.5\" y=\"-185.8\">batch_normalization_5: BatchNormalization</text>\n<polyline fill=\"none\" points=\"271,-166.5 271,-212.5 \" stroke=\"#000000\"/>\n<text fill=\"#000000\" font-family=\"Times,serif\" font-size=\"14.00\" text-anchor=\"middle\" x=\"300\" y=\"-197.3\">input:</text>\n<polyline fill=\"none\" points=\"271,-189.5 329,-189.5 \" stroke=\"#000000\"/>\n<text fill=\"#000000\" font-family=\"Times,serif\" font-size=\"14.00\" text-anchor=\"middle\" x=\"300\" y=\"-174.3\">output:</text>\n<polyline fill=\"none\" points=\"329,-166.5 329,-212.5 \" stroke=\"#000000\"/>\n<text fill=\"#000000\" font-family=\"Times,serif\" font-size=\"14.00\" text-anchor=\"middle\" x=\"372.5\" y=\"-197.3\">(None, 800)</text>\n<polyline fill=\"none\" points=\"329,-189.5 416,-189.5 \" stroke=\"#000000\"/>\n<text fill=\"#000000\" font-family=\"Times,serif\" font-size=\"14.00\" text-anchor=\"middle\" x=\"372.5\" y=\"-174.3\">(None, 800)</text>\n</g>\n<!-- 140246509801312&#45;&gt;140246509862808 -->\n<g class=\"edge\" id=\"edge19\">\n<title>140246509801312-&gt;140246509862808</title>\n<path d=\"M208,-249.3799C208,-241.1745 208,-231.7679 208,-222.8786\" fill=\"none\" stroke=\"#000000\"/>\n<polygon fill=\"#000000\" points=\"211.5001,-222.784 208,-212.784 204.5001,-222.784 211.5001,-222.784\" stroke=\"#000000\"/>\n</g>\n<!-- 140246509862696 -->\n<g class=\"node\" id=\"node21\">\n<title>140246509862696</title>\n<polygon fill=\"none\" points=\"58.5,-83.5 58.5,-129.5 357.5,-129.5 357.5,-83.5 58.5,-83.5\" stroke=\"#000000\"/>\n<text fill=\"#000000\" font-family=\"Times,serif\" font-size=\"14.00\" text-anchor=\"middle\" x=\"135.5\" y=\"-102.8\">activation_5: Activation</text>\n<polyline fill=\"none\" points=\"212.5,-83.5 212.5,-129.5 \" stroke=\"#000000\"/>\n<text fill=\"#000000\" font-family=\"Times,serif\" font-size=\"14.00\" text-anchor=\"middle\" x=\"241.5\" y=\"-114.3\">input:</text>\n<polyline fill=\"none\" points=\"212.5,-106.5 270.5,-106.5 \" stroke=\"#000000\"/>\n<text fill=\"#000000\" font-family=\"Times,serif\" font-size=\"14.00\" text-anchor=\"middle\" x=\"241.5\" y=\"-91.3\">output:</text>\n<polyline fill=\"none\" points=\"270.5,-83.5 270.5,-129.5 \" stroke=\"#000000\"/>\n<text fill=\"#000000\" font-family=\"Times,serif\" font-size=\"14.00\" text-anchor=\"middle\" x=\"314\" y=\"-114.3\">(None, 800)</text>\n<polyline fill=\"none\" points=\"270.5,-106.5 357.5,-106.5 \" stroke=\"#000000\"/>\n<text fill=\"#000000\" font-family=\"Times,serif\" font-size=\"14.00\" text-anchor=\"middle\" x=\"314\" y=\"-91.3\">(None, 800)</text>\n</g>\n<!-- 140246509862808&#45;&gt;140246509862696 -->\n<g class=\"edge\" id=\"edge20\">\n<title>140246509862808-&gt;140246509862696</title>\n<path d=\"M208,-166.3799C208,-158.1745 208,-148.7679 208,-139.8786\" fill=\"none\" stroke=\"#000000\"/>\n<polygon fill=\"#000000\" points=\"211.5001,-139.784 208,-129.784 204.5001,-139.784 211.5001,-139.784\" stroke=\"#000000\"/>\n</g>\n<!-- 140246509920944 -->\n<g class=\"node\" id=\"node22\">\n<title>140246509920944</title>\n<polygon fill=\"none\" points=\"79,-.5 79,-46.5 337,-46.5 337,-.5 79,-.5\" stroke=\"#000000\"/>\n<text fill=\"#000000\" font-family=\"Times,serif\" font-size=\"14.00\" text-anchor=\"middle\" x=\"135.5\" y=\"-19.8\">dense_11: Dense</text>\n<polyline fill=\"none\" points=\"192,-.5 192,-46.5 \" stroke=\"#000000\"/>\n<text fill=\"#000000\" font-family=\"Times,serif\" font-size=\"14.00\" text-anchor=\"middle\" x=\"221\" y=\"-31.3\">input:</text>\n<polyline fill=\"none\" points=\"192,-23.5 250,-23.5 \" stroke=\"#000000\"/>\n<text fill=\"#000000\" font-family=\"Times,serif\" font-size=\"14.00\" text-anchor=\"middle\" x=\"221\" y=\"-8.3\">output:</text>\n<polyline fill=\"none\" points=\"250,-.5 250,-46.5 \" stroke=\"#000000\"/>\n<text fill=\"#000000\" font-family=\"Times,serif\" font-size=\"14.00\" text-anchor=\"middle\" x=\"293.5\" y=\"-31.3\">(None, 800)</text>\n<polyline fill=\"none\" points=\"250,-23.5 337,-23.5 \" stroke=\"#000000\"/>\n<text fill=\"#000000\" font-family=\"Times,serif\" font-size=\"14.00\" text-anchor=\"middle\" x=\"293.5\" y=\"-8.3\">(None, 4)</text>\n</g>\n<!-- 140246509862696&#45;&gt;140246509920944 -->\n<g class=\"edge\" id=\"edge21\">\n<title>140246509862696-&gt;140246509920944</title>\n<path d=\"M208,-83.3799C208,-75.1745 208,-65.7679 208,-56.8786\" fill=\"none\" stroke=\"#000000\"/>\n<polygon fill=\"#000000\" points=\"211.5001,-56.784 208,-46.784 204.5001,-56.784 211.5001,-56.784\" stroke=\"#000000\"/>\n</g>\n</g>\n</svg>"
          },
          "metadata": {
            "tags": []
          },
          "execution_count": 12
        }
      ]
    },
    {
      "cell_type": "code",
      "metadata": {
        "id": "PtD82zROogDP",
        "colab_type": "code",
        "colab": {
          "base_uri": "https://localhost:8080/",
          "height": 280
        },
        "outputId": "00946549-9038-4e04-dc0c-5fa8a8fab3cb"
      },
      "source": [
        "# 학습 과정\n",
        "\n",
        "%matplotlib inline\n",
        "import matplotlib.pyplot as plt\n",
        "\n",
        "fig, loss_ax = plt.subplots()\n",
        "\n",
        "acc_ax = loss_ax.twinx()\n",
        "\n",
        "loss_ax.plot(hist.history['loss'], 'y', label='train loss')\n",
        "loss_ax.plot(hist.history['val_loss'], 'r', label='val loss')\n",
        "\n",
        "acc_ax.plot(hist.history['acc'], 'b', label='train acc')\n",
        "acc_ax.plot(hist.history['val_acc'], 'g', label='val acc')\n",
        "\n",
        "loss_ax.set_xlabel('epoch')\n",
        "loss_ax.set_ylabel('loss')\n",
        "acc_ax.set_ylabel('mean absolute error')\n",
        "\n",
        "loss_ax.legend(loc='upper left')\n",
        "acc_ax.legend(loc='lower left')\n",
        "\n",
        "plt.show()"
      ],
      "execution_count": 13,
      "outputs": [
        {
          "output_type": "display_data",
          "data": {
            "image/png": "[encoded data removed]",
            "text/plain": [
              "<Figure size 432x288 with 2 Axes>"
            ]
          },
          "metadata": {
            "tags": []
          }
        }
      ]
    },
    {
      "cell_type": "code",
      "metadata": {
        "id": "XRMuL2mFogIP",
        "colab_type": "code",
        "colab": {}
      },
      "source": [
        "# 예측값을 생성합니다.\n",
        "\n",
        "pred_test = model.predict(test_X)"
      ],
      "execution_count": 0,
      "outputs": []
    },
    {
      "cell_type": "code",
      "metadata": {
        "id": "uv6yp_Hzoq4Q",
        "colab_type": "code",
        "colab": {}
      },
      "source": [
        "# submission 파일을 생성합니다.\n",
        "sample_sub = pd.read_csv('/gdrive/My Drive/DACON-semiconductor-competition/dataset/sample_submission.csv', index_col=0)\n",
        "submission = sample_sub+pred_test\n",
        "submission.to_csv('/gdrive/My Drive/DACON-semiconductor-competition/submission_12.csv')"
      ],
      "execution_count": 0,
      "outputs": []
    },
    {
      "cell_type": "code",
      "metadata": {
        "id": "HPOj7kOro8tD",
        "colab_type": "code",
        "colab": {}
      },
      "source": [
        "# 학습된 모델을 저장합니다.\n",
        "\n",
        "model.save('/gdrive/My Drive/DACON-semiconductor-competition/model_12.h5')"
      ],
      "execution_count": 0,
      "outputs": []
    },
    {
      "cell_type": "code",
      "metadata": {
        "id": "_VUa7WaWravb",
        "colab_type": "code",
        "colab": {
          "base_uri": "https://localhost:8080/",
          "height": 1000
        },
        "outputId": "f17a775e-4b3f-4d4e-a0f6-30fa652362ac"
      },
      "source": [
        "# 추가 학습\n",
        "\n",
        "hist = model.fit(train_X, train_Y, epochs=100, batch_size=630,\n",
        "                    validation_data=(val_X, val_Y))"
      ],
      "execution_count": 18,
      "outputs": [
        {
          "output_type": "stream",
          "text": [
            "Train on 607500 samples, validate on 202500 samples\n",
            "Epoch 1/100\n",
            "607500/607500 [==============================] - 19s 32us/step - loss: 1.3029 - acc: 0.9660 - val_loss: 1.3019 - val_acc: 0.9628\n",
            "Epoch 2/100\n",
            "607500/607500 [==============================] - 19s 31us/step - loss: 1.3134 - acc: 0.9657 - val_loss: 1.3008 - val_acc: 0.9572\n",
            "Epoch 3/100\n",
            "607500/607500 [==============================] - 19s 31us/step - loss: 1.3144 - acc: 0.9655 - val_loss: 1.3140 - val_acc: 0.9666\n",
            "Epoch 4/100\n",
            "607500/607500 [==============================] - 19s 31us/step - loss: 1.3075 - acc: 0.9656 - val_loss: 1.2389 - val_acc: 0.9679\n",
            "Epoch 5/100\n",
            "607500/607500 [==============================] - 19s 31us/step - loss: 1.2976 - acc: 0.9657 - val_loss: 1.2241 - val_acc: 0.9606\n",
            "Epoch 6/100\n",
            "607500/607500 [==============================] - 18s 30us/step - loss: 1.2949 - acc: 0.9659 - val_loss: 1.1605 - val_acc: 0.9690\n",
            "Epoch 7/100\n",
            "607500/607500 [==============================] - 19s 30us/step - loss: 1.2943 - acc: 0.9659 - val_loss: 1.2962 - val_acc: 0.9591\n",
            "Epoch 8/100\n",
            "607500/607500 [==============================] - 19s 31us/step - loss: 1.2988 - acc: 0.9657 - val_loss: 1.3161 - val_acc: 0.9698\n",
            "Epoch 9/100\n",
            "607500/607500 [==============================] - 18s 30us/step - loss: 1.2901 - acc: 0.9660 - val_loss: 1.1440 - val_acc: 0.9579\n",
            "Epoch 10/100\n",
            "607500/607500 [==============================] - 19s 31us/step - loss: 1.2904 - acc: 0.9657 - val_loss: 1.2123 - val_acc: 0.9735\n",
            "Epoch 11/100\n",
            "607500/607500 [==============================] - 19s 31us/step - loss: 1.2864 - acc: 0.9660 - val_loss: 1.1883 - val_acc: 0.9628\n",
            "Epoch 12/100\n",
            "607500/607500 [==============================] - 18s 30us/step - loss: 1.2877 - acc: 0.9659 - val_loss: 1.1809 - val_acc: 0.9610\n",
            "Epoch 13/100\n",
            "607500/607500 [==============================] - 18s 30us/step - loss: 1.2799 - acc: 0.9656 - val_loss: 1.3658 - val_acc: 0.9715\n",
            "Epoch 14/100\n",
            "607500/607500 [==============================] - 19s 31us/step - loss: 1.2903 - acc: 0.9658 - val_loss: 1.1273 - val_acc: 0.9729\n",
            "Epoch 15/100\n",
            "607500/607500 [==============================] - 18s 30us/step - loss: 1.2719 - acc: 0.9660 - val_loss: 1.2132 - val_acc: 0.9590\n",
            "Epoch 16/100\n",
            "607500/607500 [==============================] - 18s 30us/step - loss: 1.2759 - acc: 0.9658 - val_loss: 1.1321 - val_acc: 0.9757\n",
            "Epoch 17/100\n",
            "607500/607500 [==============================] - 18s 30us/step - loss: 1.2806 - acc: 0.9656 - val_loss: 1.2587 - val_acc: 0.9680\n",
            "Epoch 18/100\n",
            "607500/607500 [==============================] - 19s 31us/step - loss: 1.2708 - acc: 0.9658 - val_loss: 1.2045 - val_acc: 0.9672\n",
            "Epoch 19/100\n",
            "607500/607500 [==============================] - 18s 30us/step - loss: 1.2611 - acc: 0.9656 - val_loss: 1.1941 - val_acc: 0.9569\n",
            "Epoch 20/100\n",
            "607500/607500 [==============================] - 19s 31us/step - loss: 1.2617 - acc: 0.9660 - val_loss: 1.1830 - val_acc: 0.9603\n",
            "Epoch 21/100\n",
            "607500/607500 [==============================] - 18s 30us/step - loss: 1.2638 - acc: 0.9659 - val_loss: 1.3532 - val_acc: 0.9646\n",
            "Epoch 22/100\n",
            "607500/607500 [==============================] - 18s 30us/step - loss: 1.2584 - acc: 0.9657 - val_loss: 1.2042 - val_acc: 0.9638\n",
            "Epoch 23/100\n",
            "607500/607500 [==============================] - 18s 30us/step - loss: 1.2688 - acc: 0.9658 - val_loss: 1.2008 - val_acc: 0.9766\n",
            "Epoch 24/100\n",
            "607500/607500 [==============================] - 19s 31us/step - loss: 1.2632 - acc: 0.9657 - val_loss: 1.2388 - val_acc: 0.9695\n",
            "Epoch 25/100\n",
            "607500/607500 [==============================] - 18s 30us/step - loss: 1.2562 - acc: 0.9659 - val_loss: 1.1190 - val_acc: 0.9617\n",
            "Epoch 26/100\n",
            "607500/607500 [==============================] - 19s 31us/step - loss: 1.2521 - acc: 0.9657 - val_loss: 1.1652 - val_acc: 0.9677\n",
            "Epoch 27/100\n",
            "607500/607500 [==============================] - 19s 31us/step - loss: 1.2371 - acc: 0.9659 - val_loss: 1.0666 - val_acc: 0.9686\n",
            "Epoch 28/100\n",
            "607500/607500 [==============================] - 18s 30us/step - loss: 1.2562 - acc: 0.9654 - val_loss: 1.4713 - val_acc: 0.9688\n",
            "Epoch 29/100\n",
            "607500/607500 [==============================] - 19s 30us/step - loss: 1.2462 - acc: 0.9661 - val_loss: 1.2550 - val_acc: 0.9642\n",
            "Epoch 30/100\n",
            "607500/607500 [==============================] - 18s 30us/step - loss: 1.2522 - acc: 0.9656 - val_loss: 1.1425 - val_acc: 0.9668\n",
            "Epoch 31/100\n",
            "607500/607500 [==============================] - 18s 30us/step - loss: 1.2448 - acc: 0.9657 - val_loss: 1.2195 - val_acc: 0.9664\n",
            "Epoch 32/100\n",
            "607500/607500 [==============================] - 18s 30us/step - loss: 1.2431 - acc: 0.9659 - val_loss: 1.1949 - val_acc: 0.9713\n",
            "Epoch 33/100\n",
            "607500/607500 [==============================] - 18s 30us/step - loss: 1.2386 - acc: 0.9659 - val_loss: 1.1554 - val_acc: 0.9698\n",
            "Epoch 34/100\n",
            "607500/607500 [==============================] - 18s 30us/step - loss: 1.2294 - acc: 0.9660 - val_loss: 1.0476 - val_acc: 0.9679\n",
            "Epoch 35/100\n",
            "607500/607500 [==============================] - 19s 31us/step - loss: 1.2413 - acc: 0.9661 - val_loss: 1.1581 - val_acc: 0.9722\n",
            "Epoch 36/100\n",
            "607500/607500 [==============================] - 18s 30us/step - loss: 1.2371 - acc: 0.9658 - val_loss: 1.0218 - val_acc: 0.9684\n",
            "Epoch 37/100\n",
            "607500/607500 [==============================] - 19s 31us/step - loss: 1.2323 - acc: 0.9658 - val_loss: 1.1094 - val_acc: 0.9631\n",
            "Epoch 38/100\n",
            "607500/607500 [==============================] - 18s 30us/step - loss: 1.2211 - acc: 0.9659 - val_loss: 1.3338 - val_acc: 0.9550\n",
            "Epoch 39/100\n",
            "607500/607500 [==============================] - 18s 30us/step - loss: 1.2299 - acc: 0.9661 - val_loss: 1.1646 - val_acc: 0.9686\n",
            "Epoch 40/100\n",
            "607500/607500 [==============================] - 19s 31us/step - loss: 1.2285 - acc: 0.9657 - val_loss: 1.1788 - val_acc: 0.9633\n",
            "Epoch 41/100\n",
            "607500/607500 [==============================] - 18s 30us/step - loss: 1.2198 - acc: 0.9656 - val_loss: 1.0681 - val_acc: 0.9647\n",
            "Epoch 42/100\n",
            "607500/607500 [==============================] - 18s 30us/step - loss: 1.2241 - acc: 0.9658 - val_loss: 1.1884 - val_acc: 0.9626\n",
            "Epoch 43/100\n",
            "607500/607500 [==============================] - 19s 31us/step - loss: 1.2238 - acc: 0.9658 - val_loss: 1.1265 - val_acc: 0.9599\n",
            "Epoch 44/100\n",
            "607500/607500 [==============================] - 18s 30us/step - loss: 1.2184 - acc: 0.9656 - val_loss: 1.0970 - val_acc: 0.9673\n",
            "Epoch 45/100\n",
            "607500/607500 [==============================] - 18s 30us/step - loss: 1.2122 - acc: 0.9658 - val_loss: 1.1229 - val_acc: 0.9636\n",
            "Epoch 46/100\n",
            "607500/607500 [==============================] - 19s 31us/step - loss: 1.2090 - acc: 0.9658 - val_loss: 1.1658 - val_acc: 0.9643\n",
            "Epoch 47/100\n",
            "607500/607500 [==============================] - 19s 31us/step - loss: 1.2171 - acc: 0.9658 - val_loss: 1.1481 - val_acc: 0.9666\n",
            "Epoch 48/100\n",
            "607500/607500 [==============================] - 18s 30us/step - loss: 1.2178 - acc: 0.9658 - val_loss: 1.0568 - val_acc: 0.9656\n",
            "Epoch 49/100\n",
            "607500/607500 [==============================] - 18s 30us/step - loss: 1.2137 - acc: 0.9660 - val_loss: 1.2635 - val_acc: 0.9722\n",
            "Epoch 50/100\n",
            "607500/607500 [==============================] - 19s 31us/step - loss: 1.2014 - acc: 0.9660 - val_loss: 1.1177 - val_acc: 0.9667\n",
            "Epoch 51/100\n",
            "607500/607500 [==============================] - 18s 30us/step - loss: 1.2101 - acc: 0.9658 - val_loss: 1.1053 - val_acc: 0.9710\n",
            "Epoch 52/100\n",
            "607500/607500 [==============================] - 19s 31us/step - loss: 1.2053 - acc: 0.9660 - val_loss: 1.1077 - val_acc: 0.9697\n",
            "Epoch 53/100\n",
            "607500/607500 [==============================] - 19s 30us/step - loss: 1.2079 - acc: 0.9659 - val_loss: 1.1803 - val_acc: 0.9732\n",
            "Epoch 54/100\n",
            "607500/607500 [==============================] - 18s 30us/step - loss: 1.2098 - acc: 0.9658 - val_loss: 1.1297 - val_acc: 0.9598\n",
            "Epoch 55/100\n",
            "607500/607500 [==============================] - 18s 30us/step - loss: 1.2026 - acc: 0.9661 - val_loss: 1.0743 - val_acc: 0.9659\n",
            "Epoch 56/100\n",
            "607500/607500 [==============================] - 19s 30us/step - loss: 1.1935 - acc: 0.9658 - val_loss: 1.0912 - val_acc: 0.9670\n",
            "Epoch 57/100\n",
            "607500/607500 [==============================] - 18s 30us/step - loss: 1.1916 - acc: 0.9659 - val_loss: 1.0823 - val_acc: 0.9671\n",
            "Epoch 58/100\n",
            "607500/607500 [==============================] - 19s 31us/step - loss: 1.1899 - acc: 0.9660 - val_loss: 1.0059 - val_acc: 0.9651\n",
            "Epoch 59/100\n",
            "607500/607500 [==============================] - 19s 31us/step - loss: 1.1902 - acc: 0.9657 - val_loss: 1.0409 - val_acc: 0.9592\n",
            "Epoch 60/100\n",
            "607500/607500 [==============================] - 19s 31us/step - loss: 1.1881 - acc: 0.9660 - val_loss: 1.0815 - val_acc: 0.9728\n",
            "Epoch 61/100\n",
            "607500/607500 [==============================] - 19s 31us/step - loss: 1.1963 - acc: 0.9660 - val_loss: 1.0396 - val_acc: 0.9633\n",
            "Epoch 62/100\n",
            "607500/607500 [==============================] - 18s 30us/step - loss: 1.1877 - acc: 0.9657 - val_loss: 1.0654 - val_acc: 0.9663\n",
            "Epoch 63/100\n",
            "607500/607500 [==============================] - 19s 31us/step - loss: 1.1880 - acc: 0.9659 - val_loss: 1.1514 - val_acc: 0.9693\n",
            "Epoch 64/100\n",
            "607500/607500 [==============================] - 18s 30us/step - loss: 1.1713 - acc: 0.9661 - val_loss: 1.0626 - val_acc: 0.9728\n",
            "Epoch 65/100\n",
            "607500/607500 [==============================] - 18s 30us/step - loss: 1.1846 - acc: 0.9662 - val_loss: 1.0743 - val_acc: 0.9599\n",
            "Epoch 66/100\n",
            "607500/607500 [==============================] - 18s 30us/step - loss: 1.1854 - acc: 0.9657 - val_loss: 1.0551 - val_acc: 0.9620\n",
            "Epoch 67/100\n",
            "607500/607500 [==============================] - 18s 30us/step - loss: 1.1852 - acc: 0.9658 - val_loss: 1.1669 - val_acc: 0.9615\n",
            "Epoch 68/100\n",
            "607500/607500 [==============================] - 19s 31us/step - loss: 1.1700 - acc: 0.9661 - val_loss: 1.0998 - val_acc: 0.9704\n",
            "Epoch 69/100\n",
            "607500/607500 [==============================] - 19s 31us/step - loss: 1.1769 - acc: 0.9658 - val_loss: 1.0588 - val_acc: 0.9783\n",
            "Epoch 70/100\n",
            "607500/607500 [==============================] - 18s 30us/step - loss: 1.1748 - acc: 0.9658 - val_loss: 1.1223 - val_acc: 0.9716\n",
            "Epoch 71/100\n",
            "607500/607500 [==============================] - 19s 31us/step - loss: 1.1709 - acc: 0.9658 - val_loss: 1.0630 - val_acc: 0.9650\n",
            "Epoch 72/100\n",
            "607500/607500 [==============================] - 19s 31us/step - loss: 1.1745 - acc: 0.9660 - val_loss: 1.1245 - val_acc: 0.9654\n",
            "Epoch 73/100\n",
            "607500/607500 [==============================] - 18s 30us/step - loss: 1.1728 - acc: 0.9659 - val_loss: 1.1184 - val_acc: 0.9593\n",
            "Epoch 74/100\n",
            "607500/607500 [==============================] - 18s 30us/step - loss: 1.1768 - acc: 0.9659 - val_loss: 1.0333 - val_acc: 0.9644\n",
            "Epoch 75/100\n",
            "607500/607500 [==============================] - 19s 31us/step - loss: 1.1665 - acc: 0.9657 - val_loss: 1.0273 - val_acc: 0.9658\n",
            "Epoch 76/100\n",
            "607500/607500 [==============================] - 19s 31us/step - loss: 1.1642 - acc: 0.9659 - val_loss: 1.0654 - val_acc: 0.9680\n",
            "Epoch 77/100\n",
            "607500/607500 [==============================] - 18s 30us/step - loss: 1.1742 - acc: 0.9660 - val_loss: 1.2141 - val_acc: 0.9720\n",
            "Epoch 78/100\n",
            "607500/607500 [==============================] - 18s 30us/step - loss: 1.1579 - acc: 0.9659 - val_loss: 1.0091 - val_acc: 0.9673\n",
            "Epoch 79/100\n",
            "607500/607500 [==============================] - 19s 30us/step - loss: 1.1709 - acc: 0.9660 - val_loss: 1.0441 - val_acc: 0.9646\n",
            "Epoch 80/100\n",
            "607500/607500 [==============================] - 18s 30us/step - loss: 1.1586 - acc: 0.9662 - val_loss: 1.1231 - val_acc: 0.9664\n",
            "Epoch 81/100\n",
            "607500/607500 [==============================] - 19s 31us/step - loss: 1.1595 - acc: 0.9658 - val_loss: 1.0459 - val_acc: 0.9636\n",
            "Epoch 82/100\n",
            "607500/607500 [==============================] - 19s 31us/step - loss: 1.1555 - acc: 0.9661 - val_loss: 1.0175 - val_acc: 0.9728\n",
            "Epoch 83/100\n",
            "607500/607500 [==============================] - 18s 30us/step - loss: 1.1507 - acc: 0.9659 - val_loss: 1.0342 - val_acc: 0.9606\n",
            "Epoch 84/100\n",
            "607500/607500 [==============================] - 19s 31us/step - loss: 1.1531 - acc: 0.9660 - val_loss: 0.9662 - val_acc: 0.9742\n",
            "Epoch 85/100\n",
            "607500/607500 [==============================] - 19s 31us/step - loss: 1.1602 - acc: 0.9662 - val_loss: 1.2285 - val_acc: 0.9718\n",
            "Epoch 86/100\n",
            "607500/607500 [==============================] - 18s 30us/step - loss: 1.1502 - acc: 0.9663 - val_loss: 1.1923 - val_acc: 0.9694\n",
            "Epoch 87/100\n",
            "607500/607500 [==============================] - 18s 30us/step - loss: 1.1491 - acc: 0.9660 - val_loss: 0.9645 - val_acc: 0.9625\n",
            "Epoch 88/100\n",
            "607500/607500 [==============================] - 19s 31us/step - loss: 1.1559 - acc: 0.9660 - val_loss: 1.0092 - val_acc: 0.9655\n",
            "Epoch 89/100\n",
            "607500/607500 [==============================] - 18s 30us/step - loss: 1.1432 - acc: 0.9660 - val_loss: 1.0465 - val_acc: 0.9665\n",
            "Epoch 90/100\n",
            "607500/607500 [==============================] - 19s 30us/step - loss: 1.1376 - acc: 0.9661 - val_loss: 1.0449 - val_acc: 0.9721\n",
            "Epoch 91/100\n",
            "607500/607500 [==============================] - 19s 31us/step - loss: 1.1504 - acc: 0.9661 - val_loss: 0.9893 - val_acc: 0.9758\n",
            "Epoch 92/100\n",
            "607500/607500 [==============================] - 19s 31us/step - loss: 1.1513 - acc: 0.9661 - val_loss: 1.1171 - val_acc: 0.9746\n",
            "Epoch 93/100\n",
            "607500/607500 [==============================] - 18s 30us/step - loss: 1.1386 - acc: 0.9660 - val_loss: 1.0900 - val_acc: 0.9746\n",
            "Epoch 94/100\n",
            "607500/607500 [==============================] - 19s 31us/step - loss: 1.1409 - acc: 0.9658 - val_loss: 1.0578 - val_acc: 0.9553\n",
            "Epoch 95/100\n",
            "607500/607500 [==============================] - 19s 31us/step - loss: 1.1406 - acc: 0.9661 - val_loss: 1.0339 - val_acc: 0.9686\n",
            "Epoch 96/100\n",
            "607500/607500 [==============================] - 18s 30us/step - loss: 1.1366 - acc: 0.9658 - val_loss: 1.0709 - val_acc: 0.9738\n",
            "Epoch 97/100\n",
            "607500/607500 [==============================] - 19s 31us/step - loss: 1.1380 - acc: 0.9660 - val_loss: 1.2020 - val_acc: 0.9708\n",
            "Epoch 98/100\n",
            "607500/607500 [==============================] - 19s 31us/step - loss: 1.1295 - acc: 0.9660 - val_loss: 1.0610 - val_acc: 0.9704\n",
            "Epoch 99/100\n",
            "607500/607500 [==============================] - 18s 30us/step - loss: 1.1414 - acc: 0.9659 - val_loss: 1.0564 - val_acc: 0.9721\n",
            "Epoch 100/100\n",
            "607500/607500 [==============================] - 19s 31us/step - loss: 1.1239 - acc: 0.9660 - val_loss: 1.0687 - val_acc: 0.9703\n"
          ],
          "name": "stdout"
        }
      ]
    },
    {
      "cell_type": "code",
      "metadata": {
        "id": "TbHwRShAyuCS",
        "colab_type": "code",
        "colab": {}
      },
      "source": [
        "# 예측값을 생성합니다.\n",
        "\n",
        "pred_test = model.predict(test_X)"
      ],
      "execution_count": 0,
      "outputs": []
    },
    {
      "cell_type": "code",
      "metadata": {
        "id": "AuNsrIxpywow",
        "colab_type": "code",
        "colab": {}
      },
      "source": [
        "# submission 파일을 생성합니다.\n",
        "sample_sub = pd.read_csv('/gdrive/My Drive/DACON-semiconductor-competition/dataset/sample_submission.csv', index_col=0)\n",
        "submission = sample_sub+pred_test\n",
        "submission.to_csv('/gdrive/My Drive/DACON-semiconductor-competition/submission_12_300.csv')"
      ],
      "execution_count": 0,
      "outputs": []
    },
    {
      "cell_type": "code",
      "metadata": {
        "id": "D82x896pywtw",
        "colab_type": "code",
        "colab": {}
      },
      "source": [
        "# 학습된 모델을 저장합니다.\n",
        "\n",
        "model.save('/gdrive/My Drive/DACON-semiconductor-competition/model_12_300.h5')"
      ],
      "execution_count": 0,
      "outputs": []
    },
    {
      "cell_type": "markdown",
      "metadata": {
        "id": "L3IaqhJqmV_5",
        "colab_type": "text"
      },
      "source": [
        "### Bayesian Optimization\n",
        "http://research.sualab.com/introduction/practice/2019/02/19/bayesian-optimization-overview-1.html<br>\n",
        "http://research.sualab.com/introduction/practice/2019/04/01/bayesian-optimization-overview-2.html<br>"
      ]
    },
    {
      "cell_type": "markdown",
      "metadata": {
        "id": "RNwDuaRWmWg4",
        "colab_type": "text"
      },
      "source": [
        "### Swish Activation\n",
        "https://www.machinecurve.com/index.php/2019/05/30/why-swish-could-perform-better-than-relu/#todays-activation-functions"
      ]
    }
  ]
}