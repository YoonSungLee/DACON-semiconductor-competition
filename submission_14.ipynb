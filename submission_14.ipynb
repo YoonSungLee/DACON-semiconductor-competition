{
  "nbformat": 4,
  "nbformat_minor": 0,
  "metadata": {
    "colab": {
      "name": "submission_14.ipynb",
      "provenance": [],
      "collapsed_sections": [],
      "authorship_tag": "ABX9TyMzK3IqS9uDAsqNeWMwGtHP",
      "include_colab_link": true
    },
    "kernelspec": {
      "name": "python3",
      "display_name": "Python 3"
    },
    "accelerator": "GPU"
  },
  "cells": [
    {
      "cell_type": "markdown",
      "metadata": {
        "id": "view-in-github",
        "colab_type": "text"
      },
      "source": [
        "<a href=\"https://colab.research.google.com/github/Inha-AI/DACON-semiconductor-competition/blob/feature%2FYoonSungLee/submission_14.ipynb\" target=\"_parent\"><img src=\"https://colab.research.google.com/assets/colab-badge.svg\" alt=\"Open In Colab\"/></a>"
      ]
    },
    {
      "cell_type": "code",
      "metadata": {
        "id": "NBPfb1Jhq4TA",
        "colab_type": "code",
        "outputId": "caf95649-be21-4cdf-87cc-23b2888b8610",
        "colab": {
          "base_uri": "https://localhost:8080/",
          "height": 280
        }
      },
      "source": [
        "pip install bayesian-optimization"
      ],
      "execution_count": 0,
      "outputs": [
        {
          "output_type": "stream",
          "text": [
            "Collecting bayesian-optimization\n",
            "  Downloading https://files.pythonhosted.org/packages/72/0c/173ac467d0a53e33e41b521e4ceba74a8ac7c7873d7b857a8fbdca88302d/bayesian-optimization-1.0.1.tar.gz\n",
            "Requirement already satisfied: numpy>=1.9.0 in /usr/local/lib/python3.6/dist-packages (from bayesian-optimization) (1.17.5)\n",
            "Requirement already satisfied: scipy>=0.14.0 in /usr/local/lib/python3.6/dist-packages (from bayesian-optimization) (1.4.1)\n",
            "Requirement already satisfied: scikit-learn>=0.18.0 in /usr/local/lib/python3.6/dist-packages (from bayesian-optimization) (0.22.1)\n",
            "Requirement already satisfied: joblib>=0.11 in /usr/local/lib/python3.6/dist-packages (from scikit-learn>=0.18.0->bayesian-optimization) (0.14.1)\n",
            "Building wheels for collected packages: bayesian-optimization\n",
            "  Building wheel for bayesian-optimization (setup.py) ... \u001b[?25l\u001b[?25hdone\n",
            "  Created wheel for bayesian-optimization: filename=bayesian_optimization-1.0.1-cp36-none-any.whl size=10032 sha256=2e6ab1563558a35f559d4f9580c2ad74c76c0f97eb51faa39ce0ceb26fd19ff3\n",
            "  Stored in directory: /root/.cache/pip/wheels/1d/0d/3b/6b9d4477a34b3905f246ff4e7acf6aafd4cc9b77d473629b77\n",
            "Successfully built bayesian-optimization\n",
            "Installing collected packages: bayesian-optimization\n",
            "Successfully installed bayesian-optimization-1.0.1\n"
          ],
          "name": "stdout"
        }
      ]
    },
    {
      "cell_type": "code",
      "metadata": {
        "id": "0vVeUdyssBKw",
        "colab_type": "code",
        "outputId": "0451f84e-d4ae-4b4f-8b68-f5e73653f078",
        "colab": {
          "base_uri": "https://localhost:8080/",
          "height": 101
        }
      },
      "source": [
        "import numpy as np\n",
        "import pandas as pd\n",
        "import matplotlib.pyplot as plt\n",
        "import keras\n",
        "from keras.models import Sequential\n",
        "from keras.layers import Dense, Activation, Dropout\n",
        "from keras.layers import BatchNormalization\n",
        "from sklearn.model_selection import train_test_split\n",
        "from bayes_opt import BayesianOptimization"
      ],
      "execution_count": 0,
      "outputs": [
        {
          "output_type": "stream",
          "text": [
            "Using TensorFlow backend.\n"
          ],
          "name": "stderr"
        },
        {
          "output_type": "display_data",
          "data": {
            "text/html": [
              "<p style=\"color: red;\">\n",
              "The default version of TensorFlow in Colab will soon switch to TensorFlow 2.x.<br>\n",
              "We recommend you <a href=\"https://www.tensorflow.org/guide/migrate\" target=\"_blank\">upgrade</a> now \n",
              "or ensure your notebook will continue to use TensorFlow 1.x via the <code>%tensorflow_version 1.x</code> magic:\n",
              "<a href=\"https://colab.research.google.com/notebooks/tensorflow_version.ipynb\" target=\"_blank\">more info</a>.</p>\n"
            ],
            "text/plain": [
              "<IPython.core.display.HTML object>"
            ]
          },
          "metadata": {
            "tags": []
          }
        }
      ]
    },
    {
      "cell_type": "code",
      "metadata": {
        "id": "EwHXDEigsNB0",
        "colab_type": "code",
        "outputId": "33e412eb-761c-429f-cac2-3c315ee0c930",
        "colab": {
          "base_uri": "https://localhost:8080/",
          "height": 131
        }
      },
      "source": [
        "from google.colab import drive\n",
        "drive.mount('/gdrive')"
      ],
      "execution_count": 0,
      "outputs": [
        {
          "output_type": "stream",
          "text": [
            "Go to this URL in a browser: https://accounts.google.com/o/oauth2/auth?client_id=947318989803-6bn6qk8qdgf4n4g3pfee6491hc0brc4i.apps.googleusercontent.com&redirect_uri=urn%3aietf%3awg%3aoauth%3a2.0%3aoob&response_type=code&scope=email%20https%3a%2f%2fwww.googleapis.com%2fauth%2fdocs.test%20https%3a%2f%2fwww.googleapis.com%2fauth%2fdrive%20https%3a%2f%2fwww.googleapis.com%2fauth%2fdrive.photos.readonly%20https%3a%2f%2fwww.googleapis.com%2fauth%2fpeopleapi.readonly\n",
            "\n",
            "Enter your authorization code:\n",
            "··········\n",
            "Mounted at /gdrive\n"
          ],
          "name": "stdout"
        }
      ]
    },
    {
      "cell_type": "code",
      "metadata": {
        "id": "hQF6BGGF1DqH",
        "colab_type": "code",
        "colab": {}
      },
      "source": [
        "# 데이터 자료형을 적절히 변형시켜 데이터의 크기를 줄이는 방법\n",
        "\n",
        "# for col in df_train.columns:\n",
        "#     col_type = df_train[col].dtypes\n",
        "#     min1 = df_train[col].min()\n",
        "#     max1 = df_train[col].max()\n",
        "#     if str(col_type)[:3] == 'int':\n",
        "#         df_train[col] = df_train[col].astype(np.int16)\n",
        "#     else:\n",
        "#         if min1 > np.finfo(np.float16).min and max1 < np.finfo(np.float16).max:\n",
        "#             df_train[col] = trdf_trainain[col].astype(np.float16)\n",
        "#         elif min1 > np.finfo(np.float32).min and max1 < np.finfo(np.float32).max:\n",
        "#             df_train[col] = df_train[col].astype(np.float32)\n",
        "#         else:\n",
        "#             df_train[col] = df_train[col].astype(np.float64)"
      ],
      "execution_count": 0,
      "outputs": []
    },
    {
      "cell_type": "code",
      "metadata": {
        "id": "-BNXAU5rsPJS",
        "colab_type": "code",
        "colab": {}
      },
      "source": [
        "df_train = pd.read_csv('/gdrive/My Drive/DACON-semiconductor-competition/dataset/train.csv')\n",
        "df_test = pd.read_csv('/gdrive/My Drive/DACON-semiconductor-competition/dataset/test.csv')"
      ],
      "execution_count": 0,
      "outputs": []
    },
    {
      "cell_type": "code",
      "metadata": {
        "id": "TdYXclfgsVr6",
        "colab_type": "code",
        "colab": {}
      },
      "source": [
        "# 독립변수와 종속변수를 분리합니다.\n",
        "\n",
        "train_X = df_train.iloc[:,4:]\n",
        "train_Y = df_train.iloc[:,0:4]\n",
        "test_X = df_test.iloc[:,1:]"
      ],
      "execution_count": 0,
      "outputs": []
    },
    {
      "cell_type": "code",
      "metadata": {
        "id": "Ogdcz8YctuVW",
        "colab_type": "code",
        "colab": {}
      },
      "source": [
        "# train set을 shuffle하여 다시 train set과 validation set으로 분리합니다.\n",
        "\n",
        "train_X, val_X, train_Y, val_Y = train_test_split(train_X, train_Y, test_size=0.25)"
      ],
      "execution_count": 0,
      "outputs": []
    },
    {
      "cell_type": "markdown",
      "metadata": {
        "id": "8tT4w6XasaSQ",
        "colab_type": "text"
      },
      "source": [
        "# Model 14"
      ]
    },
    {
      "cell_type": "markdown",
      "metadata": {
        "id": "4PSSfoS5sfWK",
        "colab_type": "text"
      },
      "source": [
        "* 15 layers\n",
        "* 800 units, he_normal, swish\n",
        "* BatchNormalization\n",
        "* Adam(0.001)\n",
        "* epochs 200\n",
        "* batch_size 630\n",
        "<br><br>\n",
        "* [layer] - [layer] - [BatchNormalization] 층을 더더욱 깊게 모델링"
      ]
    },
    {
      "cell_type": "code",
      "metadata": {
        "id": "SGEkxH551LkF",
        "colab_type": "code",
        "colab": {}
      },
      "source": [
        "# 케라스를 통해 모델 생성을 시작합니다.\n",
        "\n",
        "def create_model():\n",
        "    model = Sequential()\n",
        "    model.add(Dense(units=800, input_dim=226, kernel_initializer='he_normal'))\n",
        "    model.add(Dense(units=800, kernel_initializer='he_normal'))\n",
        "    model.add(BatchNormalization())\n",
        "    model.add(Activation(swish))\n",
        "    model.add(Dense(units=800, kernel_initializer='he_normal'))\n",
        "    model.add(Dense(units=800, kernel_initializer='he_normal'))\n",
        "    model.add(BatchNormalization())\n",
        "    model.add(Activation(swish))\n",
        "    model.add(Dense(units=800, kernel_initializer='he_normal'))\n",
        "    model.add(Dense(units=800, kernel_initializer='he_normal'))\n",
        "    model.add(BatchNormalization())\n",
        "    model.add(Activation(swish))\n",
        "    model.add(Dense(units=800, kernel_initializer='he_normal'))\n",
        "    model.add(Dense(units=800, kernel_initializer='he_normal'))\n",
        "    model.add(BatchNormalization())\n",
        "    model.add(Activation(swish))\n",
        "    model.add(Dense(units=800, kernel_initializer='he_normal'))\n",
        "    model.add(Dense(units=800, kernel_initializer='he_normal'))\n",
        "    model.add(BatchNormalization())\n",
        "    model.add(Activation(swish))\n",
        "    model.add(Dense(units=800, kernel_initializer='he_normal'))\n",
        "    model.add(Dense(units=800, kernel_initializer='he_normal'))\n",
        "    model.add(BatchNormalization())\n",
        "    model.add(Activation(swish))\n",
        "    model.add(Dense(units=800, kernel_initializer='he_normal'))\n",
        "    model.add(Dense(units=800, kernel_initializer='he_normal'))\n",
        "    model.add(BatchNormalization())\n",
        "    model.add(Activation(swish))\n",
        "    model.add(Dense(units=4, activation='linear'))\n",
        "\n",
        "    return model\n",
        "\n",
        "\n",
        "# Activation Function 정의\n",
        "\n",
        "def swish(x) :\n",
        "    return x * keras.activations.sigmoid(x)"
      ],
      "execution_count": 0,
      "outputs": []
    },
    {
      "cell_type": "code",
      "metadata": {
        "id": "35DQBYFkofR6",
        "colab_type": "code",
        "outputId": "f7bdf716-87b2-4439-b4c5-6129d16f159d",
        "colab": {
          "base_uri": "https://localhost:8080/",
          "height": 224
        }
      },
      "source": [
        "model = create_model()"
      ],
      "execution_count": 0,
      "outputs": [
        {
          "output_type": "stream",
          "text": [
            "WARNING:tensorflow:From /usr/local/lib/python3.6/dist-packages/keras/backend/tensorflow_backend.py:66: The name tf.get_default_graph is deprecated. Please use tf.compat.v1.get_default_graph instead.\n",
            "\n",
            "WARNING:tensorflow:From /usr/local/lib/python3.6/dist-packages/keras/backend/tensorflow_backend.py:541: The name tf.placeholder is deprecated. Please use tf.compat.v1.placeholder instead.\n",
            "\n",
            "WARNING:tensorflow:From /usr/local/lib/python3.6/dist-packages/keras/backend/tensorflow_backend.py:4479: The name tf.truncated_normal is deprecated. Please use tf.random.truncated_normal instead.\n",
            "\n",
            "WARNING:tensorflow:From /usr/local/lib/python3.6/dist-packages/keras/backend/tensorflow_backend.py:148: The name tf.placeholder_with_default is deprecated. Please use tf.compat.v1.placeholder_with_default instead.\n",
            "\n",
            "WARNING:tensorflow:From /usr/local/lib/python3.6/dist-packages/keras/backend/tensorflow_backend.py:4432: The name tf.random_uniform is deprecated. Please use tf.random.uniform instead.\n",
            "\n"
          ],
          "name": "stdout"
        }
      ]
    },
    {
      "cell_type": "code",
      "metadata": {
        "id": "6LHJR2uYXaZj",
        "colab_type": "code",
        "outputId": "afe5be63-409e-4cc6-d31e-2f9ebe807d47",
        "colab": {
          "base_uri": "https://localhost:8080/",
          "height": 75
        }
      },
      "source": [
        "adam = keras.optimizers.Adam(0.001)\n",
        "model.compile(loss='mae', optimizer=adam, metrics=['accuracy'])"
      ],
      "execution_count": 0,
      "outputs": [
        {
          "output_type": "stream",
          "text": [
            "WARNING:tensorflow:From /usr/local/lib/python3.6/dist-packages/keras/optimizers.py:793: The name tf.train.Optimizer is deprecated. Please use tf.compat.v1.train.Optimizer instead.\n",
            "\n"
          ],
          "name": "stdout"
        }
      ]
    },
    {
      "cell_type": "code",
      "metadata": {
        "id": "KbIkmXylXaiq",
        "colab_type": "code",
        "outputId": "baec0172-e3d1-41e9-debd-29de76a1076c",
        "colab": {
          "base_uri": "https://localhost:8080/",
          "height": 1000
        }
      },
      "source": [
        "hist = model.fit(train_X, train_Y, epochs=200, batch_size=630,\n",
        "                    validation_data=(val_X, val_Y))"
      ],
      "execution_count": 0,
      "outputs": [
        {
          "output_type": "stream",
          "text": [
            "WARNING:tensorflow:From /usr/local/lib/python3.6/dist-packages/keras/backend/tensorflow_backend.py:1033: The name tf.assign_add is deprecated. Please use tf.compat.v1.assign_add instead.\n",
            "\n",
            "WARNING:tensorflow:From /usr/local/lib/python3.6/dist-packages/keras/backend/tensorflow_backend.py:1020: The name tf.assign is deprecated. Please use tf.compat.v1.assign instead.\n",
            "\n",
            "Train on 607500 samples, validate on 202500 samples\n",
            "Epoch 1/200\n",
            "607500/607500 [==============================] - 32s 53us/step - loss: 68.2557 - acc: 0.3573 - val_loss: 61.1543 - val_acc: 0.3987\n",
            "Epoch 2/200\n",
            "607500/607500 [==============================] - 29s 48us/step - loss: 32.4503 - acc: 0.6599 - val_loss: 30.1201 - val_acc: 0.6897\n",
            "Epoch 3/200\n",
            "607500/607500 [==============================] - 29s 48us/step - loss: 20.3625 - acc: 0.7865 - val_loss: 20.7777 - val_acc: 0.7877\n",
            "Epoch 4/200\n",
            "607500/607500 [==============================] - 29s 48us/step - loss: 14.6846 - acc: 0.8442 - val_loss: 16.1990 - val_acc: 0.8235\n",
            "Epoch 5/200\n",
            "607500/607500 [==============================] - 29s 48us/step - loss: 11.4770 - acc: 0.8771 - val_loss: 13.0258 - val_acc: 0.8659\n",
            "Epoch 6/200\n",
            "607500/607500 [==============================] - 29s 48us/step - loss: 9.6378 - acc: 0.8962 - val_loss: 9.4884 - val_acc: 0.8935\n",
            "Epoch 7/200\n",
            "607500/607500 [==============================] - 29s 47us/step - loss: 8.3838 - acc: 0.9083 - val_loss: 8.2170 - val_acc: 0.9111\n",
            "Epoch 8/200\n",
            "607500/607500 [==============================] - 29s 47us/step - loss: 7.5338 - acc: 0.9170 - val_loss: 9.0203 - val_acc: 0.8968\n",
            "Epoch 9/200\n",
            "607500/607500 [==============================] - 28s 47us/step - loss: 6.9488 - acc: 0.9230 - val_loss: 7.7845 - val_acc: 0.9190\n",
            "Epoch 10/200\n",
            "607500/607500 [==============================] - 29s 47us/step - loss: 6.5067 - acc: 0.9275 - val_loss: 6.7661 - val_acc: 0.9246\n",
            "Epoch 11/200\n",
            "607500/607500 [==============================] - 28s 46us/step - loss: 6.0487 - acc: 0.9317 - val_loss: 6.7140 - val_acc: 0.9310\n",
            "Epoch 12/200\n",
            "607500/607500 [==============================] - 29s 47us/step - loss: 5.7778 - acc: 0.9342 - val_loss: 5.3528 - val_acc: 0.9428\n",
            "Epoch 13/200\n",
            "607500/607500 [==============================] - 28s 46us/step - loss: 5.5181 - acc: 0.9364 - val_loss: 5.7555 - val_acc: 0.9354\n",
            "Epoch 14/200\n",
            "607500/607500 [==============================] - 28s 47us/step - loss: 5.2304 - acc: 0.9397 - val_loss: 5.5530 - val_acc: 0.9425\n",
            "Epoch 15/200\n",
            "607500/607500 [==============================] - 29s 47us/step - loss: 5.0295 - acc: 0.9413 - val_loss: 4.5112 - val_acc: 0.9452\n",
            "Epoch 16/200\n",
            "607500/607500 [==============================] - 29s 47us/step - loss: 4.8562 - acc: 0.9429 - val_loss: 4.3372 - val_acc: 0.9480\n",
            "Epoch 17/200\n",
            "607500/607500 [==============================] - 28s 47us/step - loss: 4.7039 - acc: 0.9441 - val_loss: 4.8146 - val_acc: 0.9400\n",
            "Epoch 18/200\n",
            "607500/607500 [==============================] - 28s 47us/step - loss: 4.5581 - acc: 0.9455 - val_loss: 4.1172 - val_acc: 0.9550\n",
            "Epoch 19/200\n",
            "607500/607500 [==============================] - 28s 47us/step - loss: 4.4211 - acc: 0.9468 - val_loss: 4.0037 - val_acc: 0.9488\n",
            "Epoch 20/200\n",
            "607500/607500 [==============================] - 28s 46us/step - loss: 4.2649 - acc: 0.9481 - val_loss: 3.9733 - val_acc: 0.9476\n",
            "Epoch 21/200\n",
            "607500/607500 [==============================] - 28s 47us/step - loss: 4.1382 - acc: 0.9493 - val_loss: 4.3975 - val_acc: 0.9553\n",
            "Epoch 22/200\n",
            "607500/607500 [==============================] - 28s 46us/step - loss: 4.0229 - acc: 0.9506 - val_loss: 3.8901 - val_acc: 0.9517\n",
            "Epoch 23/200\n",
            "607500/607500 [==============================] - 28s 47us/step - loss: 3.9111 - acc: 0.9512 - val_loss: 3.6218 - val_acc: 0.9497\n",
            "Epoch 24/200\n",
            "607500/607500 [==============================] - 28s 46us/step - loss: 3.8045 - acc: 0.9525 - val_loss: 3.6647 - val_acc: 0.9503\n",
            "Epoch 25/200\n",
            "607500/607500 [==============================] - 28s 46us/step - loss: 3.7268 - acc: 0.9527 - val_loss: 3.6794 - val_acc: 0.9512\n",
            "Epoch 26/200\n",
            "607500/607500 [==============================] - 28s 46us/step - loss: 3.6220 - acc: 0.9534 - val_loss: 3.4432 - val_acc: 0.9594\n",
            "Epoch 27/200\n",
            "607500/607500 [==============================] - 29s 47us/step - loss: 3.5476 - acc: 0.9541 - val_loss: 3.3056 - val_acc: 0.9506\n",
            "Epoch 28/200\n",
            "607500/607500 [==============================] - 28s 46us/step - loss: 3.4466 - acc: 0.9548 - val_loss: 3.1160 - val_acc: 0.9598\n",
            "Epoch 29/200\n",
            "607500/607500 [==============================] - 28s 46us/step - loss: 3.3264 - acc: 0.9559 - val_loss: 3.1001 - val_acc: 0.9595\n",
            "Epoch 30/200\n",
            "607500/607500 [==============================] - 28s 46us/step - loss: 3.2706 - acc: 0.9567 - val_loss: 3.4979 - val_acc: 0.9528\n",
            "Epoch 31/200\n",
            "607500/607500 [==============================] - 28s 46us/step - loss: 3.2074 - acc: 0.9566 - val_loss: 3.4063 - val_acc: 0.9617\n",
            "Epoch 32/200\n",
            "607500/607500 [==============================] - 28s 46us/step - loss: 3.1138 - acc: 0.9572 - val_loss: 3.1107 - val_acc: 0.9556\n",
            "Epoch 33/200\n",
            "607500/607500 [==============================] - 28s 46us/step - loss: 3.0695 - acc: 0.9580 - val_loss: 3.2424 - val_acc: 0.9557\n",
            "Epoch 34/200\n",
            "607500/607500 [==============================] - 28s 46us/step - loss: 2.9686 - acc: 0.9588 - val_loss: 3.4806 - val_acc: 0.9513\n",
            "Epoch 35/200\n",
            "607500/607500 [==============================] - 28s 46us/step - loss: 2.9428 - acc: 0.9584 - val_loss: 3.1800 - val_acc: 0.9560\n",
            "Epoch 36/200\n",
            "607500/607500 [==============================] - 28s 46us/step - loss: 2.8340 - acc: 0.9594 - val_loss: 2.4879 - val_acc: 0.9669\n",
            "Epoch 37/200\n",
            "607500/607500 [==============================] - 28s 46us/step - loss: 2.7881 - acc: 0.9597 - val_loss: 2.5528 - val_acc: 0.9548\n",
            "Epoch 38/200\n",
            "607500/607500 [==============================] - 28s 47us/step - loss: 2.7483 - acc: 0.9599 - val_loss: 3.2288 - val_acc: 0.9467\n",
            "Epoch 39/200\n",
            "607500/607500 [==============================] - 28s 46us/step - loss: 2.6796 - acc: 0.9606 - val_loss: 2.9919 - val_acc: 0.9614\n",
            "Epoch 40/200\n",
            "607500/607500 [==============================] - 28s 46us/step - loss: 2.6454 - acc: 0.9607 - val_loss: 3.4892 - val_acc: 0.9511\n",
            "Epoch 41/200\n",
            "607500/607500 [==============================] - 28s 45us/step - loss: 2.5864 - acc: 0.9612 - val_loss: 2.4189 - val_acc: 0.9719\n",
            "Epoch 42/200\n",
            "607500/607500 [==============================] - 28s 45us/step - loss: 2.5300 - acc: 0.9616 - val_loss: 2.5412 - val_acc: 0.9671\n",
            "Epoch 43/200\n",
            "607500/607500 [==============================] - 28s 45us/step - loss: 2.5229 - acc: 0.9612 - val_loss: 2.6924 - val_acc: 0.9654\n",
            "Epoch 44/200\n",
            "607500/607500 [==============================] - 28s 45us/step - loss: 2.4700 - acc: 0.9616 - val_loss: 2.4617 - val_acc: 0.9670\n",
            "Epoch 45/200\n",
            "607500/607500 [==============================] - 28s 46us/step - loss: 2.4237 - acc: 0.9618 - val_loss: 2.2427 - val_acc: 0.9688\n",
            "Epoch 46/200\n",
            "607500/607500 [==============================] - 28s 45us/step - loss: 2.3667 - acc: 0.9620 - val_loss: 2.5882 - val_acc: 0.9643\n",
            "Epoch 47/200\n",
            "607500/607500 [==============================] - 28s 46us/step - loss: 2.3436 - acc: 0.9622 - val_loss: 2.5553 - val_acc: 0.9617\n",
            "Epoch 48/200\n",
            "607500/607500 [==============================] - 27s 45us/step - loss: 2.3334 - acc: 0.9624 - val_loss: 2.2065 - val_acc: 0.9666\n",
            "Epoch 49/200\n",
            "607500/607500 [==============================] - 28s 46us/step - loss: 2.2750 - acc: 0.9622 - val_loss: 2.1201 - val_acc: 0.9632\n",
            "Epoch 50/200\n",
            "607500/607500 [==============================] - 27s 45us/step - loss: 2.2865 - acc: 0.9626 - val_loss: 2.4116 - val_acc: 0.9697\n",
            "Epoch 51/200\n",
            "607500/607500 [==============================] - 28s 45us/step - loss: 2.2331 - acc: 0.9626 - val_loss: 2.4766 - val_acc: 0.9665\n",
            "Epoch 52/200\n",
            "607500/607500 [==============================] - 27s 45us/step - loss: 2.1916 - acc: 0.9629 - val_loss: 2.2798 - val_acc: 0.9565\n",
            "Epoch 53/200\n",
            "607500/607500 [==============================] - 28s 46us/step - loss: 2.2033 - acc: 0.9629 - val_loss: 2.1384 - val_acc: 0.9658\n",
            "Epoch 54/200\n",
            "607500/607500 [==============================] - 27s 45us/step - loss: 2.1498 - acc: 0.9633 - val_loss: 2.2365 - val_acc: 0.9639\n",
            "Epoch 55/200\n",
            "607500/607500 [==============================] - 28s 46us/step - loss: 2.1313 - acc: 0.9631 - val_loss: 2.3481 - val_acc: 0.9582\n",
            "Epoch 56/200\n",
            "607500/607500 [==============================] - 27s 45us/step - loss: 2.1040 - acc: 0.9631 - val_loss: 1.9809 - val_acc: 0.9637\n",
            "Epoch 57/200\n",
            "607500/607500 [==============================] - 27s 45us/step - loss: 2.0945 - acc: 0.9632 - val_loss: 1.9051 - val_acc: 0.9735\n",
            "Epoch 58/200\n",
            "607500/607500 [==============================] - 27s 45us/step - loss: 2.0642 - acc: 0.9635 - val_loss: 2.0260 - val_acc: 0.9569\n",
            "Epoch 59/200\n",
            "607500/607500 [==============================] - 27s 45us/step - loss: 2.0344 - acc: 0.9633 - val_loss: 2.0498 - val_acc: 0.9708\n",
            "Epoch 60/200\n",
            "607500/607500 [==============================] - 28s 46us/step - loss: 2.0138 - acc: 0.9634 - val_loss: 2.0739 - val_acc: 0.9630\n",
            "Epoch 61/200\n",
            "607500/607500 [==============================] - 28s 46us/step - loss: 2.0251 - acc: 0.9635 - val_loss: 1.8215 - val_acc: 0.9552\n",
            "Epoch 62/200\n",
            "607500/607500 [==============================] - 28s 45us/step - loss: 1.9850 - acc: 0.9639 - val_loss: 1.9418 - val_acc: 0.9555\n",
            "Epoch 63/200\n",
            "607500/607500 [==============================] - 27s 45us/step - loss: 1.9814 - acc: 0.9639 - val_loss: 2.1334 - val_acc: 0.9679\n",
            "Epoch 64/200\n",
            "607500/607500 [==============================] - 28s 46us/step - loss: 1.9641 - acc: 0.9638 - val_loss: 1.8917 - val_acc: 0.9579\n",
            "Epoch 65/200\n",
            "607500/607500 [==============================] - 27s 45us/step - loss: 1.9610 - acc: 0.9637 - val_loss: 2.0759 - val_acc: 0.9666\n",
            "Epoch 66/200\n",
            "607500/607500 [==============================] - 28s 45us/step - loss: 1.9134 - acc: 0.9641 - val_loss: 1.7577 - val_acc: 0.9710\n",
            "Epoch 67/200\n",
            "607500/607500 [==============================] - 27s 45us/step - loss: 1.9145 - acc: 0.9640 - val_loss: 1.8927 - val_acc: 0.9569\n",
            "Epoch 68/200\n",
            "607500/607500 [==============================] - 28s 46us/step - loss: 1.8999 - acc: 0.9640 - val_loss: 1.9280 - val_acc: 0.9658\n",
            "Epoch 69/200\n",
            "607500/607500 [==============================] - 27s 45us/step - loss: 1.8860 - acc: 0.9638 - val_loss: 1.8524 - val_acc: 0.9638\n",
            "Epoch 70/200\n",
            "607500/607500 [==============================] - 28s 45us/step - loss: 1.8724 - acc: 0.9642 - val_loss: 2.0881 - val_acc: 0.9658\n",
            "Epoch 71/200\n",
            "607500/607500 [==============================] - 28s 45us/step - loss: 1.8701 - acc: 0.9641 - val_loss: 1.9759 - val_acc: 0.9645\n",
            "Epoch 72/200\n",
            "607500/607500 [==============================] - 28s 46us/step - loss: 1.8428 - acc: 0.9641 - val_loss: 1.7897 - val_acc: 0.9654\n",
            "Epoch 73/200\n",
            "607500/607500 [==============================] - 27s 45us/step - loss: 1.8285 - acc: 0.9645 - val_loss: 1.7596 - val_acc: 0.9558\n",
            "Epoch 74/200\n",
            "607500/607500 [==============================] - 27s 45us/step - loss: 1.8205 - acc: 0.9644 - val_loss: 1.6208 - val_acc: 0.9618\n",
            "Epoch 75/200\n",
            "607500/607500 [==============================] - 28s 45us/step - loss: 1.8078 - acc: 0.9645 - val_loss: 1.8771 - val_acc: 0.9664\n",
            "Epoch 76/200\n",
            "607500/607500 [==============================] - 27s 45us/step - loss: 1.7899 - acc: 0.9642 - val_loss: 1.7260 - val_acc: 0.9664\n",
            "Epoch 77/200\n",
            "607500/607500 [==============================] - 27s 45us/step - loss: 1.7812 - acc: 0.9644 - val_loss: 1.8877 - val_acc: 0.9590\n",
            "Epoch 78/200\n",
            "607500/607500 [==============================] - 27s 45us/step - loss: 1.7762 - acc: 0.9643 - val_loss: 1.6338 - val_acc: 0.9646\n",
            "Epoch 79/200\n",
            "607500/607500 [==============================] - 27s 45us/step - loss: 1.7692 - acc: 0.9645 - val_loss: 1.6325 - val_acc: 0.9631\n",
            "Epoch 80/200\n",
            "607500/607500 [==============================] - 27s 45us/step - loss: 1.7420 - acc: 0.9648 - val_loss: 1.6181 - val_acc: 0.9590\n",
            "Epoch 81/200\n",
            "607500/607500 [==============================] - 27s 45us/step - loss: 1.7443 - acc: 0.9643 - val_loss: 1.6405 - val_acc: 0.9623\n",
            "Epoch 82/200\n",
            "607500/607500 [==============================] - 27s 45us/step - loss: 1.7216 - acc: 0.9646 - val_loss: 1.5179 - val_acc: 0.9677\n",
            "Epoch 83/200\n",
            "607500/607500 [==============================] - 28s 45us/step - loss: 1.7174 - acc: 0.9649 - val_loss: 1.7626 - val_acc: 0.9697\n",
            "Epoch 84/200\n",
            "607500/607500 [==============================] - 28s 45us/step - loss: 1.6962 - acc: 0.9646 - val_loss: 1.8022 - val_acc: 0.9658\n",
            "Epoch 85/200\n",
            "607500/607500 [==============================] - 27s 45us/step - loss: 1.6950 - acc: 0.9646 - val_loss: 1.7154 - val_acc: 0.9596\n",
            "Epoch 86/200\n",
            "607500/607500 [==============================] - 27s 45us/step - loss: 1.7007 - acc: 0.9645 - val_loss: 1.9850 - val_acc: 0.9609\n",
            "Epoch 87/200\n",
            "607500/607500 [==============================] - 27s 45us/step - loss: 1.6869 - acc: 0.9648 - val_loss: 1.6972 - val_acc: 0.9617\n",
            "Epoch 88/200\n",
            "607500/607500 [==============================] - 28s 45us/step - loss: 1.6772 - acc: 0.9646 - val_loss: 1.8242 - val_acc: 0.9587\n",
            "Epoch 89/200\n",
            "607500/607500 [==============================] - 27s 45us/step - loss: 1.6619 - acc: 0.9648 - val_loss: 1.7669 - val_acc: 0.9626\n",
            "Epoch 90/200\n",
            "607500/607500 [==============================] - 28s 46us/step - loss: 1.6644 - acc: 0.9649 - val_loss: 2.0065 - val_acc: 0.9660\n",
            "Epoch 91/200\n",
            "607500/607500 [==============================] - 28s 46us/step - loss: 1.6612 - acc: 0.9647 - val_loss: 1.6417 - val_acc: 0.9589\n",
            "Epoch 92/200\n",
            "607500/607500 [==============================] - 28s 46us/step - loss: 1.6463 - acc: 0.9647 - val_loss: 1.5445 - val_acc: 0.9702\n",
            "Epoch 93/200\n",
            "607500/607500 [==============================] - 28s 46us/step - loss: 1.6446 - acc: 0.9647 - val_loss: 1.5757 - val_acc: 0.9698\n",
            "Epoch 94/200\n",
            "607500/607500 [==============================] - 28s 45us/step - loss: 1.6192 - acc: 0.9647 - val_loss: 1.5184 - val_acc: 0.9625\n",
            "Epoch 95/200\n",
            "607500/607500 [==============================] - 27s 45us/step - loss: 1.6060 - acc: 0.9651 - val_loss: 1.4114 - val_acc: 0.9608\n",
            "Epoch 96/200\n",
            "607500/607500 [==============================] - 27s 45us/step - loss: 1.6224 - acc: 0.9646 - val_loss: 1.6024 - val_acc: 0.9542\n",
            "Epoch 97/200\n",
            "607500/607500 [==============================] - 27s 45us/step - loss: 1.5974 - acc: 0.9653 - val_loss: 1.4184 - val_acc: 0.9633\n",
            "Epoch 98/200\n",
            "607500/607500 [==============================] - 27s 45us/step - loss: 1.5812 - acc: 0.9648 - val_loss: 1.8733 - val_acc: 0.9672\n",
            "Epoch 99/200\n",
            "607500/607500 [==============================] - 28s 46us/step - loss: 1.5993 - acc: 0.9650 - val_loss: 1.4488 - val_acc: 0.9690\n",
            "Epoch 100/200\n",
            "607500/607500 [==============================] - 27s 45us/step - loss: 1.5540 - acc: 0.9651 - val_loss: 1.7777 - val_acc: 0.9666\n",
            "Epoch 101/200\n",
            "607500/607500 [==============================] - 28s 46us/step - loss: 1.6016 - acc: 0.9647 - val_loss: 1.6590 - val_acc: 0.9622\n",
            "Epoch 102/200\n",
            "607500/607500 [==============================] - 28s 46us/step - loss: 1.5606 - acc: 0.9650 - val_loss: 1.4097 - val_acc: 0.9637\n",
            "Epoch 103/200\n",
            "607500/607500 [==============================] - 28s 46us/step - loss: 1.5600 - acc: 0.9650 - val_loss: 1.3557 - val_acc: 0.9636\n",
            "Epoch 104/200\n",
            "607500/607500 [==============================] - 28s 46us/step - loss: 1.5488 - acc: 0.9651 - val_loss: 1.4500 - val_acc: 0.9583\n",
            "Epoch 105/200\n",
            "607500/607500 [==============================] - 28s 46us/step - loss: 1.5520 - acc: 0.9650 - val_loss: 1.7130 - val_acc: 0.9665\n",
            "Epoch 106/200\n",
            "607500/607500 [==============================] - 28s 46us/step - loss: 1.5279 - acc: 0.9649 - val_loss: 1.5004 - val_acc: 0.9643\n",
            "Epoch 107/200\n",
            "607500/607500 [==============================] - 28s 46us/step - loss: 1.5399 - acc: 0.9649 - val_loss: 1.6860 - val_acc: 0.9713\n",
            "Epoch 108/200\n",
            "607500/607500 [==============================] - 28s 46us/step - loss: 1.5139 - acc: 0.9651 - val_loss: 1.4183 - val_acc: 0.9623\n",
            "Epoch 109/200\n",
            "607500/607500 [==============================] - 28s 46us/step - loss: 1.5223 - acc: 0.9650 - val_loss: 1.7493 - val_acc: 0.9694\n",
            "Epoch 110/200\n",
            "607500/607500 [==============================] - 28s 46us/step - loss: 1.5098 - acc: 0.9650 - val_loss: 1.3450 - val_acc: 0.9725\n",
            "Epoch 111/200\n",
            "607500/607500 [==============================] - 28s 46us/step - loss: 1.5053 - acc: 0.9653 - val_loss: 1.5166 - val_acc: 0.9715\n",
            "Epoch 112/200\n",
            "607500/607500 [==============================] - 28s 45us/step - loss: 1.4943 - acc: 0.9655 - val_loss: 1.3593 - val_acc: 0.9613\n",
            "Epoch 113/200\n",
            "607500/607500 [==============================] - 27s 45us/step - loss: 1.5066 - acc: 0.9650 - val_loss: 1.5904 - val_acc: 0.9580\n",
            "Epoch 114/200\n",
            "607500/607500 [==============================] - 28s 45us/step - loss: 1.4826 - acc: 0.9653 - val_loss: 1.7259 - val_acc: 0.9661\n",
            "Epoch 115/200\n",
            "607500/607500 [==============================] - 27s 45us/step - loss: 1.4872 - acc: 0.9651 - val_loss: 1.5162 - val_acc: 0.9629\n",
            "Epoch 116/200\n",
            "607500/607500 [==============================] - 28s 46us/step - loss: 1.4883 - acc: 0.9649 - val_loss: 1.6186 - val_acc: 0.9688\n",
            "Epoch 117/200\n",
            "607500/607500 [==============================] - 28s 45us/step - loss: 1.4509 - acc: 0.9653 - val_loss: 1.5528 - val_acc: 0.9737\n",
            "Epoch 118/200\n",
            "607500/607500 [==============================] - 28s 45us/step - loss: 1.4754 - acc: 0.9651 - val_loss: 1.2439 - val_acc: 0.9658\n",
            "Epoch 119/200\n",
            "607500/607500 [==============================] - 27s 45us/step - loss: 1.4653 - acc: 0.9650 - val_loss: 1.4898 - val_acc: 0.9608\n",
            "Epoch 120/200\n",
            "607500/607500 [==============================] - 27s 45us/step - loss: 1.4436 - acc: 0.9649 - val_loss: 1.4814 - val_acc: 0.9670\n",
            "Epoch 121/200\n",
            "607500/607500 [==============================] - 27s 45us/step - loss: 1.4456 - acc: 0.9650 - val_loss: 1.5032 - val_acc: 0.9709\n",
            "Epoch 122/200\n",
            "607500/607500 [==============================] - 27s 45us/step - loss: 1.4537 - acc: 0.9651 - val_loss: 1.4557 - val_acc: 0.9677\n",
            "Epoch 123/200\n",
            "607500/607500 [==============================] - 28s 45us/step - loss: 1.4511 - acc: 0.9652 - val_loss: 1.5450 - val_acc: 0.9572\n",
            "Epoch 124/200\n",
            "607500/607500 [==============================] - 27s 45us/step - loss: 1.4280 - acc: 0.9651 - val_loss: 1.5071 - val_acc: 0.9693\n",
            "Epoch 125/200\n",
            "607500/607500 [==============================] - 28s 46us/step - loss: 1.4260 - acc: 0.9654 - val_loss: 1.4121 - val_acc: 0.9683\n",
            "Epoch 126/200\n",
            "607500/607500 [==============================] - 27s 45us/step - loss: 1.4243 - acc: 0.9651 - val_loss: 1.3886 - val_acc: 0.9633\n",
            "Epoch 127/200\n",
            "607500/607500 [==============================] - 28s 46us/step - loss: 1.4174 - acc: 0.9653 - val_loss: 1.2759 - val_acc: 0.9702\n",
            "Epoch 128/200\n",
            "607500/607500 [==============================] - 28s 45us/step - loss: 1.3976 - acc: 0.9653 - val_loss: 1.3282 - val_acc: 0.9676\n",
            "Epoch 129/200\n",
            "607500/607500 [==============================] - 28s 45us/step - loss: 1.4043 - acc: 0.9653 - val_loss: 1.4035 - val_acc: 0.9634\n",
            "Epoch 130/200\n",
            "607500/607500 [==============================] - 27s 45us/step - loss: 1.4137 - acc: 0.9653 - val_loss: 1.3601 - val_acc: 0.9645\n",
            "Epoch 131/200\n",
            "607500/607500 [==============================] - 27s 45us/step - loss: 1.3981 - acc: 0.9655 - val_loss: 1.2759 - val_acc: 0.9682\n",
            "Epoch 132/200\n",
            "607500/607500 [==============================] - 27s 45us/step - loss: 1.4059 - acc: 0.9651 - val_loss: 1.2785 - val_acc: 0.9622\n",
            "Epoch 133/200\n",
            "607500/607500 [==============================] - 27s 45us/step - loss: 1.3950 - acc: 0.9652 - val_loss: 1.4329 - val_acc: 0.9605\n",
            "Epoch 134/200\n",
            "607500/607500 [==============================] - 28s 46us/step - loss: 1.3880 - acc: 0.9652 - val_loss: 1.2987 - val_acc: 0.9635\n",
            "Epoch 135/200\n",
            "607500/607500 [==============================] - 27s 45us/step - loss: 1.3872 - acc: 0.9653 - val_loss: 1.1935 - val_acc: 0.9654\n",
            "Epoch 136/200\n",
            "607500/607500 [==============================] - 28s 45us/step - loss: 1.3760 - acc: 0.9654 - val_loss: 1.3425 - val_acc: 0.9696\n",
            "Epoch 137/200\n",
            "607500/607500 [==============================] - 27s 45us/step - loss: 1.3660 - acc: 0.9652 - val_loss: 1.3350 - val_acc: 0.9671\n",
            "Epoch 138/200\n",
            "607500/607500 [==============================] - 28s 46us/step - loss: 1.3756 - acc: 0.9655 - val_loss: 1.2627 - val_acc: 0.9644\n",
            "Epoch 139/200\n",
            "607500/607500 [==============================] - 27s 45us/step - loss: 1.3767 - acc: 0.9655 - val_loss: 1.3213 - val_acc: 0.9743\n",
            "Epoch 140/200\n",
            "607500/607500 [==============================] - 28s 46us/step - loss: 1.3671 - acc: 0.9652 - val_loss: 1.5146 - val_acc: 0.9630\n",
            "Epoch 141/200\n",
            "607500/607500 [==============================] - 27s 45us/step - loss: 1.3637 - acc: 0.9654 - val_loss: 1.4208 - val_acc: 0.9655\n",
            "Epoch 142/200\n",
            "607500/607500 [==============================] - 27s 45us/step - loss: 1.3626 - acc: 0.9654 - val_loss: 1.1941 - val_acc: 0.9649\n",
            "Epoch 143/200\n",
            "607500/607500 [==============================] - 28s 45us/step - loss: 1.3548 - acc: 0.9654 - val_loss: 1.5431 - val_acc: 0.9587\n",
            "Epoch 144/200\n",
            "607500/607500 [==============================] - 27s 45us/step - loss: 1.3519 - acc: 0.9651 - val_loss: 1.2233 - val_acc: 0.9665\n",
            "Epoch 145/200\n",
            "607500/607500 [==============================] - 28s 45us/step - loss: 1.3441 - acc: 0.9652 - val_loss: 1.2417 - val_acc: 0.9641\n",
            "Epoch 146/200\n",
            "607500/607500 [==============================] - 27s 45us/step - loss: 1.3427 - acc: 0.9651 - val_loss: 1.2352 - val_acc: 0.9601\n",
            "Epoch 147/200\n",
            "607500/607500 [==============================] - 27s 45us/step - loss: 1.3452 - acc: 0.9653 - val_loss: 1.4020 - val_acc: 0.9578\n",
            "Epoch 148/200\n",
            "607500/607500 [==============================] - 27s 45us/step - loss: 1.3331 - acc: 0.9653 - val_loss: 1.3828 - val_acc: 0.9681\n",
            "Epoch 149/200\n",
            "607500/607500 [==============================] - 28s 45us/step - loss: 1.3320 - acc: 0.9652 - val_loss: 1.2862 - val_acc: 0.9626\n",
            "Epoch 150/200\n",
            "607500/607500 [==============================] - 27s 45us/step - loss: 1.3155 - acc: 0.9656 - val_loss: 1.1589 - val_acc: 0.9657\n",
            "Epoch 151/200\n",
            "607500/607500 [==============================] - 28s 46us/step - loss: 1.3305 - acc: 0.9652 - val_loss: 1.2804 - val_acc: 0.9690\n",
            "Epoch 152/200\n",
            "607500/607500 [==============================] - 27s 45us/step - loss: 1.3170 - acc: 0.9653 - val_loss: 1.2295 - val_acc: 0.9714\n",
            "Epoch 153/200\n",
            "607500/607500 [==============================] - 28s 45us/step - loss: 1.3102 - acc: 0.9654 - val_loss: 1.2057 - val_acc: 0.9598\n",
            "Epoch 154/200\n",
            "607500/607500 [==============================] - 27s 45us/step - loss: 1.3083 - acc: 0.9656 - val_loss: 1.2927 - val_acc: 0.9658\n",
            "Epoch 155/200\n",
            "607500/607500 [==============================] - 27s 45us/step - loss: 1.3037 - acc: 0.9654 - val_loss: 1.4173 - val_acc: 0.9669\n",
            "Epoch 156/200\n",
            "607500/607500 [==============================] - 27s 45us/step - loss: 1.3011 - acc: 0.9656 - val_loss: 1.3806 - val_acc: 0.9653\n",
            "Epoch 157/200\n",
            "607500/607500 [==============================] - 27s 45us/step - loss: 1.3143 - acc: 0.9653 - val_loss: 1.1846 - val_acc: 0.9766\n",
            "Epoch 158/200\n",
            "607500/607500 [==============================] - 27s 45us/step - loss: 1.3104 - acc: 0.9655 - val_loss: 1.2878 - val_acc: 0.9654\n",
            "Epoch 159/200\n",
            "607500/607500 [==============================] - 27s 45us/step - loss: 1.2782 - acc: 0.9654 - val_loss: 1.2977 - val_acc: 0.9578\n",
            "Epoch 160/200\n",
            "607500/607500 [==============================] - 27s 45us/step - loss: 1.2912 - acc: 0.9655 - val_loss: 1.3180 - val_acc: 0.9637\n",
            "Epoch 161/200\n",
            "607500/607500 [==============================] - 27s 45us/step - loss: 1.2838 - acc: 0.9653 - val_loss: 1.2934 - val_acc: 0.9681\n",
            "Epoch 162/200\n",
            "607500/607500 [==============================] - 28s 46us/step - loss: 1.2895 - acc: 0.9656 - val_loss: 1.1802 - val_acc: 0.9567\n",
            "Epoch 163/200\n",
            "607500/607500 [==============================] - 27s 45us/step - loss: 1.2823 - acc: 0.9653 - val_loss: 1.3263 - val_acc: 0.9746\n",
            "Epoch 164/200\n",
            "607500/607500 [==============================] - 27s 45us/step - loss: 1.2828 - acc: 0.9659 - val_loss: 1.1858 - val_acc: 0.9677\n",
            "Epoch 165/200\n",
            "607500/607500 [==============================] - 27s 45us/step - loss: 1.2671 - acc: 0.9658 - val_loss: 1.3927 - val_acc: 0.9700\n",
            "Epoch 166/200\n",
            "607500/607500 [==============================] - 28s 45us/step - loss: 1.2876 - acc: 0.9656 - val_loss: 1.1977 - val_acc: 0.9735\n",
            "Epoch 167/200\n",
            "607500/607500 [==============================] - 27s 45us/step - loss: 1.2804 - acc: 0.9655 - val_loss: 1.3092 - val_acc: 0.9646\n",
            "Epoch 168/200\n",
            "607500/607500 [==============================] - 27s 45us/step - loss: 1.2646 - acc: 0.9654 - val_loss: 1.2591 - val_acc: 0.9713\n",
            "Epoch 169/200\n",
            "607500/607500 [==============================] - 27s 45us/step - loss: 1.2811 - acc: 0.9654 - val_loss: 1.3798 - val_acc: 0.9628\n",
            "Epoch 170/200\n",
            "607500/607500 [==============================] - 27s 45us/step - loss: 1.2639 - acc: 0.9655 - val_loss: 1.2402 - val_acc: 0.9569\n",
            "Epoch 171/200\n",
            "607500/607500 [==============================] - 28s 45us/step - loss: 1.2503 - acc: 0.9656 - val_loss: 1.1857 - val_acc: 0.9723\n",
            "Epoch 172/200\n",
            "607500/607500 [==============================] - 27s 45us/step - loss: 1.2659 - acc: 0.9659 - val_loss: 1.3390 - val_acc: 0.9698\n",
            "Epoch 173/200\n",
            "607500/607500 [==============================] - 28s 46us/step - loss: 1.2610 - acc: 0.9654 - val_loss: 1.4146 - val_acc: 0.9625\n",
            "Epoch 174/200\n",
            "607500/607500 [==============================] - 27s 45us/step - loss: 1.2374 - acc: 0.9658 - val_loss: 1.2574 - val_acc: 0.9673\n",
            "Epoch 175/200\n",
            "607500/607500 [==============================] - 27s 45us/step - loss: 1.2585 - acc: 0.9655 - val_loss: 1.2034 - val_acc: 0.9660\n",
            "Epoch 176/200\n",
            "607500/607500 [==============================] - 27s 45us/step - loss: 1.2473 - acc: 0.9655 - val_loss: 1.1273 - val_acc: 0.9737\n",
            "Epoch 177/200\n",
            "607500/607500 [==============================] - 27s 45us/step - loss: 1.2448 - acc: 0.9655 - val_loss: 1.1913 - val_acc: 0.9689\n",
            "Epoch 178/200\n",
            "607500/607500 [==============================] - 27s 45us/step - loss: 1.2474 - acc: 0.9654 - val_loss: 1.2284 - val_acc: 0.9685\n",
            "Epoch 179/200\n",
            "607500/607500 [==============================] - 27s 45us/step - loss: 1.2309 - acc: 0.9654 - val_loss: 1.1273 - val_acc: 0.9629\n",
            "Epoch 180/200\n",
            "607500/607500 [==============================] - 27s 45us/step - loss: 1.2399 - acc: 0.9656 - val_loss: 1.1517 - val_acc: 0.9587\n",
            "Epoch 181/200\n",
            "607500/607500 [==============================] - 27s 45us/step - loss: 1.2294 - acc: 0.9657 - val_loss: 1.2511 - val_acc: 0.9685\n",
            "Epoch 182/200\n",
            "607500/607500 [==============================] - 28s 45us/step - loss: 1.2197 - acc: 0.9656 - val_loss: 1.0898 - val_acc: 0.9621\n",
            "Epoch 183/200\n",
            "607500/607500 [==============================] - 27s 45us/step - loss: 1.2284 - acc: 0.9657 - val_loss: 1.2432 - val_acc: 0.9662\n",
            "Epoch 184/200\n",
            "607500/607500 [==============================] - 27s 45us/step - loss: 1.2324 - acc: 0.9657 - val_loss: 1.1928 - val_acc: 0.9636\n",
            "Epoch 185/200\n",
            "607500/607500 [==============================] - 27s 45us/step - loss: 1.2324 - acc: 0.9656 - val_loss: 1.1762 - val_acc: 0.9557\n",
            "Epoch 186/200\n",
            "607500/607500 [==============================] - 28s 45us/step - loss: 1.2128 - acc: 0.9657 - val_loss: 1.2728 - val_acc: 0.9639\n",
            "Epoch 187/200\n",
            "607500/607500 [==============================] - 27s 45us/step - loss: 1.2194 - acc: 0.9657 - val_loss: 1.2103 - val_acc: 0.9677\n",
            "Epoch 188/200\n",
            "607500/607500 [==============================] - 27s 45us/step - loss: 1.2149 - acc: 0.9657 - val_loss: 1.0889 - val_acc: 0.9714\n",
            "Epoch 189/200\n",
            "607500/607500 [==============================] - 27s 45us/step - loss: 1.2100 - acc: 0.9657 - val_loss: 1.1341 - val_acc: 0.9615\n",
            "Epoch 190/200\n",
            "607500/607500 [==============================] - 27s 45us/step - loss: 1.2099 - acc: 0.9656 - val_loss: 1.2960 - val_acc: 0.9710\n",
            "Epoch 191/200\n",
            "607500/607500 [==============================] - 27s 45us/step - loss: 1.2042 - acc: 0.9660 - val_loss: 1.1520 - val_acc: 0.9666\n",
            "Epoch 192/200\n",
            "607500/607500 [==============================] - 27s 45us/step - loss: 1.2025 - acc: 0.9660 - val_loss: 1.1463 - val_acc: 0.9635\n",
            "Epoch 193/200\n",
            "607500/607500 [==============================] - 28s 45us/step - loss: 1.2035 - acc: 0.9657 - val_loss: 1.1718 - val_acc: 0.9720\n",
            "Epoch 194/200\n",
            "607500/607500 [==============================] - 27s 44us/step - loss: 1.2021 - acc: 0.9655 - val_loss: 1.2036 - val_acc: 0.9658\n",
            "Epoch 195/200\n",
            "607500/607500 [==============================] - 27s 45us/step - loss: 1.1957 - acc: 0.9656 - val_loss: 1.1242 - val_acc: 0.9689\n",
            "Epoch 196/200\n",
            "607500/607500 [==============================] - 28s 45us/step - loss: 1.1926 - acc: 0.9657 - val_loss: 1.1114 - val_acc: 0.9748\n",
            "Epoch 197/200\n",
            "607500/607500 [==============================] - 27s 45us/step - loss: 1.2005 - acc: 0.9655 - val_loss: 1.1265 - val_acc: 0.9721\n",
            "Epoch 198/200\n",
            "607500/607500 [==============================] - 27s 45us/step - loss: 1.1825 - acc: 0.9658 - val_loss: 1.1181 - val_acc: 0.9735\n",
            "Epoch 199/200\n",
            "607500/607500 [==============================] - 27s 45us/step - loss: 1.1863 - acc: 0.9656 - val_loss: 1.1304 - val_acc: 0.9522\n",
            "Epoch 200/200\n",
            "607500/607500 [==============================] - 27s 45us/step - loss: 1.1790 - acc: 0.9655 - val_loss: 1.0893 - val_acc: 0.9691\n"
          ],
          "name": "stdout"
        }
      ]
    },
    {
      "cell_type": "code",
      "metadata": {
        "id": "hsfen6zmofgX",
        "colab_type": "code",
        "outputId": "48dd9c53-3808-4f51-a2c7-f22e8246c680",
        "colab": {
          "base_uri": "https://localhost:8080/",
          "height": 1000
        }
      },
      "source": [
        "# 모델 아키텍처\n",
        "\n",
        "from IPython.display import SVG\n",
        "from keras.utils.vis_utils import model_to_dot\n",
        "\n",
        "%matplotlib inline\n",
        "\n",
        "SVG(model_to_dot(model, show_shapes=True).create(prog='dot', format='svg'))"
      ],
      "execution_count": 0,
      "outputs": [
        {
          "output_type": "execute_result",
          "data": {
            "text/plain": [
              "<IPython.core.display.SVG object>"
            ],
            "image/svg+xml": "<svg height=\"3283pt\" viewBox=\"0.00 0.00 424.00 2462.00\" width=\"565pt\" xmlns=\"http://www.w3.org/2000/svg\" xmlns:xlink=\"http://www.w3.org/1999/xlink\">\n<g class=\"graph\" id=\"graph0\" transform=\"scale(1.3333 1.3333) rotate(0) translate(4 2458)\">\n<title>G</title>\n<polygon fill=\"#ffffff\" points=\"-4,4 -4,-2458 420,-2458 420,4 -4,4\" stroke=\"transparent\"/>\n<!-- 139863659978648 -->\n<g class=\"node\" id=\"node1\">\n<title>139863659978648</title>\n<polygon fill=\"none\" points=\"49,-2407.5 49,-2453.5 367,-2453.5 367,-2407.5 49,-2407.5\" stroke=\"#000000\"/>\n<text fill=\"#000000\" font-family=\"Times,serif\" font-size=\"14.00\" text-anchor=\"middle\" x=\"135.5\" y=\"-2426.8\">dense_1_input: InputLayer</text>\n<polyline fill=\"none\" points=\"222,-2407.5 222,-2453.5 \" stroke=\"#000000\"/>\n<text fill=\"#000000\" font-family=\"Times,serif\" font-size=\"14.00\" text-anchor=\"middle\" x=\"251\" y=\"-2438.3\">input:</text>\n<polyline fill=\"none\" points=\"222,-2430.5 280,-2430.5 \" stroke=\"#000000\"/>\n<text fill=\"#000000\" font-family=\"Times,serif\" font-size=\"14.00\" text-anchor=\"middle\" x=\"251\" y=\"-2415.3\">output:</text>\n<polyline fill=\"none\" points=\"280,-2407.5 280,-2453.5 \" stroke=\"#000000\"/>\n<text fill=\"#000000\" font-family=\"Times,serif\" font-size=\"14.00\" text-anchor=\"middle\" x=\"323.5\" y=\"-2438.3\">(None, 226)</text>\n<polyline fill=\"none\" points=\"280,-2430.5 367,-2430.5 \" stroke=\"#000000\"/>\n<text fill=\"#000000\" font-family=\"Times,serif\" font-size=\"14.00\" text-anchor=\"middle\" x=\"323.5\" y=\"-2415.3\">(None, 226)</text>\n</g>\n<!-- 139863659978144 -->\n<g class=\"node\" id=\"node2\">\n<title>139863659978144</title>\n<polygon fill=\"none\" points=\"82,-2324.5 82,-2370.5 334,-2370.5 334,-2324.5 82,-2324.5\" stroke=\"#000000\"/>\n<text fill=\"#000000\" font-family=\"Times,serif\" font-size=\"14.00\" text-anchor=\"middle\" x=\"135.5\" y=\"-2343.8\">dense_1: Dense</text>\n<polyline fill=\"none\" points=\"189,-2324.5 189,-2370.5 \" stroke=\"#000000\"/>\n<text fill=\"#000000\" font-family=\"Times,serif\" font-size=\"14.00\" text-anchor=\"middle\" x=\"218\" y=\"-2355.3\">input:</text>\n<polyline fill=\"none\" points=\"189,-2347.5 247,-2347.5 \" stroke=\"#000000\"/>\n<text fill=\"#000000\" font-family=\"Times,serif\" font-size=\"14.00\" text-anchor=\"middle\" x=\"218\" y=\"-2332.3\">output:</text>\n<polyline fill=\"none\" points=\"247,-2324.5 247,-2370.5 \" stroke=\"#000000\"/>\n<text fill=\"#000000\" font-family=\"Times,serif\" font-size=\"14.00\" text-anchor=\"middle\" x=\"290.5\" y=\"-2355.3\">(None, 226)</text>\n<polyline fill=\"none\" points=\"247,-2347.5 334,-2347.5 \" stroke=\"#000000\"/>\n<text fill=\"#000000\" font-family=\"Times,serif\" font-size=\"14.00\" text-anchor=\"middle\" x=\"290.5\" y=\"-2332.3\">(None, 800)</text>\n</g>\n<!-- 139863659978648&#45;&gt;139863659978144 -->\n<g class=\"edge\" id=\"edge1\">\n<title>139863659978648-&gt;139863659978144</title>\n<path d=\"M208,-2407.3799C208,-2399.1745 208,-2389.7679 208,-2380.8786\" fill=\"none\" stroke=\"#000000\"/>\n<polygon fill=\"#000000\" points=\"211.5001,-2380.784 208,-2370.784 204.5001,-2380.784 211.5001,-2380.784\" stroke=\"#000000\"/>\n</g>\n<!-- 139863656231320 -->\n<g class=\"node\" id=\"node3\">\n<title>139863656231320</title>\n<polygon fill=\"none\" points=\"82,-2241.5 82,-2287.5 334,-2287.5 334,-2241.5 82,-2241.5\" stroke=\"#000000\"/>\n<text fill=\"#000000\" font-family=\"Times,serif\" font-size=\"14.00\" text-anchor=\"middle\" x=\"135.5\" y=\"-2260.8\">dense_2: Dense</text>\n<polyline fill=\"none\" points=\"189,-2241.5 189,-2287.5 \" stroke=\"#000000\"/>\n<text fill=\"#000000\" font-family=\"Times,serif\" font-size=\"14.00\" text-anchor=\"middle\" x=\"218\" y=\"-2272.3\">input:</text>\n<polyline fill=\"none\" points=\"189,-2264.5 247,-2264.5 \" stroke=\"#000000\"/>\n<text fill=\"#000000\" font-family=\"Times,serif\" font-size=\"14.00\" text-anchor=\"middle\" x=\"218\" y=\"-2249.3\">output:</text>\n<polyline fill=\"none\" points=\"247,-2241.5 247,-2287.5 \" stroke=\"#000000\"/>\n<text fill=\"#000000\" font-family=\"Times,serif\" font-size=\"14.00\" text-anchor=\"middle\" x=\"290.5\" y=\"-2272.3\">(None, 800)</text>\n<polyline fill=\"none\" points=\"247,-2264.5 334,-2264.5 \" stroke=\"#000000\"/>\n<text fill=\"#000000\" font-family=\"Times,serif\" font-size=\"14.00\" text-anchor=\"middle\" x=\"290.5\" y=\"-2249.3\">(None, 800)</text>\n</g>\n<!-- 139863659978144&#45;&gt;139863656231320 -->\n<g class=\"edge\" id=\"edge2\">\n<title>139863659978144-&gt;139863656231320</title>\n<path d=\"M208,-2324.3799C208,-2316.1745 208,-2306.7679 208,-2297.8786\" fill=\"none\" stroke=\"#000000\"/>\n<polygon fill=\"#000000\" points=\"211.5001,-2297.784 208,-2287.784 204.5001,-2297.784 211.5001,-2297.784\" stroke=\"#000000\"/>\n</g>\n<!-- 139863656444256 -->\n<g class=\"node\" id=\"node4\">\n<title>139863656444256</title>\n<polygon fill=\"none\" points=\"0,-2158.5 0,-2204.5 416,-2204.5 416,-2158.5 0,-2158.5\" stroke=\"#000000\"/>\n<text fill=\"#000000\" font-family=\"Times,serif\" font-size=\"14.00\" text-anchor=\"middle\" x=\"135.5\" y=\"-2177.8\">batch_normalization_1: BatchNormalization</text>\n<polyline fill=\"none\" points=\"271,-2158.5 271,-2204.5 \" stroke=\"#000000\"/>\n<text fill=\"#000000\" font-family=\"Times,serif\" font-size=\"14.00\" text-anchor=\"middle\" x=\"300\" y=\"-2189.3\">input:</text>\n<polyline fill=\"none\" points=\"271,-2181.5 329,-2181.5 \" stroke=\"#000000\"/>\n<text fill=\"#000000\" font-family=\"Times,serif\" font-size=\"14.00\" text-anchor=\"middle\" x=\"300\" y=\"-2166.3\">output:</text>\n<polyline fill=\"none\" points=\"329,-2158.5 329,-2204.5 \" stroke=\"#000000\"/>\n<text fill=\"#000000\" font-family=\"Times,serif\" font-size=\"14.00\" text-anchor=\"middle\" x=\"372.5\" y=\"-2189.3\">(None, 800)</text>\n<polyline fill=\"none\" points=\"329,-2181.5 416,-2181.5 \" stroke=\"#000000\"/>\n<text fill=\"#000000\" font-family=\"Times,serif\" font-size=\"14.00\" text-anchor=\"middle\" x=\"372.5\" y=\"-2166.3\">(None, 800)</text>\n</g>\n<!-- 139863656231320&#45;&gt;139863656444256 -->\n<g class=\"edge\" id=\"edge3\">\n<title>139863656231320-&gt;139863656444256</title>\n<path d=\"M208,-2241.3799C208,-2233.1745 208,-2223.7679 208,-2214.8786\" fill=\"none\" stroke=\"#000000\"/>\n<polygon fill=\"#000000\" points=\"211.5001,-2214.784 208,-2204.784 204.5001,-2214.784 211.5001,-2214.784\" stroke=\"#000000\"/>\n</g>\n<!-- 139863659978368 -->\n<g class=\"node\" id=\"node5\">\n<title>139863659978368</title>\n<polygon fill=\"none\" points=\"58.5,-2075.5 58.5,-2121.5 357.5,-2121.5 357.5,-2075.5 58.5,-2075.5\" stroke=\"#000000\"/>\n<text fill=\"#000000\" font-family=\"Times,serif\" font-size=\"14.00\" text-anchor=\"middle\" x=\"135.5\" y=\"-2094.8\">activation_1: Activation</text>\n<polyline fill=\"none\" points=\"212.5,-2075.5 212.5,-2121.5 \" stroke=\"#000000\"/>\n<text fill=\"#000000\" font-family=\"Times,serif\" font-size=\"14.00\" text-anchor=\"middle\" x=\"241.5\" y=\"-2106.3\">input:</text>\n<polyline fill=\"none\" points=\"212.5,-2098.5 270.5,-2098.5 \" stroke=\"#000000\"/>\n<text fill=\"#000000\" font-family=\"Times,serif\" font-size=\"14.00\" text-anchor=\"middle\" x=\"241.5\" y=\"-2083.3\">output:</text>\n<polyline fill=\"none\" points=\"270.5,-2075.5 270.5,-2121.5 \" stroke=\"#000000\"/>\n<text fill=\"#000000\" font-family=\"Times,serif\" font-size=\"14.00\" text-anchor=\"middle\" x=\"314\" y=\"-2106.3\">(None, 800)</text>\n<polyline fill=\"none\" points=\"270.5,-2098.5 357.5,-2098.5 \" stroke=\"#000000\"/>\n<text fill=\"#000000\" font-family=\"Times,serif\" font-size=\"14.00\" text-anchor=\"middle\" x=\"314\" y=\"-2083.3\">(None, 800)</text>\n</g>\n<!-- 139863656444256&#45;&gt;139863659978368 -->\n<g class=\"edge\" id=\"edge4\">\n<title>139863656444256-&gt;139863659978368</title>\n<path d=\"M208,-2158.3799C208,-2150.1745 208,-2140.7679 208,-2131.8786\" fill=\"none\" stroke=\"#000000\"/>\n<polygon fill=\"#000000\" points=\"211.5001,-2131.784 208,-2121.784 204.5001,-2131.784 211.5001,-2131.784\" stroke=\"#000000\"/>\n</g>\n<!-- 139865269957856 -->\n<g class=\"node\" id=\"node6\">\n<title>139865269957856</title>\n<polygon fill=\"none\" points=\"82,-1992.5 82,-2038.5 334,-2038.5 334,-1992.5 82,-1992.5\" stroke=\"#000000\"/>\n<text fill=\"#000000\" font-family=\"Times,serif\" font-size=\"14.00\" text-anchor=\"middle\" x=\"135.5\" y=\"-2011.8\">dense_3: Dense</text>\n<polyline fill=\"none\" points=\"189,-1992.5 189,-2038.5 \" stroke=\"#000000\"/>\n<text fill=\"#000000\" font-family=\"Times,serif\" font-size=\"14.00\" text-anchor=\"middle\" x=\"218\" y=\"-2023.3\">input:</text>\n<polyline fill=\"none\" points=\"189,-2015.5 247,-2015.5 \" stroke=\"#000000\"/>\n<text fill=\"#000000\" font-family=\"Times,serif\" font-size=\"14.00\" text-anchor=\"middle\" x=\"218\" y=\"-2000.3\">output:</text>\n<polyline fill=\"none\" points=\"247,-1992.5 247,-2038.5 \" stroke=\"#000000\"/>\n<text fill=\"#000000\" font-family=\"Times,serif\" font-size=\"14.00\" text-anchor=\"middle\" x=\"290.5\" y=\"-2023.3\">(None, 800)</text>\n<polyline fill=\"none\" points=\"247,-2015.5 334,-2015.5 \" stroke=\"#000000\"/>\n<text fill=\"#000000\" font-family=\"Times,serif\" font-size=\"14.00\" text-anchor=\"middle\" x=\"290.5\" y=\"-2000.3\">(None, 800)</text>\n</g>\n<!-- 139863659978368&#45;&gt;139865269957856 -->\n<g class=\"edge\" id=\"edge5\">\n<title>139863659978368-&gt;139865269957856</title>\n<path d=\"M208,-2075.3799C208,-2067.1745 208,-2057.7679 208,-2048.8786\" fill=\"none\" stroke=\"#000000\"/>\n<polygon fill=\"#000000\" points=\"211.5001,-2048.784 208,-2038.784 204.5001,-2048.784 211.5001,-2048.784\" stroke=\"#000000\"/>\n</g>\n<!-- 139863657429928 -->\n<g class=\"node\" id=\"node7\">\n<title>139863657429928</title>\n<polygon fill=\"none\" points=\"82,-1909.5 82,-1955.5 334,-1955.5 334,-1909.5 82,-1909.5\" stroke=\"#000000\"/>\n<text fill=\"#000000\" font-family=\"Times,serif\" font-size=\"14.00\" text-anchor=\"middle\" x=\"135.5\" y=\"-1928.8\">dense_4: Dense</text>\n<polyline fill=\"none\" points=\"189,-1909.5 189,-1955.5 \" stroke=\"#000000\"/>\n<text fill=\"#000000\" font-family=\"Times,serif\" font-size=\"14.00\" text-anchor=\"middle\" x=\"218\" y=\"-1940.3\">input:</text>\n<polyline fill=\"none\" points=\"189,-1932.5 247,-1932.5 \" stroke=\"#000000\"/>\n<text fill=\"#000000\" font-family=\"Times,serif\" font-size=\"14.00\" text-anchor=\"middle\" x=\"218\" y=\"-1917.3\">output:</text>\n<polyline fill=\"none\" points=\"247,-1909.5 247,-1955.5 \" stroke=\"#000000\"/>\n<text fill=\"#000000\" font-family=\"Times,serif\" font-size=\"14.00\" text-anchor=\"middle\" x=\"290.5\" y=\"-1940.3\">(None, 800)</text>\n<polyline fill=\"none\" points=\"247,-1932.5 334,-1932.5 \" stroke=\"#000000\"/>\n<text fill=\"#000000\" font-family=\"Times,serif\" font-size=\"14.00\" text-anchor=\"middle\" x=\"290.5\" y=\"-1917.3\">(None, 800)</text>\n</g>\n<!-- 139865269957856&#45;&gt;139863657429928 -->\n<g class=\"edge\" id=\"edge6\">\n<title>139865269957856-&gt;139863657429928</title>\n<path d=\"M208,-1992.3799C208,-1984.1745 208,-1974.7679 208,-1965.8786\" fill=\"none\" stroke=\"#000000\"/>\n<polygon fill=\"#000000\" points=\"211.5001,-1965.784 208,-1955.784 204.5001,-1965.784 211.5001,-1965.784\" stroke=\"#000000\"/>\n</g>\n<!-- 139863657309296 -->\n<g class=\"node\" id=\"node8\">\n<title>139863657309296</title>\n<polygon fill=\"none\" points=\"0,-1826.5 0,-1872.5 416,-1872.5 416,-1826.5 0,-1826.5\" stroke=\"#000000\"/>\n<text fill=\"#000000\" font-family=\"Times,serif\" font-size=\"14.00\" text-anchor=\"middle\" x=\"135.5\" y=\"-1845.8\">batch_normalization_2: BatchNormalization</text>\n<polyline fill=\"none\" points=\"271,-1826.5 271,-1872.5 \" stroke=\"#000000\"/>\n<text fill=\"#000000\" font-family=\"Times,serif\" font-size=\"14.00\" text-anchor=\"middle\" x=\"300\" y=\"-1857.3\">input:</text>\n<polyline fill=\"none\" points=\"271,-1849.5 329,-1849.5 \" stroke=\"#000000\"/>\n<text fill=\"#000000\" font-family=\"Times,serif\" font-size=\"14.00\" text-anchor=\"middle\" x=\"300\" y=\"-1834.3\">output:</text>\n<polyline fill=\"none\" points=\"329,-1826.5 329,-1872.5 \" stroke=\"#000000\"/>\n<text fill=\"#000000\" font-family=\"Times,serif\" font-size=\"14.00\" text-anchor=\"middle\" x=\"372.5\" y=\"-1857.3\">(None, 800)</text>\n<polyline fill=\"none\" points=\"329,-1849.5 416,-1849.5 \" stroke=\"#000000\"/>\n<text fill=\"#000000\" font-family=\"Times,serif\" font-size=\"14.00\" text-anchor=\"middle\" x=\"372.5\" y=\"-1834.3\">(None, 800)</text>\n</g>\n<!-- 139863657429928&#45;&gt;139863657309296 -->\n<g class=\"edge\" id=\"edge7\">\n<title>139863657429928-&gt;139863657309296</title>\n<path d=\"M208,-1909.3799C208,-1901.1745 208,-1891.7679 208,-1882.8786\" fill=\"none\" stroke=\"#000000\"/>\n<polygon fill=\"#000000\" points=\"211.5001,-1882.784 208,-1872.784 204.5001,-1882.784 211.5001,-1882.784\" stroke=\"#000000\"/>\n</g>\n<!-- 139863657384872 -->\n<g class=\"node\" id=\"node9\">\n<title>139863657384872</title>\n<polygon fill=\"none\" points=\"58.5,-1743.5 58.5,-1789.5 357.5,-1789.5 357.5,-1743.5 58.5,-1743.5\" stroke=\"#000000\"/>\n<text fill=\"#000000\" font-family=\"Times,serif\" font-size=\"14.00\" text-anchor=\"middle\" x=\"135.5\" y=\"-1762.8\">activation_2: Activation</text>\n<polyline fill=\"none\" points=\"212.5,-1743.5 212.5,-1789.5 \" stroke=\"#000000\"/>\n<text fill=\"#000000\" font-family=\"Times,serif\" font-size=\"14.00\" text-anchor=\"middle\" x=\"241.5\" y=\"-1774.3\">input:</text>\n<polyline fill=\"none\" points=\"212.5,-1766.5 270.5,-1766.5 \" stroke=\"#000000\"/>\n<text fill=\"#000000\" font-family=\"Times,serif\" font-size=\"14.00\" text-anchor=\"middle\" x=\"241.5\" y=\"-1751.3\">output:</text>\n<polyline fill=\"none\" points=\"270.5,-1743.5 270.5,-1789.5 \" stroke=\"#000000\"/>\n<text fill=\"#000000\" font-family=\"Times,serif\" font-size=\"14.00\" text-anchor=\"middle\" x=\"314\" y=\"-1774.3\">(None, 800)</text>\n<polyline fill=\"none\" points=\"270.5,-1766.5 357.5,-1766.5 \" stroke=\"#000000\"/>\n<text fill=\"#000000\" font-family=\"Times,serif\" font-size=\"14.00\" text-anchor=\"middle\" x=\"314\" y=\"-1751.3\">(None, 800)</text>\n</g>\n<!-- 139863657309296&#45;&gt;139863657384872 -->\n<g class=\"edge\" id=\"edge8\">\n<title>139863657309296-&gt;139863657384872</title>\n<path d=\"M208,-1826.3799C208,-1818.1745 208,-1808.7679 208,-1799.8786\" fill=\"none\" stroke=\"#000000\"/>\n<polygon fill=\"#000000\" points=\"211.5001,-1799.784 208,-1789.784 204.5001,-1799.784 211.5001,-1799.784\" stroke=\"#000000\"/>\n</g>\n<!-- 139863657267944 -->\n<g class=\"node\" id=\"node10\">\n<title>139863657267944</title>\n<polygon fill=\"none\" points=\"82,-1660.5 82,-1706.5 334,-1706.5 334,-1660.5 82,-1660.5\" stroke=\"#000000\"/>\n<text fill=\"#000000\" font-family=\"Times,serif\" font-size=\"14.00\" text-anchor=\"middle\" x=\"135.5\" y=\"-1679.8\">dense_5: Dense</text>\n<polyline fill=\"none\" points=\"189,-1660.5 189,-1706.5 \" stroke=\"#000000\"/>\n<text fill=\"#000000\" font-family=\"Times,serif\" font-size=\"14.00\" text-anchor=\"middle\" x=\"218\" y=\"-1691.3\">input:</text>\n<polyline fill=\"none\" points=\"189,-1683.5 247,-1683.5 \" stroke=\"#000000\"/>\n<text fill=\"#000000\" font-family=\"Times,serif\" font-size=\"14.00\" text-anchor=\"middle\" x=\"218\" y=\"-1668.3\">output:</text>\n<polyline fill=\"none\" points=\"247,-1660.5 247,-1706.5 \" stroke=\"#000000\"/>\n<text fill=\"#000000\" font-family=\"Times,serif\" font-size=\"14.00\" text-anchor=\"middle\" x=\"290.5\" y=\"-1691.3\">(None, 800)</text>\n<polyline fill=\"none\" points=\"247,-1683.5 334,-1683.5 \" stroke=\"#000000\"/>\n<text fill=\"#000000\" font-family=\"Times,serif\" font-size=\"14.00\" text-anchor=\"middle\" x=\"290.5\" y=\"-1668.3\">(None, 800)</text>\n</g>\n<!-- 139863657384872&#45;&gt;139863657267944 -->\n<g class=\"edge\" id=\"edge9\">\n<title>139863657384872-&gt;139863657267944</title>\n<path d=\"M208,-1743.3799C208,-1735.1745 208,-1725.7679 208,-1716.8786\" fill=\"none\" stroke=\"#000000\"/>\n<polygon fill=\"#000000\" points=\"211.5001,-1716.784 208,-1706.784 204.5001,-1716.784 211.5001,-1716.784\" stroke=\"#000000\"/>\n</g>\n<!-- 139863656909848 -->\n<g class=\"node\" id=\"node11\">\n<title>139863656909848</title>\n<polygon fill=\"none\" points=\"82,-1577.5 82,-1623.5 334,-1623.5 334,-1577.5 82,-1577.5\" stroke=\"#000000\"/>\n<text fill=\"#000000\" font-family=\"Times,serif\" font-size=\"14.00\" text-anchor=\"middle\" x=\"135.5\" y=\"-1596.8\">dense_6: Dense</text>\n<polyline fill=\"none\" points=\"189,-1577.5 189,-1623.5 \" stroke=\"#000000\"/>\n<text fill=\"#000000\" font-family=\"Times,serif\" font-size=\"14.00\" text-anchor=\"middle\" x=\"218\" y=\"-1608.3\">input:</text>\n<polyline fill=\"none\" points=\"189,-1600.5 247,-1600.5 \" stroke=\"#000000\"/>\n<text fill=\"#000000\" font-family=\"Times,serif\" font-size=\"14.00\" text-anchor=\"middle\" x=\"218\" y=\"-1585.3\">output:</text>\n<polyline fill=\"none\" points=\"247,-1577.5 247,-1623.5 \" stroke=\"#000000\"/>\n<text fill=\"#000000\" font-family=\"Times,serif\" font-size=\"14.00\" text-anchor=\"middle\" x=\"290.5\" y=\"-1608.3\">(None, 800)</text>\n<polyline fill=\"none\" points=\"247,-1600.5 334,-1600.5 \" stroke=\"#000000\"/>\n<text fill=\"#000000\" font-family=\"Times,serif\" font-size=\"14.00\" text-anchor=\"middle\" x=\"290.5\" y=\"-1585.3\">(None, 800)</text>\n</g>\n<!-- 139863657267944&#45;&gt;139863656909848 -->\n<g class=\"edge\" id=\"edge10\">\n<title>139863657267944-&gt;139863656909848</title>\n<path d=\"M208,-1660.3799C208,-1652.1745 208,-1642.7679 208,-1633.8786\" fill=\"none\" stroke=\"#000000\"/>\n<polygon fill=\"#000000\" points=\"211.5001,-1633.784 208,-1623.784 204.5001,-1633.784 211.5001,-1633.784\" stroke=\"#000000\"/>\n</g>\n<!-- 139863656903624 -->\n<g class=\"node\" id=\"node12\">\n<title>139863656903624</title>\n<polygon fill=\"none\" points=\"0,-1494.5 0,-1540.5 416,-1540.5 416,-1494.5 0,-1494.5\" stroke=\"#000000\"/>\n<text fill=\"#000000\" font-family=\"Times,serif\" font-size=\"14.00\" text-anchor=\"middle\" x=\"135.5\" y=\"-1513.8\">batch_normalization_3: BatchNormalization</text>\n<polyline fill=\"none\" points=\"271,-1494.5 271,-1540.5 \" stroke=\"#000000\"/>\n<text fill=\"#000000\" font-family=\"Times,serif\" font-size=\"14.00\" text-anchor=\"middle\" x=\"300\" y=\"-1525.3\">input:</text>\n<polyline fill=\"none\" points=\"271,-1517.5 329,-1517.5 \" stroke=\"#000000\"/>\n<text fill=\"#000000\" font-family=\"Times,serif\" font-size=\"14.00\" text-anchor=\"middle\" x=\"300\" y=\"-1502.3\">output:</text>\n<polyline fill=\"none\" points=\"329,-1494.5 329,-1540.5 \" stroke=\"#000000\"/>\n<text fill=\"#000000\" font-family=\"Times,serif\" font-size=\"14.00\" text-anchor=\"middle\" x=\"372.5\" y=\"-1525.3\">(None, 800)</text>\n<polyline fill=\"none\" points=\"329,-1517.5 416,-1517.5 \" stroke=\"#000000\"/>\n<text fill=\"#000000\" font-family=\"Times,serif\" font-size=\"14.00\" text-anchor=\"middle\" x=\"372.5\" y=\"-1502.3\">(None, 800)</text>\n</g>\n<!-- 139863656909848&#45;&gt;139863656903624 -->\n<g class=\"edge\" id=\"edge11\">\n<title>139863656909848-&gt;139863656903624</title>\n<path d=\"M208,-1577.3799C208,-1569.1745 208,-1559.7679 208,-1550.8786\" fill=\"none\" stroke=\"#000000\"/>\n<polygon fill=\"#000000\" points=\"211.5001,-1550.784 208,-1540.784 204.5001,-1550.784 211.5001,-1550.784\" stroke=\"#000000\"/>\n</g>\n<!-- 139863656979480 -->\n<g class=\"node\" id=\"node13\">\n<title>139863656979480</title>\n<polygon fill=\"none\" points=\"58.5,-1411.5 58.5,-1457.5 357.5,-1457.5 357.5,-1411.5 58.5,-1411.5\" stroke=\"#000000\"/>\n<text fill=\"#000000\" font-family=\"Times,serif\" font-size=\"14.00\" text-anchor=\"middle\" x=\"135.5\" y=\"-1430.8\">activation_3: Activation</text>\n<polyline fill=\"none\" points=\"212.5,-1411.5 212.5,-1457.5 \" stroke=\"#000000\"/>\n<text fill=\"#000000\" font-family=\"Times,serif\" font-size=\"14.00\" text-anchor=\"middle\" x=\"241.5\" y=\"-1442.3\">input:</text>\n<polyline fill=\"none\" points=\"212.5,-1434.5 270.5,-1434.5 \" stroke=\"#000000\"/>\n<text fill=\"#000000\" font-family=\"Times,serif\" font-size=\"14.00\" text-anchor=\"middle\" x=\"241.5\" y=\"-1419.3\">output:</text>\n<polyline fill=\"none\" points=\"270.5,-1411.5 270.5,-1457.5 \" stroke=\"#000000\"/>\n<text fill=\"#000000\" font-family=\"Times,serif\" font-size=\"14.00\" text-anchor=\"middle\" x=\"314\" y=\"-1442.3\">(None, 800)</text>\n<polyline fill=\"none\" points=\"270.5,-1434.5 357.5,-1434.5 \" stroke=\"#000000\"/>\n<text fill=\"#000000\" font-family=\"Times,serif\" font-size=\"14.00\" text-anchor=\"middle\" x=\"314\" y=\"-1419.3\">(None, 800)</text>\n</g>\n<!-- 139863656903624&#45;&gt;139863656979480 -->\n<g class=\"edge\" id=\"edge12\">\n<title>139863656903624-&gt;139863656979480</title>\n<path d=\"M208,-1494.3799C208,-1486.1745 208,-1476.7679 208,-1467.8786\" fill=\"none\" stroke=\"#000000\"/>\n<polygon fill=\"#000000\" points=\"211.5001,-1467.784 208,-1457.784 204.5001,-1467.784 211.5001,-1467.784\" stroke=\"#000000\"/>\n</g>\n<!-- 139863656956760 -->\n<g class=\"node\" id=\"node14\">\n<title>139863656956760</title>\n<polygon fill=\"none\" points=\"82,-1328.5 82,-1374.5 334,-1374.5 334,-1328.5 82,-1328.5\" stroke=\"#000000\"/>\n<text fill=\"#000000\" font-family=\"Times,serif\" font-size=\"14.00\" text-anchor=\"middle\" x=\"135.5\" y=\"-1347.8\">dense_7: Dense</text>\n<polyline fill=\"none\" points=\"189,-1328.5 189,-1374.5 \" stroke=\"#000000\"/>\n<text fill=\"#000000\" font-family=\"Times,serif\" font-size=\"14.00\" text-anchor=\"middle\" x=\"218\" y=\"-1359.3\">input:</text>\n<polyline fill=\"none\" points=\"189,-1351.5 247,-1351.5 \" stroke=\"#000000\"/>\n<text fill=\"#000000\" font-family=\"Times,serif\" font-size=\"14.00\" text-anchor=\"middle\" x=\"218\" y=\"-1336.3\">output:</text>\n<polyline fill=\"none\" points=\"247,-1328.5 247,-1374.5 \" stroke=\"#000000\"/>\n<text fill=\"#000000\" font-family=\"Times,serif\" font-size=\"14.00\" text-anchor=\"middle\" x=\"290.5\" y=\"-1359.3\">(None, 800)</text>\n<polyline fill=\"none\" points=\"247,-1351.5 334,-1351.5 \" stroke=\"#000000\"/>\n<text fill=\"#000000\" font-family=\"Times,serif\" font-size=\"14.00\" text-anchor=\"middle\" x=\"290.5\" y=\"-1336.3\">(None, 800)</text>\n</g>\n<!-- 139863656979480&#45;&gt;139863656956760 -->\n<g class=\"edge\" id=\"edge13\">\n<title>139863656979480-&gt;139863656956760</title>\n<path d=\"M208,-1411.3799C208,-1403.1745 208,-1393.7679 208,-1384.8786\" fill=\"none\" stroke=\"#000000\"/>\n<polygon fill=\"#000000\" points=\"211.5001,-1384.784 208,-1374.784 204.5001,-1384.784 211.5001,-1384.784\" stroke=\"#000000\"/>\n</g>\n<!-- 139863659838712 -->\n<g class=\"node\" id=\"node15\">\n<title>139863659838712</title>\n<polygon fill=\"none\" points=\"82,-1245.5 82,-1291.5 334,-1291.5 334,-1245.5 82,-1245.5\" stroke=\"#000000\"/>\n<text fill=\"#000000\" font-family=\"Times,serif\" font-size=\"14.00\" text-anchor=\"middle\" x=\"135.5\" y=\"-1264.8\">dense_8: Dense</text>\n<polyline fill=\"none\" points=\"189,-1245.5 189,-1291.5 \" stroke=\"#000000\"/>\n<text fill=\"#000000\" font-family=\"Times,serif\" font-size=\"14.00\" text-anchor=\"middle\" x=\"218\" y=\"-1276.3\">input:</text>\n<polyline fill=\"none\" points=\"189,-1268.5 247,-1268.5 \" stroke=\"#000000\"/>\n<text fill=\"#000000\" font-family=\"Times,serif\" font-size=\"14.00\" text-anchor=\"middle\" x=\"218\" y=\"-1253.3\">output:</text>\n<polyline fill=\"none\" points=\"247,-1245.5 247,-1291.5 \" stroke=\"#000000\"/>\n<text fill=\"#000000\" font-family=\"Times,serif\" font-size=\"14.00\" text-anchor=\"middle\" x=\"290.5\" y=\"-1276.3\">(None, 800)</text>\n<polyline fill=\"none\" points=\"247,-1268.5 334,-1268.5 \" stroke=\"#000000\"/>\n<text fill=\"#000000\" font-family=\"Times,serif\" font-size=\"14.00\" text-anchor=\"middle\" x=\"290.5\" y=\"-1253.3\">(None, 800)</text>\n</g>\n<!-- 139863656956760&#45;&gt;139863659838712 -->\n<g class=\"edge\" id=\"edge14\">\n<title>139863656956760-&gt;139863659838712</title>\n<path d=\"M208,-1328.3799C208,-1320.1745 208,-1310.7679 208,-1301.8786\" fill=\"none\" stroke=\"#000000\"/>\n<polygon fill=\"#000000\" points=\"211.5001,-1301.784 208,-1291.784 204.5001,-1301.784 211.5001,-1301.784\" stroke=\"#000000\"/>\n</g>\n<!-- 139863659366104 -->\n<g class=\"node\" id=\"node16\">\n<title>139863659366104</title>\n<polygon fill=\"none\" points=\"0,-1162.5 0,-1208.5 416,-1208.5 416,-1162.5 0,-1162.5\" stroke=\"#000000\"/>\n<text fill=\"#000000\" font-family=\"Times,serif\" font-size=\"14.00\" text-anchor=\"middle\" x=\"135.5\" y=\"-1181.8\">batch_normalization_4: BatchNormalization</text>\n<polyline fill=\"none\" points=\"271,-1162.5 271,-1208.5 \" stroke=\"#000000\"/>\n<text fill=\"#000000\" font-family=\"Times,serif\" font-size=\"14.00\" text-anchor=\"middle\" x=\"300\" y=\"-1193.3\">input:</text>\n<polyline fill=\"none\" points=\"271,-1185.5 329,-1185.5 \" stroke=\"#000000\"/>\n<text fill=\"#000000\" font-family=\"Times,serif\" font-size=\"14.00\" text-anchor=\"middle\" x=\"300\" y=\"-1170.3\">output:</text>\n<polyline fill=\"none\" points=\"329,-1162.5 329,-1208.5 \" stroke=\"#000000\"/>\n<text fill=\"#000000\" font-family=\"Times,serif\" font-size=\"14.00\" text-anchor=\"middle\" x=\"372.5\" y=\"-1193.3\">(None, 800)</text>\n<polyline fill=\"none\" points=\"329,-1185.5 416,-1185.5 \" stroke=\"#000000\"/>\n<text fill=\"#000000\" font-family=\"Times,serif\" font-size=\"14.00\" text-anchor=\"middle\" x=\"372.5\" y=\"-1170.3\">(None, 800)</text>\n</g>\n<!-- 139863659838712&#45;&gt;139863659366104 -->\n<g class=\"edge\" id=\"edge15\">\n<title>139863659838712-&gt;139863659366104</title>\n<path d=\"M208,-1245.3799C208,-1237.1745 208,-1227.7679 208,-1218.8786\" fill=\"none\" stroke=\"#000000\"/>\n<polygon fill=\"#000000\" points=\"211.5001,-1218.784 208,-1208.784 204.5001,-1218.784 211.5001,-1218.784\" stroke=\"#000000\"/>\n</g>\n<!-- 139863659396568 -->\n<g class=\"node\" id=\"node17\">\n<title>139863659396568</title>\n<polygon fill=\"none\" points=\"58.5,-1079.5 58.5,-1125.5 357.5,-1125.5 357.5,-1079.5 58.5,-1079.5\" stroke=\"#000000\"/>\n<text fill=\"#000000\" font-family=\"Times,serif\" font-size=\"14.00\" text-anchor=\"middle\" x=\"135.5\" y=\"-1098.8\">activation_4: Activation</text>\n<polyline fill=\"none\" points=\"212.5,-1079.5 212.5,-1125.5 \" stroke=\"#000000\"/>\n<text fill=\"#000000\" font-family=\"Times,serif\" font-size=\"14.00\" text-anchor=\"middle\" x=\"241.5\" y=\"-1110.3\">input:</text>\n<polyline fill=\"none\" points=\"212.5,-1102.5 270.5,-1102.5 \" stroke=\"#000000\"/>\n<text fill=\"#000000\" font-family=\"Times,serif\" font-size=\"14.00\" text-anchor=\"middle\" x=\"241.5\" y=\"-1087.3\">output:</text>\n<polyline fill=\"none\" points=\"270.5,-1079.5 270.5,-1125.5 \" stroke=\"#000000\"/>\n<text fill=\"#000000\" font-family=\"Times,serif\" font-size=\"14.00\" text-anchor=\"middle\" x=\"314\" y=\"-1110.3\">(None, 800)</text>\n<polyline fill=\"none\" points=\"270.5,-1102.5 357.5,-1102.5 \" stroke=\"#000000\"/>\n<text fill=\"#000000\" font-family=\"Times,serif\" font-size=\"14.00\" text-anchor=\"middle\" x=\"314\" y=\"-1087.3\">(None, 800)</text>\n</g>\n<!-- 139863659366104&#45;&gt;139863659396568 -->\n<g class=\"edge\" id=\"edge16\">\n<title>139863659366104-&gt;139863659396568</title>\n<path d=\"M208,-1162.3799C208,-1154.1745 208,-1144.7679 208,-1135.8786\" fill=\"none\" stroke=\"#000000\"/>\n<polygon fill=\"#000000\" points=\"211.5001,-1135.784 208,-1125.784 204.5001,-1135.784 211.5001,-1135.784\" stroke=\"#000000\"/>\n</g>\n<!-- 139863659423000 -->\n<g class=\"node\" id=\"node18\">\n<title>139863659423000</title>\n<polygon fill=\"none\" points=\"82,-996.5 82,-1042.5 334,-1042.5 334,-996.5 82,-996.5\" stroke=\"#000000\"/>\n<text fill=\"#000000\" font-family=\"Times,serif\" font-size=\"14.00\" text-anchor=\"middle\" x=\"135.5\" y=\"-1015.8\">dense_9: Dense</text>\n<polyline fill=\"none\" points=\"189,-996.5 189,-1042.5 \" stroke=\"#000000\"/>\n<text fill=\"#000000\" font-family=\"Times,serif\" font-size=\"14.00\" text-anchor=\"middle\" x=\"218\" y=\"-1027.3\">input:</text>\n<polyline fill=\"none\" points=\"189,-1019.5 247,-1019.5 \" stroke=\"#000000\"/>\n<text fill=\"#000000\" font-family=\"Times,serif\" font-size=\"14.00\" text-anchor=\"middle\" x=\"218\" y=\"-1004.3\">output:</text>\n<polyline fill=\"none\" points=\"247,-996.5 247,-1042.5 \" stroke=\"#000000\"/>\n<text fill=\"#000000\" font-family=\"Times,serif\" font-size=\"14.00\" text-anchor=\"middle\" x=\"290.5\" y=\"-1027.3\">(None, 800)</text>\n<polyline fill=\"none\" points=\"247,-1019.5 334,-1019.5 \" stroke=\"#000000\"/>\n<text fill=\"#000000\" font-family=\"Times,serif\" font-size=\"14.00\" text-anchor=\"middle\" x=\"290.5\" y=\"-1004.3\">(None, 800)</text>\n</g>\n<!-- 139863659396568&#45;&gt;139863659423000 -->\n<g class=\"edge\" id=\"edge17\">\n<title>139863659396568-&gt;139863659423000</title>\n<path d=\"M208,-1079.3799C208,-1071.1745 208,-1061.7679 208,-1052.8786\" fill=\"none\" stroke=\"#000000\"/>\n<polygon fill=\"#000000\" points=\"211.5001,-1052.784 208,-1042.784 204.5001,-1052.784 211.5001,-1052.784\" stroke=\"#000000\"/>\n</g>\n<!-- 139863659126568 -->\n<g class=\"node\" id=\"node19\">\n<title>139863659126568</title>\n<polygon fill=\"none\" points=\"78.5,-913.5 78.5,-959.5 337.5,-959.5 337.5,-913.5 78.5,-913.5\" stroke=\"#000000\"/>\n<text fill=\"#000000\" font-family=\"Times,serif\" font-size=\"14.00\" text-anchor=\"middle\" x=\"135.5\" y=\"-932.8\">dense_10: Dense</text>\n<polyline fill=\"none\" points=\"192.5,-913.5 192.5,-959.5 \" stroke=\"#000000\"/>\n<text fill=\"#000000\" font-family=\"Times,serif\" font-size=\"14.00\" text-anchor=\"middle\" x=\"221.5\" y=\"-944.3\">input:</text>\n<polyline fill=\"none\" points=\"192.5,-936.5 250.5,-936.5 \" stroke=\"#000000\"/>\n<text fill=\"#000000\" font-family=\"Times,serif\" font-size=\"14.00\" text-anchor=\"middle\" x=\"221.5\" y=\"-921.3\">output:</text>\n<polyline fill=\"none\" points=\"250.5,-913.5 250.5,-959.5 \" stroke=\"#000000\"/>\n<text fill=\"#000000\" font-family=\"Times,serif\" font-size=\"14.00\" text-anchor=\"middle\" x=\"294\" y=\"-944.3\">(None, 800)</text>\n<polyline fill=\"none\" points=\"250.5,-936.5 337.5,-936.5 \" stroke=\"#000000\"/>\n<text fill=\"#000000\" font-family=\"Times,serif\" font-size=\"14.00\" text-anchor=\"middle\" x=\"294\" y=\"-921.3\">(None, 800)</text>\n</g>\n<!-- 139863659423000&#45;&gt;139863659126568 -->\n<g class=\"edge\" id=\"edge18\">\n<title>139863659423000-&gt;139863659126568</title>\n<path d=\"M208,-996.3799C208,-988.1745 208,-978.7679 208,-969.8786\" fill=\"none\" stroke=\"#000000\"/>\n<polygon fill=\"#000000\" points=\"211.5001,-969.784 208,-959.784 204.5001,-969.784 211.5001,-969.784\" stroke=\"#000000\"/>\n</g>\n<!-- 139863659195752 -->\n<g class=\"node\" id=\"node20\">\n<title>139863659195752</title>\n<polygon fill=\"none\" points=\"0,-830.5 0,-876.5 416,-876.5 416,-830.5 0,-830.5\" stroke=\"#000000\"/>\n<text fill=\"#000000\" font-family=\"Times,serif\" font-size=\"14.00\" text-anchor=\"middle\" x=\"135.5\" y=\"-849.8\">batch_normalization_5: BatchNormalization</text>\n<polyline fill=\"none\" points=\"271,-830.5 271,-876.5 \" stroke=\"#000000\"/>\n<text fill=\"#000000\" font-family=\"Times,serif\" font-size=\"14.00\" text-anchor=\"middle\" x=\"300\" y=\"-861.3\">input:</text>\n<polyline fill=\"none\" points=\"271,-853.5 329,-853.5 \" stroke=\"#000000\"/>\n<text fill=\"#000000\" font-family=\"Times,serif\" font-size=\"14.00\" text-anchor=\"middle\" x=\"300\" y=\"-838.3\">output:</text>\n<polyline fill=\"none\" points=\"329,-830.5 329,-876.5 \" stroke=\"#000000\"/>\n<text fill=\"#000000\" font-family=\"Times,serif\" font-size=\"14.00\" text-anchor=\"middle\" x=\"372.5\" y=\"-861.3\">(None, 800)</text>\n<polyline fill=\"none\" points=\"329,-853.5 416,-853.5 \" stroke=\"#000000\"/>\n<text fill=\"#000000\" font-family=\"Times,serif\" font-size=\"14.00\" text-anchor=\"middle\" x=\"372.5\" y=\"-838.3\">(None, 800)</text>\n</g>\n<!-- 139863659126568&#45;&gt;139863659195752 -->\n<g class=\"edge\" id=\"edge19\">\n<title>139863659126568-&gt;139863659195752</title>\n<path d=\"M208,-913.3799C208,-905.1745 208,-895.7679 208,-886.8786\" fill=\"none\" stroke=\"#000000\"/>\n<polygon fill=\"#000000\" points=\"211.5001,-886.784 208,-876.784 204.5001,-886.784 211.5001,-886.784\" stroke=\"#000000\"/>\n</g>\n<!-- 139863659216456 -->\n<g class=\"node\" id=\"node21\">\n<title>139863659216456</title>\n<polygon fill=\"none\" points=\"58.5,-747.5 58.5,-793.5 357.5,-793.5 357.5,-747.5 58.5,-747.5\" stroke=\"#000000\"/>\n<text fill=\"#000000\" font-family=\"Times,serif\" font-size=\"14.00\" text-anchor=\"middle\" x=\"135.5\" y=\"-766.8\">activation_5: Activation</text>\n<polyline fill=\"none\" points=\"212.5,-747.5 212.5,-793.5 \" stroke=\"#000000\"/>\n<text fill=\"#000000\" font-family=\"Times,serif\" font-size=\"14.00\" text-anchor=\"middle\" x=\"241.5\" y=\"-778.3\">input:</text>\n<polyline fill=\"none\" points=\"212.5,-770.5 270.5,-770.5 \" stroke=\"#000000\"/>\n<text fill=\"#000000\" font-family=\"Times,serif\" font-size=\"14.00\" text-anchor=\"middle\" x=\"241.5\" y=\"-755.3\">output:</text>\n<polyline fill=\"none\" points=\"270.5,-747.5 270.5,-793.5 \" stroke=\"#000000\"/>\n<text fill=\"#000000\" font-family=\"Times,serif\" font-size=\"14.00\" text-anchor=\"middle\" x=\"314\" y=\"-778.3\">(None, 800)</text>\n<polyline fill=\"none\" points=\"270.5,-770.5 357.5,-770.5 \" stroke=\"#000000\"/>\n<text fill=\"#000000\" font-family=\"Times,serif\" font-size=\"14.00\" text-anchor=\"middle\" x=\"314\" y=\"-755.3\">(None, 800)</text>\n</g>\n<!-- 139863659195752&#45;&gt;139863659216456 -->\n<g class=\"edge\" id=\"edge20\">\n<title>139863659195752-&gt;139863659216456</title>\n<path d=\"M208,-830.3799C208,-822.1745 208,-812.7679 208,-803.8786\" fill=\"none\" stroke=\"#000000\"/>\n<polygon fill=\"#000000\" points=\"211.5001,-803.784 208,-793.784 204.5001,-803.784 211.5001,-803.784\" stroke=\"#000000\"/>\n</g>\n<!-- 139863659249848 -->\n<g class=\"node\" id=\"node22\">\n<title>139863659249848</title>\n<polygon fill=\"none\" points=\"79,-664.5 79,-710.5 337,-710.5 337,-664.5 79,-664.5\" stroke=\"#000000\"/>\n<text fill=\"#000000\" font-family=\"Times,serif\" font-size=\"14.00\" text-anchor=\"middle\" x=\"135.5\" y=\"-683.8\">dense_11: Dense</text>\n<polyline fill=\"none\" points=\"192,-664.5 192,-710.5 \" stroke=\"#000000\"/>\n<text fill=\"#000000\" font-family=\"Times,serif\" font-size=\"14.00\" text-anchor=\"middle\" x=\"221\" y=\"-695.3\">input:</text>\n<polyline fill=\"none\" points=\"192,-687.5 250,-687.5 \" stroke=\"#000000\"/>\n<text fill=\"#000000\" font-family=\"Times,serif\" font-size=\"14.00\" text-anchor=\"middle\" x=\"221\" y=\"-672.3\">output:</text>\n<polyline fill=\"none\" points=\"250,-664.5 250,-710.5 \" stroke=\"#000000\"/>\n<text fill=\"#000000\" font-family=\"Times,serif\" font-size=\"14.00\" text-anchor=\"middle\" x=\"293.5\" y=\"-695.3\">(None, 800)</text>\n<polyline fill=\"none\" points=\"250,-687.5 337,-687.5 \" stroke=\"#000000\"/>\n<text fill=\"#000000\" font-family=\"Times,serif\" font-size=\"14.00\" text-anchor=\"middle\" x=\"293.5\" y=\"-672.3\">(None, 800)</text>\n</g>\n<!-- 139863659216456&#45;&gt;139863659249848 -->\n<g class=\"edge\" id=\"edge21\">\n<title>139863659216456-&gt;139863659249848</title>\n<path d=\"M208,-747.3799C208,-739.1745 208,-729.7679 208,-720.8786\" fill=\"none\" stroke=\"#000000\"/>\n<polygon fill=\"#000000\" points=\"211.5001,-720.784 208,-710.784 204.5001,-720.784 211.5001,-720.784\" stroke=\"#000000\"/>\n</g>\n<!-- 139863659354152 -->\n<g class=\"node\" id=\"node23\">\n<title>139863659354152</title>\n<polygon fill=\"none\" points=\"78.5,-581.5 78.5,-627.5 337.5,-627.5 337.5,-581.5 78.5,-581.5\" stroke=\"#000000\"/>\n<text fill=\"#000000\" font-family=\"Times,serif\" font-size=\"14.00\" text-anchor=\"middle\" x=\"135.5\" y=\"-600.8\">dense_12: Dense</text>\n<polyline fill=\"none\" points=\"192.5,-581.5 192.5,-627.5 \" stroke=\"#000000\"/>\n<text fill=\"#000000\" font-family=\"Times,serif\" font-size=\"14.00\" text-anchor=\"middle\" x=\"221.5\" y=\"-612.3\">input:</text>\n<polyline fill=\"none\" points=\"192.5,-604.5 250.5,-604.5 \" stroke=\"#000000\"/>\n<text fill=\"#000000\" font-family=\"Times,serif\" font-size=\"14.00\" text-anchor=\"middle\" x=\"221.5\" y=\"-589.3\">output:</text>\n<polyline fill=\"none\" points=\"250.5,-581.5 250.5,-627.5 \" stroke=\"#000000\"/>\n<text fill=\"#000000\" font-family=\"Times,serif\" font-size=\"14.00\" text-anchor=\"middle\" x=\"294\" y=\"-612.3\">(None, 800)</text>\n<polyline fill=\"none\" points=\"250.5,-604.5 337.5,-604.5 \" stroke=\"#000000\"/>\n<text fill=\"#000000\" font-family=\"Times,serif\" font-size=\"14.00\" text-anchor=\"middle\" x=\"294\" y=\"-589.3\">(None, 800)</text>\n</g>\n<!-- 139863659249848&#45;&gt;139863659354152 -->\n<g class=\"edge\" id=\"edge22\">\n<title>139863659249848-&gt;139863659354152</title>\n<path d=\"M208,-664.3799C208,-656.1745 208,-646.7679 208,-637.8786\" fill=\"none\" stroke=\"#000000\"/>\n<polygon fill=\"#000000\" points=\"211.5001,-637.784 208,-627.784 204.5001,-637.784 211.5001,-637.784\" stroke=\"#000000\"/>\n</g>\n<!-- 139863659016088 -->\n<g class=\"node\" id=\"node24\">\n<title>139863659016088</title>\n<polygon fill=\"none\" points=\"0,-498.5 0,-544.5 416,-544.5 416,-498.5 0,-498.5\" stroke=\"#000000\"/>\n<text fill=\"#000000\" font-family=\"Times,serif\" font-size=\"14.00\" text-anchor=\"middle\" x=\"135.5\" y=\"-517.8\">batch_normalization_6: BatchNormalization</text>\n<polyline fill=\"none\" points=\"271,-498.5 271,-544.5 \" stroke=\"#000000\"/>\n<text fill=\"#000000\" font-family=\"Times,serif\" font-size=\"14.00\" text-anchor=\"middle\" x=\"300\" y=\"-529.3\">input:</text>\n<polyline fill=\"none\" points=\"271,-521.5 329,-521.5 \" stroke=\"#000000\"/>\n<text fill=\"#000000\" font-family=\"Times,serif\" font-size=\"14.00\" text-anchor=\"middle\" x=\"300\" y=\"-506.3\">output:</text>\n<polyline fill=\"none\" points=\"329,-498.5 329,-544.5 \" stroke=\"#000000\"/>\n<text fill=\"#000000\" font-family=\"Times,serif\" font-size=\"14.00\" text-anchor=\"middle\" x=\"372.5\" y=\"-529.3\">(None, 800)</text>\n<polyline fill=\"none\" points=\"329,-521.5 416,-521.5 \" stroke=\"#000000\"/>\n<text fill=\"#000000\" font-family=\"Times,serif\" font-size=\"14.00\" text-anchor=\"middle\" x=\"372.5\" y=\"-506.3\">(None, 800)</text>\n</g>\n<!-- 139863659354152&#45;&gt;139863659016088 -->\n<g class=\"edge\" id=\"edge23\">\n<title>139863659354152-&gt;139863659016088</title>\n<path d=\"M208,-581.3799C208,-573.1745 208,-563.7679 208,-554.8786\" fill=\"none\" stroke=\"#000000\"/>\n<polygon fill=\"#000000\" points=\"211.5001,-554.784 208,-544.784 204.5001,-554.784 211.5001,-554.784\" stroke=\"#000000\"/>\n</g>\n<!-- 139863659015752 -->\n<g class=\"node\" id=\"node25\">\n<title>139863659015752</title>\n<polygon fill=\"none\" points=\"58.5,-415.5 58.5,-461.5 357.5,-461.5 357.5,-415.5 58.5,-415.5\" stroke=\"#000000\"/>\n<text fill=\"#000000\" font-family=\"Times,serif\" font-size=\"14.00\" text-anchor=\"middle\" x=\"135.5\" y=\"-434.8\">activation_6: Activation</text>\n<polyline fill=\"none\" points=\"212.5,-415.5 212.5,-461.5 \" stroke=\"#000000\"/>\n<text fill=\"#000000\" font-family=\"Times,serif\" font-size=\"14.00\" text-anchor=\"middle\" x=\"241.5\" y=\"-446.3\">input:</text>\n<polyline fill=\"none\" points=\"212.5,-438.5 270.5,-438.5 \" stroke=\"#000000\"/>\n<text fill=\"#000000\" font-family=\"Times,serif\" font-size=\"14.00\" text-anchor=\"middle\" x=\"241.5\" y=\"-423.3\">output:</text>\n<polyline fill=\"none\" points=\"270.5,-415.5 270.5,-461.5 \" stroke=\"#000000\"/>\n<text fill=\"#000000\" font-family=\"Times,serif\" font-size=\"14.00\" text-anchor=\"middle\" x=\"314\" y=\"-446.3\">(None, 800)</text>\n<polyline fill=\"none\" points=\"270.5,-438.5 357.5,-438.5 \" stroke=\"#000000\"/>\n<text fill=\"#000000\" font-family=\"Times,serif\" font-size=\"14.00\" text-anchor=\"middle\" x=\"314\" y=\"-423.3\">(None, 800)</text>\n</g>\n<!-- 139863659016088&#45;&gt;139863659015752 -->\n<g class=\"edge\" id=\"edge24\">\n<title>139863659016088-&gt;139863659015752</title>\n<path d=\"M208,-498.3799C208,-490.1745 208,-480.7679 208,-471.8786\" fill=\"none\" stroke=\"#000000\"/>\n<polygon fill=\"#000000\" points=\"211.5001,-471.784 208,-461.784 204.5001,-471.784 211.5001,-471.784\" stroke=\"#000000\"/>\n</g>\n<!-- 139863659065752 -->\n<g class=\"node\" id=\"node26\">\n<title>139863659065752</title>\n<polygon fill=\"none\" points=\"78.5,-332.5 78.5,-378.5 337.5,-378.5 337.5,-332.5 78.5,-332.5\" stroke=\"#000000\"/>\n<text fill=\"#000000\" font-family=\"Times,serif\" font-size=\"14.00\" text-anchor=\"middle\" x=\"135.5\" y=\"-351.8\">dense_13: Dense</text>\n<polyline fill=\"none\" points=\"192.5,-332.5 192.5,-378.5 \" stroke=\"#000000\"/>\n<text fill=\"#000000\" font-family=\"Times,serif\" font-size=\"14.00\" text-anchor=\"middle\" x=\"221.5\" y=\"-363.3\">input:</text>\n<polyline fill=\"none\" points=\"192.5,-355.5 250.5,-355.5 \" stroke=\"#000000\"/>\n<text fill=\"#000000\" font-family=\"Times,serif\" font-size=\"14.00\" text-anchor=\"middle\" x=\"221.5\" y=\"-340.3\">output:</text>\n<polyline fill=\"none\" points=\"250.5,-332.5 250.5,-378.5 \" stroke=\"#000000\"/>\n<text fill=\"#000000\" font-family=\"Times,serif\" font-size=\"14.00\" text-anchor=\"middle\" x=\"294\" y=\"-363.3\">(None, 800)</text>\n<polyline fill=\"none\" points=\"250.5,-355.5 337.5,-355.5 \" stroke=\"#000000\"/>\n<text fill=\"#000000\" font-family=\"Times,serif\" font-size=\"14.00\" text-anchor=\"middle\" x=\"294\" y=\"-340.3\">(None, 800)</text>\n</g>\n<!-- 139863659015752&#45;&gt;139863659065752 -->\n<g class=\"edge\" id=\"edge25\">\n<title>139863659015752-&gt;139863659065752</title>\n<path d=\"M208,-415.3799C208,-407.1745 208,-397.7679 208,-388.8786\" fill=\"none\" stroke=\"#000000\"/>\n<polygon fill=\"#000000\" points=\"211.5001,-388.784 208,-378.784 204.5001,-388.784 211.5001,-388.784\" stroke=\"#000000\"/>\n</g>\n<!-- 139863658645768 -->\n<g class=\"node\" id=\"node27\">\n<title>139863658645768</title>\n<polygon fill=\"none\" points=\"78.5,-249.5 78.5,-295.5 337.5,-295.5 337.5,-249.5 78.5,-249.5\" stroke=\"#000000\"/>\n<text fill=\"#000000\" font-family=\"Times,serif\" font-size=\"14.00\" text-anchor=\"middle\" x=\"135.5\" y=\"-268.8\">dense_14: Dense</text>\n<polyline fill=\"none\" points=\"192.5,-249.5 192.5,-295.5 \" stroke=\"#000000\"/>\n<text fill=\"#000000\" font-family=\"Times,serif\" font-size=\"14.00\" text-anchor=\"middle\" x=\"221.5\" y=\"-280.3\">input:</text>\n<polyline fill=\"none\" points=\"192.5,-272.5 250.5,-272.5 \" stroke=\"#000000\"/>\n<text fill=\"#000000\" font-family=\"Times,serif\" font-size=\"14.00\" text-anchor=\"middle\" x=\"221.5\" y=\"-257.3\">output:</text>\n<polyline fill=\"none\" points=\"250.5,-249.5 250.5,-295.5 \" stroke=\"#000000\"/>\n<text fill=\"#000000\" font-family=\"Times,serif\" font-size=\"14.00\" text-anchor=\"middle\" x=\"294\" y=\"-280.3\">(None, 800)</text>\n<polyline fill=\"none\" points=\"250.5,-272.5 337.5,-272.5 \" stroke=\"#000000\"/>\n<text fill=\"#000000\" font-family=\"Times,serif\" font-size=\"14.00\" text-anchor=\"middle\" x=\"294\" y=\"-257.3\">(None, 800)</text>\n</g>\n<!-- 139863659065752&#45;&gt;139863658645768 -->\n<g class=\"edge\" id=\"edge26\">\n<title>139863659065752-&gt;139863658645768</title>\n<path d=\"M208,-332.3799C208,-324.1745 208,-314.7679 208,-305.8786\" fill=\"none\" stroke=\"#000000\"/>\n<polygon fill=\"#000000\" points=\"211.5001,-305.784 208,-295.784 204.5001,-305.784 211.5001,-305.784\" stroke=\"#000000\"/>\n</g>\n<!-- 139863658835528 -->\n<g class=\"node\" id=\"node28\">\n<title>139863658835528</title>\n<polygon fill=\"none\" points=\"0,-166.5 0,-212.5 416,-212.5 416,-166.5 0,-166.5\" stroke=\"#000000\"/>\n<text fill=\"#000000\" font-family=\"Times,serif\" font-size=\"14.00\" text-anchor=\"middle\" x=\"135.5\" y=\"-185.8\">batch_normalization_7: BatchNormalization</text>\n<polyline fill=\"none\" points=\"271,-166.5 271,-212.5 \" stroke=\"#000000\"/>\n<text fill=\"#000000\" font-family=\"Times,serif\" font-size=\"14.00\" text-anchor=\"middle\" x=\"300\" y=\"-197.3\">input:</text>\n<polyline fill=\"none\" points=\"271,-189.5 329,-189.5 \" stroke=\"#000000\"/>\n<text fill=\"#000000\" font-family=\"Times,serif\" font-size=\"14.00\" text-anchor=\"middle\" x=\"300\" y=\"-174.3\">output:</text>\n<polyline fill=\"none\" points=\"329,-166.5 329,-212.5 \" stroke=\"#000000\"/>\n<text fill=\"#000000\" font-family=\"Times,serif\" font-size=\"14.00\" text-anchor=\"middle\" x=\"372.5\" y=\"-197.3\">(None, 800)</text>\n<polyline fill=\"none\" points=\"329,-189.5 416,-189.5 \" stroke=\"#000000\"/>\n<text fill=\"#000000\" font-family=\"Times,serif\" font-size=\"14.00\" text-anchor=\"middle\" x=\"372.5\" y=\"-174.3\">(None, 800)</text>\n</g>\n<!-- 139863658645768&#45;&gt;139863658835528 -->\n<g class=\"edge\" id=\"edge27\">\n<title>139863658645768-&gt;139863658835528</title>\n<path d=\"M208,-249.3799C208,-241.1745 208,-231.7679 208,-222.8786\" fill=\"none\" stroke=\"#000000\"/>\n<polygon fill=\"#000000\" points=\"211.5001,-222.784 208,-212.784 204.5001,-222.784 211.5001,-222.784\" stroke=\"#000000\"/>\n</g>\n<!-- 139863658835920 -->\n<g class=\"node\" id=\"node29\">\n<title>139863658835920</title>\n<polygon fill=\"none\" points=\"58.5,-83.5 58.5,-129.5 357.5,-129.5 357.5,-83.5 58.5,-83.5\" stroke=\"#000000\"/>\n<text fill=\"#000000\" font-family=\"Times,serif\" font-size=\"14.00\" text-anchor=\"middle\" x=\"135.5\" y=\"-102.8\">activation_7: Activation</text>\n<polyline fill=\"none\" points=\"212.5,-83.5 212.5,-129.5 \" stroke=\"#000000\"/>\n<text fill=\"#000000\" font-family=\"Times,serif\" font-size=\"14.00\" text-anchor=\"middle\" x=\"241.5\" y=\"-114.3\">input:</text>\n<polyline fill=\"none\" points=\"212.5,-106.5 270.5,-106.5 \" stroke=\"#000000\"/>\n<text fill=\"#000000\" font-family=\"Times,serif\" font-size=\"14.00\" text-anchor=\"middle\" x=\"241.5\" y=\"-91.3\">output:</text>\n<polyline fill=\"none\" points=\"270.5,-83.5 270.5,-129.5 \" stroke=\"#000000\"/>\n<text fill=\"#000000\" font-family=\"Times,serif\" font-size=\"14.00\" text-anchor=\"middle\" x=\"314\" y=\"-114.3\">(None, 800)</text>\n<polyline fill=\"none\" points=\"270.5,-106.5 357.5,-106.5 \" stroke=\"#000000\"/>\n<text fill=\"#000000\" font-family=\"Times,serif\" font-size=\"14.00\" text-anchor=\"middle\" x=\"314\" y=\"-91.3\">(None, 800)</text>\n</g>\n<!-- 139863658835528&#45;&gt;139863658835920 -->\n<g class=\"edge\" id=\"edge28\">\n<title>139863658835528-&gt;139863658835920</title>\n<path d=\"M208,-166.3799C208,-158.1745 208,-148.7679 208,-139.8786\" fill=\"none\" stroke=\"#000000\"/>\n<polygon fill=\"#000000\" points=\"211.5001,-139.784 208,-129.784 204.5001,-139.784 211.5001,-139.784\" stroke=\"#000000\"/>\n</g>\n<!-- 139863658091128 -->\n<g class=\"node\" id=\"node30\">\n<title>139863658091128</title>\n<polygon fill=\"none\" points=\"78.5,-.5 78.5,-46.5 337.5,-46.5 337.5,-.5 78.5,-.5\" stroke=\"#000000\"/>\n<text fill=\"#000000\" font-family=\"Times,serif\" font-size=\"14.00\" text-anchor=\"middle\" x=\"135.5\" y=\"-19.8\">dense_15: Dense</text>\n<polyline fill=\"none\" points=\"192.5,-.5 192.5,-46.5 \" stroke=\"#000000\"/>\n<text fill=\"#000000\" font-family=\"Times,serif\" font-size=\"14.00\" text-anchor=\"middle\" x=\"221.5\" y=\"-31.3\">input:</text>\n<polyline fill=\"none\" points=\"192.5,-23.5 250.5,-23.5 \" stroke=\"#000000\"/>\n<text fill=\"#000000\" font-family=\"Times,serif\" font-size=\"14.00\" text-anchor=\"middle\" x=\"221.5\" y=\"-8.3\">output:</text>\n<polyline fill=\"none\" points=\"250.5,-.5 250.5,-46.5 \" stroke=\"#000000\"/>\n<text fill=\"#000000\" font-family=\"Times,serif\" font-size=\"14.00\" text-anchor=\"middle\" x=\"294\" y=\"-31.3\">(None, 800)</text>\n<polyline fill=\"none\" points=\"250.5,-23.5 337.5,-23.5 \" stroke=\"#000000\"/>\n<text fill=\"#000000\" font-family=\"Times,serif\" font-size=\"14.00\" text-anchor=\"middle\" x=\"294\" y=\"-8.3\">(None, 4)</text>\n</g>\n<!-- 139863658835920&#45;&gt;139863658091128 -->\n<g class=\"edge\" id=\"edge29\">\n<title>139863658835920-&gt;139863658091128</title>\n<path d=\"M208,-83.3799C208,-75.1745 208,-65.7679 208,-56.8786\" fill=\"none\" stroke=\"#000000\"/>\n<polygon fill=\"#000000\" points=\"211.5001,-56.784 208,-46.784 204.5001,-56.784 211.5001,-56.784\" stroke=\"#000000\"/>\n</g>\n</g>\n</svg>"
          },
          "metadata": {
            "tags": []
          },
          "execution_count": 12
        }
      ]
    },
    {
      "cell_type": "code",
      "metadata": {
        "id": "PtD82zROogDP",
        "colab_type": "code",
        "outputId": "172b1975-ea47-4c9b-8477-8347a5cdb0f2",
        "colab": {
          "base_uri": "https://localhost:8080/",
          "height": 281
        }
      },
      "source": [
        "# 학습 과정\n",
        "\n",
        "%matplotlib inline\n",
        "import matplotlib.pyplot as plt\n",
        "\n",
        "fig, loss_ax = plt.subplots()\n",
        "\n",
        "acc_ax = loss_ax.twinx()\n",
        "\n",
        "loss_ax.plot(hist.history['loss'], 'y', label='train loss')\n",
        "loss_ax.plot(hist.history['val_loss'], 'r', label='val loss')\n",
        "\n",
        "acc_ax.plot(hist.history['acc'], 'b', label='train acc')\n",
        "acc_ax.plot(hist.history['val_acc'], 'g', label='val acc')\n",
        "\n",
        "loss_ax.set_xlabel('epoch')\n",
        "loss_ax.set_ylabel('loss')\n",
        "acc_ax.set_ylabel('mean absolute error')\n",
        "\n",
        "loss_ax.legend(loc='upper left')\n",
        "acc_ax.legend(loc='lower left')\n",
        "\n",
        "plt.show()"
      ],
      "execution_count": 0,
      "outputs": [
        {
          "output_type": "display_data",
          "data": {
            "image/png": "[encoded data removed]",
            "text/plain": [
              "<Figure size 432x288 with 2 Axes>"
            ]
          },
          "metadata": {
            "tags": []
          }
        }
      ]
    },
    {
      "cell_type": "code",
      "metadata": {
        "id": "XRMuL2mFogIP",
        "colab_type": "code",
        "colab": {}
      },
      "source": [
        "# 예측값을 생성합니다.\n",
        "\n",
        "pred_test = model.predict(test_X)"
      ],
      "execution_count": 0,
      "outputs": []
    },
    {
      "cell_type": "code",
      "metadata": {
        "id": "uv6yp_Hzoq4Q",
        "colab_type": "code",
        "colab": {}
      },
      "source": [
        "# submission 파일을 생성합니다.\n",
        "sample_sub = pd.read_csv('/gdrive/My Drive/DACON-semiconductor-competition/dataset/sample_submission.csv', index_col=0)\n",
        "submission = sample_sub+pred_test\n",
        "submission.to_csv('/gdrive/My Drive/DACON-semiconductor-competition/submission_14.csv')"
      ],
      "execution_count": 0,
      "outputs": []
    },
    {
      "cell_type": "code",
      "metadata": {
        "id": "Jz6dWCiWpE-K",
        "colab_type": "code",
        "colab": {}
      },
      "source": [
        "# 학습된 모델을 저장합니다.\n",
        "\n",
        "model.save('/gdrive/My Drive/DACON-semiconductor-competition/model_14.h5')"
      ],
      "execution_count": 0,
      "outputs": []
    },
    {
      "cell_type": "markdown",
      "metadata": {
        "id": "L3IaqhJqmV_5",
        "colab_type": "text"
      },
      "source": [
        "### Bayesian Optimization\n",
        "http://research.sualab.com/introduction/practice/2019/02/19/bayesian-optimization-overview-1.html<br>\n",
        "http://research.sualab.com/introduction/practice/2019/04/01/bayesian-optimization-overview-2.html<br>"
      ]
    },
    {
      "cell_type": "markdown",
      "metadata": {
        "id": "RNwDuaRWmWg4",
        "colab_type": "text"
      },
      "source": [
        "### Swish Activation\n",
        "https://www.machinecurve.com/index.php/2019/05/30/why-swish-could-perform-better-than-relu/#todays-activation-functions"
      ]
    }
  ]
}