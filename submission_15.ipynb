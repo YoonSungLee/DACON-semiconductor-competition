{
  "nbformat": 4,
  "nbformat_minor": 0,
  "metadata": {
    "colab": {
      "name": "submission_15.ipynb",
      "provenance": [],
      "collapsed_sections": [],
      "authorship_tag": "ABX9TyPI0ci6yTz7MCGFz6PrKNL/",
      "include_colab_link": true
    },
    "kernelspec": {
      "name": "python3",
      "display_name": "Python 3"
    },
    "accelerator": "GPU"
  },
  "cells": [
    {
      "cell_type": "markdown",
      "metadata": {
        "id": "view-in-github",
        "colab_type": "text"
      },
      "source": [
        "<a href=\"https://colab.research.google.com/github/Inha-AI/DACON-semiconductor-competition/blob/feature%2FYoonSungLee/submission_15.ipynb\" target=\"_parent\"><img src=\"https://colab.research.google.com/assets/colab-badge.svg\" alt=\"Open In Colab\"/></a>"
      ]
    },
    {
      "cell_type": "code",
      "metadata": {
        "id": "NBPfb1Jhq4TA",
        "colab_type": "code",
        "outputId": "9f70bf1b-f4e9-4483-f2e3-a990ca0c9892",
        "colab": {
          "base_uri": "https://localhost:8080/",
          "height": 280
        }
      },
      "source": [
        "pip install bayesian-optimization"
      ],
      "execution_count": 0,
      "outputs": [
        {
          "output_type": "stream",
          "text": [
            "Collecting bayesian-optimization\n",
            "  Downloading https://files.pythonhosted.org/packages/72/0c/173ac467d0a53e33e41b521e4ceba74a8ac7c7873d7b857a8fbdca88302d/bayesian-optimization-1.0.1.tar.gz\n",
            "Requirement already satisfied: numpy>=1.9.0 in /usr/local/lib/python3.6/dist-packages (from bayesian-optimization) (1.17.5)\n",
            "Requirement already satisfied: scipy>=0.14.0 in /usr/local/lib/python3.6/dist-packages (from bayesian-optimization) (1.4.1)\n",
            "Requirement already satisfied: scikit-learn>=0.18.0 in /usr/local/lib/python3.6/dist-packages (from bayesian-optimization) (0.22.1)\n",
            "Requirement already satisfied: joblib>=0.11 in /usr/local/lib/python3.6/dist-packages (from scikit-learn>=0.18.0->bayesian-optimization) (0.14.1)\n",
            "Building wheels for collected packages: bayesian-optimization\n",
            "  Building wheel for bayesian-optimization (setup.py) ... \u001b[?25l\u001b[?25hdone\n",
            "  Created wheel for bayesian-optimization: filename=bayesian_optimization-1.0.1-cp36-none-any.whl size=10032 sha256=ab9e923cc70c1d9b0fd1b99aa65d8d51c43b8d467e799a9bc21da158e0bc5d62\n",
            "  Stored in directory: /root/.cache/pip/wheels/1d/0d/3b/6b9d4477a34b3905f246ff4e7acf6aafd4cc9b77d473629b77\n",
            "Successfully built bayesian-optimization\n",
            "Installing collected packages: bayesian-optimization\n",
            "Successfully installed bayesian-optimization-1.0.1\n"
          ],
          "name": "stdout"
        }
      ]
    },
    {
      "cell_type": "code",
      "metadata": {
        "id": "0vVeUdyssBKw",
        "colab_type": "code",
        "outputId": "0d40bd2d-cd8f-4d4f-aaef-844d06cb5cb0",
        "colab": {
          "base_uri": "https://localhost:8080/",
          "height": 101
        }
      },
      "source": [
        "import numpy as np\n",
        "import pandas as pd\n",
        "import matplotlib.pyplot as plt\n",
        "import keras\n",
        "from keras.models import Sequential\n",
        "from keras.layers import Dense, Activation, Dropout\n",
        "from keras.layers import BatchNormalization\n",
        "from sklearn.model_selection import train_test_split\n",
        "from bayes_opt import BayesianOptimization"
      ],
      "execution_count": 0,
      "outputs": [
        {
          "output_type": "stream",
          "text": [
            "Using TensorFlow backend.\n"
          ],
          "name": "stderr"
        },
        {
          "output_type": "display_data",
          "data": {
            "text/html": [
              "<p style=\"color: red;\">\n",
              "The default version of TensorFlow in Colab will soon switch to TensorFlow 2.x.<br>\n",
              "We recommend you <a href=\"https://www.tensorflow.org/guide/migrate\" target=\"_blank\">upgrade</a> now \n",
              "or ensure your notebook will continue to use TensorFlow 1.x via the <code>%tensorflow_version 1.x</code> magic:\n",
              "<a href=\"https://colab.research.google.com/notebooks/tensorflow_version.ipynb\" target=\"_blank\">more info</a>.</p>\n"
            ],
            "text/plain": [
              "<IPython.core.display.HTML object>"
            ]
          },
          "metadata": {
            "tags": []
          }
        }
      ]
    },
    {
      "cell_type": "code",
      "metadata": {
        "id": "EwHXDEigsNB0",
        "colab_type": "code",
        "outputId": "9425742e-deec-4a0e-d459-997399e3f797",
        "colab": {
          "base_uri": "https://localhost:8080/",
          "height": 131
        }
      },
      "source": [
        "from google.colab import drive\n",
        "drive.mount('/gdrive')"
      ],
      "execution_count": 0,
      "outputs": [
        {
          "output_type": "stream",
          "text": [
            "Go to this URL in a browser: https://accounts.google.com/o/oauth2/auth?client_id=947318989803-6bn6qk8qdgf4n4g3pfee6491hc0brc4i.apps.googleusercontent.com&redirect_uri=urn%3aietf%3awg%3aoauth%3a2.0%3aoob&response_type=code&scope=email%20https%3a%2f%2fwww.googleapis.com%2fauth%2fdocs.test%20https%3a%2f%2fwww.googleapis.com%2fauth%2fdrive%20https%3a%2f%2fwww.googleapis.com%2fauth%2fdrive.photos.readonly%20https%3a%2f%2fwww.googleapis.com%2fauth%2fpeopleapi.readonly\n",
            "\n",
            "Enter your authorization code:\n",
            "··········\n",
            "Mounted at /gdrive\n"
          ],
          "name": "stdout"
        }
      ]
    },
    {
      "cell_type": "code",
      "metadata": {
        "id": "hQF6BGGF1DqH",
        "colab_type": "code",
        "colab": {}
      },
      "source": [
        "# 데이터 자료형을 적절히 변형시켜 데이터의 크기를 줄이는 방법\n",
        "\n",
        "# for col in df_train.columns:\n",
        "#     col_type = df_train[col].dtypes\n",
        "#     min1 = df_train[col].min()\n",
        "#     max1 = df_train[col].max()\n",
        "#     if str(col_type)[:3] == 'int':\n",
        "#         df_train[col] = df_train[col].astype(np.int16)\n",
        "#     else:\n",
        "#         if min1 > np.finfo(np.float16).min and max1 < np.finfo(np.float16).max:\n",
        "#             df_train[col] = trdf_trainain[col].astype(np.float16)\n",
        "#         elif min1 > np.finfo(np.float32).min and max1 < np.finfo(np.float32).max:\n",
        "#             df_train[col] = df_train[col].astype(np.float32)\n",
        "#         else:\n",
        "#             df_train[col] = df_train[col].astype(np.float64)"
      ],
      "execution_count": 0,
      "outputs": []
    },
    {
      "cell_type": "code",
      "metadata": {
        "id": "-BNXAU5rsPJS",
        "colab_type": "code",
        "colab": {}
      },
      "source": [
        "df_train = pd.read_csv('/gdrive/My Drive/DACON-semiconductor-competition/dataset/train.csv')\n",
        "df_test = pd.read_csv('/gdrive/My Drive/DACON-semiconductor-competition/dataset/test.csv')"
      ],
      "execution_count": 0,
      "outputs": []
    },
    {
      "cell_type": "code",
      "metadata": {
        "id": "TdYXclfgsVr6",
        "colab_type": "code",
        "colab": {}
      },
      "source": [
        "# 독립변수와 종속변수를 분리합니다.\n",
        "\n",
        "train_X = df_train.iloc[:,4:]\n",
        "train_Y = df_train.iloc[:,0:4]\n",
        "test_X = df_test.iloc[:,1:]"
      ],
      "execution_count": 0,
      "outputs": []
    },
    {
      "cell_type": "code",
      "metadata": {
        "id": "Ogdcz8YctuVW",
        "colab_type": "code",
        "colab": {}
      },
      "source": [
        "# train set을 shuffle하여 다시 train set과 validation set으로 분리합니다.\n",
        "\n",
        "train_X, val_X, train_Y, val_Y = train_test_split(train_X, train_Y, test_size=0.25)"
      ],
      "execution_count": 0,
      "outputs": []
    },
    {
      "cell_type": "markdown",
      "metadata": {
        "id": "8tT4w6XasaSQ",
        "colab_type": "text"
      },
      "source": [
        "# Model 15"
      ]
    },
    {
      "cell_type": "markdown",
      "metadata": {
        "id": "4PSSfoS5sfWK",
        "colab_type": "text"
      },
      "source": [
        "* 19 layers\n",
        "* 800 units, he_normal, swish\n",
        "* BatchNormalization\n",
        "* Adam(0.001)\n",
        "* epochs 200\n",
        "* batch_size 630\n",
        "<br><br>\n",
        "* BatchNormalization 사이의 층을 깊게 모델링"
      ]
    },
    {
      "cell_type": "code",
      "metadata": {
        "id": "SGEkxH551LkF",
        "colab_type": "code",
        "colab": {}
      },
      "source": [
        "# 케라스를 통해 모델 생성을 시작합니다.\n",
        "\n",
        "def create_model():\n",
        "    model = Sequential()\n",
        "    model.add(Dense(units=800, input_dim=226, kernel_initializer='he_normal'))\n",
        "    model.add(Dense(units=800, kernel_initializer='he_normal'))\n",
        "    model.add(Dense(units=800, kernel_initializer='he_normal'))\n",
        "    model.add(BatchNormalization())\n",
        "    model.add(Activation(swish))\n",
        "    model.add(Dense(units=800, kernel_initializer='he_normal'))\n",
        "    model.add(Dense(units=800, kernel_initializer='he_normal'))\n",
        "    model.add(Dense(units=800, kernel_initializer='he_normal'))\n",
        "    model.add(BatchNormalization())\n",
        "    model.add(Activation(swish))\n",
        "    model.add(Dense(units=800, kernel_initializer='he_normal'))\n",
        "    model.add(Dense(units=800, kernel_initializer='he_normal'))\n",
        "    model.add(Dense(units=800, kernel_initializer='he_normal'))\n",
        "    model.add(BatchNormalization())\n",
        "    model.add(Activation(swish))\n",
        "    model.add(Dense(units=800, kernel_initializer='he_normal'))\n",
        "    model.add(Dense(units=800, kernel_initializer='he_normal'))\n",
        "    model.add(Dense(units=800, kernel_initializer='he_normal'))\n",
        "    model.add(BatchNormalization())\n",
        "    model.add(Activation(swish))\n",
        "    model.add(Dense(units=800, kernel_initializer='he_normal'))\n",
        "    model.add(Dense(units=800, kernel_initializer='he_normal'))\n",
        "    model.add(Dense(units=800, kernel_initializer='he_normal'))\n",
        "    model.add(BatchNormalization())\n",
        "    model.add(Activation(swish))\n",
        "    model.add(Dense(units=800, kernel_initializer='he_normal'))\n",
        "    model.add(Dense(units=800, kernel_initializer='he_normal'))\n",
        "    model.add(Dense(units=800, kernel_initializer='he_normal'))\n",
        "    model.add(BatchNormalization())\n",
        "    model.add(Activation(swish))\n",
        "    model.add(Dense(units=4, activation='linear'))\n",
        "\n",
        "    return model\n",
        "\n",
        "\n",
        "# Activation Function 정의\n",
        "\n",
        "def swish(x) :\n",
        "    return x * keras.activations.sigmoid(x)"
      ],
      "execution_count": 0,
      "outputs": []
    },
    {
      "cell_type": "code",
      "metadata": {
        "id": "35DQBYFkofR6",
        "colab_type": "code",
        "outputId": "ed456a7e-1b33-45f0-906f-747af0c8801c",
        "colab": {
          "base_uri": "https://localhost:8080/",
          "height": 224
        }
      },
      "source": [
        "model = create_model()"
      ],
      "execution_count": 0,
      "outputs": [
        {
          "output_type": "stream",
          "text": [
            "WARNING:tensorflow:From /usr/local/lib/python3.6/dist-packages/keras/backend/tensorflow_backend.py:66: The name tf.get_default_graph is deprecated. Please use tf.compat.v1.get_default_graph instead.\n",
            "\n",
            "WARNING:tensorflow:From /usr/local/lib/python3.6/dist-packages/keras/backend/tensorflow_backend.py:541: The name tf.placeholder is deprecated. Please use tf.compat.v1.placeholder instead.\n",
            "\n",
            "WARNING:tensorflow:From /usr/local/lib/python3.6/dist-packages/keras/backend/tensorflow_backend.py:4479: The name tf.truncated_normal is deprecated. Please use tf.random.truncated_normal instead.\n",
            "\n",
            "WARNING:tensorflow:From /usr/local/lib/python3.6/dist-packages/keras/backend/tensorflow_backend.py:148: The name tf.placeholder_with_default is deprecated. Please use tf.compat.v1.placeholder_with_default instead.\n",
            "\n",
            "WARNING:tensorflow:From /usr/local/lib/python3.6/dist-packages/keras/backend/tensorflow_backend.py:4432: The name tf.random_uniform is deprecated. Please use tf.random.uniform instead.\n",
            "\n"
          ],
          "name": "stdout"
        }
      ]
    },
    {
      "cell_type": "code",
      "metadata": {
        "id": "6LHJR2uYXaZj",
        "colab_type": "code",
        "outputId": "457ba640-13b8-4fff-f432-dca5a2aaaa07",
        "colab": {
          "base_uri": "https://localhost:8080/",
          "height": 75
        }
      },
      "source": [
        "adam = keras.optimizers.Adam(0.001)\n",
        "model.compile(loss='mae', optimizer=adam, metrics=['accuracy'])"
      ],
      "execution_count": 0,
      "outputs": [
        {
          "output_type": "stream",
          "text": [
            "WARNING:tensorflow:From /usr/local/lib/python3.6/dist-packages/keras/optimizers.py:793: The name tf.train.Optimizer is deprecated. Please use tf.compat.v1.train.Optimizer instead.\n",
            "\n"
          ],
          "name": "stdout"
        }
      ]
    },
    {
      "cell_type": "code",
      "metadata": {
        "id": "KbIkmXylXaiq",
        "colab_type": "code",
        "outputId": "ad1ab601-7e3d-437b-88c9-cb7a1032a49d",
        "colab": {
          "base_uri": "https://localhost:8080/",
          "height": 1000
        }
      },
      "source": [
        "hist = model.fit(train_X, train_Y, epochs=200, batch_size=630,\n",
        "                    validation_data=(val_X, val_Y))"
      ],
      "execution_count": 0,
      "outputs": [
        {
          "output_type": "stream",
          "text": [
            "WARNING:tensorflow:From /usr/local/lib/python3.6/dist-packages/keras/backend/tensorflow_backend.py:1033: The name tf.assign_add is deprecated. Please use tf.compat.v1.assign_add instead.\n",
            "\n",
            "WARNING:tensorflow:From /usr/local/lib/python3.6/dist-packages/keras/backend/tensorflow_backend.py:1020: The name tf.assign is deprecated. Please use tf.compat.v1.assign instead.\n",
            "\n",
            "WARNING:tensorflow:From /usr/local/lib/python3.6/dist-packages/keras/backend/tensorflow_backend.py:3005: The name tf.Session is deprecated. Please use tf.compat.v1.Session instead.\n",
            "\n",
            "Train on 607500 samples, validate on 202500 samples\n",
            "Epoch 1/200\n",
            "WARNING:tensorflow:From /usr/local/lib/python3.6/dist-packages/keras/backend/tensorflow_backend.py:190: The name tf.get_default_session is deprecated. Please use tf.compat.v1.get_default_session instead.\n",
            "\n",
            "WARNING:tensorflow:From /usr/local/lib/python3.6/dist-packages/keras/backend/tensorflow_backend.py:197: The name tf.ConfigProto is deprecated. Please use tf.compat.v1.ConfigProto instead.\n",
            "\n",
            "WARNING:tensorflow:From /usr/local/lib/python3.6/dist-packages/keras/backend/tensorflow_backend.py:207: The name tf.global_variables is deprecated. Please use tf.compat.v1.global_variables instead.\n",
            "\n",
            "WARNING:tensorflow:From /usr/local/lib/python3.6/dist-packages/keras/backend/tensorflow_backend.py:216: The name tf.is_variable_initialized is deprecated. Please use tf.compat.v1.is_variable_initialized instead.\n",
            "\n",
            "WARNING:tensorflow:From /usr/local/lib/python3.6/dist-packages/keras/backend/tensorflow_backend.py:223: The name tf.variables_initializer is deprecated. Please use tf.compat.v1.variables_initializer instead.\n",
            "\n",
            "607500/607500 [==============================] - 41s 68us/step - loss: 70.8995 - acc: 0.3228 - val_loss: 69.3099 - val_acc: 0.3004\n",
            "Epoch 2/200\n",
            "607500/607500 [==============================] - 30s 50us/step - loss: 49.3039 - acc: 0.4199 - val_loss: 61.4798 - val_acc: 0.3992\n",
            "Epoch 3/200\n",
            "607500/607500 [==============================] - 31s 52us/step - loss: 40.6383 - acc: 0.5600 - val_loss: 47.8365 - val_acc: 0.5004\n",
            "Epoch 4/200\n",
            "607500/607500 [==============================] - 32s 52us/step - loss: 31.8066 - acc: 0.6680 - val_loss: 42.3963 - val_acc: 0.5701\n",
            "Epoch 5/200\n",
            "607500/607500 [==============================] - 32s 52us/step - loss: 25.8507 - acc: 0.7341 - val_loss: 29.0572 - val_acc: 0.7229\n",
            "Epoch 6/200\n",
            "607500/607500 [==============================] - 31s 51us/step - loss: 22.2034 - acc: 0.7701 - val_loss: 26.1341 - val_acc: 0.7293\n",
            "Epoch 7/200\n",
            "607500/607500 [==============================] - 31s 50us/step - loss: 19.3268 - acc: 0.7979 - val_loss: 22.0574 - val_acc: 0.7674\n",
            "Epoch 8/200\n",
            "607500/607500 [==============================] - 30s 50us/step - loss: 16.9284 - acc: 0.8225 - val_loss: 19.3368 - val_acc: 0.7915\n",
            "Epoch 9/200\n",
            "607500/607500 [==============================] - 30s 50us/step - loss: 14.8636 - acc: 0.8416 - val_loss: 16.9308 - val_acc: 0.8175\n",
            "Epoch 10/200\n",
            "607500/607500 [==============================] - 30s 50us/step - loss: 13.3155 - acc: 0.8577 - val_loss: 15.0570 - val_acc: 0.8469\n",
            "Epoch 11/200\n",
            "607500/607500 [==============================] - 30s 50us/step - loss: 12.0745 - acc: 0.8705 - val_loss: 13.3621 - val_acc: 0.8559\n",
            "Epoch 12/200\n",
            "607500/607500 [==============================] - 30s 49us/step - loss: 10.9295 - acc: 0.8818 - val_loss: 11.5435 - val_acc: 0.8765\n",
            "Epoch 13/200\n",
            "607500/607500 [==============================] - 30s 50us/step - loss: 10.1622 - acc: 0.8893 - val_loss: 11.1510 - val_acc: 0.8844\n",
            "Epoch 14/200\n",
            "607500/607500 [==============================] - 30s 49us/step - loss: 9.4206 - acc: 0.8971 - val_loss: 11.9297 - val_acc: 0.8771\n",
            "Epoch 15/200\n",
            "607500/607500 [==============================] - 30s 50us/step - loss: 8.8791 - acc: 0.9023 - val_loss: 9.7092 - val_acc: 0.8917\n",
            "Epoch 16/200\n",
            "607500/607500 [==============================] - 30s 50us/step - loss: 8.4239 - acc: 0.9070 - val_loss: 10.7415 - val_acc: 0.8825\n",
            "Epoch 17/200\n",
            "607500/607500 [==============================] - 30s 50us/step - loss: 7.9571 - acc: 0.9111 - val_loss: 10.6331 - val_acc: 0.8906\n",
            "Epoch 18/200\n",
            "607500/607500 [==============================] - 31s 50us/step - loss: 7.6248 - acc: 0.9152 - val_loss: 8.4208 - val_acc: 0.9038\n",
            "Epoch 19/200\n",
            "607500/607500 [==============================] - 30s 50us/step - loss: 7.2178 - acc: 0.9193 - val_loss: 8.6650 - val_acc: 0.9029\n",
            "Epoch 20/200\n",
            "607500/607500 [==============================] - 30s 50us/step - loss: 7.0214 - acc: 0.9204 - val_loss: 8.4003 - val_acc: 0.9062\n",
            "Epoch 21/200\n",
            "607500/607500 [==============================] - 31s 50us/step - loss: 6.6549 - acc: 0.9243 - val_loss: 8.3696 - val_acc: 0.9036\n",
            "Epoch 22/200\n",
            "607500/607500 [==============================] - 31s 51us/step - loss: 6.5051 - acc: 0.9263 - val_loss: 6.7327 - val_acc: 0.9204\n",
            "Epoch 23/200\n",
            "607500/607500 [==============================] - 32s 52us/step - loss: 6.2690 - acc: 0.9287 - val_loss: 6.6692 - val_acc: 0.9192\n",
            "Epoch 24/200\n",
            "607500/607500 [==============================] - 31s 51us/step - loss: 6.0317 - acc: 0.9311 - val_loss: 7.3015 - val_acc: 0.9158\n",
            "Epoch 25/200\n",
            "607500/607500 [==============================] - 31s 51us/step - loss: 5.9018 - acc: 0.9320 - val_loss: 6.9683 - val_acc: 0.9285\n",
            "Epoch 26/200\n",
            "607500/607500 [==============================] - 31s 51us/step - loss: 5.7467 - acc: 0.9335 - val_loss: 5.6804 - val_acc: 0.9388\n",
            "Epoch 27/200\n",
            "607500/607500 [==============================] - 31s 50us/step - loss: 5.6469 - acc: 0.9345 - val_loss: 6.5760 - val_acc: 0.9286\n",
            "Epoch 28/200\n",
            "607500/607500 [==============================] - 31s 51us/step - loss: 5.4727 - acc: 0.9367 - val_loss: 5.7318 - val_acc: 0.9341\n",
            "Epoch 29/200\n",
            "607500/607500 [==============================] - 31s 51us/step - loss: 5.2921 - acc: 0.9379 - val_loss: 5.2752 - val_acc: 0.9336\n",
            "Epoch 30/200\n",
            "607500/607500 [==============================] - 30s 50us/step - loss: 5.2354 - acc: 0.9383 - val_loss: 5.7588 - val_acc: 0.9297\n",
            "Epoch 31/200\n",
            "607500/607500 [==============================] - 31s 51us/step - loss: 5.1238 - acc: 0.9401 - val_loss: 5.8440 - val_acc: 0.9270\n",
            "Epoch 32/200\n",
            "607500/607500 [==============================] - 30s 50us/step - loss: 5.0329 - acc: 0.9405 - val_loss: 5.1066 - val_acc: 0.9387\n",
            "Epoch 33/200\n",
            "607500/607500 [==============================] - 30s 50us/step - loss: 4.9251 - acc: 0.9419 - val_loss: 5.4635 - val_acc: 0.9346\n",
            "Epoch 34/200\n",
            "607500/607500 [==============================] - 30s 50us/step - loss: 4.8467 - acc: 0.9429 - val_loss: 4.8566 - val_acc: 0.9424\n",
            "Epoch 35/200\n",
            "607500/607500 [==============================] - 30s 50us/step - loss: 4.7338 - acc: 0.9438 - val_loss: 6.4078 - val_acc: 0.9256\n",
            "Epoch 36/200\n",
            "607500/607500 [==============================] - 30s 49us/step - loss: 4.6366 - acc: 0.9448 - val_loss: 4.8692 - val_acc: 0.9427\n",
            "Epoch 37/200\n",
            "607500/607500 [==============================] - 30s 50us/step - loss: 4.5492 - acc: 0.9452 - val_loss: 4.7956 - val_acc: 0.9476\n",
            "Epoch 38/200\n",
            "607500/607500 [==============================] - 30s 50us/step - loss: 4.4824 - acc: 0.9466 - val_loss: 7.4917 - val_acc: 0.9251\n",
            "Epoch 39/200\n",
            "607500/607500 [==============================] - 30s 50us/step - loss: 4.4407 - acc: 0.9467 - val_loss: 4.1154 - val_acc: 0.9528\n",
            "Epoch 40/200\n",
            "607500/607500 [==============================] - 30s 50us/step - loss: 4.3102 - acc: 0.9473 - val_loss: 3.7412 - val_acc: 0.9516\n",
            "Epoch 41/200\n",
            "607500/607500 [==============================] - 30s 50us/step - loss: 4.2657 - acc: 0.9482 - val_loss: 4.2238 - val_acc: 0.9467\n",
            "Epoch 42/200\n",
            "607500/607500 [==============================] - 30s 50us/step - loss: 4.2271 - acc: 0.9480 - val_loss: 4.5447 - val_acc: 0.9359\n",
            "Epoch 43/200\n",
            "607500/607500 [==============================] - 30s 50us/step - loss: 4.1589 - acc: 0.9489 - val_loss: 4.2310 - val_acc: 0.9501\n",
            "Epoch 44/200\n",
            "607500/607500 [==============================] - 30s 49us/step - loss: 4.0954 - acc: 0.9492 - val_loss: 4.2432 - val_acc: 0.9472\n",
            "Epoch 45/200\n",
            "607500/607500 [==============================] - 30s 50us/step - loss: 4.0122 - acc: 0.9499 - val_loss: 3.8640 - val_acc: 0.9450\n",
            "Epoch 46/200\n",
            "607500/607500 [==============================] - 30s 49us/step - loss: 3.9617 - acc: 0.9505 - val_loss: 4.1779 - val_acc: 0.9472\n",
            "Epoch 47/200\n",
            "607500/607500 [==============================] - 30s 49us/step - loss: 3.9053 - acc: 0.9507 - val_loss: 3.5557 - val_acc: 0.9578\n",
            "Epoch 48/200\n",
            "607500/607500 [==============================] - 30s 50us/step - loss: 3.8629 - acc: 0.9515 - val_loss: 3.7213 - val_acc: 0.9505\n",
            "Epoch 49/200\n",
            "607500/607500 [==============================] - 30s 50us/step - loss: 3.7798 - acc: 0.9518 - val_loss: 3.9548 - val_acc: 0.9443\n",
            "Epoch 50/200\n",
            "607500/607500 [==============================] - 30s 49us/step - loss: 3.7695 - acc: 0.9520 - val_loss: 3.4574 - val_acc: 0.9574\n",
            "Epoch 51/200\n",
            "607500/607500 [==============================] - 30s 49us/step - loss: 3.6669 - acc: 0.9531 - val_loss: 3.8414 - val_acc: 0.9496\n",
            "Epoch 52/200\n",
            "607500/607500 [==============================] - 30s 49us/step - loss: 3.6251 - acc: 0.9533 - val_loss: 3.3392 - val_acc: 0.9550\n",
            "Epoch 53/200\n",
            "607500/607500 [==============================] - 30s 49us/step - loss: 3.5830 - acc: 0.9534 - val_loss: 3.6581 - val_acc: 0.9540\n",
            "Epoch 54/200\n",
            "607500/607500 [==============================] - 30s 49us/step - loss: 3.5445 - acc: 0.9536 - val_loss: 3.3670 - val_acc: 0.9547\n",
            "Epoch 55/200\n",
            "607500/607500 [==============================] - 30s 49us/step - loss: 3.4723 - acc: 0.9547 - val_loss: 3.2629 - val_acc: 0.9606\n",
            "Epoch 56/200\n",
            "607500/607500 [==============================] - 29s 48us/step - loss: 3.4730 - acc: 0.9544 - val_loss: 3.1786 - val_acc: 0.9560\n",
            "Epoch 57/200\n",
            "607500/607500 [==============================] - 29s 48us/step - loss: 3.3939 - acc: 0.9550 - val_loss: 3.3703 - val_acc: 0.9544\n",
            "Epoch 58/200\n",
            "607500/607500 [==============================] - 29s 48us/step - loss: 3.3951 - acc: 0.9550 - val_loss: 3.3839 - val_acc: 0.9577\n",
            "Epoch 59/200\n",
            "607500/607500 [==============================] - 30s 49us/step - loss: 3.3161 - acc: 0.9556 - val_loss: 4.1747 - val_acc: 0.9511\n",
            "Epoch 60/200\n",
            "607500/607500 [==============================] - 29s 48us/step - loss: 3.2955 - acc: 0.9559 - val_loss: 5.0520 - val_acc: 0.9433\n",
            "Epoch 61/200\n",
            "607500/607500 [==============================] - 29s 48us/step - loss: 3.2757 - acc: 0.9557 - val_loss: 3.4813 - val_acc: 0.9626\n",
            "Epoch 62/200\n",
            "607500/607500 [==============================] - 29s 48us/step - loss: 3.2227 - acc: 0.9564 - val_loss: 3.0341 - val_acc: 0.9637\n",
            "Epoch 63/200\n",
            "607500/607500 [==============================] - 29s 48us/step - loss: 3.1672 - acc: 0.9570 - val_loss: 3.4627 - val_acc: 0.9507\n",
            "Epoch 64/200\n",
            "607500/607500 [==============================] - 30s 49us/step - loss: 3.1433 - acc: 0.9567 - val_loss: 2.9987 - val_acc: 0.9625\n",
            "Epoch 65/200\n",
            "607500/607500 [==============================] - 30s 49us/step - loss: 3.1294 - acc: 0.9575 - val_loss: 3.1405 - val_acc: 0.9512\n",
            "Epoch 66/200\n",
            "607500/607500 [==============================] - 30s 49us/step - loss: 3.0655 - acc: 0.9574 - val_loss: 2.8127 - val_acc: 0.9583\n",
            "Epoch 67/200\n",
            "607500/607500 [==============================] - 29s 48us/step - loss: 3.0644 - acc: 0.9573 - val_loss: 3.0419 - val_acc: 0.9483\n",
            "Epoch 68/200\n",
            "607500/607500 [==============================] - 29s 48us/step - loss: 3.0266 - acc: 0.9577 - val_loss: 3.7747 - val_acc: 0.9435\n",
            "Epoch 69/200\n",
            "607500/607500 [==============================] - 30s 49us/step - loss: 3.0014 - acc: 0.9583 - val_loss: 2.6861 - val_acc: 0.9690\n",
            "Epoch 70/200\n",
            "607500/607500 [==============================] - 29s 48us/step - loss: 2.9647 - acc: 0.9581 - val_loss: 2.9667 - val_acc: 0.9646\n",
            "Epoch 71/200\n",
            "607500/607500 [==============================] - 29s 48us/step - loss: 2.9201 - acc: 0.9583 - val_loss: 3.0768 - val_acc: 0.9657\n",
            "Epoch 72/200\n",
            "607500/607500 [==============================] - 29s 48us/step - loss: 2.9087 - acc: 0.9586 - val_loss: 3.2693 - val_acc: 0.9579\n",
            "Epoch 73/200\n",
            "607500/607500 [==============================] - 29s 48us/step - loss: 2.8712 - acc: 0.9590 - val_loss: 2.9290 - val_acc: 0.9590\n",
            "Epoch 74/200\n",
            "607500/607500 [==============================] - 29s 48us/step - loss: 2.8406 - acc: 0.9590 - val_loss: 2.9163 - val_acc: 0.9603\n",
            "Epoch 75/200\n",
            "607500/607500 [==============================] - 29s 49us/step - loss: 2.8344 - acc: 0.9588 - val_loss: 3.2471 - val_acc: 0.9524\n",
            "Epoch 76/200\n",
            "607500/607500 [==============================] - 29s 48us/step - loss: 2.7962 - acc: 0.9592 - val_loss: 3.1175 - val_acc: 0.9591\n",
            "Epoch 77/200\n",
            "607500/607500 [==============================] - 30s 49us/step - loss: 2.8059 - acc: 0.9590 - val_loss: 3.2603 - val_acc: 0.9497\n",
            "Epoch 78/200\n",
            "607500/607500 [==============================] - 29s 48us/step - loss: 2.7478 - acc: 0.9595 - val_loss: 3.0662 - val_acc: 0.9624\n",
            "Epoch 79/200\n",
            "607500/607500 [==============================] - 29s 48us/step - loss: 2.7387 - acc: 0.9597 - val_loss: 2.6572 - val_acc: 0.9545\n",
            "Epoch 80/200\n",
            "607500/607500 [==============================] - 30s 49us/step - loss: 2.7209 - acc: 0.9594 - val_loss: 2.6155 - val_acc: 0.9651\n",
            "Epoch 81/200\n",
            "607500/607500 [==============================] - 29s 48us/step - loss: 2.6843 - acc: 0.9599 - val_loss: 2.6626 - val_acc: 0.9504\n",
            "Epoch 82/200\n",
            "607500/607500 [==============================] - 29s 48us/step - loss: 2.6778 - acc: 0.9600 - val_loss: 2.9366 - val_acc: 0.9567\n",
            "Epoch 83/200\n",
            "607500/607500 [==============================] - 29s 48us/step - loss: 2.6522 - acc: 0.9600 - val_loss: 2.8323 - val_acc: 0.9618\n",
            "Epoch 84/200\n",
            "607500/607500 [==============================] - 29s 48us/step - loss: 2.6109 - acc: 0.9603 - val_loss: 2.7415 - val_acc: 0.9529\n",
            "Epoch 85/200\n",
            "607500/607500 [==============================] - 29s 48us/step - loss: 2.5888 - acc: 0.9604 - val_loss: 2.9864 - val_acc: 0.9540\n",
            "Epoch 86/200\n",
            "607500/607500 [==============================] - 29s 48us/step - loss: 2.6248 - acc: 0.9605 - val_loss: 2.6574 - val_acc: 0.9709\n",
            "Epoch 87/200\n",
            "607500/607500 [==============================] - 29s 48us/step - loss: 2.5797 - acc: 0.9604 - val_loss: 2.8999 - val_acc: 0.9478\n",
            "Epoch 88/200\n",
            "607500/607500 [==============================] - 29s 48us/step - loss: 2.5829 - acc: 0.9601 - val_loss: 2.7533 - val_acc: 0.9633\n",
            "Epoch 89/200\n",
            "607500/607500 [==============================] - 29s 48us/step - loss: 2.5526 - acc: 0.9608 - val_loss: 2.5263 - val_acc: 0.9636\n",
            "Epoch 90/200\n",
            "607500/607500 [==============================] - 29s 48us/step - loss: 2.5389 - acc: 0.9607 - val_loss: 2.4786 - val_acc: 0.9603\n",
            "Epoch 91/200\n",
            "607500/607500 [==============================] - 30s 49us/step - loss: 2.5065 - acc: 0.9608 - val_loss: 2.7727 - val_acc: 0.9634\n",
            "Epoch 92/200\n",
            "607500/607500 [==============================] - 29s 48us/step - loss: 2.4999 - acc: 0.9607 - val_loss: 2.4169 - val_acc: 0.9617\n",
            "Epoch 93/200\n",
            "607500/607500 [==============================] - 29s 48us/step - loss: 2.4855 - acc: 0.9607 - val_loss: 2.4767 - val_acc: 0.9588\n",
            "Epoch 94/200\n",
            "607500/607500 [==============================] - 29s 48us/step - loss: 2.4599 - acc: 0.9612 - val_loss: 2.2952 - val_acc: 0.9668\n",
            "Epoch 95/200\n",
            "607500/607500 [==============================] - 29s 48us/step - loss: 2.4691 - acc: 0.9612 - val_loss: 2.3897 - val_acc: 0.9624\n",
            "Epoch 96/200\n",
            "607500/607500 [==============================] - 29s 48us/step - loss: 2.4173 - acc: 0.9614 - val_loss: 2.3172 - val_acc: 0.9559\n",
            "Epoch 97/200\n",
            "607500/607500 [==============================] - 29s 48us/step - loss: 2.4075 - acc: 0.9617 - val_loss: 2.4905 - val_acc: 0.9599\n",
            "Epoch 98/200\n",
            "607500/607500 [==============================] - 29s 48us/step - loss: 2.4150 - acc: 0.9613 - val_loss: 2.5533 - val_acc: 0.9616\n",
            "Epoch 99/200\n",
            "607500/607500 [==============================] - 29s 48us/step - loss: 2.4008 - acc: 0.9619 - val_loss: 2.5254 - val_acc: 0.9567\n",
            "Epoch 100/200\n",
            "607500/607500 [==============================] - 29s 48us/step - loss: 2.3909 - acc: 0.9619 - val_loss: 2.4082 - val_acc: 0.9668\n",
            "Epoch 101/200\n",
            "607500/607500 [==============================] - 29s 48us/step - loss: 2.3800 - acc: 0.9617 - val_loss: 2.1826 - val_acc: 0.9527\n",
            "Epoch 102/200\n",
            "607500/607500 [==============================] - 29s 48us/step - loss: 2.3315 - acc: 0.9621 - val_loss: 2.4218 - val_acc: 0.9585\n",
            "Epoch 103/200\n",
            "607500/607500 [==============================] - 29s 48us/step - loss: 2.3540 - acc: 0.9621 - val_loss: 2.0813 - val_acc: 0.9616\n",
            "Epoch 104/200\n",
            "607500/607500 [==============================] - 29s 48us/step - loss: 2.3110 - acc: 0.9620 - val_loss: 2.9456 - val_acc: 0.9617\n",
            "Epoch 105/200\n",
            "607500/607500 [==============================] - 29s 48us/step - loss: 2.2949 - acc: 0.9624 - val_loss: 1.9872 - val_acc: 0.9639\n",
            "Epoch 106/200\n",
            "607500/607500 [==============================] - 29s 48us/step - loss: 2.3081 - acc: 0.9622 - val_loss: 2.7454 - val_acc: 0.9528\n",
            "Epoch 107/200\n",
            "607500/607500 [==============================] - 29s 48us/step - loss: 2.2982 - acc: 0.9616 - val_loss: 2.1081 - val_acc: 0.9657\n",
            "Epoch 108/200\n",
            "607500/607500 [==============================] - 29s 48us/step - loss: 2.2609 - acc: 0.9624 - val_loss: 2.2664 - val_acc: 0.9579\n",
            "Epoch 109/200\n",
            "607500/607500 [==============================] - 29s 48us/step - loss: 2.2802 - acc: 0.9622 - val_loss: 2.2575 - val_acc: 0.9595\n",
            "Epoch 110/200\n",
            "607500/607500 [==============================] - 29s 48us/step - loss: 2.2490 - acc: 0.9624 - val_loss: 2.2208 - val_acc: 0.9513\n",
            "Epoch 111/200\n",
            "607500/607500 [==============================] - 29s 48us/step - loss: 2.2409 - acc: 0.9624 - val_loss: 2.2532 - val_acc: 0.9650\n",
            "Epoch 112/200\n",
            "607500/607500 [==============================] - 30s 49us/step - loss: 2.2252 - acc: 0.9628 - val_loss: 1.9405 - val_acc: 0.9689\n",
            "Epoch 113/200\n",
            "607500/607500 [==============================] - 29s 48us/step - loss: 2.2181 - acc: 0.9625 - val_loss: 1.9043 - val_acc: 0.9657\n",
            "Epoch 114/200\n",
            "607500/607500 [==============================] - 29s 48us/step - loss: 2.2239 - acc: 0.9626 - val_loss: 2.0797 - val_acc: 0.9600\n",
            "Epoch 115/200\n",
            "607500/607500 [==============================] - 29s 48us/step - loss: 2.2049 - acc: 0.9628 - val_loss: 2.2548 - val_acc: 0.9603\n",
            "Epoch 116/200\n",
            "607500/607500 [==============================] - 29s 48us/step - loss: 2.1697 - acc: 0.9629 - val_loss: 1.9589 - val_acc: 0.9583\n",
            "Epoch 117/200\n",
            "607500/607500 [==============================] - 29s 48us/step - loss: 2.1639 - acc: 0.9627 - val_loss: 1.9422 - val_acc: 0.9683\n",
            "Epoch 118/200\n",
            "607500/607500 [==============================] - 29s 48us/step - loss: 2.1848 - acc: 0.9625 - val_loss: 2.4301 - val_acc: 0.9585\n",
            "Epoch 119/200\n",
            "607500/607500 [==============================] - 29s 48us/step - loss: 2.1479 - acc: 0.9629 - val_loss: 2.6550 - val_acc: 0.9585\n",
            "Epoch 120/200\n",
            "607500/607500 [==============================] - 29s 48us/step - loss: 2.1617 - acc: 0.9627 - val_loss: 2.3442 - val_acc: 0.9567\n",
            "Epoch 121/200\n",
            "607500/607500 [==============================] - 29s 48us/step - loss: 2.1615 - acc: 0.9628 - val_loss: 2.0048 - val_acc: 0.9553\n",
            "Epoch 122/200\n",
            "607500/607500 [==============================] - 29s 48us/step - loss: 2.1164 - acc: 0.9628 - val_loss: 2.1452 - val_acc: 0.9636\n",
            "Epoch 123/200\n",
            "607500/607500 [==============================] - 29s 48us/step - loss: 2.1116 - acc: 0.9630 - val_loss: 2.1310 - val_acc: 0.9652\n",
            "Epoch 124/200\n",
            "607500/607500 [==============================] - 30s 50us/step - loss: 2.1335 - acc: 0.9627 - val_loss: 2.1239 - val_acc: 0.9616\n",
            "Epoch 125/200\n",
            "607500/607500 [==============================] - 30s 50us/step - loss: 2.1083 - acc: 0.9632 - val_loss: 2.1047 - val_acc: 0.9612\n",
            "Epoch 126/200\n",
            "607500/607500 [==============================] - 31s 51us/step - loss: 2.0927 - acc: 0.9631 - val_loss: 2.1732 - val_acc: 0.9652\n",
            "Epoch 127/200\n",
            "607500/607500 [==============================] - 30s 50us/step - loss: 2.1016 - acc: 0.9630 - val_loss: 2.1731 - val_acc: 0.9628\n",
            "Epoch 128/200\n",
            "607500/607500 [==============================] - 30s 49us/step - loss: 2.0670 - acc: 0.9631 - val_loss: 2.1624 - val_acc: 0.9595\n",
            "Epoch 129/200\n",
            "607500/607500 [==============================] - 30s 49us/step - loss: 2.0641 - acc: 0.9630 - val_loss: 1.9839 - val_acc: 0.9604\n",
            "Epoch 130/200\n",
            "607500/607500 [==============================] - 30s 49us/step - loss: 2.0658 - acc: 0.9630 - val_loss: 1.9627 - val_acc: 0.9622\n",
            "Epoch 131/200\n",
            "607500/607500 [==============================] - 29s 49us/step - loss: 2.0545 - acc: 0.9633 - val_loss: 1.8168 - val_acc: 0.9657\n",
            "Epoch 132/200\n",
            "607500/607500 [==============================] - 30s 49us/step - loss: 2.0494 - acc: 0.9632 - val_loss: 1.9115 - val_acc: 0.9706\n",
            "Epoch 133/200\n",
            "607500/607500 [==============================] - 30s 50us/step - loss: 2.0407 - acc: 0.9632 - val_loss: 1.8927 - val_acc: 0.9685\n",
            "Epoch 134/200\n",
            "607500/607500 [==============================] - 30s 49us/step - loss: 2.0313 - acc: 0.9631 - val_loss: 2.1747 - val_acc: 0.9620\n",
            "Epoch 135/200\n",
            "607500/607500 [==============================] - 29s 49us/step - loss: 2.0257 - acc: 0.9636 - val_loss: 2.3089 - val_acc: 0.9612\n",
            "Epoch 136/200\n",
            "607500/607500 [==============================] - 29s 48us/step - loss: 2.0181 - acc: 0.9633 - val_loss: 1.9462 - val_acc: 0.9659\n",
            "Epoch 137/200\n",
            "607500/607500 [==============================] - 29s 48us/step - loss: 2.0064 - acc: 0.9632 - val_loss: 1.8692 - val_acc: 0.9653\n",
            "Epoch 138/200\n",
            "607500/607500 [==============================] - 29s 48us/step - loss: 2.0086 - acc: 0.9635 - val_loss: 1.9577 - val_acc: 0.9609\n",
            "Epoch 139/200\n",
            "607500/607500 [==============================] - 29s 49us/step - loss: 2.0020 - acc: 0.9633 - val_loss: 2.1215 - val_acc: 0.9664\n",
            "Epoch 140/200\n",
            "607500/607500 [==============================] - 29s 48us/step - loss: 1.9917 - acc: 0.9634 - val_loss: 1.8770 - val_acc: 0.9582\n",
            "Epoch 141/200\n",
            "607500/607500 [==============================] - 29s 48us/step - loss: 1.9975 - acc: 0.9633 - val_loss: 1.7521 - val_acc: 0.9642\n",
            "Epoch 142/200\n",
            "607500/607500 [==============================] - 31s 51us/step - loss: 1.9835 - acc: 0.9635 - val_loss: 1.7962 - val_acc: 0.9756\n",
            "Epoch 143/200\n",
            "607500/607500 [==============================] - 30s 50us/step - loss: 1.9842 - acc: 0.9635 - val_loss: 1.9610 - val_acc: 0.9609\n",
            "Epoch 144/200\n",
            "607500/607500 [==============================] - 31s 51us/step - loss: 1.9611 - acc: 0.9638 - val_loss: 1.7813 - val_acc: 0.9615\n",
            "Epoch 145/200\n",
            "607500/607500 [==============================] - 31s 51us/step - loss: 1.9611 - acc: 0.9638 - val_loss: 2.0525 - val_acc: 0.9580\n",
            "Epoch 146/200\n",
            "607500/607500 [==============================] - 31s 51us/step - loss: 1.9608 - acc: 0.9634 - val_loss: 2.0079 - val_acc: 0.9620\n",
            "Epoch 147/200\n",
            "607500/607500 [==============================] - 31s 51us/step - loss: 1.9458 - acc: 0.9637 - val_loss: 1.7726 - val_acc: 0.9563\n",
            "Epoch 148/200\n",
            "607500/607500 [==============================] - 30s 50us/step - loss: 1.9540 - acc: 0.9637 - val_loss: 1.7094 - val_acc: 0.9598\n",
            "Epoch 149/200\n",
            "607500/607500 [==============================] - 30s 50us/step - loss: 1.9218 - acc: 0.9636 - val_loss: 1.8528 - val_acc: 0.9663\n",
            "Epoch 150/200\n",
            "607500/607500 [==============================] - 30s 50us/step - loss: 1.9378 - acc: 0.9637 - val_loss: 2.3860 - val_acc: 0.9674\n",
            "Epoch 151/200\n",
            "607500/607500 [==============================] - 30s 50us/step - loss: 1.9338 - acc: 0.9637 - val_loss: 1.8108 - val_acc: 0.9690\n",
            "Epoch 152/200\n",
            "607500/607500 [==============================] - 30s 50us/step - loss: 1.9052 - acc: 0.9638 - val_loss: 2.1508 - val_acc: 0.9590\n",
            "Epoch 153/200\n",
            "607500/607500 [==============================] - 30s 50us/step - loss: 1.9091 - acc: 0.9637 - val_loss: 1.7862 - val_acc: 0.9660\n",
            "Epoch 154/200\n",
            "607500/607500 [==============================] - 30s 50us/step - loss: 1.9061 - acc: 0.9640 - val_loss: 1.8539 - val_acc: 0.9662\n",
            "Epoch 155/200\n",
            "607500/607500 [==============================] - 30s 49us/step - loss: 1.8963 - acc: 0.9640 - val_loss: 2.1845 - val_acc: 0.9587\n",
            "Epoch 156/200\n",
            "607500/607500 [==============================] - 30s 49us/step - loss: 1.8924 - acc: 0.9638 - val_loss: 1.8575 - val_acc: 0.9628\n",
            "Epoch 157/200\n",
            "607500/607500 [==============================] - 29s 48us/step - loss: 1.8980 - acc: 0.9637 - val_loss: 1.7726 - val_acc: 0.9580\n",
            "Epoch 158/200\n",
            "607500/607500 [==============================] - 29s 48us/step - loss: 1.8835 - acc: 0.9637 - val_loss: 1.9484 - val_acc: 0.9633\n",
            "Epoch 159/200\n",
            "607500/607500 [==============================] - 30s 49us/step - loss: 1.8623 - acc: 0.9639 - val_loss: 1.6789 - val_acc: 0.9667\n",
            "Epoch 160/200\n",
            "607500/607500 [==============================] - 30s 49us/step - loss: 1.8734 - acc: 0.9640 - val_loss: 1.6075 - val_acc: 0.9632\n",
            "Epoch 161/200\n",
            "607500/607500 [==============================] - 30s 49us/step - loss: 1.8707 - acc: 0.9638 - val_loss: 1.8012 - val_acc: 0.9611\n",
            "Epoch 162/200\n",
            "607500/607500 [==============================] - 30s 49us/step - loss: 1.8684 - acc: 0.9639 - val_loss: 1.6459 - val_acc: 0.9599\n",
            "Epoch 163/200\n",
            "607500/607500 [==============================] - 29s 49us/step - loss: 1.8596 - acc: 0.9638 - val_loss: 2.0237 - val_acc: 0.9676\n",
            "Epoch 164/200\n",
            "607500/607500 [==============================] - 30s 49us/step - loss: 1.8679 - acc: 0.9638 - val_loss: 2.2197 - val_acc: 0.9602\n",
            "Epoch 165/200\n",
            "607500/607500 [==============================] - 29s 48us/step - loss: 1.8456 - acc: 0.9639 - val_loss: 1.9041 - val_acc: 0.9636\n",
            "Epoch 166/200\n",
            "607500/607500 [==============================] - 29s 48us/step - loss: 1.8317 - acc: 0.9644 - val_loss: 1.8499 - val_acc: 0.9660\n",
            "Epoch 167/200\n",
            "607500/607500 [==============================] - 29s 48us/step - loss: 1.8483 - acc: 0.9640 - val_loss: 1.8166 - val_acc: 0.9677\n",
            "Epoch 168/200\n",
            "607500/607500 [==============================] - 29s 48us/step - loss: 1.8280 - acc: 0.9641 - val_loss: 2.4172 - val_acc: 0.9539\n",
            "Epoch 169/200\n",
            "607500/607500 [==============================] - 29s 48us/step - loss: 1.8250 - acc: 0.9641 - val_loss: 2.0650 - val_acc: 0.9613\n",
            "Epoch 170/200\n",
            "607500/607500 [==============================] - 30s 49us/step - loss: 1.8273 - acc: 0.9642 - val_loss: 1.7126 - val_acc: 0.9713\n",
            "Epoch 171/200\n",
            "607500/607500 [==============================] - 29s 48us/step - loss: 1.8123 - acc: 0.9643 - val_loss: 1.8220 - val_acc: 0.9712\n",
            "Epoch 172/200\n",
            "607500/607500 [==============================] - 29s 49us/step - loss: 1.8079 - acc: 0.9644 - val_loss: 2.0577 - val_acc: 0.9624\n",
            "Epoch 173/200\n",
            "607500/607500 [==============================] - 29s 48us/step - loss: 1.8259 - acc: 0.9643 - val_loss: 1.7878 - val_acc: 0.9634\n",
            "Epoch 174/200\n",
            "607500/607500 [==============================] - 29s 49us/step - loss: 1.8081 - acc: 0.9644 - val_loss: 3.0448 - val_acc: 0.9556\n",
            "Epoch 175/200\n",
            "607500/607500 [==============================] - 29s 48us/step - loss: 1.7980 - acc: 0.9642 - val_loss: 1.5973 - val_acc: 0.9678\n",
            "Epoch 176/200\n",
            "607500/607500 [==============================] - 29s 48us/step - loss: 1.7988 - acc: 0.9642 - val_loss: 1.8151 - val_acc: 0.9601\n",
            "Epoch 177/200\n",
            "607500/607500 [==============================] - 29s 48us/step - loss: 1.7921 - acc: 0.9640 - val_loss: 1.6518 - val_acc: 0.9755\n",
            "Epoch 178/200\n",
            "607500/607500 [==============================] - 29s 48us/step - loss: 1.7838 - acc: 0.9647 - val_loss: 1.8238 - val_acc: 0.9762\n",
            "Epoch 179/200\n",
            "607500/607500 [==============================] - 29s 48us/step - loss: 1.7852 - acc: 0.9642 - val_loss: 1.8006 - val_acc: 0.9632\n",
            "Epoch 180/200\n",
            "607500/607500 [==============================] - 30s 49us/step - loss: 1.7781 - acc: 0.9639 - val_loss: 1.6233 - val_acc: 0.9607\n",
            "Epoch 181/200\n",
            "607500/607500 [==============================] - 31s 50us/step - loss: 1.7854 - acc: 0.9643 - val_loss: 1.7456 - val_acc: 0.9756\n",
            "Epoch 182/200\n",
            "607500/607500 [==============================] - 30s 49us/step - loss: 1.7764 - acc: 0.9642 - val_loss: 1.8770 - val_acc: 0.9683\n",
            "Epoch 183/200\n",
            "607500/607500 [==============================] - 31s 51us/step - loss: 1.7626 - acc: 0.9641 - val_loss: 1.6056 - val_acc: 0.9596\n",
            "Epoch 184/200\n",
            "607500/607500 [==============================] - 31s 51us/step - loss: 1.7637 - acc: 0.9643 - val_loss: 1.6241 - val_acc: 0.9611\n",
            "Epoch 185/200\n",
            "607500/607500 [==============================] - 32s 52us/step - loss: 1.7490 - acc: 0.9643 - val_loss: 1.5811 - val_acc: 0.9733\n",
            "Epoch 186/200\n",
            "607500/607500 [==============================] - 32s 52us/step - loss: 1.7443 - acc: 0.9647 - val_loss: 1.8569 - val_acc: 0.9646\n",
            "Epoch 187/200\n",
            "607500/607500 [==============================] - 31s 52us/step - loss: 1.7538 - acc: 0.9643 - val_loss: 1.6383 - val_acc: 0.9620\n",
            "Epoch 188/200\n",
            "607500/607500 [==============================] - 31s 51us/step - loss: 1.7548 - acc: 0.9644 - val_loss: 1.6224 - val_acc: 0.9703\n",
            "Epoch 189/200\n",
            "607500/607500 [==============================] - 33s 54us/step - loss: 1.7309 - acc: 0.9644 - val_loss: 1.6228 - val_acc: 0.9679\n",
            "Epoch 190/200\n",
            "607500/607500 [==============================] - 31s 52us/step - loss: 1.7376 - acc: 0.9646 - val_loss: 1.5629 - val_acc: 0.9665\n",
            "Epoch 191/200\n",
            "607500/607500 [==============================] - 33s 54us/step - loss: 1.7305 - acc: 0.9643 - val_loss: 1.6705 - val_acc: 0.9562\n",
            "Epoch 192/200\n",
            "607500/607500 [==============================] - 32s 53us/step - loss: 1.7339 - acc: 0.9645 - val_loss: 1.7217 - val_acc: 0.9617\n",
            "Epoch 193/200\n",
            "607500/607500 [==============================] - 33s 54us/step - loss: 1.7325 - acc: 0.9642 - val_loss: 1.6179 - val_acc: 0.9575\n",
            "Epoch 194/200\n",
            "607500/607500 [==============================] - 33s 54us/step - loss: 1.7087 - acc: 0.9645 - val_loss: 1.6293 - val_acc: 0.9643\n",
            "Epoch 195/200\n",
            "607500/607500 [==============================] - 32s 52us/step - loss: 1.7203 - acc: 0.9644 - val_loss: 1.5686 - val_acc: 0.9578\n",
            "Epoch 196/200\n",
            "607500/607500 [==============================] - 30s 50us/step - loss: 1.7075 - acc: 0.9644 - val_loss: 1.8971 - val_acc: 0.9615\n",
            "Epoch 197/200\n",
            "607500/607500 [==============================] - 30s 49us/step - loss: 1.7336 - acc: 0.9644 - val_loss: 1.5042 - val_acc: 0.9624\n",
            "Epoch 198/200\n",
            "607500/607500 [==============================] - 30s 49us/step - loss: 1.7095 - acc: 0.9647 - val_loss: 1.5223 - val_acc: 0.9665\n",
            "Epoch 199/200\n",
            "607500/607500 [==============================] - 30s 49us/step - loss: 1.7020 - acc: 0.9647 - val_loss: 1.7791 - val_acc: 0.9620\n",
            "Epoch 200/200\n",
            "607500/607500 [==============================] - 30s 49us/step - loss: 1.7167 - acc: 0.9641 - val_loss: 1.6668 - val_acc: 0.9643\n"
          ],
          "name": "stdout"
        }
      ]
    },
    {
      "cell_type": "code",
      "metadata": {
        "id": "hsfen6zmofgX",
        "colab_type": "code",
        "outputId": "c41977d7-0b19-4c19-e92a-fd11bf843dc7",
        "colab": {
          "base_uri": "https://localhost:8080/",
          "height": 1000
        }
      },
      "source": [
        "# 모델 아키텍처\n",
        "\n",
        "from IPython.display import SVG\n",
        "from keras.utils.vis_utils import model_to_dot\n",
        "\n",
        "%matplotlib inline\n",
        "\n",
        "SVG(model_to_dot(model, show_shapes=True).create(prog='dot', format='svg'))"
      ],
      "execution_count": 0,
      "outputs": [
        {
          "output_type": "execute_result",
          "data": {
            "text/plain": [
              "<IPython.core.display.SVG object>"
            ],
            "image/svg+xml": "<svg height=\"3504pt\" viewBox=\"0.00 0.00 424.00 2628.00\" width=\"565pt\" xmlns=\"http://www.w3.org/2000/svg\" xmlns:xlink=\"http://www.w3.org/1999/xlink\">\n<g class=\"graph\" id=\"graph0\" transform=\"scale(1.3333 1.3333) rotate(0) translate(4 2624)\">\n<title>G</title>\n<polygon fill=\"#ffffff\" points=\"-4,4 -4,-2624 420,-2624 420,4 -4,4\" stroke=\"transparent\"/>\n<!-- 140705645779992 -->\n<g class=\"node\" id=\"node1\">\n<title>140705645779992</title>\n<polygon fill=\"none\" points=\"49,-2573.5 49,-2619.5 367,-2619.5 367,-2573.5 49,-2573.5\" stroke=\"#000000\"/>\n<text fill=\"#000000\" font-family=\"Times,serif\" font-size=\"14.00\" text-anchor=\"middle\" x=\"135.5\" y=\"-2592.8\">dense_1_input: InputLayer</text>\n<polyline fill=\"none\" points=\"222,-2573.5 222,-2619.5 \" stroke=\"#000000\"/>\n<text fill=\"#000000\" font-family=\"Times,serif\" font-size=\"14.00\" text-anchor=\"middle\" x=\"251\" y=\"-2604.3\">input:</text>\n<polyline fill=\"none\" points=\"222,-2596.5 280,-2596.5 \" stroke=\"#000000\"/>\n<text fill=\"#000000\" font-family=\"Times,serif\" font-size=\"14.00\" text-anchor=\"middle\" x=\"251\" y=\"-2581.3\">output:</text>\n<polyline fill=\"none\" points=\"280,-2573.5 280,-2619.5 \" stroke=\"#000000\"/>\n<text fill=\"#000000\" font-family=\"Times,serif\" font-size=\"14.00\" text-anchor=\"middle\" x=\"323.5\" y=\"-2604.3\">(None, 226)</text>\n<polyline fill=\"none\" points=\"280,-2596.5 367,-2596.5 \" stroke=\"#000000\"/>\n<text fill=\"#000000\" font-family=\"Times,serif\" font-size=\"14.00\" text-anchor=\"middle\" x=\"323.5\" y=\"-2581.3\">(None, 226)</text>\n</g>\n<!-- 140705645779544 -->\n<g class=\"node\" id=\"node2\">\n<title>140705645779544</title>\n<polygon fill=\"none\" points=\"82,-2490.5 82,-2536.5 334,-2536.5 334,-2490.5 82,-2490.5\" stroke=\"#000000\"/>\n<text fill=\"#000000\" font-family=\"Times,serif\" font-size=\"14.00\" text-anchor=\"middle\" x=\"135.5\" y=\"-2509.8\">dense_1: Dense</text>\n<polyline fill=\"none\" points=\"189,-2490.5 189,-2536.5 \" stroke=\"#000000\"/>\n<text fill=\"#000000\" font-family=\"Times,serif\" font-size=\"14.00\" text-anchor=\"middle\" x=\"218\" y=\"-2521.3\">input:</text>\n<polyline fill=\"none\" points=\"189,-2513.5 247,-2513.5 \" stroke=\"#000000\"/>\n<text fill=\"#000000\" font-family=\"Times,serif\" font-size=\"14.00\" text-anchor=\"middle\" x=\"218\" y=\"-2498.3\">output:</text>\n<polyline fill=\"none\" points=\"247,-2490.5 247,-2536.5 \" stroke=\"#000000\"/>\n<text fill=\"#000000\" font-family=\"Times,serif\" font-size=\"14.00\" text-anchor=\"middle\" x=\"290.5\" y=\"-2521.3\">(None, 226)</text>\n<polyline fill=\"none\" points=\"247,-2513.5 334,-2513.5 \" stroke=\"#000000\"/>\n<text fill=\"#000000\" font-family=\"Times,serif\" font-size=\"14.00\" text-anchor=\"middle\" x=\"290.5\" y=\"-2498.3\">(None, 800)</text>\n</g>\n<!-- 140705645779992&#45;&gt;140705645779544 -->\n<g class=\"edge\" id=\"edge1\">\n<title>140705645779992-&gt;140705645779544</title>\n<path d=\"M208,-2573.3799C208,-2565.1745 208,-2555.7679 208,-2546.8786\" fill=\"none\" stroke=\"#000000\"/>\n<polygon fill=\"#000000\" points=\"211.5001,-2546.784 208,-2536.784 204.5001,-2546.784 211.5001,-2546.784\" stroke=\"#000000\"/>\n</g>\n<!-- 140705645780776 -->\n<g class=\"node\" id=\"node3\">\n<title>140705645780776</title>\n<polygon fill=\"none\" points=\"82,-2407.5 82,-2453.5 334,-2453.5 334,-2407.5 82,-2407.5\" stroke=\"#000000\"/>\n<text fill=\"#000000\" font-family=\"Times,serif\" font-size=\"14.00\" text-anchor=\"middle\" x=\"135.5\" y=\"-2426.8\">dense_2: Dense</text>\n<polyline fill=\"none\" points=\"189,-2407.5 189,-2453.5 \" stroke=\"#000000\"/>\n<text fill=\"#000000\" font-family=\"Times,serif\" font-size=\"14.00\" text-anchor=\"middle\" x=\"218\" y=\"-2438.3\">input:</text>\n<polyline fill=\"none\" points=\"189,-2430.5 247,-2430.5 \" stroke=\"#000000\"/>\n<text fill=\"#000000\" font-family=\"Times,serif\" font-size=\"14.00\" text-anchor=\"middle\" x=\"218\" y=\"-2415.3\">output:</text>\n<polyline fill=\"none\" points=\"247,-2407.5 247,-2453.5 \" stroke=\"#000000\"/>\n<text fill=\"#000000\" font-family=\"Times,serif\" font-size=\"14.00\" text-anchor=\"middle\" x=\"290.5\" y=\"-2438.3\">(None, 800)</text>\n<polyline fill=\"none\" points=\"247,-2430.5 334,-2430.5 \" stroke=\"#000000\"/>\n<text fill=\"#000000\" font-family=\"Times,serif\" font-size=\"14.00\" text-anchor=\"middle\" x=\"290.5\" y=\"-2415.3\">(None, 800)</text>\n</g>\n<!-- 140705645779544&#45;&gt;140705645780776 -->\n<g class=\"edge\" id=\"edge2\">\n<title>140705645779544-&gt;140705645780776</title>\n<path d=\"M208,-2490.3799C208,-2482.1745 208,-2472.7679 208,-2463.8786\" fill=\"none\" stroke=\"#000000\"/>\n<polygon fill=\"#000000\" points=\"211.5001,-2463.784 208,-2453.784 204.5001,-2463.784 211.5001,-2463.784\" stroke=\"#000000\"/>\n</g>\n<!-- 140705642672984 -->\n<g class=\"node\" id=\"node4\">\n<title>140705642672984</title>\n<polygon fill=\"none\" points=\"82,-2324.5 82,-2370.5 334,-2370.5 334,-2324.5 82,-2324.5\" stroke=\"#000000\"/>\n<text fill=\"#000000\" font-family=\"Times,serif\" font-size=\"14.00\" text-anchor=\"middle\" x=\"135.5\" y=\"-2343.8\">dense_3: Dense</text>\n<polyline fill=\"none\" points=\"189,-2324.5 189,-2370.5 \" stroke=\"#000000\"/>\n<text fill=\"#000000\" font-family=\"Times,serif\" font-size=\"14.00\" text-anchor=\"middle\" x=\"218\" y=\"-2355.3\">input:</text>\n<polyline fill=\"none\" points=\"189,-2347.5 247,-2347.5 \" stroke=\"#000000\"/>\n<text fill=\"#000000\" font-family=\"Times,serif\" font-size=\"14.00\" text-anchor=\"middle\" x=\"218\" y=\"-2332.3\">output:</text>\n<polyline fill=\"none\" points=\"247,-2324.5 247,-2370.5 \" stroke=\"#000000\"/>\n<text fill=\"#000000\" font-family=\"Times,serif\" font-size=\"14.00\" text-anchor=\"middle\" x=\"290.5\" y=\"-2355.3\">(None, 800)</text>\n<polyline fill=\"none\" points=\"247,-2347.5 334,-2347.5 \" stroke=\"#000000\"/>\n<text fill=\"#000000\" font-family=\"Times,serif\" font-size=\"14.00\" text-anchor=\"middle\" x=\"290.5\" y=\"-2332.3\">(None, 800)</text>\n</g>\n<!-- 140705645780776&#45;&gt;140705642672984 -->\n<g class=\"edge\" id=\"edge3\">\n<title>140705645780776-&gt;140705642672984</title>\n<path d=\"M208,-2407.3799C208,-2399.1745 208,-2389.7679 208,-2380.8786\" fill=\"none\" stroke=\"#000000\"/>\n<polygon fill=\"#000000\" points=\"211.5001,-2380.784 208,-2370.784 204.5001,-2380.784 211.5001,-2380.784\" stroke=\"#000000\"/>\n</g>\n<!-- 140705642636344 -->\n<g class=\"node\" id=\"node5\">\n<title>140705642636344</title>\n<polygon fill=\"none\" points=\"0,-2241.5 0,-2287.5 416,-2287.5 416,-2241.5 0,-2241.5\" stroke=\"#000000\"/>\n<text fill=\"#000000\" font-family=\"Times,serif\" font-size=\"14.00\" text-anchor=\"middle\" x=\"135.5\" y=\"-2260.8\">batch_normalization_1: BatchNormalization</text>\n<polyline fill=\"none\" points=\"271,-2241.5 271,-2287.5 \" stroke=\"#000000\"/>\n<text fill=\"#000000\" font-family=\"Times,serif\" font-size=\"14.00\" text-anchor=\"middle\" x=\"300\" y=\"-2272.3\">input:</text>\n<polyline fill=\"none\" points=\"271,-2264.5 329,-2264.5 \" stroke=\"#000000\"/>\n<text fill=\"#000000\" font-family=\"Times,serif\" font-size=\"14.00\" text-anchor=\"middle\" x=\"300\" y=\"-2249.3\">output:</text>\n<polyline fill=\"none\" points=\"329,-2241.5 329,-2287.5 \" stroke=\"#000000\"/>\n<text fill=\"#000000\" font-family=\"Times,serif\" font-size=\"14.00\" text-anchor=\"middle\" x=\"372.5\" y=\"-2272.3\">(None, 800)</text>\n<polyline fill=\"none\" points=\"329,-2264.5 416,-2264.5 \" stroke=\"#000000\"/>\n<text fill=\"#000000\" font-family=\"Times,serif\" font-size=\"14.00\" text-anchor=\"middle\" x=\"372.5\" y=\"-2249.3\">(None, 800)</text>\n</g>\n<!-- 140705642672984&#45;&gt;140705642636344 -->\n<g class=\"edge\" id=\"edge4\">\n<title>140705642672984-&gt;140705642636344</title>\n<path d=\"M208,-2324.3799C208,-2316.1745 208,-2306.7679 208,-2297.8786\" fill=\"none\" stroke=\"#000000\"/>\n<polygon fill=\"#000000\" points=\"211.5001,-2297.784 208,-2287.784 204.5001,-2297.784 211.5001,-2297.784\" stroke=\"#000000\"/>\n</g>\n<!-- 140705642636848 -->\n<g class=\"node\" id=\"node6\">\n<title>140705642636848</title>\n<polygon fill=\"none\" points=\"58.5,-2158.5 58.5,-2204.5 357.5,-2204.5 357.5,-2158.5 58.5,-2158.5\" stroke=\"#000000\"/>\n<text fill=\"#000000\" font-family=\"Times,serif\" font-size=\"14.00\" text-anchor=\"middle\" x=\"135.5\" y=\"-2177.8\">activation_1: Activation</text>\n<polyline fill=\"none\" points=\"212.5,-2158.5 212.5,-2204.5 \" stroke=\"#000000\"/>\n<text fill=\"#000000\" font-family=\"Times,serif\" font-size=\"14.00\" text-anchor=\"middle\" x=\"241.5\" y=\"-2189.3\">input:</text>\n<polyline fill=\"none\" points=\"212.5,-2181.5 270.5,-2181.5 \" stroke=\"#000000\"/>\n<text fill=\"#000000\" font-family=\"Times,serif\" font-size=\"14.00\" text-anchor=\"middle\" x=\"241.5\" y=\"-2166.3\">output:</text>\n<polyline fill=\"none\" points=\"270.5,-2158.5 270.5,-2204.5 \" stroke=\"#000000\"/>\n<text fill=\"#000000\" font-family=\"Times,serif\" font-size=\"14.00\" text-anchor=\"middle\" x=\"314\" y=\"-2189.3\">(None, 800)</text>\n<polyline fill=\"none\" points=\"270.5,-2181.5 357.5,-2181.5 \" stroke=\"#000000\"/>\n<text fill=\"#000000\" font-family=\"Times,serif\" font-size=\"14.00\" text-anchor=\"middle\" x=\"314\" y=\"-2166.3\">(None, 800)</text>\n</g>\n<!-- 140705642636344&#45;&gt;140705642636848 -->\n<g class=\"edge\" id=\"edge5\">\n<title>140705642636344-&gt;140705642636848</title>\n<path d=\"M208,-2241.3799C208,-2233.1745 208,-2223.7679 208,-2214.8786\" fill=\"none\" stroke=\"#000000\"/>\n<polygon fill=\"#000000\" points=\"211.5001,-2214.784 208,-2204.784 204.5001,-2214.784 211.5001,-2214.784\" stroke=\"#000000\"/>\n</g>\n<!-- 140705643667240 -->\n<g class=\"node\" id=\"node7\">\n<title>140705643667240</title>\n<polygon fill=\"none\" points=\"82,-2075.5 82,-2121.5 334,-2121.5 334,-2075.5 82,-2075.5\" stroke=\"#000000\"/>\n<text fill=\"#000000\" font-family=\"Times,serif\" font-size=\"14.00\" text-anchor=\"middle\" x=\"135.5\" y=\"-2094.8\">dense_4: Dense</text>\n<polyline fill=\"none\" points=\"189,-2075.5 189,-2121.5 \" stroke=\"#000000\"/>\n<text fill=\"#000000\" font-family=\"Times,serif\" font-size=\"14.00\" text-anchor=\"middle\" x=\"218\" y=\"-2106.3\">input:</text>\n<polyline fill=\"none\" points=\"189,-2098.5 247,-2098.5 \" stroke=\"#000000\"/>\n<text fill=\"#000000\" font-family=\"Times,serif\" font-size=\"14.00\" text-anchor=\"middle\" x=\"218\" y=\"-2083.3\">output:</text>\n<polyline fill=\"none\" points=\"247,-2075.5 247,-2121.5 \" stroke=\"#000000\"/>\n<text fill=\"#000000\" font-family=\"Times,serif\" font-size=\"14.00\" text-anchor=\"middle\" x=\"290.5\" y=\"-2106.3\">(None, 800)</text>\n<polyline fill=\"none\" points=\"247,-2098.5 334,-2098.5 \" stroke=\"#000000\"/>\n<text fill=\"#000000\" font-family=\"Times,serif\" font-size=\"14.00\" text-anchor=\"middle\" x=\"290.5\" y=\"-2083.3\">(None, 800)</text>\n</g>\n<!-- 140705642636848&#45;&gt;140705643667240 -->\n<g class=\"edge\" id=\"edge6\">\n<title>140705642636848-&gt;140705643667240</title>\n<path d=\"M208,-2158.3799C208,-2150.1745 208,-2140.7679 208,-2131.8786\" fill=\"none\" stroke=\"#000000\"/>\n<polygon fill=\"#000000\" points=\"211.5001,-2131.784 208,-2121.784 204.5001,-2131.784 211.5001,-2131.784\" stroke=\"#000000\"/>\n</g>\n<!-- 140705642186400 -->\n<g class=\"node\" id=\"node8\">\n<title>140705642186400</title>\n<polygon fill=\"none\" points=\"82,-1992.5 82,-2038.5 334,-2038.5 334,-1992.5 82,-1992.5\" stroke=\"#000000\"/>\n<text fill=\"#000000\" font-family=\"Times,serif\" font-size=\"14.00\" text-anchor=\"middle\" x=\"135.5\" y=\"-2011.8\">dense_5: Dense</text>\n<polyline fill=\"none\" points=\"189,-1992.5 189,-2038.5 \" stroke=\"#000000\"/>\n<text fill=\"#000000\" font-family=\"Times,serif\" font-size=\"14.00\" text-anchor=\"middle\" x=\"218\" y=\"-2023.3\">input:</text>\n<polyline fill=\"none\" points=\"189,-2015.5 247,-2015.5 \" stroke=\"#000000\"/>\n<text fill=\"#000000\" font-family=\"Times,serif\" font-size=\"14.00\" text-anchor=\"middle\" x=\"218\" y=\"-2000.3\">output:</text>\n<polyline fill=\"none\" points=\"247,-1992.5 247,-2038.5 \" stroke=\"#000000\"/>\n<text fill=\"#000000\" font-family=\"Times,serif\" font-size=\"14.00\" text-anchor=\"middle\" x=\"290.5\" y=\"-2023.3\">(None, 800)</text>\n<polyline fill=\"none\" points=\"247,-2015.5 334,-2015.5 \" stroke=\"#000000\"/>\n<text fill=\"#000000\" font-family=\"Times,serif\" font-size=\"14.00\" text-anchor=\"middle\" x=\"290.5\" y=\"-2000.3\">(None, 800)</text>\n</g>\n<!-- 140705643667240&#45;&gt;140705642186400 -->\n<g class=\"edge\" id=\"edge7\">\n<title>140705643667240-&gt;140705642186400</title>\n<path d=\"M208,-2075.3799C208,-2067.1745 208,-2057.7679 208,-2048.8786\" fill=\"none\" stroke=\"#000000\"/>\n<polygon fill=\"#000000\" points=\"211.5001,-2048.784 208,-2038.784 204.5001,-2048.784 211.5001,-2048.784\" stroke=\"#000000\"/>\n</g>\n<!-- 140705642218048 -->\n<g class=\"node\" id=\"node9\">\n<title>140705642218048</title>\n<polygon fill=\"none\" points=\"82,-1909.5 82,-1955.5 334,-1955.5 334,-1909.5 82,-1909.5\" stroke=\"#000000\"/>\n<text fill=\"#000000\" font-family=\"Times,serif\" font-size=\"14.00\" text-anchor=\"middle\" x=\"135.5\" y=\"-1928.8\">dense_6: Dense</text>\n<polyline fill=\"none\" points=\"189,-1909.5 189,-1955.5 \" stroke=\"#000000\"/>\n<text fill=\"#000000\" font-family=\"Times,serif\" font-size=\"14.00\" text-anchor=\"middle\" x=\"218\" y=\"-1940.3\">input:</text>\n<polyline fill=\"none\" points=\"189,-1932.5 247,-1932.5 \" stroke=\"#000000\"/>\n<text fill=\"#000000\" font-family=\"Times,serif\" font-size=\"14.00\" text-anchor=\"middle\" x=\"218\" y=\"-1917.3\">output:</text>\n<polyline fill=\"none\" points=\"247,-1909.5 247,-1955.5 \" stroke=\"#000000\"/>\n<text fill=\"#000000\" font-family=\"Times,serif\" font-size=\"14.00\" text-anchor=\"middle\" x=\"290.5\" y=\"-1940.3\">(None, 800)</text>\n<polyline fill=\"none\" points=\"247,-1932.5 334,-1932.5 \" stroke=\"#000000\"/>\n<text fill=\"#000000\" font-family=\"Times,serif\" font-size=\"14.00\" text-anchor=\"middle\" x=\"290.5\" y=\"-1917.3\">(None, 800)</text>\n</g>\n<!-- 140705642186400&#45;&gt;140705642218048 -->\n<g class=\"edge\" id=\"edge8\">\n<title>140705642186400-&gt;140705642218048</title>\n<path d=\"M208,-1992.3799C208,-1984.1745 208,-1974.7679 208,-1965.8786\" fill=\"none\" stroke=\"#000000\"/>\n<polygon fill=\"#000000\" points=\"211.5001,-1965.784 208,-1955.784 204.5001,-1965.784 211.5001,-1965.784\" stroke=\"#000000\"/>\n</g>\n<!-- 140705642234432 -->\n<g class=\"node\" id=\"node10\">\n<title>140705642234432</title>\n<polygon fill=\"none\" points=\"0,-1826.5 0,-1872.5 416,-1872.5 416,-1826.5 0,-1826.5\" stroke=\"#000000\"/>\n<text fill=\"#000000\" font-family=\"Times,serif\" font-size=\"14.00\" text-anchor=\"middle\" x=\"135.5\" y=\"-1845.8\">batch_normalization_2: BatchNormalization</text>\n<polyline fill=\"none\" points=\"271,-1826.5 271,-1872.5 \" stroke=\"#000000\"/>\n<text fill=\"#000000\" font-family=\"Times,serif\" font-size=\"14.00\" text-anchor=\"middle\" x=\"300\" y=\"-1857.3\">input:</text>\n<polyline fill=\"none\" points=\"271,-1849.5 329,-1849.5 \" stroke=\"#000000\"/>\n<text fill=\"#000000\" font-family=\"Times,serif\" font-size=\"14.00\" text-anchor=\"middle\" x=\"300\" y=\"-1834.3\">output:</text>\n<polyline fill=\"none\" points=\"329,-1826.5 329,-1872.5 \" stroke=\"#000000\"/>\n<text fill=\"#000000\" font-family=\"Times,serif\" font-size=\"14.00\" text-anchor=\"middle\" x=\"372.5\" y=\"-1857.3\">(None, 800)</text>\n<polyline fill=\"none\" points=\"329,-1849.5 416,-1849.5 \" stroke=\"#000000\"/>\n<text fill=\"#000000\" font-family=\"Times,serif\" font-size=\"14.00\" text-anchor=\"middle\" x=\"372.5\" y=\"-1834.3\">(None, 800)</text>\n</g>\n<!-- 140705642218048&#45;&gt;140705642234432 -->\n<g class=\"edge\" id=\"edge9\">\n<title>140705642218048-&gt;140705642234432</title>\n<path d=\"M208,-1909.3799C208,-1901.1745 208,-1891.7679 208,-1882.8786\" fill=\"none\" stroke=\"#000000\"/>\n<polygon fill=\"#000000\" points=\"211.5001,-1882.784 208,-1872.784 204.5001,-1882.784 211.5001,-1882.784\" stroke=\"#000000\"/>\n</g>\n<!-- 140705642234936 -->\n<g class=\"node\" id=\"node11\">\n<title>140705642234936</title>\n<polygon fill=\"none\" points=\"58.5,-1743.5 58.5,-1789.5 357.5,-1789.5 357.5,-1743.5 58.5,-1743.5\" stroke=\"#000000\"/>\n<text fill=\"#000000\" font-family=\"Times,serif\" font-size=\"14.00\" text-anchor=\"middle\" x=\"135.5\" y=\"-1762.8\">activation_2: Activation</text>\n<polyline fill=\"none\" points=\"212.5,-1743.5 212.5,-1789.5 \" stroke=\"#000000\"/>\n<text fill=\"#000000\" font-family=\"Times,serif\" font-size=\"14.00\" text-anchor=\"middle\" x=\"241.5\" y=\"-1774.3\">input:</text>\n<polyline fill=\"none\" points=\"212.5,-1766.5 270.5,-1766.5 \" stroke=\"#000000\"/>\n<text fill=\"#000000\" font-family=\"Times,serif\" font-size=\"14.00\" text-anchor=\"middle\" x=\"241.5\" y=\"-1751.3\">output:</text>\n<polyline fill=\"none\" points=\"270.5,-1743.5 270.5,-1789.5 \" stroke=\"#000000\"/>\n<text fill=\"#000000\" font-family=\"Times,serif\" font-size=\"14.00\" text-anchor=\"middle\" x=\"314\" y=\"-1774.3\">(None, 800)</text>\n<polyline fill=\"none\" points=\"270.5,-1766.5 357.5,-1766.5 \" stroke=\"#000000\"/>\n<text fill=\"#000000\" font-family=\"Times,serif\" font-size=\"14.00\" text-anchor=\"middle\" x=\"314\" y=\"-1751.3\">(None, 800)</text>\n</g>\n<!-- 140705642234432&#45;&gt;140705642234936 -->\n<g class=\"edge\" id=\"edge10\">\n<title>140705642234432-&gt;140705642234936</title>\n<path d=\"M208,-1826.3799C208,-1818.1745 208,-1808.7679 208,-1799.8786\" fill=\"none\" stroke=\"#000000\"/>\n<polygon fill=\"#000000\" points=\"211.5001,-1799.784 208,-1789.784 204.5001,-1799.784 211.5001,-1799.784\" stroke=\"#000000\"/>\n</g>\n<!-- 140705642266184 -->\n<g class=\"node\" id=\"node12\">\n<title>140705642266184</title>\n<polygon fill=\"none\" points=\"82,-1660.5 82,-1706.5 334,-1706.5 334,-1660.5 82,-1660.5\" stroke=\"#000000\"/>\n<text fill=\"#000000\" font-family=\"Times,serif\" font-size=\"14.00\" text-anchor=\"middle\" x=\"135.5\" y=\"-1679.8\">dense_7: Dense</text>\n<polyline fill=\"none\" points=\"189,-1660.5 189,-1706.5 \" stroke=\"#000000\"/>\n<text fill=\"#000000\" font-family=\"Times,serif\" font-size=\"14.00\" text-anchor=\"middle\" x=\"218\" y=\"-1691.3\">input:</text>\n<polyline fill=\"none\" points=\"189,-1683.5 247,-1683.5 \" stroke=\"#000000\"/>\n<text fill=\"#000000\" font-family=\"Times,serif\" font-size=\"14.00\" text-anchor=\"middle\" x=\"218\" y=\"-1668.3\">output:</text>\n<polyline fill=\"none\" points=\"247,-1660.5 247,-1706.5 \" stroke=\"#000000\"/>\n<text fill=\"#000000\" font-family=\"Times,serif\" font-size=\"14.00\" text-anchor=\"middle\" x=\"290.5\" y=\"-1691.3\">(None, 800)</text>\n<polyline fill=\"none\" points=\"247,-1683.5 334,-1683.5 \" stroke=\"#000000\"/>\n<text fill=\"#000000\" font-family=\"Times,serif\" font-size=\"14.00\" text-anchor=\"middle\" x=\"290.5\" y=\"-1668.3\">(None, 800)</text>\n</g>\n<!-- 140705642234936&#45;&gt;140705642266184 -->\n<g class=\"edge\" id=\"edge11\">\n<title>140705642234936-&gt;140705642266184</title>\n<path d=\"M208,-1743.3799C208,-1735.1745 208,-1725.7679 208,-1716.8786\" fill=\"none\" stroke=\"#000000\"/>\n<polygon fill=\"#000000\" points=\"211.5001,-1716.784 208,-1706.784 204.5001,-1716.784 211.5001,-1716.784\" stroke=\"#000000\"/>\n</g>\n<!-- 140705645592080 -->\n<g class=\"node\" id=\"node13\">\n<title>140705645592080</title>\n<polygon fill=\"none\" points=\"82,-1577.5 82,-1623.5 334,-1623.5 334,-1577.5 82,-1577.5\" stroke=\"#000000\"/>\n<text fill=\"#000000\" font-family=\"Times,serif\" font-size=\"14.00\" text-anchor=\"middle\" x=\"135.5\" y=\"-1596.8\">dense_8: Dense</text>\n<polyline fill=\"none\" points=\"189,-1577.5 189,-1623.5 \" stroke=\"#000000\"/>\n<text fill=\"#000000\" font-family=\"Times,serif\" font-size=\"14.00\" text-anchor=\"middle\" x=\"218\" y=\"-1608.3\">input:</text>\n<polyline fill=\"none\" points=\"189,-1600.5 247,-1600.5 \" stroke=\"#000000\"/>\n<text fill=\"#000000\" font-family=\"Times,serif\" font-size=\"14.00\" text-anchor=\"middle\" x=\"218\" y=\"-1585.3\">output:</text>\n<polyline fill=\"none\" points=\"247,-1577.5 247,-1623.5 \" stroke=\"#000000\"/>\n<text fill=\"#000000\" font-family=\"Times,serif\" font-size=\"14.00\" text-anchor=\"middle\" x=\"290.5\" y=\"-1608.3\">(None, 800)</text>\n<polyline fill=\"none\" points=\"247,-1600.5 334,-1600.5 \" stroke=\"#000000\"/>\n<text fill=\"#000000\" font-family=\"Times,serif\" font-size=\"14.00\" text-anchor=\"middle\" x=\"290.5\" y=\"-1585.3\">(None, 800)</text>\n</g>\n<!-- 140705642266184&#45;&gt;140705645592080 -->\n<g class=\"edge\" id=\"edge12\">\n<title>140705642266184-&gt;140705645592080</title>\n<path d=\"M208,-1660.3799C208,-1652.1745 208,-1642.7679 208,-1633.8786\" fill=\"none\" stroke=\"#000000\"/>\n<polygon fill=\"#000000\" points=\"211.5001,-1633.784 208,-1623.784 204.5001,-1633.784 211.5001,-1633.784\" stroke=\"#000000\"/>\n</g>\n<!-- 140705645672096 -->\n<g class=\"node\" id=\"node14\">\n<title>140705645672096</title>\n<polygon fill=\"none\" points=\"82,-1494.5 82,-1540.5 334,-1540.5 334,-1494.5 82,-1494.5\" stroke=\"#000000\"/>\n<text fill=\"#000000\" font-family=\"Times,serif\" font-size=\"14.00\" text-anchor=\"middle\" x=\"135.5\" y=\"-1513.8\">dense_9: Dense</text>\n<polyline fill=\"none\" points=\"189,-1494.5 189,-1540.5 \" stroke=\"#000000\"/>\n<text fill=\"#000000\" font-family=\"Times,serif\" font-size=\"14.00\" text-anchor=\"middle\" x=\"218\" y=\"-1525.3\">input:</text>\n<polyline fill=\"none\" points=\"189,-1517.5 247,-1517.5 \" stroke=\"#000000\"/>\n<text fill=\"#000000\" font-family=\"Times,serif\" font-size=\"14.00\" text-anchor=\"middle\" x=\"218\" y=\"-1502.3\">output:</text>\n<polyline fill=\"none\" points=\"247,-1494.5 247,-1540.5 \" stroke=\"#000000\"/>\n<text fill=\"#000000\" font-family=\"Times,serif\" font-size=\"14.00\" text-anchor=\"middle\" x=\"290.5\" y=\"-1525.3\">(None, 800)</text>\n<polyline fill=\"none\" points=\"247,-1517.5 334,-1517.5 \" stroke=\"#000000\"/>\n<text fill=\"#000000\" font-family=\"Times,serif\" font-size=\"14.00\" text-anchor=\"middle\" x=\"290.5\" y=\"-1502.3\">(None, 800)</text>\n</g>\n<!-- 140705645592080&#45;&gt;140705645672096 -->\n<g class=\"edge\" id=\"edge13\">\n<title>140705645592080-&gt;140705645672096</title>\n<path d=\"M208,-1577.3799C208,-1569.1745 208,-1559.7679 208,-1550.8786\" fill=\"none\" stroke=\"#000000\"/>\n<polygon fill=\"#000000\" points=\"211.5001,-1550.784 208,-1540.784 204.5001,-1550.784 211.5001,-1550.784\" stroke=\"#000000\"/>\n</g>\n<!-- 140705645701328 -->\n<g class=\"node\" id=\"node15\">\n<title>140705645701328</title>\n<polygon fill=\"none\" points=\"0,-1411.5 0,-1457.5 416,-1457.5 416,-1411.5 0,-1411.5\" stroke=\"#000000\"/>\n<text fill=\"#000000\" font-family=\"Times,serif\" font-size=\"14.00\" text-anchor=\"middle\" x=\"135.5\" y=\"-1430.8\">batch_normalization_3: BatchNormalization</text>\n<polyline fill=\"none\" points=\"271,-1411.5 271,-1457.5 \" stroke=\"#000000\"/>\n<text fill=\"#000000\" font-family=\"Times,serif\" font-size=\"14.00\" text-anchor=\"middle\" x=\"300\" y=\"-1442.3\">input:</text>\n<polyline fill=\"none\" points=\"271,-1434.5 329,-1434.5 \" stroke=\"#000000\"/>\n<text fill=\"#000000\" font-family=\"Times,serif\" font-size=\"14.00\" text-anchor=\"middle\" x=\"300\" y=\"-1419.3\">output:</text>\n<polyline fill=\"none\" points=\"329,-1411.5 329,-1457.5 \" stroke=\"#000000\"/>\n<text fill=\"#000000\" font-family=\"Times,serif\" font-size=\"14.00\" text-anchor=\"middle\" x=\"372.5\" y=\"-1442.3\">(None, 800)</text>\n<polyline fill=\"none\" points=\"329,-1434.5 416,-1434.5 \" stroke=\"#000000\"/>\n<text fill=\"#000000\" font-family=\"Times,serif\" font-size=\"14.00\" text-anchor=\"middle\" x=\"372.5\" y=\"-1419.3\">(None, 800)</text>\n</g>\n<!-- 140705645672096&#45;&gt;140705645701328 -->\n<g class=\"edge\" id=\"edge14\">\n<title>140705645672096-&gt;140705645701328</title>\n<path d=\"M208,-1494.3799C208,-1486.1745 208,-1476.7679 208,-1467.8786\" fill=\"none\" stroke=\"#000000\"/>\n<polygon fill=\"#000000\" points=\"211.5001,-1467.784 208,-1457.784 204.5001,-1467.784 211.5001,-1467.784\" stroke=\"#000000\"/>\n</g>\n<!-- 140705645203128 -->\n<g class=\"node\" id=\"node16\">\n<title>140705645203128</title>\n<polygon fill=\"none\" points=\"58.5,-1328.5 58.5,-1374.5 357.5,-1374.5 357.5,-1328.5 58.5,-1328.5\" stroke=\"#000000\"/>\n<text fill=\"#000000\" font-family=\"Times,serif\" font-size=\"14.00\" text-anchor=\"middle\" x=\"135.5\" y=\"-1347.8\">activation_3: Activation</text>\n<polyline fill=\"none\" points=\"212.5,-1328.5 212.5,-1374.5 \" stroke=\"#000000\"/>\n<text fill=\"#000000\" font-family=\"Times,serif\" font-size=\"14.00\" text-anchor=\"middle\" x=\"241.5\" y=\"-1359.3\">input:</text>\n<polyline fill=\"none\" points=\"212.5,-1351.5 270.5,-1351.5 \" stroke=\"#000000\"/>\n<text fill=\"#000000\" font-family=\"Times,serif\" font-size=\"14.00\" text-anchor=\"middle\" x=\"241.5\" y=\"-1336.3\">output:</text>\n<polyline fill=\"none\" points=\"270.5,-1328.5 270.5,-1374.5 \" stroke=\"#000000\"/>\n<text fill=\"#000000\" font-family=\"Times,serif\" font-size=\"14.00\" text-anchor=\"middle\" x=\"314\" y=\"-1359.3\">(None, 800)</text>\n<polyline fill=\"none\" points=\"270.5,-1351.5 357.5,-1351.5 \" stroke=\"#000000\"/>\n<text fill=\"#000000\" font-family=\"Times,serif\" font-size=\"14.00\" text-anchor=\"middle\" x=\"314\" y=\"-1336.3\">(None, 800)</text>\n</g>\n<!-- 140705645701328&#45;&gt;140705645203128 -->\n<g class=\"edge\" id=\"edge15\">\n<title>140705645701328-&gt;140705645203128</title>\n<path d=\"M208,-1411.3799C208,-1403.1745 208,-1393.7679 208,-1384.8786\" fill=\"none\" stroke=\"#000000\"/>\n<polygon fill=\"#000000\" points=\"211.5001,-1384.784 208,-1374.784 204.5001,-1384.784 211.5001,-1384.784\" stroke=\"#000000\"/>\n</g>\n<!-- 140705645213064 -->\n<g class=\"node\" id=\"node17\">\n<title>140705645213064</title>\n<polygon fill=\"none\" points=\"78.5,-1245.5 78.5,-1291.5 337.5,-1291.5 337.5,-1245.5 78.5,-1245.5\" stroke=\"#000000\"/>\n<text fill=\"#000000\" font-family=\"Times,serif\" font-size=\"14.00\" text-anchor=\"middle\" x=\"135.5\" y=\"-1264.8\">dense_10: Dense</text>\n<polyline fill=\"none\" points=\"192.5,-1245.5 192.5,-1291.5 \" stroke=\"#000000\"/>\n<text fill=\"#000000\" font-family=\"Times,serif\" font-size=\"14.00\" text-anchor=\"middle\" x=\"221.5\" y=\"-1276.3\">input:</text>\n<polyline fill=\"none\" points=\"192.5,-1268.5 250.5,-1268.5 \" stroke=\"#000000\"/>\n<text fill=\"#000000\" font-family=\"Times,serif\" font-size=\"14.00\" text-anchor=\"middle\" x=\"221.5\" y=\"-1253.3\">output:</text>\n<polyline fill=\"none\" points=\"250.5,-1245.5 250.5,-1291.5 \" stroke=\"#000000\"/>\n<text fill=\"#000000\" font-family=\"Times,serif\" font-size=\"14.00\" text-anchor=\"middle\" x=\"294\" y=\"-1276.3\">(None, 800)</text>\n<polyline fill=\"none\" points=\"250.5,-1268.5 337.5,-1268.5 \" stroke=\"#000000\"/>\n<text fill=\"#000000\" font-family=\"Times,serif\" font-size=\"14.00\" text-anchor=\"middle\" x=\"294\" y=\"-1253.3\">(None, 800)</text>\n</g>\n<!-- 140705645203128&#45;&gt;140705645213064 -->\n<g class=\"edge\" id=\"edge16\">\n<title>140705645203128-&gt;140705645213064</title>\n<path d=\"M208,-1328.3799C208,-1320.1745 208,-1310.7679 208,-1301.8786\" fill=\"none\" stroke=\"#000000\"/>\n<polygon fill=\"#000000\" points=\"211.5001,-1301.784 208,-1291.784 204.5001,-1301.784 211.5001,-1301.784\" stroke=\"#000000\"/>\n</g>\n<!-- 140705645333976 -->\n<g class=\"node\" id=\"node18\">\n<title>140705645333976</title>\n<polygon fill=\"none\" points=\"79,-1162.5 79,-1208.5 337,-1208.5 337,-1162.5 79,-1162.5\" stroke=\"#000000\"/>\n<text fill=\"#000000\" font-family=\"Times,serif\" font-size=\"14.00\" text-anchor=\"middle\" x=\"135.5\" y=\"-1181.8\">dense_11: Dense</text>\n<polyline fill=\"none\" points=\"192,-1162.5 192,-1208.5 \" stroke=\"#000000\"/>\n<text fill=\"#000000\" font-family=\"Times,serif\" font-size=\"14.00\" text-anchor=\"middle\" x=\"221\" y=\"-1193.3\">input:</text>\n<polyline fill=\"none\" points=\"192,-1185.5 250,-1185.5 \" stroke=\"#000000\"/>\n<text fill=\"#000000\" font-family=\"Times,serif\" font-size=\"14.00\" text-anchor=\"middle\" x=\"221\" y=\"-1170.3\">output:</text>\n<polyline fill=\"none\" points=\"250,-1162.5 250,-1208.5 \" stroke=\"#000000\"/>\n<text fill=\"#000000\" font-family=\"Times,serif\" font-size=\"14.00\" text-anchor=\"middle\" x=\"293.5\" y=\"-1193.3\">(None, 800)</text>\n<polyline fill=\"none\" points=\"250,-1185.5 337,-1185.5 \" stroke=\"#000000\"/>\n<text fill=\"#000000\" font-family=\"Times,serif\" font-size=\"14.00\" text-anchor=\"middle\" x=\"293.5\" y=\"-1170.3\">(None, 800)</text>\n</g>\n<!-- 140705645213064&#45;&gt;140705645333976 -->\n<g class=\"edge\" id=\"edge17\">\n<title>140705645213064-&gt;140705645333976</title>\n<path d=\"M208,-1245.3799C208,-1237.1745 208,-1227.7679 208,-1218.8786\" fill=\"none\" stroke=\"#000000\"/>\n<polygon fill=\"#000000\" points=\"211.5001,-1218.784 208,-1208.784 204.5001,-1218.784 211.5001,-1218.784\" stroke=\"#000000\"/>\n</g>\n<!-- 140705644994232 -->\n<g class=\"node\" id=\"node19\">\n<title>140705644994232</title>\n<polygon fill=\"none\" points=\"78.5,-1079.5 78.5,-1125.5 337.5,-1125.5 337.5,-1079.5 78.5,-1079.5\" stroke=\"#000000\"/>\n<text fill=\"#000000\" font-family=\"Times,serif\" font-size=\"14.00\" text-anchor=\"middle\" x=\"135.5\" y=\"-1098.8\">dense_12: Dense</text>\n<polyline fill=\"none\" points=\"192.5,-1079.5 192.5,-1125.5 \" stroke=\"#000000\"/>\n<text fill=\"#000000\" font-family=\"Times,serif\" font-size=\"14.00\" text-anchor=\"middle\" x=\"221.5\" y=\"-1110.3\">input:</text>\n<polyline fill=\"none\" points=\"192.5,-1102.5 250.5,-1102.5 \" stroke=\"#000000\"/>\n<text fill=\"#000000\" font-family=\"Times,serif\" font-size=\"14.00\" text-anchor=\"middle\" x=\"221.5\" y=\"-1087.3\">output:</text>\n<polyline fill=\"none\" points=\"250.5,-1079.5 250.5,-1125.5 \" stroke=\"#000000\"/>\n<text fill=\"#000000\" font-family=\"Times,serif\" font-size=\"14.00\" text-anchor=\"middle\" x=\"294\" y=\"-1110.3\">(None, 800)</text>\n<polyline fill=\"none\" points=\"250.5,-1102.5 337.5,-1102.5 \" stroke=\"#000000\"/>\n<text fill=\"#000000\" font-family=\"Times,serif\" font-size=\"14.00\" text-anchor=\"middle\" x=\"294\" y=\"-1087.3\">(None, 800)</text>\n</g>\n<!-- 140705645333976&#45;&gt;140705644994232 -->\n<g class=\"edge\" id=\"edge18\">\n<title>140705645333976-&gt;140705644994232</title>\n<path d=\"M208,-1162.3799C208,-1154.1745 208,-1144.7679 208,-1135.8786\" fill=\"none\" stroke=\"#000000\"/>\n<polygon fill=\"#000000\" points=\"211.5001,-1135.784 208,-1125.784 204.5001,-1135.784 211.5001,-1135.784\" stroke=\"#000000\"/>\n</g>\n<!-- 140705645052648 -->\n<g class=\"node\" id=\"node20\">\n<title>140705645052648</title>\n<polygon fill=\"none\" points=\"0,-996.5 0,-1042.5 416,-1042.5 416,-996.5 0,-996.5\" stroke=\"#000000\"/>\n<text fill=\"#000000\" font-family=\"Times,serif\" font-size=\"14.00\" text-anchor=\"middle\" x=\"135.5\" y=\"-1015.8\">batch_normalization_4: BatchNormalization</text>\n<polyline fill=\"none\" points=\"271,-996.5 271,-1042.5 \" stroke=\"#000000\"/>\n<text fill=\"#000000\" font-family=\"Times,serif\" font-size=\"14.00\" text-anchor=\"middle\" x=\"300\" y=\"-1027.3\">input:</text>\n<polyline fill=\"none\" points=\"271,-1019.5 329,-1019.5 \" stroke=\"#000000\"/>\n<text fill=\"#000000\" font-family=\"Times,serif\" font-size=\"14.00\" text-anchor=\"middle\" x=\"300\" y=\"-1004.3\">output:</text>\n<polyline fill=\"none\" points=\"329,-996.5 329,-1042.5 \" stroke=\"#000000\"/>\n<text fill=\"#000000\" font-family=\"Times,serif\" font-size=\"14.00\" text-anchor=\"middle\" x=\"372.5\" y=\"-1027.3\">(None, 800)</text>\n<polyline fill=\"none\" points=\"329,-1019.5 416,-1019.5 \" stroke=\"#000000\"/>\n<text fill=\"#000000\" font-family=\"Times,serif\" font-size=\"14.00\" text-anchor=\"middle\" x=\"372.5\" y=\"-1004.3\">(None, 800)</text>\n</g>\n<!-- 140705644994232&#45;&gt;140705645052648 -->\n<g class=\"edge\" id=\"edge19\">\n<title>140705644994232-&gt;140705645052648</title>\n<path d=\"M208,-1079.3799C208,-1071.1745 208,-1061.7679 208,-1052.8786\" fill=\"none\" stroke=\"#000000\"/>\n<polygon fill=\"#000000\" points=\"211.5001,-1052.784 208,-1042.784 204.5001,-1052.784 211.5001,-1052.784\" stroke=\"#000000\"/>\n</g>\n<!-- 140705645053936 -->\n<g class=\"node\" id=\"node21\">\n<title>140705645053936</title>\n<polygon fill=\"none\" points=\"58.5,-913.5 58.5,-959.5 357.5,-959.5 357.5,-913.5 58.5,-913.5\" stroke=\"#000000\"/>\n<text fill=\"#000000\" font-family=\"Times,serif\" font-size=\"14.00\" text-anchor=\"middle\" x=\"135.5\" y=\"-932.8\">activation_4: Activation</text>\n<polyline fill=\"none\" points=\"212.5,-913.5 212.5,-959.5 \" stroke=\"#000000\"/>\n<text fill=\"#000000\" font-family=\"Times,serif\" font-size=\"14.00\" text-anchor=\"middle\" x=\"241.5\" y=\"-944.3\">input:</text>\n<polyline fill=\"none\" points=\"212.5,-936.5 270.5,-936.5 \" stroke=\"#000000\"/>\n<text fill=\"#000000\" font-family=\"Times,serif\" font-size=\"14.00\" text-anchor=\"middle\" x=\"241.5\" y=\"-921.3\">output:</text>\n<polyline fill=\"none\" points=\"270.5,-913.5 270.5,-959.5 \" stroke=\"#000000\"/>\n<text fill=\"#000000\" font-family=\"Times,serif\" font-size=\"14.00\" text-anchor=\"middle\" x=\"314\" y=\"-944.3\">(None, 800)</text>\n<polyline fill=\"none\" points=\"270.5,-936.5 357.5,-936.5 \" stroke=\"#000000\"/>\n<text fill=\"#000000\" font-family=\"Times,serif\" font-size=\"14.00\" text-anchor=\"middle\" x=\"314\" y=\"-921.3\">(None, 800)</text>\n</g>\n<!-- 140705645052648&#45;&gt;140705645053936 -->\n<g class=\"edge\" id=\"edge20\">\n<title>140705645052648-&gt;140705645053936</title>\n<path d=\"M208,-996.3799C208,-988.1745 208,-978.7679 208,-969.8786\" fill=\"none\" stroke=\"#000000\"/>\n<polygon fill=\"#000000\" points=\"211.5001,-969.784 208,-959.784 204.5001,-969.784 211.5001,-969.784\" stroke=\"#000000\"/>\n</g>\n<!-- 140705645083056 -->\n<g class=\"node\" id=\"node22\">\n<title>140705645083056</title>\n<polygon fill=\"none\" points=\"78.5,-830.5 78.5,-876.5 337.5,-876.5 337.5,-830.5 78.5,-830.5\" stroke=\"#000000\"/>\n<text fill=\"#000000\" font-family=\"Times,serif\" font-size=\"14.00\" text-anchor=\"middle\" x=\"135.5\" y=\"-849.8\">dense_13: Dense</text>\n<polyline fill=\"none\" points=\"192.5,-830.5 192.5,-876.5 \" stroke=\"#000000\"/>\n<text fill=\"#000000\" font-family=\"Times,serif\" font-size=\"14.00\" text-anchor=\"middle\" x=\"221.5\" y=\"-861.3\">input:</text>\n<polyline fill=\"none\" points=\"192.5,-853.5 250.5,-853.5 \" stroke=\"#000000\"/>\n<text fill=\"#000000\" font-family=\"Times,serif\" font-size=\"14.00\" text-anchor=\"middle\" x=\"221.5\" y=\"-838.3\">output:</text>\n<polyline fill=\"none\" points=\"250.5,-830.5 250.5,-876.5 \" stroke=\"#000000\"/>\n<text fill=\"#000000\" font-family=\"Times,serif\" font-size=\"14.00\" text-anchor=\"middle\" x=\"294\" y=\"-861.3\">(None, 800)</text>\n<polyline fill=\"none\" points=\"250.5,-853.5 337.5,-853.5 \" stroke=\"#000000\"/>\n<text fill=\"#000000\" font-family=\"Times,serif\" font-size=\"14.00\" text-anchor=\"middle\" x=\"294\" y=\"-838.3\">(None, 800)</text>\n</g>\n<!-- 140705645053936&#45;&gt;140705645083056 -->\n<g class=\"edge\" id=\"edge21\">\n<title>140705645053936-&gt;140705645083056</title>\n<path d=\"M208,-913.3799C208,-905.1745 208,-895.7679 208,-886.8786\" fill=\"none\" stroke=\"#000000\"/>\n<polygon fill=\"#000000\" points=\"211.5001,-886.784 208,-876.784 204.5001,-886.784 211.5001,-886.784\" stroke=\"#000000\"/>\n</g>\n<!-- 140705644684064 -->\n<g class=\"node\" id=\"node23\">\n<title>140705644684064</title>\n<polygon fill=\"none\" points=\"78.5,-747.5 78.5,-793.5 337.5,-793.5 337.5,-747.5 78.5,-747.5\" stroke=\"#000000\"/>\n<text fill=\"#000000\" font-family=\"Times,serif\" font-size=\"14.00\" text-anchor=\"middle\" x=\"135.5\" y=\"-766.8\">dense_14: Dense</text>\n<polyline fill=\"none\" points=\"192.5,-747.5 192.5,-793.5 \" stroke=\"#000000\"/>\n<text fill=\"#000000\" font-family=\"Times,serif\" font-size=\"14.00\" text-anchor=\"middle\" x=\"221.5\" y=\"-778.3\">input:</text>\n<polyline fill=\"none\" points=\"192.5,-770.5 250.5,-770.5 \" stroke=\"#000000\"/>\n<text fill=\"#000000\" font-family=\"Times,serif\" font-size=\"14.00\" text-anchor=\"middle\" x=\"221.5\" y=\"-755.3\">output:</text>\n<polyline fill=\"none\" points=\"250.5,-747.5 250.5,-793.5 \" stroke=\"#000000\"/>\n<text fill=\"#000000\" font-family=\"Times,serif\" font-size=\"14.00\" text-anchor=\"middle\" x=\"294\" y=\"-778.3\">(None, 800)</text>\n<polyline fill=\"none\" points=\"250.5,-770.5 337.5,-770.5 \" stroke=\"#000000\"/>\n<text fill=\"#000000\" font-family=\"Times,serif\" font-size=\"14.00\" text-anchor=\"middle\" x=\"294\" y=\"-755.3\">(None, 800)</text>\n</g>\n<!-- 140705645083056&#45;&gt;140705644684064 -->\n<g class=\"edge\" id=\"edge22\">\n<title>140705645083056-&gt;140705644684064</title>\n<path d=\"M208,-830.3799C208,-822.1745 208,-812.7679 208,-803.8786\" fill=\"none\" stroke=\"#000000\"/>\n<polygon fill=\"#000000\" points=\"211.5001,-803.784 208,-793.784 204.5001,-803.784 211.5001,-803.784\" stroke=\"#000000\"/>\n</g>\n<!-- 140705644872704 -->\n<g class=\"node\" id=\"node24\">\n<title>140705644872704</title>\n<polygon fill=\"none\" points=\"78.5,-664.5 78.5,-710.5 337.5,-710.5 337.5,-664.5 78.5,-664.5\" stroke=\"#000000\"/>\n<text fill=\"#000000\" font-family=\"Times,serif\" font-size=\"14.00\" text-anchor=\"middle\" x=\"135.5\" y=\"-683.8\">dense_15: Dense</text>\n<polyline fill=\"none\" points=\"192.5,-664.5 192.5,-710.5 \" stroke=\"#000000\"/>\n<text fill=\"#000000\" font-family=\"Times,serif\" font-size=\"14.00\" text-anchor=\"middle\" x=\"221.5\" y=\"-695.3\">input:</text>\n<polyline fill=\"none\" points=\"192.5,-687.5 250.5,-687.5 \" stroke=\"#000000\"/>\n<text fill=\"#000000\" font-family=\"Times,serif\" font-size=\"14.00\" text-anchor=\"middle\" x=\"221.5\" y=\"-672.3\">output:</text>\n<polyline fill=\"none\" points=\"250.5,-664.5 250.5,-710.5 \" stroke=\"#000000\"/>\n<text fill=\"#000000\" font-family=\"Times,serif\" font-size=\"14.00\" text-anchor=\"middle\" x=\"294\" y=\"-695.3\">(None, 800)</text>\n<polyline fill=\"none\" points=\"250.5,-687.5 337.5,-687.5 \" stroke=\"#000000\"/>\n<text fill=\"#000000\" font-family=\"Times,serif\" font-size=\"14.00\" text-anchor=\"middle\" x=\"294\" y=\"-672.3\">(None, 800)</text>\n</g>\n<!-- 140705644684064&#45;&gt;140705644872704 -->\n<g class=\"edge\" id=\"edge23\">\n<title>140705644684064-&gt;140705644872704</title>\n<path d=\"M208,-747.3799C208,-739.1745 208,-729.7679 208,-720.8786\" fill=\"none\" stroke=\"#000000\"/>\n<polygon fill=\"#000000\" points=\"211.5001,-720.784 208,-710.784 204.5001,-720.784 211.5001,-720.784\" stroke=\"#000000\"/>\n</g>\n<!-- 140705644896208 -->\n<g class=\"node\" id=\"node25\">\n<title>140705644896208</title>\n<polygon fill=\"none\" points=\"0,-581.5 0,-627.5 416,-627.5 416,-581.5 0,-581.5\" stroke=\"#000000\"/>\n<text fill=\"#000000\" font-family=\"Times,serif\" font-size=\"14.00\" text-anchor=\"middle\" x=\"135.5\" y=\"-600.8\">batch_normalization_5: BatchNormalization</text>\n<polyline fill=\"none\" points=\"271,-581.5 271,-627.5 \" stroke=\"#000000\"/>\n<text fill=\"#000000\" font-family=\"Times,serif\" font-size=\"14.00\" text-anchor=\"middle\" x=\"300\" y=\"-612.3\">input:</text>\n<polyline fill=\"none\" points=\"271,-604.5 329,-604.5 \" stroke=\"#000000\"/>\n<text fill=\"#000000\" font-family=\"Times,serif\" font-size=\"14.00\" text-anchor=\"middle\" x=\"300\" y=\"-589.3\">output:</text>\n<polyline fill=\"none\" points=\"329,-581.5 329,-627.5 \" stroke=\"#000000\"/>\n<text fill=\"#000000\" font-family=\"Times,serif\" font-size=\"14.00\" text-anchor=\"middle\" x=\"372.5\" y=\"-612.3\">(None, 800)</text>\n<polyline fill=\"none\" points=\"329,-604.5 416,-604.5 \" stroke=\"#000000\"/>\n<text fill=\"#000000\" font-family=\"Times,serif\" font-size=\"14.00\" text-anchor=\"middle\" x=\"372.5\" y=\"-589.3\">(None, 800)</text>\n</g>\n<!-- 140705644872704&#45;&gt;140705644896208 -->\n<g class=\"edge\" id=\"edge24\">\n<title>140705644872704-&gt;140705644896208</title>\n<path d=\"M208,-664.3799C208,-656.1745 208,-646.7679 208,-637.8786\" fill=\"none\" stroke=\"#000000\"/>\n<polygon fill=\"#000000\" points=\"211.5001,-637.784 208,-627.784 204.5001,-637.784 211.5001,-637.784\" stroke=\"#000000\"/>\n</g>\n<!-- 140705644895872 -->\n<g class=\"node\" id=\"node26\">\n<title>140705644895872</title>\n<polygon fill=\"none\" points=\"58.5,-498.5 58.5,-544.5 357.5,-544.5 357.5,-498.5 58.5,-498.5\" stroke=\"#000000\"/>\n<text fill=\"#000000\" font-family=\"Times,serif\" font-size=\"14.00\" text-anchor=\"middle\" x=\"135.5\" y=\"-517.8\">activation_5: Activation</text>\n<polyline fill=\"none\" points=\"212.5,-498.5 212.5,-544.5 \" stroke=\"#000000\"/>\n<text fill=\"#000000\" font-family=\"Times,serif\" font-size=\"14.00\" text-anchor=\"middle\" x=\"241.5\" y=\"-529.3\">input:</text>\n<polyline fill=\"none\" points=\"212.5,-521.5 270.5,-521.5 \" stroke=\"#000000\"/>\n<text fill=\"#000000\" font-family=\"Times,serif\" font-size=\"14.00\" text-anchor=\"middle\" x=\"241.5\" y=\"-506.3\">output:</text>\n<polyline fill=\"none\" points=\"270.5,-498.5 270.5,-544.5 \" stroke=\"#000000\"/>\n<text fill=\"#000000\" font-family=\"Times,serif\" font-size=\"14.00\" text-anchor=\"middle\" x=\"314\" y=\"-529.3\">(None, 800)</text>\n<polyline fill=\"none\" points=\"270.5,-521.5 357.5,-521.5 \" stroke=\"#000000\"/>\n<text fill=\"#000000\" font-family=\"Times,serif\" font-size=\"14.00\" text-anchor=\"middle\" x=\"314\" y=\"-506.3\">(None, 800)</text>\n</g>\n<!-- 140705644896208&#45;&gt;140705644895872 -->\n<g class=\"edge\" id=\"edge25\">\n<title>140705644896208-&gt;140705644895872</title>\n<path d=\"M208,-581.3799C208,-573.1745 208,-563.7679 208,-554.8786\" fill=\"none\" stroke=\"#000000\"/>\n<polygon fill=\"#000000\" points=\"211.5001,-554.784 208,-544.784 204.5001,-554.784 211.5001,-554.784\" stroke=\"#000000\"/>\n</g>\n<!-- 140705644425680 -->\n<g class=\"node\" id=\"node27\">\n<title>140705644425680</title>\n<polygon fill=\"none\" points=\"78.5,-415.5 78.5,-461.5 337.5,-461.5 337.5,-415.5 78.5,-415.5\" stroke=\"#000000\"/>\n<text fill=\"#000000\" font-family=\"Times,serif\" font-size=\"14.00\" text-anchor=\"middle\" x=\"135.5\" y=\"-434.8\">dense_16: Dense</text>\n<polyline fill=\"none\" points=\"192.5,-415.5 192.5,-461.5 \" stroke=\"#000000\"/>\n<text fill=\"#000000\" font-family=\"Times,serif\" font-size=\"14.00\" text-anchor=\"middle\" x=\"221.5\" y=\"-446.3\">input:</text>\n<polyline fill=\"none\" points=\"192.5,-438.5 250.5,-438.5 \" stroke=\"#000000\"/>\n<text fill=\"#000000\" font-family=\"Times,serif\" font-size=\"14.00\" text-anchor=\"middle\" x=\"221.5\" y=\"-423.3\">output:</text>\n<polyline fill=\"none\" points=\"250.5,-415.5 250.5,-461.5 \" stroke=\"#000000\"/>\n<text fill=\"#000000\" font-family=\"Times,serif\" font-size=\"14.00\" text-anchor=\"middle\" x=\"294\" y=\"-446.3\">(None, 800)</text>\n<polyline fill=\"none\" points=\"250.5,-438.5 337.5,-438.5 \" stroke=\"#000000\"/>\n<text fill=\"#000000\" font-family=\"Times,serif\" font-size=\"14.00\" text-anchor=\"middle\" x=\"294\" y=\"-423.3\">(None, 800)</text>\n</g>\n<!-- 140705644895872&#45;&gt;140705644425680 -->\n<g class=\"edge\" id=\"edge26\">\n<title>140705644895872-&gt;140705644425680</title>\n<path d=\"M208,-498.3799C208,-490.1745 208,-480.7679 208,-471.8786\" fill=\"none\" stroke=\"#000000\"/>\n<polygon fill=\"#000000\" points=\"211.5001,-471.784 208,-461.784 204.5001,-471.784 211.5001,-471.784\" stroke=\"#000000\"/>\n</g>\n<!-- 140705644539296 -->\n<g class=\"node\" id=\"node28\">\n<title>140705644539296</title>\n<polygon fill=\"none\" points=\"78.5,-332.5 78.5,-378.5 337.5,-378.5 337.5,-332.5 78.5,-332.5\" stroke=\"#000000\"/>\n<text fill=\"#000000\" font-family=\"Times,serif\" font-size=\"14.00\" text-anchor=\"middle\" x=\"135.5\" y=\"-351.8\">dense_17: Dense</text>\n<polyline fill=\"none\" points=\"192.5,-332.5 192.5,-378.5 \" stroke=\"#000000\"/>\n<text fill=\"#000000\" font-family=\"Times,serif\" font-size=\"14.00\" text-anchor=\"middle\" x=\"221.5\" y=\"-363.3\">input:</text>\n<polyline fill=\"none\" points=\"192.5,-355.5 250.5,-355.5 \" stroke=\"#000000\"/>\n<text fill=\"#000000\" font-family=\"Times,serif\" font-size=\"14.00\" text-anchor=\"middle\" x=\"221.5\" y=\"-340.3\">output:</text>\n<polyline fill=\"none\" points=\"250.5,-332.5 250.5,-378.5 \" stroke=\"#000000\"/>\n<text fill=\"#000000\" font-family=\"Times,serif\" font-size=\"14.00\" text-anchor=\"middle\" x=\"294\" y=\"-363.3\">(None, 800)</text>\n<polyline fill=\"none\" points=\"250.5,-355.5 337.5,-355.5 \" stroke=\"#000000\"/>\n<text fill=\"#000000\" font-family=\"Times,serif\" font-size=\"14.00\" text-anchor=\"middle\" x=\"294\" y=\"-340.3\">(None, 800)</text>\n</g>\n<!-- 140705644425680&#45;&gt;140705644539296 -->\n<g class=\"edge\" id=\"edge27\">\n<title>140705644425680-&gt;140705644539296</title>\n<path d=\"M208,-415.3799C208,-407.1745 208,-397.7679 208,-388.8786\" fill=\"none\" stroke=\"#000000\"/>\n<polygon fill=\"#000000\" points=\"211.5001,-388.784 208,-378.784 204.5001,-388.784 211.5001,-388.784\" stroke=\"#000000\"/>\n</g>\n<!-- 140705644199608 -->\n<g class=\"node\" id=\"node29\">\n<title>140705644199608</title>\n<polygon fill=\"none\" points=\"78.5,-249.5 78.5,-295.5 337.5,-295.5 337.5,-249.5 78.5,-249.5\" stroke=\"#000000\"/>\n<text fill=\"#000000\" font-family=\"Times,serif\" font-size=\"14.00\" text-anchor=\"middle\" x=\"135.5\" y=\"-268.8\">dense_18: Dense</text>\n<polyline fill=\"none\" points=\"192.5,-249.5 192.5,-295.5 \" stroke=\"#000000\"/>\n<text fill=\"#000000\" font-family=\"Times,serif\" font-size=\"14.00\" text-anchor=\"middle\" x=\"221.5\" y=\"-280.3\">input:</text>\n<polyline fill=\"none\" points=\"192.5,-272.5 250.5,-272.5 \" stroke=\"#000000\"/>\n<text fill=\"#000000\" font-family=\"Times,serif\" font-size=\"14.00\" text-anchor=\"middle\" x=\"221.5\" y=\"-257.3\">output:</text>\n<polyline fill=\"none\" points=\"250.5,-249.5 250.5,-295.5 \" stroke=\"#000000\"/>\n<text fill=\"#000000\" font-family=\"Times,serif\" font-size=\"14.00\" text-anchor=\"middle\" x=\"294\" y=\"-280.3\">(None, 800)</text>\n<polyline fill=\"none\" points=\"250.5,-272.5 337.5,-272.5 \" stroke=\"#000000\"/>\n<text fill=\"#000000\" font-family=\"Times,serif\" font-size=\"14.00\" text-anchor=\"middle\" x=\"294\" y=\"-257.3\">(None, 800)</text>\n</g>\n<!-- 140705644539296&#45;&gt;140705644199608 -->\n<g class=\"edge\" id=\"edge28\">\n<title>140705644539296-&gt;140705644199608</title>\n<path d=\"M208,-332.3799C208,-324.1745 208,-314.7679 208,-305.8786\" fill=\"none\" stroke=\"#000000\"/>\n<polygon fill=\"#000000\" points=\"211.5001,-305.784 208,-295.784 204.5001,-305.784 211.5001,-305.784\" stroke=\"#000000\"/>\n</g>\n<!-- 140705644245736 -->\n<g class=\"node\" id=\"node30\">\n<title>140705644245736</title>\n<polygon fill=\"none\" points=\"0,-166.5 0,-212.5 416,-212.5 416,-166.5 0,-166.5\" stroke=\"#000000\"/>\n<text fill=\"#000000\" font-family=\"Times,serif\" font-size=\"14.00\" text-anchor=\"middle\" x=\"135.5\" y=\"-185.8\">batch_normalization_6: BatchNormalization</text>\n<polyline fill=\"none\" points=\"271,-166.5 271,-212.5 \" stroke=\"#000000\"/>\n<text fill=\"#000000\" font-family=\"Times,serif\" font-size=\"14.00\" text-anchor=\"middle\" x=\"300\" y=\"-197.3\">input:</text>\n<polyline fill=\"none\" points=\"271,-189.5 329,-189.5 \" stroke=\"#000000\"/>\n<text fill=\"#000000\" font-family=\"Times,serif\" font-size=\"14.00\" text-anchor=\"middle\" x=\"300\" y=\"-174.3\">output:</text>\n<polyline fill=\"none\" points=\"329,-166.5 329,-212.5 \" stroke=\"#000000\"/>\n<text fill=\"#000000\" font-family=\"Times,serif\" font-size=\"14.00\" text-anchor=\"middle\" x=\"372.5\" y=\"-197.3\">(None, 800)</text>\n<polyline fill=\"none\" points=\"329,-189.5 416,-189.5 \" stroke=\"#000000\"/>\n<text fill=\"#000000\" font-family=\"Times,serif\" font-size=\"14.00\" text-anchor=\"middle\" x=\"372.5\" y=\"-174.3\">(None, 800)</text>\n</g>\n<!-- 140705644199608&#45;&gt;140705644245736 -->\n<g class=\"edge\" id=\"edge29\">\n<title>140705644199608-&gt;140705644245736</title>\n<path d=\"M208,-249.3799C208,-241.1745 208,-231.7679 208,-222.8786\" fill=\"none\" stroke=\"#000000\"/>\n<polygon fill=\"#000000\" points=\"211.5001,-222.784 208,-212.784 204.5001,-222.784 211.5001,-222.784\" stroke=\"#000000\"/>\n</g>\n<!-- 140705644247024 -->\n<g class=\"node\" id=\"node31\">\n<title>140705644247024</title>\n<polygon fill=\"none\" points=\"58.5,-83.5 58.5,-129.5 357.5,-129.5 357.5,-83.5 58.5,-83.5\" stroke=\"#000000\"/>\n<text fill=\"#000000\" font-family=\"Times,serif\" font-size=\"14.00\" text-anchor=\"middle\" x=\"135.5\" y=\"-102.8\">activation_6: Activation</text>\n<polyline fill=\"none\" points=\"212.5,-83.5 212.5,-129.5 \" stroke=\"#000000\"/>\n<text fill=\"#000000\" font-family=\"Times,serif\" font-size=\"14.00\" text-anchor=\"middle\" x=\"241.5\" y=\"-114.3\">input:</text>\n<polyline fill=\"none\" points=\"212.5,-106.5 270.5,-106.5 \" stroke=\"#000000\"/>\n<text fill=\"#000000\" font-family=\"Times,serif\" font-size=\"14.00\" text-anchor=\"middle\" x=\"241.5\" y=\"-91.3\">output:</text>\n<polyline fill=\"none\" points=\"270.5,-83.5 270.5,-129.5 \" stroke=\"#000000\"/>\n<text fill=\"#000000\" font-family=\"Times,serif\" font-size=\"14.00\" text-anchor=\"middle\" x=\"314\" y=\"-114.3\">(None, 800)</text>\n<polyline fill=\"none\" points=\"270.5,-106.5 357.5,-106.5 \" stroke=\"#000000\"/>\n<text fill=\"#000000\" font-family=\"Times,serif\" font-size=\"14.00\" text-anchor=\"middle\" x=\"314\" y=\"-91.3\">(None, 800)</text>\n</g>\n<!-- 140705644245736&#45;&gt;140705644247024 -->\n<g class=\"edge\" id=\"edge30\">\n<title>140705644245736-&gt;140705644247024</title>\n<path d=\"M208,-166.3799C208,-158.1745 208,-148.7679 208,-139.8786\" fill=\"none\" stroke=\"#000000\"/>\n<polygon fill=\"#000000\" points=\"211.5001,-139.784 208,-129.784 204.5001,-139.784 211.5001,-139.784\" stroke=\"#000000\"/>\n</g>\n<!-- 140705644272048 -->\n<g class=\"node\" id=\"node32\">\n<title>140705644272048</title>\n<polygon fill=\"none\" points=\"78.5,-.5 78.5,-46.5 337.5,-46.5 337.5,-.5 78.5,-.5\" stroke=\"#000000\"/>\n<text fill=\"#000000\" font-family=\"Times,serif\" font-size=\"14.00\" text-anchor=\"middle\" x=\"135.5\" y=\"-19.8\">dense_19: Dense</text>\n<polyline fill=\"none\" points=\"192.5,-.5 192.5,-46.5 \" stroke=\"#000000\"/>\n<text fill=\"#000000\" font-family=\"Times,serif\" font-size=\"14.00\" text-anchor=\"middle\" x=\"221.5\" y=\"-31.3\">input:</text>\n<polyline fill=\"none\" points=\"192.5,-23.5 250.5,-23.5 \" stroke=\"#000000\"/>\n<text fill=\"#000000\" font-family=\"Times,serif\" font-size=\"14.00\" text-anchor=\"middle\" x=\"221.5\" y=\"-8.3\">output:</text>\n<polyline fill=\"none\" points=\"250.5,-.5 250.5,-46.5 \" stroke=\"#000000\"/>\n<text fill=\"#000000\" font-family=\"Times,serif\" font-size=\"14.00\" text-anchor=\"middle\" x=\"294\" y=\"-31.3\">(None, 800)</text>\n<polyline fill=\"none\" points=\"250.5,-23.5 337.5,-23.5 \" stroke=\"#000000\"/>\n<text fill=\"#000000\" font-family=\"Times,serif\" font-size=\"14.00\" text-anchor=\"middle\" x=\"294\" y=\"-8.3\">(None, 4)</text>\n</g>\n<!-- 140705644247024&#45;&gt;140705644272048 -->\n<g class=\"edge\" id=\"edge31\">\n<title>140705644247024-&gt;140705644272048</title>\n<path d=\"M208,-83.3799C208,-75.1745 208,-65.7679 208,-56.8786\" fill=\"none\" stroke=\"#000000\"/>\n<polygon fill=\"#000000\" points=\"211.5001,-56.784 208,-46.784 204.5001,-56.784 211.5001,-56.784\" stroke=\"#000000\"/>\n</g>\n</g>\n</svg>"
          },
          "metadata": {
            "tags": []
          },
          "execution_count": 11
        }
      ]
    },
    {
      "cell_type": "code",
      "metadata": {
        "id": "PtD82zROogDP",
        "colab_type": "code",
        "outputId": "42834e9e-e5f1-4731-ae0d-791962bc9f22",
        "colab": {
          "base_uri": "https://localhost:8080/",
          "height": 280
        }
      },
      "source": [
        "# 학습 과정\n",
        "\n",
        "%matplotlib inline\n",
        "import matplotlib.pyplot as plt\n",
        "\n",
        "fig, loss_ax = plt.subplots()\n",
        "\n",
        "acc_ax = loss_ax.twinx()\n",
        "\n",
        "loss_ax.plot(hist.history['loss'], 'y', label='train loss')\n",
        "loss_ax.plot(hist.history['val_loss'], 'r', label='val loss')\n",
        "\n",
        "acc_ax.plot(hist.history['acc'], 'b', label='train acc')\n",
        "acc_ax.plot(hist.history['val_acc'], 'g', label='val acc')\n",
        "\n",
        "loss_ax.set_xlabel('epoch')\n",
        "loss_ax.set_ylabel('loss')\n",
        "acc_ax.set_ylabel('mean absolute error')\n",
        "\n",
        "loss_ax.legend(loc='upper left')\n",
        "acc_ax.legend(loc='lower left')\n",
        "\n",
        "plt.show()"
      ],
      "execution_count": 0,
      "outputs": [
        {
          "output_type": "display_data",
          "data": {
            "image/png": "[encoded data removed]",
            "text/plain": [
              "<Figure size 432x288 with 2 Axes>"
            ]
          },
          "metadata": {
            "tags": []
          }
        }
      ]
    },
    {
      "cell_type": "code",
      "metadata": {
        "id": "XRMuL2mFogIP",
        "colab_type": "code",
        "colab": {}
      },
      "source": [
        "# 예측값을 생성합니다.\n",
        "\n",
        "pred_test = model.predict(test_X)"
      ],
      "execution_count": 0,
      "outputs": []
    },
    {
      "cell_type": "code",
      "metadata": {
        "id": "uv6yp_Hzoq4Q",
        "colab_type": "code",
        "colab": {}
      },
      "source": [
        "# submission 파일을 생성합니다.\n",
        "sample_sub = pd.read_csv('/gdrive/My Drive/DACON-semiconductor-competition/dataset/sample_submission.csv', index_col=0)\n",
        "submission = sample_sub+pred_test\n",
        "submission.to_csv('/gdrive/My Drive/DACON-semiconductor-competition/submission_15.csv')"
      ],
      "execution_count": 0,
      "outputs": []
    },
    {
      "cell_type": "code",
      "metadata": {
        "id": "Jz6dWCiWpE-K",
        "colab_type": "code",
        "colab": {}
      },
      "source": [
        "# 학습된 모델을 저장합니다.\n",
        "\n",
        "model.save('/gdrive/My Drive/DACON-semiconductor-competition/model_15.h5')"
      ],
      "execution_count": 0,
      "outputs": []
    },
    {
      "cell_type": "markdown",
      "metadata": {
        "id": "L3IaqhJqmV_5",
        "colab_type": "text"
      },
      "source": [
        "### Bayesian Optimization\n",
        "http://research.sualab.com/introduction/practice/2019/02/19/bayesian-optimization-overview-1.html<br>\n",
        "http://research.sualab.com/introduction/practice/2019/04/01/bayesian-optimization-overview-2.html<br>"
      ]
    },
    {
      "cell_type": "markdown",
      "metadata": {
        "id": "RNwDuaRWmWg4",
        "colab_type": "text"
      },
      "source": [
        "### Swish Activation\n",
        "https://www.machinecurve.com/index.php/2019/05/30/why-swish-could-perform-better-than-relu/#todays-activation-functions"
      ]
    }
  ]
}