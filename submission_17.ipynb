{
  "nbformat": 4,
  "nbformat_minor": 0,
  "metadata": {
    "colab": {
      "name": "submission_17.ipynb",
      "provenance": [],
      "collapsed_sections": [],
      "authorship_tag": "ABX9TyN4d/h7r5jrOAnCgmV52ItP",
      "include_colab_link": true
    },
    "kernelspec": {
      "name": "python3",
      "display_name": "Python 3"
    },
    "accelerator": "GPU"
  },
  "cells": [
    {
      "cell_type": "markdown",
      "metadata": {
        "id": "view-in-github",
        "colab_type": "text"
      },
      "source": [
        "<a href=\"https://colab.research.google.com/github/Inha-AI/DACON-semiconductor-competition/blob/feature%2FYoonSungLee/submission_17.ipynb\" target=\"_parent\"><img src=\"https://colab.research.google.com/assets/colab-badge.svg\" alt=\"Open In Colab\"/></a>"
      ]
    },
    {
      "cell_type": "code",
      "metadata": {
        "id": "NBPfb1Jhq4TA",
        "colab_type": "code",
        "outputId": "9303f8d4-facf-4363-a992-e7927842222d",
        "colab": {
          "base_uri": "https://localhost:8080/",
          "height": 260
        }
      },
      "source": [
        "pip install bayesian-optimization"
      ],
      "execution_count": 0,
      "outputs": [
        {
          "output_type": "stream",
          "text": [
            "Collecting bayesian-optimization\n",
            "  Downloading https://files.pythonhosted.org/packages/72/0c/173ac467d0a53e33e41b521e4ceba74a8ac7c7873d7b857a8fbdca88302d/bayesian-optimization-1.0.1.tar.gz\n",
            "Requirement already satisfied: numpy>=1.9.0 in /usr/local/lib/python3.6/dist-packages (from bayesian-optimization) (1.17.5)\n",
            "Requirement already satisfied: scipy>=0.14.0 in /usr/local/lib/python3.6/dist-packages (from bayesian-optimization) (1.4.1)\n",
            "Requirement already satisfied: scikit-learn>=0.18.0 in /usr/local/lib/python3.6/dist-packages (from bayesian-optimization) (0.22.1)\n",
            "Requirement already satisfied: joblib>=0.11 in /usr/local/lib/python3.6/dist-packages (from scikit-learn>=0.18.0->bayesian-optimization) (0.14.1)\n",
            "Building wheels for collected packages: bayesian-optimization\n",
            "  Building wheel for bayesian-optimization (setup.py) ... \u001b[?25l\u001b[?25hdone\n",
            "  Created wheel for bayesian-optimization: filename=bayesian_optimization-1.0.1-cp36-none-any.whl size=10032 sha256=cbce29cef1bd17d21572d3c3502a7fba01c86768d01814272130ac2bc2402895\n",
            "  Stored in directory: /root/.cache/pip/wheels/1d/0d/3b/6b9d4477a34b3905f246ff4e7acf6aafd4cc9b77d473629b77\n",
            "Successfully built bayesian-optimization\n",
            "Installing collected packages: bayesian-optimization\n",
            "Successfully installed bayesian-optimization-1.0.1\n"
          ],
          "name": "stdout"
        }
      ]
    },
    {
      "cell_type": "code",
      "metadata": {
        "id": "0vVeUdyssBKw",
        "colab_type": "code",
        "outputId": "49fb2777-96b7-4c3c-9041-387095fbe2ec",
        "colab": {
          "base_uri": "https://localhost:8080/",
          "height": 84
        }
      },
      "source": [
        "import numpy as np\n",
        "import pandas as pd\n",
        "import matplotlib.pyplot as plt\n",
        "import keras\n",
        "from keras.models import Sequential\n",
        "from keras.layers import Dense, Activation, Dropout\n",
        "from keras.layers import BatchNormalization\n",
        "from sklearn.model_selection import train_test_split\n",
        "from bayes_opt import BayesianOptimization"
      ],
      "execution_count": 0,
      "outputs": [
        {
          "output_type": "stream",
          "text": [
            "Using TensorFlow backend.\n"
          ],
          "name": "stderr"
        },
        {
          "output_type": "display_data",
          "data": {
            "text/html": [
              "<p style=\"color: red;\">\n",
              "The default version of TensorFlow in Colab will soon switch to TensorFlow 2.x.<br>\n",
              "We recommend you <a href=\"https://www.tensorflow.org/guide/migrate\" target=\"_blank\">upgrade</a> now \n",
              "or ensure your notebook will continue to use TensorFlow 1.x via the <code>%tensorflow_version 1.x</code> magic:\n",
              "<a href=\"https://colab.research.google.com/notebooks/tensorflow_version.ipynb\" target=\"_blank\">more info</a>.</p>\n"
            ],
            "text/plain": [
              "<IPython.core.display.HTML object>"
            ]
          },
          "metadata": {
            "tags": []
          }
        }
      ]
    },
    {
      "cell_type": "code",
      "metadata": {
        "id": "EwHXDEigsNB0",
        "colab_type": "code",
        "outputId": "b96fffc3-210d-4b1b-812a-f8edd8bd2f59",
        "colab": {
          "base_uri": "https://localhost:8080/",
          "height": 131
        }
      },
      "source": [
        "from google.colab import drive\n",
        "drive.mount('/gdrive')"
      ],
      "execution_count": 0,
      "outputs": [
        {
          "output_type": "stream",
          "text": [
            "Go to this URL in a browser: https://accounts.google.com/o/oauth2/auth?client_id=947318989803-6bn6qk8qdgf4n4g3pfee6491hc0brc4i.apps.googleusercontent.com&redirect_uri=urn%3aietf%3awg%3aoauth%3a2.0%3aoob&response_type=code&scope=email%20https%3a%2f%2fwww.googleapis.com%2fauth%2fdocs.test%20https%3a%2f%2fwww.googleapis.com%2fauth%2fdrive%20https%3a%2f%2fwww.googleapis.com%2fauth%2fdrive.photos.readonly%20https%3a%2f%2fwww.googleapis.com%2fauth%2fpeopleapi.readonly\n",
            "\n",
            "Enter your authorization code:\n",
            "··········\n",
            "Mounted at /gdrive\n"
          ],
          "name": "stdout"
        }
      ]
    },
    {
      "cell_type": "code",
      "metadata": {
        "id": "hQF6BGGF1DqH",
        "colab_type": "code",
        "colab": {}
      },
      "source": [
        "# 데이터 자료형을 적절히 변형시켜 데이터의 크기를 줄이는 방법\n",
        "\n",
        "# for col in df_train.columns:\n",
        "#     col_type = df_train[col].dtypes\n",
        "#     min1 = df_train[col].min()\n",
        "#     max1 = df_train[col].max()\n",
        "#     if str(col_type)[:3] == 'int':\n",
        "#         df_train[col] = df_train[col].astype(np.int16)\n",
        "#     else:\n",
        "#         if min1 > np.finfo(np.float16).min and max1 < np.finfo(np.float16).max:\n",
        "#             df_train[col] = trdf_trainain[col].astype(np.float16)\n",
        "#         elif min1 > np.finfo(np.float32).min and max1 < np.finfo(np.float32).max:\n",
        "#             df_train[col] = df_train[col].astype(np.float32)\n",
        "#         else:\n",
        "#             df_train[col] = df_train[col].astype(np.float64)"
      ],
      "execution_count": 0,
      "outputs": []
    },
    {
      "cell_type": "code",
      "metadata": {
        "id": "-BNXAU5rsPJS",
        "colab_type": "code",
        "colab": {}
      },
      "source": [
        "df_train = pd.read_csv('/gdrive/My Drive/DACON-semiconductor-competition/dataset/train.csv')\n",
        "df_test = pd.read_csv('/gdrive/My Drive/DACON-semiconductor-competition/dataset/test.csv')"
      ],
      "execution_count": 0,
      "outputs": []
    },
    {
      "cell_type": "code",
      "metadata": {
        "id": "TdYXclfgsVr6",
        "colab_type": "code",
        "colab": {}
      },
      "source": [
        "# 독립변수와 종속변수를 분리합니다.\n",
        "\n",
        "train_X = df_train.iloc[:,4:]\n",
        "train_Y = df_train.iloc[:,0:4]\n",
        "test_X = df_test.iloc[:,1:]"
      ],
      "execution_count": 0,
      "outputs": []
    },
    {
      "cell_type": "code",
      "metadata": {
        "id": "Ogdcz8YctuVW",
        "colab_type": "code",
        "colab": {}
      },
      "source": [
        "# train set을 shuffle하여 다시 train set과 validation set으로 분리합니다.\n",
        "\n",
        "train_X, val_X, train_Y, val_Y = train_test_split(train_X, train_Y, test_size=0.25)"
      ],
      "execution_count": 0,
      "outputs": []
    },
    {
      "cell_type": "markdown",
      "metadata": {
        "id": "8tT4w6XasaSQ",
        "colab_type": "text"
      },
      "source": [
        "# Model 17"
      ]
    },
    {
      "cell_type": "markdown",
      "metadata": {
        "id": "4PSSfoS5sfWK",
        "colab_type": "text"
      },
      "source": [
        "* 17 layers\n",
        "* 800 units, he_normal, swish\n",
        "* BatchNormalization\n",
        "* Adam(0.001)\n",
        "* epochs 200\n",
        "* batch_size 630\n",
        "<br><br>\n",
        "* [layer] - [layer] - [BatchNormalization] 층을 더더욱 깊게 모델링"
      ]
    },
    {
      "cell_type": "code",
      "metadata": {
        "id": "SGEkxH551LkF",
        "colab_type": "code",
        "colab": {}
      },
      "source": [
        "# 케라스를 통해 모델 생성을 시작합니다.\n",
        "\n",
        "def create_model():\n",
        "    model = Sequential()\n",
        "    model.add(Dense(units=800, input_dim=226, kernel_initializer='he_normal'))\n",
        "    model.add(Dense(units=800, kernel_initializer='he_normal'))\n",
        "    model.add(BatchNormalization())\n",
        "    model.add(Activation(swish))\n",
        "    model.add(Dense(units=800, kernel_initializer='he_normal'))\n",
        "    model.add(Dense(units=800, kernel_initializer='he_normal'))\n",
        "    model.add(BatchNormalization())\n",
        "    model.add(Activation(swish))\n",
        "    model.add(Dense(units=800, kernel_initializer='he_normal'))\n",
        "    model.add(Dense(units=800, kernel_initializer='he_normal'))\n",
        "    model.add(BatchNormalization())\n",
        "    model.add(Activation(swish))\n",
        "    model.add(Dense(units=800, kernel_initializer='he_normal'))\n",
        "    model.add(Dense(units=800, kernel_initializer='he_normal'))\n",
        "    model.add(BatchNormalization())\n",
        "    model.add(Activation(swish))\n",
        "    model.add(Dense(units=800, kernel_initializer='he_normal'))\n",
        "    model.add(Dense(units=800, kernel_initializer='he_normal'))\n",
        "    model.add(BatchNormalization())\n",
        "    model.add(Activation(swish))\n",
        "    model.add(Dense(units=800, kernel_initializer='he_normal'))\n",
        "    model.add(Dense(units=800, kernel_initializer='he_normal'))\n",
        "    model.add(BatchNormalization())\n",
        "    model.add(Activation(swish))\n",
        "    model.add(Dense(units=800, kernel_initializer='he_normal'))\n",
        "    model.add(Dense(units=800, kernel_initializer='he_normal'))\n",
        "    model.add(BatchNormalization())\n",
        "    model.add(Activation(swish))\n",
        "    model.add(Dense(units=800, kernel_initializer='he_normal'))\n",
        "    model.add(Dense(units=800, kernel_initializer='he_normal'))\n",
        "    model.add(BatchNormalization())\n",
        "    model.add(Activation(swish))\n",
        "    model.add(Dense(units=4, activation='linear'))\n",
        "\n",
        "    return model\n",
        "\n",
        "\n",
        "# Activation Function 정의\n",
        "\n",
        "def swish(x) :\n",
        "    return x * keras.activations.sigmoid(x)"
      ],
      "execution_count": 0,
      "outputs": []
    },
    {
      "cell_type": "code",
      "metadata": {
        "id": "35DQBYFkofR6",
        "colab_type": "code",
        "outputId": "f3632928-7b5e-48e9-a577-7e1882c21d54",
        "colab": {
          "base_uri": "https://localhost:8080/",
          "height": 204
        }
      },
      "source": [
        "model = create_model()"
      ],
      "execution_count": 0,
      "outputs": [
        {
          "output_type": "stream",
          "text": [
            "WARNING:tensorflow:From /usr/local/lib/python3.6/dist-packages/keras/backend/tensorflow_backend.py:66: The name tf.get_default_graph is deprecated. Please use tf.compat.v1.get_default_graph instead.\n",
            "\n",
            "WARNING:tensorflow:From /usr/local/lib/python3.6/dist-packages/keras/backend/tensorflow_backend.py:541: The name tf.placeholder is deprecated. Please use tf.compat.v1.placeholder instead.\n",
            "\n",
            "WARNING:tensorflow:From /usr/local/lib/python3.6/dist-packages/keras/backend/tensorflow_backend.py:4479: The name tf.truncated_normal is deprecated. Please use tf.random.truncated_normal instead.\n",
            "\n",
            "WARNING:tensorflow:From /usr/local/lib/python3.6/dist-packages/keras/backend/tensorflow_backend.py:148: The name tf.placeholder_with_default is deprecated. Please use tf.compat.v1.placeholder_with_default instead.\n",
            "\n",
            "WARNING:tensorflow:From /usr/local/lib/python3.6/dist-packages/keras/backend/tensorflow_backend.py:4432: The name tf.random_uniform is deprecated. Please use tf.random.uniform instead.\n",
            "\n"
          ],
          "name": "stdout"
        }
      ]
    },
    {
      "cell_type": "code",
      "metadata": {
        "id": "6LHJR2uYXaZj",
        "colab_type": "code",
        "outputId": "5c62de38-873c-4c5b-bd5f-c6aa88a63a70",
        "colab": {
          "base_uri": "https://localhost:8080/",
          "height": 55
        }
      },
      "source": [
        "adam = keras.optimizers.Adam(0.001)\n",
        "model.compile(loss='mae', optimizer=adam, metrics=['accuracy'])"
      ],
      "execution_count": 0,
      "outputs": [
        {
          "output_type": "stream",
          "text": [
            "WARNING:tensorflow:From /usr/local/lib/python3.6/dist-packages/keras/optimizers.py:793: The name tf.train.Optimizer is deprecated. Please use tf.compat.v1.train.Optimizer instead.\n",
            "\n"
          ],
          "name": "stdout"
        }
      ]
    },
    {
      "cell_type": "code",
      "metadata": {
        "id": "KbIkmXylXaiq",
        "colab_type": "code",
        "outputId": "933abbc0-4d8d-45a9-8af1-e0cd3c744bce",
        "colab": {
          "base_uri": "https://localhost:8080/",
          "height": 1000
        }
      },
      "source": [
        "hist = model.fit(train_X, train_Y, epochs=200, batch_size=630,\n",
        "                    validation_data=(val_X, val_Y))"
      ],
      "execution_count": 0,
      "outputs": [
        {
          "output_type": "stream",
          "text": [
            "WARNING:tensorflow:From /usr/local/lib/python3.6/dist-packages/keras/backend/tensorflow_backend.py:1033: The name tf.assign_add is deprecated. Please use tf.compat.v1.assign_add instead.\n",
            "\n",
            "WARNING:tensorflow:From /usr/local/lib/python3.6/dist-packages/keras/backend/tensorflow_backend.py:1020: The name tf.assign is deprecated. Please use tf.compat.v1.assign instead.\n",
            "\n",
            "WARNING:tensorflow:From /usr/local/lib/python3.6/dist-packages/keras/backend/tensorflow_backend.py:3005: The name tf.Session is deprecated. Please use tf.compat.v1.Session instead.\n",
            "\n",
            "Train on 607500 samples, validate on 202500 samples\n",
            "Epoch 1/200\n",
            "WARNING:tensorflow:From /usr/local/lib/python3.6/dist-packages/keras/backend/tensorflow_backend.py:190: The name tf.get_default_session is deprecated. Please use tf.compat.v1.get_default_session instead.\n",
            "\n",
            "WARNING:tensorflow:From /usr/local/lib/python3.6/dist-packages/keras/backend/tensorflow_backend.py:197: The name tf.ConfigProto is deprecated. Please use tf.compat.v1.ConfigProto instead.\n",
            "\n",
            "WARNING:tensorflow:From /usr/local/lib/python3.6/dist-packages/keras/backend/tensorflow_backend.py:207: The name tf.global_variables is deprecated. Please use tf.compat.v1.global_variables instead.\n",
            "\n",
            "WARNING:tensorflow:From /usr/local/lib/python3.6/dist-packages/keras/backend/tensorflow_backend.py:216: The name tf.is_variable_initialized is deprecated. Please use tf.compat.v1.is_variable_initialized instead.\n",
            "\n",
            "WARNING:tensorflow:From /usr/local/lib/python3.6/dist-packages/keras/backend/tensorflow_backend.py:223: The name tf.variables_initializer is deprecated. Please use tf.compat.v1.variables_initializer instead.\n",
            "\n",
            "607500/607500 [==============================] - 43s 71us/step - loss: 69.9810 - acc: 0.3246 - val_loss: 53.4786 - val_acc: 0.3845\n",
            "Epoch 2/200\n",
            "607500/607500 [==============================] - 31s 52us/step - loss: 39.4682 - acc: 0.5544 - val_loss: 44.5137 - val_acc: 0.5722\n",
            "Epoch 3/200\n",
            "607500/607500 [==============================] - 32s 52us/step - loss: 22.8532 - acc: 0.7669 - val_loss: 27.5472 - val_acc: 0.7183\n",
            "Epoch 4/200\n",
            "607500/607500 [==============================] - 31s 52us/step - loss: 16.8386 - acc: 0.8234 - val_loss: 17.0797 - val_acc: 0.8129\n",
            "Epoch 5/200\n",
            "607500/607500 [==============================] - 32s 52us/step - loss: 13.0046 - acc: 0.8604 - val_loss: 13.1123 - val_acc: 0.8558\n",
            "Epoch 6/200\n",
            "607500/607500 [==============================] - 32s 52us/step - loss: 10.6384 - acc: 0.8849 - val_loss: 11.6878 - val_acc: 0.8816\n",
            "Epoch 7/200\n",
            "607500/607500 [==============================] - 32s 52us/step - loss: 9.1420 - acc: 0.9011 - val_loss: 9.0964 - val_acc: 0.9007\n",
            "Epoch 8/200\n",
            "607500/607500 [==============================] - 32s 53us/step - loss: 8.2217 - acc: 0.9105 - val_loss: 8.0693 - val_acc: 0.9098\n",
            "Epoch 9/200\n",
            "607500/607500 [==============================] - 32s 52us/step - loss: 7.4832 - acc: 0.9174 - val_loss: 7.7082 - val_acc: 0.9049\n",
            "Epoch 10/200\n",
            "607500/607500 [==============================] - 31s 52us/step - loss: 6.9946 - acc: 0.9225 - val_loss: 6.8269 - val_acc: 0.9143\n",
            "Epoch 11/200\n",
            "607500/607500 [==============================] - 32s 52us/step - loss: 6.6039 - acc: 0.9268 - val_loss: 6.7379 - val_acc: 0.9208\n",
            "Epoch 12/200\n",
            "607500/607500 [==============================] - 31s 52us/step - loss: 6.2491 - acc: 0.9297 - val_loss: 7.8704 - val_acc: 0.9194\n",
            "Epoch 13/200\n",
            "607500/607500 [==============================] - 31s 52us/step - loss: 5.9816 - acc: 0.9326 - val_loss: 5.7250 - val_acc: 0.9311\n",
            "Epoch 14/200\n",
            "607500/607500 [==============================] - 31s 52us/step - loss: 5.7570 - acc: 0.9343 - val_loss: 6.3190 - val_acc: 0.9339\n",
            "Epoch 15/200\n",
            "607500/607500 [==============================] - 31s 51us/step - loss: 5.5052 - acc: 0.9372 - val_loss: 4.9064 - val_acc: 0.9428\n",
            "Epoch 16/200\n",
            "607500/607500 [==============================] - 31s 52us/step - loss: 5.2939 - acc: 0.9395 - val_loss: 6.3398 - val_acc: 0.9342\n",
            "Epoch 17/200\n",
            "607500/607500 [==============================] - 31s 52us/step - loss: 5.1055 - acc: 0.9401 - val_loss: 4.4290 - val_acc: 0.9462\n",
            "Epoch 18/200\n",
            "607500/607500 [==============================] - 31s 52us/step - loss: 4.9453 - acc: 0.9421 - val_loss: 4.4134 - val_acc: 0.9364\n",
            "Epoch 19/200\n",
            "607500/607500 [==============================] - 31s 51us/step - loss: 4.8803 - acc: 0.9422 - val_loss: 4.9199 - val_acc: 0.9389\n",
            "Epoch 20/200\n",
            "607500/607500 [==============================] - 31s 51us/step - loss: 4.6975 - acc: 0.9442 - val_loss: 4.9020 - val_acc: 0.9470\n",
            "Epoch 21/200\n",
            "607500/607500 [==============================] - 31s 51us/step - loss: 4.5909 - acc: 0.9456 - val_loss: 4.7141 - val_acc: 0.9494\n",
            "Epoch 22/200\n",
            "607500/607500 [==============================] - 31s 51us/step - loss: 4.4194 - acc: 0.9467 - val_loss: 4.1668 - val_acc: 0.9500\n",
            "Epoch 23/200\n",
            "607500/607500 [==============================] - 31s 51us/step - loss: 4.3692 - acc: 0.9473 - val_loss: 4.1664 - val_acc: 0.9542\n",
            "Epoch 24/200\n",
            "607500/607500 [==============================] - 31s 51us/step - loss: 4.2006 - acc: 0.9480 - val_loss: 3.6207 - val_acc: 0.9509\n",
            "Epoch 25/200\n",
            "607500/607500 [==============================] - 31s 51us/step - loss: 4.1725 - acc: 0.9484 - val_loss: 3.4997 - val_acc: 0.9599\n",
            "Epoch 26/200\n",
            "607500/607500 [==============================] - 31s 51us/step - loss: 4.0214 - acc: 0.9500 - val_loss: 3.9635 - val_acc: 0.9462\n",
            "Epoch 27/200\n",
            "607500/607500 [==============================] - 31s 51us/step - loss: 3.9238 - acc: 0.9510 - val_loss: 3.6532 - val_acc: 0.9481\n",
            "Epoch 28/200\n",
            "607500/607500 [==============================] - 31s 51us/step - loss: 3.8208 - acc: 0.9517 - val_loss: 3.9337 - val_acc: 0.9482\n",
            "Epoch 29/200\n",
            "607500/607500 [==============================] - 31s 51us/step - loss: 3.8042 - acc: 0.9518 - val_loss: 3.5067 - val_acc: 0.9491\n",
            "Epoch 30/200\n",
            "607500/607500 [==============================] - 31s 51us/step - loss: 3.6267 - acc: 0.9533 - val_loss: 3.5216 - val_acc: 0.9523\n",
            "Epoch 31/200\n",
            "607500/607500 [==============================] - 31s 51us/step - loss: 3.5435 - acc: 0.9539 - val_loss: 3.6794 - val_acc: 0.9538\n",
            "Epoch 32/200\n",
            "607500/607500 [==============================] - 31s 51us/step - loss: 3.5067 - acc: 0.9543 - val_loss: 3.1517 - val_acc: 0.9610\n",
            "Epoch 33/200\n",
            "607500/607500 [==============================] - 31s 50us/step - loss: 3.3956 - acc: 0.9552 - val_loss: 3.1382 - val_acc: 0.9563\n",
            "Epoch 34/200\n",
            "607500/607500 [==============================] - 31s 51us/step - loss: 3.3276 - acc: 0.9556 - val_loss: 3.0804 - val_acc: 0.9618\n",
            "Epoch 35/200\n",
            "607500/607500 [==============================] - 31s 51us/step - loss: 3.2227 - acc: 0.9567 - val_loss: 3.1019 - val_acc: 0.9564\n",
            "Epoch 36/200\n",
            "607500/607500 [==============================] - 31s 51us/step - loss: 3.1802 - acc: 0.9569 - val_loss: 3.4828 - val_acc: 0.9548\n",
            "Epoch 37/200\n",
            "607500/607500 [==============================] - 31s 51us/step - loss: 3.1106 - acc: 0.9575 - val_loss: 3.0102 - val_acc: 0.9599\n",
            "Epoch 38/200\n",
            "607500/607500 [==============================] - 31s 51us/step - loss: 3.0349 - acc: 0.9576 - val_loss: 2.8722 - val_acc: 0.9559\n",
            "Epoch 39/200\n",
            "607500/607500 [==============================] - 31s 51us/step - loss: 2.9443 - acc: 0.9585 - val_loss: 3.0170 - val_acc: 0.9548\n",
            "Epoch 40/200\n",
            "607500/607500 [==============================] - 31s 51us/step - loss: 2.9047 - acc: 0.9585 - val_loss: 3.0034 - val_acc: 0.9606\n",
            "Epoch 41/200\n",
            "607500/607500 [==============================] - 31s 51us/step - loss: 2.8472 - acc: 0.9591 - val_loss: 2.4196 - val_acc: 0.9608\n",
            "Epoch 42/200\n",
            "607500/607500 [==============================] - 31s 51us/step - loss: 2.7762 - acc: 0.9598 - val_loss: 2.9005 - val_acc: 0.9547\n",
            "Epoch 43/200\n",
            "607500/607500 [==============================] - 31s 51us/step - loss: 2.7134 - acc: 0.9600 - val_loss: 2.6049 - val_acc: 0.9543\n",
            "Epoch 44/200\n",
            "607500/607500 [==============================] - 31s 51us/step - loss: 2.7068 - acc: 0.9599 - val_loss: 2.7443 - val_acc: 0.9642\n",
            "Epoch 45/200\n",
            "607500/607500 [==============================] - 31s 51us/step - loss: 2.6245 - acc: 0.9606 - val_loss: 2.5375 - val_acc: 0.9682\n",
            "Epoch 46/200\n",
            "607500/607500 [==============================] - 31s 50us/step - loss: 2.5972 - acc: 0.9609 - val_loss: 2.5961 - val_acc: 0.9594\n",
            "Epoch 47/200\n",
            "607500/607500 [==============================] - 31s 51us/step - loss: 2.5321 - acc: 0.9611 - val_loss: 2.8582 - val_acc: 0.9534\n",
            "Epoch 48/200\n",
            "607500/607500 [==============================] - 31s 51us/step - loss: 2.5002 - acc: 0.9613 - val_loss: 2.3039 - val_acc: 0.9658\n",
            "Epoch 49/200\n",
            "607500/607500 [==============================] - 31s 51us/step - loss: 2.4760 - acc: 0.9613 - val_loss: 2.5718 - val_acc: 0.9564\n",
            "Epoch 50/200\n",
            "607500/607500 [==============================] - 30s 50us/step - loss: 2.4043 - acc: 0.9617 - val_loss: 2.4085 - val_acc: 0.9624\n",
            "Epoch 51/200\n",
            "607500/607500 [==============================] - 31s 51us/step - loss: 2.3956 - acc: 0.9619 - val_loss: 2.3424 - val_acc: 0.9654\n",
            "Epoch 52/200\n",
            "607500/607500 [==============================] - 31s 50us/step - loss: 2.3675 - acc: 0.9619 - val_loss: 2.6811 - val_acc: 0.9576\n",
            "Epoch 53/200\n",
            "607500/607500 [==============================] - 31s 51us/step - loss: 2.3630 - acc: 0.9620 - val_loss: 2.2359 - val_acc: 0.9642\n",
            "Epoch 54/200\n",
            "607500/607500 [==============================] - 30s 50us/step - loss: 2.2910 - acc: 0.9622 - val_loss: 2.2779 - val_acc: 0.9631\n",
            "Epoch 55/200\n",
            "607500/607500 [==============================] - 31s 51us/step - loss: 2.2736 - acc: 0.9625 - val_loss: 2.4547 - val_acc: 0.9565\n",
            "Epoch 56/200\n",
            "607500/607500 [==============================] - 30s 50us/step - loss: 2.2593 - acc: 0.9628 - val_loss: 2.3520 - val_acc: 0.9590\n",
            "Epoch 57/200\n",
            "607500/607500 [==============================] - 31s 50us/step - loss: 2.2397 - acc: 0.9625 - val_loss: 2.4430 - val_acc: 0.9564\n",
            "Epoch 58/200\n",
            "607500/607500 [==============================] - 31s 51us/step - loss: 2.2074 - acc: 0.9627 - val_loss: 2.0289 - val_acc: 0.9627\n",
            "Epoch 59/200\n",
            "607500/607500 [==============================] - 30s 50us/step - loss: 2.1885 - acc: 0.9627 - val_loss: 2.1173 - val_acc: 0.9552\n",
            "Epoch 60/200\n",
            "607500/607500 [==============================] - 30s 50us/step - loss: 2.1530 - acc: 0.9633 - val_loss: 2.2242 - val_acc: 0.9607\n",
            "Epoch 61/200\n",
            "607500/607500 [==============================] - 31s 50us/step - loss: 2.1615 - acc: 0.9628 - val_loss: 2.2437 - val_acc: 0.9586\n",
            "Epoch 62/200\n",
            "607500/607500 [==============================] - 30s 50us/step - loss: 2.1326 - acc: 0.9634 - val_loss: 2.1932 - val_acc: 0.9622\n",
            "Epoch 63/200\n",
            "607500/607500 [==============================] - 31s 50us/step - loss: 2.0971 - acc: 0.9634 - val_loss: 1.7867 - val_acc: 0.9754\n",
            "Epoch 64/200\n",
            "607500/607500 [==============================] - 30s 50us/step - loss: 2.0930 - acc: 0.9632 - val_loss: 1.8172 - val_acc: 0.9564\n",
            "Epoch 65/200\n",
            "607500/607500 [==============================] - 30s 50us/step - loss: 2.0683 - acc: 0.9632 - val_loss: 2.2255 - val_acc: 0.9614\n",
            "Epoch 66/200\n",
            "607500/607500 [==============================] - 30s 50us/step - loss: 2.0501 - acc: 0.9635 - val_loss: 1.8026 - val_acc: 0.9599\n",
            "Epoch 67/200\n",
            "607500/607500 [==============================] - 31s 50us/step - loss: 2.0274 - acc: 0.9633 - val_loss: 2.1319 - val_acc: 0.9626\n",
            "Epoch 68/200\n",
            "607500/607500 [==============================] - 31s 51us/step - loss: 2.0150 - acc: 0.9635 - val_loss: 2.1401 - val_acc: 0.9657\n",
            "Epoch 69/200\n",
            "607500/607500 [==============================] - 30s 50us/step - loss: 1.9932 - acc: 0.9635 - val_loss: 1.9095 - val_acc: 0.9657\n",
            "Epoch 70/200\n",
            "607500/607500 [==============================] - 30s 50us/step - loss: 2.0074 - acc: 0.9636 - val_loss: 2.4006 - val_acc: 0.9562\n",
            "Epoch 71/200\n",
            "607500/607500 [==============================] - 30s 50us/step - loss: 1.9751 - acc: 0.9637 - val_loss: 2.1824 - val_acc: 0.9610\n",
            "Epoch 72/200\n",
            "607500/607500 [==============================] - 30s 50us/step - loss: 1.9709 - acc: 0.9635 - val_loss: 2.0353 - val_acc: 0.9683\n",
            "Epoch 73/200\n",
            "607500/607500 [==============================] - 30s 50us/step - loss: 1.9564 - acc: 0.9636 - val_loss: 2.0711 - val_acc: 0.9502\n",
            "Epoch 74/200\n",
            "607500/607500 [==============================] - 30s 50us/step - loss: 1.9292 - acc: 0.9639 - val_loss: 1.8885 - val_acc: 0.9647\n",
            "Epoch 75/200\n",
            "607500/607500 [==============================] - 30s 50us/step - loss: 1.9074 - acc: 0.9641 - val_loss: 2.0003 - val_acc: 0.9602\n",
            "Epoch 76/200\n",
            "607500/607500 [==============================] - 30s 50us/step - loss: 1.9327 - acc: 0.9637 - val_loss: 2.1387 - val_acc: 0.9588\n",
            "Epoch 77/200\n",
            "607500/607500 [==============================] - 30s 50us/step - loss: 1.9077 - acc: 0.9639 - val_loss: 1.9549 - val_acc: 0.9730\n",
            "Epoch 78/200\n",
            "607500/607500 [==============================] - 31s 51us/step - loss: 1.8618 - acc: 0.9641 - val_loss: 1.6318 - val_acc: 0.9661\n",
            "Epoch 79/200\n",
            "607500/607500 [==============================] - 30s 50us/step - loss: 1.8603 - acc: 0.9640 - val_loss: 2.0324 - val_acc: 0.9568\n",
            "Epoch 80/200\n",
            "607500/607500 [==============================] - 30s 50us/step - loss: 1.8566 - acc: 0.9642 - val_loss: 1.7992 - val_acc: 0.9632\n",
            "Epoch 81/200\n",
            "607500/607500 [==============================] - 30s 50us/step - loss: 1.8710 - acc: 0.9641 - val_loss: 1.7770 - val_acc: 0.9601\n",
            "Epoch 82/200\n",
            "607500/607500 [==============================] - 30s 50us/step - loss: 1.8338 - acc: 0.9644 - val_loss: 1.6913 - val_acc: 0.9613\n",
            "Epoch 83/200\n",
            "607500/607500 [==============================] - 30s 50us/step - loss: 1.8210 - acc: 0.9641 - val_loss: 1.6623 - val_acc: 0.9656\n",
            "Epoch 84/200\n",
            "607500/607500 [==============================] - 30s 50us/step - loss: 1.8055 - acc: 0.9641 - val_loss: 1.7457 - val_acc: 0.9638\n",
            "Epoch 85/200\n",
            "607500/607500 [==============================] - 30s 50us/step - loss: 1.7980 - acc: 0.9641 - val_loss: 1.7381 - val_acc: 0.9637\n",
            "Epoch 86/200\n",
            "607500/607500 [==============================] - 30s 50us/step - loss: 1.7896 - acc: 0.9644 - val_loss: 1.6814 - val_acc: 0.9723\n",
            "Epoch 87/200\n",
            "607500/607500 [==============================] - 30s 50us/step - loss: 1.7726 - acc: 0.9643 - val_loss: 1.7828 - val_acc: 0.9550\n",
            "Epoch 88/200\n",
            "607500/607500 [==============================] - 30s 50us/step - loss: 1.7727 - acc: 0.9643 - val_loss: 1.7918 - val_acc: 0.9610\n",
            "Epoch 89/200\n",
            "607500/607500 [==============================] - 30s 50us/step - loss: 1.7637 - acc: 0.9642 - val_loss: 1.7428 - val_acc: 0.9708\n",
            "Epoch 90/200\n",
            "607500/607500 [==============================] - 30s 50us/step - loss: 1.7547 - acc: 0.9645 - val_loss: 1.9193 - val_acc: 0.9663\n",
            "Epoch 91/200\n",
            "607500/607500 [==============================] - 30s 50us/step - loss: 1.7606 - acc: 0.9646 - val_loss: 1.8208 - val_acc: 0.9657\n",
            "Epoch 92/200\n",
            "607500/607500 [==============================] - 30s 50us/step - loss: 1.7499 - acc: 0.9646 - val_loss: 1.7195 - val_acc: 0.9687\n",
            "Epoch 93/200\n",
            "607500/607500 [==============================] - 30s 49us/step - loss: 1.7144 - acc: 0.9647 - val_loss: 1.6820 - val_acc: 0.9561\n",
            "Epoch 94/200\n",
            "607500/607500 [==============================] - 30s 50us/step - loss: 1.7012 - acc: 0.9647 - val_loss: 2.2367 - val_acc: 0.9628\n",
            "Epoch 95/200\n",
            "607500/607500 [==============================] - 30s 50us/step - loss: 1.6955 - acc: 0.9647 - val_loss: 1.6497 - val_acc: 0.9703\n",
            "Epoch 96/200\n",
            "607500/607500 [==============================] - 30s 50us/step - loss: 1.7109 - acc: 0.9645 - val_loss: 1.6018 - val_acc: 0.9548\n",
            "Epoch 97/200\n",
            "607500/607500 [==============================] - 30s 50us/step - loss: 1.6799 - acc: 0.9648 - val_loss: 1.3856 - val_acc: 0.9634\n",
            "Epoch 98/200\n",
            "607500/607500 [==============================] - 30s 50us/step - loss: 1.6942 - acc: 0.9645 - val_loss: 2.0540 - val_acc: 0.9648\n",
            "Epoch 99/200\n",
            "607500/607500 [==============================] - 31s 51us/step - loss: 1.6665 - acc: 0.9647 - val_loss: 1.9241 - val_acc: 0.9520\n",
            "Epoch 100/200\n",
            "607500/607500 [==============================] - 30s 50us/step - loss: 1.6714 - acc: 0.9649 - val_loss: 1.4274 - val_acc: 0.9671\n",
            "Epoch 101/200\n",
            "607500/607500 [==============================] - 30s 50us/step - loss: 1.6580 - acc: 0.9647 - val_loss: 1.6001 - val_acc: 0.9545\n",
            "Epoch 102/200\n",
            "607500/607500 [==============================] - 30s 50us/step - loss: 1.6737 - acc: 0.9643 - val_loss: 1.5421 - val_acc: 0.9694\n",
            "Epoch 103/200\n",
            "607500/607500 [==============================] - 30s 50us/step - loss: 1.6484 - acc: 0.9652 - val_loss: 1.5837 - val_acc: 0.9654\n",
            "Epoch 104/200\n",
            "607500/607500 [==============================] - 30s 50us/step - loss: 1.6573 - acc: 0.9647 - val_loss: 1.9830 - val_acc: 0.9600\n",
            "Epoch 105/200\n",
            "607500/607500 [==============================] - 30s 50us/step - loss: 1.6343 - acc: 0.9647 - val_loss: 1.4628 - val_acc: 0.9672\n",
            "Epoch 106/200\n",
            "607500/607500 [==============================] - 30s 50us/step - loss: 1.6147 - acc: 0.9647 - val_loss: 1.7228 - val_acc: 0.9704\n",
            "Epoch 107/200\n",
            "607500/607500 [==============================] - 30s 50us/step - loss: 1.6373 - acc: 0.9646 - val_loss: 1.6014 - val_acc: 0.9700\n",
            "Epoch 108/200\n",
            "607500/607500 [==============================] - 30s 50us/step - loss: 1.6043 - acc: 0.9647 - val_loss: 1.9257 - val_acc: 0.9662\n",
            "Epoch 109/200\n",
            "607500/607500 [==============================] - 31s 51us/step - loss: 1.6075 - acc: 0.9650 - val_loss: 1.6301 - val_acc: 0.9596\n",
            "Epoch 110/200\n",
            "607500/607500 [==============================] - 31s 51us/step - loss: 1.5894 - acc: 0.9651 - val_loss: 1.5219 - val_acc: 0.9649\n",
            "Epoch 111/200\n",
            "607500/607500 [==============================] - 31s 51us/step - loss: 1.5721 - acc: 0.9649 - val_loss: 1.3992 - val_acc: 0.9568\n",
            "Epoch 112/200\n",
            "607500/607500 [==============================] - 31s 51us/step - loss: 1.6061 - acc: 0.9649 - val_loss: 1.5172 - val_acc: 0.9715\n",
            "Epoch 113/200\n",
            "607500/607500 [==============================] - 31s 50us/step - loss: 1.5532 - acc: 0.9649 - val_loss: 1.2967 - val_acc: 0.9651\n",
            "Epoch 114/200\n",
            "607500/607500 [==============================] - 31s 50us/step - loss: 1.5904 - acc: 0.9647 - val_loss: 1.5249 - val_acc: 0.9644\n",
            "Epoch 115/200\n",
            "607500/607500 [==============================] - 31s 50us/step - loss: 1.5826 - acc: 0.9648 - val_loss: 1.4968 - val_acc: 0.9595\n",
            "Epoch 116/200\n",
            "607500/607500 [==============================] - 30s 50us/step - loss: 1.5575 - acc: 0.9650 - val_loss: 1.4181 - val_acc: 0.9553\n",
            "Epoch 117/200\n",
            "607500/607500 [==============================] - 30s 50us/step - loss: 1.5366 - acc: 0.9653 - val_loss: 1.4096 - val_acc: 0.9610\n",
            "Epoch 118/200\n",
            "607500/607500 [==============================] - 31s 50us/step - loss: 1.5385 - acc: 0.9650 - val_loss: 1.6063 - val_acc: 0.9635\n",
            "Epoch 119/200\n",
            "607500/607500 [==============================] - 30s 50us/step - loss: 1.5658 - acc: 0.9651 - val_loss: 1.5515 - val_acc: 0.9666\n",
            "Epoch 120/200\n",
            "607500/607500 [==============================] - 30s 50us/step - loss: 1.5083 - acc: 0.9652 - val_loss: 1.5924 - val_acc: 0.9634\n",
            "Epoch 121/200\n",
            "607500/607500 [==============================] - 30s 50us/step - loss: 1.5467 - acc: 0.9647 - val_loss: 1.6615 - val_acc: 0.9600\n",
            "Epoch 122/200\n",
            "607500/607500 [==============================] - 30s 50us/step - loss: 1.5334 - acc: 0.9649 - val_loss: 1.7326 - val_acc: 0.9595\n",
            "Epoch 123/200\n",
            "607500/607500 [==============================] - 30s 50us/step - loss: 1.5068 - acc: 0.9653 - val_loss: 1.2914 - val_acc: 0.9590\n",
            "Epoch 124/200\n",
            "607500/607500 [==============================] - 30s 50us/step - loss: 1.5028 - acc: 0.9649 - val_loss: 1.6528 - val_acc: 0.9583\n",
            "Epoch 125/200\n",
            "607500/607500 [==============================] - 30s 50us/step - loss: 1.4852 - acc: 0.9654 - val_loss: 1.4220 - val_acc: 0.9650\n",
            "Epoch 126/200\n",
            "607500/607500 [==============================] - 30s 50us/step - loss: 1.5038 - acc: 0.9650 - val_loss: 1.3677 - val_acc: 0.9598\n",
            "Epoch 127/200\n",
            "607500/607500 [==============================] - 30s 50us/step - loss: 1.5125 - acc: 0.9648 - val_loss: 1.4874 - val_acc: 0.9624\n",
            "Epoch 128/200\n",
            "607500/607500 [==============================] - 30s 50us/step - loss: 1.4881 - acc: 0.9652 - val_loss: 1.3055 - val_acc: 0.9603\n",
            "Epoch 129/200\n",
            "607500/607500 [==============================] - 31s 50us/step - loss: 1.4996 - acc: 0.9648 - val_loss: 1.4203 - val_acc: 0.9720\n",
            "Epoch 130/200\n",
            "607500/607500 [==============================] - 30s 50us/step - loss: 1.4711 - acc: 0.9651 - val_loss: 1.3869 - val_acc: 0.9664\n",
            "Epoch 131/200\n",
            "607500/607500 [==============================] - 30s 50us/step - loss: 1.4637 - acc: 0.9652 - val_loss: 1.2695 - val_acc: 0.9657\n",
            "Epoch 132/200\n",
            "607500/607500 [==============================] - 30s 50us/step - loss: 1.4806 - acc: 0.9652 - val_loss: 1.5465 - val_acc: 0.9622\n",
            "Epoch 133/200\n",
            "607500/607500 [==============================] - 30s 50us/step - loss: 1.4762 - acc: 0.9648 - val_loss: 1.3984 - val_acc: 0.9653\n",
            "Epoch 134/200\n",
            "607500/607500 [==============================] - 30s 50us/step - loss: 1.4573 - acc: 0.9650 - val_loss: 1.4310 - val_acc: 0.9732\n",
            "Epoch 135/200\n",
            "607500/607500 [==============================] - 30s 50us/step - loss: 1.4779 - acc: 0.9650 - val_loss: 1.3708 - val_acc: 0.9622\n",
            "Epoch 136/200\n",
            "607500/607500 [==============================] - 30s 50us/step - loss: 1.4511 - acc: 0.9652 - val_loss: 1.4973 - val_acc: 0.9785\n",
            "Epoch 137/200\n",
            "607500/607500 [==============================] - 30s 50us/step - loss: 1.4452 - acc: 0.9654 - val_loss: 1.3670 - val_acc: 0.9632\n",
            "Epoch 138/200\n",
            "607500/607500 [==============================] - 30s 50us/step - loss: 1.4378 - acc: 0.9650 - val_loss: 1.4137 - val_acc: 0.9626\n",
            "Epoch 139/200\n",
            "607500/607500 [==============================] - 30s 50us/step - loss: 1.4320 - acc: 0.9653 - val_loss: 1.7259 - val_acc: 0.9620\n",
            "Epoch 140/200\n",
            "607500/607500 [==============================] - 31s 50us/step - loss: 1.4350 - acc: 0.9653 - val_loss: 1.4740 - val_acc: 0.9573\n",
            "Epoch 141/200\n",
            "607500/607500 [==============================] - 30s 50us/step - loss: 1.4290 - acc: 0.9652 - val_loss: 1.4603 - val_acc: 0.9682\n",
            "Epoch 142/200\n",
            "607500/607500 [==============================] - 30s 50us/step - loss: 1.4363 - acc: 0.9652 - val_loss: 1.4154 - val_acc: 0.9709\n",
            "Epoch 143/200\n",
            "607500/607500 [==============================] - 30s 50us/step - loss: 1.4150 - acc: 0.9655 - val_loss: 1.2398 - val_acc: 0.9660\n",
            "Epoch 144/200\n",
            "607500/607500 [==============================] - 30s 50us/step - loss: 1.4016 - acc: 0.9652 - val_loss: 1.3268 - val_acc: 0.9743\n",
            "Epoch 145/200\n",
            "607500/607500 [==============================] - 30s 50us/step - loss: 1.4044 - acc: 0.9652 - val_loss: 1.3049 - val_acc: 0.9629\n",
            "Epoch 146/200\n",
            "607500/607500 [==============================] - 30s 50us/step - loss: 1.4216 - acc: 0.9651 - val_loss: 1.8278 - val_acc: 0.9664\n",
            "Epoch 147/200\n",
            "607500/607500 [==============================] - 30s 50us/step - loss: 1.4236 - acc: 0.9652 - val_loss: 1.2901 - val_acc: 0.9613\n",
            "Epoch 148/200\n",
            "607500/607500 [==============================] - 30s 50us/step - loss: 1.3985 - acc: 0.9653 - val_loss: 1.3127 - val_acc: 0.9671\n",
            "Epoch 149/200\n",
            "607500/607500 [==============================] - 30s 49us/step - loss: 1.3896 - acc: 0.9654 - val_loss: 1.3683 - val_acc: 0.9525\n",
            "Epoch 150/200\n",
            "607500/607500 [==============================] - 31s 51us/step - loss: 1.3840 - acc: 0.9651 - val_loss: 1.3545 - val_acc: 0.9654\n",
            "Epoch 151/200\n",
            "607500/607500 [==============================] - 30s 49us/step - loss: 1.3973 - acc: 0.9652 - val_loss: 1.3821 - val_acc: 0.9620\n",
            "Epoch 152/200\n",
            "607500/607500 [==============================] - 30s 50us/step - loss: 1.3705 - acc: 0.9655 - val_loss: 1.4854 - val_acc: 0.9622\n",
            "Epoch 153/200\n",
            "607500/607500 [==============================] - 30s 49us/step - loss: 1.3745 - acc: 0.9651 - val_loss: 1.5470 - val_acc: 0.9630\n",
            "Epoch 154/200\n",
            "607500/607500 [==============================] - 30s 50us/step - loss: 1.3810 - acc: 0.9652 - val_loss: 1.3054 - val_acc: 0.9647\n",
            "Epoch 155/200\n",
            "607500/607500 [==============================] - 30s 50us/step - loss: 1.3875 - acc: 0.9655 - val_loss: 1.2867 - val_acc: 0.9714\n",
            "Epoch 156/200\n",
            "607500/607500 [==============================] - 30s 50us/step - loss: 1.3666 - acc: 0.9653 - val_loss: 1.4158 - val_acc: 0.9637\n",
            "Epoch 157/200\n",
            "607500/607500 [==============================] - 30s 50us/step - loss: 1.3420 - acc: 0.9653 - val_loss: 1.2427 - val_acc: 0.9704\n",
            "Epoch 158/200\n",
            "607500/607500 [==============================] - 30s 50us/step - loss: 1.3754 - acc: 0.9652 - val_loss: 1.2286 - val_acc: 0.9642\n",
            "Epoch 159/200\n",
            "607500/607500 [==============================] - 30s 49us/step - loss: 1.3621 - acc: 0.9652 - val_loss: 1.3919 - val_acc: 0.9625\n",
            "Epoch 160/200\n",
            "607500/607500 [==============================] - 31s 50us/step - loss: 1.3522 - acc: 0.9652 - val_loss: 1.3544 - val_acc: 0.9620\n",
            "Epoch 161/200\n",
            "607500/607500 [==============================] - 30s 49us/step - loss: 1.3453 - acc: 0.9657 - val_loss: 1.2569 - val_acc: 0.9620\n",
            "Epoch 162/200\n",
            "607500/607500 [==============================] - 30s 49us/step - loss: 1.3725 - acc: 0.9651 - val_loss: 1.2723 - val_acc: 0.9642\n",
            "Epoch 163/200\n",
            "607500/607500 [==============================] - 30s 50us/step - loss: 1.3471 - acc: 0.9651 - val_loss: 1.2998 - val_acc: 0.9627\n",
            "Epoch 164/200\n",
            "607500/607500 [==============================] - 30s 50us/step - loss: 1.3568 - acc: 0.9656 - val_loss: 1.3200 - val_acc: 0.9650\n",
            "Epoch 165/200\n",
            "607500/607500 [==============================] - 30s 50us/step - loss: 1.3311 - acc: 0.9653 - val_loss: 1.5378 - val_acc: 0.9601\n",
            "Epoch 166/200\n",
            "607500/607500 [==============================] - 30s 50us/step - loss: 1.3323 - acc: 0.9653 - val_loss: 1.4798 - val_acc: 0.9680\n",
            "Epoch 167/200\n",
            "607500/607500 [==============================] - 30s 50us/step - loss: 1.3289 - acc: 0.9653 - val_loss: 1.2763 - val_acc: 0.9629\n",
            "Epoch 168/200\n",
            "607500/607500 [==============================] - 30s 50us/step - loss: 1.3295 - acc: 0.9654 - val_loss: 1.1203 - val_acc: 0.9673\n",
            "Epoch 169/200\n",
            "607500/607500 [==============================] - 30s 49us/step - loss: 1.3305 - acc: 0.9653 - val_loss: 1.1744 - val_acc: 0.9731\n",
            "Epoch 170/200\n",
            "607500/607500 [==============================] - 30s 50us/step - loss: 1.3110 - acc: 0.9655 - val_loss: 1.1560 - val_acc: 0.9656\n",
            "Epoch 171/200\n",
            "607500/607500 [==============================] - 30s 49us/step - loss: 1.3235 - acc: 0.9656 - val_loss: 1.2460 - val_acc: 0.9649\n",
            "Epoch 172/200\n",
            "607500/607500 [==============================] - 30s 49us/step - loss: 1.3340 - acc: 0.9653 - val_loss: 1.2247 - val_acc: 0.9636\n",
            "Epoch 173/200\n",
            "607500/607500 [==============================] - 30s 50us/step - loss: 1.3062 - acc: 0.9655 - val_loss: 1.5201 - val_acc: 0.9530\n",
            "Epoch 174/200\n",
            "607500/607500 [==============================] - 30s 50us/step - loss: 1.2905 - acc: 0.9652 - val_loss: 1.1496 - val_acc: 0.9688\n",
            "Epoch 175/200\n",
            "607500/607500 [==============================] - 30s 49us/step - loss: 1.3005 - acc: 0.9654 - val_loss: 1.2543 - val_acc: 0.9613\n",
            "Epoch 176/200\n",
            "607500/607500 [==============================] - 30s 50us/step - loss: 1.2852 - acc: 0.9652 - val_loss: 1.2921 - val_acc: 0.9640\n",
            "Epoch 177/200\n",
            "607500/607500 [==============================] - 30s 50us/step - loss: 1.3277 - acc: 0.9653 - val_loss: 1.2573 - val_acc: 0.9590\n",
            "Epoch 178/200\n",
            "607500/607500 [==============================] - 30s 50us/step - loss: 1.3020 - acc: 0.9653 - val_loss: 1.3048 - val_acc: 0.9636\n",
            "Epoch 179/200\n",
            "607500/607500 [==============================] - 30s 50us/step - loss: 1.2973 - acc: 0.9654 - val_loss: 1.2759 - val_acc: 0.9627\n",
            "Epoch 180/200\n",
            "607500/607500 [==============================] - 30s 50us/step - loss: 1.2922 - acc: 0.9653 - val_loss: 1.2404 - val_acc: 0.9628\n",
            "Epoch 181/200\n",
            "607500/607500 [==============================] - 30s 50us/step - loss: 1.2724 - acc: 0.9655 - val_loss: 1.0689 - val_acc: 0.9618\n",
            "Epoch 182/200\n",
            "607500/607500 [==============================] - 30s 50us/step - loss: 1.2912 - acc: 0.9655 - val_loss: 1.2437 - val_acc: 0.9676\n",
            "Epoch 183/200\n",
            "607500/607500 [==============================] - 30s 50us/step - loss: 1.2947 - acc: 0.9656 - val_loss: 1.2053 - val_acc: 0.9711\n",
            "Epoch 184/200\n",
            "607500/607500 [==============================] - 30s 49us/step - loss: 1.2815 - acc: 0.9654 - val_loss: 1.1688 - val_acc: 0.9621\n",
            "Epoch 185/200\n",
            "607500/607500 [==============================] - 30s 50us/step - loss: 1.2811 - acc: 0.9654 - val_loss: 1.2280 - val_acc: 0.9652\n",
            "Epoch 186/200\n",
            "607500/607500 [==============================] - 30s 50us/step - loss: 1.2838 - acc: 0.9653 - val_loss: 1.1496 - val_acc: 0.9589\n",
            "Epoch 187/200\n",
            "607500/607500 [==============================] - 30s 50us/step - loss: 1.2833 - acc: 0.9654 - val_loss: 1.1388 - val_acc: 0.9568\n",
            "Epoch 188/200\n",
            "607500/607500 [==============================] - 30s 50us/step - loss: 1.2644 - acc: 0.9654 - val_loss: 1.3446 - val_acc: 0.9603\n",
            "Epoch 189/200\n",
            "607500/607500 [==============================] - 30s 50us/step - loss: 1.2532 - acc: 0.9656 - val_loss: 1.1981 - val_acc: 0.9638\n",
            "Epoch 190/200\n",
            "607500/607500 [==============================] - 30s 50us/step - loss: 1.2607 - acc: 0.9653 - val_loss: 1.2286 - val_acc: 0.9660\n",
            "Epoch 191/200\n",
            "607500/607500 [==============================] - 31s 50us/step - loss: 1.2617 - acc: 0.9653 - val_loss: 1.1336 - val_acc: 0.9638\n",
            "Epoch 192/200\n",
            "607500/607500 [==============================] - 30s 49us/step - loss: 1.2518 - acc: 0.9655 - val_loss: 1.1059 - val_acc: 0.9606\n",
            "Epoch 193/200\n",
            "607500/607500 [==============================] - 30s 50us/step - loss: 1.2658 - acc: 0.9653 - val_loss: 1.1673 - val_acc: 0.9630\n",
            "Epoch 194/200\n",
            "607500/607500 [==============================] - 30s 49us/step - loss: 1.2453 - acc: 0.9655 - val_loss: 1.1652 - val_acc: 0.9581\n",
            "Epoch 195/200\n",
            "607500/607500 [==============================] - 30s 50us/step - loss: 1.2385 - acc: 0.9655 - val_loss: 1.0798 - val_acc: 0.9697\n",
            "Epoch 196/200\n",
            "607500/607500 [==============================] - 30s 50us/step - loss: 1.2497 - acc: 0.9653 - val_loss: 1.2148 - val_acc: 0.9646\n",
            "Epoch 197/200\n",
            "607500/607500 [==============================] - 30s 49us/step - loss: 1.2398 - acc: 0.9653 - val_loss: 1.3236 - val_acc: 0.9680\n",
            "Epoch 198/200\n",
            "607500/607500 [==============================] - 30s 50us/step - loss: 1.2303 - acc: 0.9656 - val_loss: 1.2281 - val_acc: 0.9658\n",
            "Epoch 199/200\n",
            "607500/607500 [==============================] - 30s 49us/step - loss: 1.2368 - acc: 0.9657 - val_loss: 1.0756 - val_acc: 0.9620\n",
            "Epoch 200/200\n",
            "607500/607500 [==============================] - 30s 50us/step - loss: 1.2216 - acc: 0.9655 - val_loss: 1.0949 - val_acc: 0.9669\n"
          ],
          "name": "stdout"
        }
      ]
    },
    {
      "cell_type": "code",
      "metadata": {
        "id": "hsfen6zmofgX",
        "colab_type": "code",
        "outputId": "8e0b2932-74e0-42d5-96e3-2b7a0834ecd4",
        "colab": {
          "base_uri": "https://localhost:8080/",
          "height": 1000
        }
      },
      "source": [
        "# 모델 아키텍처\n",
        "\n",
        "from IPython.display import SVG\n",
        "from keras.utils.vis_utils import model_to_dot\n",
        "\n",
        "%matplotlib inline\n",
        "\n",
        "SVG(model_to_dot(model, show_shapes=True).create(prog='dot', format='svg'))"
      ],
      "execution_count": 0,
      "outputs": [
        {
          "output_type": "execute_result",
          "data": {
            "text/plain": [
              "<IPython.core.display.SVG object>"
            ],
            "image/svg+xml": "<svg height=\"3725pt\" viewBox=\"0.00 0.00 424.00 2794.00\" width=\"565pt\" xmlns=\"http://www.w3.org/2000/svg\" xmlns:xlink=\"http://www.w3.org/1999/xlink\">\n<g class=\"graph\" id=\"graph0\" transform=\"scale(1.3333 1.3333) rotate(0) translate(4 2790)\">\n<title>G</title>\n<polygon fill=\"#ffffff\" points=\"-4,4 -4,-2790 420,-2790 420,4 -4,4\" stroke=\"transparent\"/>\n<!-- 139966959963720 -->\n<g class=\"node\" id=\"node1\">\n<title>139966959963720</title>\n<polygon fill=\"none\" points=\"49,-2739.5 49,-2785.5 367,-2785.5 367,-2739.5 49,-2739.5\" stroke=\"#000000\"/>\n<text fill=\"#000000\" font-family=\"Times,serif\" font-size=\"14.00\" text-anchor=\"middle\" x=\"135.5\" y=\"-2758.8\">dense_1_input: InputLayer</text>\n<polyline fill=\"none\" points=\"222,-2739.5 222,-2785.5 \" stroke=\"#000000\"/>\n<text fill=\"#000000\" font-family=\"Times,serif\" font-size=\"14.00\" text-anchor=\"middle\" x=\"251\" y=\"-2770.3\">input:</text>\n<polyline fill=\"none\" points=\"222,-2762.5 280,-2762.5 \" stroke=\"#000000\"/>\n<text fill=\"#000000\" font-family=\"Times,serif\" font-size=\"14.00\" text-anchor=\"middle\" x=\"251\" y=\"-2747.3\">output:</text>\n<polyline fill=\"none\" points=\"280,-2739.5 280,-2785.5 \" stroke=\"#000000\"/>\n<text fill=\"#000000\" font-family=\"Times,serif\" font-size=\"14.00\" text-anchor=\"middle\" x=\"323.5\" y=\"-2770.3\">(None, 226)</text>\n<polyline fill=\"none\" points=\"280,-2762.5 367,-2762.5 \" stroke=\"#000000\"/>\n<text fill=\"#000000\" font-family=\"Times,serif\" font-size=\"14.00\" text-anchor=\"middle\" x=\"323.5\" y=\"-2747.3\">(None, 226)</text>\n</g>\n<!-- 139966959963104 -->\n<g class=\"node\" id=\"node2\">\n<title>139966959963104</title>\n<polygon fill=\"none\" points=\"82,-2656.5 82,-2702.5 334,-2702.5 334,-2656.5 82,-2656.5\" stroke=\"#000000\"/>\n<text fill=\"#000000\" font-family=\"Times,serif\" font-size=\"14.00\" text-anchor=\"middle\" x=\"135.5\" y=\"-2675.8\">dense_1: Dense</text>\n<polyline fill=\"none\" points=\"189,-2656.5 189,-2702.5 \" stroke=\"#000000\"/>\n<text fill=\"#000000\" font-family=\"Times,serif\" font-size=\"14.00\" text-anchor=\"middle\" x=\"218\" y=\"-2687.3\">input:</text>\n<polyline fill=\"none\" points=\"189,-2679.5 247,-2679.5 \" stroke=\"#000000\"/>\n<text fill=\"#000000\" font-family=\"Times,serif\" font-size=\"14.00\" text-anchor=\"middle\" x=\"218\" y=\"-2664.3\">output:</text>\n<polyline fill=\"none\" points=\"247,-2656.5 247,-2702.5 \" stroke=\"#000000\"/>\n<text fill=\"#000000\" font-family=\"Times,serif\" font-size=\"14.00\" text-anchor=\"middle\" x=\"290.5\" y=\"-2687.3\">(None, 226)</text>\n<polyline fill=\"none\" points=\"247,-2679.5 334,-2679.5 \" stroke=\"#000000\"/>\n<text fill=\"#000000\" font-family=\"Times,serif\" font-size=\"14.00\" text-anchor=\"middle\" x=\"290.5\" y=\"-2664.3\">(None, 800)</text>\n</g>\n<!-- 139966959963720&#45;&gt;139966959963104 -->\n<g class=\"edge\" id=\"edge1\">\n<title>139966959963720-&gt;139966959963104</title>\n<path d=\"M208,-2739.3799C208,-2731.1745 208,-2721.7679 208,-2712.8786\" fill=\"none\" stroke=\"#000000\"/>\n<polygon fill=\"#000000\" points=\"211.5001,-2712.784 208,-2702.784 204.5001,-2712.784 211.5001,-2712.784\" stroke=\"#000000\"/>\n</g>\n<!-- 139966959963608 -->\n<g class=\"node\" id=\"node3\">\n<title>139966959963608</title>\n<polygon fill=\"none\" points=\"82,-2573.5 82,-2619.5 334,-2619.5 334,-2573.5 82,-2573.5\" stroke=\"#000000\"/>\n<text fill=\"#000000\" font-family=\"Times,serif\" font-size=\"14.00\" text-anchor=\"middle\" x=\"135.5\" y=\"-2592.8\">dense_2: Dense</text>\n<polyline fill=\"none\" points=\"189,-2573.5 189,-2619.5 \" stroke=\"#000000\"/>\n<text fill=\"#000000\" font-family=\"Times,serif\" font-size=\"14.00\" text-anchor=\"middle\" x=\"218\" y=\"-2604.3\">input:</text>\n<polyline fill=\"none\" points=\"189,-2596.5 247,-2596.5 \" stroke=\"#000000\"/>\n<text fill=\"#000000\" font-family=\"Times,serif\" font-size=\"14.00\" text-anchor=\"middle\" x=\"218\" y=\"-2581.3\">output:</text>\n<polyline fill=\"none\" points=\"247,-2573.5 247,-2619.5 \" stroke=\"#000000\"/>\n<text fill=\"#000000\" font-family=\"Times,serif\" font-size=\"14.00\" text-anchor=\"middle\" x=\"290.5\" y=\"-2604.3\">(None, 800)</text>\n<polyline fill=\"none\" points=\"247,-2596.5 334,-2596.5 \" stroke=\"#000000\"/>\n<text fill=\"#000000\" font-family=\"Times,serif\" font-size=\"14.00\" text-anchor=\"middle\" x=\"290.5\" y=\"-2581.3\">(None, 800)</text>\n</g>\n<!-- 139966959963104&#45;&gt;139966959963608 -->\n<g class=\"edge\" id=\"edge2\">\n<title>139966959963104-&gt;139966959963608</title>\n<path d=\"M208,-2656.3799C208,-2648.1745 208,-2638.7679 208,-2629.8786\" fill=\"none\" stroke=\"#000000\"/>\n<polygon fill=\"#000000\" points=\"211.5001,-2629.784 208,-2619.784 204.5001,-2629.784 211.5001,-2629.784\" stroke=\"#000000\"/>\n</g>\n<!-- 139966956994912 -->\n<g class=\"node\" id=\"node4\">\n<title>139966956994912</title>\n<polygon fill=\"none\" points=\"0,-2490.5 0,-2536.5 416,-2536.5 416,-2490.5 0,-2490.5\" stroke=\"#000000\"/>\n<text fill=\"#000000\" font-family=\"Times,serif\" font-size=\"14.00\" text-anchor=\"middle\" x=\"135.5\" y=\"-2509.8\">batch_normalization_1: BatchNormalization</text>\n<polyline fill=\"none\" points=\"271,-2490.5 271,-2536.5 \" stroke=\"#000000\"/>\n<text fill=\"#000000\" font-family=\"Times,serif\" font-size=\"14.00\" text-anchor=\"middle\" x=\"300\" y=\"-2521.3\">input:</text>\n<polyline fill=\"none\" points=\"271,-2513.5 329,-2513.5 \" stroke=\"#000000\"/>\n<text fill=\"#000000\" font-family=\"Times,serif\" font-size=\"14.00\" text-anchor=\"middle\" x=\"300\" y=\"-2498.3\">output:</text>\n<polyline fill=\"none\" points=\"329,-2490.5 329,-2536.5 \" stroke=\"#000000\"/>\n<text fill=\"#000000\" font-family=\"Times,serif\" font-size=\"14.00\" text-anchor=\"middle\" x=\"372.5\" y=\"-2521.3\">(None, 800)</text>\n<polyline fill=\"none\" points=\"329,-2513.5 416,-2513.5 \" stroke=\"#000000\"/>\n<text fill=\"#000000\" font-family=\"Times,serif\" font-size=\"14.00\" text-anchor=\"middle\" x=\"372.5\" y=\"-2498.3\">(None, 800)</text>\n</g>\n<!-- 139966959963608&#45;&gt;139966956994912 -->\n<g class=\"edge\" id=\"edge3\">\n<title>139966959963608-&gt;139966956994912</title>\n<path d=\"M208,-2573.3799C208,-2565.1745 208,-2555.7679 208,-2546.8786\" fill=\"none\" stroke=\"#000000\"/>\n<polygon fill=\"#000000\" points=\"211.5001,-2546.784 208,-2536.784 204.5001,-2546.784 211.5001,-2546.784\" stroke=\"#000000\"/>\n</g>\n<!-- 139966959963944 -->\n<g class=\"node\" id=\"node5\">\n<title>139966959963944</title>\n<polygon fill=\"none\" points=\"58.5,-2407.5 58.5,-2453.5 357.5,-2453.5 357.5,-2407.5 58.5,-2407.5\" stroke=\"#000000\"/>\n<text fill=\"#000000\" font-family=\"Times,serif\" font-size=\"14.00\" text-anchor=\"middle\" x=\"135.5\" y=\"-2426.8\">activation_1: Activation</text>\n<polyline fill=\"none\" points=\"212.5,-2407.5 212.5,-2453.5 \" stroke=\"#000000\"/>\n<text fill=\"#000000\" font-family=\"Times,serif\" font-size=\"14.00\" text-anchor=\"middle\" x=\"241.5\" y=\"-2438.3\">input:</text>\n<polyline fill=\"none\" points=\"212.5,-2430.5 270.5,-2430.5 \" stroke=\"#000000\"/>\n<text fill=\"#000000\" font-family=\"Times,serif\" font-size=\"14.00\" text-anchor=\"middle\" x=\"241.5\" y=\"-2415.3\">output:</text>\n<polyline fill=\"none\" points=\"270.5,-2407.5 270.5,-2453.5 \" stroke=\"#000000\"/>\n<text fill=\"#000000\" font-family=\"Times,serif\" font-size=\"14.00\" text-anchor=\"middle\" x=\"314\" y=\"-2438.3\">(None, 800)</text>\n<polyline fill=\"none\" points=\"270.5,-2430.5 357.5,-2430.5 \" stroke=\"#000000\"/>\n<text fill=\"#000000\" font-family=\"Times,serif\" font-size=\"14.00\" text-anchor=\"middle\" x=\"314\" y=\"-2415.3\">(None, 800)</text>\n</g>\n<!-- 139966956994912&#45;&gt;139966959963944 -->\n<g class=\"edge\" id=\"edge4\">\n<title>139966956994912-&gt;139966959963944</title>\n<path d=\"M208,-2490.3799C208,-2482.1745 208,-2472.7679 208,-2463.8786\" fill=\"none\" stroke=\"#000000\"/>\n<polygon fill=\"#000000\" points=\"211.5001,-2463.784 208,-2453.784 204.5001,-2463.784 211.5001,-2463.784\" stroke=\"#000000\"/>\n</g>\n<!-- 139966957116496 -->\n<g class=\"node\" id=\"node6\">\n<title>139966957116496</title>\n<polygon fill=\"none\" points=\"82,-2324.5 82,-2370.5 334,-2370.5 334,-2324.5 82,-2324.5\" stroke=\"#000000\"/>\n<text fill=\"#000000\" font-family=\"Times,serif\" font-size=\"14.00\" text-anchor=\"middle\" x=\"135.5\" y=\"-2343.8\">dense_3: Dense</text>\n<polyline fill=\"none\" points=\"189,-2324.5 189,-2370.5 \" stroke=\"#000000\"/>\n<text fill=\"#000000\" font-family=\"Times,serif\" font-size=\"14.00\" text-anchor=\"middle\" x=\"218\" y=\"-2355.3\">input:</text>\n<polyline fill=\"none\" points=\"189,-2347.5 247,-2347.5 \" stroke=\"#000000\"/>\n<text fill=\"#000000\" font-family=\"Times,serif\" font-size=\"14.00\" text-anchor=\"middle\" x=\"218\" y=\"-2332.3\">output:</text>\n<polyline fill=\"none\" points=\"247,-2324.5 247,-2370.5 \" stroke=\"#000000\"/>\n<text fill=\"#000000\" font-family=\"Times,serif\" font-size=\"14.00\" text-anchor=\"middle\" x=\"290.5\" y=\"-2355.3\">(None, 800)</text>\n<polyline fill=\"none\" points=\"247,-2347.5 334,-2347.5 \" stroke=\"#000000\"/>\n<text fill=\"#000000\" font-family=\"Times,serif\" font-size=\"14.00\" text-anchor=\"middle\" x=\"290.5\" y=\"-2332.3\">(None, 800)</text>\n</g>\n<!-- 139966959963944&#45;&gt;139966957116496 -->\n<g class=\"edge\" id=\"edge5\">\n<title>139966959963944-&gt;139966957116496</title>\n<path d=\"M208,-2407.3799C208,-2399.1745 208,-2389.7679 208,-2380.8786\" fill=\"none\" stroke=\"#000000\"/>\n<polygon fill=\"#000000\" points=\"211.5001,-2380.784 208,-2370.784 204.5001,-2380.784 211.5001,-2380.784\" stroke=\"#000000\"/>\n</g>\n<!-- 139966956776808 -->\n<g class=\"node\" id=\"node7\">\n<title>139966956776808</title>\n<polygon fill=\"none\" points=\"82,-2241.5 82,-2287.5 334,-2287.5 334,-2241.5 82,-2241.5\" stroke=\"#000000\"/>\n<text fill=\"#000000\" font-family=\"Times,serif\" font-size=\"14.00\" text-anchor=\"middle\" x=\"135.5\" y=\"-2260.8\">dense_4: Dense</text>\n<polyline fill=\"none\" points=\"189,-2241.5 189,-2287.5 \" stroke=\"#000000\"/>\n<text fill=\"#000000\" font-family=\"Times,serif\" font-size=\"14.00\" text-anchor=\"middle\" x=\"218\" y=\"-2272.3\">input:</text>\n<polyline fill=\"none\" points=\"189,-2264.5 247,-2264.5 \" stroke=\"#000000\"/>\n<text fill=\"#000000\" font-family=\"Times,serif\" font-size=\"14.00\" text-anchor=\"middle\" x=\"218\" y=\"-2249.3\">output:</text>\n<polyline fill=\"none\" points=\"247,-2241.5 247,-2287.5 \" stroke=\"#000000\"/>\n<text fill=\"#000000\" font-family=\"Times,serif\" font-size=\"14.00\" text-anchor=\"middle\" x=\"290.5\" y=\"-2272.3\">(None, 800)</text>\n<polyline fill=\"none\" points=\"247,-2264.5 334,-2264.5 \" stroke=\"#000000\"/>\n<text fill=\"#000000\" font-family=\"Times,serif\" font-size=\"14.00\" text-anchor=\"middle\" x=\"290.5\" y=\"-2249.3\">(None, 800)</text>\n</g>\n<!-- 139966957116496&#45;&gt;139966956776808 -->\n<g class=\"edge\" id=\"edge6\">\n<title>139966957116496-&gt;139966956776808</title>\n<path d=\"M208,-2324.3799C208,-2316.1745 208,-2306.7679 208,-2297.8786\" fill=\"none\" stroke=\"#000000\"/>\n<polygon fill=\"#000000\" points=\"211.5001,-2297.784 208,-2287.784 204.5001,-2297.784 211.5001,-2297.784\" stroke=\"#000000\"/>\n</g>\n<!-- 139966956728448 -->\n<g class=\"node\" id=\"node8\">\n<title>139966956728448</title>\n<polygon fill=\"none\" points=\"0,-2158.5 0,-2204.5 416,-2204.5 416,-2158.5 0,-2158.5\" stroke=\"#000000\"/>\n<text fill=\"#000000\" font-family=\"Times,serif\" font-size=\"14.00\" text-anchor=\"middle\" x=\"135.5\" y=\"-2177.8\">batch_normalization_2: BatchNormalization</text>\n<polyline fill=\"none\" points=\"271,-2158.5 271,-2204.5 \" stroke=\"#000000\"/>\n<text fill=\"#000000\" font-family=\"Times,serif\" font-size=\"14.00\" text-anchor=\"middle\" x=\"300\" y=\"-2189.3\">input:</text>\n<polyline fill=\"none\" points=\"271,-2181.5 329,-2181.5 \" stroke=\"#000000\"/>\n<text fill=\"#000000\" font-family=\"Times,serif\" font-size=\"14.00\" text-anchor=\"middle\" x=\"300\" y=\"-2166.3\">output:</text>\n<polyline fill=\"none\" points=\"329,-2158.5 329,-2204.5 \" stroke=\"#000000\"/>\n<text fill=\"#000000\" font-family=\"Times,serif\" font-size=\"14.00\" text-anchor=\"middle\" x=\"372.5\" y=\"-2189.3\">(None, 800)</text>\n<polyline fill=\"none\" points=\"329,-2181.5 416,-2181.5 \" stroke=\"#000000\"/>\n<text fill=\"#000000\" font-family=\"Times,serif\" font-size=\"14.00\" text-anchor=\"middle\" x=\"372.5\" y=\"-2166.3\">(None, 800)</text>\n</g>\n<!-- 139966956776808&#45;&gt;139966956728448 -->\n<g class=\"edge\" id=\"edge7\">\n<title>139966956776808-&gt;139966956728448</title>\n<path d=\"M208,-2241.3799C208,-2233.1745 208,-2223.7679 208,-2214.8786\" fill=\"none\" stroke=\"#000000\"/>\n<polygon fill=\"#000000\" points=\"211.5001,-2214.784 208,-2204.784 204.5001,-2214.784 211.5001,-2214.784\" stroke=\"#000000\"/>\n</g>\n<!-- 139966956729120 -->\n<g class=\"node\" id=\"node9\">\n<title>139966956729120</title>\n<polygon fill=\"none\" points=\"58.5,-2075.5 58.5,-2121.5 357.5,-2121.5 357.5,-2075.5 58.5,-2075.5\" stroke=\"#000000\"/>\n<text fill=\"#000000\" font-family=\"Times,serif\" font-size=\"14.00\" text-anchor=\"middle\" x=\"135.5\" y=\"-2094.8\">activation_2: Activation</text>\n<polyline fill=\"none\" points=\"212.5,-2075.5 212.5,-2121.5 \" stroke=\"#000000\"/>\n<text fill=\"#000000\" font-family=\"Times,serif\" font-size=\"14.00\" text-anchor=\"middle\" x=\"241.5\" y=\"-2106.3\">input:</text>\n<polyline fill=\"none\" points=\"212.5,-2098.5 270.5,-2098.5 \" stroke=\"#000000\"/>\n<text fill=\"#000000\" font-family=\"Times,serif\" font-size=\"14.00\" text-anchor=\"middle\" x=\"241.5\" y=\"-2083.3\">output:</text>\n<polyline fill=\"none\" points=\"270.5,-2075.5 270.5,-2121.5 \" stroke=\"#000000\"/>\n<text fill=\"#000000\" font-family=\"Times,serif\" font-size=\"14.00\" text-anchor=\"middle\" x=\"314\" y=\"-2106.3\">(None, 800)</text>\n<polyline fill=\"none\" points=\"270.5,-2098.5 357.5,-2098.5 \" stroke=\"#000000\"/>\n<text fill=\"#000000\" font-family=\"Times,serif\" font-size=\"14.00\" text-anchor=\"middle\" x=\"314\" y=\"-2083.3\">(None, 800)</text>\n</g>\n<!-- 139966956728448&#45;&gt;139966956729120 -->\n<g class=\"edge\" id=\"edge8\">\n<title>139966956728448-&gt;139966956729120</title>\n<path d=\"M208,-2158.3799C208,-2150.1745 208,-2140.7679 208,-2131.8786\" fill=\"none\" stroke=\"#000000\"/>\n<polygon fill=\"#000000\" points=\"211.5001,-2131.784 208,-2121.784 204.5001,-2131.784 211.5001,-2131.784\" stroke=\"#000000\"/>\n</g>\n<!-- 139966956866920 -->\n<g class=\"node\" id=\"node10\">\n<title>139966956866920</title>\n<polygon fill=\"none\" points=\"82,-1992.5 82,-2038.5 334,-2038.5 334,-1992.5 82,-1992.5\" stroke=\"#000000\"/>\n<text fill=\"#000000\" font-family=\"Times,serif\" font-size=\"14.00\" text-anchor=\"middle\" x=\"135.5\" y=\"-2011.8\">dense_5: Dense</text>\n<polyline fill=\"none\" points=\"189,-1992.5 189,-2038.5 \" stroke=\"#000000\"/>\n<text fill=\"#000000\" font-family=\"Times,serif\" font-size=\"14.00\" text-anchor=\"middle\" x=\"218\" y=\"-2023.3\">input:</text>\n<polyline fill=\"none\" points=\"189,-2015.5 247,-2015.5 \" stroke=\"#000000\"/>\n<text fill=\"#000000\" font-family=\"Times,serif\" font-size=\"14.00\" text-anchor=\"middle\" x=\"218\" y=\"-2000.3\">output:</text>\n<polyline fill=\"none\" points=\"247,-1992.5 247,-2038.5 \" stroke=\"#000000\"/>\n<text fill=\"#000000\" font-family=\"Times,serif\" font-size=\"14.00\" text-anchor=\"middle\" x=\"290.5\" y=\"-2023.3\">(None, 800)</text>\n<polyline fill=\"none\" points=\"247,-2015.5 334,-2015.5 \" stroke=\"#000000\"/>\n<text fill=\"#000000\" font-family=\"Times,serif\" font-size=\"14.00\" text-anchor=\"middle\" x=\"290.5\" y=\"-2000.3\">(None, 800)</text>\n</g>\n<!-- 139966956729120&#45;&gt;139966956866920 -->\n<g class=\"edge\" id=\"edge9\">\n<title>139966956729120-&gt;139966956866920</title>\n<path d=\"M208,-2075.3799C208,-2067.1745 208,-2057.7679 208,-2048.8786\" fill=\"none\" stroke=\"#000000\"/>\n<polygon fill=\"#000000\" points=\"211.5001,-2048.784 208,-2038.784 204.5001,-2048.784 211.5001,-2048.784\" stroke=\"#000000\"/>\n</g>\n<!-- 139966956289440 -->\n<g class=\"node\" id=\"node11\">\n<title>139966956289440</title>\n<polygon fill=\"none\" points=\"82,-1909.5 82,-1955.5 334,-1955.5 334,-1909.5 82,-1909.5\" stroke=\"#000000\"/>\n<text fill=\"#000000\" font-family=\"Times,serif\" font-size=\"14.00\" text-anchor=\"middle\" x=\"135.5\" y=\"-1928.8\">dense_6: Dense</text>\n<polyline fill=\"none\" points=\"189,-1909.5 189,-1955.5 \" stroke=\"#000000\"/>\n<text fill=\"#000000\" font-family=\"Times,serif\" font-size=\"14.00\" text-anchor=\"middle\" x=\"218\" y=\"-1940.3\">input:</text>\n<polyline fill=\"none\" points=\"189,-1932.5 247,-1932.5 \" stroke=\"#000000\"/>\n<text fill=\"#000000\" font-family=\"Times,serif\" font-size=\"14.00\" text-anchor=\"middle\" x=\"218\" y=\"-1917.3\">output:</text>\n<polyline fill=\"none\" points=\"247,-1909.5 247,-1955.5 \" stroke=\"#000000\"/>\n<text fill=\"#000000\" font-family=\"Times,serif\" font-size=\"14.00\" text-anchor=\"middle\" x=\"290.5\" y=\"-1940.3\">(None, 800)</text>\n<polyline fill=\"none\" points=\"247,-1932.5 334,-1932.5 \" stroke=\"#000000\"/>\n<text fill=\"#000000\" font-family=\"Times,serif\" font-size=\"14.00\" text-anchor=\"middle\" x=\"290.5\" y=\"-1917.3\">(None, 800)</text>\n</g>\n<!-- 139966956866920&#45;&gt;139966956289440 -->\n<g class=\"edge\" id=\"edge10\">\n<title>139966956866920-&gt;139966956289440</title>\n<path d=\"M208,-1992.3799C208,-1984.1745 208,-1974.7679 208,-1965.8786\" fill=\"none\" stroke=\"#000000\"/>\n<polygon fill=\"#000000\" points=\"211.5001,-1965.784 208,-1955.784 204.5001,-1965.784 211.5001,-1965.784\" stroke=\"#000000\"/>\n</g>\n<!-- 139966956241248 -->\n<g class=\"node\" id=\"node12\">\n<title>139966956241248</title>\n<polygon fill=\"none\" points=\"0,-1826.5 0,-1872.5 416,-1872.5 416,-1826.5 0,-1826.5\" stroke=\"#000000\"/>\n<text fill=\"#000000\" font-family=\"Times,serif\" font-size=\"14.00\" text-anchor=\"middle\" x=\"135.5\" y=\"-1845.8\">batch_normalization_3: BatchNormalization</text>\n<polyline fill=\"none\" points=\"271,-1826.5 271,-1872.5 \" stroke=\"#000000\"/>\n<text fill=\"#000000\" font-family=\"Times,serif\" font-size=\"14.00\" text-anchor=\"middle\" x=\"300\" y=\"-1857.3\">input:</text>\n<polyline fill=\"none\" points=\"271,-1849.5 329,-1849.5 \" stroke=\"#000000\"/>\n<text fill=\"#000000\" font-family=\"Times,serif\" font-size=\"14.00\" text-anchor=\"middle\" x=\"300\" y=\"-1834.3\">output:</text>\n<polyline fill=\"none\" points=\"329,-1826.5 329,-1872.5 \" stroke=\"#000000\"/>\n<text fill=\"#000000\" font-family=\"Times,serif\" font-size=\"14.00\" text-anchor=\"middle\" x=\"372.5\" y=\"-1857.3\">(None, 800)</text>\n<polyline fill=\"none\" points=\"329,-1849.5 416,-1849.5 \" stroke=\"#000000\"/>\n<text fill=\"#000000\" font-family=\"Times,serif\" font-size=\"14.00\" text-anchor=\"middle\" x=\"372.5\" y=\"-1834.3\">(None, 800)</text>\n</g>\n<!-- 139966956289440&#45;&gt;139966956241248 -->\n<g class=\"edge\" id=\"edge11\">\n<title>139966956289440-&gt;139966956241248</title>\n<path d=\"M208,-1909.3799C208,-1901.1745 208,-1891.7679 208,-1882.8786\" fill=\"none\" stroke=\"#000000\"/>\n<polygon fill=\"#000000\" points=\"211.5001,-1882.784 208,-1872.784 204.5001,-1882.784 211.5001,-1882.784\" stroke=\"#000000\"/>\n</g>\n<!-- 139966956241808 -->\n<g class=\"node\" id=\"node13\">\n<title>139966956241808</title>\n<polygon fill=\"none\" points=\"58.5,-1743.5 58.5,-1789.5 357.5,-1789.5 357.5,-1743.5 58.5,-1743.5\" stroke=\"#000000\"/>\n<text fill=\"#000000\" font-family=\"Times,serif\" font-size=\"14.00\" text-anchor=\"middle\" x=\"135.5\" y=\"-1762.8\">activation_3: Activation</text>\n<polyline fill=\"none\" points=\"212.5,-1743.5 212.5,-1789.5 \" stroke=\"#000000\"/>\n<text fill=\"#000000\" font-family=\"Times,serif\" font-size=\"14.00\" text-anchor=\"middle\" x=\"241.5\" y=\"-1774.3\">input:</text>\n<polyline fill=\"none\" points=\"212.5,-1766.5 270.5,-1766.5 \" stroke=\"#000000\"/>\n<text fill=\"#000000\" font-family=\"Times,serif\" font-size=\"14.00\" text-anchor=\"middle\" x=\"241.5\" y=\"-1751.3\">output:</text>\n<polyline fill=\"none\" points=\"270.5,-1743.5 270.5,-1789.5 \" stroke=\"#000000\"/>\n<text fill=\"#000000\" font-family=\"Times,serif\" font-size=\"14.00\" text-anchor=\"middle\" x=\"314\" y=\"-1774.3\">(None, 800)</text>\n<polyline fill=\"none\" points=\"270.5,-1766.5 357.5,-1766.5 \" stroke=\"#000000\"/>\n<text fill=\"#000000\" font-family=\"Times,serif\" font-size=\"14.00\" text-anchor=\"middle\" x=\"314\" y=\"-1751.3\">(None, 800)</text>\n</g>\n<!-- 139966956241248&#45;&gt;139966956241808 -->\n<g class=\"edge\" id=\"edge12\">\n<title>139966956241248-&gt;139966956241808</title>\n<path d=\"M208,-1826.3799C208,-1818.1745 208,-1808.7679 208,-1799.8786\" fill=\"none\" stroke=\"#000000\"/>\n<polygon fill=\"#000000\" points=\"211.5001,-1799.784 208,-1789.784 204.5001,-1799.784 211.5001,-1799.784\" stroke=\"#000000\"/>\n</g>\n<!-- 139966956391896 -->\n<g class=\"node\" id=\"node14\">\n<title>139966956391896</title>\n<polygon fill=\"none\" points=\"82,-1660.5 82,-1706.5 334,-1706.5 334,-1660.5 82,-1660.5\" stroke=\"#000000\"/>\n<text fill=\"#000000\" font-family=\"Times,serif\" font-size=\"14.00\" text-anchor=\"middle\" x=\"135.5\" y=\"-1679.8\">dense_7: Dense</text>\n<polyline fill=\"none\" points=\"189,-1660.5 189,-1706.5 \" stroke=\"#000000\"/>\n<text fill=\"#000000\" font-family=\"Times,serif\" font-size=\"14.00\" text-anchor=\"middle\" x=\"218\" y=\"-1691.3\">input:</text>\n<polyline fill=\"none\" points=\"189,-1683.5 247,-1683.5 \" stroke=\"#000000\"/>\n<text fill=\"#000000\" font-family=\"Times,serif\" font-size=\"14.00\" text-anchor=\"middle\" x=\"218\" y=\"-1668.3\">output:</text>\n<polyline fill=\"none\" points=\"247,-1660.5 247,-1706.5 \" stroke=\"#000000\"/>\n<text fill=\"#000000\" font-family=\"Times,serif\" font-size=\"14.00\" text-anchor=\"middle\" x=\"290.5\" y=\"-1691.3\">(None, 800)</text>\n<polyline fill=\"none\" points=\"247,-1683.5 334,-1683.5 \" stroke=\"#000000\"/>\n<text fill=\"#000000\" font-family=\"Times,serif\" font-size=\"14.00\" text-anchor=\"middle\" x=\"290.5\" y=\"-1668.3\">(None, 800)</text>\n</g>\n<!-- 139966956241808&#45;&gt;139966956391896 -->\n<g class=\"edge\" id=\"edge13\">\n<title>139966956241808-&gt;139966956391896</title>\n<path d=\"M208,-1743.3799C208,-1735.1745 208,-1725.7679 208,-1716.8786\" fill=\"none\" stroke=\"#000000\"/>\n<polygon fill=\"#000000\" points=\"211.5001,-1716.784 208,-1706.784 204.5001,-1716.784 211.5001,-1716.784\" stroke=\"#000000\"/>\n</g>\n<!-- 139966959767448 -->\n<g class=\"node\" id=\"node15\">\n<title>139966959767448</title>\n<polygon fill=\"none\" points=\"82,-1577.5 82,-1623.5 334,-1623.5 334,-1577.5 82,-1577.5\" stroke=\"#000000\"/>\n<text fill=\"#000000\" font-family=\"Times,serif\" font-size=\"14.00\" text-anchor=\"middle\" x=\"135.5\" y=\"-1596.8\">dense_8: Dense</text>\n<polyline fill=\"none\" points=\"189,-1577.5 189,-1623.5 \" stroke=\"#000000\"/>\n<text fill=\"#000000\" font-family=\"Times,serif\" font-size=\"14.00\" text-anchor=\"middle\" x=\"218\" y=\"-1608.3\">input:</text>\n<polyline fill=\"none\" points=\"189,-1600.5 247,-1600.5 \" stroke=\"#000000\"/>\n<text fill=\"#000000\" font-family=\"Times,serif\" font-size=\"14.00\" text-anchor=\"middle\" x=\"218\" y=\"-1585.3\">output:</text>\n<polyline fill=\"none\" points=\"247,-1577.5 247,-1623.5 \" stroke=\"#000000\"/>\n<text fill=\"#000000\" font-family=\"Times,serif\" font-size=\"14.00\" text-anchor=\"middle\" x=\"290.5\" y=\"-1608.3\">(None, 800)</text>\n<polyline fill=\"none\" points=\"247,-1600.5 334,-1600.5 \" stroke=\"#000000\"/>\n<text fill=\"#000000\" font-family=\"Times,serif\" font-size=\"14.00\" text-anchor=\"middle\" x=\"290.5\" y=\"-1585.3\">(None, 800)</text>\n</g>\n<!-- 139966956391896&#45;&gt;139966959767448 -->\n<g class=\"edge\" id=\"edge14\">\n<title>139966956391896-&gt;139966959767448</title>\n<path d=\"M208,-1660.3799C208,-1652.1745 208,-1642.7679 208,-1633.8786\" fill=\"none\" stroke=\"#000000\"/>\n<polygon fill=\"#000000\" points=\"211.5001,-1633.784 208,-1623.784 204.5001,-1633.784 211.5001,-1633.784\" stroke=\"#000000\"/>\n</g>\n<!-- 139966959330024 -->\n<g class=\"node\" id=\"node16\">\n<title>139966959330024</title>\n<polygon fill=\"none\" points=\"0,-1494.5 0,-1540.5 416,-1540.5 416,-1494.5 0,-1494.5\" stroke=\"#000000\"/>\n<text fill=\"#000000\" font-family=\"Times,serif\" font-size=\"14.00\" text-anchor=\"middle\" x=\"135.5\" y=\"-1513.8\">batch_normalization_4: BatchNormalization</text>\n<polyline fill=\"none\" points=\"271,-1494.5 271,-1540.5 \" stroke=\"#000000\"/>\n<text fill=\"#000000\" font-family=\"Times,serif\" font-size=\"14.00\" text-anchor=\"middle\" x=\"300\" y=\"-1525.3\">input:</text>\n<polyline fill=\"none\" points=\"271,-1517.5 329,-1517.5 \" stroke=\"#000000\"/>\n<text fill=\"#000000\" font-family=\"Times,serif\" font-size=\"14.00\" text-anchor=\"middle\" x=\"300\" y=\"-1502.3\">output:</text>\n<polyline fill=\"none\" points=\"329,-1494.5 329,-1540.5 \" stroke=\"#000000\"/>\n<text fill=\"#000000\" font-family=\"Times,serif\" font-size=\"14.00\" text-anchor=\"middle\" x=\"372.5\" y=\"-1525.3\">(None, 800)</text>\n<polyline fill=\"none\" points=\"329,-1517.5 416,-1517.5 \" stroke=\"#000000\"/>\n<text fill=\"#000000\" font-family=\"Times,serif\" font-size=\"14.00\" text-anchor=\"middle\" x=\"372.5\" y=\"-1502.3\">(None, 800)</text>\n</g>\n<!-- 139966959767448&#45;&gt;139966959330024 -->\n<g class=\"edge\" id=\"edge15\">\n<title>139966959767448-&gt;139966959330024</title>\n<path d=\"M208,-1577.3799C208,-1569.1745 208,-1559.7679 208,-1550.8786\" fill=\"none\" stroke=\"#000000\"/>\n<polygon fill=\"#000000\" points=\"211.5001,-1550.784 208,-1540.784 204.5001,-1550.784 211.5001,-1550.784\" stroke=\"#000000\"/>\n</g>\n<!-- 139966959361944 -->\n<g class=\"node\" id=\"node17\">\n<title>139966959361944</title>\n<polygon fill=\"none\" points=\"58.5,-1411.5 58.5,-1457.5 357.5,-1457.5 357.5,-1411.5 58.5,-1411.5\" stroke=\"#000000\"/>\n<text fill=\"#000000\" font-family=\"Times,serif\" font-size=\"14.00\" text-anchor=\"middle\" x=\"135.5\" y=\"-1430.8\">activation_4: Activation</text>\n<polyline fill=\"none\" points=\"212.5,-1411.5 212.5,-1457.5 \" stroke=\"#000000\"/>\n<text fill=\"#000000\" font-family=\"Times,serif\" font-size=\"14.00\" text-anchor=\"middle\" x=\"241.5\" y=\"-1442.3\">input:</text>\n<polyline fill=\"none\" points=\"212.5,-1434.5 270.5,-1434.5 \" stroke=\"#000000\"/>\n<text fill=\"#000000\" font-family=\"Times,serif\" font-size=\"14.00\" text-anchor=\"middle\" x=\"241.5\" y=\"-1419.3\">output:</text>\n<polyline fill=\"none\" points=\"270.5,-1411.5 270.5,-1457.5 \" stroke=\"#000000\"/>\n<text fill=\"#000000\" font-family=\"Times,serif\" font-size=\"14.00\" text-anchor=\"middle\" x=\"314\" y=\"-1442.3\">(None, 800)</text>\n<polyline fill=\"none\" points=\"270.5,-1434.5 357.5,-1434.5 \" stroke=\"#000000\"/>\n<text fill=\"#000000\" font-family=\"Times,serif\" font-size=\"14.00\" text-anchor=\"middle\" x=\"314\" y=\"-1419.3\">(None, 800)</text>\n</g>\n<!-- 139966959330024&#45;&gt;139966959361944 -->\n<g class=\"edge\" id=\"edge16\">\n<title>139966959330024-&gt;139966959361944</title>\n<path d=\"M208,-1494.3799C208,-1486.1745 208,-1476.7679 208,-1467.8786\" fill=\"none\" stroke=\"#000000\"/>\n<polygon fill=\"#000000\" points=\"211.5001,-1467.784 208,-1457.784 204.5001,-1467.784 211.5001,-1467.784\" stroke=\"#000000\"/>\n</g>\n<!-- 139966959330584 -->\n<g class=\"node\" id=\"node18\">\n<title>139966959330584</title>\n<polygon fill=\"none\" points=\"82,-1328.5 82,-1374.5 334,-1374.5 334,-1328.5 82,-1328.5\" stroke=\"#000000\"/>\n<text fill=\"#000000\" font-family=\"Times,serif\" font-size=\"14.00\" text-anchor=\"middle\" x=\"135.5\" y=\"-1347.8\">dense_9: Dense</text>\n<polyline fill=\"none\" points=\"189,-1328.5 189,-1374.5 \" stroke=\"#000000\"/>\n<text fill=\"#000000\" font-family=\"Times,serif\" font-size=\"14.00\" text-anchor=\"middle\" x=\"218\" y=\"-1359.3\">input:</text>\n<polyline fill=\"none\" points=\"189,-1351.5 247,-1351.5 \" stroke=\"#000000\"/>\n<text fill=\"#000000\" font-family=\"Times,serif\" font-size=\"14.00\" text-anchor=\"middle\" x=\"218\" y=\"-1336.3\">output:</text>\n<polyline fill=\"none\" points=\"247,-1328.5 247,-1374.5 \" stroke=\"#000000\"/>\n<text fill=\"#000000\" font-family=\"Times,serif\" font-size=\"14.00\" text-anchor=\"middle\" x=\"290.5\" y=\"-1359.3\">(None, 800)</text>\n<polyline fill=\"none\" points=\"247,-1351.5 334,-1351.5 \" stroke=\"#000000\"/>\n<text fill=\"#000000\" font-family=\"Times,serif\" font-size=\"14.00\" text-anchor=\"middle\" x=\"290.5\" y=\"-1336.3\">(None, 800)</text>\n</g>\n<!-- 139966959361944&#45;&gt;139966959330584 -->\n<g class=\"edge\" id=\"edge17\">\n<title>139966959361944-&gt;139966959330584</title>\n<path d=\"M208,-1411.3799C208,-1403.1745 208,-1393.7679 208,-1384.8786\" fill=\"none\" stroke=\"#000000\"/>\n<polygon fill=\"#000000\" points=\"211.5001,-1384.784 208,-1374.784 204.5001,-1384.784 211.5001,-1384.784\" stroke=\"#000000\"/>\n</g>\n<!-- 139966959094752 -->\n<g class=\"node\" id=\"node19\">\n<title>139966959094752</title>\n<polygon fill=\"none\" points=\"78.5,-1245.5 78.5,-1291.5 337.5,-1291.5 337.5,-1245.5 78.5,-1245.5\" stroke=\"#000000\"/>\n<text fill=\"#000000\" font-family=\"Times,serif\" font-size=\"14.00\" text-anchor=\"middle\" x=\"135.5\" y=\"-1264.8\">dense_10: Dense</text>\n<polyline fill=\"none\" points=\"192.5,-1245.5 192.5,-1291.5 \" stroke=\"#000000\"/>\n<text fill=\"#000000\" font-family=\"Times,serif\" font-size=\"14.00\" text-anchor=\"middle\" x=\"221.5\" y=\"-1276.3\">input:</text>\n<polyline fill=\"none\" points=\"192.5,-1268.5 250.5,-1268.5 \" stroke=\"#000000\"/>\n<text fill=\"#000000\" font-family=\"Times,serif\" font-size=\"14.00\" text-anchor=\"middle\" x=\"221.5\" y=\"-1253.3\">output:</text>\n<polyline fill=\"none\" points=\"250.5,-1245.5 250.5,-1291.5 \" stroke=\"#000000\"/>\n<text fill=\"#000000\" font-family=\"Times,serif\" font-size=\"14.00\" text-anchor=\"middle\" x=\"294\" y=\"-1276.3\">(None, 800)</text>\n<polyline fill=\"none\" points=\"250.5,-1268.5 337.5,-1268.5 \" stroke=\"#000000\"/>\n<text fill=\"#000000\" font-family=\"Times,serif\" font-size=\"14.00\" text-anchor=\"middle\" x=\"294\" y=\"-1253.3\">(None, 800)</text>\n</g>\n<!-- 139966959330584&#45;&gt;139966959094752 -->\n<g class=\"edge\" id=\"edge18\">\n<title>139966959330584-&gt;139966959094752</title>\n<path d=\"M208,-1328.3799C208,-1320.1745 208,-1310.7679 208,-1301.8786\" fill=\"none\" stroke=\"#000000\"/>\n<polygon fill=\"#000000\" points=\"211.5001,-1301.784 208,-1291.784 204.5001,-1301.784 211.5001,-1301.784\" stroke=\"#000000\"/>\n</g>\n<!-- 139966959163880 -->\n<g class=\"node\" id=\"node20\">\n<title>139966959163880</title>\n<polygon fill=\"none\" points=\"0,-1162.5 0,-1208.5 416,-1208.5 416,-1162.5 0,-1162.5\" stroke=\"#000000\"/>\n<text fill=\"#000000\" font-family=\"Times,serif\" font-size=\"14.00\" text-anchor=\"middle\" x=\"135.5\" y=\"-1181.8\">batch_normalization_5: BatchNormalization</text>\n<polyline fill=\"none\" points=\"271,-1162.5 271,-1208.5 \" stroke=\"#000000\"/>\n<text fill=\"#000000\" font-family=\"Times,serif\" font-size=\"14.00\" text-anchor=\"middle\" x=\"300\" y=\"-1193.3\">input:</text>\n<polyline fill=\"none\" points=\"271,-1185.5 329,-1185.5 \" stroke=\"#000000\"/>\n<text fill=\"#000000\" font-family=\"Times,serif\" font-size=\"14.00\" text-anchor=\"middle\" x=\"300\" y=\"-1170.3\">output:</text>\n<polyline fill=\"none\" points=\"329,-1162.5 329,-1208.5 \" stroke=\"#000000\"/>\n<text fill=\"#000000\" font-family=\"Times,serif\" font-size=\"14.00\" text-anchor=\"middle\" x=\"372.5\" y=\"-1193.3\">(None, 800)</text>\n<polyline fill=\"none\" points=\"329,-1185.5 416,-1185.5 \" stroke=\"#000000\"/>\n<text fill=\"#000000\" font-family=\"Times,serif\" font-size=\"14.00\" text-anchor=\"middle\" x=\"372.5\" y=\"-1170.3\">(None, 800)</text>\n</g>\n<!-- 139966959094752&#45;&gt;139966959163880 -->\n<g class=\"edge\" id=\"edge19\">\n<title>139966959094752-&gt;139966959163880</title>\n<path d=\"M208,-1245.3799C208,-1237.1745 208,-1227.7679 208,-1218.8786\" fill=\"none\" stroke=\"#000000\"/>\n<polygon fill=\"#000000\" points=\"211.5001,-1218.784 208,-1208.784 204.5001,-1218.784 211.5001,-1218.784\" stroke=\"#000000\"/>\n</g>\n<!-- 139966959193168 -->\n<g class=\"node\" id=\"node21\">\n<title>139966959193168</title>\n<polygon fill=\"none\" points=\"58.5,-1079.5 58.5,-1125.5 357.5,-1125.5 357.5,-1079.5 58.5,-1079.5\" stroke=\"#000000\"/>\n<text fill=\"#000000\" font-family=\"Times,serif\" font-size=\"14.00\" text-anchor=\"middle\" x=\"135.5\" y=\"-1098.8\">activation_5: Activation</text>\n<polyline fill=\"none\" points=\"212.5,-1079.5 212.5,-1125.5 \" stroke=\"#000000\"/>\n<text fill=\"#000000\" font-family=\"Times,serif\" font-size=\"14.00\" text-anchor=\"middle\" x=\"241.5\" y=\"-1110.3\">input:</text>\n<polyline fill=\"none\" points=\"212.5,-1102.5 270.5,-1102.5 \" stroke=\"#000000\"/>\n<text fill=\"#000000\" font-family=\"Times,serif\" font-size=\"14.00\" text-anchor=\"middle\" x=\"241.5\" y=\"-1087.3\">output:</text>\n<polyline fill=\"none\" points=\"270.5,-1079.5 270.5,-1125.5 \" stroke=\"#000000\"/>\n<text fill=\"#000000\" font-family=\"Times,serif\" font-size=\"14.00\" text-anchor=\"middle\" x=\"314\" y=\"-1110.3\">(None, 800)</text>\n<polyline fill=\"none\" points=\"270.5,-1102.5 357.5,-1102.5 \" stroke=\"#000000\"/>\n<text fill=\"#000000\" font-family=\"Times,serif\" font-size=\"14.00\" text-anchor=\"middle\" x=\"314\" y=\"-1087.3\">(None, 800)</text>\n</g>\n<!-- 139966959163880&#45;&gt;139966959193168 -->\n<g class=\"edge\" id=\"edge20\">\n<title>139966959163880-&gt;139966959193168</title>\n<path d=\"M208,-1162.3799C208,-1154.1745 208,-1144.7679 208,-1135.8786\" fill=\"none\" stroke=\"#000000\"/>\n<polygon fill=\"#000000\" points=\"211.5001,-1135.784 208,-1125.784 204.5001,-1135.784 211.5001,-1135.784\" stroke=\"#000000\"/>\n</g>\n<!-- 139966959215896 -->\n<g class=\"node\" id=\"node22\">\n<title>139966959215896</title>\n<polygon fill=\"none\" points=\"79,-996.5 79,-1042.5 337,-1042.5 337,-996.5 79,-996.5\" stroke=\"#000000\"/>\n<text fill=\"#000000\" font-family=\"Times,serif\" font-size=\"14.00\" text-anchor=\"middle\" x=\"135.5\" y=\"-1015.8\">dense_11: Dense</text>\n<polyline fill=\"none\" points=\"192,-996.5 192,-1042.5 \" stroke=\"#000000\"/>\n<text fill=\"#000000\" font-family=\"Times,serif\" font-size=\"14.00\" text-anchor=\"middle\" x=\"221\" y=\"-1027.3\">input:</text>\n<polyline fill=\"none\" points=\"192,-1019.5 250,-1019.5 \" stroke=\"#000000\"/>\n<text fill=\"#000000\" font-family=\"Times,serif\" font-size=\"14.00\" text-anchor=\"middle\" x=\"221\" y=\"-1004.3\">output:</text>\n<polyline fill=\"none\" points=\"250,-996.5 250,-1042.5 \" stroke=\"#000000\"/>\n<text fill=\"#000000\" font-family=\"Times,serif\" font-size=\"14.00\" text-anchor=\"middle\" x=\"293.5\" y=\"-1027.3\">(None, 800)</text>\n<polyline fill=\"none\" points=\"250,-1019.5 337,-1019.5 \" stroke=\"#000000\"/>\n<text fill=\"#000000\" font-family=\"Times,serif\" font-size=\"14.00\" text-anchor=\"middle\" x=\"293.5\" y=\"-1004.3\">(None, 800)</text>\n</g>\n<!-- 139966959193168&#45;&gt;139966959215896 -->\n<g class=\"edge\" id=\"edge21\">\n<title>139966959193168-&gt;139966959215896</title>\n<path d=\"M208,-1079.3799C208,-1071.1745 208,-1061.7679 208,-1052.8786\" fill=\"none\" stroke=\"#000000\"/>\n<polygon fill=\"#000000\" points=\"211.5001,-1052.784 208,-1042.784 204.5001,-1052.784 211.5001,-1052.784\" stroke=\"#000000\"/>\n</g>\n<!-- 139966958785928 -->\n<g class=\"node\" id=\"node23\">\n<title>139966958785928</title>\n<polygon fill=\"none\" points=\"78.5,-913.5 78.5,-959.5 337.5,-959.5 337.5,-913.5 78.5,-913.5\" stroke=\"#000000\"/>\n<text fill=\"#000000\" font-family=\"Times,serif\" font-size=\"14.00\" text-anchor=\"middle\" x=\"135.5\" y=\"-932.8\">dense_12: Dense</text>\n<polyline fill=\"none\" points=\"192.5,-913.5 192.5,-959.5 \" stroke=\"#000000\"/>\n<text fill=\"#000000\" font-family=\"Times,serif\" font-size=\"14.00\" text-anchor=\"middle\" x=\"221.5\" y=\"-944.3\">input:</text>\n<polyline fill=\"none\" points=\"192.5,-936.5 250.5,-936.5 \" stroke=\"#000000\"/>\n<text fill=\"#000000\" font-family=\"Times,serif\" font-size=\"14.00\" text-anchor=\"middle\" x=\"221.5\" y=\"-921.3\">output:</text>\n<polyline fill=\"none\" points=\"250.5,-913.5 250.5,-959.5 \" stroke=\"#000000\"/>\n<text fill=\"#000000\" font-family=\"Times,serif\" font-size=\"14.00\" text-anchor=\"middle\" x=\"294\" y=\"-944.3\">(None, 800)</text>\n<polyline fill=\"none\" points=\"250.5,-936.5 337.5,-936.5 \" stroke=\"#000000\"/>\n<text fill=\"#000000\" font-family=\"Times,serif\" font-size=\"14.00\" text-anchor=\"middle\" x=\"294\" y=\"-921.3\">(None, 800)</text>\n</g>\n<!-- 139966959215896&#45;&gt;139966958785928 -->\n<g class=\"edge\" id=\"edge22\">\n<title>139966959215896-&gt;139966958785928</title>\n<path d=\"M208,-996.3799C208,-988.1745 208,-978.7679 208,-969.8786\" fill=\"none\" stroke=\"#000000\"/>\n<polygon fill=\"#000000\" points=\"211.5001,-969.784 208,-959.784 204.5001,-969.784 211.5001,-969.784\" stroke=\"#000000\"/>\n</g>\n<!-- 139966958978832 -->\n<g class=\"node\" id=\"node24\">\n<title>139966958978832</title>\n<polygon fill=\"none\" points=\"0,-830.5 0,-876.5 416,-876.5 416,-830.5 0,-830.5\" stroke=\"#000000\"/>\n<text fill=\"#000000\" font-family=\"Times,serif\" font-size=\"14.00\" text-anchor=\"middle\" x=\"135.5\" y=\"-849.8\">batch_normalization_6: BatchNormalization</text>\n<polyline fill=\"none\" points=\"271,-830.5 271,-876.5 \" stroke=\"#000000\"/>\n<text fill=\"#000000\" font-family=\"Times,serif\" font-size=\"14.00\" text-anchor=\"middle\" x=\"300\" y=\"-861.3\">input:</text>\n<polyline fill=\"none\" points=\"271,-853.5 329,-853.5 \" stroke=\"#000000\"/>\n<text fill=\"#000000\" font-family=\"Times,serif\" font-size=\"14.00\" text-anchor=\"middle\" x=\"300\" y=\"-838.3\">output:</text>\n<polyline fill=\"none\" points=\"329,-830.5 329,-876.5 \" stroke=\"#000000\"/>\n<text fill=\"#000000\" font-family=\"Times,serif\" font-size=\"14.00\" text-anchor=\"middle\" x=\"372.5\" y=\"-861.3\">(None, 800)</text>\n<polyline fill=\"none\" points=\"329,-853.5 416,-853.5 \" stroke=\"#000000\"/>\n<text fill=\"#000000\" font-family=\"Times,serif\" font-size=\"14.00\" text-anchor=\"middle\" x=\"372.5\" y=\"-838.3\">(None, 800)</text>\n</g>\n<!-- 139966958785928&#45;&gt;139966958978832 -->\n<g class=\"edge\" id=\"edge23\">\n<title>139966958785928-&gt;139966958978832</title>\n<path d=\"M208,-913.3799C208,-905.1745 208,-895.7679 208,-886.8786\" fill=\"none\" stroke=\"#000000\"/>\n<polygon fill=\"#000000\" points=\"211.5001,-886.784 208,-876.784 204.5001,-886.784 211.5001,-886.784\" stroke=\"#000000\"/>\n</g>\n<!-- 139966959009072 -->\n<g class=\"node\" id=\"node25\">\n<title>139966959009072</title>\n<polygon fill=\"none\" points=\"58.5,-747.5 58.5,-793.5 357.5,-793.5 357.5,-747.5 58.5,-747.5\" stroke=\"#000000\"/>\n<text fill=\"#000000\" font-family=\"Times,serif\" font-size=\"14.00\" text-anchor=\"middle\" x=\"135.5\" y=\"-766.8\">activation_6: Activation</text>\n<polyline fill=\"none\" points=\"212.5,-747.5 212.5,-793.5 \" stroke=\"#000000\"/>\n<text fill=\"#000000\" font-family=\"Times,serif\" font-size=\"14.00\" text-anchor=\"middle\" x=\"241.5\" y=\"-778.3\">input:</text>\n<polyline fill=\"none\" points=\"212.5,-770.5 270.5,-770.5 \" stroke=\"#000000\"/>\n<text fill=\"#000000\" font-family=\"Times,serif\" font-size=\"14.00\" text-anchor=\"middle\" x=\"241.5\" y=\"-755.3\">output:</text>\n<polyline fill=\"none\" points=\"270.5,-747.5 270.5,-793.5 \" stroke=\"#000000\"/>\n<text fill=\"#000000\" font-family=\"Times,serif\" font-size=\"14.00\" text-anchor=\"middle\" x=\"314\" y=\"-778.3\">(None, 800)</text>\n<polyline fill=\"none\" points=\"270.5,-770.5 357.5,-770.5 \" stroke=\"#000000\"/>\n<text fill=\"#000000\" font-family=\"Times,serif\" font-size=\"14.00\" text-anchor=\"middle\" x=\"314\" y=\"-755.3\">(None, 800)</text>\n</g>\n<!-- 139966958978832&#45;&gt;139966959009072 -->\n<g class=\"edge\" id=\"edge24\">\n<title>139966958978832-&gt;139966959009072</title>\n<path d=\"M208,-830.3799C208,-822.1745 208,-812.7679 208,-803.8786\" fill=\"none\" stroke=\"#000000\"/>\n<polygon fill=\"#000000\" points=\"211.5001,-803.784 208,-793.784 204.5001,-803.784 211.5001,-803.784\" stroke=\"#000000\"/>\n</g>\n<!-- 139966959023608 -->\n<g class=\"node\" id=\"node26\">\n<title>139966959023608</title>\n<polygon fill=\"none\" points=\"78.5,-664.5 78.5,-710.5 337.5,-710.5 337.5,-664.5 78.5,-664.5\" stroke=\"#000000\"/>\n<text fill=\"#000000\" font-family=\"Times,serif\" font-size=\"14.00\" text-anchor=\"middle\" x=\"135.5\" y=\"-683.8\">dense_13: Dense</text>\n<polyline fill=\"none\" points=\"192.5,-664.5 192.5,-710.5 \" stroke=\"#000000\"/>\n<text fill=\"#000000\" font-family=\"Times,serif\" font-size=\"14.00\" text-anchor=\"middle\" x=\"221.5\" y=\"-695.3\">input:</text>\n<polyline fill=\"none\" points=\"192.5,-687.5 250.5,-687.5 \" stroke=\"#000000\"/>\n<text fill=\"#000000\" font-family=\"Times,serif\" font-size=\"14.00\" text-anchor=\"middle\" x=\"221.5\" y=\"-672.3\">output:</text>\n<polyline fill=\"none\" points=\"250.5,-664.5 250.5,-710.5 \" stroke=\"#000000\"/>\n<text fill=\"#000000\" font-family=\"Times,serif\" font-size=\"14.00\" text-anchor=\"middle\" x=\"294\" y=\"-695.3\">(None, 800)</text>\n<polyline fill=\"none\" points=\"250.5,-687.5 337.5,-687.5 \" stroke=\"#000000\"/>\n<text fill=\"#000000\" font-family=\"Times,serif\" font-size=\"14.00\" text-anchor=\"middle\" x=\"294\" y=\"-672.3\">(None, 800)</text>\n</g>\n<!-- 139966959009072&#45;&gt;139966959023608 -->\n<g class=\"edge\" id=\"edge25\">\n<title>139966959009072-&gt;139966959023608</title>\n<path d=\"M208,-747.3799C208,-739.1745 208,-729.7679 208,-720.8786\" fill=\"none\" stroke=\"#000000\"/>\n<polygon fill=\"#000000\" points=\"211.5001,-720.784 208,-710.784 204.5001,-720.784 211.5001,-720.784\" stroke=\"#000000\"/>\n</g>\n<!-- 139966958614120 -->\n<g class=\"node\" id=\"node27\">\n<title>139966958614120</title>\n<polygon fill=\"none\" points=\"78.5,-581.5 78.5,-627.5 337.5,-627.5 337.5,-581.5 78.5,-581.5\" stroke=\"#000000\"/>\n<text fill=\"#000000\" font-family=\"Times,serif\" font-size=\"14.00\" text-anchor=\"middle\" x=\"135.5\" y=\"-600.8\">dense_14: Dense</text>\n<polyline fill=\"none\" points=\"192.5,-581.5 192.5,-627.5 \" stroke=\"#000000\"/>\n<text fill=\"#000000\" font-family=\"Times,serif\" font-size=\"14.00\" text-anchor=\"middle\" x=\"221.5\" y=\"-612.3\">input:</text>\n<polyline fill=\"none\" points=\"192.5,-604.5 250.5,-604.5 \" stroke=\"#000000\"/>\n<text fill=\"#000000\" font-family=\"Times,serif\" font-size=\"14.00\" text-anchor=\"middle\" x=\"221.5\" y=\"-589.3\">output:</text>\n<polyline fill=\"none\" points=\"250.5,-581.5 250.5,-627.5 \" stroke=\"#000000\"/>\n<text fill=\"#000000\" font-family=\"Times,serif\" font-size=\"14.00\" text-anchor=\"middle\" x=\"294\" y=\"-612.3\">(None, 800)</text>\n<polyline fill=\"none\" points=\"250.5,-604.5 337.5,-604.5 \" stroke=\"#000000\"/>\n<text fill=\"#000000\" font-family=\"Times,serif\" font-size=\"14.00\" text-anchor=\"middle\" x=\"294\" y=\"-589.3\">(None, 800)</text>\n</g>\n<!-- 139966959023608&#45;&gt;139966958614120 -->\n<g class=\"edge\" id=\"edge26\">\n<title>139966959023608-&gt;139966958614120</title>\n<path d=\"M208,-664.3799C208,-656.1745 208,-646.7679 208,-637.8786\" fill=\"none\" stroke=\"#000000\"/>\n<polygon fill=\"#000000\" points=\"211.5001,-637.784 208,-627.784 204.5001,-637.784 211.5001,-637.784\" stroke=\"#000000\"/>\n</g>\n<!-- 139966958266352 -->\n<g class=\"node\" id=\"node28\">\n<title>139966958266352</title>\n<polygon fill=\"none\" points=\"0,-498.5 0,-544.5 416,-544.5 416,-498.5 0,-498.5\" stroke=\"#000000\"/>\n<text fill=\"#000000\" font-family=\"Times,serif\" font-size=\"14.00\" text-anchor=\"middle\" x=\"135.5\" y=\"-517.8\">batch_normalization_7: BatchNormalization</text>\n<polyline fill=\"none\" points=\"271,-498.5 271,-544.5 \" stroke=\"#000000\"/>\n<text fill=\"#000000\" font-family=\"Times,serif\" font-size=\"14.00\" text-anchor=\"middle\" x=\"300\" y=\"-529.3\">input:</text>\n<polyline fill=\"none\" points=\"271,-521.5 329,-521.5 \" stroke=\"#000000\"/>\n<text fill=\"#000000\" font-family=\"Times,serif\" font-size=\"14.00\" text-anchor=\"middle\" x=\"300\" y=\"-506.3\">output:</text>\n<polyline fill=\"none\" points=\"329,-498.5 329,-544.5 \" stroke=\"#000000\"/>\n<text fill=\"#000000\" font-family=\"Times,serif\" font-size=\"14.00\" text-anchor=\"middle\" x=\"372.5\" y=\"-529.3\">(None, 800)</text>\n<polyline fill=\"none\" points=\"329,-521.5 416,-521.5 \" stroke=\"#000000\"/>\n<text fill=\"#000000\" font-family=\"Times,serif\" font-size=\"14.00\" text-anchor=\"middle\" x=\"372.5\" y=\"-506.3\">(None, 800)</text>\n</g>\n<!-- 139966958614120&#45;&gt;139966958266352 -->\n<g class=\"edge\" id=\"edge27\">\n<title>139966958614120-&gt;139966958266352</title>\n<path d=\"M208,-581.3799C208,-573.1745 208,-563.7679 208,-554.8786\" fill=\"none\" stroke=\"#000000\"/>\n<polygon fill=\"#000000\" points=\"211.5001,-554.784 208,-544.784 204.5001,-554.784 211.5001,-554.784\" stroke=\"#000000\"/>\n</g>\n<!-- 139966958296592 -->\n<g class=\"node\" id=\"node29\">\n<title>139966958296592</title>\n<polygon fill=\"none\" points=\"58.5,-415.5 58.5,-461.5 357.5,-461.5 357.5,-415.5 58.5,-415.5\" stroke=\"#000000\"/>\n<text fill=\"#000000\" font-family=\"Times,serif\" font-size=\"14.00\" text-anchor=\"middle\" x=\"135.5\" y=\"-434.8\">activation_7: Activation</text>\n<polyline fill=\"none\" points=\"212.5,-415.5 212.5,-461.5 \" stroke=\"#000000\"/>\n<text fill=\"#000000\" font-family=\"Times,serif\" font-size=\"14.00\" text-anchor=\"middle\" x=\"241.5\" y=\"-446.3\">input:</text>\n<polyline fill=\"none\" points=\"212.5,-438.5 270.5,-438.5 \" stroke=\"#000000\"/>\n<text fill=\"#000000\" font-family=\"Times,serif\" font-size=\"14.00\" text-anchor=\"middle\" x=\"241.5\" y=\"-423.3\">output:</text>\n<polyline fill=\"none\" points=\"270.5,-415.5 270.5,-461.5 \" stroke=\"#000000\"/>\n<text fill=\"#000000\" font-family=\"Times,serif\" font-size=\"14.00\" text-anchor=\"middle\" x=\"314\" y=\"-446.3\">(None, 800)</text>\n<polyline fill=\"none\" points=\"270.5,-438.5 357.5,-438.5 \" stroke=\"#000000\"/>\n<text fill=\"#000000\" font-family=\"Times,serif\" font-size=\"14.00\" text-anchor=\"middle\" x=\"314\" y=\"-423.3\">(None, 800)</text>\n</g>\n<!-- 139966958266352&#45;&gt;139966958296592 -->\n<g class=\"edge\" id=\"edge28\">\n<title>139966958266352-&gt;139966958296592</title>\n<path d=\"M208,-498.3799C208,-490.1745 208,-480.7679 208,-471.8786\" fill=\"none\" stroke=\"#000000\"/>\n<polygon fill=\"#000000\" points=\"211.5001,-471.784 208,-461.784 204.5001,-471.784 211.5001,-471.784\" stroke=\"#000000\"/>\n</g>\n<!-- 139966958319320 -->\n<g class=\"node\" id=\"node30\">\n<title>139966958319320</title>\n<polygon fill=\"none\" points=\"78.5,-332.5 78.5,-378.5 337.5,-378.5 337.5,-332.5 78.5,-332.5\" stroke=\"#000000\"/>\n<text fill=\"#000000\" font-family=\"Times,serif\" font-size=\"14.00\" text-anchor=\"middle\" x=\"135.5\" y=\"-351.8\">dense_15: Dense</text>\n<polyline fill=\"none\" points=\"192.5,-332.5 192.5,-378.5 \" stroke=\"#000000\"/>\n<text fill=\"#000000\" font-family=\"Times,serif\" font-size=\"14.00\" text-anchor=\"middle\" x=\"221.5\" y=\"-363.3\">input:</text>\n<polyline fill=\"none\" points=\"192.5,-355.5 250.5,-355.5 \" stroke=\"#000000\"/>\n<text fill=\"#000000\" font-family=\"Times,serif\" font-size=\"14.00\" text-anchor=\"middle\" x=\"221.5\" y=\"-340.3\">output:</text>\n<polyline fill=\"none\" points=\"250.5,-332.5 250.5,-378.5 \" stroke=\"#000000\"/>\n<text fill=\"#000000\" font-family=\"Times,serif\" font-size=\"14.00\" text-anchor=\"middle\" x=\"294\" y=\"-363.3\">(None, 800)</text>\n<polyline fill=\"none\" points=\"250.5,-355.5 337.5,-355.5 \" stroke=\"#000000\"/>\n<text fill=\"#000000\" font-family=\"Times,serif\" font-size=\"14.00\" text-anchor=\"middle\" x=\"294\" y=\"-340.3\">(None, 800)</text>\n</g>\n<!-- 139966958296592&#45;&gt;139966958319320 -->\n<g class=\"edge\" id=\"edge29\">\n<title>139966958296592-&gt;139966958319320</title>\n<path d=\"M208,-415.3799C208,-407.1745 208,-397.7679 208,-388.8786\" fill=\"none\" stroke=\"#000000\"/>\n<polygon fill=\"#000000\" points=\"211.5001,-388.784 208,-378.784 204.5001,-388.784 211.5001,-388.784\" stroke=\"#000000\"/>\n</g>\n<!-- 139966958430024 -->\n<g class=\"node\" id=\"node31\">\n<title>139966958430024</title>\n<polygon fill=\"none\" points=\"78.5,-249.5 78.5,-295.5 337.5,-295.5 337.5,-249.5 78.5,-249.5\" stroke=\"#000000\"/>\n<text fill=\"#000000\" font-family=\"Times,serif\" font-size=\"14.00\" text-anchor=\"middle\" x=\"135.5\" y=\"-268.8\">dense_16: Dense</text>\n<polyline fill=\"none\" points=\"192.5,-249.5 192.5,-295.5 \" stroke=\"#000000\"/>\n<text fill=\"#000000\" font-family=\"Times,serif\" font-size=\"14.00\" text-anchor=\"middle\" x=\"221.5\" y=\"-280.3\">input:</text>\n<polyline fill=\"none\" points=\"192.5,-272.5 250.5,-272.5 \" stroke=\"#000000\"/>\n<text fill=\"#000000\" font-family=\"Times,serif\" font-size=\"14.00\" text-anchor=\"middle\" x=\"221.5\" y=\"-257.3\">output:</text>\n<polyline fill=\"none\" points=\"250.5,-249.5 250.5,-295.5 \" stroke=\"#000000\"/>\n<text fill=\"#000000\" font-family=\"Times,serif\" font-size=\"14.00\" text-anchor=\"middle\" x=\"294\" y=\"-280.3\">(None, 800)</text>\n<polyline fill=\"none\" points=\"250.5,-272.5 337.5,-272.5 \" stroke=\"#000000\"/>\n<text fill=\"#000000\" font-family=\"Times,serif\" font-size=\"14.00\" text-anchor=\"middle\" x=\"294\" y=\"-257.3\">(None, 800)</text>\n</g>\n<!-- 139966958319320&#45;&gt;139966958430024 -->\n<g class=\"edge\" id=\"edge30\">\n<title>139966958319320-&gt;139966958430024</title>\n<path d=\"M208,-332.3799C208,-324.1745 208,-314.7679 208,-305.8786\" fill=\"none\" stroke=\"#000000\"/>\n<polygon fill=\"#000000\" points=\"211.5001,-305.784 208,-295.784 204.5001,-305.784 211.5001,-305.784\" stroke=\"#000000\"/>\n</g>\n<!-- 139966957824208 -->\n<g class=\"node\" id=\"node32\">\n<title>139966957824208</title>\n<polygon fill=\"none\" points=\"0,-166.5 0,-212.5 416,-212.5 416,-166.5 0,-166.5\" stroke=\"#000000\"/>\n<text fill=\"#000000\" font-family=\"Times,serif\" font-size=\"14.00\" text-anchor=\"middle\" x=\"135.5\" y=\"-185.8\">batch_normalization_8: BatchNormalization</text>\n<polyline fill=\"none\" points=\"271,-166.5 271,-212.5 \" stroke=\"#000000\"/>\n<text fill=\"#000000\" font-family=\"Times,serif\" font-size=\"14.00\" text-anchor=\"middle\" x=\"300\" y=\"-197.3\">input:</text>\n<polyline fill=\"none\" points=\"271,-189.5 329,-189.5 \" stroke=\"#000000\"/>\n<text fill=\"#000000\" font-family=\"Times,serif\" font-size=\"14.00\" text-anchor=\"middle\" x=\"300\" y=\"-174.3\">output:</text>\n<polyline fill=\"none\" points=\"329,-166.5 329,-212.5 \" stroke=\"#000000\"/>\n<text fill=\"#000000\" font-family=\"Times,serif\" font-size=\"14.00\" text-anchor=\"middle\" x=\"372.5\" y=\"-197.3\">(None, 800)</text>\n<polyline fill=\"none\" points=\"329,-189.5 416,-189.5 \" stroke=\"#000000\"/>\n<text fill=\"#000000\" font-family=\"Times,serif\" font-size=\"14.00\" text-anchor=\"middle\" x=\"372.5\" y=\"-174.3\">(None, 800)</text>\n</g>\n<!-- 139966958430024&#45;&gt;139966957824208 -->\n<g class=\"edge\" id=\"edge31\">\n<title>139966958430024-&gt;139966957824208</title>\n<path d=\"M208,-249.3799C208,-241.1745 208,-231.7679 208,-222.8786\" fill=\"none\" stroke=\"#000000\"/>\n<polygon fill=\"#000000\" points=\"211.5001,-222.784 208,-212.784 204.5001,-222.784 211.5001,-222.784\" stroke=\"#000000\"/>\n</g>\n<!-- 139966957866512 -->\n<g class=\"node\" id=\"node33\">\n<title>139966957866512</title>\n<polygon fill=\"none\" points=\"58.5,-83.5 58.5,-129.5 357.5,-129.5 357.5,-83.5 58.5,-83.5\" stroke=\"#000000\"/>\n<text fill=\"#000000\" font-family=\"Times,serif\" font-size=\"14.00\" text-anchor=\"middle\" x=\"135.5\" y=\"-102.8\">activation_8: Activation</text>\n<polyline fill=\"none\" points=\"212.5,-83.5 212.5,-129.5 \" stroke=\"#000000\"/>\n<text fill=\"#000000\" font-family=\"Times,serif\" font-size=\"14.00\" text-anchor=\"middle\" x=\"241.5\" y=\"-114.3\">input:</text>\n<polyline fill=\"none\" points=\"212.5,-106.5 270.5,-106.5 \" stroke=\"#000000\"/>\n<text fill=\"#000000\" font-family=\"Times,serif\" font-size=\"14.00\" text-anchor=\"middle\" x=\"241.5\" y=\"-91.3\">output:</text>\n<polyline fill=\"none\" points=\"270.5,-83.5 270.5,-129.5 \" stroke=\"#000000\"/>\n<text fill=\"#000000\" font-family=\"Times,serif\" font-size=\"14.00\" text-anchor=\"middle\" x=\"314\" y=\"-114.3\">(None, 800)</text>\n<polyline fill=\"none\" points=\"270.5,-106.5 357.5,-106.5 \" stroke=\"#000000\"/>\n<text fill=\"#000000\" font-family=\"Times,serif\" font-size=\"14.00\" text-anchor=\"middle\" x=\"314\" y=\"-91.3\">(None, 800)</text>\n</g>\n<!-- 139966957824208&#45;&gt;139966957866512 -->\n<g class=\"edge\" id=\"edge32\">\n<title>139966957824208-&gt;139966957866512</title>\n<path d=\"M208,-166.3799C208,-158.1745 208,-148.7679 208,-139.8786\" fill=\"none\" stroke=\"#000000\"/>\n<polygon fill=\"#000000\" points=\"211.5001,-139.784 208,-129.784 204.5001,-139.784 211.5001,-139.784\" stroke=\"#000000\"/>\n</g>\n<!-- 139966957881272 -->\n<g class=\"node\" id=\"node34\">\n<title>139966957881272</title>\n<polygon fill=\"none\" points=\"78.5,-.5 78.5,-46.5 337.5,-46.5 337.5,-.5 78.5,-.5\" stroke=\"#000000\"/>\n<text fill=\"#000000\" font-family=\"Times,serif\" font-size=\"14.00\" text-anchor=\"middle\" x=\"135.5\" y=\"-19.8\">dense_17: Dense</text>\n<polyline fill=\"none\" points=\"192.5,-.5 192.5,-46.5 \" stroke=\"#000000\"/>\n<text fill=\"#000000\" font-family=\"Times,serif\" font-size=\"14.00\" text-anchor=\"middle\" x=\"221.5\" y=\"-31.3\">input:</text>\n<polyline fill=\"none\" points=\"192.5,-23.5 250.5,-23.5 \" stroke=\"#000000\"/>\n<text fill=\"#000000\" font-family=\"Times,serif\" font-size=\"14.00\" text-anchor=\"middle\" x=\"221.5\" y=\"-8.3\">output:</text>\n<polyline fill=\"none\" points=\"250.5,-.5 250.5,-46.5 \" stroke=\"#000000\"/>\n<text fill=\"#000000\" font-family=\"Times,serif\" font-size=\"14.00\" text-anchor=\"middle\" x=\"294\" y=\"-31.3\">(None, 800)</text>\n<polyline fill=\"none\" points=\"250.5,-23.5 337.5,-23.5 \" stroke=\"#000000\"/>\n<text fill=\"#000000\" font-family=\"Times,serif\" font-size=\"14.00\" text-anchor=\"middle\" x=\"294\" y=\"-8.3\">(None, 4)</text>\n</g>\n<!-- 139966957866512&#45;&gt;139966957881272 -->\n<g class=\"edge\" id=\"edge33\">\n<title>139966957866512-&gt;139966957881272</title>\n<path d=\"M208,-83.3799C208,-75.1745 208,-65.7679 208,-56.8786\" fill=\"none\" stroke=\"#000000\"/>\n<polygon fill=\"#000000\" points=\"211.5001,-56.784 208,-46.784 204.5001,-56.784 211.5001,-56.784\" stroke=\"#000000\"/>\n</g>\n</g>\n</svg>"
          },
          "metadata": {
            "tags": []
          },
          "execution_count": 11
        }
      ]
    },
    {
      "cell_type": "code",
      "metadata": {
        "id": "PtD82zROogDP",
        "colab_type": "code",
        "outputId": "30a4209b-c0ca-4868-e613-d373a933d2a5",
        "colab": {
          "base_uri": "https://localhost:8080/",
          "height": 280
        }
      },
      "source": [
        "# 학습 과정\n",
        "\n",
        "%matplotlib inline\n",
        "import matplotlib.pyplot as plt\n",
        "\n",
        "fig, loss_ax = plt.subplots()\n",
        "\n",
        "acc_ax = loss_ax.twinx()\n",
        "\n",
        "loss_ax.plot(hist.history['loss'], 'y', label='train loss')\n",
        "loss_ax.plot(hist.history['val_loss'], 'r', label='val loss')\n",
        "\n",
        "acc_ax.plot(hist.history['acc'], 'b', label='train acc')\n",
        "acc_ax.plot(hist.history['val_acc'], 'g', label='val acc')\n",
        "\n",
        "loss_ax.set_xlabel('epoch')\n",
        "loss_ax.set_ylabel('loss')\n",
        "acc_ax.set_ylabel('mean absolute error')\n",
        "\n",
        "loss_ax.legend(loc='upper left')\n",
        "acc_ax.legend(loc='lower left')\n",
        "\n",
        "plt.show()"
      ],
      "execution_count": 0,
      "outputs": [
        {
          "output_type": "display_data",
          "data": {
            "image/png": "[encoded data removed]",
            "text/plain": [
              "<Figure size 432x288 with 2 Axes>"
            ]
          },
          "metadata": {
            "tags": []
          }
        }
      ]
    },
    {
      "cell_type": "code",
      "metadata": {
        "id": "XRMuL2mFogIP",
        "colab_type": "code",
        "colab": {}
      },
      "source": [
        "# 예측값을 생성합니다.\n",
        "\n",
        "pred_test = model.predict(test_X)"
      ],
      "execution_count": 0,
      "outputs": []
    },
    {
      "cell_type": "code",
      "metadata": {
        "id": "uv6yp_Hzoq4Q",
        "colab_type": "code",
        "colab": {}
      },
      "source": [
        "# submission 파일을 생성합니다.\n",
        "sample_sub = pd.read_csv('/gdrive/My Drive/DACON-semiconductor-competition/dataset/sample_submission.csv', index_col=0)\n",
        "submission = sample_sub+pred_test\n",
        "submission.to_csv('/gdrive/My Drive/DACON-semiconductor-competition/submission_17.csv')"
      ],
      "execution_count": 0,
      "outputs": []
    },
    {
      "cell_type": "code",
      "metadata": {
        "id": "Jz6dWCiWpE-K",
        "colab_type": "code",
        "colab": {}
      },
      "source": [
        "# 학습된 모델을 저장합니다.\n",
        "\n",
        "model.save('/gdrive/My Drive/DACON-semiconductor-competition/model_17.h5')"
      ],
      "execution_count": 0,
      "outputs": []
    },
    {
      "cell_type": "markdown",
      "metadata": {
        "id": "L3IaqhJqmV_5",
        "colab_type": "text"
      },
      "source": [
        "### Bayesian Optimization\n",
        "http://research.sualab.com/introduction/practice/2019/02/19/bayesian-optimization-overview-1.html<br>\n",
        "http://research.sualab.com/introduction/practice/2019/04/01/bayesian-optimization-overview-2.html<br>"
      ]
    },
    {
      "cell_type": "markdown",
      "metadata": {
        "id": "RNwDuaRWmWg4",
        "colab_type": "text"
      },
      "source": [
        "### Swish Activation\n",
        "https://www.machinecurve.com/index.php/2019/05/30/why-swish-could-perform-better-than-relu/#todays-activation-functions"
      ]
    }
  ]
}