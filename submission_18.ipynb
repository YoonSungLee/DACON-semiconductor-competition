{
  "nbformat": 4,
  "nbformat_minor": 0,
  "metadata": {
    "colab": {
      "name": "submission_18.ipynb",
      "provenance": [],
      "collapsed_sections": [],
      "authorship_tag": "ABX9TyM0AS0UbsGgRtHdQFlo+I2Z",
      "include_colab_link": true
    },
    "kernelspec": {
      "name": "python3",
      "display_name": "Python 3"
    },
    "accelerator": "GPU"
  },
  "cells": [
    {
      "cell_type": "markdown",
      "metadata": {
        "id": "view-in-github",
        "colab_type": "text"
      },
      "source": [
        "<a href=\"https://colab.research.google.com/github/Inha-AI/DACON-semiconductor-competition/blob/feature%2FYoonSungLee/submission_18.ipynb\" target=\"_parent\"><img src=\"https://colab.research.google.com/assets/colab-badge.svg\" alt=\"Open In Colab\"/></a>"
      ]
    },
    {
      "cell_type": "code",
      "metadata": {
        "id": "NBPfb1Jhq4TA",
        "colab_type": "code",
        "outputId": "2bab44d1-77c9-488c-f295-77cd0ea4a54b",
        "colab": {
          "base_uri": "https://localhost:8080/",
          "height": 260
        }
      },
      "source": [
        "pip install bayesian-optimization"
      ],
      "execution_count": 0,
      "outputs": [
        {
          "output_type": "stream",
          "text": [
            "Collecting bayesian-optimization\n",
            "  Downloading https://files.pythonhosted.org/packages/72/0c/173ac467d0a53e33e41b521e4ceba74a8ac7c7873d7b857a8fbdca88302d/bayesian-optimization-1.0.1.tar.gz\n",
            "Requirement already satisfied: numpy>=1.9.0 in /usr/local/lib/python3.6/dist-packages (from bayesian-optimization) (1.17.5)\n",
            "Requirement already satisfied: scipy>=0.14.0 in /usr/local/lib/python3.6/dist-packages (from bayesian-optimization) (1.4.1)\n",
            "Requirement already satisfied: scikit-learn>=0.18.0 in /usr/local/lib/python3.6/dist-packages (from bayesian-optimization) (0.22.1)\n",
            "Requirement already satisfied: joblib>=0.11 in /usr/local/lib/python3.6/dist-packages (from scikit-learn>=0.18.0->bayesian-optimization) (0.14.1)\n",
            "Building wheels for collected packages: bayesian-optimization\n",
            "  Building wheel for bayesian-optimization (setup.py) ... \u001b[?25l\u001b[?25hdone\n",
            "  Created wheel for bayesian-optimization: filename=bayesian_optimization-1.0.1-cp36-none-any.whl size=10032 sha256=e60d45952380d5434c7d26f1378916de0e9627cfc1b6e3c19a1790856729817a\n",
            "  Stored in directory: /root/.cache/pip/wheels/1d/0d/3b/6b9d4477a34b3905f246ff4e7acf6aafd4cc9b77d473629b77\n",
            "Successfully built bayesian-optimization\n",
            "Installing collected packages: bayesian-optimization\n",
            "Successfully installed bayesian-optimization-1.0.1\n"
          ],
          "name": "stdout"
        }
      ]
    },
    {
      "cell_type": "code",
      "metadata": {
        "id": "0vVeUdyssBKw",
        "colab_type": "code",
        "outputId": "4440003d-3add-4f2f-f819-27e1645ea30d",
        "colab": {
          "base_uri": "https://localhost:8080/",
          "height": 84
        }
      },
      "source": [
        "import numpy as np\n",
        "import pandas as pd\n",
        "import matplotlib.pyplot as plt\n",
        "import keras\n",
        "from keras.models import Sequential\n",
        "from keras.layers import Dense, Activation, Dropout\n",
        "from keras.layers import BatchNormalization\n",
        "from sklearn.model_selection import train_test_split\n",
        "from bayes_opt import BayesianOptimization"
      ],
      "execution_count": 0,
      "outputs": [
        {
          "output_type": "stream",
          "text": [
            "Using TensorFlow backend.\n"
          ],
          "name": "stderr"
        },
        {
          "output_type": "display_data",
          "data": {
            "text/html": [
              "<p style=\"color: red;\">\n",
              "The default version of TensorFlow in Colab will soon switch to TensorFlow 2.x.<br>\n",
              "We recommend you <a href=\"https://www.tensorflow.org/guide/migrate\" target=\"_blank\">upgrade</a> now \n",
              "or ensure your notebook will continue to use TensorFlow 1.x via the <code>%tensorflow_version 1.x</code> magic:\n",
              "<a href=\"https://colab.research.google.com/notebooks/tensorflow_version.ipynb\" target=\"_blank\">more info</a>.</p>\n"
            ],
            "text/plain": [
              "<IPython.core.display.HTML object>"
            ]
          },
          "metadata": {
            "tags": []
          }
        }
      ]
    },
    {
      "cell_type": "code",
      "metadata": {
        "id": "EwHXDEigsNB0",
        "colab_type": "code",
        "outputId": "bf5d746e-1457-4466-e22e-49829cf199ef",
        "colab": {
          "base_uri": "https://localhost:8080/",
          "height": 131
        }
      },
      "source": [
        "from google.colab import drive\n",
        "drive.mount('/gdrive')"
      ],
      "execution_count": 0,
      "outputs": [
        {
          "output_type": "stream",
          "text": [
            "Go to this URL in a browser: https://accounts.google.com/o/oauth2/auth?client_id=947318989803-6bn6qk8qdgf4n4g3pfee6491hc0brc4i.apps.googleusercontent.com&redirect_uri=urn%3aietf%3awg%3aoauth%3a2.0%3aoob&response_type=code&scope=email%20https%3a%2f%2fwww.googleapis.com%2fauth%2fdocs.test%20https%3a%2f%2fwww.googleapis.com%2fauth%2fdrive%20https%3a%2f%2fwww.googleapis.com%2fauth%2fdrive.photos.readonly%20https%3a%2f%2fwww.googleapis.com%2fauth%2fpeopleapi.readonly\n",
            "\n",
            "Enter your authorization code:\n",
            "··········\n",
            "Mounted at /gdrive\n"
          ],
          "name": "stdout"
        }
      ]
    },
    {
      "cell_type": "code",
      "metadata": {
        "id": "hQF6BGGF1DqH",
        "colab_type": "code",
        "colab": {}
      },
      "source": [
        "# 데이터 자료형을 적절히 변형시켜 데이터의 크기를 줄이는 방법\n",
        "\n",
        "# for col in df_train.columns:\n",
        "#     col_type = df_train[col].dtypes\n",
        "#     min1 = df_train[col].min()\n",
        "#     max1 = df_train[col].max()\n",
        "#     if str(col_type)[:3] == 'int':\n",
        "#         df_train[col] = df_train[col].astype(np.int16)\n",
        "#     else:\n",
        "#         if min1 > np.finfo(np.float16).min and max1 < np.finfo(np.float16).max:\n",
        "#             df_train[col] = trdf_trainain[col].astype(np.float16)\n",
        "#         elif min1 > np.finfo(np.float32).min and max1 < np.finfo(np.float32).max:\n",
        "#             df_train[col] = df_train[col].astype(np.float32)\n",
        "#         else:\n",
        "#             df_train[col] = df_train[col].astype(np.float64)"
      ],
      "execution_count": 0,
      "outputs": []
    },
    {
      "cell_type": "code",
      "metadata": {
        "id": "-BNXAU5rsPJS",
        "colab_type": "code",
        "colab": {}
      },
      "source": [
        "df_train = pd.read_csv('/gdrive/My Drive/DACON-semiconductor-competition/dataset/train.csv')\n",
        "df_test = pd.read_csv('/gdrive/My Drive/DACON-semiconductor-competition/dataset/test.csv')"
      ],
      "execution_count": 0,
      "outputs": []
    },
    {
      "cell_type": "code",
      "metadata": {
        "id": "TdYXclfgsVr6",
        "colab_type": "code",
        "colab": {}
      },
      "source": [
        "# 독립변수와 종속변수를 분리합니다.\n",
        "\n",
        "train_X = df_train.iloc[:,4:]\n",
        "train_Y = df_train.iloc[:,0:4]\n",
        "test_X = df_test.iloc[:,1:]"
      ],
      "execution_count": 0,
      "outputs": []
    },
    {
      "cell_type": "code",
      "metadata": {
        "id": "Ogdcz8YctuVW",
        "colab_type": "code",
        "colab": {}
      },
      "source": [
        "# train set을 shuffle하여 다시 train set과 validation set으로 분리합니다.\n",
        "\n",
        "train_X, val_X, train_Y, val_Y = train_test_split(train_X, train_Y, test_size=0.25)"
      ],
      "execution_count": 0,
      "outputs": []
    },
    {
      "cell_type": "markdown",
      "metadata": {
        "id": "8tT4w6XasaSQ",
        "colab_type": "text"
      },
      "source": [
        "# Model 18"
      ]
    },
    {
      "cell_type": "markdown",
      "metadata": {
        "id": "4PSSfoS5sfWK",
        "colab_type": "text"
      },
      "source": [
        "* 17 layers\n",
        "* 800 units, he_normal, swish\n",
        "* BatchNormalization\n",
        "* Adam(0.001)\n",
        "* epochs 200\n",
        "* batch_size 630\n",
        "<br><br>\n",
        "* [layer] - [layer] - [BatchNormalization] 층을 더더욱 깊게 모델링\n",
        "* 마지막 층은 BatchNormalization 제외"
      ]
    },
    {
      "cell_type": "code",
      "metadata": {
        "id": "SGEkxH551LkF",
        "colab_type": "code",
        "colab": {}
      },
      "source": [
        "# 케라스를 통해 모델 생성을 시작합니다.\n",
        "\n",
        "def create_model():\n",
        "    model = Sequential()\n",
        "    model.add(Dense(units=800, input_dim=226, kernel_initializer='he_normal'))\n",
        "    model.add(Dense(units=800, kernel_initializer='he_normal'))\n",
        "    model.add(BatchNormalization())\n",
        "    model.add(Activation(swish))\n",
        "    model.add(Dense(units=800, kernel_initializer='he_normal'))\n",
        "    model.add(Dense(units=800, kernel_initializer='he_normal'))\n",
        "    model.add(BatchNormalization())\n",
        "    model.add(Activation(swish))\n",
        "    model.add(Dense(units=800, kernel_initializer='he_normal'))\n",
        "    model.add(Dense(units=800, kernel_initializer='he_normal'))\n",
        "    model.add(BatchNormalization())\n",
        "    model.add(Activation(swish))\n",
        "    model.add(Dense(units=800, kernel_initializer='he_normal'))\n",
        "    model.add(Dense(units=800, kernel_initializer='he_normal'))\n",
        "    model.add(BatchNormalization())\n",
        "    model.add(Activation(swish))\n",
        "    model.add(Dense(units=800, kernel_initializer='he_normal'))\n",
        "    model.add(Dense(units=800, kernel_initializer='he_normal'))\n",
        "    model.add(BatchNormalization())\n",
        "    model.add(Activation(swish))\n",
        "    model.add(Dense(units=800, kernel_initializer='he_normal'))\n",
        "    model.add(Dense(units=800, kernel_initializer='he_normal'))\n",
        "    model.add(BatchNormalization())\n",
        "    model.add(Activation(swish))\n",
        "    model.add(Dense(units=800, kernel_initializer='he_normal'))\n",
        "    model.add(Dense(units=800, kernel_initializer='he_normal'))\n",
        "    model.add(BatchNormalization())\n",
        "    model.add(Activation(swish))\n",
        "    model.add(Dense(units=800, kernel_initializer='he_normal'))\n",
        "    model.add(Dense(units=800, kernel_initializer='he_normal'))\n",
        "    model.add(Activation(swish))\n",
        "    model.add(Dense(units=4, activation='linear'))\n",
        "\n",
        "    return model\n",
        "\n",
        "\n",
        "# Activation Function 정의\n",
        "\n",
        "def swish(x) :\n",
        "    return x * keras.activations.sigmoid(x)"
      ],
      "execution_count": 0,
      "outputs": []
    },
    {
      "cell_type": "code",
      "metadata": {
        "id": "35DQBYFkofR6",
        "colab_type": "code",
        "outputId": "6be1c60f-f7c1-4747-a311-3fc193c317f2",
        "colab": {
          "base_uri": "https://localhost:8080/",
          "height": 204
        }
      },
      "source": [
        "model = create_model()"
      ],
      "execution_count": 0,
      "outputs": [
        {
          "output_type": "stream",
          "text": [
            "WARNING:tensorflow:From /usr/local/lib/python3.6/dist-packages/keras/backend/tensorflow_backend.py:66: The name tf.get_default_graph is deprecated. Please use tf.compat.v1.get_default_graph instead.\n",
            "\n",
            "WARNING:tensorflow:From /usr/local/lib/python3.6/dist-packages/keras/backend/tensorflow_backend.py:541: The name tf.placeholder is deprecated. Please use tf.compat.v1.placeholder instead.\n",
            "\n",
            "WARNING:tensorflow:From /usr/local/lib/python3.6/dist-packages/keras/backend/tensorflow_backend.py:4479: The name tf.truncated_normal is deprecated. Please use tf.random.truncated_normal instead.\n",
            "\n",
            "WARNING:tensorflow:From /usr/local/lib/python3.6/dist-packages/keras/backend/tensorflow_backend.py:148: The name tf.placeholder_with_default is deprecated. Please use tf.compat.v1.placeholder_with_default instead.\n",
            "\n",
            "WARNING:tensorflow:From /usr/local/lib/python3.6/dist-packages/keras/backend/tensorflow_backend.py:4432: The name tf.random_uniform is deprecated. Please use tf.random.uniform instead.\n",
            "\n"
          ],
          "name": "stdout"
        }
      ]
    },
    {
      "cell_type": "code",
      "metadata": {
        "id": "6LHJR2uYXaZj",
        "colab_type": "code",
        "outputId": "d02f508f-327f-4113-d65d-e46ab8b56b89",
        "colab": {
          "base_uri": "https://localhost:8080/",
          "height": 55
        }
      },
      "source": [
        "adam = keras.optimizers.Adam(0.001)\n",
        "model.compile(loss='mae', optimizer=adam, metrics=['accuracy'])"
      ],
      "execution_count": 0,
      "outputs": [
        {
          "output_type": "stream",
          "text": [
            "WARNING:tensorflow:From /usr/local/lib/python3.6/dist-packages/keras/optimizers.py:793: The name tf.train.Optimizer is deprecated. Please use tf.compat.v1.train.Optimizer instead.\n",
            "\n"
          ],
          "name": "stdout"
        }
      ]
    },
    {
      "cell_type": "code",
      "metadata": {
        "id": "KbIkmXylXaiq",
        "colab_type": "code",
        "outputId": "8a425cc0-613c-4a5c-8da9-1b16f7208123",
        "colab": {
          "base_uri": "https://localhost:8080/",
          "height": 1000
        }
      },
      "source": [
        "hist = model.fit(train_X, train_Y, epochs=200, batch_size=630,\n",
        "                    validation_data=(val_X, val_Y))"
      ],
      "execution_count": 0,
      "outputs": [
        {
          "output_type": "stream",
          "text": [
            "WARNING:tensorflow:From /usr/local/lib/python3.6/dist-packages/keras/backend/tensorflow_backend.py:1033: The name tf.assign_add is deprecated. Please use tf.compat.v1.assign_add instead.\n",
            "\n",
            "WARNING:tensorflow:From /usr/local/lib/python3.6/dist-packages/keras/backend/tensorflow_backend.py:1020: The name tf.assign is deprecated. Please use tf.compat.v1.assign instead.\n",
            "\n",
            "WARNING:tensorflow:From /usr/local/lib/python3.6/dist-packages/keras/backend/tensorflow_backend.py:3005: The name tf.Session is deprecated. Please use tf.compat.v1.Session instead.\n",
            "\n",
            "Train on 607500 samples, validate on 202500 samples\n",
            "Epoch 1/200\n",
            "WARNING:tensorflow:From /usr/local/lib/python3.6/dist-packages/keras/backend/tensorflow_backend.py:190: The name tf.get_default_session is deprecated. Please use tf.compat.v1.get_default_session instead.\n",
            "\n",
            "WARNING:tensorflow:From /usr/local/lib/python3.6/dist-packages/keras/backend/tensorflow_backend.py:197: The name tf.ConfigProto is deprecated. Please use tf.compat.v1.ConfigProto instead.\n",
            "\n",
            "WARNING:tensorflow:From /usr/local/lib/python3.6/dist-packages/keras/backend/tensorflow_backend.py:207: The name tf.global_variables is deprecated. Please use tf.compat.v1.global_variables instead.\n",
            "\n",
            "WARNING:tensorflow:From /usr/local/lib/python3.6/dist-packages/keras/backend/tensorflow_backend.py:216: The name tf.is_variable_initialized is deprecated. Please use tf.compat.v1.is_variable_initialized instead.\n",
            "\n",
            "WARNING:tensorflow:From /usr/local/lib/python3.6/dist-packages/keras/backend/tensorflow_backend.py:223: The name tf.variables_initializer is deprecated. Please use tf.compat.v1.variables_initializer instead.\n",
            "\n",
            "607500/607500 [==============================] - 41s 68us/step - loss: 43.7452 - acc: 0.5267 - val_loss: 46.7422 - val_acc: 0.5944\n",
            "Epoch 2/200\n",
            "607500/607500 [==============================] - 30s 49us/step - loss: 20.5678 - acc: 0.7888 - val_loss: 23.5052 - val_acc: 0.7743\n",
            "Epoch 3/200\n",
            "607500/607500 [==============================] - 30s 49us/step - loss: 13.8972 - acc: 0.8537 - val_loss: 15.2213 - val_acc: 0.8545\n",
            "Epoch 4/200\n",
            "607500/607500 [==============================] - 30s 50us/step - loss: 10.7631 - acc: 0.8863 - val_loss: 16.0617 - val_acc: 0.8330\n",
            "Epoch 5/200\n",
            "607500/607500 [==============================] - 30s 50us/step - loss: 9.0031 - acc: 0.9053 - val_loss: 10.0999 - val_acc: 0.8728\n",
            "Epoch 6/200\n",
            "607500/607500 [==============================] - 30s 50us/step - loss: 7.8928 - acc: 0.9158 - val_loss: 9.7698 - val_acc: 0.9074\n",
            "Epoch 7/200\n",
            "607500/607500 [==============================] - 30s 49us/step - loss: 7.0077 - acc: 0.9238 - val_loss: 11.0614 - val_acc: 0.8815\n",
            "Epoch 8/200\n",
            "607500/607500 [==============================] - 30s 49us/step - loss: 6.3823 - acc: 0.9301 - val_loss: 8.1017 - val_acc: 0.9252\n",
            "Epoch 9/200\n",
            "607500/607500 [==============================] - 30s 49us/step - loss: 5.9111 - acc: 0.9352 - val_loss: 8.3799 - val_acc: 0.9176\n",
            "Epoch 10/200\n",
            "607500/607500 [==============================] - 31s 50us/step - loss: 5.5697 - acc: 0.9382 - val_loss: 8.9616 - val_acc: 0.9098\n",
            "Epoch 11/200\n",
            "607500/607500 [==============================] - 30s 49us/step - loss: 5.2506 - acc: 0.9406 - val_loss: 5.7141 - val_acc: 0.9335\n",
            "Epoch 12/200\n",
            "607500/607500 [==============================] - 30s 49us/step - loss: 4.9377 - acc: 0.9439 - val_loss: 7.2516 - val_acc: 0.9216\n",
            "Epoch 13/200\n",
            "607500/607500 [==============================] - 30s 49us/step - loss: 4.7208 - acc: 0.9452 - val_loss: 6.1357 - val_acc: 0.9447\n",
            "Epoch 14/200\n",
            "607500/607500 [==============================] - 30s 49us/step - loss: 4.4462 - acc: 0.9472 - val_loss: 5.7403 - val_acc: 0.9230\n",
            "Epoch 15/200\n",
            "607500/607500 [==============================] - 30s 50us/step - loss: 4.2496 - acc: 0.9495 - val_loss: 6.0348 - val_acc: 0.9346\n",
            "Epoch 16/200\n",
            "607500/607500 [==============================] - 30s 49us/step - loss: 4.1699 - acc: 0.9497 - val_loss: 6.0243 - val_acc: 0.9289\n",
            "Epoch 17/200\n",
            "607500/607500 [==============================] - 30s 49us/step - loss: 3.9309 - acc: 0.9519 - val_loss: 4.5484 - val_acc: 0.9431\n",
            "Epoch 18/200\n",
            "607500/607500 [==============================] - 30s 49us/step - loss: 3.8455 - acc: 0.9523 - val_loss: 4.0681 - val_acc: 0.9436\n",
            "Epoch 19/200\n",
            "607500/607500 [==============================] - 30s 49us/step - loss: 3.6947 - acc: 0.9538 - val_loss: 4.5915 - val_acc: 0.9429\n",
            "Epoch 20/200\n",
            "607500/607500 [==============================] - 30s 49us/step - loss: 3.6473 - acc: 0.9539 - val_loss: 4.3192 - val_acc: 0.9481\n",
            "Epoch 21/200\n",
            "607500/607500 [==============================] - 30s 49us/step - loss: 3.4445 - acc: 0.9555 - val_loss: 3.8529 - val_acc: 0.9568\n",
            "Epoch 22/200\n",
            "607500/607500 [==============================] - 30s 49us/step - loss: 3.3995 - acc: 0.9556 - val_loss: 3.3466 - val_acc: 0.9512\n",
            "Epoch 23/200\n",
            "607500/607500 [==============================] - 30s 50us/step - loss: 3.3489 - acc: 0.9563 - val_loss: 4.2115 - val_acc: 0.9551\n",
            "Epoch 24/200\n",
            "607500/607500 [==============================] - 30s 49us/step - loss: 3.1899 - acc: 0.9570 - val_loss: 4.7691 - val_acc: 0.9410\n",
            "Epoch 25/200\n",
            "607500/607500 [==============================] - 30s 49us/step - loss: 3.1789 - acc: 0.9571 - val_loss: 3.5769 - val_acc: 0.9577\n",
            "Epoch 26/200\n",
            "607500/607500 [==============================] - 30s 49us/step - loss: 3.0625 - acc: 0.9582 - val_loss: 3.5553 - val_acc: 0.9546\n",
            "Epoch 27/200\n",
            "607500/607500 [==============================] - 30s 49us/step - loss: 3.0104 - acc: 0.9581 - val_loss: 3.8013 - val_acc: 0.9550\n",
            "Epoch 28/200\n",
            "607500/607500 [==============================] - 30s 49us/step - loss: 2.9722 - acc: 0.9587 - val_loss: 3.0771 - val_acc: 0.9581\n",
            "Epoch 29/200\n",
            "607500/607500 [==============================] - 30s 49us/step - loss: 2.9110 - acc: 0.9592 - val_loss: 2.9973 - val_acc: 0.9634\n",
            "Epoch 30/200\n",
            "607500/607500 [==============================] - 30s 49us/step - loss: 2.7941 - acc: 0.9597 - val_loss: 2.9696 - val_acc: 0.9608\n",
            "Epoch 31/200\n",
            "607500/607500 [==============================] - 30s 49us/step - loss: 2.7581 - acc: 0.9601 - val_loss: 3.5380 - val_acc: 0.9595\n",
            "Epoch 32/200\n",
            "607500/607500 [==============================] - 30s 49us/step - loss: 2.7542 - acc: 0.9597 - val_loss: 2.9794 - val_acc: 0.9609\n",
            "Epoch 33/200\n",
            "607500/607500 [==============================] - 30s 49us/step - loss: 2.6993 - acc: 0.9602 - val_loss: 2.7959 - val_acc: 0.9604\n",
            "Epoch 34/200\n",
            "607500/607500 [==============================] - 30s 49us/step - loss: 2.6657 - acc: 0.9603 - val_loss: 3.4651 - val_acc: 0.9567\n",
            "Epoch 35/200\n",
            "607500/607500 [==============================] - 30s 49us/step - loss: 2.5930 - acc: 0.9607 - val_loss: 2.6731 - val_acc: 0.9607\n",
            "Epoch 36/200\n",
            "607500/607500 [==============================] - 30s 50us/step - loss: 2.5518 - acc: 0.9611 - val_loss: 2.7230 - val_acc: 0.9649\n",
            "Epoch 37/200\n",
            "607500/607500 [==============================] - 30s 49us/step - loss: 2.5702 - acc: 0.9607 - val_loss: 2.7726 - val_acc: 0.9630\n",
            "Epoch 38/200\n",
            "607500/607500 [==============================] - 30s 49us/step - loss: 2.4946 - acc: 0.9613 - val_loss: 2.4812 - val_acc: 0.9566\n",
            "Epoch 39/200\n",
            "607500/607500 [==============================] - 30s 49us/step - loss: 2.4191 - acc: 0.9617 - val_loss: 2.3412 - val_acc: 0.9592\n",
            "Epoch 40/200\n",
            "607500/607500 [==============================] - 30s 49us/step - loss: 2.4317 - acc: 0.9616 - val_loss: 2.4012 - val_acc: 0.9672\n",
            "Epoch 41/200\n",
            "607500/607500 [==============================] - 30s 49us/step - loss: 2.3865 - acc: 0.9619 - val_loss: 2.7543 - val_acc: 0.9637\n",
            "Epoch 42/200\n",
            "607500/607500 [==============================] - 30s 49us/step - loss: 2.3658 - acc: 0.9620 - val_loss: 2.1554 - val_acc: 0.9622\n",
            "Epoch 43/200\n",
            "607500/607500 [==============================] - 30s 49us/step - loss: 2.3368 - acc: 0.9621 - val_loss: 2.9932 - val_acc: 0.9529\n",
            "Epoch 44/200\n",
            "607500/607500 [==============================] - 30s 49us/step - loss: 2.3084 - acc: 0.9621 - val_loss: 2.3170 - val_acc: 0.9714\n",
            "Epoch 45/200\n",
            "607500/607500 [==============================] - 30s 49us/step - loss: 2.2736 - acc: 0.9628 - val_loss: 2.8624 - val_acc: 0.9533\n",
            "Epoch 46/200\n",
            "607500/607500 [==============================] - 30s 49us/step - loss: 2.2852 - acc: 0.9620 - val_loss: 2.4186 - val_acc: 0.9649\n",
            "Epoch 47/200\n",
            "607500/607500 [==============================] - 30s 50us/step - loss: 2.2257 - acc: 0.9627 - val_loss: 2.8381 - val_acc: 0.9566\n",
            "Epoch 48/200\n",
            "607500/607500 [==============================] - 30s 49us/step - loss: 2.2208 - acc: 0.9625 - val_loss: 2.2389 - val_acc: 0.9628\n",
            "Epoch 49/200\n",
            "607500/607500 [==============================] - 30s 49us/step - loss: 2.1702 - acc: 0.9625 - val_loss: 2.4626 - val_acc: 0.9701\n",
            "Epoch 50/200\n",
            "607500/607500 [==============================] - 30s 49us/step - loss: 2.1373 - acc: 0.9630 - val_loss: 2.2033 - val_acc: 0.9555\n",
            "Epoch 51/200\n",
            "607500/607500 [==============================] - 30s 49us/step - loss: 2.1837 - acc: 0.9630 - val_loss: 2.2797 - val_acc: 0.9671\n",
            "Epoch 52/200\n",
            "607500/607500 [==============================] - 30s 49us/step - loss: 2.1158 - acc: 0.9632 - val_loss: 2.3179 - val_acc: 0.9660\n",
            "Epoch 53/200\n",
            "607500/607500 [==============================] - 30s 49us/step - loss: 2.0860 - acc: 0.9635 - val_loss: 2.2163 - val_acc: 0.9616\n",
            "Epoch 54/200\n",
            "607500/607500 [==============================] - 30s 49us/step - loss: 2.0848 - acc: 0.9630 - val_loss: 2.4702 - val_acc: 0.9573\n",
            "Epoch 55/200\n",
            "607500/607500 [==============================] - 30s 49us/step - loss: 2.0543 - acc: 0.9631 - val_loss: 1.9033 - val_acc: 0.9656\n",
            "Epoch 56/200\n",
            "607500/607500 [==============================] - 30s 49us/step - loss: 2.0271 - acc: 0.9633 - val_loss: 1.9756 - val_acc: 0.9674\n",
            "Epoch 57/200\n",
            "607500/607500 [==============================] - 30s 49us/step - loss: 2.0247 - acc: 0.9634 - val_loss: 2.1623 - val_acc: 0.9659\n",
            "Epoch 58/200\n",
            "607500/607500 [==============================] - 30s 49us/step - loss: 2.0394 - acc: 0.9633 - val_loss: 1.9874 - val_acc: 0.9594\n",
            "Epoch 59/200\n",
            "607500/607500 [==============================] - 30s 49us/step - loss: 1.9701 - acc: 0.9636 - val_loss: 1.8212 - val_acc: 0.9673\n",
            "Epoch 60/200\n",
            "607500/607500 [==============================] - 30s 49us/step - loss: 1.9746 - acc: 0.9632 - val_loss: 2.1369 - val_acc: 0.9674\n",
            "Epoch 61/200\n",
            "607500/607500 [==============================] - 30s 49us/step - loss: 1.9528 - acc: 0.9637 - val_loss: 2.3771 - val_acc: 0.9650\n",
            "Epoch 62/200\n",
            "607500/607500 [==============================] - 30s 49us/step - loss: 1.9525 - acc: 0.9635 - val_loss: 1.7507 - val_acc: 0.9631\n",
            "Epoch 63/200\n",
            "607500/607500 [==============================] - 30s 49us/step - loss: 1.9194 - acc: 0.9636 - val_loss: 1.8275 - val_acc: 0.9724\n",
            "Epoch 64/200\n",
            "607500/607500 [==============================] - 30s 49us/step - loss: 1.8919 - acc: 0.9636 - val_loss: 1.9516 - val_acc: 0.9662\n",
            "Epoch 65/200\n",
            "607500/607500 [==============================] - 30s 50us/step - loss: 1.8864 - acc: 0.9639 - val_loss: 2.0776 - val_acc: 0.9536\n",
            "Epoch 66/200\n",
            "607500/607500 [==============================] - 30s 49us/step - loss: 1.8803 - acc: 0.9641 - val_loss: 2.0423 - val_acc: 0.9602\n",
            "Epoch 67/200\n",
            "607500/607500 [==============================] - 30s 50us/step - loss: 1.8763 - acc: 0.9638 - val_loss: 2.0647 - val_acc: 0.9674\n",
            "Epoch 68/200\n",
            "607500/607500 [==============================] - 30s 49us/step - loss: 1.8548 - acc: 0.9638 - val_loss: 1.9855 - val_acc: 0.9509\n",
            "Epoch 69/200\n",
            "607500/607500 [==============================] - 30s 49us/step - loss: 1.8548 - acc: 0.9641 - val_loss: 2.1546 - val_acc: 0.9658\n",
            "Epoch 70/200\n",
            "607500/607500 [==============================] - 30s 49us/step - loss: 1.8160 - acc: 0.9642 - val_loss: 2.1865 - val_acc: 0.9705\n",
            "Epoch 71/200\n",
            "607500/607500 [==============================] - 30s 49us/step - loss: 1.8171 - acc: 0.9640 - val_loss: 1.8939 - val_acc: 0.9712\n",
            "Epoch 72/200\n",
            "607500/607500 [==============================] - 30s 49us/step - loss: 1.8099 - acc: 0.9643 - val_loss: 1.7693 - val_acc: 0.9705\n",
            "Epoch 73/200\n",
            "607500/607500 [==============================] - 30s 49us/step - loss: 1.8013 - acc: 0.9639 - val_loss: 1.8929 - val_acc: 0.9526\n",
            "Epoch 74/200\n",
            "607500/607500 [==============================] - 30s 49us/step - loss: 1.8089 - acc: 0.9640 - val_loss: 1.7800 - val_acc: 0.9624\n",
            "Epoch 75/200\n",
            "607500/607500 [==============================] - 30s 49us/step - loss: 1.7586 - acc: 0.9640 - val_loss: 1.6953 - val_acc: 0.9662\n",
            "Epoch 76/200\n",
            "607500/607500 [==============================] - 30s 49us/step - loss: 1.7404 - acc: 0.9645 - val_loss: 1.9192 - val_acc: 0.9626\n",
            "Epoch 77/200\n",
            "607500/607500 [==============================] - 30s 49us/step - loss: 1.7705 - acc: 0.9641 - val_loss: 1.8197 - val_acc: 0.9610\n",
            "Epoch 78/200\n",
            "607500/607500 [==============================] - 30s 50us/step - loss: 1.7446 - acc: 0.9644 - val_loss: 1.7007 - val_acc: 0.9711\n",
            "Epoch 79/200\n",
            "607500/607500 [==============================] - 30s 49us/step - loss: 1.7421 - acc: 0.9643 - val_loss: 2.2413 - val_acc: 0.9588\n",
            "Epoch 80/200\n",
            "607500/607500 [==============================] - 30s 49us/step - loss: 1.6731 - acc: 0.9646 - val_loss: 2.0616 - val_acc: 0.9724\n",
            "Epoch 81/200\n",
            "607500/607500 [==============================] - 30s 50us/step - loss: 1.7162 - acc: 0.9643 - val_loss: 2.0077 - val_acc: 0.9632\n",
            "Epoch 82/200\n",
            "607500/607500 [==============================] - 30s 49us/step - loss: 1.6809 - acc: 0.9647 - val_loss: 1.7442 - val_acc: 0.9606\n",
            "Epoch 83/200\n",
            "607500/607500 [==============================] - 30s 49us/step - loss: 1.6718 - acc: 0.9645 - val_loss: 1.5492 - val_acc: 0.9700\n",
            "Epoch 84/200\n",
            "607500/607500 [==============================] - 30s 49us/step - loss: 1.6904 - acc: 0.9643 - val_loss: 1.9206 - val_acc: 0.9682\n",
            "Epoch 85/200\n",
            "607500/607500 [==============================] - 30s 49us/step - loss: 1.6811 - acc: 0.9647 - val_loss: 1.6057 - val_acc: 0.9650\n",
            "Epoch 86/200\n",
            "607500/607500 [==============================] - 30s 49us/step - loss: 1.6664 - acc: 0.9646 - val_loss: 1.6980 - val_acc: 0.9558\n",
            "Epoch 87/200\n",
            "607500/607500 [==============================] - 30s 49us/step - loss: 1.6532 - acc: 0.9646 - val_loss: 2.0249 - val_acc: 0.9681\n",
            "Epoch 88/200\n",
            "607500/607500 [==============================] - 30s 49us/step - loss: 1.6350 - acc: 0.9645 - val_loss: 1.6979 - val_acc: 0.9741\n",
            "Epoch 89/200\n",
            "607500/607500 [==============================] - 30s 49us/step - loss: 1.6262 - acc: 0.9646 - val_loss: 1.7991 - val_acc: 0.9687\n",
            "Epoch 90/200\n",
            "607500/607500 [==============================] - 29s 48us/step - loss: 1.6156 - acc: 0.9646 - val_loss: 1.8565 - val_acc: 0.9594\n",
            "Epoch 91/200\n",
            "607500/607500 [==============================] - 30s 49us/step - loss: 1.6152 - acc: 0.9645 - val_loss: 1.8038 - val_acc: 0.9554\n",
            "Epoch 92/200\n",
            "607500/607500 [==============================] - 30s 49us/step - loss: 1.5817 - acc: 0.9646 - val_loss: 1.4503 - val_acc: 0.9606\n",
            "Epoch 93/200\n",
            "607500/607500 [==============================] - 30s 49us/step - loss: 1.5994 - acc: 0.9646 - val_loss: 1.7116 - val_acc: 0.9585\n",
            "Epoch 94/200\n",
            "607500/607500 [==============================] - 30s 49us/step - loss: 1.5964 - acc: 0.9647 - val_loss: 1.5566 - val_acc: 0.9684\n",
            "Epoch 95/200\n",
            "607500/607500 [==============================] - 30s 49us/step - loss: 1.5537 - acc: 0.9648 - val_loss: 1.9804 - val_acc: 0.9654\n",
            "Epoch 96/200\n",
            "607500/607500 [==============================] - 30s 49us/step - loss: 1.5420 - acc: 0.9648 - val_loss: 1.7376 - val_acc: 0.9651\n",
            "Epoch 97/200\n",
            "607500/607500 [==============================] - 30s 49us/step - loss: 1.5442 - acc: 0.9650 - val_loss: 1.7304 - val_acc: 0.9604\n",
            "Epoch 98/200\n",
            "607500/607500 [==============================] - 30s 49us/step - loss: 1.5715 - acc: 0.9647 - val_loss: 1.5001 - val_acc: 0.9674\n",
            "Epoch 99/200\n",
            "607500/607500 [==============================] - 30s 50us/step - loss: 1.5409 - acc: 0.9650 - val_loss: 1.4013 - val_acc: 0.9709\n",
            "Epoch 100/200\n",
            "607500/607500 [==============================] - 30s 49us/step - loss: 1.5337 - acc: 0.9646 - val_loss: 1.4088 - val_acc: 0.9651\n",
            "Epoch 101/200\n",
            "607500/607500 [==============================] - 30s 49us/step - loss: 1.5197 - acc: 0.9648 - val_loss: 1.5436 - val_acc: 0.9592\n",
            "Epoch 102/200\n",
            "607500/607500 [==============================] - 30s 49us/step - loss: 1.5334 - acc: 0.9646 - val_loss: 1.6441 - val_acc: 0.9721\n",
            "Epoch 103/200\n",
            "607500/607500 [==============================] - 30s 49us/step - loss: 1.4963 - acc: 0.9648 - val_loss: 1.4503 - val_acc: 0.9722\n",
            "Epoch 104/200\n",
            "607500/607500 [==============================] - 30s 49us/step - loss: 1.5122 - acc: 0.9652 - val_loss: 1.5493 - val_acc: 0.9641\n",
            "Epoch 105/200\n",
            "607500/607500 [==============================] - 30s 49us/step - loss: 1.5096 - acc: 0.9648 - val_loss: 1.6434 - val_acc: 0.9587\n",
            "Epoch 106/200\n",
            "607500/607500 [==============================] - 30s 49us/step - loss: 1.5044 - acc: 0.9649 - val_loss: 1.5571 - val_acc: 0.9618\n",
            "Epoch 107/200\n",
            "607500/607500 [==============================] - 30s 49us/step - loss: 1.5185 - acc: 0.9647 - val_loss: 1.7070 - val_acc: 0.9515\n",
            "Epoch 108/200\n",
            "607500/607500 [==============================] - 30s 49us/step - loss: 1.4777 - acc: 0.9649 - val_loss: 1.2091 - val_acc: 0.9636\n",
            "Epoch 109/200\n",
            "607500/607500 [==============================] - 30s 50us/step - loss: 1.4736 - acc: 0.9649 - val_loss: 1.4696 - val_acc: 0.9552\n",
            "Epoch 110/200\n",
            "607500/607500 [==============================] - 30s 49us/step - loss: 1.4745 - acc: 0.9650 - val_loss: 1.4717 - val_acc: 0.9545\n",
            "Epoch 111/200\n",
            "607500/607500 [==============================] - 30s 49us/step - loss: 1.4644 - acc: 0.9649 - val_loss: 1.3907 - val_acc: 0.9691\n",
            "Epoch 112/200\n",
            "607500/607500 [==============================] - 30s 49us/step - loss: 1.4672 - acc: 0.9650 - val_loss: 1.5302 - val_acc: 0.9682\n",
            "Epoch 113/200\n",
            "607500/607500 [==============================] - 30s 49us/step - loss: 1.4627 - acc: 0.9651 - val_loss: 1.4969 - val_acc: 0.9532\n",
            "Epoch 114/200\n",
            "607500/607500 [==============================] - 30s 49us/step - loss: 1.4596 - acc: 0.9651 - val_loss: 1.4213 - val_acc: 0.9661\n",
            "Epoch 115/200\n",
            "607500/607500 [==============================] - 30s 49us/step - loss: 1.4227 - acc: 0.9653 - val_loss: 1.2960 - val_acc: 0.9670\n",
            "Epoch 116/200\n",
            "607500/607500 [==============================] - 29s 49us/step - loss: 1.4172 - acc: 0.9652 - val_loss: 1.3169 - val_acc: 0.9610\n",
            "Epoch 117/200\n",
            "607500/607500 [==============================] - 29s 48us/step - loss: 1.4493 - acc: 0.9653 - val_loss: 1.5682 - val_acc: 0.9608\n",
            "Epoch 118/200\n",
            "607500/607500 [==============================] - 30s 49us/step - loss: 1.4234 - acc: 0.9650 - val_loss: 1.6101 - val_acc: 0.9638\n",
            "Epoch 119/200\n",
            "607500/607500 [==============================] - 30s 49us/step - loss: 1.4412 - acc: 0.9648 - val_loss: 1.4989 - val_acc: 0.9570\n",
            "Epoch 120/200\n",
            "607500/607500 [==============================] - 30s 49us/step - loss: 1.3927 - acc: 0.9654 - val_loss: 1.6375 - val_acc: 0.9573\n",
            "Epoch 121/200\n",
            "607500/607500 [==============================] - 29s 48us/step - loss: 1.4212 - acc: 0.9649 - val_loss: 1.3462 - val_acc: 0.9576\n",
            "Epoch 122/200\n",
            "607500/607500 [==============================] - 30s 49us/step - loss: 1.3945 - acc: 0.9652 - val_loss: 1.2629 - val_acc: 0.9631\n",
            "Epoch 123/200\n",
            "607500/607500 [==============================] - 30s 49us/step - loss: 1.3910 - acc: 0.9651 - val_loss: 1.4032 - val_acc: 0.9717\n",
            "Epoch 124/200\n",
            "607500/607500 [==============================] - 29s 49us/step - loss: 1.4169 - acc: 0.9648 - val_loss: 1.4521 - val_acc: 0.9645\n",
            "Epoch 125/200\n",
            "607500/607500 [==============================] - 29s 48us/step - loss: 1.3940 - acc: 0.9653 - val_loss: 1.2735 - val_acc: 0.9585\n",
            "Epoch 126/200\n",
            "607500/607500 [==============================] - 30s 49us/step - loss: 1.3763 - acc: 0.9651 - val_loss: 1.2769 - val_acc: 0.9626\n",
            "Epoch 127/200\n",
            "607500/607500 [==============================] - 30s 49us/step - loss: 1.3637 - acc: 0.9653 - val_loss: 1.4516 - val_acc: 0.9660\n",
            "Epoch 128/200\n",
            "607500/607500 [==============================] - 30s 49us/step - loss: 1.3700 - acc: 0.9652 - val_loss: 1.6501 - val_acc: 0.9570\n",
            "Epoch 129/200\n",
            "607500/607500 [==============================] - 29s 48us/step - loss: 1.3698 - acc: 0.9654 - val_loss: 1.2828 - val_acc: 0.9616\n",
            "Epoch 130/200\n",
            "607500/607500 [==============================] - 30s 50us/step - loss: 1.3770 - acc: 0.9652 - val_loss: 1.2363 - val_acc: 0.9643\n",
            "Epoch 131/200\n",
            "607500/607500 [==============================] - 29s 49us/step - loss: 1.3483 - acc: 0.9653 - val_loss: 1.3547 - val_acc: 0.9720\n",
            "Epoch 132/200\n",
            "607500/607500 [==============================] - 30s 49us/step - loss: 1.3693 - acc: 0.9651 - val_loss: 1.3584 - val_acc: 0.9696\n",
            "Epoch 133/200\n",
            "607500/607500 [==============================] - 29s 48us/step - loss: 1.3795 - acc: 0.9648 - val_loss: 1.3592 - val_acc: 0.9594\n",
            "Epoch 134/200\n",
            "607500/607500 [==============================] - 30s 49us/step - loss: 1.3419 - acc: 0.9653 - val_loss: 1.1386 - val_acc: 0.9699\n",
            "Epoch 135/200\n",
            "607500/607500 [==============================] - 29s 48us/step - loss: 1.3574 - acc: 0.9650 - val_loss: 1.4173 - val_acc: 0.9634\n",
            "Epoch 136/200\n",
            "607500/607500 [==============================] - 29s 48us/step - loss: 1.3478 - acc: 0.9654 - val_loss: 1.3400 - val_acc: 0.9772\n",
            "Epoch 137/200\n",
            "607500/607500 [==============================] - 29s 48us/step - loss: 1.3233 - acc: 0.9650 - val_loss: 1.2185 - val_acc: 0.9635\n",
            "Epoch 138/200\n",
            "607500/607500 [==============================] - 30s 49us/step - loss: 1.3323 - acc: 0.9653 - val_loss: 1.4903 - val_acc: 0.9545\n",
            "Epoch 139/200\n",
            "607500/607500 [==============================] - 29s 48us/step - loss: 1.3452 - acc: 0.9651 - val_loss: 1.2741 - val_acc: 0.9615\n",
            "Epoch 140/200\n",
            "607500/607500 [==============================] - 30s 49us/step - loss: 1.3283 - acc: 0.9654 - val_loss: 1.1399 - val_acc: 0.9615\n",
            "Epoch 141/200\n",
            "607500/607500 [==============================] - 29s 48us/step - loss: 1.3166 - acc: 0.9653 - val_loss: 1.4096 - val_acc: 0.9562\n",
            "Epoch 142/200\n",
            "607500/607500 [==============================] - 30s 49us/step - loss: 1.3119 - acc: 0.9652 - val_loss: 1.1066 - val_acc: 0.9716\n",
            "Epoch 143/200\n",
            "607500/607500 [==============================] - 30s 49us/step - loss: 1.3182 - acc: 0.9653 - val_loss: 1.2794 - val_acc: 0.9743\n",
            "Epoch 144/200\n",
            "607500/607500 [==============================] - 29s 48us/step - loss: 1.3062 - acc: 0.9655 - val_loss: 1.4586 - val_acc: 0.9605\n",
            "Epoch 145/200\n",
            "607500/607500 [==============================] - 29s 48us/step - loss: 1.2951 - acc: 0.9654 - val_loss: 1.0548 - val_acc: 0.9611\n",
            "Epoch 146/200\n",
            "607500/607500 [==============================] - 29s 49us/step - loss: 1.3032 - acc: 0.9651 - val_loss: 1.3852 - val_acc: 0.9638\n",
            "Epoch 147/200\n",
            "607500/607500 [==============================] - 30s 49us/step - loss: 1.2872 - acc: 0.9654 - val_loss: 1.3240 - val_acc: 0.9634\n",
            "Epoch 148/200\n",
            "607500/607500 [==============================] - 29s 48us/step - loss: 1.3010 - acc: 0.9652 - val_loss: 1.3916 - val_acc: 0.9710\n",
            "Epoch 149/200\n",
            "607500/607500 [==============================] - 29s 48us/step - loss: 1.2850 - acc: 0.9651 - val_loss: 1.2151 - val_acc: 0.9745\n",
            "Epoch 150/200\n",
            "607500/607500 [==============================] - 29s 48us/step - loss: 1.2554 - acc: 0.9656 - val_loss: 1.2253 - val_acc: 0.9687\n",
            "Epoch 151/200\n",
            "607500/607500 [==============================] - 30s 49us/step - loss: 1.2701 - acc: 0.9652 - val_loss: 1.1216 - val_acc: 0.9667\n",
            "Epoch 152/200\n",
            "607500/607500 [==============================] - 29s 48us/step - loss: 1.2980 - acc: 0.9654 - val_loss: 1.2409 - val_acc: 0.9695\n",
            "Epoch 153/200\n",
            "607500/607500 [==============================] - 29s 48us/step - loss: 1.2744 - acc: 0.9655 - val_loss: 1.4038 - val_acc: 0.9530\n",
            "Epoch 154/200\n",
            "607500/607500 [==============================] - 29s 48us/step - loss: 1.2613 - acc: 0.9653 - val_loss: 1.2032 - val_acc: 0.9668\n",
            "Epoch 155/200\n",
            "607500/607500 [==============================] - 29s 48us/step - loss: 1.2543 - acc: 0.9652 - val_loss: 1.1662 - val_acc: 0.9745\n",
            "Epoch 156/200\n",
            "607500/607500 [==============================] - 29s 48us/step - loss: 1.2576 - acc: 0.9656 - val_loss: 1.1626 - val_acc: 0.9603\n",
            "Epoch 157/200\n",
            "607500/607500 [==============================] - 29s 48us/step - loss: 1.2626 - acc: 0.9653 - val_loss: 1.1549 - val_acc: 0.9768\n",
            "Epoch 158/200\n",
            "607500/607500 [==============================] - 30s 49us/step - loss: 1.2570 - acc: 0.9653 - val_loss: 1.2413 - val_acc: 0.9689\n",
            "Epoch 159/200\n",
            "607500/607500 [==============================] - 29s 48us/step - loss: 1.2342 - acc: 0.9656 - val_loss: 1.1395 - val_acc: 0.9685\n",
            "Epoch 160/200\n",
            "607500/607500 [==============================] - 29s 49us/step - loss: 1.2451 - acc: 0.9655 - val_loss: 1.0111 - val_acc: 0.9658\n",
            "Epoch 161/200\n",
            "607500/607500 [==============================] - 29s 48us/step - loss: 1.2478 - acc: 0.9652 - val_loss: 1.2522 - val_acc: 0.9685\n",
            "Epoch 162/200\n",
            "607500/607500 [==============================] - 29s 48us/step - loss: 1.2443 - acc: 0.9653 - val_loss: 1.0815 - val_acc: 0.9652\n",
            "Epoch 163/200\n",
            "607500/607500 [==============================] - 29s 48us/step - loss: 1.2224 - acc: 0.9655 - val_loss: 1.3780 - val_acc: 0.9536\n",
            "Epoch 164/200\n",
            "607500/607500 [==============================] - 29s 48us/step - loss: 1.2475 - acc: 0.9653 - val_loss: 1.3103 - val_acc: 0.9710\n",
            "Epoch 165/200\n",
            "607500/607500 [==============================] - 29s 48us/step - loss: 1.2276 - acc: 0.9654 - val_loss: 1.3101 - val_acc: 0.9598\n",
            "Epoch 166/200\n",
            "607500/607500 [==============================] - 29s 48us/step - loss: 1.2327 - acc: 0.9654 - val_loss: 1.3418 - val_acc: 0.9601\n",
            "Epoch 167/200\n",
            "607500/607500 [==============================] - 29s 48us/step - loss: 1.2380 - acc: 0.9653 - val_loss: 1.3518 - val_acc: 0.9692\n",
            "Epoch 168/200\n",
            "607500/607500 [==============================] - 29s 48us/step - loss: 1.2105 - acc: 0.9656 - val_loss: 1.0670 - val_acc: 0.9629\n",
            "Epoch 169/200\n",
            "607500/607500 [==============================] - 29s 48us/step - loss: 1.2181 - acc: 0.9655 - val_loss: 1.2602 - val_acc: 0.9582\n",
            "Epoch 170/200\n",
            "607500/607500 [==============================] - 29s 48us/step - loss: 1.2008 - acc: 0.9654 - val_loss: 1.4076 - val_acc: 0.9601\n",
            "Epoch 171/200\n",
            "607500/607500 [==============================] - 29s 48us/step - loss: 1.2195 - acc: 0.9653 - val_loss: 1.3195 - val_acc: 0.9587\n",
            "Epoch 172/200\n",
            "607500/607500 [==============================] - 29s 49us/step - loss: 1.2055 - acc: 0.9658 - val_loss: 1.1042 - val_acc: 0.9687\n",
            "Epoch 173/200\n",
            "607500/607500 [==============================] - 29s 48us/step - loss: 1.1926 - acc: 0.9653 - val_loss: 1.1359 - val_acc: 0.9693\n",
            "Epoch 174/200\n",
            "607500/607500 [==============================] - 29s 48us/step - loss: 1.2212 - acc: 0.9654 - val_loss: 1.0950 - val_acc: 0.9710\n",
            "Epoch 175/200\n",
            "607500/607500 [==============================] - 29s 48us/step - loss: 1.1832 - acc: 0.9655 - val_loss: 1.1741 - val_acc: 0.9588\n",
            "Epoch 176/200\n",
            "607500/607500 [==============================] - 29s 48us/step - loss: 1.1787 - acc: 0.9655 - val_loss: 1.2557 - val_acc: 0.9687\n",
            "Epoch 177/200\n",
            "607500/607500 [==============================] - 29s 48us/step - loss: 1.1825 - acc: 0.9656 - val_loss: 1.0192 - val_acc: 0.9612\n",
            "Epoch 178/200\n",
            "607500/607500 [==============================] - 29s 48us/step - loss: 1.2010 - acc: 0.9654 - val_loss: 1.1275 - val_acc: 0.9626\n",
            "Epoch 179/200\n",
            "607500/607500 [==============================] - 29s 48us/step - loss: 1.1758 - acc: 0.9656 - val_loss: 1.0689 - val_acc: 0.9641\n",
            "Epoch 180/200\n",
            "607500/607500 [==============================] - 29s 48us/step - loss: 1.1926 - acc: 0.9657 - val_loss: 1.1719 - val_acc: 0.9690\n",
            "Epoch 181/200\n",
            "607500/607500 [==============================] - 30s 49us/step - loss: 1.1857 - acc: 0.9658 - val_loss: 1.1028 - val_acc: 0.9614\n",
            "Epoch 182/200\n",
            "607500/607500 [==============================] - 30s 49us/step - loss: 1.1663 - acc: 0.9655 - val_loss: 1.1407 - val_acc: 0.9578\n",
            "Epoch 183/200\n",
            "607500/607500 [==============================] - 30s 49us/step - loss: 1.1643 - acc: 0.9657 - val_loss: 1.0937 - val_acc: 0.9757\n",
            "Epoch 184/200\n",
            "607500/607500 [==============================] - 29s 48us/step - loss: 1.1853 - acc: 0.9654 - val_loss: 1.0197 - val_acc: 0.9671\n",
            "Epoch 185/200\n",
            "607500/607500 [==============================] - 29s 48us/step - loss: 1.1694 - acc: 0.9655 - val_loss: 1.1444 - val_acc: 0.9715\n",
            "Epoch 186/200\n",
            "607500/607500 [==============================] - 29s 48us/step - loss: 1.1835 - acc: 0.9653 - val_loss: 1.0243 - val_acc: 0.9739\n",
            "Epoch 187/200\n",
            "607500/607500 [==============================] - 29s 48us/step - loss: 1.1535 - acc: 0.9656 - val_loss: 1.0519 - val_acc: 0.9730\n",
            "Epoch 188/200\n",
            "607500/607500 [==============================] - 29s 48us/step - loss: 1.1448 - acc: 0.9656 - val_loss: 1.0558 - val_acc: 0.9699\n",
            "Epoch 189/200\n",
            "607500/607500 [==============================] - 29s 48us/step - loss: 1.1527 - acc: 0.9657 - val_loss: 1.0079 - val_acc: 0.9631\n",
            "Epoch 190/200\n",
            "607500/607500 [==============================] - 29s 48us/step - loss: 1.1283 - acc: 0.9658 - val_loss: 1.1032 - val_acc: 0.9553\n",
            "Epoch 191/200\n",
            "607500/607500 [==============================] - 30s 49us/step - loss: 1.1738 - acc: 0.9655 - val_loss: 1.2449 - val_acc: 0.9634\n",
            "Epoch 192/200\n",
            "607500/607500 [==============================] - 29s 49us/step - loss: 1.1522 - acc: 0.9656 - val_loss: 1.0550 - val_acc: 0.9646\n",
            "Epoch 193/200\n",
            "607500/607500 [==============================] - 30s 49us/step - loss: 1.1561 - acc: 0.9654 - val_loss: 1.1495 - val_acc: 0.9627\n",
            "Epoch 194/200\n",
            "607500/607500 [==============================] - 29s 48us/step - loss: 1.1446 - acc: 0.9656 - val_loss: 1.2786 - val_acc: 0.9536\n",
            "Epoch 195/200\n",
            "607500/607500 [==============================] - 29s 48us/step - loss: 1.1496 - acc: 0.9656 - val_loss: 1.0717 - val_acc: 0.9684\n",
            "Epoch 196/200\n",
            "607500/607500 [==============================] - 29s 48us/step - loss: 1.1323 - acc: 0.9658 - val_loss: 1.1298 - val_acc: 0.9765\n",
            "Epoch 197/200\n",
            "607500/607500 [==============================] - 29s 48us/step - loss: 1.1294 - acc: 0.9656 - val_loss: 0.9944 - val_acc: 0.9727\n",
            "Epoch 198/200\n",
            "607500/607500 [==============================] - 29s 48us/step - loss: 1.1372 - acc: 0.9657 - val_loss: 1.1865 - val_acc: 0.9664\n",
            "Epoch 199/200\n",
            "607500/607500 [==============================] - 30s 49us/step - loss: 1.1458 - acc: 0.9654 - val_loss: 1.0266 - val_acc: 0.9570\n",
            "Epoch 200/200\n",
            "607500/607500 [==============================] - 29s 48us/step - loss: 1.1470 - acc: 0.9657 - val_loss: 1.2441 - val_acc: 0.9587\n"
          ],
          "name": "stdout"
        }
      ]
    },
    {
      "cell_type": "code",
      "metadata": {
        "id": "hsfen6zmofgX",
        "colab_type": "code",
        "outputId": "c3bbb471-c124-4404-d10c-73040537f745",
        "colab": {
          "base_uri": "https://localhost:8080/",
          "height": 1000
        }
      },
      "source": [
        "# 모델 아키텍처\n",
        "\n",
        "from IPython.display import SVG\n",
        "from keras.utils.vis_utils import model_to_dot\n",
        "\n",
        "%matplotlib inline\n",
        "\n",
        "SVG(model_to_dot(model, show_shapes=True).create(prog='dot', format='svg'))"
      ],
      "execution_count": 0,
      "outputs": [
        {
          "output_type": "execute_result",
          "data": {
            "text/plain": [
              "<IPython.core.display.SVG object>"
            ],
            "image/svg+xml": "<svg height=\"3615pt\" viewBox=\"0.00 0.00 424.00 2711.00\" width=\"565pt\" xmlns=\"http://www.w3.org/2000/svg\" xmlns:xlink=\"http://www.w3.org/1999/xlink\">\n<g class=\"graph\" id=\"graph0\" transform=\"scale(1.3333 1.3333) rotate(0) translate(4 2707)\">\n<title>G</title>\n<polygon fill=\"#ffffff\" points=\"-4,4 -4,-2707 420,-2707 420,4 -4,4\" stroke=\"transparent\"/>\n<!-- 140237938699736 -->\n<g class=\"node\" id=\"node1\">\n<title>140237938699736</title>\n<polygon fill=\"none\" points=\"49,-2656.5 49,-2702.5 367,-2702.5 367,-2656.5 49,-2656.5\" stroke=\"#000000\"/>\n<text fill=\"#000000\" font-family=\"Times,serif\" font-size=\"14.00\" text-anchor=\"middle\" x=\"135.5\" y=\"-2675.8\">dense_1_input: InputLayer</text>\n<polyline fill=\"none\" points=\"222,-2656.5 222,-2702.5 \" stroke=\"#000000\"/>\n<text fill=\"#000000\" font-family=\"Times,serif\" font-size=\"14.00\" text-anchor=\"middle\" x=\"251\" y=\"-2687.3\">input:</text>\n<polyline fill=\"none\" points=\"222,-2679.5 280,-2679.5 \" stroke=\"#000000\"/>\n<text fill=\"#000000\" font-family=\"Times,serif\" font-size=\"14.00\" text-anchor=\"middle\" x=\"251\" y=\"-2664.3\">output:</text>\n<polyline fill=\"none\" points=\"280,-2656.5 280,-2702.5 \" stroke=\"#000000\"/>\n<text fill=\"#000000\" font-family=\"Times,serif\" font-size=\"14.00\" text-anchor=\"middle\" x=\"323.5\" y=\"-2687.3\">(None, 226)</text>\n<polyline fill=\"none\" points=\"280,-2679.5 367,-2679.5 \" stroke=\"#000000\"/>\n<text fill=\"#000000\" font-family=\"Times,serif\" font-size=\"14.00\" text-anchor=\"middle\" x=\"323.5\" y=\"-2664.3\">(None, 226)</text>\n</g>\n<!-- 140239569432360 -->\n<g class=\"node\" id=\"node2\">\n<title>140239569432360</title>\n<polygon fill=\"none\" points=\"82,-2573.5 82,-2619.5 334,-2619.5 334,-2573.5 82,-2573.5\" stroke=\"#000000\"/>\n<text fill=\"#000000\" font-family=\"Times,serif\" font-size=\"14.00\" text-anchor=\"middle\" x=\"135.5\" y=\"-2592.8\">dense_1: Dense</text>\n<polyline fill=\"none\" points=\"189,-2573.5 189,-2619.5 \" stroke=\"#000000\"/>\n<text fill=\"#000000\" font-family=\"Times,serif\" font-size=\"14.00\" text-anchor=\"middle\" x=\"218\" y=\"-2604.3\">input:</text>\n<polyline fill=\"none\" points=\"189,-2596.5 247,-2596.5 \" stroke=\"#000000\"/>\n<text fill=\"#000000\" font-family=\"Times,serif\" font-size=\"14.00\" text-anchor=\"middle\" x=\"218\" y=\"-2581.3\">output:</text>\n<polyline fill=\"none\" points=\"247,-2573.5 247,-2619.5 \" stroke=\"#000000\"/>\n<text fill=\"#000000\" font-family=\"Times,serif\" font-size=\"14.00\" text-anchor=\"middle\" x=\"290.5\" y=\"-2604.3\">(None, 226)</text>\n<polyline fill=\"none\" points=\"247,-2596.5 334,-2596.5 \" stroke=\"#000000\"/>\n<text fill=\"#000000\" font-family=\"Times,serif\" font-size=\"14.00\" text-anchor=\"middle\" x=\"290.5\" y=\"-2581.3\">(None, 800)</text>\n</g>\n<!-- 140237938699736&#45;&gt;140239569432360 -->\n<g class=\"edge\" id=\"edge1\">\n<title>140237938699736-&gt;140239569432360</title>\n<path d=\"M208,-2656.3799C208,-2648.1745 208,-2638.7679 208,-2629.8786\" fill=\"none\" stroke=\"#000000\"/>\n<polygon fill=\"#000000\" points=\"211.5001,-2629.784 208,-2619.784 204.5001,-2629.784 211.5001,-2629.784\" stroke=\"#000000\"/>\n</g>\n<!-- 140237938700128 -->\n<g class=\"node\" id=\"node3\">\n<title>140237938700128</title>\n<polygon fill=\"none\" points=\"82,-2490.5 82,-2536.5 334,-2536.5 334,-2490.5 82,-2490.5\" stroke=\"#000000\"/>\n<text fill=\"#000000\" font-family=\"Times,serif\" font-size=\"14.00\" text-anchor=\"middle\" x=\"135.5\" y=\"-2509.8\">dense_2: Dense</text>\n<polyline fill=\"none\" points=\"189,-2490.5 189,-2536.5 \" stroke=\"#000000\"/>\n<text fill=\"#000000\" font-family=\"Times,serif\" font-size=\"14.00\" text-anchor=\"middle\" x=\"218\" y=\"-2521.3\">input:</text>\n<polyline fill=\"none\" points=\"189,-2513.5 247,-2513.5 \" stroke=\"#000000\"/>\n<text fill=\"#000000\" font-family=\"Times,serif\" font-size=\"14.00\" text-anchor=\"middle\" x=\"218\" y=\"-2498.3\">output:</text>\n<polyline fill=\"none\" points=\"247,-2490.5 247,-2536.5 \" stroke=\"#000000\"/>\n<text fill=\"#000000\" font-family=\"Times,serif\" font-size=\"14.00\" text-anchor=\"middle\" x=\"290.5\" y=\"-2521.3\">(None, 800)</text>\n<polyline fill=\"none\" points=\"247,-2513.5 334,-2513.5 \" stroke=\"#000000\"/>\n<text fill=\"#000000\" font-family=\"Times,serif\" font-size=\"14.00\" text-anchor=\"middle\" x=\"290.5\" y=\"-2498.3\">(None, 800)</text>\n</g>\n<!-- 140239569432360&#45;&gt;140237938700128 -->\n<g class=\"edge\" id=\"edge2\">\n<title>140239569432360-&gt;140237938700128</title>\n<path d=\"M208,-2573.3799C208,-2565.1745 208,-2555.7679 208,-2546.8786\" fill=\"none\" stroke=\"#000000\"/>\n<polygon fill=\"#000000\" points=\"211.5001,-2546.784 208,-2536.784 204.5001,-2546.784 211.5001,-2546.784\" stroke=\"#000000\"/>\n</g>\n<!-- 140237935170000 -->\n<g class=\"node\" id=\"node4\">\n<title>140237935170000</title>\n<polygon fill=\"none\" points=\"0,-2407.5 0,-2453.5 416,-2453.5 416,-2407.5 0,-2407.5\" stroke=\"#000000\"/>\n<text fill=\"#000000\" font-family=\"Times,serif\" font-size=\"14.00\" text-anchor=\"middle\" x=\"135.5\" y=\"-2426.8\">batch_normalization_1: BatchNormalization</text>\n<polyline fill=\"none\" points=\"271,-2407.5 271,-2453.5 \" stroke=\"#000000\"/>\n<text fill=\"#000000\" font-family=\"Times,serif\" font-size=\"14.00\" text-anchor=\"middle\" x=\"300\" y=\"-2438.3\">input:</text>\n<polyline fill=\"none\" points=\"271,-2430.5 329,-2430.5 \" stroke=\"#000000\"/>\n<text fill=\"#000000\" font-family=\"Times,serif\" font-size=\"14.00\" text-anchor=\"middle\" x=\"300\" y=\"-2415.3\">output:</text>\n<polyline fill=\"none\" points=\"329,-2407.5 329,-2453.5 \" stroke=\"#000000\"/>\n<text fill=\"#000000\" font-family=\"Times,serif\" font-size=\"14.00\" text-anchor=\"middle\" x=\"372.5\" y=\"-2438.3\">(None, 800)</text>\n<polyline fill=\"none\" points=\"329,-2430.5 416,-2430.5 \" stroke=\"#000000\"/>\n<text fill=\"#000000\" font-family=\"Times,serif\" font-size=\"14.00\" text-anchor=\"middle\" x=\"372.5\" y=\"-2415.3\">(None, 800)</text>\n</g>\n<!-- 140237938700128&#45;&gt;140237935170000 -->\n<g class=\"edge\" id=\"edge3\">\n<title>140237938700128-&gt;140237935170000</title>\n<path d=\"M208,-2490.3799C208,-2482.1745 208,-2472.7679 208,-2463.8786\" fill=\"none\" stroke=\"#000000\"/>\n<polygon fill=\"#000000\" points=\"211.5001,-2463.784 208,-2453.784 204.5001,-2463.784 211.5001,-2463.784\" stroke=\"#000000\"/>\n</g>\n<!-- 140237938700184 -->\n<g class=\"node\" id=\"node5\">\n<title>140237938700184</title>\n<polygon fill=\"none\" points=\"58.5,-2324.5 58.5,-2370.5 357.5,-2370.5 357.5,-2324.5 58.5,-2324.5\" stroke=\"#000000\"/>\n<text fill=\"#000000\" font-family=\"Times,serif\" font-size=\"14.00\" text-anchor=\"middle\" x=\"135.5\" y=\"-2343.8\">activation_1: Activation</text>\n<polyline fill=\"none\" points=\"212.5,-2324.5 212.5,-2370.5 \" stroke=\"#000000\"/>\n<text fill=\"#000000\" font-family=\"Times,serif\" font-size=\"14.00\" text-anchor=\"middle\" x=\"241.5\" y=\"-2355.3\">input:</text>\n<polyline fill=\"none\" points=\"212.5,-2347.5 270.5,-2347.5 \" stroke=\"#000000\"/>\n<text fill=\"#000000\" font-family=\"Times,serif\" font-size=\"14.00\" text-anchor=\"middle\" x=\"241.5\" y=\"-2332.3\">output:</text>\n<polyline fill=\"none\" points=\"270.5,-2324.5 270.5,-2370.5 \" stroke=\"#000000\"/>\n<text fill=\"#000000\" font-family=\"Times,serif\" font-size=\"14.00\" text-anchor=\"middle\" x=\"314\" y=\"-2355.3\">(None, 800)</text>\n<polyline fill=\"none\" points=\"270.5,-2347.5 357.5,-2347.5 \" stroke=\"#000000\"/>\n<text fill=\"#000000\" font-family=\"Times,serif\" font-size=\"14.00\" text-anchor=\"middle\" x=\"314\" y=\"-2332.3\">(None, 800)</text>\n</g>\n<!-- 140237935170000&#45;&gt;140237938700184 -->\n<g class=\"edge\" id=\"edge4\">\n<title>140237935170000-&gt;140237938700184</title>\n<path d=\"M208,-2407.3799C208,-2399.1745 208,-2389.7679 208,-2380.8786\" fill=\"none\" stroke=\"#000000\"/>\n<polygon fill=\"#000000\" points=\"211.5001,-2380.784 208,-2370.784 204.5001,-2380.784 211.5001,-2380.784\" stroke=\"#000000\"/>\n</g>\n<!-- 140239326110440 -->\n<g class=\"node\" id=\"node6\">\n<title>140239326110440</title>\n<polygon fill=\"none\" points=\"82,-2241.5 82,-2287.5 334,-2287.5 334,-2241.5 82,-2241.5\" stroke=\"#000000\"/>\n<text fill=\"#000000\" font-family=\"Times,serif\" font-size=\"14.00\" text-anchor=\"middle\" x=\"135.5\" y=\"-2260.8\">dense_3: Dense</text>\n<polyline fill=\"none\" points=\"189,-2241.5 189,-2287.5 \" stroke=\"#000000\"/>\n<text fill=\"#000000\" font-family=\"Times,serif\" font-size=\"14.00\" text-anchor=\"middle\" x=\"218\" y=\"-2272.3\">input:</text>\n<polyline fill=\"none\" points=\"189,-2264.5 247,-2264.5 \" stroke=\"#000000\"/>\n<text fill=\"#000000\" font-family=\"Times,serif\" font-size=\"14.00\" text-anchor=\"middle\" x=\"218\" y=\"-2249.3\">output:</text>\n<polyline fill=\"none\" points=\"247,-2241.5 247,-2287.5 \" stroke=\"#000000\"/>\n<text fill=\"#000000\" font-family=\"Times,serif\" font-size=\"14.00\" text-anchor=\"middle\" x=\"290.5\" y=\"-2272.3\">(None, 800)</text>\n<polyline fill=\"none\" points=\"247,-2264.5 334,-2264.5 \" stroke=\"#000000\"/>\n<text fill=\"#000000\" font-family=\"Times,serif\" font-size=\"14.00\" text-anchor=\"middle\" x=\"290.5\" y=\"-2249.3\">(None, 800)</text>\n</g>\n<!-- 140237938700184&#45;&gt;140239326110440 -->\n<g class=\"edge\" id=\"edge5\">\n<title>140237938700184-&gt;140239326110440</title>\n<path d=\"M208,-2324.3799C208,-2316.1745 208,-2306.7679 208,-2297.8786\" fill=\"none\" stroke=\"#000000\"/>\n<polygon fill=\"#000000\" points=\"211.5001,-2297.784 208,-2287.784 204.5001,-2297.784 211.5001,-2297.784\" stroke=\"#000000\"/>\n</g>\n<!-- 140237937417688 -->\n<g class=\"node\" id=\"node7\">\n<title>140237937417688</title>\n<polygon fill=\"none\" points=\"82,-2158.5 82,-2204.5 334,-2204.5 334,-2158.5 82,-2158.5\" stroke=\"#000000\"/>\n<text fill=\"#000000\" font-family=\"Times,serif\" font-size=\"14.00\" text-anchor=\"middle\" x=\"135.5\" y=\"-2177.8\">dense_4: Dense</text>\n<polyline fill=\"none\" points=\"189,-2158.5 189,-2204.5 \" stroke=\"#000000\"/>\n<text fill=\"#000000\" font-family=\"Times,serif\" font-size=\"14.00\" text-anchor=\"middle\" x=\"218\" y=\"-2189.3\">input:</text>\n<polyline fill=\"none\" points=\"189,-2181.5 247,-2181.5 \" stroke=\"#000000\"/>\n<text fill=\"#000000\" font-family=\"Times,serif\" font-size=\"14.00\" text-anchor=\"middle\" x=\"218\" y=\"-2166.3\">output:</text>\n<polyline fill=\"none\" points=\"247,-2158.5 247,-2204.5 \" stroke=\"#000000\"/>\n<text fill=\"#000000\" font-family=\"Times,serif\" font-size=\"14.00\" text-anchor=\"middle\" x=\"290.5\" y=\"-2189.3\">(None, 800)</text>\n<polyline fill=\"none\" points=\"247,-2181.5 334,-2181.5 \" stroke=\"#000000\"/>\n<text fill=\"#000000\" font-family=\"Times,serif\" font-size=\"14.00\" text-anchor=\"middle\" x=\"290.5\" y=\"-2166.3\">(None, 800)</text>\n</g>\n<!-- 140239326110440&#45;&gt;140237937417688 -->\n<g class=\"edge\" id=\"edge6\">\n<title>140239326110440-&gt;140237937417688</title>\n<path d=\"M208,-2241.3799C208,-2233.1745 208,-2223.7679 208,-2214.8786\" fill=\"none\" stroke=\"#000000\"/>\n<polygon fill=\"#000000\" points=\"211.5001,-2214.784 208,-2204.784 204.5001,-2214.784 211.5001,-2214.784\" stroke=\"#000000\"/>\n</g>\n<!-- 140237936353352 -->\n<g class=\"node\" id=\"node8\">\n<title>140237936353352</title>\n<polygon fill=\"none\" points=\"0,-2075.5 0,-2121.5 416,-2121.5 416,-2075.5 0,-2075.5\" stroke=\"#000000\"/>\n<text fill=\"#000000\" font-family=\"Times,serif\" font-size=\"14.00\" text-anchor=\"middle\" x=\"135.5\" y=\"-2094.8\">batch_normalization_2: BatchNormalization</text>\n<polyline fill=\"none\" points=\"271,-2075.5 271,-2121.5 \" stroke=\"#000000\"/>\n<text fill=\"#000000\" font-family=\"Times,serif\" font-size=\"14.00\" text-anchor=\"middle\" x=\"300\" y=\"-2106.3\">input:</text>\n<polyline fill=\"none\" points=\"271,-2098.5 329,-2098.5 \" stroke=\"#000000\"/>\n<text fill=\"#000000\" font-family=\"Times,serif\" font-size=\"14.00\" text-anchor=\"middle\" x=\"300\" y=\"-2083.3\">output:</text>\n<polyline fill=\"none\" points=\"329,-2075.5 329,-2121.5 \" stroke=\"#000000\"/>\n<text fill=\"#000000\" font-family=\"Times,serif\" font-size=\"14.00\" text-anchor=\"middle\" x=\"372.5\" y=\"-2106.3\">(None, 800)</text>\n<polyline fill=\"none\" points=\"329,-2098.5 416,-2098.5 \" stroke=\"#000000\"/>\n<text fill=\"#000000\" font-family=\"Times,serif\" font-size=\"14.00\" text-anchor=\"middle\" x=\"372.5\" y=\"-2083.3\">(None, 800)</text>\n</g>\n<!-- 140237937417688&#45;&gt;140237936353352 -->\n<g class=\"edge\" id=\"edge7\">\n<title>140237937417688-&gt;140237936353352</title>\n<path d=\"M208,-2158.3799C208,-2150.1745 208,-2140.7679 208,-2131.8786\" fill=\"none\" stroke=\"#000000\"/>\n<polygon fill=\"#000000\" points=\"211.5001,-2131.784 208,-2121.784 204.5001,-2131.784 211.5001,-2131.784\" stroke=\"#000000\"/>\n</g>\n<!-- 140237936354024 -->\n<g class=\"node\" id=\"node9\">\n<title>140237936354024</title>\n<polygon fill=\"none\" points=\"58.5,-1992.5 58.5,-2038.5 357.5,-2038.5 357.5,-1992.5 58.5,-1992.5\" stroke=\"#000000\"/>\n<text fill=\"#000000\" font-family=\"Times,serif\" font-size=\"14.00\" text-anchor=\"middle\" x=\"135.5\" y=\"-2011.8\">activation_2: Activation</text>\n<polyline fill=\"none\" points=\"212.5,-1992.5 212.5,-2038.5 \" stroke=\"#000000\"/>\n<text fill=\"#000000\" font-family=\"Times,serif\" font-size=\"14.00\" text-anchor=\"middle\" x=\"241.5\" y=\"-2023.3\">input:</text>\n<polyline fill=\"none\" points=\"212.5,-2015.5 270.5,-2015.5 \" stroke=\"#000000\"/>\n<text fill=\"#000000\" font-family=\"Times,serif\" font-size=\"14.00\" text-anchor=\"middle\" x=\"241.5\" y=\"-2000.3\">output:</text>\n<polyline fill=\"none\" points=\"270.5,-1992.5 270.5,-2038.5 \" stroke=\"#000000\"/>\n<text fill=\"#000000\" font-family=\"Times,serif\" font-size=\"14.00\" text-anchor=\"middle\" x=\"314\" y=\"-2023.3\">(None, 800)</text>\n<polyline fill=\"none\" points=\"270.5,-2015.5 357.5,-2015.5 \" stroke=\"#000000\"/>\n<text fill=\"#000000\" font-family=\"Times,serif\" font-size=\"14.00\" text-anchor=\"middle\" x=\"314\" y=\"-2000.3\">(None, 800)</text>\n</g>\n<!-- 140237936353352&#45;&gt;140237936354024 -->\n<g class=\"edge\" id=\"edge8\">\n<title>140237936353352-&gt;140237936354024</title>\n<path d=\"M208,-2075.3799C208,-2067.1745 208,-2057.7679 208,-2048.8786\" fill=\"none\" stroke=\"#000000\"/>\n<polygon fill=\"#000000\" points=\"211.5001,-2048.784 208,-2038.784 204.5001,-2048.784 211.5001,-2048.784\" stroke=\"#000000\"/>\n</g>\n<!-- 140237936278944 -->\n<g class=\"node\" id=\"node10\">\n<title>140237936278944</title>\n<polygon fill=\"none\" points=\"82,-1909.5 82,-1955.5 334,-1955.5 334,-1909.5 82,-1909.5\" stroke=\"#000000\"/>\n<text fill=\"#000000\" font-family=\"Times,serif\" font-size=\"14.00\" text-anchor=\"middle\" x=\"135.5\" y=\"-1928.8\">dense_5: Dense</text>\n<polyline fill=\"none\" points=\"189,-1909.5 189,-1955.5 \" stroke=\"#000000\"/>\n<text fill=\"#000000\" font-family=\"Times,serif\" font-size=\"14.00\" text-anchor=\"middle\" x=\"218\" y=\"-1940.3\">input:</text>\n<polyline fill=\"none\" points=\"189,-1932.5 247,-1932.5 \" stroke=\"#000000\"/>\n<text fill=\"#000000\" font-family=\"Times,serif\" font-size=\"14.00\" text-anchor=\"middle\" x=\"218\" y=\"-1917.3\">output:</text>\n<polyline fill=\"none\" points=\"247,-1909.5 247,-1955.5 \" stroke=\"#000000\"/>\n<text fill=\"#000000\" font-family=\"Times,serif\" font-size=\"14.00\" text-anchor=\"middle\" x=\"290.5\" y=\"-1940.3\">(None, 800)</text>\n<polyline fill=\"none\" points=\"247,-1932.5 334,-1932.5 \" stroke=\"#000000\"/>\n<text fill=\"#000000\" font-family=\"Times,serif\" font-size=\"14.00\" text-anchor=\"middle\" x=\"290.5\" y=\"-1917.3\">(None, 800)</text>\n</g>\n<!-- 140237936354024&#45;&gt;140237936278944 -->\n<g class=\"edge\" id=\"edge9\">\n<title>140237936354024-&gt;140237936278944</title>\n<path d=\"M208,-1992.3799C208,-1984.1745 208,-1974.7679 208,-1965.8786\" fill=\"none\" stroke=\"#000000\"/>\n<polygon fill=\"#000000\" points=\"211.5001,-1965.784 208,-1955.784 204.5001,-1965.784 211.5001,-1965.784\" stroke=\"#000000\"/>\n</g>\n<!-- 140237935504912 -->\n<g class=\"node\" id=\"node11\">\n<title>140237935504912</title>\n<polygon fill=\"none\" points=\"82,-1826.5 82,-1872.5 334,-1872.5 334,-1826.5 82,-1826.5\" stroke=\"#000000\"/>\n<text fill=\"#000000\" font-family=\"Times,serif\" font-size=\"14.00\" text-anchor=\"middle\" x=\"135.5\" y=\"-1845.8\">dense_6: Dense</text>\n<polyline fill=\"none\" points=\"189,-1826.5 189,-1872.5 \" stroke=\"#000000\"/>\n<text fill=\"#000000\" font-family=\"Times,serif\" font-size=\"14.00\" text-anchor=\"middle\" x=\"218\" y=\"-1857.3\">input:</text>\n<polyline fill=\"none\" points=\"189,-1849.5 247,-1849.5 \" stroke=\"#000000\"/>\n<text fill=\"#000000\" font-family=\"Times,serif\" font-size=\"14.00\" text-anchor=\"middle\" x=\"218\" y=\"-1834.3\">output:</text>\n<polyline fill=\"none\" points=\"247,-1826.5 247,-1872.5 \" stroke=\"#000000\"/>\n<text fill=\"#000000\" font-family=\"Times,serif\" font-size=\"14.00\" text-anchor=\"middle\" x=\"290.5\" y=\"-1857.3\">(None, 800)</text>\n<polyline fill=\"none\" points=\"247,-1849.5 334,-1849.5 \" stroke=\"#000000\"/>\n<text fill=\"#000000\" font-family=\"Times,serif\" font-size=\"14.00\" text-anchor=\"middle\" x=\"290.5\" y=\"-1834.3\">(None, 800)</text>\n</g>\n<!-- 140237936278944&#45;&gt;140237935504912 -->\n<g class=\"edge\" id=\"edge10\">\n<title>140237936278944-&gt;140237935504912</title>\n<path d=\"M208,-1909.3799C208,-1901.1745 208,-1891.7679 208,-1882.8786\" fill=\"none\" stroke=\"#000000\"/>\n<polygon fill=\"#000000\" points=\"211.5001,-1882.784 208,-1872.784 204.5001,-1882.784 211.5001,-1882.784\" stroke=\"#000000\"/>\n</g>\n<!-- 140237935612312 -->\n<g class=\"node\" id=\"node12\">\n<title>140237935612312</title>\n<polygon fill=\"none\" points=\"0,-1743.5 0,-1789.5 416,-1789.5 416,-1743.5 0,-1743.5\" stroke=\"#000000\"/>\n<text fill=\"#000000\" font-family=\"Times,serif\" font-size=\"14.00\" text-anchor=\"middle\" x=\"135.5\" y=\"-1762.8\">batch_normalization_3: BatchNormalization</text>\n<polyline fill=\"none\" points=\"271,-1743.5 271,-1789.5 \" stroke=\"#000000\"/>\n<text fill=\"#000000\" font-family=\"Times,serif\" font-size=\"14.00\" text-anchor=\"middle\" x=\"300\" y=\"-1774.3\">input:</text>\n<polyline fill=\"none\" points=\"271,-1766.5 329,-1766.5 \" stroke=\"#000000\"/>\n<text fill=\"#000000\" font-family=\"Times,serif\" font-size=\"14.00\" text-anchor=\"middle\" x=\"300\" y=\"-1751.3\">output:</text>\n<polyline fill=\"none\" points=\"329,-1743.5 329,-1789.5 \" stroke=\"#000000\"/>\n<text fill=\"#000000\" font-family=\"Times,serif\" font-size=\"14.00\" text-anchor=\"middle\" x=\"372.5\" y=\"-1774.3\">(None, 800)</text>\n<polyline fill=\"none\" points=\"329,-1766.5 416,-1766.5 \" stroke=\"#000000\"/>\n<text fill=\"#000000\" font-family=\"Times,serif\" font-size=\"14.00\" text-anchor=\"middle\" x=\"372.5\" y=\"-1751.3\">(None, 800)</text>\n</g>\n<!-- 140237935504912&#45;&gt;140237935612312 -->\n<g class=\"edge\" id=\"edge11\">\n<title>140237935504912-&gt;140237935612312</title>\n<path d=\"M208,-1826.3799C208,-1818.1745 208,-1808.7679 208,-1799.8786\" fill=\"none\" stroke=\"#000000\"/>\n<polygon fill=\"#000000\" points=\"211.5001,-1799.784 208,-1789.784 204.5001,-1799.784 211.5001,-1799.784\" stroke=\"#000000\"/>\n</g>\n<!-- 140237935612872 -->\n<g class=\"node\" id=\"node13\">\n<title>140237935612872</title>\n<polygon fill=\"none\" points=\"58.5,-1660.5 58.5,-1706.5 357.5,-1706.5 357.5,-1660.5 58.5,-1660.5\" stroke=\"#000000\"/>\n<text fill=\"#000000\" font-family=\"Times,serif\" font-size=\"14.00\" text-anchor=\"middle\" x=\"135.5\" y=\"-1679.8\">activation_3: Activation</text>\n<polyline fill=\"none\" points=\"212.5,-1660.5 212.5,-1706.5 \" stroke=\"#000000\"/>\n<text fill=\"#000000\" font-family=\"Times,serif\" font-size=\"14.00\" text-anchor=\"middle\" x=\"241.5\" y=\"-1691.3\">input:</text>\n<polyline fill=\"none\" points=\"212.5,-1683.5 270.5,-1683.5 \" stroke=\"#000000\"/>\n<text fill=\"#000000\" font-family=\"Times,serif\" font-size=\"14.00\" text-anchor=\"middle\" x=\"241.5\" y=\"-1668.3\">output:</text>\n<polyline fill=\"none\" points=\"270.5,-1660.5 270.5,-1706.5 \" stroke=\"#000000\"/>\n<text fill=\"#000000\" font-family=\"Times,serif\" font-size=\"14.00\" text-anchor=\"middle\" x=\"314\" y=\"-1691.3\">(None, 800)</text>\n<polyline fill=\"none\" points=\"270.5,-1683.5 357.5,-1683.5 \" stroke=\"#000000\"/>\n<text fill=\"#000000\" font-family=\"Times,serif\" font-size=\"14.00\" text-anchor=\"middle\" x=\"314\" y=\"-1668.3\">(None, 800)</text>\n</g>\n<!-- 140237935612312&#45;&gt;140237935612872 -->\n<g class=\"edge\" id=\"edge12\">\n<title>140237935612312-&gt;140237935612872</title>\n<path d=\"M208,-1743.3799C208,-1735.1745 208,-1725.7679 208,-1716.8786\" fill=\"none\" stroke=\"#000000\"/>\n<polygon fill=\"#000000\" points=\"211.5001,-1716.784 208,-1706.784 204.5001,-1716.784 211.5001,-1716.784\" stroke=\"#000000\"/>\n</g>\n<!-- 140237935652368 -->\n<g class=\"node\" id=\"node14\">\n<title>140237935652368</title>\n<polygon fill=\"none\" points=\"82,-1577.5 82,-1623.5 334,-1623.5 334,-1577.5 82,-1577.5\" stroke=\"#000000\"/>\n<text fill=\"#000000\" font-family=\"Times,serif\" font-size=\"14.00\" text-anchor=\"middle\" x=\"135.5\" y=\"-1596.8\">dense_7: Dense</text>\n<polyline fill=\"none\" points=\"189,-1577.5 189,-1623.5 \" stroke=\"#000000\"/>\n<text fill=\"#000000\" font-family=\"Times,serif\" font-size=\"14.00\" text-anchor=\"middle\" x=\"218\" y=\"-1608.3\">input:</text>\n<polyline fill=\"none\" points=\"189,-1600.5 247,-1600.5 \" stroke=\"#000000\"/>\n<text fill=\"#000000\" font-family=\"Times,serif\" font-size=\"14.00\" text-anchor=\"middle\" x=\"218\" y=\"-1585.3\">output:</text>\n<polyline fill=\"none\" points=\"247,-1577.5 247,-1623.5 \" stroke=\"#000000\"/>\n<text fill=\"#000000\" font-family=\"Times,serif\" font-size=\"14.00\" text-anchor=\"middle\" x=\"290.5\" y=\"-1608.3\">(None, 800)</text>\n<polyline fill=\"none\" points=\"247,-1600.5 334,-1600.5 \" stroke=\"#000000\"/>\n<text fill=\"#000000\" font-family=\"Times,serif\" font-size=\"14.00\" text-anchor=\"middle\" x=\"290.5\" y=\"-1585.3\">(None, 800)</text>\n</g>\n<!-- 140237935612872&#45;&gt;140237935652368 -->\n<g class=\"edge\" id=\"edge13\">\n<title>140237935612872-&gt;140237935652368</title>\n<path d=\"M208,-1660.3799C208,-1652.1745 208,-1642.7679 208,-1633.8786\" fill=\"none\" stroke=\"#000000\"/>\n<polygon fill=\"#000000\" points=\"211.5001,-1633.784 208,-1623.784 204.5001,-1633.784 211.5001,-1633.784\" stroke=\"#000000\"/>\n</g>\n<!-- 140237935413960 -->\n<g class=\"node\" id=\"node15\">\n<title>140237935413960</title>\n<polygon fill=\"none\" points=\"82,-1494.5 82,-1540.5 334,-1540.5 334,-1494.5 82,-1494.5\" stroke=\"#000000\"/>\n<text fill=\"#000000\" font-family=\"Times,serif\" font-size=\"14.00\" text-anchor=\"middle\" x=\"135.5\" y=\"-1513.8\">dense_8: Dense</text>\n<polyline fill=\"none\" points=\"189,-1494.5 189,-1540.5 \" stroke=\"#000000\"/>\n<text fill=\"#000000\" font-family=\"Times,serif\" font-size=\"14.00\" text-anchor=\"middle\" x=\"218\" y=\"-1525.3\">input:</text>\n<polyline fill=\"none\" points=\"189,-1517.5 247,-1517.5 \" stroke=\"#000000\"/>\n<text fill=\"#000000\" font-family=\"Times,serif\" font-size=\"14.00\" text-anchor=\"middle\" x=\"218\" y=\"-1502.3\">output:</text>\n<polyline fill=\"none\" points=\"247,-1494.5 247,-1540.5 \" stroke=\"#000000\"/>\n<text fill=\"#000000\" font-family=\"Times,serif\" font-size=\"14.00\" text-anchor=\"middle\" x=\"290.5\" y=\"-1525.3\">(None, 800)</text>\n<polyline fill=\"none\" points=\"247,-1517.5 334,-1517.5 \" stroke=\"#000000\"/>\n<text fill=\"#000000\" font-family=\"Times,serif\" font-size=\"14.00\" text-anchor=\"middle\" x=\"290.5\" y=\"-1502.3\">(None, 800)</text>\n</g>\n<!-- 140237935652368&#45;&gt;140237935413960 -->\n<g class=\"edge\" id=\"edge14\">\n<title>140237935652368-&gt;140237935413960</title>\n<path d=\"M208,-1577.3799C208,-1569.1745 208,-1559.7679 208,-1550.8786\" fill=\"none\" stroke=\"#000000\"/>\n<polygon fill=\"#000000\" points=\"211.5001,-1550.784 208,-1540.784 204.5001,-1550.784 211.5001,-1550.784\" stroke=\"#000000\"/>\n</g>\n<!-- 140237938346080 -->\n<g class=\"node\" id=\"node16\">\n<title>140237938346080</title>\n<polygon fill=\"none\" points=\"0,-1411.5 0,-1457.5 416,-1457.5 416,-1411.5 0,-1411.5\" stroke=\"#000000\"/>\n<text fill=\"#000000\" font-family=\"Times,serif\" font-size=\"14.00\" text-anchor=\"middle\" x=\"135.5\" y=\"-1430.8\">batch_normalization_4: BatchNormalization</text>\n<polyline fill=\"none\" points=\"271,-1411.5 271,-1457.5 \" stroke=\"#000000\"/>\n<text fill=\"#000000\" font-family=\"Times,serif\" font-size=\"14.00\" text-anchor=\"middle\" x=\"300\" y=\"-1442.3\">input:</text>\n<polyline fill=\"none\" points=\"271,-1434.5 329,-1434.5 \" stroke=\"#000000\"/>\n<text fill=\"#000000\" font-family=\"Times,serif\" font-size=\"14.00\" text-anchor=\"middle\" x=\"300\" y=\"-1419.3\">output:</text>\n<polyline fill=\"none\" points=\"329,-1411.5 329,-1457.5 \" stroke=\"#000000\"/>\n<text fill=\"#000000\" font-family=\"Times,serif\" font-size=\"14.00\" text-anchor=\"middle\" x=\"372.5\" y=\"-1442.3\">(None, 800)</text>\n<polyline fill=\"none\" points=\"329,-1434.5 416,-1434.5 \" stroke=\"#000000\"/>\n<text fill=\"#000000\" font-family=\"Times,serif\" font-size=\"14.00\" text-anchor=\"middle\" x=\"372.5\" y=\"-1419.3\">(None, 800)</text>\n</g>\n<!-- 140237935413960&#45;&gt;140237938346080 -->\n<g class=\"edge\" id=\"edge15\">\n<title>140237935413960-&gt;140237938346080</title>\n<path d=\"M208,-1494.3799C208,-1486.1745 208,-1476.7679 208,-1467.8786\" fill=\"none\" stroke=\"#000000\"/>\n<polygon fill=\"#000000\" points=\"211.5001,-1467.784 208,-1457.784 204.5001,-1467.784 211.5001,-1467.784\" stroke=\"#000000\"/>\n</g>\n<!-- 140237938345240 -->\n<g class=\"node\" id=\"node17\">\n<title>140237938345240</title>\n<polygon fill=\"none\" points=\"58.5,-1328.5 58.5,-1374.5 357.5,-1374.5 357.5,-1328.5 58.5,-1328.5\" stroke=\"#000000\"/>\n<text fill=\"#000000\" font-family=\"Times,serif\" font-size=\"14.00\" text-anchor=\"middle\" x=\"135.5\" y=\"-1347.8\">activation_4: Activation</text>\n<polyline fill=\"none\" points=\"212.5,-1328.5 212.5,-1374.5 \" stroke=\"#000000\"/>\n<text fill=\"#000000\" font-family=\"Times,serif\" font-size=\"14.00\" text-anchor=\"middle\" x=\"241.5\" y=\"-1359.3\">input:</text>\n<polyline fill=\"none\" points=\"212.5,-1351.5 270.5,-1351.5 \" stroke=\"#000000\"/>\n<text fill=\"#000000\" font-family=\"Times,serif\" font-size=\"14.00\" text-anchor=\"middle\" x=\"241.5\" y=\"-1336.3\">output:</text>\n<polyline fill=\"none\" points=\"270.5,-1328.5 270.5,-1374.5 \" stroke=\"#000000\"/>\n<text fill=\"#000000\" font-family=\"Times,serif\" font-size=\"14.00\" text-anchor=\"middle\" x=\"314\" y=\"-1359.3\">(None, 800)</text>\n<polyline fill=\"none\" points=\"270.5,-1351.5 357.5,-1351.5 \" stroke=\"#000000\"/>\n<text fill=\"#000000\" font-family=\"Times,serif\" font-size=\"14.00\" text-anchor=\"middle\" x=\"314\" y=\"-1336.3\">(None, 800)</text>\n</g>\n<!-- 140237938346080&#45;&gt;140237938345240 -->\n<g class=\"edge\" id=\"edge16\">\n<title>140237938346080-&gt;140237938345240</title>\n<path d=\"M208,-1411.3799C208,-1403.1745 208,-1393.7679 208,-1384.8786\" fill=\"none\" stroke=\"#000000\"/>\n<polygon fill=\"#000000\" points=\"211.5001,-1384.784 208,-1374.784 204.5001,-1384.784 211.5001,-1384.784\" stroke=\"#000000\"/>\n</g>\n<!-- 140237938372392 -->\n<g class=\"node\" id=\"node18\">\n<title>140237938372392</title>\n<polygon fill=\"none\" points=\"82,-1245.5 82,-1291.5 334,-1291.5 334,-1245.5 82,-1245.5\" stroke=\"#000000\"/>\n<text fill=\"#000000\" font-family=\"Times,serif\" font-size=\"14.00\" text-anchor=\"middle\" x=\"135.5\" y=\"-1264.8\">dense_9: Dense</text>\n<polyline fill=\"none\" points=\"189,-1245.5 189,-1291.5 \" stroke=\"#000000\"/>\n<text fill=\"#000000\" font-family=\"Times,serif\" font-size=\"14.00\" text-anchor=\"middle\" x=\"218\" y=\"-1276.3\">input:</text>\n<polyline fill=\"none\" points=\"189,-1268.5 247,-1268.5 \" stroke=\"#000000\"/>\n<text fill=\"#000000\" font-family=\"Times,serif\" font-size=\"14.00\" text-anchor=\"middle\" x=\"218\" y=\"-1253.3\">output:</text>\n<polyline fill=\"none\" points=\"247,-1245.5 247,-1291.5 \" stroke=\"#000000\"/>\n<text fill=\"#000000\" font-family=\"Times,serif\" font-size=\"14.00\" text-anchor=\"middle\" x=\"290.5\" y=\"-1276.3\">(None, 800)</text>\n<polyline fill=\"none\" points=\"247,-1268.5 334,-1268.5 \" stroke=\"#000000\"/>\n<text fill=\"#000000\" font-family=\"Times,serif\" font-size=\"14.00\" text-anchor=\"middle\" x=\"290.5\" y=\"-1253.3\">(None, 800)</text>\n</g>\n<!-- 140237938345240&#45;&gt;140237938372392 -->\n<g class=\"edge\" id=\"edge17\">\n<title>140237938345240-&gt;140237938372392</title>\n<path d=\"M208,-1328.3799C208,-1320.1745 208,-1310.7679 208,-1301.8786\" fill=\"none\" stroke=\"#000000\"/>\n<polygon fill=\"#000000\" points=\"211.5001,-1301.784 208,-1291.784 204.5001,-1301.784 211.5001,-1301.784\" stroke=\"#000000\"/>\n</g>\n<!-- 140237938105480 -->\n<g class=\"node\" id=\"node19\">\n<title>140237938105480</title>\n<polygon fill=\"none\" points=\"78.5,-1162.5 78.5,-1208.5 337.5,-1208.5 337.5,-1162.5 78.5,-1162.5\" stroke=\"#000000\"/>\n<text fill=\"#000000\" font-family=\"Times,serif\" font-size=\"14.00\" text-anchor=\"middle\" x=\"135.5\" y=\"-1181.8\">dense_10: Dense</text>\n<polyline fill=\"none\" points=\"192.5,-1162.5 192.5,-1208.5 \" stroke=\"#000000\"/>\n<text fill=\"#000000\" font-family=\"Times,serif\" font-size=\"14.00\" text-anchor=\"middle\" x=\"221.5\" y=\"-1193.3\">input:</text>\n<polyline fill=\"none\" points=\"192.5,-1185.5 250.5,-1185.5 \" stroke=\"#000000\"/>\n<text fill=\"#000000\" font-family=\"Times,serif\" font-size=\"14.00\" text-anchor=\"middle\" x=\"221.5\" y=\"-1170.3\">output:</text>\n<polyline fill=\"none\" points=\"250.5,-1162.5 250.5,-1208.5 \" stroke=\"#000000\"/>\n<text fill=\"#000000\" font-family=\"Times,serif\" font-size=\"14.00\" text-anchor=\"middle\" x=\"294\" y=\"-1193.3\">(None, 800)</text>\n<polyline fill=\"none\" points=\"250.5,-1185.5 337.5,-1185.5 \" stroke=\"#000000\"/>\n<text fill=\"#000000\" font-family=\"Times,serif\" font-size=\"14.00\" text-anchor=\"middle\" x=\"294\" y=\"-1170.3\">(None, 800)</text>\n</g>\n<!-- 140237938372392&#45;&gt;140237938105480 -->\n<g class=\"edge\" id=\"edge18\">\n<title>140237938372392-&gt;140237938105480</title>\n<path d=\"M208,-1245.3799C208,-1237.1745 208,-1227.7679 208,-1218.8786\" fill=\"none\" stroke=\"#000000\"/>\n<polygon fill=\"#000000\" points=\"211.5001,-1218.784 208,-1208.784 204.5001,-1218.784 211.5001,-1218.784\" stroke=\"#000000\"/>\n</g>\n<!-- 140237938174552 -->\n<g class=\"node\" id=\"node20\">\n<title>140237938174552</title>\n<polygon fill=\"none\" points=\"0,-1079.5 0,-1125.5 416,-1125.5 416,-1079.5 0,-1079.5\" stroke=\"#000000\"/>\n<text fill=\"#000000\" font-family=\"Times,serif\" font-size=\"14.00\" text-anchor=\"middle\" x=\"135.5\" y=\"-1098.8\">batch_normalization_5: BatchNormalization</text>\n<polyline fill=\"none\" points=\"271,-1079.5 271,-1125.5 \" stroke=\"#000000\"/>\n<text fill=\"#000000\" font-family=\"Times,serif\" font-size=\"14.00\" text-anchor=\"middle\" x=\"300\" y=\"-1110.3\">input:</text>\n<polyline fill=\"none\" points=\"271,-1102.5 329,-1102.5 \" stroke=\"#000000\"/>\n<text fill=\"#000000\" font-family=\"Times,serif\" font-size=\"14.00\" text-anchor=\"middle\" x=\"300\" y=\"-1087.3\">output:</text>\n<polyline fill=\"none\" points=\"329,-1079.5 329,-1125.5 \" stroke=\"#000000\"/>\n<text fill=\"#000000\" font-family=\"Times,serif\" font-size=\"14.00\" text-anchor=\"middle\" x=\"372.5\" y=\"-1110.3\">(None, 800)</text>\n<polyline fill=\"none\" points=\"329,-1102.5 416,-1102.5 \" stroke=\"#000000\"/>\n<text fill=\"#000000\" font-family=\"Times,serif\" font-size=\"14.00\" text-anchor=\"middle\" x=\"372.5\" y=\"-1087.3\">(None, 800)</text>\n</g>\n<!-- 140237938105480&#45;&gt;140237938174552 -->\n<g class=\"edge\" id=\"edge19\">\n<title>140237938105480-&gt;140237938174552</title>\n<path d=\"M208,-1162.3799C208,-1154.1745 208,-1144.7679 208,-1135.8786\" fill=\"none\" stroke=\"#000000\"/>\n<polygon fill=\"#000000\" points=\"211.5001,-1135.784 208,-1125.784 204.5001,-1135.784 211.5001,-1135.784\" stroke=\"#000000\"/>\n</g>\n<!-- 140237938199744 -->\n<g class=\"node\" id=\"node21\">\n<title>140237938199744</title>\n<polygon fill=\"none\" points=\"58.5,-996.5 58.5,-1042.5 357.5,-1042.5 357.5,-996.5 58.5,-996.5\" stroke=\"#000000\"/>\n<text fill=\"#000000\" font-family=\"Times,serif\" font-size=\"14.00\" text-anchor=\"middle\" x=\"135.5\" y=\"-1015.8\">activation_5: Activation</text>\n<polyline fill=\"none\" points=\"212.5,-996.5 212.5,-1042.5 \" stroke=\"#000000\"/>\n<text fill=\"#000000\" font-family=\"Times,serif\" font-size=\"14.00\" text-anchor=\"middle\" x=\"241.5\" y=\"-1027.3\">input:</text>\n<polyline fill=\"none\" points=\"212.5,-1019.5 270.5,-1019.5 \" stroke=\"#000000\"/>\n<text fill=\"#000000\" font-family=\"Times,serif\" font-size=\"14.00\" text-anchor=\"middle\" x=\"241.5\" y=\"-1004.3\">output:</text>\n<polyline fill=\"none\" points=\"270.5,-996.5 270.5,-1042.5 \" stroke=\"#000000\"/>\n<text fill=\"#000000\" font-family=\"Times,serif\" font-size=\"14.00\" text-anchor=\"middle\" x=\"314\" y=\"-1027.3\">(None, 800)</text>\n<polyline fill=\"none\" points=\"270.5,-1019.5 357.5,-1019.5 \" stroke=\"#000000\"/>\n<text fill=\"#000000\" font-family=\"Times,serif\" font-size=\"14.00\" text-anchor=\"middle\" x=\"314\" y=\"-1004.3\">(None, 800)</text>\n</g>\n<!-- 140237938174552&#45;&gt;140237938199744 -->\n<g class=\"edge\" id=\"edge20\">\n<title>140237938174552-&gt;140237938199744</title>\n<path d=\"M208,-1079.3799C208,-1071.1745 208,-1061.7679 208,-1052.8786\" fill=\"none\" stroke=\"#000000\"/>\n<polygon fill=\"#000000\" points=\"211.5001,-1052.784 208,-1042.784 204.5001,-1052.784 211.5001,-1052.784\" stroke=\"#000000\"/>\n</g>\n<!-- 140237938222472 -->\n<g class=\"node\" id=\"node22\">\n<title>140237938222472</title>\n<polygon fill=\"none\" points=\"79,-913.5 79,-959.5 337,-959.5 337,-913.5 79,-913.5\" stroke=\"#000000\"/>\n<text fill=\"#000000\" font-family=\"Times,serif\" font-size=\"14.00\" text-anchor=\"middle\" x=\"135.5\" y=\"-932.8\">dense_11: Dense</text>\n<polyline fill=\"none\" points=\"192,-913.5 192,-959.5 \" stroke=\"#000000\"/>\n<text fill=\"#000000\" font-family=\"Times,serif\" font-size=\"14.00\" text-anchor=\"middle\" x=\"221\" y=\"-944.3\">input:</text>\n<polyline fill=\"none\" points=\"192,-936.5 250,-936.5 \" stroke=\"#000000\"/>\n<text fill=\"#000000\" font-family=\"Times,serif\" font-size=\"14.00\" text-anchor=\"middle\" x=\"221\" y=\"-921.3\">output:</text>\n<polyline fill=\"none\" points=\"250,-913.5 250,-959.5 \" stroke=\"#000000\"/>\n<text fill=\"#000000\" font-family=\"Times,serif\" font-size=\"14.00\" text-anchor=\"middle\" x=\"293.5\" y=\"-944.3\">(None, 800)</text>\n<polyline fill=\"none\" points=\"250,-936.5 337,-936.5 \" stroke=\"#000000\"/>\n<text fill=\"#000000\" font-family=\"Times,serif\" font-size=\"14.00\" text-anchor=\"middle\" x=\"293.5\" y=\"-921.3\">(None, 800)</text>\n</g>\n<!-- 140237938199744&#45;&gt;140237938222472 -->\n<g class=\"edge\" id=\"edge21\">\n<title>140237938199744-&gt;140237938222472</title>\n<path d=\"M208,-996.3799C208,-988.1745 208,-978.7679 208,-969.8786\" fill=\"none\" stroke=\"#000000\"/>\n<polygon fill=\"#000000\" points=\"211.5001,-969.784 208,-959.784 204.5001,-969.784 211.5001,-969.784\" stroke=\"#000000\"/>\n</g>\n<!-- 140237938337440 -->\n<g class=\"node\" id=\"node23\">\n<title>140237938337440</title>\n<polygon fill=\"none\" points=\"78.5,-830.5 78.5,-876.5 337.5,-876.5 337.5,-830.5 78.5,-830.5\" stroke=\"#000000\"/>\n<text fill=\"#000000\" font-family=\"Times,serif\" font-size=\"14.00\" text-anchor=\"middle\" x=\"135.5\" y=\"-849.8\">dense_12: Dense</text>\n<polyline fill=\"none\" points=\"192.5,-830.5 192.5,-876.5 \" stroke=\"#000000\"/>\n<text fill=\"#000000\" font-family=\"Times,serif\" font-size=\"14.00\" text-anchor=\"middle\" x=\"221.5\" y=\"-861.3\">input:</text>\n<polyline fill=\"none\" points=\"192.5,-853.5 250.5,-853.5 \" stroke=\"#000000\"/>\n<text fill=\"#000000\" font-family=\"Times,serif\" font-size=\"14.00\" text-anchor=\"middle\" x=\"221.5\" y=\"-838.3\">output:</text>\n<polyline fill=\"none\" points=\"250.5,-830.5 250.5,-876.5 \" stroke=\"#000000\"/>\n<text fill=\"#000000\" font-family=\"Times,serif\" font-size=\"14.00\" text-anchor=\"middle\" x=\"294\" y=\"-861.3\">(None, 800)</text>\n<polyline fill=\"none\" points=\"250.5,-853.5 337.5,-853.5 \" stroke=\"#000000\"/>\n<text fill=\"#000000\" font-family=\"Times,serif\" font-size=\"14.00\" text-anchor=\"middle\" x=\"294\" y=\"-838.3\">(None, 800)</text>\n</g>\n<!-- 140237938222472&#45;&gt;140237938337440 -->\n<g class=\"edge\" id=\"edge22\">\n<title>140237938222472-&gt;140237938337440</title>\n<path d=\"M208,-913.3799C208,-905.1745 208,-895.7679 208,-886.8786\" fill=\"none\" stroke=\"#000000\"/>\n<polygon fill=\"#000000\" points=\"211.5001,-886.784 208,-876.784 204.5001,-886.784 211.5001,-886.784\" stroke=\"#000000\"/>\n</g>\n<!-- 140237937985408 -->\n<g class=\"node\" id=\"node24\">\n<title>140237937985408</title>\n<polygon fill=\"none\" points=\"0,-747.5 0,-793.5 416,-793.5 416,-747.5 0,-747.5\" stroke=\"#000000\"/>\n<text fill=\"#000000\" font-family=\"Times,serif\" font-size=\"14.00\" text-anchor=\"middle\" x=\"135.5\" y=\"-766.8\">batch_normalization_6: BatchNormalization</text>\n<polyline fill=\"none\" points=\"271,-747.5 271,-793.5 \" stroke=\"#000000\"/>\n<text fill=\"#000000\" font-family=\"Times,serif\" font-size=\"14.00\" text-anchor=\"middle\" x=\"300\" y=\"-778.3\">input:</text>\n<polyline fill=\"none\" points=\"271,-770.5 329,-770.5 \" stroke=\"#000000\"/>\n<text fill=\"#000000\" font-family=\"Times,serif\" font-size=\"14.00\" text-anchor=\"middle\" x=\"300\" y=\"-755.3\">output:</text>\n<polyline fill=\"none\" points=\"329,-747.5 329,-793.5 \" stroke=\"#000000\"/>\n<text fill=\"#000000\" font-family=\"Times,serif\" font-size=\"14.00\" text-anchor=\"middle\" x=\"372.5\" y=\"-778.3\">(None, 800)</text>\n<polyline fill=\"none\" points=\"329,-770.5 416,-770.5 \" stroke=\"#000000\"/>\n<text fill=\"#000000\" font-family=\"Times,serif\" font-size=\"14.00\" text-anchor=\"middle\" x=\"372.5\" y=\"-755.3\">(None, 800)</text>\n</g>\n<!-- 140237938337440&#45;&gt;140237937985408 -->\n<g class=\"edge\" id=\"edge23\">\n<title>140237938337440-&gt;140237937985408</title>\n<path d=\"M208,-830.3799C208,-822.1745 208,-812.7679 208,-803.8786\" fill=\"none\" stroke=\"#000000\"/>\n<polygon fill=\"#000000\" points=\"211.5001,-803.784 208,-793.784 204.5001,-803.784 211.5001,-803.784\" stroke=\"#000000\"/>\n</g>\n<!-- 140237938019744 -->\n<g class=\"node\" id=\"node25\">\n<title>140237938019744</title>\n<polygon fill=\"none\" points=\"58.5,-664.5 58.5,-710.5 357.5,-710.5 357.5,-664.5 58.5,-664.5\" stroke=\"#000000\"/>\n<text fill=\"#000000\" font-family=\"Times,serif\" font-size=\"14.00\" text-anchor=\"middle\" x=\"135.5\" y=\"-683.8\">activation_6: Activation</text>\n<polyline fill=\"none\" points=\"212.5,-664.5 212.5,-710.5 \" stroke=\"#000000\"/>\n<text fill=\"#000000\" font-family=\"Times,serif\" font-size=\"14.00\" text-anchor=\"middle\" x=\"241.5\" y=\"-695.3\">input:</text>\n<polyline fill=\"none\" points=\"212.5,-687.5 270.5,-687.5 \" stroke=\"#000000\"/>\n<text fill=\"#000000\" font-family=\"Times,serif\" font-size=\"14.00\" text-anchor=\"middle\" x=\"241.5\" y=\"-672.3\">output:</text>\n<polyline fill=\"none\" points=\"270.5,-664.5 270.5,-710.5 \" stroke=\"#000000\"/>\n<text fill=\"#000000\" font-family=\"Times,serif\" font-size=\"14.00\" text-anchor=\"middle\" x=\"314\" y=\"-695.3\">(None, 800)</text>\n<polyline fill=\"none\" points=\"270.5,-687.5 357.5,-687.5 \" stroke=\"#000000\"/>\n<text fill=\"#000000\" font-family=\"Times,serif\" font-size=\"14.00\" text-anchor=\"middle\" x=\"314\" y=\"-672.3\">(None, 800)</text>\n</g>\n<!-- 140237937985408&#45;&gt;140237938019744 -->\n<g class=\"edge\" id=\"edge24\">\n<title>140237937985408-&gt;140237938019744</title>\n<path d=\"M208,-747.3799C208,-739.1745 208,-729.7679 208,-720.8786\" fill=\"none\" stroke=\"#000000\"/>\n<polygon fill=\"#000000\" points=\"211.5001,-720.784 208,-710.784 204.5001,-720.784 211.5001,-720.784\" stroke=\"#000000\"/>\n</g>\n<!-- 140237938038376 -->\n<g class=\"node\" id=\"node26\">\n<title>140237938038376</title>\n<polygon fill=\"none\" points=\"78.5,-581.5 78.5,-627.5 337.5,-627.5 337.5,-581.5 78.5,-581.5\" stroke=\"#000000\"/>\n<text fill=\"#000000\" font-family=\"Times,serif\" font-size=\"14.00\" text-anchor=\"middle\" x=\"135.5\" y=\"-600.8\">dense_13: Dense</text>\n<polyline fill=\"none\" points=\"192.5,-581.5 192.5,-627.5 \" stroke=\"#000000\"/>\n<text fill=\"#000000\" font-family=\"Times,serif\" font-size=\"14.00\" text-anchor=\"middle\" x=\"221.5\" y=\"-612.3\">input:</text>\n<polyline fill=\"none\" points=\"192.5,-604.5 250.5,-604.5 \" stroke=\"#000000\"/>\n<text fill=\"#000000\" font-family=\"Times,serif\" font-size=\"14.00\" text-anchor=\"middle\" x=\"221.5\" y=\"-589.3\">output:</text>\n<polyline fill=\"none\" points=\"250.5,-581.5 250.5,-627.5 \" stroke=\"#000000\"/>\n<text fill=\"#000000\" font-family=\"Times,serif\" font-size=\"14.00\" text-anchor=\"middle\" x=\"294\" y=\"-612.3\">(None, 800)</text>\n<polyline fill=\"none\" points=\"250.5,-604.5 337.5,-604.5 \" stroke=\"#000000\"/>\n<text fill=\"#000000\" font-family=\"Times,serif\" font-size=\"14.00\" text-anchor=\"middle\" x=\"294\" y=\"-589.3\">(None, 800)</text>\n</g>\n<!-- 140237938019744&#45;&gt;140237938038376 -->\n<g class=\"edge\" id=\"edge25\">\n<title>140237938019744-&gt;140237938038376</title>\n<path d=\"M208,-664.3799C208,-656.1745 208,-646.7679 208,-637.8786\" fill=\"none\" stroke=\"#000000\"/>\n<polygon fill=\"#000000\" points=\"211.5001,-637.784 208,-627.784 204.5001,-637.784 211.5001,-637.784\" stroke=\"#000000\"/>\n</g>\n<!-- 140237937629000 -->\n<g class=\"node\" id=\"node27\">\n<title>140237937629000</title>\n<polygon fill=\"none\" points=\"78.5,-498.5 78.5,-544.5 337.5,-544.5 337.5,-498.5 78.5,-498.5\" stroke=\"#000000\"/>\n<text fill=\"#000000\" font-family=\"Times,serif\" font-size=\"14.00\" text-anchor=\"middle\" x=\"135.5\" y=\"-517.8\">dense_14: Dense</text>\n<polyline fill=\"none\" points=\"192.5,-498.5 192.5,-544.5 \" stroke=\"#000000\"/>\n<text fill=\"#000000\" font-family=\"Times,serif\" font-size=\"14.00\" text-anchor=\"middle\" x=\"221.5\" y=\"-529.3\">input:</text>\n<polyline fill=\"none\" points=\"192.5,-521.5 250.5,-521.5 \" stroke=\"#000000\"/>\n<text fill=\"#000000\" font-family=\"Times,serif\" font-size=\"14.00\" text-anchor=\"middle\" x=\"221.5\" y=\"-506.3\">output:</text>\n<polyline fill=\"none\" points=\"250.5,-498.5 250.5,-544.5 \" stroke=\"#000000\"/>\n<text fill=\"#000000\" font-family=\"Times,serif\" font-size=\"14.00\" text-anchor=\"middle\" x=\"294\" y=\"-529.3\">(None, 800)</text>\n<polyline fill=\"none\" points=\"250.5,-521.5 337.5,-521.5 \" stroke=\"#000000\"/>\n<text fill=\"#000000\" font-family=\"Times,serif\" font-size=\"14.00\" text-anchor=\"middle\" x=\"294\" y=\"-506.3\">(None, 800)</text>\n</g>\n<!-- 140237938038376&#45;&gt;140237937629000 -->\n<g class=\"edge\" id=\"edge26\">\n<title>140237938038376-&gt;140237937629000</title>\n<path d=\"M208,-581.3799C208,-573.1745 208,-563.7679 208,-554.8786\" fill=\"none\" stroke=\"#000000\"/>\n<polygon fill=\"#000000\" points=\"211.5001,-554.784 208,-544.784 204.5001,-554.784 211.5001,-554.784\" stroke=\"#000000\"/>\n</g>\n<!-- 140237937809504 -->\n<g class=\"node\" id=\"node28\">\n<title>140237937809504</title>\n<polygon fill=\"none\" points=\"0,-415.5 0,-461.5 416,-461.5 416,-415.5 0,-415.5\" stroke=\"#000000\"/>\n<text fill=\"#000000\" font-family=\"Times,serif\" font-size=\"14.00\" text-anchor=\"middle\" x=\"135.5\" y=\"-434.8\">batch_normalization_7: BatchNormalization</text>\n<polyline fill=\"none\" points=\"271,-415.5 271,-461.5 \" stroke=\"#000000\"/>\n<text fill=\"#000000\" font-family=\"Times,serif\" font-size=\"14.00\" text-anchor=\"middle\" x=\"300\" y=\"-446.3\">input:</text>\n<polyline fill=\"none\" points=\"271,-438.5 329,-438.5 \" stroke=\"#000000\"/>\n<text fill=\"#000000\" font-family=\"Times,serif\" font-size=\"14.00\" text-anchor=\"middle\" x=\"300\" y=\"-423.3\">output:</text>\n<polyline fill=\"none\" points=\"329,-415.5 329,-461.5 \" stroke=\"#000000\"/>\n<text fill=\"#000000\" font-family=\"Times,serif\" font-size=\"14.00\" text-anchor=\"middle\" x=\"372.5\" y=\"-446.3\">(None, 800)</text>\n<polyline fill=\"none\" points=\"329,-438.5 416,-438.5 \" stroke=\"#000000\"/>\n<text fill=\"#000000\" font-family=\"Times,serif\" font-size=\"14.00\" text-anchor=\"middle\" x=\"372.5\" y=\"-423.3\">(None, 800)</text>\n</g>\n<!-- 140237937629000&#45;&gt;140237937809504 -->\n<g class=\"edge\" id=\"edge27\">\n<title>140237937629000-&gt;140237937809504</title>\n<path d=\"M208,-498.3799C208,-490.1745 208,-480.7679 208,-471.8786\" fill=\"none\" stroke=\"#000000\"/>\n<polygon fill=\"#000000\" points=\"211.5001,-471.784 208,-461.784 204.5001,-471.784 211.5001,-471.784\" stroke=\"#000000\"/>\n</g>\n<!-- 140237937045344 -->\n<g class=\"node\" id=\"node29\">\n<title>140237937045344</title>\n<polygon fill=\"none\" points=\"58.5,-332.5 58.5,-378.5 357.5,-378.5 357.5,-332.5 58.5,-332.5\" stroke=\"#000000\"/>\n<text fill=\"#000000\" font-family=\"Times,serif\" font-size=\"14.00\" text-anchor=\"middle\" x=\"135.5\" y=\"-351.8\">activation_7: Activation</text>\n<polyline fill=\"none\" points=\"212.5,-332.5 212.5,-378.5 \" stroke=\"#000000\"/>\n<text fill=\"#000000\" font-family=\"Times,serif\" font-size=\"14.00\" text-anchor=\"middle\" x=\"241.5\" y=\"-363.3\">input:</text>\n<polyline fill=\"none\" points=\"212.5,-355.5 270.5,-355.5 \" stroke=\"#000000\"/>\n<text fill=\"#000000\" font-family=\"Times,serif\" font-size=\"14.00\" text-anchor=\"middle\" x=\"241.5\" y=\"-340.3\">output:</text>\n<polyline fill=\"none\" points=\"270.5,-332.5 270.5,-378.5 \" stroke=\"#000000\"/>\n<text fill=\"#000000\" font-family=\"Times,serif\" font-size=\"14.00\" text-anchor=\"middle\" x=\"314\" y=\"-363.3\">(None, 800)</text>\n<polyline fill=\"none\" points=\"270.5,-355.5 357.5,-355.5 \" stroke=\"#000000\"/>\n<text fill=\"#000000\" font-family=\"Times,serif\" font-size=\"14.00\" text-anchor=\"middle\" x=\"314\" y=\"-340.3\">(None, 800)</text>\n</g>\n<!-- 140237937809504&#45;&gt;140237937045344 -->\n<g class=\"edge\" id=\"edge28\">\n<title>140237937809504-&gt;140237937045344</title>\n<path d=\"M208,-415.3799C208,-407.1745 208,-397.7679 208,-388.8786\" fill=\"none\" stroke=\"#000000\"/>\n<polygon fill=\"#000000\" points=\"211.5001,-388.784 208,-378.784 204.5001,-388.784 211.5001,-388.784\" stroke=\"#000000\"/>\n</g>\n<!-- 140237937071328 -->\n<g class=\"node\" id=\"node30\">\n<title>140237937071328</title>\n<polygon fill=\"none\" points=\"78.5,-249.5 78.5,-295.5 337.5,-295.5 337.5,-249.5 78.5,-249.5\" stroke=\"#000000\"/>\n<text fill=\"#000000\" font-family=\"Times,serif\" font-size=\"14.00\" text-anchor=\"middle\" x=\"135.5\" y=\"-268.8\">dense_15: Dense</text>\n<polyline fill=\"none\" points=\"192.5,-249.5 192.5,-295.5 \" stroke=\"#000000\"/>\n<text fill=\"#000000\" font-family=\"Times,serif\" font-size=\"14.00\" text-anchor=\"middle\" x=\"221.5\" y=\"-280.3\">input:</text>\n<polyline fill=\"none\" points=\"192.5,-272.5 250.5,-272.5 \" stroke=\"#000000\"/>\n<text fill=\"#000000\" font-family=\"Times,serif\" font-size=\"14.00\" text-anchor=\"middle\" x=\"221.5\" y=\"-257.3\">output:</text>\n<polyline fill=\"none\" points=\"250.5,-249.5 250.5,-295.5 \" stroke=\"#000000\"/>\n<text fill=\"#000000\" font-family=\"Times,serif\" font-size=\"14.00\" text-anchor=\"middle\" x=\"294\" y=\"-280.3\">(None, 800)</text>\n<polyline fill=\"none\" points=\"250.5,-272.5 337.5,-272.5 \" stroke=\"#000000\"/>\n<text fill=\"#000000\" font-family=\"Times,serif\" font-size=\"14.00\" text-anchor=\"middle\" x=\"294\" y=\"-257.3\">(None, 800)</text>\n</g>\n<!-- 140237937045344&#45;&gt;140237937071328 -->\n<g class=\"edge\" id=\"edge29\">\n<title>140237937045344-&gt;140237937071328</title>\n<path d=\"M208,-332.3799C208,-324.1745 208,-314.7679 208,-305.8786\" fill=\"none\" stroke=\"#000000\"/>\n<polygon fill=\"#000000\" points=\"211.5001,-305.784 208,-295.784 204.5001,-305.784 211.5001,-305.784\" stroke=\"#000000\"/>\n</g>\n<!-- 140237937174512 -->\n<g class=\"node\" id=\"node31\">\n<title>140237937174512</title>\n<polygon fill=\"none\" points=\"78.5,-166.5 78.5,-212.5 337.5,-212.5 337.5,-166.5 78.5,-166.5\" stroke=\"#000000\"/>\n<text fill=\"#000000\" font-family=\"Times,serif\" font-size=\"14.00\" text-anchor=\"middle\" x=\"135.5\" y=\"-185.8\">dense_16: Dense</text>\n<polyline fill=\"none\" points=\"192.5,-166.5 192.5,-212.5 \" stroke=\"#000000\"/>\n<text fill=\"#000000\" font-family=\"Times,serif\" font-size=\"14.00\" text-anchor=\"middle\" x=\"221.5\" y=\"-197.3\">input:</text>\n<polyline fill=\"none\" points=\"192.5,-189.5 250.5,-189.5 \" stroke=\"#000000\"/>\n<text fill=\"#000000\" font-family=\"Times,serif\" font-size=\"14.00\" text-anchor=\"middle\" x=\"221.5\" y=\"-174.3\">output:</text>\n<polyline fill=\"none\" points=\"250.5,-166.5 250.5,-212.5 \" stroke=\"#000000\"/>\n<text fill=\"#000000\" font-family=\"Times,serif\" font-size=\"14.00\" text-anchor=\"middle\" x=\"294\" y=\"-197.3\">(None, 800)</text>\n<polyline fill=\"none\" points=\"250.5,-189.5 337.5,-189.5 \" stroke=\"#000000\"/>\n<text fill=\"#000000\" font-family=\"Times,serif\" font-size=\"14.00\" text-anchor=\"middle\" x=\"294\" y=\"-174.3\">(None, 800)</text>\n</g>\n<!-- 140237937071328&#45;&gt;140237937174512 -->\n<g class=\"edge\" id=\"edge30\">\n<title>140237937071328-&gt;140237937174512</title>\n<path d=\"M208,-249.3799C208,-241.1745 208,-231.7679 208,-222.8786\" fill=\"none\" stroke=\"#000000\"/>\n<polygon fill=\"#000000\" points=\"211.5001,-222.784 208,-212.784 204.5001,-222.784 211.5001,-222.784\" stroke=\"#000000\"/>\n</g>\n<!-- 140237936834880 -->\n<g class=\"node\" id=\"node32\">\n<title>140237936834880</title>\n<polygon fill=\"none\" points=\"58.5,-83.5 58.5,-129.5 357.5,-129.5 357.5,-83.5 58.5,-83.5\" stroke=\"#000000\"/>\n<text fill=\"#000000\" font-family=\"Times,serif\" font-size=\"14.00\" text-anchor=\"middle\" x=\"135.5\" y=\"-102.8\">activation_8: Activation</text>\n<polyline fill=\"none\" points=\"212.5,-83.5 212.5,-129.5 \" stroke=\"#000000\"/>\n<text fill=\"#000000\" font-family=\"Times,serif\" font-size=\"14.00\" text-anchor=\"middle\" x=\"241.5\" y=\"-114.3\">input:</text>\n<polyline fill=\"none\" points=\"212.5,-106.5 270.5,-106.5 \" stroke=\"#000000\"/>\n<text fill=\"#000000\" font-family=\"Times,serif\" font-size=\"14.00\" text-anchor=\"middle\" x=\"241.5\" y=\"-91.3\">output:</text>\n<polyline fill=\"none\" points=\"270.5,-83.5 270.5,-129.5 \" stroke=\"#000000\"/>\n<text fill=\"#000000\" font-family=\"Times,serif\" font-size=\"14.00\" text-anchor=\"middle\" x=\"314\" y=\"-114.3\">(None, 800)</text>\n<polyline fill=\"none\" points=\"270.5,-106.5 357.5,-106.5 \" stroke=\"#000000\"/>\n<text fill=\"#000000\" font-family=\"Times,serif\" font-size=\"14.00\" text-anchor=\"middle\" x=\"314\" y=\"-91.3\">(None, 800)</text>\n</g>\n<!-- 140237937174512&#45;&gt;140237936834880 -->\n<g class=\"edge\" id=\"edge31\">\n<title>140237937174512-&gt;140237936834880</title>\n<path d=\"M208,-166.3799C208,-158.1745 208,-148.7679 208,-139.8786\" fill=\"none\" stroke=\"#000000\"/>\n<polygon fill=\"#000000\" points=\"211.5001,-139.784 208,-129.784 204.5001,-139.784 211.5001,-139.784\" stroke=\"#000000\"/>\n</g>\n<!-- 140237936836168 -->\n<g class=\"node\" id=\"node33\">\n<title>140237936836168</title>\n<polygon fill=\"none\" points=\"78.5,-.5 78.5,-46.5 337.5,-46.5 337.5,-.5 78.5,-.5\" stroke=\"#000000\"/>\n<text fill=\"#000000\" font-family=\"Times,serif\" font-size=\"14.00\" text-anchor=\"middle\" x=\"135.5\" y=\"-19.8\">dense_17: Dense</text>\n<polyline fill=\"none\" points=\"192.5,-.5 192.5,-46.5 \" stroke=\"#000000\"/>\n<text fill=\"#000000\" font-family=\"Times,serif\" font-size=\"14.00\" text-anchor=\"middle\" x=\"221.5\" y=\"-31.3\">input:</text>\n<polyline fill=\"none\" points=\"192.5,-23.5 250.5,-23.5 \" stroke=\"#000000\"/>\n<text fill=\"#000000\" font-family=\"Times,serif\" font-size=\"14.00\" text-anchor=\"middle\" x=\"221.5\" y=\"-8.3\">output:</text>\n<polyline fill=\"none\" points=\"250.5,-.5 250.5,-46.5 \" stroke=\"#000000\"/>\n<text fill=\"#000000\" font-family=\"Times,serif\" font-size=\"14.00\" text-anchor=\"middle\" x=\"294\" y=\"-31.3\">(None, 800)</text>\n<polyline fill=\"none\" points=\"250.5,-23.5 337.5,-23.5 \" stroke=\"#000000\"/>\n<text fill=\"#000000\" font-family=\"Times,serif\" font-size=\"14.00\" text-anchor=\"middle\" x=\"294\" y=\"-8.3\">(None, 4)</text>\n</g>\n<!-- 140237936834880&#45;&gt;140237936836168 -->\n<g class=\"edge\" id=\"edge32\">\n<title>140237936834880-&gt;140237936836168</title>\n<path d=\"M208,-83.3799C208,-75.1745 208,-65.7679 208,-56.8786\" fill=\"none\" stroke=\"#000000\"/>\n<polygon fill=\"#000000\" points=\"211.5001,-56.784 208,-46.784 204.5001,-56.784 211.5001,-56.784\" stroke=\"#000000\"/>\n</g>\n</g>\n</svg>"
          },
          "metadata": {
            "tags": []
          },
          "execution_count": 11
        }
      ]
    },
    {
      "cell_type": "code",
      "metadata": {
        "id": "PtD82zROogDP",
        "colab_type": "code",
        "outputId": "82a24ad0-eaee-431a-d1bf-678350adb684",
        "colab": {
          "base_uri": "https://localhost:8080/",
          "height": 279
        }
      },
      "source": [
        "# 학습 과정\n",
        "\n",
        "%matplotlib inline\n",
        "import matplotlib.pyplot as plt\n",
        "\n",
        "fig, loss_ax = plt.subplots()\n",
        "\n",
        "acc_ax = loss_ax.twinx()\n",
        "\n",
        "loss_ax.plot(hist.history['loss'], 'y', label='train loss')\n",
        "loss_ax.plot(hist.history['val_loss'], 'r', label='val loss')\n",
        "\n",
        "acc_ax.plot(hist.history['acc'], 'b', label='train acc')\n",
        "acc_ax.plot(hist.history['val_acc'], 'g', label='val acc')\n",
        "\n",
        "loss_ax.set_xlabel('epoch')\n",
        "loss_ax.set_ylabel('loss')\n",
        "acc_ax.set_ylabel('mean absolute error')\n",
        "\n",
        "loss_ax.legend(loc='upper left')\n",
        "acc_ax.legend(loc='lower left')\n",
        "\n",
        "plt.show()"
      ],
      "execution_count": 0,
      "outputs": [
        {
          "output_type": "display_data",
          "data": {
            "image/png": "[encoded data removed]",
            "text/plain": [
              "<Figure size 432x288 with 2 Axes>"
            ]
          },
          "metadata": {
            "tags": []
          }
        }
      ]
    },
    {
      "cell_type": "code",
      "metadata": {
        "id": "XRMuL2mFogIP",
        "colab_type": "code",
        "colab": {}
      },
      "source": [
        "# 예측값을 생성합니다.\n",
        "\n",
        "pred_test = model.predict(test_X)"
      ],
      "execution_count": 0,
      "outputs": []
    },
    {
      "cell_type": "code",
      "metadata": {
        "id": "uv6yp_Hzoq4Q",
        "colab_type": "code",
        "colab": {}
      },
      "source": [
        "# submission 파일을 생성합니다.\n",
        "sample_sub = pd.read_csv('/gdrive/My Drive/DACON-semiconductor-competition/dataset/sample_submission.csv', index_col=0)\n",
        "submission = sample_sub+pred_test\n",
        "submission.to_csv('/gdrive/My Drive/DACON-semiconductor-competition/submission_18.csv')"
      ],
      "execution_count": 0,
      "outputs": []
    },
    {
      "cell_type": "code",
      "metadata": {
        "id": "Jz6dWCiWpE-K",
        "colab_type": "code",
        "colab": {}
      },
      "source": [
        "# 학습된 모델을 저장합니다.\n",
        "\n",
        "model.save('/gdrive/My Drive/DACON-semiconductor-competition/model_18.h5')"
      ],
      "execution_count": 0,
      "outputs": []
    },
    {
      "cell_type": "markdown",
      "metadata": {
        "id": "L3IaqhJqmV_5",
        "colab_type": "text"
      },
      "source": [
        "### Bayesian Optimization\n",
        "http://research.sualab.com/introduction/practice/2019/02/19/bayesian-optimization-overview-1.html<br>\n",
        "http://research.sualab.com/introduction/practice/2019/04/01/bayesian-optimization-overview-2.html<br>"
      ]
    },
    {
      "cell_type": "markdown",
      "metadata": {
        "id": "RNwDuaRWmWg4",
        "colab_type": "text"
      },
      "source": [
        "### Swish Activation\n",
        "https://www.machinecurve.com/index.php/2019/05/30/why-swish-could-perform-better-than-relu/#todays-activation-functions"
      ]
    }
  ]
}